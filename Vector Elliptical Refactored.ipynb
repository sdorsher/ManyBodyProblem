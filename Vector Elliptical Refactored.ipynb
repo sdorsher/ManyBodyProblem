{
 "cells": [
  {
   "cell_type": "code",
   "execution_count": 1,
   "metadata": {},
   "outputs": [],
   "source": [
    "import math\n",
    "import numpy as np"
   ]
  },
  {
   "cell_type": "code",
   "execution_count": 2,
   "metadata": {},
   "outputs": [],
   "source": [
    "import ellipsefns\n",
    "#getfocus, getsemiminor, theoreticalx, theoreticaly"
   ]
  },
  {
   "cell_type": "code",
   "execution_count": 3,
   "metadata": {},
   "outputs": [],
   "source": [
    "import initdat"
   ]
  },
  {
   "cell_type": "code",
   "execution_count": 4,
   "metadata": {},
   "outputs": [
    {
     "name": "stdout",
     "output_type": "stream",
     "text": [
      "angle 0.5235987755982988\n",
      "0.9\n",
      "(array([3.66519143, 0.52359878]), 0.5235987755982988, 50, 0.9, array([1., 1.]))\n"
     ]
    }
   ],
   "source": [
    "\n",
    "rad0=50\n",
    "ecc0=0.9\n",
    "theta0=math.pi/6. #math.pi/6.\n",
    "mass0=1.0\n",
    "initdateqellipse=initdat.InitialDataEqualMassConic(rad0,ecc0,theta0,mass0)\n",
    "print(initdateqellipse)"
   ]
  },
  {
   "cell_type": "markdown",
   "metadata": {},
   "source": [
    "VERIFIED FOR THETA=-45,45,135,180,90,30,-30. VERIFIED FOR ECC =0.001, 0.1,0.5, 0.7, 0.9, 0.95 VERIFIED FOR RAD0=50,75 100 "
   ]
  },
  {
   "cell_type": "code",
   "execution_count": 5,
   "metadata": {},
   "outputs": [],
   "source": [
    "import getxyuvtwoellipse"
   ]
  },
  {
   "cell_type": "code",
   "execution_count": null,
   "metadata": {},
   "outputs": [],
   "source": []
  },
  {
   "cell_type": "code",
   "execution_count": 6,
   "metadata": {},
   "outputs": [
    {
     "name": "stdout",
     "output_type": "stream",
     "text": [
      "initdat 50 [3.66519143 0.52359878] 0.9 [-0.8660254  0.8660254] [-0.5  0.5]\n",
      "coordsep 50\n",
      "[-43.30127019  43.30127019]\n",
      "[-25.  25.]\n",
      "(array([1., 1.]), array([[-8.22724134e+01, -4.75000000e+01,  0.00000000e+00,\n",
      "         8.11107106e-03, -1.40487872e-02,  0.00000000e+00],\n",
      "       [ 8.22724134e+01,  4.75000000e+01,  0.00000000e+00,\n",
      "        -8.11107106e-03,  1.40487872e-02,  0.00000000e+00]]), array([[ 2.39896234e-05,  1.38504155e-05,  0.00000000e+00],\n",
      "       [-2.39896234e-05, -1.38504155e-05,  0.00000000e+00]]))\n"
     ]
    }
   ],
   "source": [
    "xyuvaeqellipse=getxyuvtwoellipse.getxyuveqtwoellipses(initdateqellipse)\n",
    "print(xyuvaeqellipse)\n",
    "masses,xvec,avec=xyuvaeqellipse"
   ]
  },
  {
   "cell_type": "code",
   "execution_count": 7,
   "metadata": {},
   "outputs": [],
   "source": [
    "import RK4implicit"
   ]
  },
  {
   "cell_type": "code",
   "execution_count": 8,
   "metadata": {},
   "outputs": [],
   "source": [
    "import OrbitDiffEq"
   ]
  },
  {
   "cell_type": "code",
   "execution_count": null,
   "metadata": {},
   "outputs": [],
   "source": []
  },
  {
   "cell_type": "code",
   "execution_count": 9,
   "metadata": {},
   "outputs": [
    {
     "name": "stdout",
     "output_type": "stream",
     "text": [
      "[1. 1.] [[-8.22724134e+01 -4.75000000e+01  0.00000000e+00  8.11107106e-03\n",
      "  -1.40487872e-02  0.00000000e+00]\n",
      " [ 8.22724134e+01  4.75000000e+01  0.00000000e+00 -8.11107106e-03\n",
      "   1.40487872e-02  0.00000000e+00]] 0.0\n",
      "[1. 1.] [[-8.22724134e+01 -4.75000000e+01  0.00000000e+00  8.11107106e-03\n",
      "  -1.40487872e-02  0.00000000e+00]\n",
      " [ 8.22724134e+01  4.75000000e+01  0.00000000e+00 -8.11107106e-03\n",
      "   1.40487872e-02  0.00000000e+00]] 0.0\n"
     ]
    },
    {
     "data": {
      "text/plain": [
       "<OrbitDiffEq.OrbitDiffEq at 0x1072fc150>"
      ]
     },
     "execution_count": 9,
     "metadata": {},
     "output_type": "execute_result"
    }
   ],
   "source": [
    "masses, xvec,avec=xyuvaeqellipse\n",
    "ODEeq= OrbitDiffEq.OrbitDiffEq(masses,xvec,avec,0.0)\n",
    "ODEeq.print2D()\n",
    "ODEeq.print2D()"
   ]
  },
  {
   "cell_type": "code",
   "execution_count": 10,
   "metadata": {},
   "outputs": [
    {
     "name": "stdout",
     "output_type": "stream",
     "text": [
      "(array([1., 1.]), array([[-8.22724134e+01, -4.75000000e+01,  0.00000000e+00,\n",
      "         8.11107106e-03, -1.40487872e-02,  0.00000000e+00],\n",
      "       [ 8.22724134e+01,  4.75000000e+01,  0.00000000e+00,\n",
      "        -8.11107106e-03,  1.40487872e-02,  0.00000000e+00]]), array([[ 2.39896234e-05,  1.38504155e-05,  0.00000000e+00],\n",
      "       [-2.39896234e-05, -1.38504155e-05,  0.00000000e+00]]))\n"
     ]
    }
   ],
   "source": [
    "print(xyuvaeqellipse)"
   ]
  },
  {
   "cell_type": "code",
   "execution_count": 11,
   "metadata": {},
   "outputs": [],
   "source": [
    "import timestep"
   ]
  },
  {
   "cell_type": "code",
   "execution_count": 12,
   "metadata": {},
   "outputs": [],
   "source": [
    "numsteps=6000\n",
    "dt=1\n",
    "outputevery=20\n",
    "nptimes, npstar1x, npstar2x, npstar1a, npstar2a= timestep.timestep(numsteps,dt,xyuvaeqellipse,outputevery)"
   ]
  },
  {
   "cell_type": "code",
   "execution_count": 13,
   "metadata": {},
   "outputs": [
    {
     "data": {
      "text/html": [
       "\n",
       "    <div class=\"bk-root\">\n",
       "        <a href=\"https://bokeh.pydata.org\" target=\"_blank\" class=\"bk-logo bk-logo-small bk-logo-notebook\"></a>\n",
       "        <span id=\"1001\">Loading BokehJS ...</span>\n",
       "    </div>"
      ]
     },
     "metadata": {},
     "output_type": "display_data"
    },
    {
     "data": {
      "application/javascript": [
       "\n",
       "(function(root) {\n",
       "  function now() {\n",
       "    return new Date();\n",
       "  }\n",
       "\n",
       "  var force = true;\n",
       "\n",
       "  if (typeof root._bokeh_onload_callbacks === \"undefined\" || force === true) {\n",
       "    root._bokeh_onload_callbacks = [];\n",
       "    root._bokeh_is_loading = undefined;\n",
       "  }\n",
       "\n",
       "  var JS_MIME_TYPE = 'application/javascript';\n",
       "  var HTML_MIME_TYPE = 'text/html';\n",
       "  var EXEC_MIME_TYPE = 'application/vnd.bokehjs_exec.v0+json';\n",
       "  var CLASS_NAME = 'output_bokeh rendered_html';\n",
       "\n",
       "  /**\n",
       "   * Render data to the DOM node\n",
       "   */\n",
       "  function render(props, node) {\n",
       "    var script = document.createElement(\"script\");\n",
       "    node.appendChild(script);\n",
       "  }\n",
       "\n",
       "  /**\n",
       "   * Handle when an output is cleared or removed\n",
       "   */\n",
       "  function handleClearOutput(event, handle) {\n",
       "    var cell = handle.cell;\n",
       "\n",
       "    var id = cell.output_area._bokeh_element_id;\n",
       "    var server_id = cell.output_area._bokeh_server_id;\n",
       "    // Clean up Bokeh references\n",
       "    if (id != null && id in Bokeh.index) {\n",
       "      Bokeh.index[id].model.document.clear();\n",
       "      delete Bokeh.index[id];\n",
       "    }\n",
       "\n",
       "    if (server_id !== undefined) {\n",
       "      // Clean up Bokeh references\n",
       "      var cmd = \"from bokeh.io.state import curstate; print(curstate().uuid_to_server['\" + server_id + \"'].get_sessions()[0].document.roots[0]._id)\";\n",
       "      cell.notebook.kernel.execute(cmd, {\n",
       "        iopub: {\n",
       "          output: function(msg) {\n",
       "            var id = msg.content.text.trim();\n",
       "            if (id in Bokeh.index) {\n",
       "              Bokeh.index[id].model.document.clear();\n",
       "              delete Bokeh.index[id];\n",
       "            }\n",
       "          }\n",
       "        }\n",
       "      });\n",
       "      // Destroy server and session\n",
       "      var cmd = \"import bokeh.io.notebook as ion; ion.destroy_server('\" + server_id + \"')\";\n",
       "      cell.notebook.kernel.execute(cmd);\n",
       "    }\n",
       "  }\n",
       "\n",
       "  /**\n",
       "   * Handle when a new output is added\n",
       "   */\n",
       "  function handleAddOutput(event, handle) {\n",
       "    var output_area = handle.output_area;\n",
       "    var output = handle.output;\n",
       "\n",
       "    // limit handleAddOutput to display_data with EXEC_MIME_TYPE content only\n",
       "    if ((output.output_type != \"display_data\") || (!output.data.hasOwnProperty(EXEC_MIME_TYPE))) {\n",
       "      return\n",
       "    }\n",
       "\n",
       "    var toinsert = output_area.element.find(\".\" + CLASS_NAME.split(' ')[0]);\n",
       "\n",
       "    if (output.metadata[EXEC_MIME_TYPE][\"id\"] !== undefined) {\n",
       "      toinsert[toinsert.length - 1].firstChild.textContent = output.data[JS_MIME_TYPE];\n",
       "      // store reference to embed id on output_area\n",
       "      output_area._bokeh_element_id = output.metadata[EXEC_MIME_TYPE][\"id\"];\n",
       "    }\n",
       "    if (output.metadata[EXEC_MIME_TYPE][\"server_id\"] !== undefined) {\n",
       "      var bk_div = document.createElement(\"div\");\n",
       "      bk_div.innerHTML = output.data[HTML_MIME_TYPE];\n",
       "      var script_attrs = bk_div.children[0].attributes;\n",
       "      for (var i = 0; i < script_attrs.length; i++) {\n",
       "        toinsert[toinsert.length - 1].firstChild.setAttribute(script_attrs[i].name, script_attrs[i].value);\n",
       "      }\n",
       "      // store reference to server id on output_area\n",
       "      output_area._bokeh_server_id = output.metadata[EXEC_MIME_TYPE][\"server_id\"];\n",
       "    }\n",
       "  }\n",
       "\n",
       "  function register_renderer(events, OutputArea) {\n",
       "\n",
       "    function append_mime(data, metadata, element) {\n",
       "      // create a DOM node to render to\n",
       "      var toinsert = this.create_output_subarea(\n",
       "        metadata,\n",
       "        CLASS_NAME,\n",
       "        EXEC_MIME_TYPE\n",
       "      );\n",
       "      this.keyboard_manager.register_events(toinsert);\n",
       "      // Render to node\n",
       "      var props = {data: data, metadata: metadata[EXEC_MIME_TYPE]};\n",
       "      render(props, toinsert[toinsert.length - 1]);\n",
       "      element.append(toinsert);\n",
       "      return toinsert\n",
       "    }\n",
       "\n",
       "    /* Handle when an output is cleared or removed */\n",
       "    events.on('clear_output.CodeCell', handleClearOutput);\n",
       "    events.on('delete.Cell', handleClearOutput);\n",
       "\n",
       "    /* Handle when a new output is added */\n",
       "    events.on('output_added.OutputArea', handleAddOutput);\n",
       "\n",
       "    /**\n",
       "     * Register the mime type and append_mime function with output_area\n",
       "     */\n",
       "    OutputArea.prototype.register_mime_type(EXEC_MIME_TYPE, append_mime, {\n",
       "      /* Is output safe? */\n",
       "      safe: true,\n",
       "      /* Index of renderer in `output_area.display_order` */\n",
       "      index: 0\n",
       "    });\n",
       "  }\n",
       "\n",
       "  // register the mime type if in Jupyter Notebook environment and previously unregistered\n",
       "  if (root.Jupyter !== undefined) {\n",
       "    var events = require('base/js/events');\n",
       "    var OutputArea = require('notebook/js/outputarea').OutputArea;\n",
       "\n",
       "    if (OutputArea.prototype.mime_types().indexOf(EXEC_MIME_TYPE) == -1) {\n",
       "      register_renderer(events, OutputArea);\n",
       "    }\n",
       "  }\n",
       "\n",
       "  \n",
       "  if (typeof (root._bokeh_timeout) === \"undefined\" || force === true) {\n",
       "    root._bokeh_timeout = Date.now() + 5000;\n",
       "    root._bokeh_failed_load = false;\n",
       "  }\n",
       "\n",
       "  var NB_LOAD_WARNING = {'data': {'text/html':\n",
       "     \"<div style='background-color: #fdd'>\\n\"+\n",
       "     \"<p>\\n\"+\n",
       "     \"BokehJS does not appear to have successfully loaded. If loading BokehJS from CDN, this \\n\"+\n",
       "     \"may be due to a slow or bad network connection. Possible fixes:\\n\"+\n",
       "     \"</p>\\n\"+\n",
       "     \"<ul>\\n\"+\n",
       "     \"<li>re-rerun `output_notebook()` to attempt to load from CDN again, or</li>\\n\"+\n",
       "     \"<li>use INLINE resources instead, as so:</li>\\n\"+\n",
       "     \"</ul>\\n\"+\n",
       "     \"<code>\\n\"+\n",
       "     \"from bokeh.resources import INLINE\\n\"+\n",
       "     \"output_notebook(resources=INLINE)\\n\"+\n",
       "     \"</code>\\n\"+\n",
       "     \"</div>\"}};\n",
       "\n",
       "  function display_loaded() {\n",
       "    var el = document.getElementById(\"1001\");\n",
       "    if (el != null) {\n",
       "      el.textContent = \"BokehJS is loading...\";\n",
       "    }\n",
       "    if (root.Bokeh !== undefined) {\n",
       "      if (el != null) {\n",
       "        el.textContent = \"BokehJS \" + root.Bokeh.version + \" successfully loaded.\";\n",
       "      }\n",
       "    } else if (Date.now() < root._bokeh_timeout) {\n",
       "      setTimeout(display_loaded, 100)\n",
       "    }\n",
       "  }\n",
       "\n",
       "\n",
       "  function run_callbacks() {\n",
       "    try {\n",
       "      root._bokeh_onload_callbacks.forEach(function(callback) {\n",
       "        if (callback != null)\n",
       "          callback();\n",
       "      });\n",
       "    } finally {\n",
       "      delete root._bokeh_onload_callbacks\n",
       "    }\n",
       "    console.debug(\"Bokeh: all callbacks have finished\");\n",
       "  }\n",
       "\n",
       "  function load_libs(css_urls, js_urls, callback) {\n",
       "    if (css_urls == null) css_urls = [];\n",
       "    if (js_urls == null) js_urls = [];\n",
       "\n",
       "    root._bokeh_onload_callbacks.push(callback);\n",
       "    if (root._bokeh_is_loading > 0) {\n",
       "      console.debug(\"Bokeh: BokehJS is being loaded, scheduling callback at\", now());\n",
       "      return null;\n",
       "    }\n",
       "    if (js_urls == null || js_urls.length === 0) {\n",
       "      run_callbacks();\n",
       "      return null;\n",
       "    }\n",
       "    console.debug(\"Bokeh: BokehJS not loaded, scheduling load and callback at\", now());\n",
       "    root._bokeh_is_loading = css_urls.length + js_urls.length;\n",
       "\n",
       "    function on_load() {\n",
       "      root._bokeh_is_loading--;\n",
       "      if (root._bokeh_is_loading === 0) {\n",
       "        console.debug(\"Bokeh: all BokehJS libraries/stylesheets loaded\");\n",
       "        run_callbacks()\n",
       "      }\n",
       "    }\n",
       "\n",
       "    function on_error() {\n",
       "      console.error(\"failed to load \" + url);\n",
       "    }\n",
       "\n",
       "    for (var i = 0; i < css_urls.length; i++) {\n",
       "      var url = css_urls[i];\n",
       "      const element = document.createElement(\"link\");\n",
       "      element.onload = on_load;\n",
       "      element.onerror = on_error;\n",
       "      element.rel = \"stylesheet\";\n",
       "      element.type = \"text/css\";\n",
       "      element.href = url;\n",
       "      console.debug(\"Bokeh: injecting link tag for BokehJS stylesheet: \", url);\n",
       "      document.body.appendChild(element);\n",
       "    }\n",
       "\n",
       "    for (var i = 0; i < js_urls.length; i++) {\n",
       "      var url = js_urls[i];\n",
       "      var element = document.createElement('script');\n",
       "      element.onload = on_load;\n",
       "      element.onerror = on_error;\n",
       "      element.async = false;\n",
       "      element.src = url;\n",
       "      console.debug(\"Bokeh: injecting script tag for BokehJS library: \", url);\n",
       "      document.head.appendChild(element);\n",
       "    }\n",
       "  };var element = document.getElementById(\"1001\");\n",
       "  if (element == null) {\n",
       "    console.error(\"Bokeh: ERROR: autoload.js configured with elementid '1001' but no matching script tag was found. \")\n",
       "    return false;\n",
       "  }\n",
       "\n",
       "  function inject_raw_css(css) {\n",
       "    const element = document.createElement(\"style\");\n",
       "    element.appendChild(document.createTextNode(css));\n",
       "    document.body.appendChild(element);\n",
       "  }\n",
       "\n",
       "  var js_urls = [\"https://cdn.pydata.org/bokeh/release/bokeh-1.3.4.min.js\", \"https://cdn.pydata.org/bokeh/release/bokeh-widgets-1.3.4.min.js\", \"https://cdn.pydata.org/bokeh/release/bokeh-tables-1.3.4.min.js\", \"https://cdn.pydata.org/bokeh/release/bokeh-gl-1.3.4.min.js\"];\n",
       "  var css_urls = [];\n",
       "\n",
       "  var inline_js = [\n",
       "    function(Bokeh) {\n",
       "      Bokeh.set_log_level(\"info\");\n",
       "    },\n",
       "    \n",
       "    function(Bokeh) {\n",
       "      \n",
       "    },\n",
       "    function(Bokeh) {} // ensure no trailing comma for IE\n",
       "  ];\n",
       "\n",
       "  function run_inline_js() {\n",
       "    \n",
       "    if ((root.Bokeh !== undefined) || (force === true)) {\n",
       "      for (var i = 0; i < inline_js.length; i++) {\n",
       "        inline_js[i].call(root, root.Bokeh);\n",
       "      }if (force === true) {\n",
       "        display_loaded();\n",
       "      }} else if (Date.now() < root._bokeh_timeout) {\n",
       "      setTimeout(run_inline_js, 100);\n",
       "    } else if (!root._bokeh_failed_load) {\n",
       "      console.log(\"Bokeh: BokehJS failed to load within specified timeout.\");\n",
       "      root._bokeh_failed_load = true;\n",
       "    } else if (force !== true) {\n",
       "      var cell = $(document.getElementById(\"1001\")).parents('.cell').data().cell;\n",
       "      cell.output_area.append_execute_result(NB_LOAD_WARNING)\n",
       "    }\n",
       "\n",
       "  }\n",
       "\n",
       "  if (root._bokeh_is_loading === 0) {\n",
       "    console.debug(\"Bokeh: BokehJS loaded, going straight to plotting\");\n",
       "    run_inline_js();\n",
       "  } else {\n",
       "    load_libs(css_urls, js_urls, function() {\n",
       "      console.debug(\"Bokeh: BokehJS plotting callback run at\", now());\n",
       "      run_inline_js();\n",
       "    });\n",
       "  }\n",
       "}(window));"
      ],
      "application/vnd.bokehjs_load.v0+json": "\n(function(root) {\n  function now() {\n    return new Date();\n  }\n\n  var force = true;\n\n  if (typeof root._bokeh_onload_callbacks === \"undefined\" || force === true) {\n    root._bokeh_onload_callbacks = [];\n    root._bokeh_is_loading = undefined;\n  }\n\n  \n\n  \n  if (typeof (root._bokeh_timeout) === \"undefined\" || force === true) {\n    root._bokeh_timeout = Date.now() + 5000;\n    root._bokeh_failed_load = false;\n  }\n\n  var NB_LOAD_WARNING = {'data': {'text/html':\n     \"<div style='background-color: #fdd'>\\n\"+\n     \"<p>\\n\"+\n     \"BokehJS does not appear to have successfully loaded. If loading BokehJS from CDN, this \\n\"+\n     \"may be due to a slow or bad network connection. Possible fixes:\\n\"+\n     \"</p>\\n\"+\n     \"<ul>\\n\"+\n     \"<li>re-rerun `output_notebook()` to attempt to load from CDN again, or</li>\\n\"+\n     \"<li>use INLINE resources instead, as so:</li>\\n\"+\n     \"</ul>\\n\"+\n     \"<code>\\n\"+\n     \"from bokeh.resources import INLINE\\n\"+\n     \"output_notebook(resources=INLINE)\\n\"+\n     \"</code>\\n\"+\n     \"</div>\"}};\n\n  function display_loaded() {\n    var el = document.getElementById(\"1001\");\n    if (el != null) {\n      el.textContent = \"BokehJS is loading...\";\n    }\n    if (root.Bokeh !== undefined) {\n      if (el != null) {\n        el.textContent = \"BokehJS \" + root.Bokeh.version + \" successfully loaded.\";\n      }\n    } else if (Date.now() < root._bokeh_timeout) {\n      setTimeout(display_loaded, 100)\n    }\n  }\n\n\n  function run_callbacks() {\n    try {\n      root._bokeh_onload_callbacks.forEach(function(callback) {\n        if (callback != null)\n          callback();\n      });\n    } finally {\n      delete root._bokeh_onload_callbacks\n    }\n    console.debug(\"Bokeh: all callbacks have finished\");\n  }\n\n  function load_libs(css_urls, js_urls, callback) {\n    if (css_urls == null) css_urls = [];\n    if (js_urls == null) js_urls = [];\n\n    root._bokeh_onload_callbacks.push(callback);\n    if (root._bokeh_is_loading > 0) {\n      console.debug(\"Bokeh: BokehJS is being loaded, scheduling callback at\", now());\n      return null;\n    }\n    if (js_urls == null || js_urls.length === 0) {\n      run_callbacks();\n      return null;\n    }\n    console.debug(\"Bokeh: BokehJS not loaded, scheduling load and callback at\", now());\n    root._bokeh_is_loading = css_urls.length + js_urls.length;\n\n    function on_load() {\n      root._bokeh_is_loading--;\n      if (root._bokeh_is_loading === 0) {\n        console.debug(\"Bokeh: all BokehJS libraries/stylesheets loaded\");\n        run_callbacks()\n      }\n    }\n\n    function on_error() {\n      console.error(\"failed to load \" + url);\n    }\n\n    for (var i = 0; i < css_urls.length; i++) {\n      var url = css_urls[i];\n      const element = document.createElement(\"link\");\n      element.onload = on_load;\n      element.onerror = on_error;\n      element.rel = \"stylesheet\";\n      element.type = \"text/css\";\n      element.href = url;\n      console.debug(\"Bokeh: injecting link tag for BokehJS stylesheet: \", url);\n      document.body.appendChild(element);\n    }\n\n    for (var i = 0; i < js_urls.length; i++) {\n      var url = js_urls[i];\n      var element = document.createElement('script');\n      element.onload = on_load;\n      element.onerror = on_error;\n      element.async = false;\n      element.src = url;\n      console.debug(\"Bokeh: injecting script tag for BokehJS library: \", url);\n      document.head.appendChild(element);\n    }\n  };var element = document.getElementById(\"1001\");\n  if (element == null) {\n    console.error(\"Bokeh: ERROR: autoload.js configured with elementid '1001' but no matching script tag was found. \")\n    return false;\n  }\n\n  function inject_raw_css(css) {\n    const element = document.createElement(\"style\");\n    element.appendChild(document.createTextNode(css));\n    document.body.appendChild(element);\n  }\n\n  var js_urls = [\"https://cdn.pydata.org/bokeh/release/bokeh-1.3.4.min.js\", \"https://cdn.pydata.org/bokeh/release/bokeh-widgets-1.3.4.min.js\", \"https://cdn.pydata.org/bokeh/release/bokeh-tables-1.3.4.min.js\", \"https://cdn.pydata.org/bokeh/release/bokeh-gl-1.3.4.min.js\"];\n  var css_urls = [];\n\n  var inline_js = [\n    function(Bokeh) {\n      Bokeh.set_log_level(\"info\");\n    },\n    \n    function(Bokeh) {\n      \n    },\n    function(Bokeh) {} // ensure no trailing comma for IE\n  ];\n\n  function run_inline_js() {\n    \n    if ((root.Bokeh !== undefined) || (force === true)) {\n      for (var i = 0; i < inline_js.length; i++) {\n        inline_js[i].call(root, root.Bokeh);\n      }if (force === true) {\n        display_loaded();\n      }} else if (Date.now() < root._bokeh_timeout) {\n      setTimeout(run_inline_js, 100);\n    } else if (!root._bokeh_failed_load) {\n      console.log(\"Bokeh: BokehJS failed to load within specified timeout.\");\n      root._bokeh_failed_load = true;\n    } else if (force !== true) {\n      var cell = $(document.getElementById(\"1001\")).parents('.cell').data().cell;\n      cell.output_area.append_execute_result(NB_LOAD_WARNING)\n    }\n\n  }\n\n  if (root._bokeh_is_loading === 0) {\n    console.debug(\"Bokeh: BokehJS loaded, going straight to plotting\");\n    run_inline_js();\n  } else {\n    load_libs(css_urls, js_urls, function() {\n      console.debug(\"Bokeh: BokehJS plotting callback run at\", now());\n      run_inline_js();\n    });\n  }\n}(window));"
     },
     "metadata": {},
     "output_type": "display_data"
    },
    {
     "data": {
      "text/html": [
       "\n",
       "\n",
       "\n",
       "\n",
       "\n",
       "\n",
       "  <div class=\"bk-root\" id=\"5899ef9e-f839-4101-bf25-0a34b6974508\" data-root-id=\"1002\"></div>\n"
      ]
     },
     "metadata": {},
     "output_type": "display_data"
    },
    {
     "data": {
      "application/javascript": [
       "(function(root) {\n",
       "  function embed_document(root) {\n",
       "    \n",
       "  var docs_json = {\"571b39b3-afed-479b-899c-98e6a79dc3fb\":{\"roots\":{\"references\":[{\"attributes\":{\"below\":[{\"id\":\"1013\",\"type\":\"LinearAxis\"}],\"center\":[{\"id\":\"1017\",\"type\":\"Grid\"},{\"id\":\"1022\",\"type\":\"Grid\"},{\"id\":\"1047\",\"type\":\"Legend\"}],\"left\":[{\"id\":\"1018\",\"type\":\"LinearAxis\"}],\"plot_height\":400,\"plot_width\":400,\"renderers\":[{\"id\":\"1039\",\"type\":\"GlyphRenderer\"},{\"id\":\"1052\",\"type\":\"GlyphRenderer\"},{\"id\":\"1066\",\"type\":\"GlyphRenderer\"},{\"id\":\"1082\",\"type\":\"GlyphRenderer\"}],\"title\":{\"id\":\"1003\",\"type\":\"Title\"},\"toolbar\":{\"id\":\"1029\",\"type\":\"Toolbar\"},\"x_range\":{\"id\":\"1005\",\"type\":\"Range1d\"},\"x_scale\":{\"id\":\"1009\",\"type\":\"LinearScale\"},\"y_range\":{\"id\":\"1007\",\"type\":\"Range1d\"},\"y_scale\":{\"id\":\"1011\",\"type\":\"LinearScale\"}},\"id\":\"1002\",\"subtype\":\"Figure\",\"type\":\"Plot\"},{\"attributes\":{\"callback\":null,\"data\":{\"x\":{\"__ndarray__\":\"8C830QxSEUCGi8/bFmoMQNojh+1o0QRAIG9l68jD9z9wQ1Wh90vKP0qtNy3wtvO/mFjvReeSBsDTahwnOToSwJhx4g7luBnAQma0xd7eIMA230U/PyAlwJ/kHQAxnCnAt1rPtBROLsA9Byq3iZgxwAOslc8RIDTAGk9TJge7NsAou4Q3umY5wOBqeT1qIDzARh4tB0jlPsDAxNFuPNlAwAB0krqMQkLAAoCpcyCtQ8BKgoLZgRdFwI5naV87gEbA9ZKaLdnlR8AwmZCg6kZJwHV1BMUDokrAroEYz771S8DPdiuLvUBNwBFE18aqgU7A7p2nsDu3T8CT246WGHBQwKnO0I+s/VDAIRIH08eDUcAzDcki4AFSwIVP2INzd1LAomgdwwjkUsDJTZfyL0dTwNGEvNyCoFPAriTXbaXvU8AzEO8SRjRUwO6T4A0eblTADLlIvvGcVMCHIfzekMBUwNIRybfW2FTAT11RQ6rlVMAHMdVI/uZUwE4m1GnR3FTAxJB2Iy7HVMArk73DKqZUwGYghVLpeVTA+ptvbpdCVMA+Q98dbgBUwOnYLZSxs1PACCtf67BcU8Cy65bSxftSwN3ppTFUkVLApPYNwskdUsCqn+adnaFRwE1WF8VPHVHARpJlmWiRUMAu5b2j8PxPwP6PYMwsyk7As40F5cGLTcBXpgAp+EJMwDrRTYQi8UrAcgMzNp2XScAJIEVqzDdIwO0UQska00bA7Zs6A/hqRcBo+4xU1wBEwKx6NwculkLA0wIN8nEsQcDwJ7HuL4o/wEyX+QglwzzAIGw3KKAGOsC6DaFoc1c3wNtJASVjuDTA1WCHHCMsMsAxcGtTp2ovwGp8nBr+rCrAf+INoC0kJsAu93J74tQhwNZbmvIbhxvADtUjDcPoE8CEZ594Ka0JwLh8g+VrX/m/gEjXZO/RvL/o/sKSR0TzPyCZrwmI3wJAROjD+RbICkBRthzS1KkQQLcCx2jAPRNAECRL/iUdFUAi0nhmF0YWQLaS7IhitxZAQk+XnJJwFkAg3iCg8HEVQI1mqQ6DvBNA8y830QxSEUA=\",\"dtype\":\"float64\",\"shape\":[100]},\"y\":{\"__ndarray__\":\"AAAAAAAABEAoZohAlCwNQCiPHrzEwBJATCwReiR7FkA45geQkcEZQLTfdLmrkBxAdG44so3lHkBYCV8Z6F4gQNRnHTXGCyFAdI0/+q54IUAzjKskMqUhQG04/9EhkSFA+5XcsJI8IUDKBZjr26cgQG5bvJwtpx9AGnRcUjyBHUDguZbcGuAaQGQcHBx/xhdABneEIps3FECuIQbnGTcQQKLvG/02kgdAAE12bMPI+z+QnB5tcXXbPzipnIRtEO+/JLGo0G+oA8D2+tF7BhkQwNF1/yUDqhbAJe+iGmmAHcCYKEUAlkoiwKy0wJp/8CXAQyJGqi6uKcAmGFL7x38twMpdfumtsDDA5vbh/nSnMsAaDaj3MqI0wByjeXfdnjbAO3pKJmibOMByX9rMxpU6wGKpFHHvizzAgOAgcNx7PsBt9fxJxzFAwDXZMpGHIEHABAiX8TgJQsDAZMKN6+pCwHLNQ762xEPAxURzAbqVRMDGCN/iHV1FwNkHZNkUGkbA8MIMG9zLRsCENtxlvHFHwPjOtbwKC0jA962fFymXSMDRj6kGhxVJwHxk0EaihUnA/iFFSAfnScDKZYylUTlKwKAZ/IosfErAoW0sDlOvSsC9BAJ1kNJKwLoYCGzA5UrA3I7iK8/oSsCmY7GNudtKwGBpUA6NvkrACgBwwGeRSsCxG5UteFRKwMONICb9B0rAigSPgEWsScDTfzTIr0FJwFYAx9upyEjAaugcfLBBSMAMzZPLTq1HwENHpL4dDEfAjp02fsNeRsDozFq88qVFwL6AFPxp4kTAVtv4zPIURMBLfmj7YD5DwKkAPLaRX0LAuODDqmp5QcCq+AYY2YxAwCgHZ7ShNT/AHpd93pZIPcBqQW3rjVQ7wCZpm02KWznA1MFhmZRfN8DFaG5suGI1wPe0AlICZzPA1CA9pn1uMcC+XTf1ZPYuwODOxftGHivAMB0k05dYJ8CM7w7uOqkjwDLi37z8EyDA6JlIhh05GcCUkeqRB40SwEiX9q8wVQjAUOzOn5Jh+L8Ah7wspyu3vzCV91uDCvQ/+P//////A0A=\",\"dtype\":\"float64\",\"shape\":[100]}},\"selected\":{\"id\":\"1075\",\"type\":\"Selection\"},\"selection_policy\":{\"id\":\"1076\",\"type\":\"UnionRenderers\"}},\"id\":\"1049\",\"type\":\"ColumnDataSource\"},{\"attributes\":{},\"id\":\"1108\",\"type\":\"Selection\"},{\"attributes\":{\"source\":{\"id\":\"1036\",\"type\":\"ColumnDataSource\"}},\"id\":\"1040\",\"type\":\"CDSView\"},{\"attributes\":{\"source\":{\"id\":\"1049\",\"type\":\"ColumnDataSource\"}},\"id\":\"1053\",\"type\":\"CDSView\"},{\"attributes\":{\"callback\":null,\"data\":{\"x\":{\"__ndarray__\":\"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\",\"dtype\":\"float64\",\"shape\":[299]},\"y\":{\"__ndarray__\":\"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\",\"dtype\":\"float64\",\"shape\":[299]}},\"selected\":{\"id\":\"1108\",\"type\":\"Selection\"},\"selection_policy\":{\"id\":\"1109\",\"type\":\"UnionRenderers\"}},\"id\":\"1079\",\"type\":\"ColumnDataSource\"},{\"attributes\":{\"label\":{\"value\":\"Ideal Ellipse 1\"},\"renderers\":[{\"id\":\"1039\",\"type\":\"GlyphRenderer\"}]},\"id\":\"1048\",\"type\":\"LegendItem\"},{\"attributes\":{\"x\":{\"field\":\"x\"},\"y\":{\"field\":\"y\"}},\"id\":\"1050\",\"type\":\"Line\"},{\"attributes\":{\"source\":{\"id\":\"1079\",\"type\":\"ColumnDataSource\"}},\"id\":\"1083\",\"type\":\"CDSView\"},{\"attributes\":{\"line_alpha\":0.1,\"line_color\":\"#1f77b4\",\"x\":{\"field\":\"x\"},\"y\":{\"field\":\"y\"}},\"id\":\"1051\",\"type\":\"Line\"},{\"attributes\":{\"line_alpha\":0.1,\"line_color\":\"#1f77b4\",\"x\":{\"field\":\"x\"},\"y\":{\"field\":\"y\"}},\"id\":\"1081\",\"type\":\"Line\"},{\"attributes\":{},\"id\":\"1023\",\"type\":\"PanTool\"},{\"attributes\":{\"data_source\":{\"id\":\"1049\",\"type\":\"ColumnDataSource\"},\"glyph\":{\"id\":\"1050\",\"type\":\"Line\"},\"hover_glyph\":null,\"muted_glyph\":null,\"nonselection_glyph\":{\"id\":\"1051\",\"type\":\"Line\"},\"selection_glyph\":null,\"view\":{\"id\":\"1053\",\"type\":\"CDSView\"}},\"id\":\"1052\",\"type\":\"GlyphRenderer\"},{\"attributes\":{\"data_source\":{\"id\":\"1079\",\"type\":\"ColumnDataSource\"},\"glyph\":{\"id\":\"1080\",\"type\":\"Line\"},\"hover_glyph\":null,\"muted_glyph\":null,\"nonselection_glyph\":{\"id\":\"1081\",\"type\":\"Line\"},\"selection_glyph\":null,\"view\":{\"id\":\"1083\",\"type\":\"CDSView\"}},\"id\":\"1082\",\"type\":\"GlyphRenderer\"},{\"attributes\":{},\"id\":\"1024\",\"type\":\"WheelZoomTool\"},{\"attributes\":{\"line_color\":\"cyan\",\"x\":{\"field\":\"x\"},\"y\":{\"field\":\"y\"}},\"id\":\"1037\",\"type\":\"Line\"},{\"attributes\":{\"overlay\":{\"id\":\"1046\",\"type\":\"BoxAnnotation\"}},\"id\":\"1025\",\"type\":\"BoxZoomTool\"},{\"attributes\":{\"text\":\"Elliptical orbit, RK4, a=50, e=0.9, theta=30 degrees\"},\"id\":\"1003\",\"type\":\"Title\"},{\"attributes\":{\"label\":{\"value\":\"Star 1\"},\"renderers\":[{\"id\":\"1066\",\"type\":\"GlyphRenderer\"}]},\"id\":\"1078\",\"type\":\"LegendItem\"},{\"attributes\":{},\"id\":\"1059\",\"type\":\"Selection\"},{\"attributes\":{},\"id\":\"1093\",\"type\":\"Selection\"},{\"attributes\":{\"callback\":null,\"end\":200,\"start\":-200},\"id\":\"1005\",\"type\":\"Range1d\"},{\"attributes\":{},\"id\":\"1026\",\"type\":\"SaveTool\"},{\"attributes\":{\"label\":{\"value\":\"Ideal Ellipse 2\"},\"renderers\":[{\"id\":\"1052\",\"type\":\"GlyphRenderer\"}]},\"id\":\"1062\",\"type\":\"LegendItem\"},{\"attributes\":{\"label\":{\"value\":\"Star 2\"},\"renderers\":[{\"id\":\"1082\",\"type\":\"GlyphRenderer\"}]},\"id\":\"1096\",\"type\":\"LegendItem\"},{\"attributes\":{},\"id\":\"1043\",\"type\":\"BasicTickFormatter\"},{\"attributes\":{},\"id\":\"1027\",\"type\":\"ResetTool\"},{\"attributes\":{},\"id\":\"1060\",\"type\":\"UnionRenderers\"},{\"attributes\":{},\"id\":\"1094\",\"type\":\"UnionRenderers\"},{\"attributes\":{\"callback\":null,\"end\":200,\"start\":-200},\"id\":\"1007\",\"type\":\"Range1d\"},{\"attributes\":{\"line_alpha\":0.1,\"line_color\":\"#1f77b4\",\"x\":{\"field\":\"x\"},\"y\":{\"field\":\"y\"}},\"id\":\"1038\",\"type\":\"Line\"},{\"attributes\":{\"line_color\":\"blue\",\"x\":{\"field\":\"x\"},\"y\":{\"field\":\"y\"}},\"id\":\"1080\",\"type\":\"Line\"},{\"attributes\":{},\"id\":\"1076\",\"type\":\"UnionRenderers\"},{\"attributes\":{},\"id\":\"1028\",\"type\":\"HelpTool\"},{\"attributes\":{},\"id\":\"1009\",\"type\":\"LinearScale\"},{\"attributes\":{\"data_source\":{\"id\":\"1036\",\"type\":\"ColumnDataSource\"},\"glyph\":{\"id\":\"1037\",\"type\":\"Line\"},\"hover_glyph\":null,\"muted_glyph\":null,\"nonselection_glyph\":{\"id\":\"1038\",\"type\":\"Line\"},\"selection_glyph\":null,\"view\":{\"id\":\"1040\",\"type\":\"CDSView\"}},\"id\":\"1039\",\"type\":\"GlyphRenderer\"},{\"attributes\":{},\"id\":\"1011\",\"type\":\"LinearScale\"},{\"attributes\":{\"callback\":null,\"data\":{\"x\":{\"__ndarray__\":\"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\",\"dtype\":\"float64\",\"shape\":[299]},\"y\":{\"__ndarray__\":\"1TkGEJzjR8DIsmx9gQZIwAqKLSevKEjADYSR4iNKSMCF5e563mpIwKtRZbHdikjA1YOWPCCqSMAXulvIpMhIwOOjd/Vp5kjAJaVEWW4DScAbO199sB9JwA1NTN8uO0nAxC8b8OdVScB8HgMU2m9JwFzo+6EDiUnA+IxR42KhScCxfTIT9rhJwLY0OF67z0nAxczp4bDlScAIPzis1PpJwKbl87okD0rA3do6+54iSsC5xN9IQTVKwCWVyG0JR0rAMb1EIfVXSsCOSFoHAmhKwJFLCbAtd0rAbgKFlnWFSsDE82Eg15JKwHxauJxPn0rALAw6Q9yqSsA1ADszerVKwCCKq3Imv0rAU0UD7d3HSsCmmhtync9KwG+w+LRh1krAl3p/SifcSsDKgxeo6uBKwB/oNiKo5ErAVNbW6lvnSsANxc4PAulKwEVeFHmW6UrAefLd5hTpSsBYD6XveOdKwAWaBv695ErASop9Tt/gSsB8GfXs19tKwLbkLrKi1UrAxiT5QDrOSsCZtTADmcVKwB0xiia5u0rAat0cmZSwSsBNmKkFJaRKwI9Bl89jlkrAwWWdDkqHSsAhEhWK0HZKwPrC5rPvZErAvUMLo59RSsAlFpQN2DxKwCqELkKQJkrApNgSIb8OSsDZUU8UW/VJwFotXAda2knAB5/jXbG9ScCvjqXpVZ9JwJmDW987f0nAcBx9ylZdScCotsB/mTlJwFRXLg72E0nARlSUrl3sSMCjcSWxwMJIwDni/mgOl0jAQYRJFTVpSMDAaJzHITlIwNWrNkfABkjAezqT8PrRR8C6f8GQuppHwGEH0TvmYEfALY16HWMkR8Bz4QRDFOVGwA4uLV3aokbA4FuVeJNdRsBagOSqGhVGwADFVrJHyUXALaDshO55RcARJbLL3iZFwBJhqEXjz0TA9S6gDMF0RMCkRLO0NhVEwPzT1Dz7sEPAIpjzw7xHQ8BA7QPyHtlCwAnEff64ZELAuRueNRPqQcBpKdPRo2hBwMYML+3K30DAbZtaNM1OQMCLu9O3mWk/wKF3yDGAIT7AfrCg6sfCPMBGnndWU0o7wKAUgAM3tDnArZpHBmj7N8DuN8unPBk2wOGGV7KcBDTAymHVm5ywMcAnwL7E5hMuwGlnUqco5CfAH7v6PmprIMAJoCnUkhcMwDsDhrnq4QBAlpVJGWEmGUAqLM6j2ykgQFCupLUpbyFA5niEvAKiIUArbzPaiUIhQOpcYhQQjCBA4f8Ferk7H0BjarEmNBQdQIuLQ0s6uBpAlh8pOLo2GEBokVB295kVQAhlTrc+6RJAyGe2TeYpEEBsRa/B2L8KQJFfE+G4HAVAKqU4u0re/j/CQ3/op3XzP7K4ckzgCuA/rEWgUvJsy78WylRuVb/tv1EWx06QTfq/MvheYFzaAsBTmLTff4kIwNH2YIFOMw7AkoMQyITrEcD34WKBCLoUwCkk5Q3vhBfAMiO8jP9LGsCwW+fcCQ8dwIgiNjLlzR/AKPXtdTdEIcDlFKbPRJ8iwJ7jhCYO+CPA7xit24hOJcBdbkLqq6ImwLiQzKtv9CfANHbcpc1DKcCAhlhfwJAqwJpKIzxD2yvAJdsOXlIjLcBb20CK6mguwBZhUhIJrC/AxHZL4FV2MMAYnYdjaBUxwIuyUFg7szHAD3sgKs5PMsBXid9kIOsywPxMA7AxhTPAvqVIygEeNMB7cvWFkLU0wJDQjsXdSzXA0nT0eOngNcBKzNOas3Q2wJV6Zy48BzfAF2d5PYOYN8BY5p7WiCg4wOmzpwtNtzjAEmw58M9EOcDNCpKYEdE5wGysbBgSXDrAMmkEgtHlOsD2qzHlT247wLnXnk6N9TvAgnQRx4l7PMACcsVSRQA9wN1Z2PC/gz3ARYzCmvkFPsBS2txD8oY+wK4C8dipBj/AUMDTPyCFP8A3oIOrKgFAwOd6snokP0DAHO7mdH18QMAfLHB9NblAwOB6WXNM9UDAVq1JMcIwQcCZamSNlmtBwKX9LFnJpUHAZW9qYVrfQcCEsgxuSRhCwLytEkKWUELAsvVwm0CIQsCLC/kySL9CwPP4QLys9ULAVCWL5W0rQ8CPQq5Xi2BDwDEy/bUElUPAx8UuntnIQ8AMP0WoCfxDwCd2dWaULkTAQI0NZXlgRMAIGlsquJFEwM+ukDZQwkTAJq2qA0HyRMAGTVMFiiFFwJzDxagqUEXAcnWwVCJ+RcB9HxZpcKtFwCLjLT8U2EXAvCBCKQ0ERsBMDI5yWi9GwNPnGV/7WUbAF86VK++DRsBs+DINNa1GwIhpezHM1UbAdeYnvrP9RsBSJvTQ6iRHwGAgcX9wS0fAGl/V1kNxR8DDPcvbY5ZHwPn0PIrPukfAJVke1YXeR8B/LDSmhQFIwLHk2N3NI0jAYcK+Ul1FSMAfF6/RMmZIwEGURh1NhkjAD3uu7aqlSMALhFLwSsRIwP5Qk8cr4kjAejp1Ckz/SMCiRktEqhtJwMQTXvREN0nAJH6OjRpSScBYxPN1KWxJwMjpdAZwhUnAfxJdiuydScDljuo+nbVJwL5I2FKAzEnApT3h5ZPiScDurD0I1vdJwM2YGbpEDErAdzME690fSsBsyVd5nzJKwAyymTGHRErAmMbRzZJVSsD71dj0v2VKwGaBnTkMdUrAM+JeGnWDSsDZTNz/95BKwFp3eTySnUrAQjpWC0GpSsBDE1mPAbRKwFp+K9LQvUrAxSYnw6vGSsCq2zI2j85KwFMcjuJ31UrA7PWJYWLbSsDhzy0tS+BKwFukxp4u5ErA/v5e7QjnSsCt9R0s1uhKwKgji0iS6UrADYC1CDnpSsC1szoJxudKwE1XLLs05UrAO0HQYYDhSsBIwTgQpNxKwDtWsaaa1krAAQ78z17PSsDTWVv+6sZKwECsY2g5vUrA8LSPBUSySsAJe5GKBKZKwPvwWWV0mErAyuDPuIyJSsBoOi5YRnlKwAPbAMKZZ0rAss+1Gn9USsDQ2bcm7j9KwE6RBUTeKUrAhOE2Y0YSSsCxvuD/HPlJwMzJRBhY3knA2xg4JO3BScCmcykL0aNJwCD0Kxn4g0nA9wfn8lViScBXMUiI3T5JwKh0zQWBGUnAyfY4xDHySMDCtHY24MhIwJYzdNV7nUjADTufCfNvSMBdu7MRM0BIwKlkceYnDkjAyZW+GrzZR8BSUKe32KJHwA==\",\"dtype\":\"float64\",\"shape\":[299]}},\"selected\":{\"id\":\"1093\",\"type\":\"Selection\"},\"selection_policy\":{\"id\":\"1094\",\"type\":\"UnionRenderers\"}},\"id\":\"1063\",\"type\":\"ColumnDataSource\"},{\"attributes\":{\"source\":{\"id\":\"1063\",\"type\":\"ColumnDataSource\"}},\"id\":\"1067\",\"type\":\"CDSView\"},{\"attributes\":{\"formatter\":{\"id\":\"1045\",\"type\":\"BasicTickFormatter\"},\"ticker\":{\"id\":\"1014\",\"type\":\"BasicTicker\"}},\"id\":\"1013\",\"type\":\"LinearAxis\"},{\"attributes\":{\"line_alpha\":0.1,\"line_color\":\"#1f77b4\",\"x\":{\"field\":\"x\"},\"y\":{\"field\":\"y\"}},\"id\":\"1065\",\"type\":\"Line\"},{\"attributes\":{},\"id\":\"1109\",\"type\":\"UnionRenderers\"},{\"attributes\":{\"bottom_units\":\"screen\",\"fill_alpha\":{\"value\":0.5},\"fill_color\":{\"value\":\"lightgrey\"},\"left_units\":\"screen\",\"level\":\"overlay\",\"line_alpha\":{\"value\":1.0},\"line_color\":{\"value\":\"black\"},\"line_dash\":[4,4],\"line_width\":{\"value\":2},\"render_mode\":\"css\",\"right_units\":\"screen\",\"top_units\":\"screen\"},\"id\":\"1046\",\"type\":\"BoxAnnotation\"},{\"attributes\":{},\"id\":\"1019\",\"type\":\"BasicTicker\"},{\"attributes\":{},\"id\":\"1045\",\"type\":\"BasicTickFormatter\"},{\"attributes\":{},\"id\":\"1014\",\"type\":\"BasicTicker\"},{\"attributes\":{\"data_source\":{\"id\":\"1063\",\"type\":\"ColumnDataSource\"},\"glyph\":{\"id\":\"1064\",\"type\":\"Line\"},\"hover_glyph\":null,\"muted_glyph\":null,\"nonselection_glyph\":{\"id\":\"1065\",\"type\":\"Line\"},\"selection_glyph\":null,\"view\":{\"id\":\"1067\",\"type\":\"CDSView\"}},\"id\":\"1066\",\"type\":\"GlyphRenderer\"},{\"attributes\":{\"click_policy\":\"hide\",\"items\":[{\"id\":\"1048\",\"type\":\"LegendItem\"},{\"id\":\"1062\",\"type\":\"LegendItem\"},{\"id\":\"1078\",\"type\":\"LegendItem\"},{\"id\":\"1096\",\"type\":\"LegendItem\"}],\"location\":\"bottom_left\"},\"id\":\"1047\",\"type\":\"Legend\"},{\"attributes\":{\"ticker\":{\"id\":\"1014\",\"type\":\"BasicTicker\"}},\"id\":\"1017\",\"type\":\"Grid\"},{\"attributes\":{\"active_drag\":\"auto\",\"active_inspect\":\"auto\",\"active_multi\":null,\"active_scroll\":\"auto\",\"active_tap\":\"auto\",\"tools\":[{\"id\":\"1023\",\"type\":\"PanTool\"},{\"id\":\"1024\",\"type\":\"WheelZoomTool\"},{\"id\":\"1025\",\"type\":\"BoxZoomTool\"},{\"id\":\"1026\",\"type\":\"SaveTool\"},{\"id\":\"1027\",\"type\":\"ResetTool\"},{\"id\":\"1028\",\"type\":\"HelpTool\"}]},\"id\":\"1029\",\"type\":\"Toolbar\"},{\"attributes\":{\"dimension\":1,\"ticker\":{\"id\":\"1019\",\"type\":\"BasicTicker\"}},\"id\":\"1022\",\"type\":\"Grid\"},{\"attributes\":{},\"id\":\"1075\",\"type\":\"Selection\"},{\"attributes\":{\"formatter\":{\"id\":\"1043\",\"type\":\"BasicTickFormatter\"},\"ticker\":{\"id\":\"1019\",\"type\":\"BasicTicker\"}},\"id\":\"1018\",\"type\":\"LinearAxis\"},{\"attributes\":{\"line_color\":\"purple\",\"x\":{\"field\":\"x\"},\"y\":{\"field\":\"y\"}},\"id\":\"1064\",\"type\":\"Line\"},{\"attributes\":{\"callback\":null,\"data\":{\"x\":{\"__ndarray__\":\"54hxOG+RVEBEkjwin19UQAZPyrLZIlRApKsLj13bU0CJwC5ndIlTQDI3qapyLVNAI5suMbfHUkA7T+zYqlhSQM7ubxrA4FFAIImnknJgUUABWnWDRthQQFRZWkvISFBAI1WIqRdlT0AyKCf7VyxOQM5V8e6T6ExARISSQxmbS0A8zvm6P0VKQGB2/7dn6EhArpwl0/iFR0AQZ+pnYB9GQNC3KRwQtkRAzqsSY3xLQ0CHqTn9GuFBQELEUndheEBAtjFDUoclPkBAJVdsZGM7QLZsbyMyrThARFRHD7wFNkACaiGXvm8zQH7PyR/k7TBAiTdSmIQFLUCr0nmmrmEoQP05atwO9SNAdDxwhWmIH0BUi1CJ5KYXQC5mXHiuTRBAuKgVCLUIA0CgD2RjPI/qP3B0N684GuK/pLFDnsDV/L98SR/y9P4GwN7AT1D0OQ7APjKqLjUKEsDzueA5J0QUwJ6+r8aEyBXAb3Y0f72VFsDosXHX/aoWwGQGYecvCBbAvq2HgfutFMA31PeFxZ0SwM5P4eRcsw/AQMIwYiDJCMDUqiVQ9oMAwFCA4WeUseu/GODq/n+d3z+oRuUYExEAQEyBBTdHXw1AO/QBlUroFUDoY3fXDKsdQNb8NTL19yJAEh3Ejy5XJ0CGGvnLsO4rQKQ3txTgXDBAOjxt47XZMkDwCndbSWs1QCy13KT0DjhAvFASQf/BOkCOF+7YoIE9QOMWeg2CJUBA4o+B06SNQUBoMC+CxfdCQCSxhM9uYkRA/Siv5CrMRUDYl2PfhDNHQCpgP1IKl0hAwHWgwkz1SUDzpGsi40xLQOKGO0RrnExAZnt4SIviTUDET+EB8x1PQFuGCqiuJlBAmFlct8i3UEACt+8bskFRQCpwNKzcw1FAl9iLOsI9UkCsGpkf5a5SQPUHyLvQFlNAFuCE7xl1U0DkIamJX8lTQLKSq6tKE1RAKjUsI49SVEBO4X+464ZUQBOG6nEqsFRAKMhCyyDOVEAKo8Xhr+BUQBPf7JPE51RA3IonlVfjVEDKI2B1bdNUQFCsSJwWuFRA54hxOG+RVEA=\",\"dtype\":\"float64\",\"shape\":[100]},\"y\":{\"__ndarray__\":\"//////+/R0BihghEyVJIQOTRg5cY2EhAiCVCj2RPSUDG/AAyMrhJQPabLncVEkpAzg1HtrFcSkBVwlcGupdKQPRZR43xwkpAXOOPviveSkAM4yqJTOlKQBrOf3RI5EpAfiU3rCTPSkByAeb69qlKQG2Ll7PldEpAgo5LiicwSkA715JbA9xJQIyDg+PPeElA345QZPMGSUA1xOA844ZIQPq+0W8j+UdAaLJjG0ZeR0A5Pdri6rZGQFqN7Um+A0ZA7XT1AnlFRUCgwIUw33xEQEURQJu/qkNAGqKr3PLPQkDYte5/Wu1BQNPSTxngA0FAbnduVXQUQEDr81YCHEA+QDSigRZSTzxAGAkeAYtYOkDj8lcIzV04QOJchogiYTZAxIW12ZdkNECMoCUzOWoyQJxW644QdDBA+j6+H0cILUBIKgzY4jgpQCqbNLvhfSVA7N+jORzbIUD02eyRo6gcQGyU4Q1K2hVAoLPL6F+kDkCQcw/SIS4CQIAJ/qbJeuk/YLwwwwb34r+g0Ia7jDf+v5DvXMursAjAwG/9vEi5EMCQfkw1OKwUwOQjgzYSLRjA9A8pQjo4G8BULmMsjcodwAjN4Fdk4R/AiLaxOEy9IMD4EgjUQUohwOxiILABlyHAdDuKrzyjIcCdjsU25m4hwISlQTk0+iDAKwDAAZ9FIMCQ3ahswaMewCJuBDHpPxzAYCR4BCxiGcCi/qNBfg0WwLwCON5ORRLAsIbOwQcbDMDU0Dy57NQCwIzoiNS3g/G/qDix5ECe0D/kYqZ0qEH7Pwz0tz5g2QlARCU5mGlYE0CaDbwk+AwaQFj9Dye5gSBAH33wVFUaJEBUHeSfm8wnQKzxMZe8lCtAvdEEQ9JuL0CUvpIUcqsxQNiWZLJ1pDNAKj6eZmugNUA6l5GTR503QAZL/a39mDlAKt/CWYKRO0AgUWSFzYQ9QI4YHYLccD9As/g2C9qpQEAcRHxEsZVBQHMHyNAAe0JAwuw2T9xYQ0DMrcINXy5EQIqWAPWs+kRAnIgBa/O8RUC8oWksanRGQKi83xpUIEdA/v////+/R0A=\",\"dtype\":\"float64\",\"shape\":[100]}},\"selected\":{\"id\":\"1059\",\"type\":\"Selection\"},\"selection_policy\":{\"id\":\"1060\",\"type\":\"UnionRenderers\"}},\"id\":\"1036\",\"type\":\"ColumnDataSource\"}],\"root_ids\":[\"1002\"]},\"title\":\"Bokeh Application\",\"version\":\"1.3.4\"}};\n",
       "  var render_items = [{\"docid\":\"571b39b3-afed-479b-899c-98e6a79dc3fb\",\"roots\":{\"1002\":\"5899ef9e-f839-4101-bf25-0a34b6974508\"}}];\n",
       "  root.Bokeh.embed.embed_items_notebook(docs_json, render_items);\n",
       "\n",
       "  }\n",
       "  if (root.Bokeh !== undefined) {\n",
       "    embed_document(root);\n",
       "  } else {\n",
       "    var attempts = 0;\n",
       "    var timer = setInterval(function(root) {\n",
       "      if (root.Bokeh !== undefined) {\n",
       "        embed_document(root);\n",
       "        clearInterval(timer);\n",
       "      }\n",
       "      attempts++;\n",
       "      if (attempts > 100) {\n",
       "        console.log(\"Bokeh: ERROR: Unable to run BokehJS code because BokehJS library is missing\");\n",
       "        clearInterval(timer);\n",
       "      }\n",
       "    }, 10, root)\n",
       "  }\n",
       "})(window);"
      ],
      "application/vnd.bokehjs_exec.v0+json": ""
     },
     "metadata": {
      "application/vnd.bokehjs_exec.v0+json": {
       "id": "1002"
      }
     },
     "output_type": "display_data"
    }
   ],
   "source": [
    "import ellipsefns\n",
    "from bokeh.io import output_notebook, show\n",
    "from bokeh.plotting import figure\n",
    "output_notebook()\n",
    "import numpy as np\n",
    "# create a new plot with default tools, using figure\n",
    "p = figure(title=\"Elliptical orbit, RK4, a=\"+str(rad0)+\", e=\"+ str(ecc0)+\", theta=\"+str(round(180*theta0/math.pi))+ \" degrees\", plot_width=400, plot_height=400, x_range=(-200,200), y_range=(-200,200))\n",
    "t = np.linspace(0, 2*math.pi, 100)\n",
    "#theta0=math.pi/6.\n",
    "# add a circle renderer with x and y coordinates, size, color, and alpha\n",
    "p.line(ellipsefns.getxtheory(theta0,ecc0,rad0,t,1),ellipsefns.getytheory(theta0,ecc0,rad0,t,1), line_color=\"cyan\", legend=\"Ideal Ellipse 1\")\n",
    "p.line(ellipsefns.getxtheory(theta0,ecc0,rad0,t,-1),ellipsefns.getytheory(theta0,ecc0,rad0,t,-1),line_color=\"black\", legend=\"Ideal Ellipse 2\")\n",
    "p.line(npstar1x[:,0],npstar1x[:,1], line_color=\"purple\", legend=\"Star 1\")\n",
    "p.line(npstar2x[:,0],npstar2x[:,1], line_color=\"blue\", legend=\"Star 2\")\n",
    "\n",
    "\n",
    "\n",
    "p.legend.location = \"bottom_left\"\n",
    "p.legend.click_policy=\"hide\"\n",
    "\n",
    "show(p) # show the"
   ]
  },
  {
   "cell_type": "code",
   "execution_count": 14,
   "metadata": {},
   "outputs": [],
   "source": [
    "import Lstability"
   ]
  },
  {
   "cell_type": "code",
   "execution_count": 15,
   "metadata": {},
   "outputs": [
    {
     "data": {
      "text/plain": [
       "(4.278550941562962e-09, -1.0274023310582483)"
      ]
     },
     "execution_count": 15,
     "metadata": {},
     "output_type": "execute_result"
    }
   ],
   "source": [
    "deltaL, Lavg=Lstability.Lstability(npstar1x,npstar2x,mass0)\n",
    "deltaL, Lavg"
   ]
  },
  {
   "cell_type": "code",
   "execution_count": 16,
   "metadata": {},
   "outputs": [],
   "source": [
    "assert deltaL<1e-5, \"Angular momentum is not constant, relative error greater than 1e-5\""
   ]
  },
  {
   "cell_type": "code",
   "execution_count": 17,
   "metadata": {},
   "outputs": [],
   "source": [
    "import Estability"
   ]
  },
  {
   "cell_type": "code",
   "execution_count": 18,
   "metadata": {},
   "outputs": [
    {
     "data": {
      "text/plain": [
       "(1.0589843108096096e-07, -0.005000000634119679)"
      ]
     },
     "execution_count": 18,
     "metadata": {},
     "output_type": "execute_result"
    }
   ],
   "source": [
    "deltaE, Eavg = Estability.Estability(npstar1x, npstar2x, mass0)\n",
    "deltaE, Eavg"
   ]
  },
  {
   "cell_type": "code",
   "execution_count": 20,
   "metadata": {},
   "outputs": [],
   "source": [
    "assert deltaE < 1e-5, \"Energy is not constant, relative error greater than 1e-5\""
   ]
  },
  {
   "cell_type": "code",
   "execution_count": null,
   "metadata": {},
   "outputs": [],
   "source": []
  }
 ],
 "metadata": {
  "kernelspec": {
   "display_name": "Python 3",
   "language": "python",
   "name": "python3"
  },
  "language_info": {
   "codemirror_mode": {
    "name": "ipython",
    "version": 3
   },
   "file_extension": ".py",
   "mimetype": "text/x-python",
   "name": "python",
   "nbconvert_exporter": "python",
   "pygments_lexer": "ipython3",
   "version": "3.7.4"
  }
 },
 "nbformat": 4,
 "nbformat_minor": 2
}
