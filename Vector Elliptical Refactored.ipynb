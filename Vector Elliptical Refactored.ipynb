{
 "cells": [
  {
   "cell_type": "code",
   "execution_count": 1,
   "metadata": {},
   "outputs": [],
   "source": [
    "import math\n",
    "import numpy as np"
   ]
  },
  {
   "cell_type": "code",
   "execution_count": 2,
   "metadata": {},
   "outputs": [],
   "source": [
    "import ellipsefns\n",
    "#getfocus, getsemiminor, theoreticalx, theoreticaly"
   ]
  },
  {
   "cell_type": "code",
   "execution_count": 3,
   "metadata": {},
   "outputs": [],
   "source": [
    "import initdat"
   ]
  },
  {
   "cell_type": "code",
   "execution_count": 4,
   "metadata": {},
   "outputs": [
    {
     "name": "stdout",
     "output_type": "stream",
     "text": [
      "angle 0.5235987755982988\n",
      "0.9\n",
      "(array([3.66519143, 0.52359878]), 0.5235987755982988, 50, 0.9, array([1., 1.]))\n"
     ]
    }
   ],
   "source": [
    "\n",
    "rad0=50\n",
    "ecc0=0.9\n",
    "theta0=math.pi/6. #math.pi/6.\n",
    "mass0=1.0\n",
    "initdateqellipse=initdat.InitialDataEqualMassConic(rad0,ecc0,theta0,mass0)\n",
    "print(initdateqellipse)"
   ]
  },
  {
   "cell_type": "markdown",
   "metadata": {},
   "source": [
    "VERIFIED FOR THETA=-45,45,135,180,90,30,-30. VERIFIED FOR ECC =0.001, 0.1,0.5, 0.7, 0.9, 0.95 VERIFIED FOR RAD0=50,75 100 "
   ]
  },
  {
   "cell_type": "code",
   "execution_count": 5,
   "metadata": {},
   "outputs": [],
   "source": [
    "import getxyuvtwoellipse"
   ]
  },
  {
   "cell_type": "code",
   "execution_count": null,
   "metadata": {},
   "outputs": [],
   "source": []
  },
  {
   "cell_type": "code",
   "execution_count": 6,
   "metadata": {},
   "outputs": [
    {
     "name": "stdout",
     "output_type": "stream",
     "text": [
      "initdat 50 [3.66519143 0.52359878] 0.9 [-0.8660254  0.8660254] [-0.5  0.5]\n",
      "coordsep 50\n",
      "[-43.30127019  43.30127019]\n",
      "[-25.  25.]\n",
      "(array([1., 1.]), array([[-8.22724134e+01, -4.75000000e+01,  0.00000000e+00,\n",
      "         8.11107106e-03, -1.40487872e-02,  0.00000000e+00],\n",
      "       [ 8.22724134e+01,  4.75000000e+01,  0.00000000e+00,\n",
      "        -8.11107106e-03,  1.40487872e-02,  0.00000000e+00]]), array([[ 2.39896234e-05,  1.38504155e-05,  0.00000000e+00],\n",
      "       [-2.39896234e-05, -1.38504155e-05,  0.00000000e+00]]))\n"
     ]
    }
   ],
   "source": [
    "xyuvaeqellipse=getxyuvtwoellipse.getxyuveqtwoellipses(initdateqellipse)\n",
    "print(xyuvaeqellipse)\n",
    "masses,xvec,avec=xyuvaeqellipse"
   ]
  },
  {
   "cell_type": "code",
   "execution_count": 7,
   "metadata": {},
   "outputs": [],
   "source": [
    "import RK4implicit"
   ]
  },
  {
   "cell_type": "code",
   "execution_count": 8,
   "metadata": {},
   "outputs": [],
   "source": [
    "import OrbitDiffEq"
   ]
  },
  {
   "cell_type": "code",
   "execution_count": null,
   "metadata": {},
   "outputs": [],
   "source": []
  },
  {
   "cell_type": "code",
   "execution_count": 9,
   "metadata": {},
   "outputs": [
    {
     "name": "stdout",
     "output_type": "stream",
     "text": [
      "[1. 1.] [[-8.22724134e+01 -4.75000000e+01  0.00000000e+00  8.11107106e-03\n",
      "  -1.40487872e-02  0.00000000e+00]\n",
      " [ 8.22724134e+01  4.75000000e+01  0.00000000e+00 -8.11107106e-03\n",
      "   1.40487872e-02  0.00000000e+00]] 0.0\n",
      "[1. 1.] [[-8.22724134e+01 -4.75000000e+01  0.00000000e+00  8.11107106e-03\n",
      "  -1.40487872e-02  0.00000000e+00]\n",
      " [ 8.22724134e+01  4.75000000e+01  0.00000000e+00 -8.11107106e-03\n",
      "   1.40487872e-02  0.00000000e+00]] 0.0\n"
     ]
    },
    {
     "data": {
      "text/plain": [
       "<OrbitDiffEq.OrbitDiffEq at 0x10b461b10>"
      ]
     },
     "execution_count": 9,
     "metadata": {},
     "output_type": "execute_result"
    }
   ],
   "source": [
    "masses, xvec,avec=xyuvaeqellipse\n",
    "ODEeq= OrbitDiffEq.OrbitDiffEq(masses,xvec,avec,0.0)\n",
    "ODEeq.print2D()\n",
    "ODEeq.print2D()"
   ]
  },
  {
   "cell_type": "code",
   "execution_count": 10,
   "metadata": {},
   "outputs": [
    {
     "name": "stdout",
     "output_type": "stream",
     "text": [
      "(array([1., 1.]), array([[-8.22724134e+01, -4.75000000e+01,  0.00000000e+00,\n",
      "         8.11107106e-03, -1.40487872e-02,  0.00000000e+00],\n",
      "       [ 8.22724134e+01,  4.75000000e+01,  0.00000000e+00,\n",
      "        -8.11107106e-03,  1.40487872e-02,  0.00000000e+00]]), array([[ 2.39896234e-05,  1.38504155e-05,  0.00000000e+00],\n",
      "       [-2.39896234e-05, -1.38504155e-05,  0.00000000e+00]]))\n"
     ]
    }
   ],
   "source": [
    "print(xyuvaeqellipse)"
   ]
  },
  {
   "cell_type": "code",
   "execution_count": 11,
   "metadata": {},
   "outputs": [],
   "source": [
    "import timestep"
   ]
  },
  {
   "cell_type": "code",
   "execution_count": 12,
   "metadata": {},
   "outputs": [],
   "source": [
    "numsteps=6000\n",
    "dt=1\n",
    "outputevery=20\n",
    "nptimes, npstar1x, npstar2x, npstar1a, npstar2a= timestep.timestep(numsteps,dt,xyuvaeqellipse,outputevery)"
   ]
  },
  {
   "cell_type": "code",
   "execution_count": 13,
   "metadata": {},
   "outputs": [
    {
     "data": {
      "text/html": [
       "\n",
       "    <div class=\"bk-root\">\n",
       "        <a href=\"https://bokeh.pydata.org\" target=\"_blank\" class=\"bk-logo bk-logo-small bk-logo-notebook\"></a>\n",
       "        <span id=\"1001\">Loading BokehJS ...</span>\n",
       "    </div>"
      ]
     },
     "metadata": {},
     "output_type": "display_data"
    },
    {
     "data": {
      "application/javascript": [
       "\n",
       "(function(root) {\n",
       "  function now() {\n",
       "    return new Date();\n",
       "  }\n",
       "\n",
       "  var force = true;\n",
       "\n",
       "  if (typeof root._bokeh_onload_callbacks === \"undefined\" || force === true) {\n",
       "    root._bokeh_onload_callbacks = [];\n",
       "    root._bokeh_is_loading = undefined;\n",
       "  }\n",
       "\n",
       "  var JS_MIME_TYPE = 'application/javascript';\n",
       "  var HTML_MIME_TYPE = 'text/html';\n",
       "  var EXEC_MIME_TYPE = 'application/vnd.bokehjs_exec.v0+json';\n",
       "  var CLASS_NAME = 'output_bokeh rendered_html';\n",
       "\n",
       "  /**\n",
       "   * Render data to the DOM node\n",
       "   */\n",
       "  function render(props, node) {\n",
       "    var script = document.createElement(\"script\");\n",
       "    node.appendChild(script);\n",
       "  }\n",
       "\n",
       "  /**\n",
       "   * Handle when an output is cleared or removed\n",
       "   */\n",
       "  function handleClearOutput(event, handle) {\n",
       "    var cell = handle.cell;\n",
       "\n",
       "    var id = cell.output_area._bokeh_element_id;\n",
       "    var server_id = cell.output_area._bokeh_server_id;\n",
       "    // Clean up Bokeh references\n",
       "    if (id != null && id in Bokeh.index) {\n",
       "      Bokeh.index[id].model.document.clear();\n",
       "      delete Bokeh.index[id];\n",
       "    }\n",
       "\n",
       "    if (server_id !== undefined) {\n",
       "      // Clean up Bokeh references\n",
       "      var cmd = \"from bokeh.io.state import curstate; print(curstate().uuid_to_server['\" + server_id + \"'].get_sessions()[0].document.roots[0]._id)\";\n",
       "      cell.notebook.kernel.execute(cmd, {\n",
       "        iopub: {\n",
       "          output: function(msg) {\n",
       "            var id = msg.content.text.trim();\n",
       "            if (id in Bokeh.index) {\n",
       "              Bokeh.index[id].model.document.clear();\n",
       "              delete Bokeh.index[id];\n",
       "            }\n",
       "          }\n",
       "        }\n",
       "      });\n",
       "      // Destroy server and session\n",
       "      var cmd = \"import bokeh.io.notebook as ion; ion.destroy_server('\" + server_id + \"')\";\n",
       "      cell.notebook.kernel.execute(cmd);\n",
       "    }\n",
       "  }\n",
       "\n",
       "  /**\n",
       "   * Handle when a new output is added\n",
       "   */\n",
       "  function handleAddOutput(event, handle) {\n",
       "    var output_area = handle.output_area;\n",
       "    var output = handle.output;\n",
       "\n",
       "    // limit handleAddOutput to display_data with EXEC_MIME_TYPE content only\n",
       "    if ((output.output_type != \"display_data\") || (!output.data.hasOwnProperty(EXEC_MIME_TYPE))) {\n",
       "      return\n",
       "    }\n",
       "\n",
       "    var toinsert = output_area.element.find(\".\" + CLASS_NAME.split(' ')[0]);\n",
       "\n",
       "    if (output.metadata[EXEC_MIME_TYPE][\"id\"] !== undefined) {\n",
       "      toinsert[toinsert.length - 1].firstChild.textContent = output.data[JS_MIME_TYPE];\n",
       "      // store reference to embed id on output_area\n",
       "      output_area._bokeh_element_id = output.metadata[EXEC_MIME_TYPE][\"id\"];\n",
       "    }\n",
       "    if (output.metadata[EXEC_MIME_TYPE][\"server_id\"] !== undefined) {\n",
       "      var bk_div = document.createElement(\"div\");\n",
       "      bk_div.innerHTML = output.data[HTML_MIME_TYPE];\n",
       "      var script_attrs = bk_div.children[0].attributes;\n",
       "      for (var i = 0; i < script_attrs.length; i++) {\n",
       "        toinsert[toinsert.length - 1].firstChild.setAttribute(script_attrs[i].name, script_attrs[i].value);\n",
       "      }\n",
       "      // store reference to server id on output_area\n",
       "      output_area._bokeh_server_id = output.metadata[EXEC_MIME_TYPE][\"server_id\"];\n",
       "    }\n",
       "  }\n",
       "\n",
       "  function register_renderer(events, OutputArea) {\n",
       "\n",
       "    function append_mime(data, metadata, element) {\n",
       "      // create a DOM node to render to\n",
       "      var toinsert = this.create_output_subarea(\n",
       "        metadata,\n",
       "        CLASS_NAME,\n",
       "        EXEC_MIME_TYPE\n",
       "      );\n",
       "      this.keyboard_manager.register_events(toinsert);\n",
       "      // Render to node\n",
       "      var props = {data: data, metadata: metadata[EXEC_MIME_TYPE]};\n",
       "      render(props, toinsert[toinsert.length - 1]);\n",
       "      element.append(toinsert);\n",
       "      return toinsert\n",
       "    }\n",
       "\n",
       "    /* Handle when an output is cleared or removed */\n",
       "    events.on('clear_output.CodeCell', handleClearOutput);\n",
       "    events.on('delete.Cell', handleClearOutput);\n",
       "\n",
       "    /* Handle when a new output is added */\n",
       "    events.on('output_added.OutputArea', handleAddOutput);\n",
       "\n",
       "    /**\n",
       "     * Register the mime type and append_mime function with output_area\n",
       "     */\n",
       "    OutputArea.prototype.register_mime_type(EXEC_MIME_TYPE, append_mime, {\n",
       "      /* Is output safe? */\n",
       "      safe: true,\n",
       "      /* Index of renderer in `output_area.display_order` */\n",
       "      index: 0\n",
       "    });\n",
       "  }\n",
       "\n",
       "  // register the mime type if in Jupyter Notebook environment and previously unregistered\n",
       "  if (root.Jupyter !== undefined) {\n",
       "    var events = require('base/js/events');\n",
       "    var OutputArea = require('notebook/js/outputarea').OutputArea;\n",
       "\n",
       "    if (OutputArea.prototype.mime_types().indexOf(EXEC_MIME_TYPE) == -1) {\n",
       "      register_renderer(events, OutputArea);\n",
       "    }\n",
       "  }\n",
       "\n",
       "  \n",
       "  if (typeof (root._bokeh_timeout) === \"undefined\" || force === true) {\n",
       "    root._bokeh_timeout = Date.now() + 5000;\n",
       "    root._bokeh_failed_load = false;\n",
       "  }\n",
       "\n",
       "  var NB_LOAD_WARNING = {'data': {'text/html':\n",
       "     \"<div style='background-color: #fdd'>\\n\"+\n",
       "     \"<p>\\n\"+\n",
       "     \"BokehJS does not appear to have successfully loaded. If loading BokehJS from CDN, this \\n\"+\n",
       "     \"may be due to a slow or bad network connection. Possible fixes:\\n\"+\n",
       "     \"</p>\\n\"+\n",
       "     \"<ul>\\n\"+\n",
       "     \"<li>re-rerun `output_notebook()` to attempt to load from CDN again, or</li>\\n\"+\n",
       "     \"<li>use INLINE resources instead, as so:</li>\\n\"+\n",
       "     \"</ul>\\n\"+\n",
       "     \"<code>\\n\"+\n",
       "     \"from bokeh.resources import INLINE\\n\"+\n",
       "     \"output_notebook(resources=INLINE)\\n\"+\n",
       "     \"</code>\\n\"+\n",
       "     \"</div>\"}};\n",
       "\n",
       "  function display_loaded() {\n",
       "    var el = document.getElementById(\"1001\");\n",
       "    if (el != null) {\n",
       "      el.textContent = \"BokehJS is loading...\";\n",
       "    }\n",
       "    if (root.Bokeh !== undefined) {\n",
       "      if (el != null) {\n",
       "        el.textContent = \"BokehJS \" + root.Bokeh.version + \" successfully loaded.\";\n",
       "      }\n",
       "    } else if (Date.now() < root._bokeh_timeout) {\n",
       "      setTimeout(display_loaded, 100)\n",
       "    }\n",
       "  }\n",
       "\n",
       "\n",
       "  function run_callbacks() {\n",
       "    try {\n",
       "      root._bokeh_onload_callbacks.forEach(function(callback) {\n",
       "        if (callback != null)\n",
       "          callback();\n",
       "      });\n",
       "    } finally {\n",
       "      delete root._bokeh_onload_callbacks\n",
       "    }\n",
       "    console.debug(\"Bokeh: all callbacks have finished\");\n",
       "  }\n",
       "\n",
       "  function load_libs(css_urls, js_urls, callback) {\n",
       "    if (css_urls == null) css_urls = [];\n",
       "    if (js_urls == null) js_urls = [];\n",
       "\n",
       "    root._bokeh_onload_callbacks.push(callback);\n",
       "    if (root._bokeh_is_loading > 0) {\n",
       "      console.debug(\"Bokeh: BokehJS is being loaded, scheduling callback at\", now());\n",
       "      return null;\n",
       "    }\n",
       "    if (js_urls == null || js_urls.length === 0) {\n",
       "      run_callbacks();\n",
       "      return null;\n",
       "    }\n",
       "    console.debug(\"Bokeh: BokehJS not loaded, scheduling load and callback at\", now());\n",
       "    root._bokeh_is_loading = css_urls.length + js_urls.length;\n",
       "\n",
       "    function on_load() {\n",
       "      root._bokeh_is_loading--;\n",
       "      if (root._bokeh_is_loading === 0) {\n",
       "        console.debug(\"Bokeh: all BokehJS libraries/stylesheets loaded\");\n",
       "        run_callbacks()\n",
       "      }\n",
       "    }\n",
       "\n",
       "    function on_error() {\n",
       "      console.error(\"failed to load \" + url);\n",
       "    }\n",
       "\n",
       "    for (var i = 0; i < css_urls.length; i++) {\n",
       "      var url = css_urls[i];\n",
       "      const element = document.createElement(\"link\");\n",
       "      element.onload = on_load;\n",
       "      element.onerror = on_error;\n",
       "      element.rel = \"stylesheet\";\n",
       "      element.type = \"text/css\";\n",
       "      element.href = url;\n",
       "      console.debug(\"Bokeh: injecting link tag for BokehJS stylesheet: \", url);\n",
       "      document.body.appendChild(element);\n",
       "    }\n",
       "\n",
       "    for (var i = 0; i < js_urls.length; i++) {\n",
       "      var url = js_urls[i];\n",
       "      var element = document.createElement('script');\n",
       "      element.onload = on_load;\n",
       "      element.onerror = on_error;\n",
       "      element.async = false;\n",
       "      element.src = url;\n",
       "      console.debug(\"Bokeh: injecting script tag for BokehJS library: \", url);\n",
       "      document.head.appendChild(element);\n",
       "    }\n",
       "  };var element = document.getElementById(\"1001\");\n",
       "  if (element == null) {\n",
       "    console.error(\"Bokeh: ERROR: autoload.js configured with elementid '1001' but no matching script tag was found. \")\n",
       "    return false;\n",
       "  }\n",
       "\n",
       "  function inject_raw_css(css) {\n",
       "    const element = document.createElement(\"style\");\n",
       "    element.appendChild(document.createTextNode(css));\n",
       "    document.body.appendChild(element);\n",
       "  }\n",
       "\n",
       "  var js_urls = [\"https://cdn.pydata.org/bokeh/release/bokeh-1.3.4.min.js\", \"https://cdn.pydata.org/bokeh/release/bokeh-widgets-1.3.4.min.js\", \"https://cdn.pydata.org/bokeh/release/bokeh-tables-1.3.4.min.js\", \"https://cdn.pydata.org/bokeh/release/bokeh-gl-1.3.4.min.js\"];\n",
       "  var css_urls = [];\n",
       "\n",
       "  var inline_js = [\n",
       "    function(Bokeh) {\n",
       "      Bokeh.set_log_level(\"info\");\n",
       "    },\n",
       "    \n",
       "    function(Bokeh) {\n",
       "      \n",
       "    },\n",
       "    function(Bokeh) {} // ensure no trailing comma for IE\n",
       "  ];\n",
       "\n",
       "  function run_inline_js() {\n",
       "    \n",
       "    if ((root.Bokeh !== undefined) || (force === true)) {\n",
       "      for (var i = 0; i < inline_js.length; i++) {\n",
       "        inline_js[i].call(root, root.Bokeh);\n",
       "      }if (force === true) {\n",
       "        display_loaded();\n",
       "      }} else if (Date.now() < root._bokeh_timeout) {\n",
       "      setTimeout(run_inline_js, 100);\n",
       "    } else if (!root._bokeh_failed_load) {\n",
       "      console.log(\"Bokeh: BokehJS failed to load within specified timeout.\");\n",
       "      root._bokeh_failed_load = true;\n",
       "    } else if (force !== true) {\n",
       "      var cell = $(document.getElementById(\"1001\")).parents('.cell').data().cell;\n",
       "      cell.output_area.append_execute_result(NB_LOAD_WARNING)\n",
       "    }\n",
       "\n",
       "  }\n",
       "\n",
       "  if (root._bokeh_is_loading === 0) {\n",
       "    console.debug(\"Bokeh: BokehJS loaded, going straight to plotting\");\n",
       "    run_inline_js();\n",
       "  } else {\n",
       "    load_libs(css_urls, js_urls, function() {\n",
       "      console.debug(\"Bokeh: BokehJS plotting callback run at\", now());\n",
       "      run_inline_js();\n",
       "    });\n",
       "  }\n",
       "}(window));"
      ],
      "application/vnd.bokehjs_load.v0+json": "\n(function(root) {\n  function now() {\n    return new Date();\n  }\n\n  var force = true;\n\n  if (typeof root._bokeh_onload_callbacks === \"undefined\" || force === true) {\n    root._bokeh_onload_callbacks = [];\n    root._bokeh_is_loading = undefined;\n  }\n\n  \n\n  \n  if (typeof (root._bokeh_timeout) === \"undefined\" || force === true) {\n    root._bokeh_timeout = Date.now() + 5000;\n    root._bokeh_failed_load = false;\n  }\n\n  var NB_LOAD_WARNING = {'data': {'text/html':\n     \"<div style='background-color: #fdd'>\\n\"+\n     \"<p>\\n\"+\n     \"BokehJS does not appear to have successfully loaded. If loading BokehJS from CDN, this \\n\"+\n     \"may be due to a slow or bad network connection. Possible fixes:\\n\"+\n     \"</p>\\n\"+\n     \"<ul>\\n\"+\n     \"<li>re-rerun `output_notebook()` to attempt to load from CDN again, or</li>\\n\"+\n     \"<li>use INLINE resources instead, as so:</li>\\n\"+\n     \"</ul>\\n\"+\n     \"<code>\\n\"+\n     \"from bokeh.resources import INLINE\\n\"+\n     \"output_notebook(resources=INLINE)\\n\"+\n     \"</code>\\n\"+\n     \"</div>\"}};\n\n  function display_loaded() {\n    var el = document.getElementById(\"1001\");\n    if (el != null) {\n      el.textContent = \"BokehJS is loading...\";\n    }\n    if (root.Bokeh !== undefined) {\n      if (el != null) {\n        el.textContent = \"BokehJS \" + root.Bokeh.version + \" successfully loaded.\";\n      }\n    } else if (Date.now() < root._bokeh_timeout) {\n      setTimeout(display_loaded, 100)\n    }\n  }\n\n\n  function run_callbacks() {\n    try {\n      root._bokeh_onload_callbacks.forEach(function(callback) {\n        if (callback != null)\n          callback();\n      });\n    } finally {\n      delete root._bokeh_onload_callbacks\n    }\n    console.debug(\"Bokeh: all callbacks have finished\");\n  }\n\n  function load_libs(css_urls, js_urls, callback) {\n    if (css_urls == null) css_urls = [];\n    if (js_urls == null) js_urls = [];\n\n    root._bokeh_onload_callbacks.push(callback);\n    if (root._bokeh_is_loading > 0) {\n      console.debug(\"Bokeh: BokehJS is being loaded, scheduling callback at\", now());\n      return null;\n    }\n    if (js_urls == null || js_urls.length === 0) {\n      run_callbacks();\n      return null;\n    }\n    console.debug(\"Bokeh: BokehJS not loaded, scheduling load and callback at\", now());\n    root._bokeh_is_loading = css_urls.length + js_urls.length;\n\n    function on_load() {\n      root._bokeh_is_loading--;\n      if (root._bokeh_is_loading === 0) {\n        console.debug(\"Bokeh: all BokehJS libraries/stylesheets loaded\");\n        run_callbacks()\n      }\n    }\n\n    function on_error() {\n      console.error(\"failed to load \" + url);\n    }\n\n    for (var i = 0; i < css_urls.length; i++) {\n      var url = css_urls[i];\n      const element = document.createElement(\"link\");\n      element.onload = on_load;\n      element.onerror = on_error;\n      element.rel = \"stylesheet\";\n      element.type = \"text/css\";\n      element.href = url;\n      console.debug(\"Bokeh: injecting link tag for BokehJS stylesheet: \", url);\n      document.body.appendChild(element);\n    }\n\n    for (var i = 0; i < js_urls.length; i++) {\n      var url = js_urls[i];\n      var element = document.createElement('script');\n      element.onload = on_load;\n      element.onerror = on_error;\n      element.async = false;\n      element.src = url;\n      console.debug(\"Bokeh: injecting script tag for BokehJS library: \", url);\n      document.head.appendChild(element);\n    }\n  };var element = document.getElementById(\"1001\");\n  if (element == null) {\n    console.error(\"Bokeh: ERROR: autoload.js configured with elementid '1001' but no matching script tag was found. \")\n    return false;\n  }\n\n  function inject_raw_css(css) {\n    const element = document.createElement(\"style\");\n    element.appendChild(document.createTextNode(css));\n    document.body.appendChild(element);\n  }\n\n  var js_urls = [\"https://cdn.pydata.org/bokeh/release/bokeh-1.3.4.min.js\", \"https://cdn.pydata.org/bokeh/release/bokeh-widgets-1.3.4.min.js\", \"https://cdn.pydata.org/bokeh/release/bokeh-tables-1.3.4.min.js\", \"https://cdn.pydata.org/bokeh/release/bokeh-gl-1.3.4.min.js\"];\n  var css_urls = [];\n\n  var inline_js = [\n    function(Bokeh) {\n      Bokeh.set_log_level(\"info\");\n    },\n    \n    function(Bokeh) {\n      \n    },\n    function(Bokeh) {} // ensure no trailing comma for IE\n  ];\n\n  function run_inline_js() {\n    \n    if ((root.Bokeh !== undefined) || (force === true)) {\n      for (var i = 0; i < inline_js.length; i++) {\n        inline_js[i].call(root, root.Bokeh);\n      }if (force === true) {\n        display_loaded();\n      }} else if (Date.now() < root._bokeh_timeout) {\n      setTimeout(run_inline_js, 100);\n    } else if (!root._bokeh_failed_load) {\n      console.log(\"Bokeh: BokehJS failed to load within specified timeout.\");\n      root._bokeh_failed_load = true;\n    } else if (force !== true) {\n      var cell = $(document.getElementById(\"1001\")).parents('.cell').data().cell;\n      cell.output_area.append_execute_result(NB_LOAD_WARNING)\n    }\n\n  }\n\n  if (root._bokeh_is_loading === 0) {\n    console.debug(\"Bokeh: BokehJS loaded, going straight to plotting\");\n    run_inline_js();\n  } else {\n    load_libs(css_urls, js_urls, function() {\n      console.debug(\"Bokeh: BokehJS plotting callback run at\", now());\n      run_inline_js();\n    });\n  }\n}(window));"
     },
     "metadata": {},
     "output_type": "display_data"
    },
    {
     "data": {
      "text/html": [
       "\n",
       "\n",
       "\n",
       "\n",
       "\n",
       "\n",
       "  <div class=\"bk-root\" id=\"983ca9df-6016-4f6e-9d1e-1e82b4ac5731\" data-root-id=\"1002\"></div>\n"
      ]
     },
     "metadata": {},
     "output_type": "display_data"
    },
    {
     "data": {
      "application/javascript": [
       "(function(root) {\n",
       "  function embed_document(root) {\n",
       "    \n",
       "  var docs_json = {\"5595953a-da66-48d6-afe0-5be23fec7c9a\":{\"roots\":{\"references\":[{\"attributes\":{\"below\":[{\"id\":\"1013\",\"type\":\"LinearAxis\"}],\"center\":[{\"id\":\"1017\",\"type\":\"Grid\"},{\"id\":\"1022\",\"type\":\"Grid\"},{\"id\":\"1047\",\"type\":\"Legend\"}],\"left\":[{\"id\":\"1018\",\"type\":\"LinearAxis\"}],\"plot_height\":400,\"plot_width\":400,\"renderers\":[{\"id\":\"1039\",\"type\":\"GlyphRenderer\"},{\"id\":\"1052\",\"type\":\"GlyphRenderer\"},{\"id\":\"1066\",\"type\":\"GlyphRenderer\"},{\"id\":\"1082\",\"type\":\"GlyphRenderer\"},{\"id\":\"1100\",\"type\":\"GlyphRenderer\"}],\"title\":{\"id\":\"1003\",\"type\":\"Title\"},\"toolbar\":{\"id\":\"1029\",\"type\":\"Toolbar\"},\"x_range\":{\"id\":\"1005\",\"type\":\"Range1d\"},\"x_scale\":{\"id\":\"1009\",\"type\":\"LinearScale\"},\"y_range\":{\"id\":\"1007\",\"type\":\"Range1d\"},\"y_scale\":{\"id\":\"1011\",\"type\":\"LinearScale\"}},\"id\":\"1002\",\"subtype\":\"Figure\",\"type\":\"Plot\"},{\"attributes\":{\"text\":\"Elliptical orbit, RK4, a=50, e=0.9, theta=30 degrees\"},\"id\":\"1003\",\"type\":\"Title\"},{\"attributes\":{\"line_color\":\"cyan\",\"x\":{\"field\":\"x\"},\"y\":{\"field\":\"y\"}},\"id\":\"1037\",\"type\":\"Line\"},{\"attributes\":{\"callback\":null,\"data\":{\"x\":{\"__ndarray__\":\"54hxOG+RVEBEkjwin19UQAZPyrLZIlRApKsLj13bU0CJwC5ndIlTQDI3qapyLVNAI5suMbfHUkA7T+zYqlhSQM7ubxrA4FFAIImnknJgUUABWnWDRthQQFRZWkvISFBAI1WIqRdlT0AyKCf7VyxOQM5V8e6T6ExARISSQxmbS0A8zvm6P0VKQGB2/7dn6EhArpwl0/iFR0AQZ+pnYB9GQNC3KRwQtkRAzqsSY3xLQ0CHqTn9GuFBQELEUndheEBAtjFDUoclPkBAJVdsZGM7QLZsbyMyrThARFRHD7wFNkACaiGXvm8zQH7PyR/k7TBAiTdSmIQFLUCr0nmmrmEoQP05atwO9SNAdDxwhWmIH0BUi1CJ5KYXQC5mXHiuTRBAuKgVCLUIA0CgD2RjPI/qP3B0N684GuK/pLFDnsDV/L98SR/y9P4GwN7AT1D0OQ7APjKqLjUKEsDzueA5J0QUwJ6+r8aEyBXAb3Y0f72VFsDosXHX/aoWwGQGYecvCBbAvq2HgfutFMA31PeFxZ0SwM5P4eRcsw/AQMIwYiDJCMDUqiVQ9oMAwFCA4WeUseu/GODq/n+d3z+oRuUYExEAQEyBBTdHXw1AO/QBlUroFUDoY3fXDKsdQNb8NTL19yJAEh3Ejy5XJ0CGGvnLsO4rQKQ3txTgXDBAOjxt47XZMkDwCndbSWs1QCy13KT0DjhAvFASQf/BOkCOF+7YoIE9QOMWeg2CJUBA4o+B06SNQUBoMC+CxfdCQCSxhM9uYkRA/Siv5CrMRUDYl2PfhDNHQCpgP1IKl0hAwHWgwkz1SUDzpGsi40xLQOKGO0RrnExAZnt4SIviTUDET+EB8x1PQFuGCqiuJlBAmFlct8i3UEACt+8bskFRQCpwNKzcw1FAl9iLOsI9UkCsGpkf5a5SQPUHyLvQFlNAFuCE7xl1U0DkIamJX8lTQLKSq6tKE1RAKjUsI49SVEBO4X+464ZUQBOG6nEqsFRAKMhCyyDOVEAKo8Xhr+BUQBPf7JPE51RA3IonlVfjVEDKI2B1bdNUQFCsSJwWuFRA54hxOG+RVEA=\",\"dtype\":\"float64\",\"shape\":[100]},\"y\":{\"__ndarray__\":\"//////+/R0BihghEyVJIQOTRg5cY2EhAiCVCj2RPSUDG/AAyMrhJQPabLncVEkpAzg1HtrFcSkBVwlcGupdKQPRZR43xwkpAXOOPviveSkAM4yqJTOlKQBrOf3RI5EpAfiU3rCTPSkByAeb69qlKQG2Ll7PldEpAgo5LiicwSkA715JbA9xJQIyDg+PPeElA345QZPMGSUA1xOA844ZIQPq+0W8j+UdAaLJjG0ZeR0A5Pdri6rZGQFqN7Um+A0ZA7XT1AnlFRUCgwIUw33xEQEURQJu/qkNAGqKr3PLPQkDYte5/Wu1BQNPSTxngA0FAbnduVXQUQEDr81YCHEA+QDSigRZSTzxAGAkeAYtYOkDj8lcIzV04QOJchogiYTZAxIW12ZdkNECMoCUzOWoyQJxW644QdDBA+j6+H0cILUBIKgzY4jgpQCqbNLvhfSVA7N+jORzbIUD02eyRo6gcQGyU4Q1K2hVAoLPL6F+kDkCQcw/SIS4CQIAJ/qbJeuk/YLwwwwb34r+g0Ia7jDf+v5DvXMursAjAwG/9vEi5EMCQfkw1OKwUwOQjgzYSLRjA9A8pQjo4G8BULmMsjcodwAjN4Fdk4R/AiLaxOEy9IMD4EgjUQUohwOxiILABlyHAdDuKrzyjIcCdjsU25m4hwISlQTk0+iDAKwDAAZ9FIMCQ3ahswaMewCJuBDHpPxzAYCR4BCxiGcCi/qNBfg0WwLwCON5ORRLAsIbOwQcbDMDU0Dy57NQCwIzoiNS3g/G/qDix5ECe0D/kYqZ0qEH7Pwz0tz5g2QlARCU5mGlYE0CaDbwk+AwaQFj9Dye5gSBAH33wVFUaJEBUHeSfm8wnQKzxMZe8lCtAvdEEQ9JuL0CUvpIUcqsxQNiWZLJ1pDNAKj6eZmugNUA6l5GTR503QAZL/a39mDlAKt/CWYKRO0AgUWSFzYQ9QI4YHYLccD9As/g2C9qpQEAcRHxEsZVBQHMHyNAAe0JAwuw2T9xYQ0DMrcINXy5EQIqWAPWs+kRAnIgBa/O8RUC8oWksanRGQKi83xpUIEdA/v////+/R0A=\",\"dtype\":\"float64\",\"shape\":[100]}},\"selected\":{\"id\":\"1059\",\"type\":\"Selection\"},\"selection_policy\":{\"id\":\"1060\",\"type\":\"UnionRenderers\"}},\"id\":\"1036\",\"type\":\"ColumnDataSource\"},{\"attributes\":{\"line_color\":\"purple\",\"x\":{\"field\":\"x\"},\"y\":{\"field\":\"y\"}},\"id\":\"1064\",\"type\":\"Line\"},{\"attributes\":{\"label\":{\"value\":\"Star 1\"},\"renderers\":[{\"id\":\"1066\",\"type\":\"GlyphRenderer\"}]},\"id\":\"1078\",\"type\":\"LegendItem\"},{\"attributes\":{\"source\":{\"id\":\"1036\",\"type\":\"ColumnDataSource\"}},\"id\":\"1040\",\"type\":\"CDSView\"},{\"attributes\":{},\"id\":\"1076\",\"type\":\"UnionRenderers\"},{\"attributes\":{\"data_source\":{\"id\":\"1036\",\"type\":\"ColumnDataSource\"},\"glyph\":{\"id\":\"1037\",\"type\":\"Line\"},\"hover_glyph\":null,\"muted_glyph\":null,\"nonselection_glyph\":{\"id\":\"1038\",\"type\":\"Line\"},\"selection_glyph\":null,\"view\":{\"id\":\"1040\",\"type\":\"CDSView\"}},\"id\":\"1039\",\"type\":\"GlyphRenderer\"},{\"attributes\":{},\"id\":\"1113\",\"type\":\"Selection\"},{\"attributes\":{\"line_color\":\"green\",\"x\":{\"field\":\"x\"},\"y\":{\"field\":\"y\"}},\"id\":\"1098\",\"type\":\"Line\"},{\"attributes\":{\"label\":{\"value\":\"Ideal Ellipse 1\"},\"renderers\":[{\"id\":\"1039\",\"type\":\"GlyphRenderer\"}]},\"id\":\"1048\",\"type\":\"LegendItem\"},{\"attributes\":{\"source\":{\"id\":\"1049\",\"type\":\"ColumnDataSource\"}},\"id\":\"1053\",\"type\":\"CDSView\"},{\"attributes\":{},\"id\":\"1114\",\"type\":\"UnionRenderers\"},{\"attributes\":{\"callback\":null,\"data\":{\"x\":{\"__ndarray__\":\"8C830QxSEUCGi8/bFmoMQNojh+1o0QRAIG9l68jD9z9wQ1Wh90vKP0qtNy3wtvO/mFjvReeSBsDTahwnOToSwJhx4g7luBnAQma0xd7eIMA230U/PyAlwJ/kHQAxnCnAt1rPtBROLsA9Byq3iZgxwAOslc8RIDTAGk9TJge7NsAou4Q3umY5wOBqeT1qIDzARh4tB0jlPsDAxNFuPNlAwAB0krqMQkLAAoCpcyCtQ8BKgoLZgRdFwI5naV87gEbA9ZKaLdnlR8AwmZCg6kZJwHV1BMUDokrAroEYz771S8DPdiuLvUBNwBFE18aqgU7A7p2nsDu3T8CT246WGHBQwKnO0I+s/VDAIRIH08eDUcAzDcki4AFSwIVP2INzd1LAomgdwwjkUsDJTZfyL0dTwNGEvNyCoFPAriTXbaXvU8AzEO8SRjRUwO6T4A0eblTADLlIvvGcVMCHIfzekMBUwNIRybfW2FTAT11RQ6rlVMAHMdVI/uZUwE4m1GnR3FTAxJB2Iy7HVMArk73DKqZUwGYghVLpeVTA+ptvbpdCVMA+Q98dbgBUwOnYLZSxs1PACCtf67BcU8Cy65bSxftSwN3ppTFUkVLApPYNwskdUsCqn+adnaFRwE1WF8VPHVHARpJlmWiRUMAu5b2j8PxPwP6PYMwsyk7As40F5cGLTcBXpgAp+EJMwDrRTYQi8UrAcgMzNp2XScAJIEVqzDdIwO0UQska00bA7Zs6A/hqRcBo+4xU1wBEwKx6NwculkLA0wIN8nEsQcDwJ7HuL4o/wEyX+QglwzzAIGw3KKAGOsC6DaFoc1c3wNtJASVjuDTA1WCHHCMsMsAxcGtTp2ovwGp8nBr+rCrAf+INoC0kJsAu93J74tQhwNZbmvIbhxvADtUjDcPoE8CEZ594Ka0JwLh8g+VrX/m/gEjXZO/RvL/o/sKSR0TzPyCZrwmI3wJAROjD+RbICkBRthzS1KkQQLcCx2jAPRNAECRL/iUdFUAi0nhmF0YWQLaS7IhitxZAQk+XnJJwFkAg3iCg8HEVQI1mqQ6DvBNA8y830QxSEUA=\",\"dtype\":\"float64\",\"shape\":[100]},\"y\":{\"__ndarray__\":\"AAAAAAAABEAoZohAlCwNQCiPHrzEwBJATCwReiR7FkA45geQkcEZQLTfdLmrkBxAdG44so3lHkBYCV8Z6F4gQNRnHTXGCyFAdI0/+q54IUAzjKskMqUhQG04/9EhkSFA+5XcsJI8IUDKBZjr26cgQG5bvJwtpx9AGnRcUjyBHUDguZbcGuAaQGQcHBx/xhdABneEIps3FECuIQbnGTcQQKLvG/02kgdAAE12bMPI+z+QnB5tcXXbPzipnIRtEO+/JLGo0G+oA8D2+tF7BhkQwNF1/yUDqhbAJe+iGmmAHcCYKEUAlkoiwKy0wJp/8CXAQyJGqi6uKcAmGFL7x38twMpdfumtsDDA5vbh/nSnMsAaDaj3MqI0wByjeXfdnjbAO3pKJmibOMByX9rMxpU6wGKpFHHvizzAgOAgcNx7PsBt9fxJxzFAwDXZMpGHIEHABAiX8TgJQsDAZMKN6+pCwHLNQ762xEPAxURzAbqVRMDGCN/iHV1FwNkHZNkUGkbA8MIMG9zLRsCENtxlvHFHwPjOtbwKC0jA962fFymXSMDRj6kGhxVJwHxk0EaihUnA/iFFSAfnScDKZYylUTlKwKAZ/IosfErAoW0sDlOvSsC9BAJ1kNJKwLoYCGzA5UrA3I7iK8/oSsCmY7GNudtKwGBpUA6NvkrACgBwwGeRSsCxG5UteFRKwMONICb9B0rAigSPgEWsScDTfzTIr0FJwFYAx9upyEjAaugcfLBBSMAMzZPLTq1HwENHpL4dDEfAjp02fsNeRsDozFq88qVFwL6AFPxp4kTAVtv4zPIURMBLfmj7YD5DwKkAPLaRX0LAuODDqmp5QcCq+AYY2YxAwCgHZ7ShNT/AHpd93pZIPcBqQW3rjVQ7wCZpm02KWznA1MFhmZRfN8DFaG5suGI1wPe0AlICZzPA1CA9pn1uMcC+XTf1ZPYuwODOxftGHivAMB0k05dYJ8CM7w7uOqkjwDLi37z8EyDA6JlIhh05GcCUkeqRB40SwEiX9q8wVQjAUOzOn5Jh+L8Ah7wspyu3vzCV91uDCvQ/+P//////A0A=\",\"dtype\":\"float64\",\"shape\":[100]}},\"selected\":{\"id\":\"1075\",\"type\":\"Selection\"},\"selection_policy\":{\"id\":\"1076\",\"type\":\"UnionRenderers\"}},\"id\":\"1049\",\"type\":\"ColumnDataSource\"},{\"attributes\":{\"callback\":null,\"data\":{\"x\":{\"__ndarray__\":\"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\",\"dtype\":\"float64\",\"shape\":[299]},\"y\":{\"__ndarray__\":\"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\",\"dtype\":\"float64\",\"shape\":[299]}},\"selected\":{\"id\":\"1113\",\"type\":\"Selection\"},\"selection_policy\":{\"id\":\"1114\",\"type\":\"UnionRenderers\"}},\"id\":\"1079\",\"type\":\"ColumnDataSource\"},{\"attributes\":{},\"id\":\"1023\",\"type\":\"PanTool\"},{\"attributes\":{},\"id\":\"1115\",\"type\":\"Selection\"},{\"attributes\":{\"line_alpha\":0.1,\"line_color\":\"#1f77b4\",\"x\":{\"field\":\"x\"},\"y\":{\"field\":\"y\"}},\"id\":\"1051\",\"type\":\"Line\"},{\"attributes\":{\"source\":{\"id\":\"1079\",\"type\":\"ColumnDataSource\"}},\"id\":\"1083\",\"type\":\"CDSView\"},{\"attributes\":{\"callback\":null,\"end\":200,\"start\":-200},\"id\":\"1007\",\"type\":\"Range1d\"},{\"attributes\":{\"line_alpha\":0.1,\"line_color\":\"#1f77b4\",\"x\":{\"field\":\"x\"},\"y\":{\"field\":\"y\"}},\"id\":\"1081\",\"type\":\"Line\"},{\"attributes\":{},\"id\":\"1024\",\"type\":\"WheelZoomTool\"},{\"attributes\":{},\"id\":\"1116\",\"type\":\"UnionRenderers\"},{\"attributes\":{\"data_source\":{\"id\":\"1049\",\"type\":\"ColumnDataSource\"},\"glyph\":{\"id\":\"1050\",\"type\":\"Line\"},\"hover_glyph\":null,\"muted_glyph\":null,\"nonselection_glyph\":{\"id\":\"1051\",\"type\":\"Line\"},\"selection_glyph\":null,\"view\":{\"id\":\"1053\",\"type\":\"CDSView\"}},\"id\":\"1052\",\"type\":\"GlyphRenderer\"},{\"attributes\":{\"overlay\":{\"id\":\"1046\",\"type\":\"BoxAnnotation\"}},\"id\":\"1025\",\"type\":\"BoxZoomTool\"},{\"attributes\":{\"data_source\":{\"id\":\"1079\",\"type\":\"ColumnDataSource\"},\"glyph\":{\"id\":\"1080\",\"type\":\"Line\"},\"hover_glyph\":null,\"muted_glyph\":null,\"nonselection_glyph\":{\"id\":\"1081\",\"type\":\"Line\"},\"selection_glyph\":null,\"view\":{\"id\":\"1083\",\"type\":\"CDSView\"}},\"id\":\"1082\",\"type\":\"GlyphRenderer\"},{\"attributes\":{},\"id\":\"1026\",\"type\":\"SaveTool\"},{\"attributes\":{\"x\":{\"field\":\"x\"},\"y\":{\"field\":\"y\"}},\"id\":\"1050\",\"type\":\"Line\"},{\"attributes\":{},\"id\":\"1027\",\"type\":\"ResetTool\"},{\"attributes\":{},\"id\":\"1059\",\"type\":\"Selection\"},{\"attributes\":{},\"id\":\"1093\",\"type\":\"Selection\"},{\"attributes\":{\"line_alpha\":0.1,\"line_color\":\"#1f77b4\",\"x\":{\"field\":\"x\"},\"y\":{\"field\":\"y\"}},\"id\":\"1038\",\"type\":\"Line\"},{\"attributes\":{\"label\":{\"value\":\"Ideal Ellipse 2\"},\"renderers\":[{\"id\":\"1052\",\"type\":\"GlyphRenderer\"}]},\"id\":\"1062\",\"type\":\"LegendItem\"},{\"attributes\":{\"label\":{\"value\":\"Star 2\"},\"renderers\":[{\"id\":\"1082\",\"type\":\"GlyphRenderer\"}]},\"id\":\"1096\",\"type\":\"LegendItem\"},{\"attributes\":{},\"id\":\"1028\",\"type\":\"HelpTool\"},{\"attributes\":{},\"id\":\"1060\",\"type\":\"UnionRenderers\"},{\"attributes\":{},\"id\":\"1094\",\"type\":\"UnionRenderers\"},{\"attributes\":{},\"id\":\"1009\",\"type\":\"LinearScale\"},{\"attributes\":{},\"id\":\"1011\",\"type\":\"LinearScale\"},{\"attributes\":{\"line_color\":\"blue\",\"x\":{\"field\":\"x\"},\"y\":{\"field\":\"y\"}},\"id\":\"1080\",\"type\":\"Line\"},{\"attributes\":{\"formatter\":{\"id\":\"1043\",\"type\":\"BasicTickFormatter\"},\"ticker\":{\"id\":\"1014\",\"type\":\"BasicTicker\"}},\"id\":\"1013\",\"type\":\"LinearAxis\"},{\"attributes\":{},\"id\":\"1043\",\"type\":\"BasicTickFormatter\"},{\"attributes\":{\"click_policy\":\"hide\",\"items\":[{\"id\":\"1048\",\"type\":\"LegendItem\"},{\"id\":\"1062\",\"type\":\"LegendItem\"},{\"id\":\"1078\",\"type\":\"LegendItem\"},{\"id\":\"1096\",\"type\":\"LegendItem\"}],\"location\":\"bottom_left\"},\"id\":\"1047\",\"type\":\"Legend\"},{\"attributes\":{\"callback\":null,\"data\":{\"x\":{\"__ndarray__\":\"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\",\"dtype\":\"float64\",\"shape\":[299]},\"y\":{\"__ndarray__\":\"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\",\"dtype\":\"float64\",\"shape\":[299]}},\"selected\":{\"id\":\"1093\",\"type\":\"Selection\"},\"selection_policy\":{\"id\":\"1094\",\"type\":\"UnionRenderers\"}},\"id\":\"1063\",\"type\":\"ColumnDataSource\"},{\"attributes\":{\"callback\":null,\"data\":{\"x\":[-200,-199,-198,-197,-196,-195,-194,-193,-192,-191,-190,-189,-188,-187,-186,-185,-184,-183,-182,-181,-180,-179,-178,-177,-176,-175,-174,-173,-172,-171,-170,-169,-168,-167,-166,-165,-164,-163,-162,-161,-160,-159,-158,-157,-156,-155,-154,-153,-152,-151,-150,-149,-148,-147,-146,-145,-144,-143,-142,-141,-140,-139,-138,-137,-136,-135,-134,-133,-132,-131,-130,-129,-128,-127,-126,-125,-124,-123,-122,-121,-120,-119,-118,-117,-116,-115,-114,-113,-112,-111,-110,-109,-108,-107,-106,-105,-104,-103,-102,-101,-100,-99,-98,-97,-96,-95,-94,-93,-92,-91,-90,-89,-88,-87,-86,-85,-84,-83,-82,-81,-80,-79,-78,-77,-76,-75,-74,-73,-72,-71,-70,-69,-68,-67,-66,-65,-64,-63,-62,-61,-60,-59,-58,-57,-56,-55,-54,-53,-52,-51,-50,-49,-48,-47,-46,-45,-44,-43,-42,-41,-40,-39,-38,-37,-36,-35,-34,-33,-32,-31,-30,-29,-28,-27,-26,-25,-24,-23,-22,-21,-20,-19,-18,-17,-16,-15,-14,-13,-12,-11,-10,-9,-8,-7,-6,-5,-4,-3,-2,-1,0,1,2,3,4,5,6,7,8,9,10,11,12,13,14,15,16,17,18,19,20,21,22,23,24,25,26,27,28,29,30,31,32,33,34,35,36,37,38,39,40,41,42,43,44,45,46,47,48,49,50,51,52,53,54,55,56,57,58,59,60,61,62,63,64,65,66,67,68,69,70,71,72,73,74,75,76,77,78,79,80,81,82,83,84,85,86,87,88,89,90,91,92,93,94,95,96,97,98,99,100,101,102,103,104,105,106,107,108,109,110,111,112,113,114,115,116,117,118,119,120,121,122,123,124,125,126,127,128,129,130,131,132,133,134,135,136,137,138,139,140,141,142,143,144,145,146,147,148,149,150,151,152,153,154,155,156,157,158,159,160,161,162,163,164,165,166,167,168,169,170,171,172,173,174,175,176,177,178,179,180,181,182,183,184,185,186,187,188,189,190,191,192,193,194,195,196,197,198,199],\"y\":{\"__ndarray__\":\"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\",\"dtype\":\"float64\",\"shape\":[400]}},\"selected\":{\"id\":\"1115\",\"type\":\"Selection\"},\"selection_policy\":{\"id\":\"1116\",\"type\":\"UnionRenderers\"}},\"id\":\"1097\",\"type\":\"ColumnDataSource\"},{\"attributes\":{},\"id\":\"1019\",\"type\":\"BasicTicker\"},{\"attributes\":{\"source\":{\"id\":\"1063\",\"type\":\"ColumnDataSource\"}},\"id\":\"1067\",\"type\":\"CDSView\"},{\"attributes\":{},\"id\":\"1014\",\"type\":\"BasicTicker\"},{\"attributes\":{\"line_alpha\":0.1,\"line_color\":\"#1f77b4\",\"x\":{\"field\":\"x\"},\"y\":{\"field\":\"y\"}},\"id\":\"1065\",\"type\":\"Line\"},{\"attributes\":{\"source\":{\"id\":\"1097\",\"type\":\"ColumnDataSource\"}},\"id\":\"1101\",\"type\":\"CDSView\"},{\"attributes\":{\"ticker\":{\"id\":\"1014\",\"type\":\"BasicTicker\"}},\"id\":\"1017\",\"type\":\"Grid\"},{\"attributes\":{\"line_alpha\":0.1,\"line_color\":\"#1f77b4\",\"x\":{\"field\":\"x\"},\"y\":{\"field\":\"y\"}},\"id\":\"1099\",\"type\":\"Line\"},{\"attributes\":{\"active_drag\":\"auto\",\"active_inspect\":\"auto\",\"active_multi\":null,\"active_scroll\":\"auto\",\"active_tap\":\"auto\",\"tools\":[{\"id\":\"1023\",\"type\":\"PanTool\"},{\"id\":\"1024\",\"type\":\"WheelZoomTool\"},{\"id\":\"1025\",\"type\":\"BoxZoomTool\"},{\"id\":\"1026\",\"type\":\"SaveTool\"},{\"id\":\"1027\",\"type\":\"ResetTool\"},{\"id\":\"1028\",\"type\":\"HelpTool\"}]},\"id\":\"1029\",\"type\":\"Toolbar\"},{\"attributes\":{\"data_source\":{\"id\":\"1063\",\"type\":\"ColumnDataSource\"},\"glyph\":{\"id\":\"1064\",\"type\":\"Line\"},\"hover_glyph\":null,\"muted_glyph\":null,\"nonselection_glyph\":{\"id\":\"1065\",\"type\":\"Line\"},\"selection_glyph\":null,\"view\":{\"id\":\"1067\",\"type\":\"CDSView\"}},\"id\":\"1066\",\"type\":\"GlyphRenderer\"},{\"attributes\":{\"dimension\":1,\"ticker\":{\"id\":\"1019\",\"type\":\"BasicTicker\"}},\"id\":\"1022\",\"type\":\"Grid\"},{\"attributes\":{\"callback\":null,\"end\":200,\"start\":-200},\"id\":\"1005\",\"type\":\"Range1d\"},{\"attributes\":{\"bottom_units\":\"screen\",\"fill_alpha\":{\"value\":0.5},\"fill_color\":{\"value\":\"lightgrey\"},\"left_units\":\"screen\",\"level\":\"overlay\",\"line_alpha\":{\"value\":1.0},\"line_color\":{\"value\":\"black\"},\"line_dash\":[4,4],\"line_width\":{\"value\":2},\"render_mode\":\"css\",\"right_units\":\"screen\",\"top_units\":\"screen\"},\"id\":\"1046\",\"type\":\"BoxAnnotation\"},{\"attributes\":{\"data_source\":{\"id\":\"1097\",\"type\":\"ColumnDataSource\"},\"glyph\":{\"id\":\"1098\",\"type\":\"Line\"},\"hover_glyph\":null,\"muted_glyph\":null,\"nonselection_glyph\":{\"id\":\"1099\",\"type\":\"Line\"},\"selection_glyph\":null,\"view\":{\"id\":\"1101\",\"type\":\"CDSView\"}},\"id\":\"1100\",\"type\":\"GlyphRenderer\"},{\"attributes\":{\"formatter\":{\"id\":\"1045\",\"type\":\"BasicTickFormatter\"},\"ticker\":{\"id\":\"1019\",\"type\":\"BasicTicker\"}},\"id\":\"1018\",\"type\":\"LinearAxis\"},{\"attributes\":{},\"id\":\"1045\",\"type\":\"BasicTickFormatter\"},{\"attributes\":{},\"id\":\"1075\",\"type\":\"Selection\"}],\"root_ids\":[\"1002\"]},\"title\":\"Bokeh Application\",\"version\":\"1.3.4\"}};\n",
       "  var render_items = [{\"docid\":\"5595953a-da66-48d6-afe0-5be23fec7c9a\",\"roots\":{\"1002\":\"983ca9df-6016-4f6e-9d1e-1e82b4ac5731\"}}];\n",
       "  root.Bokeh.embed.embed_items_notebook(docs_json, render_items);\n",
       "\n",
       "  }\n",
       "  if (root.Bokeh !== undefined) {\n",
       "    embed_document(root);\n",
       "  } else {\n",
       "    var attempts = 0;\n",
       "    var timer = setInterval(function(root) {\n",
       "      if (root.Bokeh !== undefined) {\n",
       "        embed_document(root);\n",
       "        clearInterval(timer);\n",
       "      }\n",
       "      attempts++;\n",
       "      if (attempts > 100) {\n",
       "        console.log(\"Bokeh: ERROR: Unable to run BokehJS code because BokehJS library is missing\");\n",
       "        clearInterval(timer);\n",
       "      }\n",
       "    }, 10, root)\n",
       "  }\n",
       "})(window);"
      ],
      "application/vnd.bokehjs_exec.v0+json": ""
     },
     "metadata": {
      "application/vnd.bokehjs_exec.v0+json": {
       "id": "1002"
      }
     },
     "output_type": "display_data"
    }
   ],
   "source": [
    "import ellipsefns\n",
    "from bokeh.io import output_notebook, show\n",
    "from bokeh.plotting import figure\n",
    "output_notebook()\n",
    "import numpy as np\n",
    "# create a new plot with default tools, using figure\n",
    "p = figure(title=\"Elliptical orbit, RK4, a=\"+str(rad0)+\", e=\"+ str(ecc0)+\", theta=\"+str(round(180*theta0/math.pi))+ \" degrees\", plot_width=400, plot_height=400, x_range=(-200,200), y_range=(-200,200))\n",
    "t = np.linspace(0, 2*math.pi, 100)\n",
    "xax=-200+np.arange(0,400)\n",
    "#theta0=math.pi/6.\n",
    "# add a circle renderer with x and y coordinates, size, color, and alpha\n",
    "p.line(ellipsefns.getxtheory(theta0,ecc0,rad0,t,1),ellipsefns.getytheory(theta0,ecc0,rad0,t,1), line_color=\"cyan\", legend=\"Ideal Ellipse 1\")\n",
    "p.line(ellipsefns.getxtheory(theta0,ecc0,rad0,t,-1),ellipsefns.getytheory(theta0,ecc0,rad0,t,-1),line_color=\"black\", legend=\"Ideal Ellipse 2\")\n",
    "p.line(npstar1x[:,0],npstar1x[:,1], line_color=\"purple\", legend=\"Star 1\")\n",
    "p.line(npstar2x[:,0],npstar2x[:,1], line_color=\"blue\", legend=\"Star 2\")\n",
    "p.line(xax, np.tan(theta0)*xax,line_color=\"green\")\n",
    "p.legend.location = \"bottom_left\"\n",
    "p.legend.click_policy=\"hide\"\n",
    "\n",
    "show(p) # show the"
   ]
  },
  {
   "cell_type": "markdown",
   "metadata": {},
   "source": [
    "%%html\n",
    "<a href=\"https://github.com/sdorsher/ManyBodyProblem/blob/master/EllipseSymmetry.png\">Elliptical orbits at thirty degrees with symmetry line</a>\n",
    "It is clear that the elliptical orbits have focuses, perhelions, and aphelions on the axis of symmetry from this plot. It is also clear that the orbits are symmetric with respect to eachother. "
   ]
  },
  {
   "cell_type": "code",
   "execution_count": 14,
   "metadata": {},
   "outputs": [],
   "source": [
    "import Lstability"
   ]
  },
  {
   "cell_type": "code",
   "execution_count": 15,
   "metadata": {},
   "outputs": [
    {
     "data": {
      "text/plain": [
       "(4.278550941562962e-09, -1.0274023310582483)"
      ]
     },
     "execution_count": 15,
     "metadata": {},
     "output_type": "execute_result"
    }
   ],
   "source": [
    "deltaL, Lavg=Lstability.Lstability(npstar1x,npstar2x,mass0)\n",
    "deltaL, Lavg"
   ]
  },
  {
   "cell_type": "code",
   "execution_count": null,
   "metadata": {},
   "outputs": [],
   "source": [
    "assert deltaL<1e-5, \"Angular momentum is not constant, relative error greater than 1e-5\""
   ]
  },
  {
   "cell_type": "markdown",
   "metadata": {},
   "source": [
    "Orbit conserves angular momentum to a tolerance of one part in 10^5"
   ]
  },
  {
   "cell_type": "code",
   "execution_count": 17,
   "metadata": {},
   "outputs": [],
   "source": [
    "import Estability"
   ]
  },
  {
   "cell_type": "code",
   "execution_count": 18,
   "metadata": {},
   "outputs": [
    {
     "data": {
      "text/plain": [
       "(1.0589843108096096e-07, -0.005000000634119679)"
      ]
     },
     "execution_count": 18,
     "metadata": {},
     "output_type": "execute_result"
    }
   ],
   "source": [
    "deltaE, Eavg = Estability.Estability(npstar1x, npstar2x, mass0)\n",
    "deltaE, Eavg"
   ]
  },
  {
   "cell_type": "code",
   "execution_count": 19,
   "metadata": {},
   "outputs": [],
   "source": [
    "assert deltaE < 1e-5, \"Energy is not constant, relative error greater than 1e-5\""
   ]
  },
  {
   "cell_type": "raw",
   "metadata": {},
   "source": [
    "Orbit conserves energy to a tolerance of one part in 10^5. "
   ]
  },
  {
   "cell_type": "code",
   "execution_count": 20,
   "metadata": {},
   "outputs": [
    {
     "data": {
      "text/plain": [
       "array([[-8.21053971e+01, -4.77782002e+01,  0.00000000e+00,\n",
       "         8.59040633e-03, -1.37709504e-02,  0.00000000e+00],\n",
       "       [-8.19288028e+01, -4.80508267e+01,  0.00000000e+00,\n",
       "         9.06889027e-03, -1.34914192e-02,  0.00000000e+00],\n",
       "       [-8.17426465e+01, -4.83178452e+01,  0.00000000e+00,\n",
       "         9.54661696e-03, -1.32101368e-02,  0.00000000e+00],\n",
       "       ...,\n",
       "       [-4.18255129e+01, -4.81105927e+01,  0.00000000e+00,\n",
       "         4.94258423e-02,  2.00070009e-02,  0.00000000e+00],\n",
       "       [-4.08288665e+01, -4.77010530e+01,  0.00000000e+00,\n",
       "         5.02417135e-02,  2.09528017e-02,  0.00000000e+00],\n",
       "       [-3.98157244e+01, -4.72722387e+01,  0.00000000e+00,\n",
       "         5.10755855e-02,  2.19348960e-02,  0.00000000e+00]])"
      ]
     },
     "execution_count": 20,
     "metadata": {},
     "output_type": "execute_result"
    }
   ],
   "source": [
    "npstar1x"
   ]
  },
  {
   "cell_type": "code",
   "execution_count": 22,
   "metadata": {},
   "outputs": [],
   "source": [
    "import orbitsSymmetricTest"
   ]
  },
  {
   "cell_type": "code",
   "execution_count": 23,
   "metadata": {},
   "outputs": [],
   "source": [
    "allopposite=orbitsSymmetricTest.isSymmetric(npstar1x,npstar2x,npstar1a,npstar2a)"
   ]
  },
  {
   "cell_type": "code",
   "execution_count": 24,
   "metadata": {},
   "outputs": [],
   "source": [
    "assert allopposite, \"Orbit is not symmetric in r, v, and a > tol 10^-12\""
   ]
  },
  {
   "cell_type": "markdown",
   "metadata": {},
   "source": [
    "Orbit is symmetric with respect to r,v,and a up to a tolerance of 10^-12"
   ]
  },
  {
   "cell_type": "markdown",
   "metadata": {},
   "source": [
    "Test how well the orbital plane conforms to a line and how well the perihelion and aphelion are on that line by binning in x and averaging over y. This also allows idenfication of perihelion and aphelion for the purpose of determining if the eccentricity and semimajor axis are correct. Can use a histogram to do this if the bins are big enough, then divide by the number of elements in the bin. "
   ]
  },
  {
   "cell_type": "code",
   "execution_count": 27,
   "metadata": {},
   "outputs": [
    {
     "data": {
      "text/plain": [
       "-0.17659430629139194"
      ]
     },
     "execution_count": 27,
     "metadata": {},
     "output_type": "execute_result"
    }
   ],
   "source": [
    "npstar1x[0,0]-npstar1x[1,0]"
   ]
  },
  {
   "cell_type": "code",
   "execution_count": 34,
   "metadata": {},
   "outputs": [
    {
     "data": {
      "text/plain": [
       "-1.6443201525621554"
      ]
     },
     "execution_count": 34,
     "metadata": {},
     "output_type": "execute_result"
    }
   ],
   "source": [
    "npstar1x[100,0]-npstar1x[101,0]"
   ]
  },
  {
   "cell_type": "code",
   "execution_count": 62,
   "metadata": {},
   "outputs": [],
   "source": [
    "absdistx=np.abs(npstar1x[:,0]-npstar1x[0,0])"
   ]
  },
  {
   "cell_type": "code",
   "execution_count": 63,
   "metadata": {},
   "outputs": [
    {
     "data": {
      "text/plain": [
       "array([0.00000000e+00, 1.76594306e-01, 3.62750563e-01, 5.58454560e-01,\n",
       "       7.63693954e-01, 9.78458259e-01, 1.20273884e+00, 1.43652889e+00,\n",
       "       1.67982348e+00, 1.93261949e+00, 2.19491566e+00, 2.46671257e+00,\n",
       "       2.74801265e+00, 3.03882020e+00, 3.33914136e+00, 3.64898419e+00,\n",
       "       3.96835861e+00, 4.29727645e+00, 4.63575148e+00, 4.98379941e+00,\n",
       "       5.34143791e+00, 5.70868665e+00, 6.08556731e+00, 6.47210362e+00,\n",
       "       6.86832141e+00, 7.27424859e+00, 7.68991524e+00, 8.11535364e+00,\n",
       "       8.55059830e+00, 8.99568600e+00, 9.45065588e+00, 9.91554943e+00,\n",
       "       1.03904106e+01, 1.08752859e+01, 1.13702243e+01, 1.18752775e+01,\n",
       "       1.23904998e+01, 1.29159484e+01, 1.34516834e+01, 1.39977678e+01,\n",
       "       1.45542677e+01, 1.51212521e+01, 1.56987938e+01, 1.62869684e+01,\n",
       "       1.68858554e+01, 1.74955378e+01, 1.81161023e+01, 1.87476397e+01,\n",
       "       1.93902447e+01, 2.00440162e+01, 2.07090577e+01, 2.13854772e+01,\n",
       "       2.20733875e+01, 2.27729065e+01, 2.34841572e+01, 2.42072683e+01,\n",
       "       2.49423741e+01, 2.56896150e+01, 2.64491378e+01, 2.72210959e+01,\n",
       "       2.80056499e+01, 2.88029677e+01, 2.96132248e+01, 3.04366055e+01,\n",
       "       3.12733023e+01, 3.21235172e+01, 3.29874620e+01, 3.38653588e+01,\n",
       "       3.47574408e+01, 3.56639530e+01, 3.65851528e+01, 3.75213111e+01,\n",
       "       3.84727130e+01, 3.94396588e+01, 4.04224651e+01, 4.14214663e+01,\n",
       "       4.24370153e+01, 4.34694855e+01, 4.45192719e+01, 4.55867932e+01,\n",
       "       4.66724935e+01, 4.77768445e+01, 4.89003475e+01, 5.00435364e+01,\n",
       "       5.12069801e+01, 5.23912858e+01, 5.35971022e+01, 5.48251233e+01,\n",
       "       5.60760925e+01, 5.73508063e+01, 5.86501197e+01, 5.99749502e+01,\n",
       "       6.13262825e+01, 6.27051731e+01, 6.41127526e+01, 6.55502272e+01,\n",
       "       6.70188750e+01, 6.85200353e+01, 7.00550846e+01, 7.16253881e+01,\n",
       "       7.32322078e+01, 7.48765279e+01, 7.65587234e+01, 7.82779079e+01,\n",
       "       8.00306000e+01, 8.18078152e+01, 8.35881625e+01, 8.53194247e+01,\n",
       "       8.68610624e+01, 8.77702107e+01, 8.66485300e+01, 8.25745566e+01,\n",
       "       7.79948996e+01, 7.39135414e+01, 7.03093812e+01, 6.70770904e+01,\n",
       "       6.41355413e+01, 6.14274137e+01, 5.89116536e+01, 5.65580038e+01,\n",
       "       5.43435182e+01, 5.22503484e+01, 5.02643030e+01, 4.83738839e+01,\n",
       "       4.65696227e+01, 4.48436118e+01, 4.31891661e+01, 4.16005720e+01,\n",
       "       4.00729004e+01, 3.86018623e+01, 3.71836974e+01, 3.58150864e+01,\n",
       "       3.44930815e+01, 3.32150499e+01, 3.19786281e+01, 3.07816847e+01,\n",
       "       2.96222893e+01, 2.84986869e+01, 2.74092756e+01, 2.63525889e+01,\n",
       "       2.53272800e+01, 2.43321080e+01, 2.33659272e+01, 2.24276764e+01,\n",
       "       2.15163709e+01, 2.06310949e+01, 1.97709943e+01, 1.89352720e+01,\n",
       "       1.81231820e+01, 1.73340249e+01, 1.65671445e+01, 1.58219237e+01,\n",
       "       1.50977812e+01, 1.43941693e+01, 1.37105707e+01, 1.30464965e+01,\n",
       "       1.24014838e+01, 1.17750943e+01, 1.11669122e+01, 1.05765427e+01,\n",
       "       1.00036106e+01, 9.44775924e+00, 8.90864881e+00, 8.38595575e+00,\n",
       "       7.87937150e+00, 7.38860163e+00, 6.91336503e+00, 6.45339310e+00,\n",
       "       6.00842904e+00, 5.57822720e+00, 5.16255245e+00, 4.76117960e+00,\n",
       "       4.37389293e+00, 4.00048561e+00, 3.64075932e+00, 3.29452380e+00,\n",
       "       2.96159642e+00, 2.64180186e+00, 2.33497176e+00, 2.04094437e+00,\n",
       "       1.75956424e+00, 1.49068198e+00, 1.23415398e+00, 9.89842142e-01,\n",
       "       7.57613659e-01, 5.37340801e-01, 3.28900704e-01, 1.32175176e-01,\n",
       "       5.29494813e-02, 2.26582649e-01, 3.88829549e-01, 5.39791397e-01,\n",
       "       6.79565545e-01, 8.08245620e-01, 9.25921647e-01, 1.03268017e+00,\n",
       "       1.12860438e+00, 1.21377418e+00, 1.28826635e+00, 1.35215458e+00,\n",
       "       1.40550961e+00, 1.44839929e+00, 1.48088865e+00, 1.50303999e+00,\n",
       "       1.51491298e+00, 1.51656466e+00, 1.50804958e+00, 1.48941979e+00,\n",
       "       1.46072494e+00, 1.42201234e+00, 1.37332697e+00, 1.31471154e+00,\n",
       "       1.24620658e+00, 1.16785041e+00, 1.07967921e+00, 9.81727080e-01,\n",
       "       8.74026033e-01, 7.56606044e-01, 6.29495078e-01, 4.92719113e-01,\n",
       "       3.46302165e-01, 1.90266308e-01, 2.46316935e-02, 1.50583432e-01,\n",
       "       3.35362713e-01, 5.29691670e-01, 7.33557691e-01, 9.46950022e-01,\n",
       "       1.16985976e+00, 1.40227984e+00, 1.64420506e+00, 1.89563204e+00,\n",
       "       2.15655925e+00, 2.42698700e+00, 2.70691747e+00, 2.99635466e+00,\n",
       "       3.29530448e+00, 3.60377468e+00, 3.92177493e+00, 4.24931679e+00,\n",
       "       4.58641373e+00, 4.93308119e+00, 5.28933655e+00, 5.65519920e+00,\n",
       "       6.03069052e+00, 6.41583395e+00, 6.81065500e+00, 7.21518129e+00,\n",
       "       7.62944259e+00, 8.05347086e+00, 8.48730027e+00, 8.93096728e+00,\n",
       "       9.38451069e+00, 9.84797165e+00, 1.03213937e+01, 1.08048231e+01,\n",
       "       1.12983083e+01, 1.18019007e+01, 1.23156543e+01, 1.28396258e+01,\n",
       "       1.33738748e+01, 1.39184639e+01, 1.44734587e+01, 1.50389281e+01,\n",
       "       1.56149439e+01, 1.62015816e+01, 1.67989200e+01, 1.74070416e+01,\n",
       "       1.80260326e+01, 1.86559832e+01, 1.92969874e+01, 1.99491436e+01,\n",
       "       2.06125547e+01, 2.12873279e+01, 2.19735754e+01, 2.26714142e+01,\n",
       "       2.33809667e+01, 2.41023606e+01, 2.48357296e+01, 2.55812130e+01,\n",
       "       2.63389569e+01, 2.71091135e+01, 2.78918424e+01, 2.86873103e+01,\n",
       "       2.94956919e+01, 3.03171700e+01, 3.11519358e+01, 3.20001901e+01,\n",
       "       3.28621431e+01, 3.37380155e+01, 3.46280387e+01, 3.55324561e+01,\n",
       "       3.64515233e+01, 3.73855090e+01, 3.83346963e+01, 3.92993833e+01,\n",
       "       4.02798842e+01, 4.12765305e+01, 4.22896727e+01])"
      ]
     },
     "execution_count": 63,
     "metadata": {},
     "output_type": "execute_result"
    }
   ],
   "source": [
    "absdistx"
   ]
  },
  {
   "cell_type": "code",
   "execution_count": 68,
   "metadata": {},
   "outputs": [],
   "source": [
    "indexminx=np.argmin(absdistx[1:])"
   ]
  },
  {
   "cell_type": "code",
   "execution_count": 69,
   "metadata": {},
   "outputs": [
    {
     "data": {
      "text/plain": [
       "221"
      ]
     },
     "execution_count": 69,
     "metadata": {},
     "output_type": "execute_result"
    }
   ],
   "source": [
    "indexminx"
   ]
  },
  {
   "cell_type": "code",
   "execution_count": 70,
   "metadata": {},
   "outputs": [
    {
     "data": {
      "text/plain": [
       "-82.29566339611775"
      ]
     },
     "execution_count": 70,
     "metadata": {},
     "output_type": "execute_result"
    }
   ],
   "source": [
    "npstar1x[indexminx,0]"
   ]
  },
  {
   "cell_type": "code",
   "execution_count": 71,
   "metadata": {},
   "outputs": [
    {
     "data": {
      "text/plain": [
       "-82.10539708801772"
      ]
     },
     "execution_count": 71,
     "metadata": {},
     "output_type": "execute_result"
    }
   ],
   "source": [
    "npstar1x[0,0]"
   ]
  },
  {
   "cell_type": "markdown",
   "metadata": {},
   "source": [
    "Reverse count between 0 and index 221, instead, in pairs, rather than histogramming. Maybe interpolation is also necessary to get true symmetry"
   ]
  },
  {
   "cell_type": "markdown",
   "metadata": {},
   "source": [
    "Minimize line along predicted path, maximize line along predicted path, to find perihelion and aphelion. Match ecentricities and semimajor axis that way."
   ]
  },
  {
   "cell_type": "code",
   "execution_count": 72,
   "metadata": {},
   "outputs": [],
   "source": [
    "b=np.tan(theta0)"
   ]
  },
  {
   "cell_type": "markdown",
   "metadata": {},
   "source": [
    "looking for y/x = b. two points. "
   ]
  },
  {
   "cell_type": "code",
   "execution_count": 74,
   "metadata": {},
   "outputs": [
    {
     "data": {
      "text/plain": [
       "1.0079029283482996"
      ]
     },
     "execution_count": 74,
     "metadata": {},
     "output_type": "execute_result"
    }
   ],
   "source": [
    "npstar1x[0,1]/npstar1x[0,0]/b"
   ]
  },
  {
   "cell_type": "code",
   "execution_count": 83,
   "metadata": {},
   "outputs": [],
   "source": [
    "mostb1=np.abs(1-npstar1x[:,1]/npstar1x[:,0]/b)"
   ]
  },
  {
   "cell_type": "code",
   "execution_count": 91,
   "metadata": {},
   "outputs": [
    {
     "data": {
      "text/plain": [
       "array([7.90292835e-03, 1.58390016e-02, 2.38102929e-02, 3.18189112e-02,\n",
       "       3.98670047e-02, 4.79567640e-02, 5.60904246e-02, 6.42702712e-02,\n",
       "       7.24986402e-02, 8.07779240e-02, 8.91105744e-02, 9.74991068e-02,\n",
       "       1.05946104e-01, 1.14454221e-01, 1.23026190e-01, 1.31664822e-01,\n",
       "       1.40373019e-01, 1.49153770e-01, 1.58010166e-01, 1.66945399e-01,\n",
       "       1.75962772e-01, 1.85065704e-01, 1.94257740e-01, 2.03542556e-01,\n",
       "       2.12923968e-01, 2.22405941e-01, 2.31992600e-01, 2.41688236e-01,\n",
       "       2.51497321e-01, 2.61424517e-01, 2.71474691e-01, 2.81652924e-01,\n",
       "       2.91964531e-01, 3.02415070e-01, 3.13010367e-01, 3.23756524e-01,\n",
       "       3.34659947e-01, 3.45727364e-01, 3.56965847e-01, 3.68382838e-01,\n",
       "       3.79986175e-01, 3.91784123e-01, 4.03785405e-01, 4.15999238e-01,\n",
       "       4.28435369e-01, 4.41104120e-01, 4.54016432e-01, 4.67183916e-01,\n",
       "       4.80618907e-01, 4.94334529e-01, 5.08344758e-01, 5.22664500e-01,\n",
       "       5.37309674e-01, 5.52297299e-01, 5.67645602e-01, 5.83374130e-01,\n",
       "       5.99503876e-01, 6.16057424e-01, 6.33059104e-01, 6.50535178e-01,\n",
       "       6.68514041e-01, 6.87026447e-01, 7.06105774e-01, 7.25788317e-01,\n",
       "       7.46113627e-01, 7.67124895e-01, 7.88869400e-01, 8.11399015e-01,\n",
       "       8.34770800e-01, 8.59047688e-01, 8.84299282e-01, 9.10602793e-01,\n",
       "       9.38044137e-01, 9.66719234e-01, 9.96735551e-01, 1.02821394e+00,\n",
       "       1.06129085e+00, 1.09612098e+00, 1.13288055e+00, 1.17177124e+00,\n",
       "       1.21302509e+00, 1.25691058e+00, 1.30374026e+00, 1.35388037e+00,\n",
       "       1.40776318e+00, 1.46590289e+00, 1.52891647e+00, 1.59755119e+00,\n",
       "       1.67272175e+00, 1.75556082e+00, 1.84748947e+00, 1.95031693e+00,\n",
       "       2.06638534e+00, 2.19878514e+00, 2.35168508e+00, 2.53085530e+00,\n",
       "       2.74453042e+00, 3.00490247e+00, 3.33085735e+00, 3.75336197e+00,\n",
       "       4.32708632e+00, 5.15871881e+00, 6.48883778e+00, 9.00025459e+00,\n",
       "       1.57111381e+01, 1.01962546e+02, 1.85672340e+01, 7.43753812e+00,\n",
       "       3.99007206e+00, 2.07366545e+00, 1.95452577e-01, 2.22122194e+01,\n",
       "       4.40542923e+00, 2.84310941e+00, 2.29454723e+00, 1.99462475e+00,\n",
       "       1.79745919e+00, 1.65404904e+00, 1.54288529e+00, 1.45288156e+00,\n",
       "       1.37767162e+00, 1.31330361e+00, 1.25717559e+00, 1.20749364e+00,\n",
       "       1.16297422e+00, 1.12267057e+00, 1.08586634e+00, 1.05200770e+00,\n",
       "       1.02065842e+00, 9.91469356e-01, 9.64157075e-01, 9.38488608e-01,\n",
       "       9.14270328e-01, 8.91339704e-01, 8.69559077e-01, 8.48810910e-01,\n",
       "       8.28994101e-01, 8.10021101e-01, 7.91815624e-01, 7.74310824e-01,\n",
       "       7.57447812e-01, 7.41174460e-01, 7.25444415e-01, 7.10216282e-01,\n",
       "       6.95452951e-01, 6.81121027e-01, 6.67190355e-01, 6.53633617e-01,\n",
       "       6.40425986e-01, 6.27544836e-01, 6.14969486e-01, 6.02680987e-01,\n",
       "       5.90661929e-01, 5.78896283e-01, 5.67369251e-01, 5.56067150e-01,\n",
       "       5.44977293e-01, 5.34087898e-01, 5.23388001e-01, 5.12867381e-01,\n",
       "       5.02516490e-01, 4.92326395e-01, 4.82288725e-01, 4.72395621e-01,\n",
       "       4.62639693e-01, 4.53013984e-01, 4.43511930e-01, 4.34127332e-01,\n",
       "       4.24854328e-01, 4.15687364e-01, 4.06621172e-01, 3.97650747e-01,\n",
       "       3.88771330e-01, 3.79978387e-01, 3.71267597e-01, 3.62634831e-01,\n",
       "       3.54076142e-01, 3.45587750e-01, 3.37166034e-01, 3.28807516e-01,\n",
       "       3.20508856e-01, 3.12266838e-01, 3.04078364e-01, 2.95940446e-01,\n",
       "       2.87850198e-01, 2.79804828e-01, 2.71801633e-01, 2.63837993e-01,\n",
       "       2.55911364e-01, 2.48019272e-01, 2.40159312e-01, 2.32329137e-01,\n",
       "       2.24526460e-01, 2.16749044e-01, 2.08994702e-01, 2.01261292e-01,\n",
       "       1.93546712e-01, 1.85848898e-01, 1.78165821e-01, 1.70495482e-01,\n",
       "       1.62835910e-01, 1.55185160e-01, 1.47541309e-01, 1.39902452e-01,\n",
       "       1.32266703e-01, 1.24632187e-01, 1.16997044e-01, 1.09359421e-01,\n",
       "       1.01717472e-01, 9.40693555e-02, 8.64132309e-02, 7.87472580e-02,\n",
       "       7.10695932e-02, 6.33783876e-02, 5.56717846e-02, 4.79479177e-02,\n",
       "       4.02049080e-02, 3.24408616e-02, 2.46538677e-02, 1.68419956e-02,\n",
       "       9.00329220e-03, 1.13578002e-03, 6.76254607e-03, 1.46937212e-02,\n",
       "       2.26598135e-02, 3.06629265e-02, 3.87052028e-02, 4.67888265e-02,\n",
       "       5.49160265e-02, 6.30890801e-02, 7.13103162e-02, 7.95821188e-02,\n",
       "       8.79069310e-02, 9.62872586e-02, 1.04725675e-01, 1.13224823e-01,\n",
       "       1.21787425e-01, 1.30416280e-01, 1.39114276e-01, 1.47884390e-01,\n",
       "       1.56729698e-01, 1.65653375e-01, 1.74658709e-01, 1.83749103e-01,\n",
       "       1.92928082e-01, 2.02199303e-01, 2.11566561e-01, 2.21033800e-01,\n",
       "       2.30605119e-01, 2.40284787e-01, 2.50077248e-01, 2.59987137e-01,\n",
       "       2.70019289e-01, 2.80178754e-01, 2.90470813e-01, 3.00900987e-01,\n",
       "       3.11475062e-01, 3.22199101e-01, 3.33079464e-01, 3.44122830e-01,\n",
       "       3.55336222e-01, 3.66727025e-01, 3.78303019e-01, 3.90072406e-01,\n",
       "       4.02043842e-01, 4.14226468e-01, 4.26629954e-01, 4.39264536e-01,\n",
       "       4.52141062e-01, 4.65271044e-01, 4.78666709e-01, 4.92341063e-01,\n",
       "       5.06307956e-01, 5.20582154e-01, 5.35179424e-01, 5.50116622e-01,\n",
       "       5.65411793e-01, 5.81084287e-01, 5.97154881e-01, 6.13645917e-01,\n",
       "       6.30581467e-01, 6.47987502e-01, 6.65892094e-01, 6.84325643e-01,\n",
       "       7.03321132e-01, 7.22914415e-01, 7.43144553e-01, 7.64054186e-01,\n",
       "       7.85689973e-01, 8.08103092e-01, 8.31349815e-01, 8.55492184e-01,\n",
       "       8.80598785e-01, 9.06745671e-01, 9.34017427e-01, 9.62508445e-01,\n",
       "       9.92324422e-01, 1.02358415e+00, 1.05642169e+00])"
      ]
     },
     "execution_count": 91,
     "metadata": {},
     "output_type": "execute_result"
    }
   ],
   "source": [
    "mostb1"
   ]
  },
  {
   "cell_type": "code",
   "execution_count": 84,
   "metadata": {},
   "outputs": [],
   "source": [
    "mostb2=np.abs(1-b/npstar1x[:,1]*npstar1x[:,0])"
   ]
  },
  {
   "cell_type": "code",
   "execution_count": 92,
   "metadata": {},
   "outputs": [
    {
     "data": {
      "text/plain": [
       "array([7.84096179e-03, 1.55920393e-02, 2.32565477e-02, 3.08376895e-02,\n",
       "       3.83385611e-02, 4.57621589e-02, 5.31113845e-02, 6.03890505e-02,\n",
       "       6.75978854e-02, 7.47405385e-02, 8.18195843e-02, 8.88375272e-02,\n",
       "       9.57968057e-02, 1.02699796e-01, 1.09548816e-01, 1.16346130e-01,\n",
       "       1.23093949e-01, 1.29794440e-01, 1.36449723e-01, 1.43061877e-01,\n",
       "       1.49632944e-01, 1.56164931e-01, 1.62659812e-01, 1.69119534e-01,\n",
       "       1.75546014e-01, 1.81941149e-01, 1.88306813e-01, 1.94644862e-01,\n",
       "       2.00957139e-01, 2.07245470e-01, 2.13511675e-01, 2.19757564e-01,\n",
       "       2.25984943e-01, 2.32195617e-01, 2.38391390e-01, 2.44574072e-01,\n",
       "       2.50745479e-01, 2.56907434e-01, 2.63061777e-01, 2.69210361e-01,\n",
       "       2.75355059e-01, 2.81497767e-01, 2.87640407e-01, 2.93784931e-01,\n",
       "       2.99933324e-01, 3.06087613e-01, 3.12249863e-01, 3.18422190e-01,\n",
       "       3.24606761e-01, 3.30805800e-01, 3.37021596e-01, 3.43256509e-01,\n",
       "       3.49512972e-01, 3.55793506e-01, 3.62100720e-01, 3.68437326e-01,\n",
       "       3.74806142e-01, 3.81210107e-01, 3.87652291e-01, 3.94135906e-01,\n",
       "       4.00664318e-01, 4.07241065e-01, 4.13869869e-01, 4.20554659e-01,\n",
       "       4.27299584e-01, 4.34109042e-01, 4.40987699e-01, 4.47940519e-01,\n",
       "       4.54972796e-01, 4.62090184e-01, 4.69298742e-01, 4.76604973e-01,\n",
       "       4.84015879e-01, 4.91539014e-01, 4.99182553e-01, 5.06955366e-01,\n",
       "       5.14867103e-01, 5.22928300e-01, 5.31150491e-01, 5.39546347e-01,\n",
       "       5.48129841e-01, 5.56916429e-01, 5.65923287e-01, 5.75169575e-01,\n",
       "       5.84676762e-01, 5.94469027e-01, 6.04573732e-01, 6.15022024e-01,\n",
       "       6.25849567e-01, 6.37097467e-01, 6.48813451e-01, 6.61053363e-01,\n",
       "       6.73883126e-01, 6.87381316e-01, 7.01642613e-01, 7.16782503e-01,\n",
       "       7.32943817e-01, 7.50306029e-01, 7.69098837e-01, 7.89622586e-01,\n",
       "       8.12280121e-01, 8.37628567e-01, 8.66467931e-01, 9.00002546e-01,\n",
       "       9.40159671e-01, 9.90287730e-01, 1.05692416e+00, 1.15533889e+00,\n",
       "       1.33444010e+00, 1.93138882e+00, 2.42934812e-01, 9.56919242e-01,\n",
       "       1.29364874e+00, 1.54256139e+00, 1.77247085e+00, 2.00540430e+00,\n",
       "       2.25398267e+00, 2.52893735e+00, 2.84200977e+00, 3.20808285e+00,\n",
       "       3.64780285e+00, 4.19179214e+00, 4.88839389e+00, 5.81942473e+00,\n",
       "       7.13593965e+00, 9.15191436e+00, 1.26460064e+01, 2.02279222e+01,\n",
       "       4.94064123e+01, 1.16224445e+02, 2.68995088e+01, 1.52571511e+01,\n",
       "       1.06645728e+01, 8.20299352e+00, 6.66630578e+00, 5.61423387e+00,\n",
       "       4.84775148e+00, 4.26374246e+00, 3.80343444e+00, 3.43087265e+00,\n",
       "       3.12282407e+00, 2.86360635e+00, 2.64224971e+00, 2.45084951e+00,\n",
       "       2.28356490e+00, 2.13598602e+00, 2.00472061e+00, 1.88711621e+00,\n",
       "       1.78106860e+00, 1.68488692e+00, 1.59719675e+00, 1.51686923e+00,\n",
       "       1.44296847e+00, 1.37471188e+00, 1.31143996e+00, 1.25259293e+00,\n",
       "       1.19769252e+00, 1.14632759e+00, 1.09814273e+00, 1.05282907e+00,\n",
       "       1.01011688e+00, 9.69769534e-01, 9.31578563e-01, 8.95359553e-01,\n",
       "       8.60948767e-01, 8.28200302e-01, 7.96983715e-01, 7.67182013e-01,\n",
       "       7.38689952e-01, 7.11412588e-01, 6.85264038e-01, 6.60166414e-01,\n",
       "       6.36048910e-01, 6.12847004e-01, 5.90501771e-01, 5.68959286e-01,\n",
       "       5.48170093e-01, 5.28088755e-01, 5.08673440e-01, 4.89885576e-01,\n",
       "       4.71689527e-01, 4.54052320e-01, 4.36943397e-01, 4.20334394e-01,\n",
       "       4.04198943e-01, 3.88512501e-01, 3.73252187e-01, 3.58396644e-01,\n",
       "       3.43925913e-01, 3.29821314e-01, 3.16065348e-01, 3.02641598e-01,\n",
       "       2.89534649e-01, 2.76730008e-01, 2.64214036e-01, 2.51973881e-01,\n",
       "       2.39997424e-01, 2.28273226e-01, 2.16790474e-01, 2.05538943e-01,\n",
       "       1.94508952e-01, 1.83691329e-01, 1.73077371e-01, 1.62658820e-01,\n",
       "       1.52427829e-01, 1.42376936e-01, 1.32499040e-01, 1.22787378e-01,\n",
       "       1.13235501e-01, 1.03837260e-01, 9.45867802e-02, 8.54784517e-02,\n",
       "       7.65069080e-02, 6.76670138e-02, 5.89538506e-02, 5.03627045e-02,\n",
       "       4.18890535e-02, 3.35285569e-02, 2.52770446e-02, 1.71305075e-02,\n",
       "       9.08508790e-03, 1.13707148e-03, 6.71712123e-03, 1.44809423e-02,\n",
       "       2.21577236e-02, 2.97506835e-02, 3.72629334e-02, 4.46974837e-02,\n",
       "       5.20572492e-02, 5.93450552e-02, 6.65636419e-02, 7.37156696e-02,\n",
       "       8.08037236e-02, 8.78303180e-02, 9.47979005e-02, 1.01708856e-01,\n",
       "       1.08565511e-01, 1.15370136e-01, 1.22124952e-01, 1.28832130e-01,\n",
       "       1.35493796e-01, 1.42112037e-01, 1.48688898e-01, 1.55226393e-01,\n",
       "       1.61726499e-01, 1.68191166e-01, 1.74622318e-01, 1.81021852e-01,\n",
       "       1.87391646e-01, 1.93733560e-01, 2.00049436e-01, 2.06341104e-01,\n",
       "       2.12610384e-01, 2.18859088e-01, 2.25089022e-01, 2.31301990e-01,\n",
       "       2.37499798e-01, 2.43684254e-01, 2.49857171e-01, 2.56020374e-01,\n",
       "       2.62175699e-01, 2.68324997e-01, 2.74470137e-01, 2.80613013e-01,\n",
       "       2.86755542e-01, 2.92899672e-01, 2.99047383e-01, 3.05200694e-01,\n",
       "       3.11361667e-01, 3.17532409e-01, 3.23715078e-01, 3.29911892e-01,\n",
       "       3.36125129e-01, 3.42357138e-01, 3.48610342e-01, 3.54887248e-01,\n",
       "       3.61190452e-01, 3.67522650e-01, 3.73886645e-01, 3.80285359e-01,\n",
       "       3.86721841e-01, 3.93199282e-01, 3.99721024e-01, 4.06290580e-01,\n",
       "       4.12911646e-01, 4.19588117e-01, 4.26324112e-01, 4.33123989e-01,\n",
       "       4.39992375e-01, 4.46934191e-01, 4.53954678e-01, 4.61059438e-01,\n",
       "       4.68254469e-01, 4.75546207e-01, 4.82941578e-01, 4.90448053e-01,\n",
       "       4.98073713e-01, 5.05827322e-01, 5.13718414e-01])"
      ]
     },
     "execution_count": 92,
     "metadata": {},
     "output_type": "execute_result"
    }
   ],
   "source": [
    "mostb2"
   ]
  },
  {
   "cell_type": "code",
   "execution_count": 85,
   "metadata": {},
   "outputs": [],
   "source": [
    "mostb=[]\n",
    "for b1,b2 in zip(mostb1,mostb2): \n",
    "    mostb.append(min(b1,b2))\n"
   ]
  },
  {
   "cell_type": "code",
   "execution_count": 86,
   "metadata": {},
   "outputs": [
    {
     "data": {
      "text/plain": [
       "221"
      ]
     },
     "execution_count": 86,
     "metadata": {},
     "output_type": "execute_result"
    }
   ],
   "source": [
    "np.argmin(mostb)"
   ]
  },
  {
   "cell_type": "code",
   "execution_count": 87,
   "metadata": {},
   "outputs": [
    {
     "data": {
      "text/plain": [
       "0"
      ]
     },
     "execution_count": 87,
     "metadata": {},
     "output_type": "execute_result"
    }
   ],
   "source": [
    "np.argmin(mostb[0:220])"
   ]
  },
  {
   "cell_type": "code",
   "execution_count": 88,
   "metadata": {},
   "outputs": [
    {
     "data": {
      "text/plain": [
       "0"
      ]
     },
     "execution_count": 88,
     "metadata": {},
     "output_type": "execute_result"
    }
   ],
   "source": [
    "np.argmin(mostb[1:200])"
   ]
  },
  {
   "cell_type": "code",
   "execution_count": 89,
   "metadata": {},
   "outputs": [
    {
     "data": {
      "text/plain": [
       "-82.29566339611775"
      ]
     },
     "execution_count": 89,
     "metadata": {},
     "output_type": "execute_result"
    }
   ],
   "source": [
    "npstar1x[221,0]"
   ]
  },
  {
   "cell_type": "code",
   "execution_count": 90,
   "metadata": {},
   "outputs": [
    {
     "data": {
      "text/plain": [
       "0"
      ]
     },
     "execution_count": 90,
     "metadata": {},
     "output_type": "execute_result"
    }
   ],
   "source": [
    "np.argmin(mostb[20:190])"
   ]
  },
  {
   "cell_type": "code",
   "execution_count": 93,
   "metadata": {},
   "outputs": [
    {
     "data": {
      "text/plain": [
       "[0.007840961789098766,\n",
       " 0.015592039307009364,\n",
       " 0.023256547660376103,\n",
       " 0.03083768945423848,\n",
       " 0.03833856112165901,\n",
       " 0.04576215890671953,\n",
       " 0.05311138452691988,\n",
       " 0.06038905053907828,\n",
       " 0.06759788543106782,\n",
       " 0.07474053846016526,\n",
       " 0.08181958425732794,\n",
       " 0.08883752721542193,\n",
       " 0.09579680567825455,\n",
       " 0.10269979594618639,\n",
       " 0.10954881611315392,\n",
       " 0.11634612974905989,\n",
       " 0.12309394944072638,\n",
       " 0.1297944402039054,\n",
       " 0.13644972277824252,\n",
       " 0.1430618768165357,\n",
       " 0.14963294397917626,\n",
       " 0.1561649309442471,\n",
       " 0.16265981234341476,\n",
       " 0.1691195336334762,\n",
       " 0.17554601391319247,\n",
       " 0.18194114869489575,\n",
       " 0.1883068126402393,\n",
       " 0.19464486226942102,\n",
       " 0.20095713865323517,\n",
       " 0.20724547009736782,\n",
       " 0.2135116748285063,\n",
       " 0.21975756369202915,\n",
       " 0.22598494287132176,\n",
       " 0.2321956166391108,\n",
       " 0.23839139015164024,\n",
       " 0.2445740722970282,\n",
       " 0.2507454786097437,\n",
       " 0.2569074342638604,\n",
       " 0.26306177715856716,\n",
       " 0.269210361110357,\n",
       " 0.27535505916740843,\n",
       " 0.2814977670629152,\n",
       " 0.2876404068255377,\n",
       " 0.2937849305667626,\n",
       " 0.2999333244667973,\n",
       " 0.3060876129827118,\n",
       " 0.31224986330492477,\n",
       " 0.31842219009082906,\n",
       " 0.3246067605074434,\n",
       " 0.33080579961848156,\n",
       " 0.3370215961552512,\n",
       " 0.3432565087153735,\n",
       " 0.34951297243856594,\n",
       " 0.3557935062147545,\n",
       " 0.36210072048669883,\n",
       " 0.3684373257172816,\n",
       " 0.3748061416008094,\n",
       " 0.3812101071083064,\n",
       " 0.3876522914691206,\n",
       " 0.3941359062054961,\n",
       " 0.4006643183534865,\n",
       " 0.40724106502312263,\n",
       " 0.413869869473673,\n",
       " 0.4205546589067831,\n",
       " 0.4272995842121028,\n",
       " 0.4341090419376763,\n",
       " 0.4409876988021505,\n",
       " 0.447940519119262,\n",
       " 0.45497279556902914,\n",
       " 0.4620901838269894,\n",
       " 0.46929874165571783,\n",
       " 0.47660497317555084,\n",
       " 0.4840158791687962,\n",
       " 0.49153901443998116,\n",
       " 0.4991825534618821,\n",
       " 0.5069553657936376,\n",
       " 0.5148671030767668,\n",
       " 0.522928299815296,\n",
       " 0.5311504906511793,\n",
       " 0.539546347487466,\n",
       " 0.5481298406320325,\n",
       " 0.556916429192222,\n",
       " 0.565923287325389,\n",
       " 0.5751695747529393,\n",
       " 0.5846767623315842,\n",
       " 0.5944690266660944,\n",
       " 0.6045737320605228,\n",
       " 0.6150220240027188,\n",
       " 0.6258495665450096,\n",
       " 0.6370974674116616,\n",
       " 0.6488134510052335,\n",
       " 0.6610533631514879,\n",
       " 0.6738831263155112,\n",
       " 0.6873813164815681,\n",
       " 0.7016426134876503,\n",
       " 0.7167825034574582,\n",
       " 0.7329438170839389,\n",
       " 0.7503060294201316,\n",
       " 0.7690988368115371,\n",
       " 0.7896225858697553,\n",
       " 0.8122801207767625,\n",
       " 0.8376285668240298,\n",
       " 0.8664679313952213,\n",
       " 0.9000025457955836,\n",
       " 0.9401596711771043,\n",
       " 0.9902877304716916,\n",
       " 1.056924157928961,\n",
       " 1.155338886056367,\n",
       " 1.3344401009193125,\n",
       " 1.9313888221452862,\n",
       " 0.1954525767952412,\n",
       " 0.9569192423241735,\n",
       " 1.2936487394595997,\n",
       " 1.5425613881715678,\n",
       " 1.7724708498838733,\n",
       " 1.9946247463256963,\n",
       " 1.7974591889484195,\n",
       " 1.6540490375101933,\n",
       " 1.542885285739751,\n",
       " 1.4528815578409942,\n",
       " 1.3776716227805585,\n",
       " 1.313303609604564,\n",
       " 1.257175592012093,\n",
       " 1.2074936440200716,\n",
       " 1.162974223463242,\n",
       " 1.122670572344505,\n",
       " 1.0858663446669088,\n",
       " 1.0520076995154626,\n",
       " 1.0206584200951707,\n",
       " 0.9914693560716169,\n",
       " 0.9641570750528919,\n",
       " 0.9384886077311918,\n",
       " 0.9142703282322289,\n",
       " 0.8913397040397053,\n",
       " 0.8695590772751332,\n",
       " 0.8488109098808192,\n",
       " 0.8289941009093441,\n",
       " 0.8100211005408391,\n",
       " 0.7918156241166543,\n",
       " 0.7743108235816369,\n",
       " 0.7574478115416594,\n",
       " 0.7411744599662011,\n",
       " 0.7254444148532873,\n",
       " 0.71021628221853,\n",
       " 0.6954529511165913,\n",
       " 0.6811210271087397,\n",
       " 0.6671903553867579,\n",
       " 0.6536336171654391,\n",
       " 0.6404259863284187,\n",
       " 0.627544835917389,\n",
       " 0.6149694860830826,\n",
       " 0.6026809867071705,\n",
       " 0.5906619291604627,\n",
       " 0.578896282661373,\n",
       " 0.5673692514972837,\n",
       " 0.556067150013986,\n",
       " 0.5449772927982046,\n",
       " 0.5340878979009747,\n",
       " 0.5233880012952108,\n",
       " 0.5128673810446247,\n",
       " 0.5025164898953312,\n",
       " 0.49232639519552646,\n",
       " 0.4822887252101238,\n",
       " 0.47239562103213784,\n",
       " 0.46263969340576305,\n",
       " 0.4530139838713475,\n",
       " 0.44351192972290243,\n",
       " 0.4341273323369921,\n",
       " 0.42485432848982607,\n",
       " 0.4156873643288378,\n",
       " 0.40662117170734235,\n",
       " 0.39765074662716826,\n",
       " 0.38877132956540084,\n",
       " 0.3799783874883075,\n",
       " 0.37126759737883064,\n",
       " 0.36263483112423023,\n",
       " 0.3540761416280299,\n",
       " 0.3455877500257064,\n",
       " 0.33716603389692557,\n",
       " 0.32880751637881367,\n",
       " 0.3205088560949916,\n",
       " 0.3122668378241049,\n",
       " 0.3040783638395025,\n",
       " 0.29594044585869406,\n",
       " 0.2878501975474015,\n",
       " 0.2798048275284549,\n",
       " 0.2718016328506424,\n",
       " 0.263837992876902,\n",
       " 0.25591136355506305,\n",
       " 0.24801927203774332,\n",
       " 0.24015931162102788,\n",
       " 0.23232913697425528,\n",
       " 0.22452645963565443,\n",
       " 0.21674904375071957,\n",
       " 0.20899470203214365,\n",
       " 0.2012612919218444,\n",
       " 0.19354671193718376,\n",
       " 0.18584889818483252,\n",
       " 0.17816582102699707,\n",
       " 0.17049548188581687,\n",
       " 0.1628359101727309,\n",
       " 0.155185160330517,\n",
       " 0.14754130897646667,\n",
       " 0.13990245213588703,\n",
       " 0.13226670255573147,\n",
       " 0.12463218708871604,\n",
       " 0.11699704413876388,\n",
       " 0.1093594211590384,\n",
       " 0.10171747219420124,\n",
       " 0.09406935545882988,\n",
       " 0.08641323094421194,\n",
       " 0.0787472580459343,\n",
       " 0.07106959320485096,\n",
       " 0.06337838755417213,\n",
       " 0.0556717845654634,\n",
       " 0.04794791768642137,\n",
       " 0.04020490796328491,\n",
       " 0.032440861640708585,\n",
       " 0.024653867731857293,\n",
       " 0.016841995551367228,\n",
       " 0.009003292203672908,\n",
       " 0.0011357800189867318,\n",
       " 0.006717121229206646,\n",
       " 0.014480942296619337,\n",
       " 0.022157723582932776,\n",
       " 0.029750683506918008,\n",
       " 0.037262933425213474,\n",
       " 0.04469748366362536,\n",
       " 0.05205724922420363,\n",
       " 0.059345055192448926,\n",
       " 0.06656364186725083,\n",
       " 0.0737156696345258,\n",
       " 0.08080372360408927,\n",
       " 0.08783031802795438,\n",
       " 0.09479790051707482,\n",
       " 0.10170885607245539,\n",
       " 0.10856551094559153,\n",
       " 0.11537013634231341,\n",
       " 0.12212495198333806,\n",
       " 0.12883212953411738,\n",
       " 0.1354937959159549,\n",
       " 0.14211203650982207,\n",
       " 0.1486888982638075,\n",
       " 0.15522639271474126,\n",
       " 0.16172649893416569,\n",
       " 0.1681911664085579,\n",
       " 0.17462231786346627,\n",
       " 0.18102185204105137,\n",
       " 0.18739164644043094,\n",
       " 0.19373356003015585,\n",
       " 0.2000494359421553,\n",
       " 0.20634110415656837,\n",
       " 0.2126103841869993,\n",
       " 0.2188590877759249,\n",
       " 0.225089021610268,\n",
       " 0.23130199006746188,\n",
       " 0.23749979800277032,\n",
       " 0.24368425358911894,\n",
       " 0.24985717122128304,\n",
       " 0.25602037449698456,\n",
       " 0.2621756992882429,\n",
       " 0.2683249969172671,\n",
       " 0.2744701374522315,\n",
       " 0.2806130131395008,\n",
       " 0.28675554199026443,\n",
       " 0.2928996715411224,\n",
       " 0.2990473828099621,\n",
       " 0.3052006944705332,\n",
       " 0.311361667271444,\n",
       " 0.3175324087279674,\n",
       " 0.3237150781180752,\n",
       " 0.3299118918175552,\n",
       " 0.33612512901300995,\n",
       " 0.34235713783603094,\n",
       " 0.3486103419669915,\n",
       " 0.3548872477627988,\n",
       " 0.3611904519697382,\n",
       " 0.367522650090337,\n",
       " 0.37388664548218675,\n",
       " 0.38028535927707785,\n",
       " 0.3867218412208707,\n",
       " 0.3931992815485571,\n",
       " 0.39972102402530907,\n",
       " 0.40629058030342613,\n",
       " 0.41291164576748207,\n",
       " 0.4195881170662934,\n",
       " 0.42632411156140215,\n",
       " 0.43312398895851467,\n",
       " 0.439992375432004,\n",
       " 0.44693419060464545,\n",
       " 0.45395467780705445,\n",
       " 0.46105943811618544,\n",
       " 0.46825446876261556,\n",
       " 0.4755462066059123,\n",
       " 0.4829415775108341,\n",
       " 0.49044805262047997,\n",
       " 0.49807371272351453,\n",
       " 0.5058273221612837,\n",
       " 0.513718414030094]"
      ]
     },
     "execution_count": 93,
     "metadata": {},
     "output_type": "execute_result"
    }
   ],
   "source": [
    "mostb"
   ]
  },
  {
   "cell_type": "markdown",
   "metadata": {},
   "source": [
    "Looking for the index that is less than both its neighbors (this is actually in a fairly high value neighborhood because it is changing rapidly at apastron) There are only two such indicies"
   ]
  },
  {
   "cell_type": "code",
   "execution_count": 98,
   "metadata": {},
   "outputs": [],
   "source": [
    "def localMinimumIndex(values):\n",
    "    mins=[]\n",
    "    secondtolastval=values[0]\n",
    "    lastval=values[1]\n",
    "    for i in np.arange(2,len(values)):\n",
    "        thisval=values[i]\n",
    "        if thisval>lastval and lastval<secondtolastval:\n",
    "            mins.append(i-1)\n",
    "        secondtolastval=lastval\n",
    "        lastval=thisval\n",
    "    return mins"
   ]
  },
  {
   "cell_type": "code",
   "execution_count": 99,
   "metadata": {},
   "outputs": [],
   "source": [
    "mins=localMinimumIndex(mostb)"
   ]
  },
  {
   "cell_type": "code",
   "execution_count": 100,
   "metadata": {},
   "outputs": [
    {
     "data": {
      "text/plain": [
       "[110, 221]"
      ]
     },
     "execution_count": 100,
     "metadata": {},
     "output_type": "execute_result"
    }
   ],
   "source": [
    "mins"
   ]
  },
  {
   "cell_type": "code",
   "execution_count": 101,
   "metadata": {},
   "outputs": [
    {
     "data": {
      "text/plain": [
       "0.1954525767952412"
      ]
     },
     "execution_count": 101,
     "metadata": {},
     "output_type": "execute_result"
    }
   ],
   "source": [
    "mostb[110]"
   ]
  },
  {
   "cell_type": "code",
   "execution_count": 102,
   "metadata": {},
   "outputs": [
    {
     "data": {
      "text/plain": [
       "0.0011357800189867318"
      ]
     },
     "execution_count": 102,
     "metadata": {},
     "output_type": "execute_result"
    }
   ],
   "source": [
    "mostb[221]"
   ]
  },
  {
   "cell_type": "markdown",
   "metadata": {},
   "source": [
    "Tolerance on aphelion is 20%. Tolerance on perihelion is 1%. "
   ]
  },
  {
   "cell_type": "code",
   "execution_count": 103,
   "metadata": {},
   "outputs": [],
   "source": [
    "coordap=[npstar1x[110,0],npstar1x[110,1]]"
   ]
  },
  {
   "cell_type": "code",
   "execution_count": 104,
   "metadata": {},
   "outputs": [],
   "source": [
    "coordper=[npstar1x[221,0],npstar1x[221,1]]"
   ]
  },
  {
   "cell_type": "code",
   "execution_count": 105,
   "metadata": {},
   "outputs": [
    {
     "data": {
      "text/plain": [
       "[4.543132868313713, 2.110310983087769]"
      ]
     },
     "execution_count": 105,
     "metadata": {},
     "output_type": "execute_result"
    }
   ],
   "source": [
    "coordap"
   ]
  },
  {
   "cell_type": "code",
   "execution_count": 106,
   "metadata": {},
   "outputs": [
    {
     "data": {
      "text/plain": [
       "[-82.29566339611775, -47.45945861793911]"
      ]
     },
     "execution_count": 106,
     "metadata": {},
     "output_type": "execute_result"
    }
   ],
   "source": [
    "coordper"
   ]
  },
  {
   "cell_type": "code",
   "execution_count": 108,
   "metadata": {},
   "outputs": [
    {
     "data": {
      "text/plain": [
       "94.99987592683998"
      ]
     },
     "execution_count": 108,
     "metadata": {},
     "output_type": "execute_result"
    }
   ],
   "source": [
    "np.sqrt(np.sum(np.array(coordper)**2))"
   ]
  },
  {
   "cell_type": "code",
   "execution_count": 112,
   "metadata": {},
   "outputs": [
    {
     "data": {
      "text/plain": [
       "114"
      ]
     },
     "execution_count": 112,
     "metadata": {},
     "output_type": "execute_result"
    }
   ],
   "source": [
    "np.argmax(npstar1x[:,1])"
   ]
  },
  {
   "cell_type": "code",
   "execution_count": 113,
   "metadata": {},
   "outputs": [
    {
     "data": {
      "text/plain": [
       "109"
      ]
     },
     "execution_count": 113,
     "metadata": {},
     "output_type": "execute_result"
    }
   ],
   "source": [
    "np.argmax(npstar1x[:,0])"
   ]
  },
  {
   "cell_type": "code",
   "execution_count": null,
   "metadata": {},
   "outputs": [],
   "source": []
  }
 ],
 "metadata": {
  "kernelspec": {
   "display_name": "Python 3",
   "language": "python",
   "name": "python3"
  },
  "language_info": {
   "codemirror_mode": {
    "name": "ipython",
    "version": 3
   },
   "file_extension": ".py",
   "mimetype": "text/x-python",
   "name": "python",
   "nbconvert_exporter": "python",
   "pygments_lexer": "ipython3",
   "version": "3.7.4"
  }
 },
 "nbformat": 4,
 "nbformat_minor": 2
}
