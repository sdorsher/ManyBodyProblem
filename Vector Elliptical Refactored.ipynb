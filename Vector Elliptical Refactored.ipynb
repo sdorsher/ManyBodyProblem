{
 "cells": [
  {
   "cell_type": "code",
   "execution_count": 1,
   "metadata": {},
   "outputs": [],
   "source": [
    "import math\n",
    "import numpy as np"
   ]
  },
  {
   "cell_type": "code",
   "execution_count": 2,
   "metadata": {},
   "outputs": [],
   "source": [
    "import ellipsefns\n",
    "#getfocus, getsemiminor, theoreticalx, theoreticaly"
   ]
  },
  {
   "cell_type": "code",
   "execution_count": 3,
   "metadata": {},
   "outputs": [],
   "source": [
    "import initdat"
   ]
  },
  {
   "cell_type": "code",
   "execution_count": 4,
   "metadata": {},
   "outputs": [
    {
     "name": "stdout",
     "output_type": "stream",
     "text": [
      "angle 0.0\n",
      "0.5\n",
      "(array([3.14159265, 0.        ]), 0.0, 50, 0.5, array([1., 1.]))\n"
     ]
    }
   ],
   "source": [
    "\n",
    "rad0=50\n",
    "ecc0=0.5\n",
    "theta0= 0. #math.pi/6. #math.pi/6.\n",
    "mass0=1.0\n",
    "initdateqellipse=initdat.InitialDataEqualMassConic(rad0,ecc0,theta0,mass0)\n",
    "print(initdateqellipse)"
   ]
  },
  {
   "cell_type": "markdown",
   "metadata": {},
   "source": [
    "VERIFIED FOR THETA=-45,45,135,180,90,30,-30. VERIFIED FOR ECC =0.001, 0.1,0.5, 0.7, 0.9, 0.95 VERIFIED FOR RAD0=50,75 100 "
   ]
  },
  {
   "cell_type": "code",
   "execution_count": 5,
   "metadata": {},
   "outputs": [],
   "source": [
    "import getxyuvtwoellipse"
   ]
  },
  {
   "cell_type": "code",
   "execution_count": null,
   "metadata": {},
   "outputs": [],
   "source": []
  },
  {
   "cell_type": "code",
   "execution_count": 6,
   "metadata": {},
   "outputs": [
    {
     "name": "stdout",
     "output_type": "stream",
     "text": [
      "initdat 50 [3.14159265 0.        ] 0.5 [-1.  1.] [1.2246468e-16 0.0000000e+00]\n",
      "coordsep 50\n",
      "pi\n",
      "zero\n",
      "[-50.  50.]\n",
      "[0. 0.]\n",
      "(array([1., 1.]), array([[-7.5000000e+01,  0.0000000e+00,  0.0000000e+00, -0.0000000e+00,\n",
      "        -4.0824829e-02,  0.0000000e+00],\n",
      "       [ 7.5000000e+01,  0.0000000e+00,  0.0000000e+00, -0.0000000e+00,\n",
      "         4.0824829e-02,  0.0000000e+00]]), array([[ 4.44444444e-05, -0.00000000e+00,  0.00000000e+00],\n",
      "       [-4.44444444e-05, -0.00000000e+00,  0.00000000e+00]]))\n"
     ]
    }
   ],
   "source": [
    "xyuvaeqellipse=getxyuvtwoellipse.getxyuveqtwoellipses(initdateqellipse)\n",
    "print(xyuvaeqellipse)\n",
    "masses,xvec,avec=xyuvaeqellipse"
   ]
  },
  {
   "cell_type": "code",
   "execution_count": 7,
   "metadata": {},
   "outputs": [],
   "source": [
    "import RK4implicit"
   ]
  },
  {
   "cell_type": "code",
   "execution_count": 8,
   "metadata": {},
   "outputs": [],
   "source": [
    "import OrbitDiffEq"
   ]
  },
  {
   "cell_type": "code",
   "execution_count": null,
   "metadata": {},
   "outputs": [],
   "source": []
  },
  {
   "cell_type": "code",
   "execution_count": 9,
   "metadata": {},
   "outputs": [
    {
     "name": "stdout",
     "output_type": "stream",
     "text": [
      "[1. 1.] [[-7.5000000e+01  0.0000000e+00  0.0000000e+00 -0.0000000e+00\n",
      "  -4.0824829e-02  0.0000000e+00]\n",
      " [ 7.5000000e+01  0.0000000e+00  0.0000000e+00 -0.0000000e+00\n",
      "   4.0824829e-02  0.0000000e+00]] 0.0\n",
      "[1. 1.] [[-7.5000000e+01  0.0000000e+00  0.0000000e+00 -0.0000000e+00\n",
      "  -4.0824829e-02  0.0000000e+00]\n",
      " [ 7.5000000e+01  0.0000000e+00  0.0000000e+00 -0.0000000e+00\n",
      "   4.0824829e-02  0.0000000e+00]] 0.0\n"
     ]
    },
    {
     "data": {
      "text/plain": [
       "<OrbitDiffEq.OrbitDiffEq at 0x7fdf8d8e6b10>"
      ]
     },
     "execution_count": 9,
     "metadata": {},
     "output_type": "execute_result"
    }
   ],
   "source": [
    "masses, xvec,avec=xyuvaeqellipse\n",
    "ODEeq= OrbitDiffEq.OrbitDiffEq(masses,xvec,avec,0.0)\n",
    "ODEeq.print2D()\n",
    "ODEeq.print2D()"
   ]
  },
  {
   "cell_type": "code",
   "execution_count": 10,
   "metadata": {},
   "outputs": [
    {
     "name": "stdout",
     "output_type": "stream",
     "text": [
      "(array([1., 1.]), array([[-7.5000000e+01,  0.0000000e+00,  0.0000000e+00, -0.0000000e+00,\n",
      "        -4.0824829e-02,  0.0000000e+00],\n",
      "       [ 7.5000000e+01,  0.0000000e+00,  0.0000000e+00, -0.0000000e+00,\n",
      "         4.0824829e-02,  0.0000000e+00]]), array([[ 4.44444444e-05, -0.00000000e+00,  0.00000000e+00],\n",
      "       [-4.44444444e-05, -0.00000000e+00,  0.00000000e+00]]))\n"
     ]
    }
   ],
   "source": [
    "print(xyuvaeqellipse)"
   ]
  },
  {
   "cell_type": "code",
   "execution_count": 11,
   "metadata": {},
   "outputs": [],
   "source": [
    "import timestep"
   ]
  },
  {
   "cell_type": "code",
   "execution_count": null,
   "metadata": {},
   "outputs": [],
   "source": []
  },
  {
   "cell_type": "code",
   "execution_count": 12,
   "metadata": {},
   "outputs": [],
   "source": [
    "numsteps=6000*10\n",
    "dt=0.1\n",
    "outputevery=1\n",
    "nptimes, npstar1x, npstar2x, npstar1a, npstar2a= timestep.timestep(numsteps,dt,xyuvaeqellipse,outputevery)"
   ]
  },
  {
   "cell_type": "code",
   "execution_count": 13,
   "metadata": {},
   "outputs": [
    {
     "data": {
      "text/plain": [
       "array([[-7.50000000e+01,  0.00000000e+00,  0.00000000e+00,\n",
       "        -0.00000000e+00, -4.08248290e-02,  0.00000000e+00],\n",
       "       [-7.49999998e+01, -4.08248290e-03,  0.00000000e+00,\n",
       "         4.44444445e-06, -4.08248289e-02,  0.00000000e+00],\n",
       "       [-7.49999991e+01, -8.16496578e-03,  0.00000000e+00,\n",
       "         8.88888891e-06, -4.08248286e-02,  0.00000000e+00],\n",
       "       ...,\n",
       "       [-1.82479166e+01, -4.29046271e+01,  0.00000000e+00,\n",
       "         7.51362231e-02,  8.86837996e-03,  0.00000000e+00],\n",
       "       [-1.82404027e+01, -4.29037397e+01,  0.00000000e+00,\n",
       "         7.51407239e-02,  8.87896432e-03,  0.00000000e+00],\n",
       "       [-1.82328884e+01, -4.29028513e+01,  0.00000000e+00,\n",
       "         7.51452240e-02,  8.88955102e-03,  0.00000000e+00]])"
      ]
     },
     "execution_count": 13,
     "metadata": {},
     "output_type": "execute_result"
    }
   ],
   "source": [
    "npstar1x"
   ]
  },
  {
   "cell_type": "code",
   "execution_count": 14,
   "metadata": {},
   "outputs": [
    {
     "data": {
      "image/png": "[encoded data removed]",
      "text/plain": [
       "<Figure size 432x288 with 1 Axes>"
      ]
     },
     "metadata": {
      "needs_background": "light"
     },
     "output_type": "display_data"
    }
   ],
   "source": [
    "import matplotlib.pyplot as plt\n",
    "t = np.linspace(0, 2*math.pi, 100)\n",
    "xax=-200+np.arange(0,400)\n",
    "plt.ylim(-200,200)\n",
    "plt.xlim(-200,200)\n",
    "plt.title(\"Elliptical Orbit, RK4, a=\"+str(rad0)+\", e=\"+ str(ecc0)+\", theta=\"+str(round(180*theta0/math.pi))+ \" degrees\")\n",
    "plt.plot(ellipsefns.getxtheory(theta0,ecc0,rad0,t,1),ellipsefns.getytheory(theta0,ecc0,rad0,t,1),'b')\n",
    "plt.plot(ellipsefns.getxtheory(theta0,ecc0,rad0,t,-1),ellipsefns.getytheory(theta0,ecc0,rad0,t,-1),'g')\n",
    "plt.plot(npstar1x[:,0],npstar1x[:,1],'y')\n",
    "plt.plot(npstar2x[:,0],npstar2x[:,1],'r')\n",
    "plt.show()"
   ]
  },
  {
   "cell_type": "markdown",
   "metadata": {},
   "source": [
    "%%html\n",
    "<a href=\"https://github.com/sdorsher/ManyBodyProblem/blob/master/EllipseSymmetry.png\">Elliptical orbits at thirty degrees with symmetry line</a>\n",
    "It is clear that the elliptical orbits have focuses, perhelions, and aphelions on the axis of symmetry from this plot. It is also clear that the orbits are symmetric with respect to eachother. "
   ]
  },
  {
   "cell_type": "code",
   "execution_count": 15,
   "metadata": {},
   "outputs": [],
   "source": [
    "def getfocus(a,ecc):\n",
    "    c=a*ecc\n",
    "    return c"
   ]
  },
  {
   "cell_type": "code",
   "execution_count": 16,
   "metadata": {},
   "outputs": [],
   "source": [
    "def getsemiminor(a,ecc):\n",
    "    c=getfocus(a,ecc)\n",
    "    b=np.sqrt(a**2-c**2)\n",
    "    return b"
   ]
  },
  {
   "cell_type": "code",
   "execution_count": 17,
   "metadata": {},
   "outputs": [],
   "source": [
    "def getxtheory2(theta0,ecc0,rad0,t, sgn):\n",
    "    focus=getfocus(rad0,ecc0)\n",
    "    b=getsemiminor(rad0,ecc0)\n",
    "    xdim=rad0\n",
    "    ydim=b\n",
    "    xtheory=sgn*focus*np.cos(theta0)+xdim*np.cos(t)*np.cos(theta0)-ydim*np.sin(t)*np.sin(theta0)\n",
    "    return xtheory"
   ]
  },
  {
   "cell_type": "code",
   "execution_count": 18,
   "metadata": {},
   "outputs": [],
   "source": [
    "def getytheory2(theta0, ecc0, rad0, t, sgn):\n",
    "    focus = getfocus(rad0,ecc0)\n",
    "    b=getsemiminor(rad0,ecc0)\n",
    "    xdim=rad0\n",
    "    ydim=b\n",
    "    ytheory=sgn*focus*np.sin(theta0)+ydim*np.cos(theta0)*np.sin(t)+xdim*np.sin(theta0)*np.cos(t)\n",
    "    return ytheory\n",
    "\n"
   ]
  },
  {
   "cell_type": "code",
   "execution_count": 19,
   "metadata": {},
   "outputs": [
    {
     "data": {
      "image/png": "[encoded data removed]",
      "text/plain": [
       "<Figure size 432x288 with 1 Axes>"
      ]
     },
     "metadata": {
      "needs_background": "light"
     },
     "output_type": "display_data"
    }
   ],
   "source": [
    "import matplotlib.pyplot as plt\n",
    "t = np.linspace(0, 2*math.pi, 100)\n",
    "xax=-200+np.arange(0,400)\n",
    "plt.ylim(-200,200)\n",
    "plt.xlim(-200,200)\n",
    "plt.title(\"Elliptical Orbit, RK4, a=\"+str(rad0)+\", e=\"+ str(ecc0)+\", theta=\"+str(round(180*theta0/math.pi))+ \" degrees\")\n",
    "plt.plot(ellipsefns.getxtheory(theta0,ecc0,rad0,t,1),ellipsefns.getytheory(theta0,ecc0,rad0,t,1),'b')\n",
    "plt.plot(ellipsefns.getxtheory(theta0,ecc0,rad0,t,-1),ellipsefns.getytheory(theta0,ecc0,rad0,t,-1),'g')\n",
    "plt.plot(npstar1x[:,0],npstar1x[:,1],'y')\n",
    "plt.plot(npstar2x[:,0],npstar2x[:,1],'r')\n",
    "plt.plot(xax, np.tan(theta0)*xax,'c')\n",
    "plt.show()"
   ]
  },
  {
   "cell_type": "markdown",
   "metadata": {},
   "source": [
    "Computed orbit and parametric description of ellipse evolve at different rates, since the parametric description of the ellipse doesn't obey keplers law of equal area in equal time (conservation of angular momentum). This is a problem for the fit below. "
   ]
  },
  {
   "cell_type": "markdown",
   "metadata": {},
   "source": [
    "# Conservation of angular momentum"
   ]
  },
  {
   "cell_type": "code",
   "execution_count": 20,
   "metadata": {},
   "outputs": [],
   "source": [
    "import Lstability"
   ]
  },
  {
   "cell_type": "code",
   "execution_count": 21,
   "metadata": {},
   "outputs": [
    {
     "data": {
      "text/plain": [
       "(3.2778797860840754e-14, -2.0412414523192823)"
      ]
     },
     "execution_count": 21,
     "metadata": {},
     "output_type": "execute_result"
    }
   ],
   "source": [
    "deltaL, Lavg=Lstability.Lstability(npstar1x,npstar2x,mass0)\n",
    "deltaL, Lavg"
   ]
  },
  {
   "cell_type": "markdown",
   "metadata": {},
   "source": [
    "Orbit conserves angular momentum to a tolerance of deltaL. "
   ]
  },
  {
   "cell_type": "markdown",
   "metadata": {},
   "source": [
    "# Conservation of Energy"
   ]
  },
  {
   "cell_type": "code",
   "execution_count": 22,
   "metadata": {},
   "outputs": [],
   "source": [
    "import Estability"
   ]
  },
  {
   "cell_type": "code",
   "execution_count": 23,
   "metadata": {},
   "outputs": [
    {
     "data": {
      "text/plain": [
       "(1.6160276750990645e-14, -0.005000000000000164)"
      ]
     },
     "execution_count": 23,
     "metadata": {},
     "output_type": "execute_result"
    }
   ],
   "source": [
    "deltaE, Eavg = Estability.Estability(npstar1x, npstar2x, mass0)\n",
    "deltaE, Eavg"
   ]
  },
  {
   "cell_type": "markdown",
   "metadata": {},
   "source": [
    "Orbit conserves energy to a relative error of deltaE. "
   ]
  },
  {
   "cell_type": "markdown",
   "metadata": {},
   "source": [
    "# Symmetry of the two stars orbits with respect to eachother "
   ]
  },
  {
   "cell_type": "code",
   "execution_count": 24,
   "metadata": {},
   "outputs": [],
   "source": [
    "import orbitSymmetricTol"
   ]
  },
  {
   "cell_type": "code",
   "execution_count": 25,
   "metadata": {},
   "outputs": [],
   "source": [
    "allcancelsx, allcancelsa=orbitSymmetricTol.howSymmetric(npstar1x,npstar2x,npstar1a,npstar2a)"
   ]
  },
  {
   "cell_type": "code",
   "execution_count": 26,
   "metadata": {},
   "outputs": [
    {
     "data": {
      "text/plain": [
       "1e-14"
      ]
     },
     "execution_count": 26,
     "metadata": {},
     "output_type": "execute_result"
    }
   ],
   "source": [
    "allcancelsx"
   ]
  },
  {
   "cell_type": "markdown",
   "metadata": {},
   "source": [
    "Orbit is symmetric with respect to x and v up to a tolerance of allcancelsx"
   ]
  },
  {
   "cell_type": "code",
   "execution_count": 27,
   "metadata": {},
   "outputs": [
    {
     "data": {
      "text/plain": [
       "1e-14"
      ]
     },
     "execution_count": 27,
     "metadata": {},
     "output_type": "execute_result"
    }
   ],
   "source": [
    "allcancelsa"
   ]
  },
  {
   "cell_type": "code",
   "execution_count": 28,
   "metadata": {},
   "outputs": [
    {
     "data": {
      "text/plain": [
       "array([[-7.50000000e+01,  0.00000000e+00,  0.00000000e+00,\n",
       "        -0.00000000e+00, -4.08248290e-02,  0.00000000e+00],\n",
       "       [-7.49999998e+01, -4.08248290e-03,  0.00000000e+00,\n",
       "         4.44444445e-06, -4.08248289e-02,  0.00000000e+00],\n",
       "       [-7.49999991e+01, -8.16496578e-03,  0.00000000e+00,\n",
       "         8.88888891e-06, -4.08248286e-02,  0.00000000e+00],\n",
       "       ...,\n",
       "       [-1.82479166e+01, -4.29046271e+01,  0.00000000e+00,\n",
       "         7.51362231e-02,  8.86837996e-03,  0.00000000e+00],\n",
       "       [-1.82404027e+01, -4.29037397e+01,  0.00000000e+00,\n",
       "         7.51407239e-02,  8.87896432e-03,  0.00000000e+00],\n",
       "       [-1.82328884e+01, -4.29028513e+01,  0.00000000e+00,\n",
       "         7.51452240e-02,  8.88955102e-03,  0.00000000e+00]])"
      ]
     },
     "execution_count": 28,
     "metadata": {},
     "output_type": "execute_result"
    }
   ],
   "source": [
    "npstar1x"
   ]
  },
  {
   "cell_type": "markdown",
   "metadata": {},
   "source": [
    "Orbit is symmetric with respect to a to up to or better than a tolerance of allcancelsa"
   ]
  },
  {
   "cell_type": "markdown",
   "metadata": {},
   "source": [
    "# Testing for precision in perihelion and aphelion recovery from knowledge of the initial angle"
   ]
  },
  {
   "cell_type": "code",
   "execution_count": 29,
   "metadata": {},
   "outputs": [],
   "source": [
    "import aeTest"
   ]
  },
  {
   "cell_type": "code",
   "execution_count": 30,
   "metadata": {},
   "outputs": [],
   "source": [
    "perindex=0\n",
    "apindex=0\n",
    "coordper=[0.,0.]\n",
    "coordap=[0.,0.]\n",
    "rp=0.\n",
    "ra=0.\n",
    "e=0.\n",
    "a=0.\n",
    "deltae=1.\n",
    "deltaa=1."
   ]
  },
  {
   "cell_type": "code",
   "execution_count": 31,
   "metadata": {},
   "outputs": [],
   "source": [
    "apindex=np.argmin(np.abs(npstar1x[1:,1]))"
   ]
  },
  {
   "cell_type": "code",
   "execution_count": 32,
   "metadata": {},
   "outputs": [
    {
     "data": {
      "text/plain": [
       "44428"
      ]
     },
     "execution_count": 32,
     "metadata": {},
     "output_type": "execute_result"
    }
   ],
   "source": [
    "apindex"
   ]
  },
  {
   "cell_type": "code",
   "execution_count": 33,
   "metadata": {},
   "outputs": [],
   "source": [
    "perindex=np.argmin(np.abs(npstar1x[100:apindex-100,1]))+100"
   ]
  },
  {
   "cell_type": "code",
   "execution_count": 34,
   "metadata": {},
   "outputs": [
    {
     "data": {
      "text/plain": [
       "22214"
      ]
     },
     "execution_count": 34,
     "metadata": {},
     "output_type": "execute_result"
    }
   ],
   "source": [
    "perindex"
   ]
  },
  {
   "cell_type": "code",
   "execution_count": 35,
   "metadata": {},
   "outputs": [
    {
     "data": {
      "text/plain": [
       "2.0"
      ]
     },
     "execution_count": 35,
     "metadata": {},
     "output_type": "execute_result"
    }
   ],
   "source": [
    "apindex/perindex"
   ]
  },
  {
   "cell_type": "code",
   "execution_count": 36,
   "metadata": {},
   "outputs": [],
   "source": [
    "def findPerapHelionThetaIsZero(npstar1x,ecc0,rad0):\n",
    "    apindex=np.argmin(np.abs(npstar1x[1:,1]))\n",
    "    perindex=np.argmin(np.abs(npstar1x[100:apindex-100,1]))+100\n",
    "    #apindex3=np.argmin(np.abs(npstar1x[100:apindex2-100,1]))+100\n",
    "    #apindex4=np.argmin(np.abs(npstar1x[100:apindex3-100,1]))+100\n",
    "    #perindex=np.argmin(np.abs(npstar1x[100:apindex2-100,1]))+100\n",
    "    coordap=[npstar1x[apindex,0],npstar1x[apindex,1]]\n",
    "    coordper=[npstar1x[perindex,0],npstar1x[perindex,1]]\n",
    "    ra=np.sqrt(np.sum(np.array(coordap)**2))\n",
    "    rp=np.sqrt(np.sum(np.array(coordper)**2))\n",
    "    e=(ra-rp)/(ra+rp)\n",
    "    a=1./2.*(ra+rp)\n",
    "    deltae=np.abs(e-ecc0)/ecc0\n",
    "    deltaa=np.abs(a-rad0)/rad0\n",
    "    return apindex,perindex,coordap,coordper,ra,rp,e,a,deltae,deltaa"
   ]
  },
  {
   "cell_type": "code",
   "execution_count": 37,
   "metadata": {},
   "outputs": [],
   "source": [
    "if theta0==0:\n",
    "    apindex,perindex,coordap,coordper,ra,rp,e,a,deltae,deltaa=findPerapHelionThetaIsZero(npstar1x,ecc0,rad0)"
   ]
  },
  {
   "cell_type": "code",
   "execution_count": 38,
   "metadata": {},
   "outputs": [],
   "source": [
    "if theta0!=0:\n",
    "    perindex,apindex,coordper,coordap,rp,ra,e,a,deltae,deltaa=aeTest.findPerApHelion(npstar1x,theta0,ecc0,rad0)"
   ]
  },
  {
   "cell_type": "markdown",
   "metadata": {},
   "source": [
    "Recovered perihelion radius given by r_per, recovered aphelion radius given by r_ap, a is semimajor axis computed from the orbit, e is eccentricty computed from the orbit, delta a is relative error on the semimajor axis, and delta e is eccenticity relative error. "
   ]
  },
  {
   "cell_type": "code",
   "execution_count": 39,
   "metadata": {},
   "outputs": [
    {
     "data": {
      "text/plain": [
       "(44428,\n",
       " 22214,\n",
       " [-74.99999984713547, 0.003385936124412464],\n",
       " [24.9999996560622, -0.00507890417897381],\n",
       " 74.9999999235659,\n",
       " 25.000000171967557,\n",
       " 0.4999999970383161,\n",
       " 50.000000047766726,\n",
       " 5.9233677962566844e-09,\n",
       " 9.553345137192082e-10)"
      ]
     },
     "execution_count": 39,
     "metadata": {},
     "output_type": "execute_result"
    }
   ],
   "source": [
    "apindex,perindex,coordap,coordper,ra,rp,e,a,deltae,deltaa"
   ]
  },
  {
   "cell_type": "markdown",
   "metadata": {},
   "source": [
    "# Testing for symmetry within a given star's orbit about the line created by the initial angle with the origin that should pass thorugh the center of the ellipse, both focuses, and perihelion and aphelion"
   ]
  },
  {
   "cell_type": "code",
   "execution_count": 40,
   "metadata": {},
   "outputs": [],
   "source": [
    "tosum1=list(range(0,perindex+1))\n",
    "tosum2=list(range(perindex+1,apindex+1))"
   ]
  },
  {
   "cell_type": "code",
   "execution_count": 41,
   "metadata": {},
   "outputs": [
    {
     "data": {
      "text/plain": [
       "22215"
      ]
     },
     "execution_count": 41,
     "metadata": {},
     "output_type": "execute_result"
    }
   ],
   "source": [
    "len(tosum1)"
   ]
  },
  {
   "cell_type": "code",
   "execution_count": 42,
   "metadata": {},
   "outputs": [
    {
     "data": {
      "text/plain": [
       "22214"
      ]
     },
     "execution_count": 42,
     "metadata": {},
     "output_type": "execute_result"
    }
   ],
   "source": [
    "len(tosum2)"
   ]
  },
  {
   "cell_type": "code",
   "execution_count": 43,
   "metadata": {},
   "outputs": [],
   "source": [
    "revtosum2=tosum2.reverse()"
   ]
  },
  {
   "cell_type": "code",
   "execution_count": 44,
   "metadata": {},
   "outputs": [],
   "source": [
    "xsum=np.zeros(perindex+1)\n",
    "ysum=np.zeros(perindex+1)\n",
    "for index in np.arange(0,perindex+1):\n",
    "    xsum[index]=npstar1x[index,0]+npstar1x[apindex+1-index,0]\n",
    "    ysum[index]=npstar1x[index,1]+npstar1x[apindex+1-index,1]"
   ]
  },
  {
   "cell_type": "code",
   "execution_count": 45,
   "metadata": {},
   "outputs": [],
   "source": [
    "xsum=xsum/2"
   ]
  },
  {
   "cell_type": "code",
   "execution_count": 46,
   "metadata": {},
   "outputs": [],
   "source": [
    "ysum=ysum/2"
   ]
  },
  {
   "cell_type": "code",
   "execution_count": 47,
   "metadata": {},
   "outputs": [
    {
     "data": {
      "image/png": "[encoded data removed]",
      "text/plain": [
       "<Figure size 432x288 with 1 Axes>"
      ]
     },
     "metadata": {
      "needs_background": "light"
     },
     "output_type": "display_data"
    }
   ],
   "source": [
    "import matplotlib.pyplot as plt\n",
    "plt.plot(xsum,ysum,label=\"Sum of data\")\n",
    "plt.plot(xsum,np.tan(theta0)*xsum, color=\"green\", label=\"Line defining perhelion\")\n",
    "plt.xlabel(\"Symmetric X sum\")\n",
    "plt.ylabel(\"Symmetric Y sum\")\n",
    "plt.legend()\n",
    "plt.title(\"Sum of data reflection about perhelion\")\n",
    "plt.show()"
   ]
  },
  {
   "cell_type": "code",
   "execution_count": 48,
   "metadata": {},
   "outputs": [
    {
     "data": {
      "image/png": "[encoded data removed]",
      "text/plain": [
       "<Figure size 432x288 with 1 Axes>"
      ]
     },
     "metadata": {
      "needs_background": "light"
     },
     "output_type": "display_data"
    }
   ],
   "source": [
    "plt.plot(xsum,ysum-np.tan(theta0)*xsum, color=\"green\", label=\"Residual\")\n",
    "plt.xlabel(\"Symmetric X sum\")\n",
    "plt.ylabel(\"Ysum-tan(theta)*Xsum\")\n",
    "plt.title(\"Residuals of data reflected about perihelion\")\n",
    "plt.legend()\n",
    "plt.show()"
   ]
  },
  {
   "cell_type": "markdown",
   "metadata": {},
   "source": [
    "The residual improves substantially from .2 at perihelion with a timestep of dt=1 to .125 at perihelion with a timestep of dt=.3 to .02 at perihelion with a timestep of dt=.1. I think timestep makes all the difference between adjacent pairs of points in resolving perihelion. I think it is difficult to tell how symmetric the orbit is by this method when the limitation is in the resolution of the orbit with timestep. Interpolation would be necessary to get a good picture of orbital shape. "
   ]
  },
  {
   "cell_type": "markdown",
   "metadata": {},
   "source": [
    "In the interest of accomplishing further orbital evolutions, I think I'm going to let the precice numerical characterization of orbital shape question go (the predicted and actual orbits overlap quite nicely) and move on to evolving parabolic and hyperbolic orbits. "
   ]
  },
  {
   "cell_type": "markdown",
   "metadata": {},
   "source": [
    "# Fit t as a function of the eccentric anomoly (angle from the center of the elipse)"
   ]
  },
  {
   "cell_type": "code",
   "execution_count": 49,
   "metadata": {},
   "outputs": [],
   "source": [
    "def findEccentricAnomoly(coordap, coordper):\n",
    "    Ecenter=np.array(coordap)+np.array(coordper)\n",
    "    Ecenter/=2.\n",
    "    return Ecenter\n"
   ]
  },
  {
   "cell_type": "code",
   "execution_count": 50,
   "metadata": {},
   "outputs": [],
   "source": [
    "ellipsecenter=findEccentricAnomoly(coordap,coordper)"
   ]
  },
  {
   "cell_type": "code",
   "execution_count": 51,
   "metadata": {},
   "outputs": [
    {
     "data": {
      "text/plain": [
       "array([-2.50000001e+01, -8.46484027e-04])"
      ]
     },
     "execution_count": 51,
     "metadata": {},
     "output_type": "execute_result"
    }
   ],
   "source": [
    "ellipsecenter"
   ]
  },
  {
   "cell_type": "code",
   "execution_count": 52,
   "metadata": {},
   "outputs": [],
   "source": [
    "def getEllipsecenter(ecc,rad,theta):\n",
    "    rp=-rad*(1-ecc)\n",
    "    ra=rad*(1+ecc)\n",
    "    rcent=(rp+ra)/2\n",
    "    rcentx=rcent*np.cos(theta)\n",
    "    rcenty=rcent* np.sin(theta)\n",
    "    return [rcentx,rcenty]"
   ]
  },
  {
   "cell_type": "code",
   "execution_count": 53,
   "metadata": {},
   "outputs": [
    {
     "data": {
      "text/plain": [
       "array([-2.50000001e+01, -8.46484027e-04])"
      ]
     },
     "execution_count": 53,
     "metadata": {},
     "output_type": "execute_result"
    }
   ],
   "source": [
    "(np.array(coordap)+np.array(coordper))/2"
   ]
  },
  {
   "cell_type": "code",
   "execution_count": 54,
   "metadata": {},
   "outputs": [
    {
     "data": {
      "text/plain": [
       "[25.0, 0.0]"
      ]
     },
     "execution_count": 54,
     "metadata": {},
     "output_type": "execute_result"
    }
   ],
   "source": [
    "getEllipsecenter(ecc0,rad0,theta0)"
   ]
  },
  {
   "cell_type": "code",
   "execution_count": 55,
   "metadata": {},
   "outputs": [],
   "source": [
    "def getEang(npstar2x,ecc,rad,theta):\n",
    "    ellipsecenter=getEllipsecenter(ecc,rad,theta)\n",
    "    print(ellipsecenter)\n",
    "    print(npstar2x)\n",
    "    print(npstar2x[:,0])\n",
    "    xfortan=npstar2x[:,0]-ellipsecenter[0]\n",
    "    yfortan=npstar2x[:,1]-ellipsecenter[1]\n",
    "    #print(\"xy\",xfortan,yfortan)\n",
    "    Eang=np.arctan2(yfortan,xfortan)\n",
    "    for i in np.arange(len(npstar2x[:,0])):\n",
    "        if Eang[i]<0:\n",
    "            Eang[i]+=2*math.pi\n",
    "    \n",
    "    print(\"Eang\",Eang)\n",
    "    return Eang"
   ]
  },
  {
   "cell_type": "code",
   "execution_count": 56,
   "metadata": {},
   "outputs": [],
   "source": [
    "def xofeccanom(rad,Eang,ecc):\n",
    "    return rad*(np.cos(Eang)+ecc)"
   ]
  },
  {
   "cell_type": "code",
   "execution_count": 57,
   "metadata": {},
   "outputs": [],
   "source": [
    "def yofeccanom(rad, Eang, ecc):\n",
    "    b=getsemiminor(rad,ecc)\n",
    "    return b*np.sin(Eang) "
   ]
  },
  {
   "cell_type": "code",
   "execution_count": 58,
   "metadata": {},
   "outputs": [],
   "source": [
    "def tofEccAnom(npstar2x, rad,ecc,theta,mass):\n",
    "    Eang=getEang(npstar2x,ecc,rad,theta)\n",
    "    b=getsemiminor(rad,ecc)\n",
    "    #fitval=rad*b*(Eang-ecc*np.sin(Eang))\n",
    "    fitval=2.*rad**(1.5)*mass**(-.5)*(Eang+ecc*np.sin(Eang))\n",
    "    print(Eang, ecc,rad,mass,fitval)\n",
    "    return fitval"
   ]
  },
  {
   "cell_type": "code",
   "execution_count": 59,
   "metadata": {},
   "outputs": [],
   "source": [
    "def residualtEang(pars,nptimes,npstar2x):\n",
    "    residual= nptimes-tofEccAnom(npstar2x,pars['rad'],pars['ecc'],pars['theta'],pars['mass'])\n",
    "    #print(nptimes, residual)\n",
    "    return residual"
   ]
  },
  {
   "cell_type": "code",
   "execution_count": 60,
   "metadata": {},
   "outputs": [
    {
     "name": "stdout",
     "output_type": "stream",
     "text": [
      "[25.0, 0.0]\n",
      "[[ 7.50000000e+01  0.00000000e+00  0.00000000e+00 -0.00000000e+00\n",
      "   4.08248290e-02  0.00000000e+00]\n",
      " [ 7.49999998e+01  4.08248290e-03  0.00000000e+00 -4.44444445e-06\n",
      "   4.08248289e-02  0.00000000e+00]\n",
      " [ 7.49999991e+01  8.16496578e-03  0.00000000e+00 -8.88888891e-06\n",
      "   4.08248286e-02  0.00000000e+00]\n",
      " ...\n",
      " [ 7.49999948e+01 -1.97158673e-02  0.00000000e+00  2.14639184e-05\n",
      "   4.08248262e-02  0.00000000e+00]\n",
      " [ 7.49999967e+01 -1.56333846e-02  0.00000000e+00  1.70194738e-05\n",
      "   4.08248273e-02  0.00000000e+00]\n",
      " [ 7.49999982e+01 -1.15509018e-02  0.00000000e+00  1.25750293e-05\n",
      "   4.08248281e-02  0.00000000e+00]]\n",
      "[75.         74.99999978 74.99999911 ... 74.99999482 74.99999674\n",
      " 74.99999822]\n",
      "Eang [0.00000000e+00 8.16496582e-05 1.63299317e-04 ... 6.28279099e+00\n",
      " 6.28287264e+00 6.28295429e+00]\n"
     ]
    }
   ],
   "source": [
    "Eang0=getEang(npstar2x[0:apindex-1,:],ecc0,rad0,theta0)"
   ]
  },
  {
   "cell_type": "code",
   "execution_count": 61,
   "metadata": {},
   "outputs": [
    {
     "name": "stdout",
     "output_type": "stream",
     "text": [
      "[25.0, 0.0]\n",
      "[[ 7.50000000e+01  0.00000000e+00  0.00000000e+00 -0.00000000e+00\n",
      "   4.08248290e-02  0.00000000e+00]\n",
      " [ 7.49999998e+01  4.08248290e-03  0.00000000e+00 -4.44444445e-06\n",
      "   4.08248289e-02  0.00000000e+00]\n",
      " [ 7.49999991e+01  8.16496578e-03  0.00000000e+00 -8.88888891e-06\n",
      "   4.08248286e-02  0.00000000e+00]\n",
      " ...\n",
      " [ 7.49999948e+01 -1.97158673e-02  0.00000000e+00  2.14639184e-05\n",
      "   4.08248262e-02  0.00000000e+00]\n",
      " [ 7.49999967e+01 -1.56333846e-02  0.00000000e+00  1.70194738e-05\n",
      "   4.08248273e-02  0.00000000e+00]\n",
      " [ 7.49999982e+01 -1.15509018e-02  0.00000000e+00  1.25750293e-05\n",
      "   4.08248281e-02  0.00000000e+00]]\n",
      "[75.         74.99999978 74.99999911 ... 74.99999482 74.99999674\n",
      " 74.99999822]\n",
      "Eang [0.00000000e+00 8.16496582e-05 1.63299317e-04 ... 6.28279099e+00\n",
      " 6.28287264e+00 6.28295429e+00]\n",
      "[0.00000000e+00 8.16496582e-05 1.63299317e-04 ... 6.28279099e+00\n",
      " 6.28287264e+00 6.28295429e+00] 0.5 50 1.0 [0.00000000e+00 8.66025405e-02 1.73205081e-01 ... 4.44246470e+03\n",
      " 4.44255130e+03 4.44263791e+03]\n"
     ]
    }
   ],
   "source": [
    "Eangtest=tofEccAnom(npstar2x[0:apindex-1,:],rad0,ecc0,theta0,masses[0])"
   ]
  },
  {
   "cell_type": "code",
   "execution_count": 62,
   "metadata": {},
   "outputs": [
    {
     "data": {
      "text/plain": [
       "4442.637906524039"
      ]
     },
     "execution_count": 62,
     "metadata": {},
     "output_type": "execute_result"
    }
   ],
   "source": [
    "np.max(Eangtest)"
   ]
  },
  {
   "cell_type": "code",
   "execution_count": 63,
   "metadata": {},
   "outputs": [
    {
     "data": {
      "text/plain": [
       "0.0"
      ]
     },
     "execution_count": 63,
     "metadata": {},
     "output_type": "execute_result"
    }
   ],
   "source": [
    "nptimes[0]"
   ]
  },
  {
   "cell_type": "code",
   "execution_count": 64,
   "metadata": {},
   "outputs": [],
   "source": [
    "nptimesoneorbit=nptimes[0:apindex-1]"
   ]
  },
  {
   "cell_type": "code",
   "execution_count": 65,
   "metadata": {},
   "outputs": [],
   "source": [
    "tpredoneorbit=Eangtest[0:apindex-1]"
   ]
  },
  {
   "cell_type": "code",
   "execution_count": 66,
   "metadata": {},
   "outputs": [],
   "source": [
    "Eangoneorbit=Eang0[0:apindex-1]"
   ]
  },
  {
   "cell_type": "code",
   "execution_count": null,
   "metadata": {},
   "outputs": [],
   "source": []
  },
  {
   "cell_type": "code",
   "execution_count": 67,
   "metadata": {},
   "outputs": [
    {
     "data": {
      "text/plain": [
       "[<matplotlib.lines.Line2D at 0x7fdf909005d0>]"
      ]
     },
     "execution_count": 67,
     "metadata": {},
     "output_type": "execute_result"
    },
    {
     "data": {
      "image/png": "[encoded data removed]",
      "text/plain": [
       "<Figure size 432x288 with 1 Axes>"
      ]
     },
     "metadata": {
      "needs_background": "light"
     },
     "output_type": "display_data"
    }
   ],
   "source": [
    "plt.plot(nptimesoneorbit,Eangoneorbit/math.pi*180)"
   ]
  },
  {
   "cell_type": "code",
   "execution_count": 68,
   "metadata": {},
   "outputs": [
    {
     "data": {
      "text/plain": [
       "[<matplotlib.lines.Line2D at 0x7fdf909b8e90>]"
      ]
     },
     "execution_count": 68,
     "metadata": {},
     "output_type": "execute_result"
    },
    {
     "data": {
      "image/png": "[encoded data removed]",
      "text/plain": [
       "<Figure size 432x288 with 1 Axes>"
      ]
     },
     "metadata": {
      "needs_background": "light"
     },
     "output_type": "display_data"
    }
   ],
   "source": [
    "plt.plot(nptimesoneorbit,tpredoneorbit)"
   ]
  },
  {
   "cell_type": "code",
   "execution_count": 69,
   "metadata": {},
   "outputs": [],
   "source": [
    "from matplotlib import pyplot as plt"
   ]
  },
  {
   "cell_type": "markdown",
   "metadata": {},
   "source": [
    "Arctan function is giving tangent output. I'm done for today. I'm asking for help on this, either Steve or on a forum. Clearly something really weird is going on. This is a distinct problem from the retrograde motion I had before I fixed the center, which you can tell from the sharply spiked top as opposed to the curved top I had before. Now the center appears to be in the correct location but there is some problem related to tangent versus arctangent. "
   ]
  },
  {
   "cell_type": "code",
   "execution_count": 70,
   "metadata": {},
   "outputs": [
    {
     "data": {
      "text/plain": [
       "<matplotlib.collections.PathCollection at 0x7fdf8f8b53d0>"
      ]
     },
     "execution_count": 70,
     "metadata": {},
     "output_type": "execute_result"
    },
    {
     "data": {
      "image/png": "[encoded data removed]",
      "text/plain": [
       "<Figure size 432x288 with 1 Axes>"
      ]
     },
     "metadata": {
      "needs_background": "light"
     },
     "output_type": "display_data"
    }
   ],
   "source": [
    "plt.scatter(nptimesoneorbit,tpredoneorbit)"
   ]
  },
  {
   "cell_type": "markdown",
   "metadata": {},
   "source": [
    "Retrograde motion as seen from the center of mass. I'm not sure that makes sense. So there's a problem with the definition of the Eang. The problem might be with the ellipse center, which probably shouldn't be at x=-70, if it spans between +5 and -95. "
   ]
  },
  {
   "cell_type": "code",
   "execution_count": 71,
   "metadata": {},
   "outputs": [
    {
     "name": "stdout",
     "output_type": "stream",
     "text": [
      "[25.0, 0.0]\n",
      "[[ 7.50000000e+01  0.00000000e+00  0.00000000e+00 -0.00000000e+00\n",
      "   4.08248290e-02  0.00000000e+00]\n",
      " [ 7.49999998e+01  4.08248290e-03  0.00000000e+00 -4.44444445e-06\n",
      "   4.08248289e-02  0.00000000e+00]\n",
      " [ 7.49999991e+01  8.16496578e-03  0.00000000e+00 -8.88888891e-06\n",
      "   4.08248286e-02  0.00000000e+00]\n",
      " ...\n",
      " [ 7.49999948e+01 -1.97158673e-02  0.00000000e+00  2.14639184e-05\n",
      "   4.08248262e-02  0.00000000e+00]\n",
      " [ 7.49999967e+01 -1.56333846e-02  0.00000000e+00  1.70194738e-05\n",
      "   4.08248273e-02  0.00000000e+00]\n",
      " [ 7.49999982e+01 -1.15509018e-02  0.00000000e+00  1.25750293e-05\n",
      "   4.08248281e-02  0.00000000e+00]]\n",
      "[75.         74.99999978 74.99999911 ... 74.99999482 74.99999674\n",
      " 74.99999822]\n",
      "Eang [0.00000000e+00 8.16496582e-05 1.63299317e-04 ... 6.28279099e+00\n",
      " 6.28287264e+00 6.28295429e+00]\n",
      "[0.00000000e+00 8.16496582e-05 1.63299317e-04 ... 6.28279099e+00\n",
      " 6.28287264e+00 6.28295429e+00] <Parameter 'ecc', value=0.5, bounds=[0:1.0]> <Parameter 'rad', value=50.0, bounds=[0:inf]> <Parameter 'mass', value=1.0 (fixed), bounds=[-inf:inf]> [0.00000000e+00 8.66025405e-02 1.73205081e-01 ... 4.44246470e+03\n",
      " 4.44255130e+03 4.44263791e+03]\n",
      "[25.0, 0.0]\n",
      "[[ 7.50000000e+01  0.00000000e+00  0.00000000e+00 -0.00000000e+00\n",
      "   4.08248290e-02  0.00000000e+00]\n",
      " [ 7.49999998e+01  4.08248290e-03  0.00000000e+00 -4.44444445e-06\n",
      "   4.08248289e-02  0.00000000e+00]\n",
      " [ 7.49999991e+01  8.16496578e-03  0.00000000e+00 -8.88888891e-06\n",
      "   4.08248286e-02  0.00000000e+00]\n",
      " ...\n",
      " [ 7.49999948e+01 -1.97158673e-02  0.00000000e+00  2.14639184e-05\n",
      "   4.08248262e-02  0.00000000e+00]\n",
      " [ 7.49999967e+01 -1.56333846e-02  0.00000000e+00  1.70194738e-05\n",
      "   4.08248273e-02  0.00000000e+00]\n",
      " [ 7.49999982e+01 -1.15509018e-02  0.00000000e+00  1.25750293e-05\n",
      "   4.08248281e-02  0.00000000e+00]]\n",
      "[75.         74.99999978 74.99999911 ... 74.99999482 74.99999674\n",
      " 74.99999822]\n",
      "Eang [0.00000000e+00 8.16496582e-05 1.63299317e-04 ... 6.28279099e+00\n",
      " 6.28287264e+00 6.28295429e+00]\n",
      "[0.00000000e+00 8.16496582e-05 1.63299317e-04 ... 6.28279099e+00\n",
      " 6.28287264e+00 6.28295429e+00] <Parameter 'ecc', value=0.5, bounds=[0:1.0]> <Parameter 'rad', value=50.0, bounds=[0:inf]> <Parameter 'mass', value=1.0 (fixed), bounds=[-inf:inf]> [0.00000000e+00 8.66025405e-02 1.73205081e-01 ... 4.44246470e+03\n",
      " 4.44255130e+03 4.44263791e+03]\n",
      "[25.0, 0.0]\n",
      "[[ 7.50000000e+01  0.00000000e+00  0.00000000e+00 -0.00000000e+00\n",
      "   4.08248290e-02  0.00000000e+00]\n",
      " [ 7.49999998e+01  4.08248290e-03  0.00000000e+00 -4.44444445e-06\n",
      "   4.08248289e-02  0.00000000e+00]\n",
      " [ 7.49999991e+01  8.16496578e-03  0.00000000e+00 -8.88888891e-06\n",
      "   4.08248286e-02  0.00000000e+00]\n",
      " ...\n",
      " [ 7.49999948e+01 -1.97158673e-02  0.00000000e+00  2.14639184e-05\n",
      "   4.08248262e-02  0.00000000e+00]\n",
      " [ 7.49999967e+01 -1.56333846e-02  0.00000000e+00  1.70194738e-05\n",
      "   4.08248273e-02  0.00000000e+00]\n",
      " [ 7.49999982e+01 -1.15509018e-02  0.00000000e+00  1.25750293e-05\n",
      "   4.08248281e-02  0.00000000e+00]]\n",
      "[75.         74.99999978 74.99999911 ... 74.99999482 74.99999674\n",
      " 74.99999822]\n",
      "Eang [0.00000000e+00 8.16496582e-05 1.63299317e-04 ... 6.28279099e+00\n",
      " 6.28287264e+00 6.28295429e+00]\n",
      "[0.00000000e+00 8.16496582e-05 1.63299317e-04 ... 6.28279099e+00\n",
      " 6.28287264e+00 6.28295429e+00] <Parameter 'ecc', value=0.5, bounds=[0:1.0]> <Parameter 'rad', value=50.0, bounds=[0:inf]> <Parameter 'mass', value=1.0 (fixed), bounds=[-inf:inf]> [0.00000000e+00 8.66025405e-02 1.73205081e-01 ... 4.44246470e+03\n",
      " 4.44255130e+03 4.44263791e+03]\n",
      "[25.0, 1.743934249004316e-14]\n",
      "[[ 7.50000000e+01  0.00000000e+00  0.00000000e+00 -0.00000000e+00\n",
      "   4.08248290e-02  0.00000000e+00]\n",
      " [ 7.49999998e+01  4.08248290e-03  0.00000000e+00 -4.44444445e-06\n",
      "   4.08248289e-02  0.00000000e+00]\n",
      " [ 7.49999991e+01  8.16496578e-03  0.00000000e+00 -8.88888891e-06\n",
      "   4.08248286e-02  0.00000000e+00]\n",
      " ...\n",
      " [ 7.49999948e+01 -1.97158673e-02  0.00000000e+00  2.14639184e-05\n",
      "   4.08248262e-02  0.00000000e+00]\n",
      " [ 7.49999967e+01 -1.56333846e-02  0.00000000e+00  1.70194738e-05\n",
      "   4.08248273e-02  0.00000000e+00]\n",
      " [ 7.49999982e+01 -1.15509018e-02  0.00000000e+00  1.25750293e-05\n",
      "   4.08248281e-02  0.00000000e+00]]\n",
      "[75.         74.99999978 74.99999911 ... 74.99999482 74.99999674\n",
      " 74.99999822]\n",
      "Eang [6.28318531e+00 8.16496582e-05 1.63299317e-04 ... 6.28279099e+00\n",
      " 6.28287264e+00 6.28295429e+00]\n",
      "[6.28318531e+00 8.16496582e-05 1.63299317e-04 ... 6.28279099e+00\n",
      " 6.28287264e+00 6.28295429e+00] <Parameter 'ecc', value=0.5, bounds=[0:1.0]> <Parameter 'rad', value=50.0, bounds=[0:inf]> <Parameter 'mass', value=1.0 (fixed), bounds=[-inf:inf]> [4.44288294e+03 8.66025405e-02 1.73205081e-01 ... 4.44246470e+03\n",
      " 4.44255130e+03 4.44263791e+03]\n",
      "[25.000000379833523, 0.0]\n",
      "[[ 7.50000000e+01  0.00000000e+00  0.00000000e+00 -0.00000000e+00\n",
      "   4.08248290e-02  0.00000000e+00]\n",
      " [ 7.49999998e+01  4.08248290e-03  0.00000000e+00 -4.44444445e-06\n",
      "   4.08248289e-02  0.00000000e+00]\n",
      " [ 7.49999991e+01  8.16496578e-03  0.00000000e+00 -8.88888891e-06\n",
      "   4.08248286e-02  0.00000000e+00]\n",
      " ...\n",
      " [ 7.49999948e+01 -1.97158673e-02  0.00000000e+00  2.14639184e-05\n",
      "   4.08248262e-02  0.00000000e+00]\n",
      " [ 7.49999967e+01 -1.56333846e-02  0.00000000e+00  1.70194738e-05\n",
      "   4.08248273e-02  0.00000000e+00]\n",
      " [ 7.49999982e+01 -1.15509018e-02  0.00000000e+00  1.25750293e-05\n",
      "   4.08248281e-02  0.00000000e+00]]\n",
      "[75.         74.99999978 74.99999911 ... 74.99999482 74.99999674\n",
      " 74.99999822]\n",
      "Eang [0.00000000e+00 8.16496588e-05 1.63299318e-04 ... 6.28279099e+00\n",
      " 6.28287264e+00 6.28295429e+00]\n",
      "[0.00000000e+00 8.16496588e-05 1.63299318e-04 ... 6.28279099e+00\n",
      " 6.28287264e+00 6.28295429e+00] <Parameter 'ecc', value=0.5, bounds=[0:1.0]> <Parameter 'rad', value=50.000000759667046, bounds=[0:inf]> <Parameter 'mass', value=1.0 (fixed), bounds=[-inf:inf]> [0.00000000e+00 8.66025431e-02 1.73205087e-01 ... 4.44246480e+03\n",
      " 4.44255141e+03 4.44263801e+03]\n",
      "[25.00000037252903, 0.0]\n",
      "[[ 7.50000000e+01  0.00000000e+00  0.00000000e+00 -0.00000000e+00\n",
      "   4.08248290e-02  0.00000000e+00]\n",
      " [ 7.49999998e+01  4.08248290e-03  0.00000000e+00 -4.44444445e-06\n",
      "   4.08248289e-02  0.00000000e+00]\n",
      " [ 7.49999991e+01  8.16496578e-03  0.00000000e+00 -8.88888891e-06\n",
      "   4.08248286e-02  0.00000000e+00]\n",
      " ...\n",
      " [ 7.49999948e+01 -1.97158673e-02  0.00000000e+00  2.14639184e-05\n",
      "   4.08248262e-02  0.00000000e+00]\n",
      " [ 7.49999967e+01 -1.56333846e-02  0.00000000e+00  1.70194738e-05\n",
      "   4.08248273e-02  0.00000000e+00]\n",
      " [ 7.49999982e+01 -1.15509018e-02  0.00000000e+00  1.25750293e-05\n",
      "   4.08248281e-02  0.00000000e+00]]\n",
      "[75.         74.99999978 74.99999911 ... 74.99999482 74.99999674\n",
      " 74.99999822]\n",
      "Eang [0.00000000e+00 8.16496588e-05 1.63299318e-04 ... 6.28279099e+00\n",
      " 6.28287264e+00 6.28295429e+00]\n",
      "[0.00000000e+00 8.16496588e-05 1.63299318e-04 ... 6.28279099e+00\n",
      " 6.28287264e+00 6.28295429e+00] <Parameter 'ecc', value=0.5000000074505806, bounds=[0:1.0]> <Parameter 'rad', value=50.0, bounds=[0:inf]> <Parameter 'mass', value=1.0 (fixed), bounds=[-inf:inf]> [0.00000000e+00 8.66025415e-02 1.73205084e-01 ... 4.44246470e+03\n",
      " 4.44255130e+03 4.44263791e+03]\n",
      "[25.83949134303263, 0.0]\n",
      "[[ 7.50000000e+01  0.00000000e+00  0.00000000e+00 -0.00000000e+00\n",
      "   4.08248290e-02  0.00000000e+00]\n",
      " [ 7.49999998e+01  4.08248290e-03  0.00000000e+00 -4.44444445e-06\n",
      "   4.08248289e-02  0.00000000e+00]\n",
      " [ 7.49999991e+01  8.16496578e-03  0.00000000e+00 -8.88888891e-06\n",
      "   4.08248286e-02  0.00000000e+00]\n",
      " ...\n",
      " [ 7.49999948e+01 -1.97158673e-02  0.00000000e+00  2.14639184e-05\n",
      "   4.08248262e-02  0.00000000e+00]\n",
      " [ 7.49999967e+01 -1.56333846e-02  0.00000000e+00  1.70194738e-05\n",
      "   4.08248273e-02  0.00000000e+00]\n",
      " [ 7.49999982e+01 -1.15509018e-02  0.00000000e+00  1.25750293e-05\n",
      "   4.08248281e-02  0.00000000e+00]]\n",
      "[75.         74.99999978 74.99999911 ... 74.99999482 74.99999674\n",
      " 74.99999822]\n",
      "Eang [0.00000000e+00 8.30439518e-05 1.66087904e-04 ... 6.28278426e+00\n",
      " 6.28286730e+00 6.28295034e+00]\n",
      "[0.00000000e+00 8.30439518e-05 1.66087904e-04 ... 6.28278426e+00\n",
      " 6.28286730e+00 6.28295034e+00] <Parameter 'ecc', value=0.5180287728650544, bounds=[0:1.0]> <Parameter 'rad', value=49.880417259687185, bounds=[0:inf]> <Parameter 'mass', value=1.0 (fixed), bounds=[-inf:inf]> [0.00000000e+00 8.88204815e-02 1.77640963e-01 ... 4.42652476e+03\n",
      " 4.42661358e+03 4.42670240e+03]\n",
      "[25.83949134303263, 0.0]\n",
      "[[ 7.50000000e+01  0.00000000e+00  0.00000000e+00 -0.00000000e+00\n",
      "   4.08248290e-02  0.00000000e+00]\n",
      " [ 7.49999998e+01  4.08248290e-03  0.00000000e+00 -4.44444445e-06\n",
      "   4.08248289e-02  0.00000000e+00]\n",
      " [ 7.49999991e+01  8.16496578e-03  0.00000000e+00 -8.88888891e-06\n",
      "   4.08248286e-02  0.00000000e+00]\n",
      " ...\n",
      " [ 7.49999948e+01 -1.97158673e-02  0.00000000e+00  2.14639184e-05\n",
      "   4.08248262e-02  0.00000000e+00]\n",
      " [ 7.49999967e+01 -1.56333846e-02  0.00000000e+00  1.70194738e-05\n",
      "   4.08248273e-02  0.00000000e+00]\n",
      " [ 7.49999982e+01 -1.15509018e-02  0.00000000e+00  1.25750293e-05\n",
      "   4.08248281e-02  0.00000000e+00]]\n",
      "[75.         74.99999978 74.99999911 ... 74.99999482 74.99999674\n",
      " 74.99999822]\n",
      "Eang [0.00000000e+00 8.30439518e-05 1.66087904e-04 ... 6.28278426e+00\n",
      " 6.28286730e+00 6.28295034e+00]\n",
      "[0.00000000e+00 8.30439518e-05 1.66087904e-04 ... 6.28278426e+00\n",
      " 6.28286730e+00 6.28295034e+00] <Parameter 'ecc', value=0.5180287728650544, bounds=[0:1.0]> <Parameter 'rad', value=49.880417259687185, bounds=[0:inf]> <Parameter 'mass', value=1.0 (fixed), bounds=[-inf:inf]> [0.00000000e+00 8.88204815e-02 1.77640963e-01 ... 4.42652476e+03\n",
      " 4.42661358e+03 4.42670240e+03]\n"
     ]
    }
   ],
   "source": [
    "from lmfit import Minimizer,Parameters\n",
    "pfittEang = Parameters()\n",
    "pfittEang.add(name='theta', value=theta0, min=0, max=2.*math.pi, vary=True)\n",
    "pfittEang.add(name='rad', value=rad0, min=0, vary=True)\n",
    "pfittEang.add(name='ecc', value=ecc0, min=0, max=1.0, vary=True)\n",
    "pfittEang.add(name='mass', value=masses[0], vary=False)\n",
    "\n",
    "minit = Minimizer(residualtEang, pfittEang, fcn_args=(nptimesoneorbit,npstar2x[:apindex-1,:]))\n",
    "\n",
    "outt = minit.leastsq()"
   ]
  },
  {
   "cell_type": "code",
   "execution_count": 72,
   "metadata": {},
   "outputs": [
    {
     "name": "stderr",
     "output_type": "stream",
     "text": [
      "/Users/sdorsher/opt/anaconda3/lib/python3.7/site-packages/lmfit/printfuncs.py:291: RuntimeWarning: divide by zero encountered in double_scalars\n",
      "  spercent = '({:.2%})'.format(abs(par.stderr/par.value))\n"
     ]
    },
    {
     "data": {
      "text/html": [
       "<h2>Fit Statistics</h2><table><tr><td>fitting method</td><td>leastsq</td><td></td></tr><tr><td># function evals</td><td>5</td><td></td></tr><tr><td># data points</td><td>44427</td><td></td></tr><tr><td># variables</td><td>3</td><td></td></tr><tr><td>chi-square</td><td> 54050116.1</td><td></td></tr><tr><td>reduced chi-square</td><td> 1216.68729</td><td></td></tr><tr><td>Akaike info crit.</td><td> 315607.392</td><td></td></tr><tr><td>Bayesian info crit.</td><td> 315633.497</td><td></td></tr></table><h2>Variables</h2><table><tr><th> name </th><th> value </th><th> standard error </th><th> relative error </th><th> initial value </th><th> min </th><th> max </th><th> vary </th></tr><tr><td> theta </td><td>  0.00000000 </td><td>  3.5350e-26 </td><td> (inf%) </td><td> 0.0 </td><td>  0.00000000 </td><td>  6.28318531 </td><td> True </td></tr><tr><td> rad </td><td>  49.8804173 </td><td>  0.00229378 </td><td> (0.00%) </td><td> 50 </td><td>  0.00000000 </td><td>         inf </td><td> True </td></tr><tr><td> ecc </td><td>  0.51802877 </td><td>  1.6335e-04 </td><td> (0.03%) </td><td> 0.5 </td><td>  0.00000000 </td><td>  1.00000000 </td><td> True </td></tr><tr><td> mass </td><td>  1.00000000 </td><td>  0.00000000 </td><td> (0.00%) </td><td> 1.0 </td><td>        -inf </td><td>         inf </td><td> False </td></tr></table><h2>Correlations (unreported correlations are < 0.100)</h2><table><tr><td>rad</td><td>ecc</td><td>0.2922</td></tr></table>"
      ],
      "text/plain": [
       "<lmfit.minimizer.MinimizerResult at 0x7fdf91964290>"
      ]
     },
     "execution_count": 72,
     "metadata": {},
     "output_type": "execute_result"
    }
   ],
   "source": [
    "outt"
   ]
  },
  {
   "cell_type": "markdown",
   "metadata": {},
   "source": [
    "Eccentricity fit is still not great for eccentricity of 0.9 (0.99), but radius fit is pretty good. The chi square is enormous. Eccentricity of 0.5 looks somewhat better (ecc 0.51) but still has a large chisquared and generates a potentially helpful divide by zero warning in the fit. "
   ]
  },
  {
   "cell_type": "code",
   "execution_count": null,
   "metadata": {},
   "outputs": [],
   "source": []
  },
  {
   "cell_type": "markdown",
   "metadata": {},
   "source": [
    "Updated Jupyter and python packages and angular momentum and energy conservation improved by many orders of magnitude, but the fit is about the same. deltaL and deltaE are now consistent with roundoff error. "
   ]
  },
  {
   "cell_type": "code",
   "execution_count": null,
   "metadata": {},
   "outputs": [],
   "source": []
  },
  {
   "cell_type": "code",
   "execution_count": null,
   "metadata": {},
   "outputs": [],
   "source": []
  },
  {
   "cell_type": "code",
   "execution_count": null,
   "metadata": {},
   "outputs": [],
   "source": []
  }
 ],
 "metadata": {
  "kernelspec": {
   "display_name": "Python 3",
   "language": "python",
   "name": "python3"
  },
  "language_info": {
   "codemirror_mode": {
    "name": "ipython",
    "version": 3
   },
   "file_extension": ".py",
   "mimetype": "text/x-python",
   "name": "python",
   "nbconvert_exporter": "python",
   "pygments_lexer": "ipython3",
   "version": "3.7.4"
  }
 },
 "nbformat": 4,
 "nbformat_minor": 2
}
