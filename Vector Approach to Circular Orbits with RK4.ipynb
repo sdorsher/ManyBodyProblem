{
 "cells": [
  {
   "cell_type": "code",
   "execution_count": 1,
   "metadata": {},
   "outputs": [],
   "source": [
    "\n",
    "import math\n",
    "def InitialDataReducedMass(orbitalangle,r0):\n",
    "    phi=orbitalangle\n",
    "    radiusseparation=r0 #separation one hundred\n",
    "    eccentricity=np.zeros(2)\n",
    "    mass=np.ones(2)\n",
    "    masssun=1.989*10**30\n",
    "    lsun=3.828*10**26\n",
    "    massearth=5.9722*10**24\n",
    "    masses=mass #*masssun (natural units)\n",
    "    return phi, radiusseparation,eccentricity, masses\n",
    "    "
   ]
  },
  {
   "cell_type": "code",
   "execution_count": 7,
   "metadata": {},
   "outputs": [],
   "source": [
    "def getxyuveqreducedmass(initdat): #using reduced mass cooordinate system\n",
    "    phi,radiusseparation,eccentricity, masses=initdatreducedmass\n",
    "    #print(orbitalradius, phi, np.cos(phi), np.sin(phi))\n",
    "    metersperAU=1\n",
    "    Gconstant=1\n",
    "    x0=np.zeros(2)\n",
    "    y0=np.zeros(2)\n",
    "    x0[1]=radiusseparation*np.cos(phi)*metersperAU\n",
    "    y0[1]=radiusseparation*np.sin(phi)*metersperAU\n",
    "    if phi==0:\n",
    "        print(\"zero\")\n",
    "        x0[1]=radiusseparation\n",
    "        y0[1]=0\n",
    "    if phi==math.pi:\n",
    "        print(\"pi\")\n",
    "        x0[1]=-radiusseparation\n",
    "        y0[1]=0\n",
    "    z0=np.zeros(2)\n",
    "    print(\"x0\", x0)\n",
    "    print(\"y0\", y0)\n",
    "    \n",
    "    #start at perihelion for both (eliptical, doesn't generalize to three body)\n",
    "    #actually start with circular orbit\n",
    "    ux0=np.zeros(2) #*149597870700\n",
    "    #centrepital force balances gravitational force\n",
    "    reducedmass=np.zeros(2)\n",
    "    masstotal=np.sum(masses)\n",
    "    reducedmass[0]=masstotal\n",
    "    print(masses)\n",
    "    for i in np.arange(1):\n",
    "        j=(i+1)%2 #reverse masses\n",
    "        reducedmass[i+1]=masses[i]*masses[j]/np.sum(masses)\n",
    "    print(reducedmass)\n",
    "    metersperAU=1 #natural units\n",
    "    rphys=np.zeros(len(masses))\n",
    "    for i in np.arange(2):\n",
    "        #rphys is r in the reduced mass system\n",
    "        rphys[i]=radiusseparation #*metersperAU*reducedmass[i]/masses[i]\n",
    "    x0[0]=0.0\n",
    "    x0phys=rphys*x0/radiusseparation\n",
    "    x0phys[0]=0.0\n",
    "    y0phys=rphys*y0/radiusseparation\n",
    "    z0phys=np.zeros(2)\n",
    "    r0=np.sqrt(x0**2+y0**2)\n",
    "    print(rphys)\n",
    "    #G=1\n",
    "    Gconstant=1\n",
    "    F=(Gconstant*masstotal**2/(2*rphys)**2)\n",
    "    print(F)\n",
    "    #centF=reducedmass*v**2/rphys\n",
    "    #centF=accel\n",
    "    v=np.sqrt(Gconstant*masstotal/(rphys))\n",
    "    print(v)\n",
    "    print(\"r0\", r0)\n",
    "    ux0=-v*y0/radiusseparation #[1]\n",
    "    uy0=v*x0/radiusseparation #[1]\n",
    "        \n",
    "    #ux0=-v*y0/r0\n",
    "    #uy0=v*x0/r0 #initial data in y only\n",
    "    #evolve in plane only\n",
    "    #circular orbit\n",
    "    uz0=np.zeros(2)\n",
    "    \n",
    "    a=Gconstant*masstotal/((2*rphys)**2)\n",
    "    ax0=-a*x0/radiusseparation\n",
    "    ay0=-a*y0/radiusseparation\n",
    "    az0=np.zeros(2)\n",
    "    \n",
    "    statevec=[]\n",
    "    avec=[]\n",
    "    for i in np.arange(len(x0phys)):\n",
    "        stateveci=np.array([x0phys[i],y0phys[i],z0phys[i],ux0[i],uy0[i],uz0[i]])\n",
    "        aveci=np.array([ax0[i],ay0[i],az0[i]])\n",
    "        statevec.append(stateveci)\n",
    "        avec.append(aveci)\n",
    "    statevecnp=np.array(statevec)\n",
    "    avecnp=np.array(avec)\n",
    "    return masstotal, reducedmass,statevecnp,avecnp"
   ]
  },
  {
   "cell_type": "code",
   "execution_count": 8,
   "metadata": {},
   "outputs": [],
   "source": [
    "import random,numpy as np\n",
    "initdatreducedmass=InitialDataReducedMass(0,50)"
   ]
  },
  {
   "cell_type": "code",
   "execution_count": 11,
   "metadata": {},
   "outputs": [
    {
     "name": "stdout",
     "output_type": "stream",
     "text": [
      "zero\n",
      "x0 [ 0. 50.]\n",
      "y0 [0. 0.]\n",
      "[1. 1.]\n",
      "[2.  0.5]\n",
      "[50. 50.]\n",
      "[0.0004 0.0004]\n",
      "[0.2 0.2]\n",
      "r0 [ 0. 50.]\n",
      "(2.0, array([2. , 0.5]), array([[ 0. ,  0. ,  0. , -0. ,  0. ,  0. ],\n",
      "       [50. ,  0. ,  0. , -0. ,  0.2,  0. ]]), array([[-0.    , -0.    ,  0.    ],\n",
      "       [-0.0002, -0.    ,  0.    ]]))\n"
     ]
    }
   ],
   "source": [
    "xyuvaeqreducedmass=getxyuveqreducedmass(initdatreducedmass)\n",
    "print(xyuvaeqreducedmass)\n",
    "masstotal, reducedmass,xvec,avec=xyuvaeqreducedmass"
   ]
  },
  {
   "cell_type": "code",
   "execution_count": 46,
   "metadata": {},
   "outputs": [
    {
     "data": {
      "text/plain": [
       "array([0., 0.])"
      ]
     },
     "execution_count": 46,
     "metadata": {},
     "output_type": "execute_result"
    }
   ],
   "source": [
    "xvec[:,2]"
   ]
  },
  {
   "cell_type": "code",
   "execution_count": 50,
   "metadata": {},
   "outputs": [
    {
     "data": {
      "text/plain": [
       "array([ 0., 50.])"
      ]
     },
     "execution_count": 50,
     "metadata": {},
     "output_type": "execute_result"
    }
   ],
   "source": [
    "axii=np.zeros(len(xvec[:,0]))\n",
    "rii=np.sqrt(xvec[:,0]**2+xvec[:,1]**2+xvec[:,2]**2)\n",
    "rii=np.sqrt(xvec[:,0]**2+xvec[:,1]**2+xvec[:,2]**2)\n",
    "rii"
   ]
  },
  {
   "cell_type": "code",
   "execution_count": 12,
   "metadata": {},
   "outputs": [],
   "source": [
    "def RK4implicit(h,t,xvec,f): #not a finite difference so no step in y\n",
    "    k1= h*f(t,xvec)\n",
    "    k2=h*f(t+h/2, xvec+k1/2)\n",
    "    k3=h*f(t+h/2,xvec+k2/2)\n",
    "    k4=h*f(t+h,xvec+k3)\n",
    "    return t+h, xvec+1/6.*(k1+2.*k2+2.*k3+k4)"
   ]
  },
  {
   "cell_type": "code",
   "execution_count": null,
   "metadata": {},
   "outputs": [],
   "source": [
    "class OrbitDiffEq:\n",
    "    def __init__(self,reducedmass,xvec,avec,t0):\n",
    "        self.reducedmass=reducedmass\n",
    "        self.xvec=xvec\n",
    "        self.ti=t0\n",
    "        self.avec=avec\n",
    "    def dxidt(self,t,xvec):\n",
    "        return xvec[:,3].transpose()\n",
    "    def dyidt(self,t,xvec):\n",
    "        return xvec[:,4].transpose()\n",
    "    def dzidt(self,t,xvec):\n",
    "        return xvec[:,5].transpose()\n",
    "    def dvxidt(self,t,xvec):\n",
    "        #return axi[m]\n",
    "        axii=np.zeros(len(xvec[:,0]))\n",
    "        rii=np.sqrt(xvec[:,0]**2+xvec[:,1]**2+xvec[:,2]**2)\n",
    "        Gconstant=1 #6.408*10**-11\n",
    "        for k in np.arange(len(rii)):\n",
    "            for j in np.arange(1,len(rii)):\n",
    "                if j==0:\n",
    "                    axii[j]=0.0\n",
    "                if j!=k:\n",
    "                    rreljk=np.abs((xvec[j,0] - xvec[k,0])**2+(xvec[j,1]-xvec[k,1])**2+(xvec[j,2]-xvec[k,2])**2)**(1./2.)\n",
    "                    axii[j]-=Gconstant*self.reducedmass[k]*(xvec[j,0]  - xvec[k,0])/rreljk**3\n",
    "        return axii\n",
    "    def dvyidt(self,t,xvec):\n",
    "        #return axi[m]\n",
    "        ayii=np.zeros(len(xvec[:,0]))\n",
    "        rii=np.sqrt(xvec[:,0]**2+xvec[:,1]**2+xvec[:,2]**2)\n",
    "        Gconstant=1 #6.408*10**-11\n",
    "        for k in np.arange(len(rii)):\n",
    "            for j in np.arange(1,len(rii)):\n",
    "                if j==0:\n",
    "                    ayii[j]=0.0\n",
    "                if j!=k:\n",
    "                    rreljk=np.abs((xvec[j,0] - xvec[k,0])**2+(xvec[j,1]-xvec[k,1])**2+(xvec[j,2]-xvec[k,2])**2)**(1./2.)\n",
    "                    ayii[j]-=Gconstant*self.reducedmass[k]*(xvec[j,1]  - xvec[k,1])/rreljk**3\n",
    "        return ayii\n",
    "    def dvzidt(self,t,xvec):\n",
    "        #return axi[m]\n",
    "        azii=np.zeros(len(xvec[:,0]))\n",
    "        rii=np.sqrt(xvec[:,0]**2+xvec[:,1]**2+xvec[:,2]**2)\n",
    "        Gconstant=1 #6.408*10**-11\n",
    "        for k in np.arange(len(rii)):\n",
    "            for j in np.arange(1,len(rii)):\n",
    "                if j==0:\n",
    "                    azii[j]=0.0\n",
    "                if j!=k:\n",
    "                    rreljk=np.abs((xvec[j,0] - xvec[k,0])**2+(xvec[j,1]-xvec[k,1])**2+(xvec[j,2]-xvec[k,2])**2)**(1./2.)\n",
    "                    azii[j]-=Gconstant*self.reducedmass[k]*(xvec[j,2]  - xvec[k,2])/rreljk**3\n",
    "        return azii\n",
    "    \n",
    "    def dvecdt(self,t,xvec):\n",
    "        avec=np.array([self.dvxidt(self,xvec),self.dvyidt(self,xvec),self.dvzidt(self,xvec)])\n",
    "        avecT=avec.transpose()\n",
    "        self.avec=avecT\n",
    "        dvec2=np.array([self.dxidt(t,xvec),self.dyidt(t,xvec),self.dzidt(self,xvec),avec[0,:],avec[1,:],avec[2,:]])\n",
    "                       \n",
    "        dvec2T=dvec2.transpose()\n",
    "        return dvec2T\n",
    "    def updateINTERNAL(self,xvecii,tii):\n",
    "        self.xvec=xvecii\n",
    "        self.ti=tii\n",
    "        return self\n",
    "    def update(self,xvecii,avecii,tii):\n",
    "        self.xvec=xvecii\n",
    "        self.avec=avecii,\n",
    "        self.ti=tii\n",
    "    def print2D(self):\n",
    "        print(self.reducedmass,self.xvec[1], self.ti)\n",
    "        return self\n",
    "    def list2D(self):\n",
    "        return self.reducedmass,self.xvec,self.avec,self.ti\n",
    "    def timestepRK4ODE(self,step,dt):\n",
    "\n",
    "    \n",
    "        h=dt\n",
    "        #tnew,ynew, intval=RK4(h,t,y,f)\n",
    "        #m represents choices of mass\n",
    "        i=step\n",
    "        \n",
    "        tnew,intvalxvec=RK4implicit(h,self.ti,self.xvec,self.dvecdt)\n",
    "        #xii = intvalx\n",
    "        #tnew,intvalvx=RK4implicit(h,self.ti,self.vxi,self.dvxidt)\n",
    "        #vxii=intvalvx\n",
    "        #tnew,intvaly=RK4implicit(h,self.ti,self.yi,self.dyidt)\n",
    "        #yii = intvaly\n",
    "        #tnew,intvalvy=RK4implicit(h,self.ti,self.vyi,self.dvyidt)\n",
    "        #vyii=intvalvy\n",
    "        #tnew,intvalz=RK4implicit(h,self.ti,self.zi,self.dzidt)\n",
    "        #zii = intvalz\n",
    "        #tnew,intvalvz=RK4implicit(h,self.ti,self.vzi,self.dvzidt)\n",
    "        #vzii=intvalvz\n",
    "        #axii=self.dvxidt(self.ti,np.zeros(np.shape(self.xi)))\n",
    "        #ayii=self.dvyidt(self.ti,np.zeros(np.shape(self.yi)))\n",
    "        #azii=self.dvzidt(self.ti,np.zeros(np.shape(self.zi)))\n",
    " \n",
    "        #print(xii)\n",
    "        self.updateINTERNAL(intvalxvec,tnew)\n",
    "        return reducedmass, self.xvec,self.avec,self.ti"
   ]
  },
  {
   "cell_type": "code",
   "execution_count": null,
   "metadata": {},
   "outputs": [],
   "source": [
    "mtotal,reducedmass,xvec,avec=xyuvaeqreducedmass\n",
    "ODEeq= OrbitDiffEq(reducedmass,xvec,avec,0.0)\n",
    "ODEeq.print2D()\n",
    "ODEeq.print2D()"
   ]
  },
  {
   "cell_type": "code",
   "execution_count": null,
   "metadata": {},
   "outputs": [],
   "source": [
    "dt=-.01 #natural units #*31556926 #seconds per year\n",
    "numsteps=3000\n",
    "mtotal, reducedmass,xvec0,avec0=xyuvaeqreducedmass\n",
    "ODEeq= OrbitDiffEq(reducedmass,xvec0,avec0,0.0)\n",
    "ODEeq.print2D()\n",
    "t=0.0\n",
    "star1x=[]\n",
    "star2x=[]\n",
    "star1a=[]\n",
    "star2a=[]\n",
    "for i in np.arange(1,numsteps):\n",
    "    reducedmass,xvec,avec,t=ODEeq.timestepRK4ODE(i,dt)\n",
    "    ODEeq.print2D()\n",
    "    star1x.append(xvec[0])\n",
    "    star2x.append(xvec[1])\n",
    "    star1a.append(avec[0])\n",
    "    star2a.append(avec[1])\n",
    "\n",
    "\n"
   ]
  },
  {
   "cell_type": "code",
   "execution_count": null,
   "metadata": {},
   "outputs": [],
   "source": []
  },
  {
   "cell_type": "code",
   "execution_count": null,
   "metadata": {},
   "outputs": [],
   "source": []
  }
 ],
 "metadata": {
  "kernelspec": {
   "display_name": "Python 3",
   "language": "python",
   "name": "python3"
  }
 },
 "nbformat": 4,
 "nbformat_minor": 2
}
