{
 "cells": [
  {
   "cell_type": "code",
   "execution_count": 8,
   "metadata": {},
   "outputs": [],
   "source": [
    "import numpy as np\n",
    "import matplotlib.pyplot as plt\n",
    "\n",
    "def NewtonianForce(mass1,mass2, r):\n",
    "    return (6.67408*10**-11)*mass1*mass2/r/r;"
   ]
  },
  {
   "cell_type": "code",
   "execution_count": null,
   "metadata": {},
   "outputs": [],
   "source": [
    "def euler(t, x):"
   ]
  },
  {
   "cell_type": "code",
   "execution_count": 57,
   "metadata": {},
   "outputs": [],
   "source": [
    "def RK4(h,t,y,f):\n",
    "    k1= h*f(t,y)\n",
    "    k2=h*f(t+h/2.,y+h*k1/2.)\n",
    "    k3=h*f(t+h/2.,y+h*k2/2.)\n",
    "    k4=h*f(t+h,y+h*k3)\n",
    "    return t+h,y+h, y+1/6.*(k1+2.*k2+2.*k3+k4)\n",
    "\n"
   ]
  },
  {
   "cell_type": "code",
   "execution_count": 93,
   "metadata": {},
   "outputs": [],
   "source": [
    "def polynomial4(t,x,a,b,c,d,e):\n",
    "    p=[]\n",
    "    for xi in x:\n",
    "        pi=a*xi**4+b*xi**3+c*xi**2+d*xi+e\n",
    "        #print(pi)\n",
    "        p.append(pi)\n",
    "    return np.array(p)\n",
    "    \n",
    "\n",
    "def polymaker(t,x,a,b,c,d,e):\n",
    "    def poly(t,x):\n",
    "        return polynomial4(t,x,a,b,c,d,e)\n",
    "    return poly\n",
    "        \n",
    "        "
   ]
  },
  {
   "cell_type": "code",
   "execution_count": 94,
   "metadata": {},
   "outputs": [
    {
     "name": "stdout",
     "output_type": "stream",
     "text": [
      "0.0 [0.   0.01 0.02 0.03 0.04 0.05 0.06 0.07 0.08 0.09]\n"
     ]
    }
   ],
   "source": [
    "import numpy as np\n",
    "t=0.\n",
    "x=0.01*np.arange(10.)\n",
    "print(t,x)\n",
    "polyfn=polymaker(t,x,1.,0.,0.,0.,0.)"
   ]
  },
  {
   "cell_type": "code",
   "execution_count": 60,
   "metadata": {},
   "outputs": [],
   "source": [
    "#import matplotlib.pyplot as plt\n",
    "#plt.plot(t,polyfn(t,x))"
   ]
  },
  {
   "cell_type": "code",
   "execution_count": 95,
   "metadata": {},
   "outputs": [
    {
     "name": "stdout",
     "output_type": "stream",
     "text": [
      "0.0\n",
      "1e-08\n",
      "1.6e-07\n",
      "8.099999999999999e-07\n",
      "2.56e-06\n",
      "6.250000000000001e-06\n",
      "1.2959999999999998e-05\n",
      "2.401000000000001e-05\n",
      "4.096e-05\n",
      "6.560999999999999e-05\n"
     ]
    }
   ],
   "source": [
    "y=polyfn(t,x) #this is correct to order of magnitude"
   ]
  },
  {
   "cell_type": "code",
   "execution_count": 92,
   "metadata": {},
   "outputs": [
    {
     "data": {
      "text/html": [
       "\n",
       "    <div class=\"bk-root\">\n",
       "        <a href=\"https://bokeh.pydata.org\" target=\"_blank\" class=\"bk-logo bk-logo-small bk-logo-notebook\"></a>\n",
       "        <span id=\"3b123b35-6ea5-4906-b3cf-32d109c798f9\">Loading BokehJS ...</span>\n",
       "    </div>"
      ]
     },
     "metadata": {},
     "output_type": "display_data"
    },
    {
     "data": {
      "application/javascript": [
       "\n",
       "(function(root) {\n",
       "  function now() {\n",
       "    return new Date();\n",
       "  }\n",
       "\n",
       "  var force = true;\n",
       "\n",
       "  if (typeof (root._bokeh_onload_callbacks) === \"undefined\" || force === true) {\n",
       "    root._bokeh_onload_callbacks = [];\n",
       "    root._bokeh_is_loading = undefined;\n",
       "  }\n",
       "\n",
       "  var JS_MIME_TYPE = 'application/javascript';\n",
       "  var HTML_MIME_TYPE = 'text/html';\n",
       "  var EXEC_MIME_TYPE = 'application/vnd.bokehjs_exec.v0+json';\n",
       "  var CLASS_NAME = 'output_bokeh rendered_html';\n",
       "\n",
       "  /**\n",
       "   * Render data to the DOM node\n",
       "   */\n",
       "  function render(props, node) {\n",
       "    var script = document.createElement(\"script\");\n",
       "    node.appendChild(script);\n",
       "  }\n",
       "\n",
       "  /**\n",
       "   * Handle when an output is cleared or removed\n",
       "   */\n",
       "  function handleClearOutput(event, handle) {\n",
       "    var cell = handle.cell;\n",
       "\n",
       "    var id = cell.output_area._bokeh_element_id;\n",
       "    var server_id = cell.output_area._bokeh_server_id;\n",
       "    // Clean up Bokeh references\n",
       "    if (id !== undefined) {\n",
       "      Bokeh.index[id].model.document.clear();\n",
       "      delete Bokeh.index[id];\n",
       "    }\n",
       "\n",
       "    if (server_id !== undefined) {\n",
       "      // Clean up Bokeh references\n",
       "      var cmd = \"from bokeh.io.state import curstate; print(curstate().uuid_to_server['\" + server_id + \"'].get_sessions()[0].document.roots[0]._id)\";\n",
       "      cell.notebook.kernel.execute(cmd, {\n",
       "        iopub: {\n",
       "          output: function(msg) {\n",
       "            var element_id = msg.content.text.trim();\n",
       "            Bokeh.index[element_id].model.document.clear();\n",
       "            delete Bokeh.index[element_id];\n",
       "          }\n",
       "        }\n",
       "      });\n",
       "      // Destroy server and session\n",
       "      var cmd = \"import bokeh.io.notebook as ion; ion.destroy_server('\" + server_id + \"')\";\n",
       "      cell.notebook.kernel.execute(cmd);\n",
       "    }\n",
       "  }\n",
       "\n",
       "  /**\n",
       "   * Handle when a new output is added\n",
       "   */\n",
       "  function handleAddOutput(event, handle) {\n",
       "    var output_area = handle.output_area;\n",
       "    var output = handle.output;\n",
       "\n",
       "    // limit handleAddOutput to display_data with EXEC_MIME_TYPE content only\n",
       "    if ((output.output_type != \"display_data\") || (!output.data.hasOwnProperty(EXEC_MIME_TYPE))) {\n",
       "      return\n",
       "    }\n",
       "\n",
       "    var toinsert = output_area.element.find(\".\" + CLASS_NAME.split(' ')[0]);\n",
       "\n",
       "    if (output.metadata[EXEC_MIME_TYPE][\"id\"] !== undefined) {\n",
       "      toinsert[0].firstChild.textContent = output.data[JS_MIME_TYPE];\n",
       "      // store reference to embed id on output_area\n",
       "      output_area._bokeh_element_id = output.metadata[EXEC_MIME_TYPE][\"id\"];\n",
       "    }\n",
       "    if (output.metadata[EXEC_MIME_TYPE][\"server_id\"] !== undefined) {\n",
       "      var bk_div = document.createElement(\"div\");\n",
       "      bk_div.innerHTML = output.data[HTML_MIME_TYPE];\n",
       "      var script_attrs = bk_div.children[0].attributes;\n",
       "      for (var i = 0; i < script_attrs.length; i++) {\n",
       "        toinsert[0].firstChild.setAttribute(script_attrs[i].name, script_attrs[i].value);\n",
       "      }\n",
       "      // store reference to server id on output_area\n",
       "      output_area._bokeh_server_id = output.metadata[EXEC_MIME_TYPE][\"server_id\"];\n",
       "    }\n",
       "  }\n",
       "\n",
       "  function register_renderer(events, OutputArea) {\n",
       "\n",
       "    function append_mime(data, metadata, element) {\n",
       "      // create a DOM node to render to\n",
       "      var toinsert = this.create_output_subarea(\n",
       "        metadata,\n",
       "        CLASS_NAME,\n",
       "        EXEC_MIME_TYPE\n",
       "      );\n",
       "      this.keyboard_manager.register_events(toinsert);\n",
       "      // Render to node\n",
       "      var props = {data: data, metadata: metadata[EXEC_MIME_TYPE]};\n",
       "      render(props, toinsert[0]);\n",
       "      element.append(toinsert);\n",
       "      return toinsert\n",
       "    }\n",
       "\n",
       "    /* Handle when an output is cleared or removed */\n",
       "    events.on('clear_output.CodeCell', handleClearOutput);\n",
       "    events.on('delete.Cell', handleClearOutput);\n",
       "\n",
       "    /* Handle when a new output is added */\n",
       "    events.on('output_added.OutputArea', handleAddOutput);\n",
       "\n",
       "    /**\n",
       "     * Register the mime type and append_mime function with output_area\n",
       "     */\n",
       "    OutputArea.prototype.register_mime_type(EXEC_MIME_TYPE, append_mime, {\n",
       "      /* Is output safe? */\n",
       "      safe: true,\n",
       "      /* Index of renderer in `output_area.display_order` */\n",
       "      index: 0\n",
       "    });\n",
       "  }\n",
       "\n",
       "  // register the mime type if in Jupyter Notebook environment and previously unregistered\n",
       "  if (root.Jupyter !== undefined) {\n",
       "    var events = require('base/js/events');\n",
       "    var OutputArea = require('notebook/js/outputarea').OutputArea;\n",
       "\n",
       "    if (OutputArea.prototype.mime_types().indexOf(EXEC_MIME_TYPE) == -1) {\n",
       "      register_renderer(events, OutputArea);\n",
       "    }\n",
       "  }\n",
       "\n",
       "  \n",
       "  if (typeof (root._bokeh_timeout) === \"undefined\" || force === true) {\n",
       "    root._bokeh_timeout = Date.now() + 5000;\n",
       "    root._bokeh_failed_load = false;\n",
       "  }\n",
       "\n",
       "  var NB_LOAD_WARNING = {'data': {'text/html':\n",
       "     \"<div style='background-color: #fdd'>\\n\"+\n",
       "     \"<p>\\n\"+\n",
       "     \"BokehJS does not appear to have successfully loaded. If loading BokehJS from CDN, this \\n\"+\n",
       "     \"may be due to a slow or bad network connection. Possible fixes:\\n\"+\n",
       "     \"</p>\\n\"+\n",
       "     \"<ul>\\n\"+\n",
       "     \"<li>re-rerun `output_notebook()` to attempt to load from CDN again, or</li>\\n\"+\n",
       "     \"<li>use INLINE resources instead, as so:</li>\\n\"+\n",
       "     \"</ul>\\n\"+\n",
       "     \"<code>\\n\"+\n",
       "     \"from bokeh.resources import INLINE\\n\"+\n",
       "     \"output_notebook(resources=INLINE)\\n\"+\n",
       "     \"</code>\\n\"+\n",
       "     \"</div>\"}};\n",
       "\n",
       "  function display_loaded() {\n",
       "    var el = document.getElementById(\"3b123b35-6ea5-4906-b3cf-32d109c798f9\");\n",
       "    if (el != null) {\n",
       "      el.textContent = \"BokehJS is loading...\";\n",
       "    }\n",
       "    if (root.Bokeh !== undefined) {\n",
       "      if (el != null) {\n",
       "        el.textContent = \"BokehJS \" + root.Bokeh.version + \" successfully loaded.\";\n",
       "      }\n",
       "    } else if (Date.now() < root._bokeh_timeout) {\n",
       "      setTimeout(display_loaded, 100)\n",
       "    }\n",
       "  }\n",
       "\n",
       "\n",
       "  function run_callbacks() {\n",
       "    try {\n",
       "      root._bokeh_onload_callbacks.forEach(function(callback) { callback() });\n",
       "    }\n",
       "    finally {\n",
       "      delete root._bokeh_onload_callbacks\n",
       "    }\n",
       "    console.info(\"Bokeh: all callbacks have finished\");\n",
       "  }\n",
       "\n",
       "  function load_libs(js_urls, callback) {\n",
       "    root._bokeh_onload_callbacks.push(callback);\n",
       "    if (root._bokeh_is_loading > 0) {\n",
       "      console.log(\"Bokeh: BokehJS is being loaded, scheduling callback at\", now());\n",
       "      return null;\n",
       "    }\n",
       "    if (js_urls == null || js_urls.length === 0) {\n",
       "      run_callbacks();\n",
       "      return null;\n",
       "    }\n",
       "    console.log(\"Bokeh: BokehJS not loaded, scheduling load and callback at\", now());\n",
       "    root._bokeh_is_loading = js_urls.length;\n",
       "    for (var i = 0; i < js_urls.length; i++) {\n",
       "      var url = js_urls[i];\n",
       "      var s = document.createElement('script');\n",
       "      s.src = url;\n",
       "      s.async = false;\n",
       "      s.onreadystatechange = s.onload = function() {\n",
       "        root._bokeh_is_loading--;\n",
       "        if (root._bokeh_is_loading === 0) {\n",
       "          console.log(\"Bokeh: all BokehJS libraries loaded\");\n",
       "          run_callbacks()\n",
       "        }\n",
       "      };\n",
       "      s.onerror = function() {\n",
       "        console.warn(\"failed to load library \" + url);\n",
       "      };\n",
       "      console.log(\"Bokeh: injecting script tag for BokehJS library: \", url);\n",
       "      document.getElementsByTagName(\"head\")[0].appendChild(s);\n",
       "    }\n",
       "  };var element = document.getElementById(\"3b123b35-6ea5-4906-b3cf-32d109c798f9\");\n",
       "  if (element == null) {\n",
       "    console.log(\"Bokeh: ERROR: autoload.js configured with elementid '3b123b35-6ea5-4906-b3cf-32d109c798f9' but no matching script tag was found. \")\n",
       "    return false;\n",
       "  }\n",
       "\n",
       "  var js_urls = [\"https://cdn.pydata.org/bokeh/release/bokeh-0.12.13.min.js\", \"https://cdn.pydata.org/bokeh/release/bokeh-widgets-0.12.13.min.js\", \"https://cdn.pydata.org/bokeh/release/bokeh-tables-0.12.13.min.js\", \"https://cdn.pydata.org/bokeh/release/bokeh-gl-0.12.13.min.js\"];\n",
       "\n",
       "  var inline_js = [\n",
       "    function(Bokeh) {\n",
       "      Bokeh.set_log_level(\"info\");\n",
       "    },\n",
       "    \n",
       "    function(Bokeh) {\n",
       "      \n",
       "    },\n",
       "    function(Bokeh) {\n",
       "      console.log(\"Bokeh: injecting CSS: https://cdn.pydata.org/bokeh/release/bokeh-0.12.13.min.css\");\n",
       "      Bokeh.embed.inject_css(\"https://cdn.pydata.org/bokeh/release/bokeh-0.12.13.min.css\");\n",
       "      console.log(\"Bokeh: injecting CSS: https://cdn.pydata.org/bokeh/release/bokeh-widgets-0.12.13.min.css\");\n",
       "      Bokeh.embed.inject_css(\"https://cdn.pydata.org/bokeh/release/bokeh-widgets-0.12.13.min.css\");\n",
       "      console.log(\"Bokeh: injecting CSS: https://cdn.pydata.org/bokeh/release/bokeh-tables-0.12.13.min.css\");\n",
       "      Bokeh.embed.inject_css(\"https://cdn.pydata.org/bokeh/release/bokeh-tables-0.12.13.min.css\");\n",
       "    }\n",
       "  ];\n",
       "\n",
       "  function run_inline_js() {\n",
       "    \n",
       "    if ((root.Bokeh !== undefined) || (force === true)) {\n",
       "      for (var i = 0; i < inline_js.length; i++) {\n",
       "        inline_js[i].call(root, root.Bokeh);\n",
       "      }if (force === true) {\n",
       "        display_loaded();\n",
       "      }} else if (Date.now() < root._bokeh_timeout) {\n",
       "      setTimeout(run_inline_js, 100);\n",
       "    } else if (!root._bokeh_failed_load) {\n",
       "      console.log(\"Bokeh: BokehJS failed to load within specified timeout.\");\n",
       "      root._bokeh_failed_load = true;\n",
       "    } else if (force !== true) {\n",
       "      var cell = $(document.getElementById(\"3b123b35-6ea5-4906-b3cf-32d109c798f9\")).parents('.cell').data().cell;\n",
       "      cell.output_area.append_execute_result(NB_LOAD_WARNING)\n",
       "    }\n",
       "\n",
       "  }\n",
       "\n",
       "  if (root._bokeh_is_loading === 0) {\n",
       "    console.log(\"Bokeh: BokehJS loaded, going straight to plotting\");\n",
       "    run_inline_js();\n",
       "  } else {\n",
       "    load_libs(js_urls, function() {\n",
       "      console.log(\"Bokeh: BokehJS plotting callback run at\", now());\n",
       "      run_inline_js();\n",
       "    });\n",
       "  }\n",
       "}(window));"
      ],
      "application/vnd.bokehjs_load.v0+json": "\n(function(root) {\n  function now() {\n    return new Date();\n  }\n\n  var force = true;\n\n  if (typeof (root._bokeh_onload_callbacks) === \"undefined\" || force === true) {\n    root._bokeh_onload_callbacks = [];\n    root._bokeh_is_loading = undefined;\n  }\n\n  \n\n  \n  if (typeof (root._bokeh_timeout) === \"undefined\" || force === true) {\n    root._bokeh_timeout = Date.now() + 5000;\n    root._bokeh_failed_load = false;\n  }\n\n  var NB_LOAD_WARNING = {'data': {'text/html':\n     \"<div style='background-color: #fdd'>\\n\"+\n     \"<p>\\n\"+\n     \"BokehJS does not appear to have successfully loaded. If loading BokehJS from CDN, this \\n\"+\n     \"may be due to a slow or bad network connection. Possible fixes:\\n\"+\n     \"</p>\\n\"+\n     \"<ul>\\n\"+\n     \"<li>re-rerun `output_notebook()` to attempt to load from CDN again, or</li>\\n\"+\n     \"<li>use INLINE resources instead, as so:</li>\\n\"+\n     \"</ul>\\n\"+\n     \"<code>\\n\"+\n     \"from bokeh.resources import INLINE\\n\"+\n     \"output_notebook(resources=INLINE)\\n\"+\n     \"</code>\\n\"+\n     \"</div>\"}};\n\n  function display_loaded() {\n    var el = document.getElementById(\"3b123b35-6ea5-4906-b3cf-32d109c798f9\");\n    if (el != null) {\n      el.textContent = \"BokehJS is loading...\";\n    }\n    if (root.Bokeh !== undefined) {\n      if (el != null) {\n        el.textContent = \"BokehJS \" + root.Bokeh.version + \" successfully loaded.\";\n      }\n    } else if (Date.now() < root._bokeh_timeout) {\n      setTimeout(display_loaded, 100)\n    }\n  }\n\n\n  function run_callbacks() {\n    try {\n      root._bokeh_onload_callbacks.forEach(function(callback) { callback() });\n    }\n    finally {\n      delete root._bokeh_onload_callbacks\n    }\n    console.info(\"Bokeh: all callbacks have finished\");\n  }\n\n  function load_libs(js_urls, callback) {\n    root._bokeh_onload_callbacks.push(callback);\n    if (root._bokeh_is_loading > 0) {\n      console.log(\"Bokeh: BokehJS is being loaded, scheduling callback at\", now());\n      return null;\n    }\n    if (js_urls == null || js_urls.length === 0) {\n      run_callbacks();\n      return null;\n    }\n    console.log(\"Bokeh: BokehJS not loaded, scheduling load and callback at\", now());\n    root._bokeh_is_loading = js_urls.length;\n    for (var i = 0; i < js_urls.length; i++) {\n      var url = js_urls[i];\n      var s = document.createElement('script');\n      s.src = url;\n      s.async = false;\n      s.onreadystatechange = s.onload = function() {\n        root._bokeh_is_loading--;\n        if (root._bokeh_is_loading === 0) {\n          console.log(\"Bokeh: all BokehJS libraries loaded\");\n          run_callbacks()\n        }\n      };\n      s.onerror = function() {\n        console.warn(\"failed to load library \" + url);\n      };\n      console.log(\"Bokeh: injecting script tag for BokehJS library: \", url);\n      document.getElementsByTagName(\"head\")[0].appendChild(s);\n    }\n  };var element = document.getElementById(\"3b123b35-6ea5-4906-b3cf-32d109c798f9\");\n  if (element == null) {\n    console.log(\"Bokeh: ERROR: autoload.js configured with elementid '3b123b35-6ea5-4906-b3cf-32d109c798f9' but no matching script tag was found. \")\n    return false;\n  }\n\n  var js_urls = [\"https://cdn.pydata.org/bokeh/release/bokeh-0.12.13.min.js\", \"https://cdn.pydata.org/bokeh/release/bokeh-widgets-0.12.13.min.js\", \"https://cdn.pydata.org/bokeh/release/bokeh-tables-0.12.13.min.js\", \"https://cdn.pydata.org/bokeh/release/bokeh-gl-0.12.13.min.js\"];\n\n  var inline_js = [\n    function(Bokeh) {\n      Bokeh.set_log_level(\"info\");\n    },\n    \n    function(Bokeh) {\n      \n    },\n    function(Bokeh) {\n      console.log(\"Bokeh: injecting CSS: https://cdn.pydata.org/bokeh/release/bokeh-0.12.13.min.css\");\n      Bokeh.embed.inject_css(\"https://cdn.pydata.org/bokeh/release/bokeh-0.12.13.min.css\");\n      console.log(\"Bokeh: injecting CSS: https://cdn.pydata.org/bokeh/release/bokeh-widgets-0.12.13.min.css\");\n      Bokeh.embed.inject_css(\"https://cdn.pydata.org/bokeh/release/bokeh-widgets-0.12.13.min.css\");\n      console.log(\"Bokeh: injecting CSS: https://cdn.pydata.org/bokeh/release/bokeh-tables-0.12.13.min.css\");\n      Bokeh.embed.inject_css(\"https://cdn.pydata.org/bokeh/release/bokeh-tables-0.12.13.min.css\");\n    }\n  ];\n\n  function run_inline_js() {\n    \n    if ((root.Bokeh !== undefined) || (force === true)) {\n      for (var i = 0; i < inline_js.length; i++) {\n        inline_js[i].call(root, root.Bokeh);\n      }if (force === true) {\n        display_loaded();\n      }} else if (Date.now() < root._bokeh_timeout) {\n      setTimeout(run_inline_js, 100);\n    } else if (!root._bokeh_failed_load) {\n      console.log(\"Bokeh: BokehJS failed to load within specified timeout.\");\n      root._bokeh_failed_load = true;\n    } else if (force !== true) {\n      var cell = $(document.getElementById(\"3b123b35-6ea5-4906-b3cf-32d109c798f9\")).parents('.cell').data().cell;\n      cell.output_area.append_execute_result(NB_LOAD_WARNING)\n    }\n\n  }\n\n  if (root._bokeh_is_loading === 0) {\n    console.log(\"Bokeh: BokehJS loaded, going straight to plotting\");\n    run_inline_js();\n  } else {\n    load_libs(js_urls, function() {\n      console.log(\"Bokeh: BokehJS plotting callback run at\", now());\n      run_inline_js();\n    });\n  }\n}(window));"
     },
     "metadata": {},
     "output_type": "display_data"
    },
    {
     "data": {
      "text/html": [
       "\n",
       "<div class=\"bk-root\">\n",
       "    <div class=\"bk-plotdiv\" id=\"b0bde6c7-31bd-44dd-a360-c51011a42bce\"></div>\n",
       "</div>"
      ]
     },
     "metadata": {},
     "output_type": "display_data"
    },
    {
     "data": {
      "application/javascript": [
       "(function(root) {\n",
       "  function embed_document(root) {\n",
       "    \n",
       "  var docs_json = {\"fe147ee9-4e01-4aea-9d83-b35eeda960ad\":{\"roots\":{\"references\":[{\"attributes\":{},\"id\":\"dc6c4373-f22c-4351-9881-72484c6d1785\",\"type\":\"SaveTool\"},{\"attributes\":{\"bottom_units\":\"screen\",\"fill_alpha\":{\"value\":0.5},\"fill_color\":{\"value\":\"lightgrey\"},\"left_units\":\"screen\",\"level\":\"overlay\",\"line_alpha\":{\"value\":1.0},\"line_color\":{\"value\":\"black\"},\"line_dash\":[4,4],\"line_width\":{\"value\":2},\"plot\":null,\"render_mode\":\"css\",\"right_units\":\"screen\",\"top_units\":\"screen\"},\"id\":\"1adfd0fc-b714-411c-bfd7-4b27a81eb41f\",\"type\":\"BoxAnnotation\"},{\"attributes\":{\"callback\":null},\"id\":\"2311f650-e529-4a0d-81eb-5f0d06dee8fe\",\"type\":\"DataRange1d\"},{\"attributes\":{},\"id\":\"0473e387-8f47-4fff-a864-ddd2aedf24fe\",\"type\":\"LinearScale\"},{\"attributes\":{},\"id\":\"e14531d4-67f2-4938-a1c6-27f4d392d887\",\"type\":\"ResetTool\"},{\"attributes\":{\"below\":[{\"id\":\"88479451-d6aa-4bbe-ad41-8f7318e19cb4\",\"type\":\"LinearAxis\"}],\"left\":[{\"id\":\"5c9bafb9-7a76-4c84-b206-586d5181a541\",\"type\":\"LinearAxis\"}],\"renderers\":[{\"id\":\"88479451-d6aa-4bbe-ad41-8f7318e19cb4\",\"type\":\"LinearAxis\"},{\"id\":\"221aa033-817c-4f8b-8f82-359243c35cda\",\"type\":\"Grid\"},{\"id\":\"5c9bafb9-7a76-4c84-b206-586d5181a541\",\"type\":\"LinearAxis\"},{\"id\":\"30a9fde9-de1c-4e05-8201-529b08715139\",\"type\":\"Grid\"},{\"id\":\"1adfd0fc-b714-411c-bfd7-4b27a81eb41f\",\"type\":\"BoxAnnotation\"},{\"id\":\"b08731c8-9f21-4d02-b710-9d80f0781699\",\"type\":\"Legend\"},{\"id\":\"1a8c7b3e-54f2-448f-9018-182033f7d89d\",\"type\":\"GlyphRenderer\"}],\"title\":{\"id\":\"9210fe96-91e6-43b0-abc0-b269aacf3984\",\"type\":\"Title\"},\"toolbar\":{\"id\":\"801afbc5-b091-497f-939a-9a3a783ab8a2\",\"type\":\"Toolbar\"},\"x_range\":{\"id\":\"2311f650-e529-4a0d-81eb-5f0d06dee8fe\",\"type\":\"DataRange1d\"},\"x_scale\":{\"id\":\"bf8aea8c-9fd1-436a-abcf-e75e66d1ab46\",\"type\":\"LinearScale\"},\"y_range\":{\"id\":\"f4f8bf8e-b1dc-42b0-ae0d-97f778ce5228\",\"type\":\"DataRange1d\"},\"y_scale\":{\"id\":\"0473e387-8f47-4fff-a864-ddd2aedf24fe\",\"type\":\"LinearScale\"}},\"id\":\"d40d2c0e-66a7-4f56-b9db-6ff4c5c1ff4e\",\"subtype\":\"Figure\",\"type\":\"Plot\"},{\"attributes\":{},\"id\":\"8e2a5f1a-ed0b-4df9-a7cc-861cf51c25ce\",\"type\":\"HelpTool\"},{\"attributes\":{\"plot\":null,\"text\":\"Polynomial function (x^4)\"},\"id\":\"9210fe96-91e6-43b0-abc0-b269aacf3984\",\"type\":\"Title\"},{\"attributes\":{\"line_alpha\":0.1,\"line_color\":\"#1f77b4\",\"line_width\":2,\"x\":{\"field\":\"x\"},\"y\":{\"field\":\"y\"}},\"id\":\"b4bef723-6640-4a2b-9d9c-4ea6eefe70ce\",\"type\":\"Line\"},{\"attributes\":{\"plot\":{\"id\":\"d40d2c0e-66a7-4f56-b9db-6ff4c5c1ff4e\",\"subtype\":\"Figure\",\"type\":\"Plot\"},\"ticker\":{\"id\":\"ce009530-e42b-4d2a-bec0-668bd9aa55f0\",\"type\":\"BasicTicker\"}},\"id\":\"221aa033-817c-4f8b-8f82-359243c35cda\",\"type\":\"Grid\"},{\"attributes\":{\"items\":[{\"id\":\"05416530-54f1-4a65-b358-e0544772486a\",\"type\":\"LegendItem\"}],\"plot\":{\"id\":\"d40d2c0e-66a7-4f56-b9db-6ff4c5c1ff4e\",\"subtype\":\"Figure\",\"type\":\"Plot\"}},\"id\":\"b08731c8-9f21-4d02-b710-9d80f0781699\",\"type\":\"Legend\"},{\"attributes\":{},\"id\":\"bf8aea8c-9fd1-436a-abcf-e75e66d1ab46\",\"type\":\"LinearScale\"},{\"attributes\":{\"active_drag\":\"auto\",\"active_inspect\":\"auto\",\"active_scroll\":\"auto\",\"active_tap\":\"auto\",\"tools\":[{\"id\":\"b0f4848c-ad8a-49cd-b2a3-15e985813042\",\"type\":\"PanTool\"},{\"id\":\"67ca4af1-e0b4-43df-b36b-8eedaa8b1878\",\"type\":\"WheelZoomTool\"},{\"id\":\"f6fd7bf4-d651-46d1-80cf-d7f01852bb2d\",\"type\":\"BoxZoomTool\"},{\"id\":\"dc6c4373-f22c-4351-9881-72484c6d1785\",\"type\":\"SaveTool\"},{\"id\":\"e14531d4-67f2-4938-a1c6-27f4d392d887\",\"type\":\"ResetTool\"},{\"id\":\"8e2a5f1a-ed0b-4df9-a7cc-861cf51c25ce\",\"type\":\"HelpTool\"}]},\"id\":\"801afbc5-b091-497f-939a-9a3a783ab8a2\",\"type\":\"Toolbar\"},{\"attributes\":{},\"id\":\"3c23cf4a-4dd3-4498-a4d3-7ab0de4eb849\",\"type\":\"BasicTickFormatter\"},{\"attributes\":{},\"id\":\"b0f4848c-ad8a-49cd-b2a3-15e985813042\",\"type\":\"PanTool\"},{\"attributes\":{\"line_color\":\"#1f77b4\",\"line_width\":2,\"x\":{\"field\":\"x\"},\"y\":{\"field\":\"y\"}},\"id\":\"17da2a06-d5e7-43ee-9eb2-686fc8e514ad\",\"type\":\"Line\"},{\"attributes\":{},\"id\":\"40dbde1f-6ba0-4d51-85cc-425aca9fa585\",\"type\":\"BasicTicker\"},{\"attributes\":{\"dimension\":1,\"plot\":{\"id\":\"d40d2c0e-66a7-4f56-b9db-6ff4c5c1ff4e\",\"subtype\":\"Figure\",\"type\":\"Plot\"},\"ticker\":{\"id\":\"40dbde1f-6ba0-4d51-85cc-425aca9fa585\",\"type\":\"BasicTicker\"}},\"id\":\"30a9fde9-de1c-4e05-8201-529b08715139\",\"type\":\"Grid\"},{\"attributes\":{\"overlay\":{\"id\":\"1adfd0fc-b714-411c-bfd7-4b27a81eb41f\",\"type\":\"BoxAnnotation\"}},\"id\":\"f6fd7bf4-d651-46d1-80cf-d7f01852bb2d\",\"type\":\"BoxZoomTool\"},{\"attributes\":{\"label\":{\"value\":\"Quartic polynomial\"},\"renderers\":[{\"id\":\"1a8c7b3e-54f2-448f-9018-182033f7d89d\",\"type\":\"GlyphRenderer\"}]},\"id\":\"05416530-54f1-4a65-b358-e0544772486a\",\"type\":\"LegendItem\"},{\"attributes\":{},\"id\":\"ce009530-e42b-4d2a-bec0-668bd9aa55f0\",\"type\":\"BasicTicker\"},{\"attributes\":{\"callback\":null},\"id\":\"f4f8bf8e-b1dc-42b0-ae0d-97f778ce5228\",\"type\":\"DataRange1d\"},{\"attributes\":{\"callback\":null,\"column_names\":[\"x\",\"y\"],\"data\":{\"x\":{\"__ndarray__\":\"AAAAAAAAAAB7FK5H4XqEP3sUrkfhepQ/uB6F61G4nj97FK5H4XqkP5qZmZmZmak/uB6F61G4rj/sUbgeheuxP3sUrkfherQ/CtejcD0Ktz8=\",\"dtype\":\"float64\",\"shape\":[10]},\"y\":{\"__ndarray__\":\"AAAAAAAAAAA6jDDijnlFPjqMMOKOeYU+eHFF1tgtqz46jDDijnnFPi5DHOviNto+eHFF1tgt6z5oKu2iIi35PjqMMOKOeQU/zvGXNwMzET8=\",\"dtype\":\"float64\",\"shape\":[10]}}},\"id\":\"2d5800f1-377f-4a0d-b4a3-a9926fe0ef58\",\"type\":\"ColumnDataSource\"},{\"attributes\":{},\"id\":\"67ca4af1-e0b4-43df-b36b-8eedaa8b1878\",\"type\":\"WheelZoomTool\"},{\"attributes\":{\"axis_label\":\"y\",\"formatter\":{\"id\":\"ef34f606-c03b-470f-961c-aba43f35e1e2\",\"type\":\"BasicTickFormatter\"},\"plot\":{\"id\":\"d40d2c0e-66a7-4f56-b9db-6ff4c5c1ff4e\",\"subtype\":\"Figure\",\"type\":\"Plot\"},\"ticker\":{\"id\":\"40dbde1f-6ba0-4d51-85cc-425aca9fa585\",\"type\":\"BasicTicker\"}},\"id\":\"5c9bafb9-7a76-4c84-b206-586d5181a541\",\"type\":\"LinearAxis\"},{\"attributes\":{\"source\":{\"id\":\"2d5800f1-377f-4a0d-b4a3-a9926fe0ef58\",\"type\":\"ColumnDataSource\"}},\"id\":\"aae6ade1-c127-4d3f-9e31-e40542a4ff6f\",\"type\":\"CDSView\"},{\"attributes\":{\"data_source\":{\"id\":\"2d5800f1-377f-4a0d-b4a3-a9926fe0ef58\",\"type\":\"ColumnDataSource\"},\"glyph\":{\"id\":\"17da2a06-d5e7-43ee-9eb2-686fc8e514ad\",\"type\":\"Line\"},\"hover_glyph\":null,\"muted_glyph\":null,\"nonselection_glyph\":{\"id\":\"b4bef723-6640-4a2b-9d9c-4ea6eefe70ce\",\"type\":\"Line\"},\"selection_glyph\":null,\"view\":{\"id\":\"aae6ade1-c127-4d3f-9e31-e40542a4ff6f\",\"type\":\"CDSView\"}},\"id\":\"1a8c7b3e-54f2-448f-9018-182033f7d89d\",\"type\":\"GlyphRenderer\"},{\"attributes\":{},\"id\":\"ef34f606-c03b-470f-961c-aba43f35e1e2\",\"type\":\"BasicTickFormatter\"},{\"attributes\":{\"axis_label\":\"x\",\"formatter\":{\"id\":\"3c23cf4a-4dd3-4498-a4d3-7ab0de4eb849\",\"type\":\"BasicTickFormatter\"},\"plot\":{\"id\":\"d40d2c0e-66a7-4f56-b9db-6ff4c5c1ff4e\",\"subtype\":\"Figure\",\"type\":\"Plot\"},\"ticker\":{\"id\":\"ce009530-e42b-4d2a-bec0-668bd9aa55f0\",\"type\":\"BasicTicker\"}},\"id\":\"88479451-d6aa-4bbe-ad41-8f7318e19cb4\",\"type\":\"LinearAxis\"}],\"root_ids\":[\"d40d2c0e-66a7-4f56-b9db-6ff4c5c1ff4e\"]},\"title\":\"Bokeh Application\",\"version\":\"0.12.13\"}};\n",
       "  var render_items = [{\"docid\":\"fe147ee9-4e01-4aea-9d83-b35eeda960ad\",\"elementid\":\"b0bde6c7-31bd-44dd-a360-c51011a42bce\",\"modelid\":\"d40d2c0e-66a7-4f56-b9db-6ff4c5c1ff4e\"}];\n",
       "  root.Bokeh.embed.embed_items_notebook(docs_json, render_items);\n",
       "\n",
       "  }\n",
       "  if (root.Bokeh !== undefined) {\n",
       "    embed_document(root);\n",
       "  } else {\n",
       "    var attempts = 0;\n",
       "    var timer = setInterval(function(root) {\n",
       "      if (root.Bokeh !== undefined) {\n",
       "        embed_document(root);\n",
       "        clearInterval(timer);\n",
       "      }\n",
       "      attempts++;\n",
       "      if (attempts > 100) {\n",
       "        console.log(\"Bokeh: ERROR: Unable to run BokehJS code because BokehJS library is missing\")\n",
       "        clearInterval(timer);\n",
       "      }\n",
       "    }, 10, root)\n",
       "  }\n",
       "})(window);"
      ],
      "application/vnd.bokehjs_exec.v0+json": ""
     },
     "metadata": {
      "application/vnd.bokehjs_exec.v0+json": {
       "id": "d40d2c0e-66a7-4f56-b9db-6ff4c5c1ff4e"
      }
     },
     "output_type": "display_data"
    }
   ],
   "source": [
    "from bokeh.plotting import figure, output_notebook, show\n",
    "# create a new plot with a title and axis labels\n",
    "\n",
    "output_notebook()\n",
    "p = figure(title=\"Polynomial function (x^4)\", x_axis_label='x', y_axis_label='y')\n",
    "\n",
    "# add a line renderer with legend and line thickness\n",
    "p.line(x, y, legend=\"Quartic polynomial\", line_width=2)\n",
    "\n",
    "# show the results\n",
    "show(p)"
   ]
  },
  {
   "cell_type": "code",
   "execution_count": 98,
   "metadata": {},
   "outputs": [
    {
     "name": "stdout",
     "output_type": "stream",
     "text": [
      "0.0\n",
      "1e-08\n",
      "1.6e-07\n",
      "8.099999999999999e-07\n",
      "2.56e-06\n",
      "6.250000000000001e-06\n",
      "1.2959999999999998e-05\n",
      "2.401000000000001e-05\n",
      "4.096e-05\n",
      "6.560999999999999e-05\n",
      "0.0\n",
      "1.0000000001999999e-08\n",
      "1.6000000025600002e-07\n",
      "8.100000043739998e-07\n",
      "2.5600000327680003e-06\n",
      "6.250000156250002e-06\n",
      "1.2960000559872008e-05\n",
      "2.4010001647086058e-05\n",
      "4.096000419430418e-05\n",
      "6.56100095659385e-05\n",
      "0.0\n",
      "1.0000000001999999e-08\n",
      "1.6000000025600002e-07\n",
      "8.100000043739998e-07\n",
      "2.5600000327680003e-06\n",
      "6.250000156250006e-06\n",
      "1.2960000559872032e-05\n",
      "2.4010001647086173e-05\n",
      "4.09600041943046e-05\n",
      "6.561000956593992e-05\n",
      "0.0\n",
      "1.0000000004000002e-08\n",
      "1.60000000512e-07\n",
      "8.100000087480001e-07\n",
      "2.560000065536002e-06\n",
      "6.250000312500016e-06\n",
      "1.2960001119744084e-05\n",
      "2.40100032941724e-05\n",
      "4.0960008388609496e-05\n",
      "6.561001913188086e-05\n"
     ]
    }
   ],
   "source": [
    "rk4polyout=RK4(.01,t,x,polyfn)"
   ]
  },
  {
   "cell_type": "code",
   "execution_count": 100,
   "metadata": {},
   "outputs": [
    {
     "name": "stdout",
     "output_type": "stream",
     "text": [
      "(0.01, array([0.01, 0.02, 0.03, 0.04, 0.05, 0.06, 0.07, 0.08, 0.09, 0.1 ]), array([0.        , 0.01      , 0.02      , 0.03000001, 0.04000003,\n",
      "       0.05000006, 0.06000013, 0.07000024, 0.08000041, 0.09000066]))\n"
     ]
    }
   ],
   "source": [
    "print(rk4polyout) \n",
    "#There are multiple items in the y output, which is confusing. trace this over time and plot an evolution and compare to exact solution, which I have analytically written down. steve points out truncation error\n"
   ]
  },
  {
   "cell_type": "code",
   "execution_count": 81,
   "metadata": {},
   "outputs": [],
   "source": [
    "def invpolyint(t,x):\n",
    "    p=[]\n",
    "    for ti in t:\n",
    "        xi=-3*t**(-1./3.)\n",
    "        p.append(xi)\n",
    "    return np.array(p)\n",
    "    \n",
    "\n"
   ]
  },
  {
   "cell_type": "code",
   "execution_count": 79,
   "metadata": {},
   "outputs": [
    {
     "ename": "TypeError",
     "evalue": "'float' object is not iterable",
     "output_type": "error",
     "traceback": [
      "\u001b[0;31m---------------------------------------------------------------------------\u001b[0m",
      "\u001b[0;31mTypeError\u001b[0m                                 Traceback (most recent call last)",
      "\u001b[0;32m<ipython-input-79-49dc912e4485>\u001b[0m in \u001b[0;36m<module>\u001b[0;34m()\u001b[0m\n\u001b[0;32m----> 1\u001b[0;31m \u001b[0mprint\u001b[0m\u001b[0;34m(\u001b[0m\u001b[0minvpolyrhs\u001b[0m\u001b[0;34m(\u001b[0m\u001b[0mt\u001b[0m\u001b[0;34m,\u001b[0m\u001b[0mx\u001b[0m\u001b[0;34m)\u001b[0m\u001b[0;34m)\u001b[0m\u001b[0;34m\u001b[0m\u001b[0m\n\u001b[0m",
      "\u001b[0;32m<ipython-input-78-68709cea0da1>\u001b[0m in \u001b[0;36minvpolyrhs\u001b[0;34m(t, x)\u001b[0m\n\u001b[1;32m      1\u001b[0m \u001b[0;32mdef\u001b[0m \u001b[0minvpolyrhs\u001b[0m\u001b[0;34m(\u001b[0m\u001b[0mt\u001b[0m\u001b[0;34m,\u001b[0m\u001b[0mx\u001b[0m\u001b[0;34m)\u001b[0m\u001b[0;34m:\u001b[0m\u001b[0;34m\u001b[0m\u001b[0m\n\u001b[1;32m      2\u001b[0m     \u001b[0mp\u001b[0m\u001b[0;34m=\u001b[0m\u001b[0;34m[\u001b[0m\u001b[0;34m]\u001b[0m\u001b[0;34m\u001b[0m\u001b[0m\n\u001b[0;32m----> 3\u001b[0;31m     \u001b[0;32mfor\u001b[0m \u001b[0mti\u001b[0m \u001b[0;32min\u001b[0m \u001b[0mt\u001b[0m\u001b[0;34m:\u001b[0m\u001b[0;34m\u001b[0m\u001b[0m\n\u001b[0m\u001b[1;32m      4\u001b[0m         \u001b[0mxi\u001b[0m\u001b[0;34m=\u001b[0m\u001b[0;34m-\u001b[0m\u001b[0;36m3\u001b[0m\u001b[0;34m*\u001b[0m\u001b[0mt\u001b[0m\u001b[0;34m**\u001b[0m\u001b[0;34m(\u001b[0m\u001b[0;34m-\u001b[0m\u001b[0;36m1.\u001b[0m\u001b[0;34m/\u001b[0m\u001b[0;36m3.\u001b[0m\u001b[0;34m)\u001b[0m\u001b[0;34m\u001b[0m\u001b[0m\n\u001b[1;32m      5\u001b[0m         \u001b[0mp\u001b[0m\u001b[0;34m.\u001b[0m\u001b[0mappend\u001b[0m\u001b[0;34m(\u001b[0m\u001b[0mti\u001b[0m\u001b[0;34m)\u001b[0m\u001b[0;34m\u001b[0m\u001b[0m\n",
      "\u001b[0;31mTypeError\u001b[0m: 'float' object is not iterable"
     ]
    }
   ],
   "source": [
    "#print(invpolyint(t,x)) #need an entire run to invert this because you need a history of a timeseries accumulated"
   ]
  },
  {
   "cell_type": "code",
   "execution_count": 84,
   "metadata": {},
   "outputs": [],
   "source": [
    "def analyticalpolyint(t,x):\n",
    "    p=[]\n",
    "    for xi in x:\n",
    "        ti = -1./3.*xi**(-3.)\n",
    "        p.append(ti)\n",
    "    return np.array(p)"
   ]
  },
  {
   "cell_type": "code",
   "execution_count": 85,
   "metadata": {},
   "outputs": [
    {
     "name": "stdout",
     "output_type": "stream",
     "text": [
      "[            -inf -333333.33333333  -41666.66666667  -12345.67901235\n",
      "   -5208.33333333   -2666.66666667   -1543.20987654    -971.81729835\n",
      "    -651.04166667    -457.24737083]\n"
     ]
    },
    {
     "name": "stderr",
     "output_type": "stream",
     "text": [
      "/Users/sdorsher/anaconda3/lib/python3.6/site-packages/ipykernel_launcher.py:4: RuntimeWarning: divide by zero encountered in double_scalars\n",
      "  after removing the cwd from sys.path.\n"
     ]
    }
   ],
   "source": [
    "print(analyticalpolyint(t,x))"
   ]
  },
  {
   "cell_type": "code",
   "execution_count": 59,
   "metadata": {},
   "outputs": [],
   "source": [
    "def invertIMF(luminosity,lsun,masssun):\n",
    "    M=[]\n",
    "    for L in luminosity: \n",
    "        if (L<(.43)**4)*lsun:\n",
    "            x=((L/lsun/0.23)**(1./2.3))*masssun\n",
    "            #print(x,1)\n",
    "            M.append(x)\n",
    "        elif (L<16*lsun):\n",
    "            x=(((L/lsun)**(0.25))*masssun)\n",
    "            #print(L,lsun,masssun,x,2)\n",
    "            M.append(x)\n",
    "        elif (L<(((20**(3.5))*1.4)*masssun)):\n",
    "            x=(((L/lsun/1.4)**(1./3.5))*masssun)\n",
    "            #print(x,3)\n",
    "            M.append(x)\n",
    "        else:\n",
    "            x=((L/lsun/32000.)*masssun)\n",
    "            #print(x,4)\n",
    "            M.append(x)\n",
    "    return np.array(M)\n",
    "    "
   ]
  },
  {
   "cell_type": "code",
   "execution_count": null,
   "metadata": {},
   "outputs": [],
   "source": []
  },
  {
   "cell_type": "code",
   "execution_count": 60,
   "metadata": {},
   "outputs": [],
   "source": [
    "def InitialData():\n",
    "    random.seed(a=9001)\n",
    "    \n",
    "    #initially use an in plane orbit with random starting locations relative to the x axis\n",
    "    phi=np.random.uniform(0,1,2)\n",
    "    orbitangle=np.zeros(2)\n",
    "    orbitalradius=np.random.uniform(.1,50,2)\n",
    "    eccentricity=np.random.uniform(0.,.1,2)\n",
    "    magnitude=np.random.uniform(-20,-30,2) #absolute not apparent maginutde\n",
    "    magsun=-26.832\n",
    "    masssun=1.989*10**30\n",
    "    lsun=3.828*10**26\n",
    "    luminosity=lsun*10**(0.4*(magnitude-magsun))\n",
    "    masses= invertIMF(luminosity,lsun,masssun) #Initial mass function for Main Sequence\n",
    "    #masses=np.random.uniform(.7,5.) #replace with IMF\n",
    "\n",
    "    return phi,orbitangle,orbitalradius,orbitalradius,eccentricity,luminosity, masses\n",
    "\n"
   ]
  },
  {
   "cell_type": "code",
   "execution_count": 61,
   "metadata": {},
   "outputs": [],
   "source": [
    "import random\n",
    "initdat=InitialData()"
   ]
  },
  {
   "cell_type": "code",
   "execution_count": 62,
   "metadata": {},
   "outputs": [
    {
     "name": "stdout",
     "output_type": "stream",
     "text": [
      "(array([0.26788232, 0.0330219 ]), array([0., 0.]), array([36.13823447, 32.46181816]), array([36.13823447, 32.46181816]), array([0.09042124, 0.08557731]), array([3.82044439e+26, 7.09138956e+28]), array([1.98801781e+30, 8.03184238e+30]))\n"
     ]
    }
   ],
   "source": [
    "print(initdat)"
   ]
  },
  {
   "cell_type": "code",
   "execution_count": null,
   "metadata": {},
   "outputs": [],
   "source": [
    "def getxyuv(phi,orbitangle,orbitalradius,orbitalradius,eccentricity,luminosity, masses):\n",
    "    x0=orbitalradius*np.cos(phi)\n",
    "    y0=orbitalradius*np.sin(phi)\n",
    "    \n",
    "    #start at perihelion for both (eliptical, doesn't generalize to three body)\n",
    "    ux0=np.zeroes(2)\n",
    "    uy0=np.(2)\n",
    "    #evolve in plane only\n",
    "    #there is a units problem that needs to be fixed\n",
    "    #velocity initial conditions are not trivial. \n",
    "\n",
    "    return masses,x0,y0, ux0, uy0"
   ]
  }
 ],
 "metadata": {
  "kernelspec": {
   "display_name": "Python 3",
   "language": "python",
   "name": "python3"
  },
  "language_info": {
   "codemirror_mode": {
    "name": "ipython",
    "version": 3
   },
   "file_extension": ".py",
   "mimetype": "text/x-python",
   "name": "python",
   "nbconvert_exporter": "python",
   "pygments_lexer": "ipython3",
   "version": "3.6.4"
  }
 },
 "nbformat": 4,
 "nbformat_minor": 2
}
