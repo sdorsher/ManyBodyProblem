{
 "cells": [
  {
   "cell_type": "code",
   "execution_count": 1,
   "metadata": {},
   "outputs": [],
   "source": [
    "import math\n",
    "import numpy as np"
   ]
  },
  {
   "cell_type": "code",
   "execution_count": 2,
   "metadata": {},
   "outputs": [],
   "source": [
    "import ellipsefns\n",
    "#getfocus, getsemiminor, theoreticalx, theoreticaly"
   ]
  },
  {
   "cell_type": "code",
   "execution_count": 3,
   "metadata": {},
   "outputs": [],
   "source": [
    "import initdat"
   ]
  },
  {
   "cell_type": "code",
   "execution_count": 4,
   "metadata": {},
   "outputs": [
    {
     "name": "stdout",
     "output_type": "stream",
     "text": [
      "angle 0.0\n",
      "0.9\n",
      "(array([3.14159265, 0.        ]), 0.0, 50, 0.9, array([1., 1.]))\n"
     ]
    }
   ],
   "source": [
    "\n",
    "rad0=50\n",
    "ecc0=0.9\n",
    "theta0= 0. #math.pi/6. #math.pi/6.\n",
    "mass0=1.0\n",
    "initdateqellipse=initdat.InitialDataEqualMassConic(rad0,ecc0,theta0,mass0)\n",
    "print(initdateqellipse)"
   ]
  },
  {
   "cell_type": "markdown",
   "metadata": {},
   "source": [
    "VERIFIED FOR THETA=-45,45,135,180,90,30,-30. VERIFIED FOR ECC =0.001, 0.1,0.5, 0.7, 0.9, 0.95 VERIFIED FOR RAD0=50,75 100 "
   ]
  },
  {
   "cell_type": "code",
   "execution_count": 5,
   "metadata": {},
   "outputs": [],
   "source": [
    "import getxyuvtwoellipse_apper"
   ]
  },
  {
   "cell_type": "code",
   "execution_count": 6,
   "metadata": {},
   "outputs": [],
   "source": [
    "useperihelion=True"
   ]
  },
  {
   "cell_type": "code",
   "execution_count": 7,
   "metadata": {},
   "outputs": [
    {
     "name": "stdout",
     "output_type": "stream",
     "text": [
      "initdat 50 [3.14159265 0.        ] 0.9 [-1.  1.] [1.2246468e-16 0.0000000e+00]\n",
      "coordsep 50\n",
      "pi\n",
      "zero\n",
      "[-50.  50.]\n",
      "[0. 0.]\n",
      "(array([1., 1.]), array([[-5.       ,  0.       ,  0.       , -0.       , -0.3082207,\n",
      "         0.       ],\n",
      "       [ 5.       ,  0.       ,  0.       , -0.       ,  0.3082207,\n",
      "         0.       ]]), array([[ 0.01, -0.  ,  0.  ],\n",
      "       [-0.01, -0.  ,  0.  ]]))\n"
     ]
    }
   ],
   "source": [
    "xyuvaeqellipse=getxyuvtwoellipse_apper.getxyuveqtwoellipses(initdateqellipse,useperihelion)\n",
    "print(xyuvaeqellipse)\n",
    "masses,xvec,avec=xyuvaeqellipse"
   ]
  },
  {
   "cell_type": "code",
   "execution_count": 8,
   "metadata": {},
   "outputs": [],
   "source": [
    "import RK4implicit"
   ]
  },
  {
   "cell_type": "code",
   "execution_count": 9,
   "metadata": {},
   "outputs": [],
   "source": [
    "import OrbitDiffEq"
   ]
  },
  {
   "cell_type": "code",
   "execution_count": null,
   "metadata": {},
   "outputs": [],
   "source": []
  },
  {
   "cell_type": "code",
   "execution_count": 10,
   "metadata": {},
   "outputs": [
    {
     "name": "stdout",
     "output_type": "stream",
     "text": [
      "[1. 1.] [[-5.         0.         0.        -0.        -0.3082207  0.       ]\n",
      " [ 5.         0.         0.        -0.         0.3082207  0.       ]] 0.0\n",
      "[1. 1.] [[-5.         0.         0.        -0.        -0.3082207  0.       ]\n",
      " [ 5.         0.         0.        -0.         0.3082207  0.       ]] 0.0\n"
     ]
    },
    {
     "data": {
      "text/plain": [
       "<OrbitDiffEq.OrbitDiffEq at 0x7f9dbbfbc1d0>"
      ]
     },
     "execution_count": 10,
     "metadata": {},
     "output_type": "execute_result"
    }
   ],
   "source": [
    "masses, xvec,avec=xyuvaeqellipse\n",
    "ODEeq= OrbitDiffEq.OrbitDiffEq(masses,xvec,avec,0.0)\n",
    "ODEeq.print2D()\n",
    "ODEeq.print2D()"
   ]
  },
  {
   "cell_type": "code",
   "execution_count": 11,
   "metadata": {},
   "outputs": [
    {
     "name": "stdout",
     "output_type": "stream",
     "text": [
      "(array([1., 1.]), array([[-5.       ,  0.       ,  0.       , -0.       , -0.3082207,\n",
      "         0.       ],\n",
      "       [ 5.       ,  0.       ,  0.       , -0.       ,  0.3082207,\n",
      "         0.       ]]), array([[ 0.01, -0.  ,  0.  ],\n",
      "       [-0.01, -0.  ,  0.  ]]))\n"
     ]
    }
   ],
   "source": [
    "print(xyuvaeqellipse)"
   ]
  },
  {
   "cell_type": "code",
   "execution_count": 12,
   "metadata": {},
   "outputs": [],
   "source": [
    "import timestep"
   ]
  },
  {
   "cell_type": "code",
   "execution_count": null,
   "metadata": {},
   "outputs": [],
   "source": []
  },
  {
   "cell_type": "code",
   "execution_count": 13,
   "metadata": {},
   "outputs": [],
   "source": [
    "numsteps=6000*10\n",
    "dt=0.1\n",
    "outputevery=1\n",
    "nptimes, npstar1x, npstar2x, npstar1a, npstar2a= timestep.timestep(numsteps,dt,xyuvaeqellipse,outputevery)"
   ]
  },
  {
   "cell_type": "code",
   "execution_count": 14,
   "metadata": {},
   "outputs": [
    {
     "data": {
      "text/plain": [
       "array([[-5.00000000e+00,  0.00000000e+00,  0.00000000e+00,\n",
       "        -0.00000000e+00, -3.08220700e-01,  0.00000000e+00],\n",
       "       [-4.99995000e+00, -3.08219673e-02,  0.00000000e+00,\n",
       "         9.99987667e-04, -3.08217618e-01,  0.00000000e+00],\n",
       "       [-4.99980000e+00, -6.16433181e-02,  0.00000000e+00,\n",
       "         1.99990134e-03, -3.08208372e-01,  0.00000000e+00],\n",
       "       ...,\n",
       "       [ 8.87655668e+01, -1.05389412e+01,  0.00000000e+00,\n",
       "         1.91258636e-02,  1.50907294e-02,  0.00000000e+00],\n",
       "       [ 8.87674792e+01, -1.05374321e+01,  0.00000000e+00,\n",
       "         1.91227567e-02,  1.50910983e-02,  0.00000000e+00],\n",
       "       [ 8.87693913e+01, -1.05359230e+01,  0.00000000e+00,\n",
       "         1.91196500e-02,  1.50914670e-02,  0.00000000e+00]])"
      ]
     },
     "execution_count": 14,
     "metadata": {},
     "output_type": "execute_result"
    }
   ],
   "source": [
    "npstar1x"
   ]
  },
  {
   "cell_type": "code",
   "execution_count": 15,
   "metadata": {},
   "outputs": [
    {
     "data": {
      "image/png": "[encoded data removed]",
      "text/plain": [
       "<Figure size 432x288 with 1 Axes>"
      ]
     },
     "metadata": {
      "needs_background": "light"
     },
     "output_type": "display_data"
    }
   ],
   "source": [
    "import matplotlib.pyplot as plt\n",
    "t = np.linspace(0, 2*math.pi, 100)\n",
    "xax=-200+np.arange(0,400)\n",
    "plt.ylim(-200,200)\n",
    "plt.xlim(-200,200)\n",
    "plt.title(\"Elliptical Orbit, RK4, a=\"+str(rad0)+\", e=\"+ str(ecc0)+\", theta=\"+str(round(180*theta0/math.pi))+ \" degrees\")\n",
    "plt.plot(ellipsefns.getxtheory(theta0,ecc0,rad0,t,1),ellipsefns.getytheory(theta0,ecc0,rad0,t,1),'b')\n",
    "plt.plot(ellipsefns.getxtheory(theta0,ecc0,rad0,t,-1),ellipsefns.getytheory(theta0,ecc0,rad0,t,-1),'g')\n",
    "plt.plot(npstar1x[:,0],npstar1x[:,1],'y')\n",
    "plt.plot(npstar2x[:,0],npstar2x[:,1],'r')\n",
    "plt.show()"
   ]
  },
  {
   "cell_type": "markdown",
   "metadata": {},
   "source": [
    "%%html\n",
    "<a href=\"https://github.com/sdorsher/ManyBodyProblem/blob/master/EllipseSymmetry.png\">Elliptical orbits at thirty degrees with symmetry line</a>\n",
    "It is clear that the elliptical orbits have focuses, perhelions, and aphelions on the axis of symmetry from this plot. It is also clear that the orbits are symmetric with respect to eachother. "
   ]
  },
  {
   "cell_type": "code",
   "execution_count": 16,
   "metadata": {},
   "outputs": [],
   "source": [
    "def getfocus(a,ecc):\n",
    "    c=a*ecc\n",
    "    return c"
   ]
  },
  {
   "cell_type": "code",
   "execution_count": 17,
   "metadata": {},
   "outputs": [],
   "source": [
    "def getsemiminor(a,ecc):\n",
    "    c=getfocus(a,ecc)\n",
    "    b=np.sqrt(a**2-c**2)\n",
    "    return b"
   ]
  },
  {
   "cell_type": "code",
   "execution_count": 18,
   "metadata": {},
   "outputs": [],
   "source": [
    "def getxtheory2(theta0,ecc0,rad0,t, sgn):\n",
    "    focus=getfocus(rad0,ecc0)\n",
    "    b=getsemiminor(rad0,ecc0)\n",
    "    xdim=rad0\n",
    "    ydim=b\n",
    "    xtheory=sgn*focus*np.cos(theta0)+xdim*np.cos(t)*np.cos(theta0)-ydim*np.sin(t)*np.sin(theta0)\n",
    "    return xtheory"
   ]
  },
  {
   "cell_type": "code",
   "execution_count": 19,
   "metadata": {},
   "outputs": [],
   "source": [
    "def getytheory2(theta0, ecc0, rad0, t, sgn):\n",
    "    focus = getfocus(rad0,ecc0)\n",
    "    b=getsemiminor(rad0,ecc0)\n",
    "    xdim=rad0\n",
    "    ydim=b\n",
    "    ytheory=sgn*focus*np.sin(theta0)+ydim*np.cos(theta0)*np.sin(t)+xdim*np.sin(theta0)*np.cos(t)\n",
    "    return ytheory\n",
    "\n"
   ]
  },
  {
   "cell_type": "code",
   "execution_count": 20,
   "metadata": {},
   "outputs": [
    {
     "data": {
      "image/png": "[encoded data removed]",
      "text/plain": [
       "<Figure size 432x288 with 1 Axes>"
      ]
     },
     "metadata": {
      "needs_background": "light"
     },
     "output_type": "display_data"
    }
   ],
   "source": [
    "import matplotlib.pyplot as plt\n",
    "t = np.linspace(0, 2*math.pi, 100)\n",
    "xax=-200+np.arange(0,400)\n",
    "plt.ylim(-200,200)\n",
    "plt.xlim(-200,200)\n",
    "plt.title(\"Elliptical Orbit, RK4, a=\"+str(rad0)+\", e=\"+ str(ecc0)+\", theta=\"+str(round(180*theta0/math.pi))+ \" degrees\")\n",
    "plt.plot(ellipsefns.getxtheory(theta0,ecc0,rad0,t,1),ellipsefns.getytheory(theta0,ecc0,rad0,t,1),'b')\n",
    "plt.plot(ellipsefns.getxtheory(theta0,ecc0,rad0,t,-1),ellipsefns.getytheory(theta0,ecc0,rad0,t,-1),'g')\n",
    "plt.plot(npstar1x[:,0],npstar1x[:,1],'y')\n",
    "plt.plot(npstar2x[:,0],npstar2x[:,1],'r')\n",
    "plt.plot(xax, np.tan(theta0)*xax,'c')\n",
    "plt.show()"
   ]
  },
  {
   "cell_type": "markdown",
   "metadata": {},
   "source": [
    "Computed orbit and parametric description of ellipse evolve at different rates, since the parametric description of the ellipse doesn't obey keplers law of equal area in equal time (conservation of angular momentum). This is a problem for the fit below. "
   ]
  },
  {
   "cell_type": "markdown",
   "metadata": {},
   "source": [
    "# Conservation of angular momentum"
   ]
  },
  {
   "cell_type": "code",
   "execution_count": 21,
   "metadata": {},
   "outputs": [],
   "source": [
    "import Lstability"
   ]
  },
  {
   "cell_type": "code",
   "execution_count": 22,
   "metadata": {},
   "outputs": [
    {
     "data": {
      "text/plain": [
       "(6.800649889779666e-14, -1.0274023338281315)"
      ]
     },
     "execution_count": 22,
     "metadata": {},
     "output_type": "execute_result"
    }
   ],
   "source": [
    "deltaL, Lavg=Lstability.Lstability(npstar1x,npstar2x,mass0)\n",
    "deltaL, Lavg"
   ]
  },
  {
   "cell_type": "code",
   "execution_count": 23,
   "metadata": {},
   "outputs": [
    {
     "data": {
      "text/plain": [
       "-6.987003568307654e-14"
      ]
     },
     "execution_count": 23,
     "metadata": {},
     "output_type": "execute_result"
    }
   ],
   "source": [
    "deltaL*Lavg"
   ]
  },
  {
   "cell_type": "markdown",
   "metadata": {},
   "source": [
    "Orbit conserves angular momentum to a tolerance of deltaL. "
   ]
  },
  {
   "cell_type": "markdown",
   "metadata": {},
   "source": [
    "# Conservation of Energy"
   ]
  },
  {
   "cell_type": "code",
   "execution_count": 24,
   "metadata": {},
   "outputs": [],
   "source": [
    "import Estability"
   ]
  },
  {
   "cell_type": "code",
   "execution_count": 25,
   "metadata": {},
   "outputs": [
    {
     "data": {
      "text/plain": [
       "(3.5503708119420517e-12, -0.005000000000323058)"
      ]
     },
     "execution_count": 25,
     "metadata": {},
     "output_type": "execute_result"
    }
   ],
   "source": [
    "deltaE, Eavg = Estability.Estability(npstar1x, npstar2x, mass0)\n",
    "deltaE, Eavg"
   ]
  },
  {
   "cell_type": "code",
   "execution_count": 26,
   "metadata": {},
   "outputs": [
    {
     "data": {
      "text/plain": [
       "-1.7751854060857234e-14"
      ]
     },
     "execution_count": 26,
     "metadata": {},
     "output_type": "execute_result"
    }
   ],
   "source": [
    "deltaE*Eavg"
   ]
  },
  {
   "cell_type": "markdown",
   "metadata": {},
   "source": [
    "Orbit conserves energy to a relative error of deltaE. "
   ]
  },
  {
   "cell_type": "markdown",
   "metadata": {},
   "source": [
    "# Symmetry of the two stars orbits with respect to eachother "
   ]
  },
  {
   "cell_type": "code",
   "execution_count": 27,
   "metadata": {},
   "outputs": [],
   "source": [
    "import orbitSymmetricTol"
   ]
  },
  {
   "cell_type": "code",
   "execution_count": 28,
   "metadata": {},
   "outputs": [],
   "source": [
    "allcancelsx, allcancelsa=orbitSymmetricTol.howSymmetric(npstar1x,npstar2x,npstar1a,npstar2a)"
   ]
  },
  {
   "cell_type": "code",
   "execution_count": 29,
   "metadata": {},
   "outputs": [
    {
     "data": {
      "text/plain": [
       "1e-14"
      ]
     },
     "execution_count": 29,
     "metadata": {},
     "output_type": "execute_result"
    }
   ],
   "source": [
    "allcancelsx"
   ]
  },
  {
   "cell_type": "markdown",
   "metadata": {},
   "source": [
    "Orbit is symmetric with respect to x and v up to a tolerance of allcancelsx"
   ]
  },
  {
   "cell_type": "code",
   "execution_count": 30,
   "metadata": {},
   "outputs": [
    {
     "data": {
      "text/plain": [
       "1e-14"
      ]
     },
     "execution_count": 30,
     "metadata": {},
     "output_type": "execute_result"
    }
   ],
   "source": [
    "allcancelsa"
   ]
  },
  {
   "cell_type": "code",
   "execution_count": 31,
   "metadata": {},
   "outputs": [
    {
     "data": {
      "text/plain": [
       "array([[-5.00000000e+00,  0.00000000e+00,  0.00000000e+00,\n",
       "        -0.00000000e+00, -3.08220700e-01,  0.00000000e+00],\n",
       "       [-4.99995000e+00, -3.08219673e-02,  0.00000000e+00,\n",
       "         9.99987667e-04, -3.08217618e-01,  0.00000000e+00],\n",
       "       [-4.99980000e+00, -6.16433181e-02,  0.00000000e+00,\n",
       "         1.99990134e-03, -3.08208372e-01,  0.00000000e+00],\n",
       "       ...,\n",
       "       [ 8.87655668e+01, -1.05389412e+01,  0.00000000e+00,\n",
       "         1.91258636e-02,  1.50907294e-02,  0.00000000e+00],\n",
       "       [ 8.87674792e+01, -1.05374321e+01,  0.00000000e+00,\n",
       "         1.91227567e-02,  1.50910983e-02,  0.00000000e+00],\n",
       "       [ 8.87693913e+01, -1.05359230e+01,  0.00000000e+00,\n",
       "         1.91196500e-02,  1.50914670e-02,  0.00000000e+00]])"
      ]
     },
     "execution_count": 31,
     "metadata": {},
     "output_type": "execute_result"
    }
   ],
   "source": [
    "npstar1x"
   ]
  },
  {
   "cell_type": "markdown",
   "metadata": {},
   "source": [
    "Orbit is symmetric with respect to a to up to or better than a tolerance of allcancelsa"
   ]
  },
  {
   "cell_type": "markdown",
   "metadata": {},
   "source": [
    "# Testing for precision in perihelion and aphelion recovery from knowledge of the initial angle"
   ]
  },
  {
   "cell_type": "code",
   "execution_count": 32,
   "metadata": {},
   "outputs": [],
   "source": [
    "import aeTest"
   ]
  },
  {
   "cell_type": "code",
   "execution_count": 33,
   "metadata": {},
   "outputs": [
    {
     "data": {
      "text/plain": [
       "[<matplotlib.lines.Line2D at 0x7f9dbd80ebd0>]"
      ]
     },
     "execution_count": 33,
     "metadata": {},
     "output_type": "execute_result"
    },
    {
     "data": {
      "image/png": "[encoded data removed]",
      "text/plain": [
       "<Figure size 432x288 with 1 Axes>"
      ]
     },
     "metadata": {
      "needs_background": "light"
     },
     "output_type": "display_data"
    }
   ],
   "source": [
    "from matplotlib import pyplot as plt\n",
    "plt.plot( np.abs(npstar1x[:,1]))"
   ]
  },
  {
   "cell_type": "code",
   "execution_count": 34,
   "metadata": {},
   "outputs": [],
   "source": [
    "def findPerapHelionThetaIsZero(npstar1x,ecc0,rad0,useperihelion):\n",
    "    apindex=np.argmin(np.abs(npstar1x[1:,1]))+1\n",
    "    print(apindex)\n",
    "    delta=math.floor(.2*apindex)\n",
    "    print(delta)\n",
    "    perindex=np.argmin(np.abs(npstar1x[delta:apindex-delta,1]))+delta\n",
    "    print(perindex)\n",
    "    print(apindex/perindex)\n",
    "    if np.abs(apindex/perindex-2.)>0.05: \n",
    "        perindex=np.argmin(np.abs(npstar1x[apindex+delta:2*apindex+delta,1]))+delta+apindex\n",
    "        print(perindex)\n",
    "        apindex,perindex=perindex,apindex\n",
    "        print(apindex,perindex)\n",
    "        print(apindex/perindex)\n",
    "    #apindex3=np.argmin(np.abs(npstar1x[100:apindex2-100,1]))+100\n",
    "    #apindex4=np.argmin(np.abs(npstar1x[100:apindex3-100,1]))+100\n",
    "    #perindex=np.argmin(np.abs(npstar1x[100:apindex2-100,1]))+100\n",
    "    if useperihelion:\n",
    "        apindex,perindex=perindex,apindex\n",
    "    coordap=[npstar1x[apindex,0],npstar1x[apindex,1]]\n",
    "    coordper=[npstar1x[perindex,0],npstar1x[perindex,1]]\n",
    "    ra=np.sqrt(np.sum(np.array(coordap)**2))\n",
    "    rp=np.sqrt(np.sum(np.array(coordper)**2))\n",
    "    e=(ra-rp)/(ra+rp)\n",
    "    a=1./2.*(ra+rp)\n",
    "    deltae=np.abs(e-ecc0)/ecc0\n",
    "    deltaa=np.abs(a-rad0)/rad0\n",
    "    return apindex,perindex,coordap,coordper,ra,rp,e,a,deltae,deltaa"
   ]
  },
  {
   "cell_type": "code",
   "execution_count": 35,
   "metadata": {},
   "outputs": [
    {
     "name": "stdout",
     "output_type": "stream",
     "text": [
      "22214\n",
      "4442\n",
      "17771\n",
      "1.2500140678633729\n",
      "44429\n",
      "44429 22214\n",
      "2.0000450166561627\n"
     ]
    }
   ],
   "source": [
    "if theta0==0:\n",
    "    apindex,perindex,coordap,coordper,ra,rp,e,a,deltae,deltaa=findPerapHelionThetaIsZero(npstar1x,ecc0,rad0,useperihelion)"
   ]
  },
  {
   "cell_type": "code",
   "execution_count": null,
   "metadata": {},
   "outputs": [],
   "source": []
  },
  {
   "cell_type": "code",
   "execution_count": 36,
   "metadata": {},
   "outputs": [],
   "source": [
    "if theta0!=0:\n",
    "    perindex,apindex,coordper,coordap,rp,ra,e,a,deltae,deltaa=aeTest.findPerApHelion(npstar1x,theta0,ecc0,rad0)"
   ]
  },
  {
   "cell_type": "markdown",
   "metadata": {},
   "source": [
    "Recovered perihelion radius given by r_per, recovered aphelion radius given by r_ap, a is semimajor axis computed from the orbit, e is eccentricty computed from the orbit, delta a is relative error on the semimajor axis, and delta e is eccenticity relative error. "
   ]
  },
  {
   "cell_type": "code",
   "execution_count": 37,
   "metadata": {},
   "outputs": [
    {
     "data": {
      "text/plain": [
       "(22214,\n",
       " 44429,\n",
       " [94.99999996972494, -0.0006727127399269277],\n",
       " [-4.9999985443949235, -0.005258944517791155],\n",
       " 94.99999997210675,\n",
       " 5.000001310044707,\n",
       " 0.8999999750812576,\n",
       " 50.00000064107573,\n",
       " 2.7687491558718115e-08,\n",
       " 1.2821514587812999e-08)"
      ]
     },
     "execution_count": 37,
     "metadata": {},
     "output_type": "execute_result"
    }
   ],
   "source": [
    "apindex,perindex,coordap,coordper,ra,rp,e,a,deltae,deltaa"
   ]
  },
  {
   "cell_type": "code",
   "execution_count": 38,
   "metadata": {},
   "outputs": [
    {
     "data": {
      "text/plain": [
       "[<matplotlib.lines.Line2D at 0x7f9dbeb77c90>]"
      ]
     },
     "execution_count": 38,
     "metadata": {},
     "output_type": "execute_result"
    },
    {
     "data": {
      "image/png": "[encoded data removed]",
      "text/plain": [
       "<Figure size 432x288 with 1 Axes>"
      ]
     },
     "metadata": {
      "needs_background": "light"
     },
     "output_type": "display_data"
    }
   ],
   "source": [
    "plt.plot(nptimes[:perindex],npstar1x[:perindex,1])"
   ]
  },
  {
   "cell_type": "markdown",
   "metadata": {},
   "source": [
    "# Testing for symmetry within a given star's orbit about the line created by the initial angle with the origin that should pass thorugh the center of the ellipse, both focuses, and perihelion and aphelion"
   ]
  },
  {
   "cell_type": "code",
   "execution_count": 39,
   "metadata": {},
   "outputs": [],
   "source": [
    "pivotindex=perindex\n",
    "endindex = apindex\n",
    "if useperihelion:\n",
    "    pivotindex=apindex\n",
    "    endindex=perindex"
   ]
  },
  {
   "cell_type": "code",
   "execution_count": 40,
   "metadata": {},
   "outputs": [],
   "source": [
    "tosum1=list(range(0,endindex+1))\n",
    "tosum2=list(range(endindex+1,pivotindex+1))"
   ]
  },
  {
   "cell_type": "code",
   "execution_count": 41,
   "metadata": {},
   "outputs": [
    {
     "data": {
      "text/plain": [
       "44430"
      ]
     },
     "execution_count": 41,
     "metadata": {},
     "output_type": "execute_result"
    }
   ],
   "source": [
    "len(tosum1)"
   ]
  },
  {
   "cell_type": "code",
   "execution_count": 42,
   "metadata": {},
   "outputs": [
    {
     "data": {
      "text/plain": [
       "0"
      ]
     },
     "execution_count": 42,
     "metadata": {},
     "output_type": "execute_result"
    }
   ],
   "source": [
    "len(tosum2)"
   ]
  },
  {
   "cell_type": "code",
   "execution_count": 43,
   "metadata": {},
   "outputs": [
    {
     "data": {
      "text/plain": [
       "(22214, 44429)"
      ]
     },
     "execution_count": 43,
     "metadata": {},
     "output_type": "execute_result"
    }
   ],
   "source": [
    "apindex,perindex"
   ]
  },
  {
   "cell_type": "code",
   "execution_count": 44,
   "metadata": {},
   "outputs": [],
   "source": [
    "revtosum2=tosum2.reverse()"
   ]
  },
  {
   "cell_type": "code",
   "execution_count": 45,
   "metadata": {},
   "outputs": [],
   "source": [
    "xsum=np.zeros(endindex+1)\n",
    "ysum=np.zeros(endindex+1)\n",
    "for index in np.arange(0,pivotindex):\n",
    "    xsum[index]=npstar1x[index,0]+npstar1x[pivotindex+1-index,0]\n",
    "    ysum[index]=npstar1x[index,1]+npstar1x[pivotindex+1-index,1]"
   ]
  },
  {
   "cell_type": "code",
   "execution_count": 46,
   "metadata": {},
   "outputs": [],
   "source": [
    "xsum=xsum/2"
   ]
  },
  {
   "cell_type": "code",
   "execution_count": 47,
   "metadata": {},
   "outputs": [],
   "source": [
    "ysum=ysum/2"
   ]
  },
  {
   "cell_type": "code",
   "execution_count": 48,
   "metadata": {},
   "outputs": [
    {
     "data": {
      "image/png": "[encoded data removed]",
      "text/plain": [
       "<Figure size 432x288 with 1 Axes>"
      ]
     },
     "metadata": {
      "needs_background": "light"
     },
     "output_type": "display_data"
    }
   ],
   "source": [
    "import matplotlib.pyplot as plt\n",
    "b0=np.tan(theta0)\n",
    "plt.plot(xsum,ysum,label=\"Sum of data\")\n",
    "plt.plot(xsum,b0*xsum, color=\"green\", label=\"Line defining perhelion\")\n",
    "plt.xlabel(\"Symmetric X sum\")\n",
    "plt.ylabel(\"Symmetric Y sum\")\n",
    "plt.legend()\n",
    "plt.title(\"Sum of data reflection about perhelion\")\n",
    "plt.show()"
   ]
  },
  {
   "cell_type": "code",
   "execution_count": 49,
   "metadata": {},
   "outputs": [
    {
     "data": {
      "image/png": "[encoded data removed]",
      "text/plain": [
       "<Figure size 432x288 with 1 Axes>"
      ]
     },
     "metadata": {
      "needs_background": "light"
     },
     "output_type": "display_data"
    }
   ],
   "source": [
    "plt.plot(xsum,ysum-np.tan(theta0)*xsum, color=\"green\", label=\"Residual\")\n",
    "plt.xlabel(\"Symmetric X sum\")\n",
    "plt.ylabel(\"Ysum-tan(theta)*Xsum\")\n",
    "plt.title(\"Residuals of data reflected about perihelion\")\n",
    "plt.legend()\n",
    "plt.show()"
   ]
  },
  {
   "cell_type": "markdown",
   "metadata": {},
   "source": [
    "The residual improves substantially from .2 at perihelion with a timestep of dt=1 to .125 at perihelion with a timestep of dt=.3 to .02 at perihelion with a timestep of dt=.1. I think timestep makes all the difference between adjacent pairs of points in resolving perihelion. I think it is difficult to tell how symmetric the orbit is by this method when the limitation is in the resolution of the orbit with timestep. Interpolation would be necessary to get a good picture of orbital shape. "
   ]
  },
  {
   "cell_type": "markdown",
   "metadata": {},
   "source": [
    "In the interest of accomplishing further orbital evolutions, I think I'm going to let the precice numerical characterization of orbital shape question go (the predicted and actual orbits overlap quite nicely) and move on to evolving parabolic and hyperbolic orbits. "
   ]
  },
  {
   "cell_type": "markdown",
   "metadata": {},
   "source": [
    "# Fit t as a function of the eccentric anomoly (angle from the center of the elipse)"
   ]
  },
  {
   "cell_type": "code",
   "execution_count": 50,
   "metadata": {},
   "outputs": [],
   "source": [
    "def findEccentricAnomoly(coordap, coordper):\n",
    "    Ecenter=np.array(coordap)+np.array(coordper)\n",
    "    Ecenter/=2.\n",
    "    return Ecenter\n"
   ]
  },
  {
   "cell_type": "code",
   "execution_count": 51,
   "metadata": {},
   "outputs": [],
   "source": [
    "ellipsecenter=findEccentricAnomoly(coordap,coordper)"
   ]
  },
  {
   "cell_type": "code",
   "execution_count": 52,
   "metadata": {},
   "outputs": [
    {
     "data": {
      "text/plain": [
       "array([ 4.50000007e+01, -2.96582863e-03])"
      ]
     },
     "execution_count": 52,
     "metadata": {},
     "output_type": "execute_result"
    }
   ],
   "source": [
    "ellipsecenter"
   ]
  },
  {
   "cell_type": "code",
   "execution_count": 53,
   "metadata": {},
   "outputs": [],
   "source": [
    "def getEllipsecenter(ecc,rad,theta, useperihelion):\n",
    "    #ind of use perihelion\n",
    "    rp=-rad*(1-ecc)\n",
    "    ra=rad*(1+ecc)\n",
    "    rcent=(rp+ra)/2\n",
    "    rcentx=-rcent*np.cos(theta)\n",
    "    rcenty=-rcent* np.sin(theta)\n",
    "    return [rcentx,rcenty]"
   ]
  },
  {
   "cell_type": "code",
   "execution_count": 54,
   "metadata": {},
   "outputs": [
    {
     "data": {
      "text/plain": [
       "array([ 4.50000007e+01, -2.96582863e-03])"
      ]
     },
     "execution_count": 54,
     "metadata": {},
     "output_type": "execute_result"
    }
   ],
   "source": [
    "(np.array(coordap)+np.array(coordper))/2"
   ]
  },
  {
   "cell_type": "code",
   "execution_count": 55,
   "metadata": {},
   "outputs": [
    {
     "data": {
      "text/plain": [
       "[-45.0, -0.0]"
      ]
     },
     "execution_count": 55,
     "metadata": {},
     "output_type": "execute_result"
    }
   ],
   "source": [
    "getEllipsecenter(ecc0,rad0,theta0, True)"
   ]
  },
  {
   "cell_type": "code",
   "execution_count": 56,
   "metadata": {},
   "outputs": [
    {
     "data": {
      "text/plain": [
       "-90.0"
      ]
     },
     "execution_count": 56,
     "metadata": {},
     "output_type": "execute_result"
    }
   ],
   "source": [
    "np.arctan2(-1.,0)/math.pi*180"
   ]
  },
  {
   "cell_type": "code",
   "execution_count": 57,
   "metadata": {},
   "outputs": [],
   "source": [
    "def getEang(npstar2x,ecc,rad,theta, useperihelion):\n",
    "    ellipsecenter=getEllipsecenter(ecc,rad,theta, useperihelion)\n",
    "    #print(ellipsecenter)\n",
    "    #print(npstar1x)\n",
    "    #print(npstar1x[:,0])\n",
    "    xfortan=npstar2x[:,0]-ellipsecenter[0]\n",
    "    yfortan=npstar2x[:,1]-ellipsecenter[1]\n",
    "    #print(\"xy\",xfortan,yfortan)\n",
    "    Eang=np.arctan2(yfortan,xfortan)\n",
    "    Eangtheta=2*np.arctan2(np.sqrt(1-ecc)*np.sin(theta/2.),np.sqrt(1+ecc)*np.cos(theta/2.))\n",
    "    Eang-=Eangtheta\n",
    "    #if useperihelion:\n",
    "    #    Eang-=math.pi\n",
    "    print(len(Eang))\n",
    "    for i in np.arange(len(Eang)):\n",
    "        #if xfortan[i]<0:\n",
    "        #    Eang[i]+=math.pi\n",
    "        if Eang[i]<0:\n",
    "            Eang[i]+=2*math.pi\n",
    "    print(xfortan,yfortan,Eang/math.pi*180)\n",
    "    print(\"Eang\",Eang)\n",
    "    return xfortan, yfortan,Eang"
   ]
  },
  {
   "cell_type": "code",
   "execution_count": 58,
   "metadata": {},
   "outputs": [
    {
     "data": {
      "text/plain": [
       "-3.1412939168636456"
      ]
     },
     "execution_count": 58,
     "metadata": {},
     "output_type": "execute_result"
    }
   ],
   "source": [
    "np.arctan2(-6.69327422*10**-6, -0.02240526)"
   ]
  },
  {
   "cell_type": "code",
   "execution_count": 59,
   "metadata": {},
   "outputs": [],
   "source": [
    "def xofeccanom(rad,Eang,ecc):\n",
    "    return rad*(np.cos(Eang)+ecc)"
   ]
  },
  {
   "cell_type": "code",
   "execution_count": 60,
   "metadata": {},
   "outputs": [],
   "source": [
    "def yofeccanom(rad, Eang, ecc):\n",
    "    b=getsemiminor(rad,ecc)\n",
    "    return b*np.sin(Eang) "
   ]
  },
  {
   "cell_type": "code",
   "execution_count": 98,
   "metadata": {},
   "outputs": [],
   "source": [
    "def tofEccAnom(npstar2x, rad,ecc,theta,mass, useperihelion):\n",
    "    xE0,yE0,Eang=getEang(npstar2x,ecc,rad,theta, useperihelion)\n",
    "    b=getsemiminor(rad,ecc)\n",
    "    #fitval=rad*b*(Eang-ecc*np.sin(Eang))\n",
    "    sgn=1\n",
    "    if useperihelion:\n",
    "        sgn*=-1\n",
    "    # added a factor of 2 in front of fitval\n",
    "    fitval=rad**(1.5)*mass**(-.5)*(Eang-sgn*ecc*np.sin(Eang))\n",
    "    fitval*=2\n",
    "    print(Eang, ecc,rad,mass,fitval)\n",
    "    return fitval"
   ]
  },
  {
   "cell_type": "code",
   "execution_count": 99,
   "metadata": {},
   "outputs": [],
   "source": [
    "def residualtEang(pars,nptimes,npstar2x):\n",
    "    residual= nptimes-tofEccAnom(npstar2x,pars['rad'],pars['ecc'],pars['theta'],pars['mass'],pars['useperihelion'])\n",
    "    #print(nptimes, residual)\n",
    "    return residual"
   ]
  },
  {
   "cell_type": "code",
   "execution_count": 100,
   "metadata": {},
   "outputs": [],
   "source": [
    "endindex=apindex\n",
    "if useperihelion:\n",
    "    endindex=perindex"
   ]
  },
  {
   "cell_type": "code",
   "execution_count": 101,
   "metadata": {},
   "outputs": [
    {
     "data": {
      "text/plain": [
       "44429"
      ]
     },
     "execution_count": 101,
     "metadata": {},
     "output_type": "execute_result"
    }
   ],
   "source": [
    "endindex"
   ]
  },
  {
   "cell_type": "code",
   "execution_count": 102,
   "metadata": {},
   "outputs": [
    {
     "name": "stdout",
     "output_type": "stream",
     "text": [
      "44428\n",
      "[50.         49.99995    49.9998     ... 49.99926686 49.99959975\n",
      " 49.99983267] [ 0.          0.03082197  0.06164332 ... -0.11802357 -0.08720494\n",
      " -0.05638457] [0.00000000e+00 3.53194037e-02 7.06382860e-02 ... 3.59864753e+02\n",
      " 3.59900070e+02 3.59935388e+02]\n",
      "Eang [0.00000000e+00 6.16439884e-04 1.23287067e-03 ... 6.28082481e+00\n",
      " 6.28144120e+00 6.28205761e+00]\n"
     ]
    }
   ],
   "source": [
    "xE0,yE0,Eang0=getEang(npstar2x[0:endindex-1,:],ecc0,rad0,theta0, useperihelion)"
   ]
  },
  {
   "cell_type": "code",
   "execution_count": 103,
   "metadata": {},
   "outputs": [],
   "source": [
    "nptimesoneorbit=nptimes[0:endindex-1]"
   ]
  },
  {
   "cell_type": "code",
   "execution_count": null,
   "metadata": {},
   "outputs": [],
   "source": []
  },
  {
   "cell_type": "code",
   "execution_count": 104,
   "metadata": {},
   "outputs": [
    {
     "data": {
      "text/plain": [
       "[<matplotlib.lines.Line2D at 0x7f9dc2940fd0>]"
      ]
     },
     "execution_count": 104,
     "metadata": {},
     "output_type": "execute_result"
    },
    {
     "data": {
      "image/png": "[encoded data removed]",
      "text/plain": [
       "<Figure size 432x288 with 1 Axes>"
      ]
     },
     "metadata": {
      "needs_background": "light"
     },
     "output_type": "display_data"
    }
   ],
   "source": [
    "plt.plot(nptimesoneorbit,xE0)"
   ]
  },
  {
   "cell_type": "code",
   "execution_count": 105,
   "metadata": {},
   "outputs": [
    {
     "data": {
      "text/plain": [
       "[<matplotlib.lines.Line2D at 0x7f9dc2a5f350>]"
      ]
     },
     "execution_count": 105,
     "metadata": {},
     "output_type": "execute_result"
    },
    {
     "data": {
      "image/png": "[encoded data removed]",
      "text/plain": [
       "<Figure size 432x288 with 1 Axes>"
      ]
     },
     "metadata": {
      "needs_background": "light"
     },
     "output_type": "display_data"
    }
   ],
   "source": [
    "plt.plot(nptimesoneorbit,yE0)"
   ]
  },
  {
   "cell_type": "code",
   "execution_count": 106,
   "metadata": {},
   "outputs": [
    {
     "data": {
      "text/plain": [
       "[<matplotlib.lines.Line2D at 0x7f9dc26f4b50>]"
      ]
     },
     "execution_count": 106,
     "metadata": {},
     "output_type": "execute_result"
    },
    {
     "data": {
      "image/png": "[encoded data removed]",
      "text/plain": [
       "<Figure size 432x288 with 1 Axes>"
      ]
     },
     "metadata": {
      "needs_background": "light"
     },
     "output_type": "display_data"
    }
   ],
   "source": [
    "plt.plot(nptimesoneorbit,yE0/xE0)"
   ]
  },
  {
   "cell_type": "code",
   "execution_count": 107,
   "metadata": {},
   "outputs": [
    {
     "data": {
      "text/plain": [
       "0.0"
      ]
     },
     "execution_count": 107,
     "metadata": {},
     "output_type": "execute_result"
    }
   ],
   "source": [
    "np.arctan(0./1.)"
   ]
  },
  {
   "cell_type": "code",
   "execution_count": 108,
   "metadata": {},
   "outputs": [
    {
     "data": {
      "text/plain": [
       "0.0"
      ]
     },
     "execution_count": 108,
     "metadata": {},
     "output_type": "execute_result"
    }
   ],
   "source": [
    "yE0[0]"
   ]
  },
  {
   "cell_type": "code",
   "execution_count": 109,
   "metadata": {},
   "outputs": [
    {
     "data": {
      "text/plain": [
       "50.0"
      ]
     },
     "execution_count": 109,
     "metadata": {},
     "output_type": "execute_result"
    }
   ],
   "source": [
    "xE0[0]"
   ]
  },
  {
   "cell_type": "code",
   "execution_count": 110,
   "metadata": {},
   "outputs": [
    {
     "data": {
      "text/plain": [
       "[<matplotlib.lines.Line2D at 0x7f9dc338c550>]"
      ]
     },
     "execution_count": 110,
     "metadata": {},
     "output_type": "execute_result"
    },
    {
     "data": {
      "image/png": "[encoded data removed]",
      "text/plain": [
       "<Figure size 432x288 with 1 Axes>"
      ]
     },
     "metadata": {
      "needs_background": "light"
     },
     "output_type": "display_data"
    }
   ],
   "source": [
    "plt.plot(nptimesoneorbit,np.arctan2(yE0,xE0)*180/math.pi)"
   ]
  },
  {
   "cell_type": "code",
   "execution_count": 111,
   "metadata": {},
   "outputs": [
    {
     "name": "stdout",
     "output_type": "stream",
     "text": [
      "44428\n",
      "[50.         49.99995    49.9998     ... 49.99926686 49.99959975\n",
      " 49.99983267] [ 0.          0.03082197  0.06164332 ... -0.11802357 -0.08720494\n",
      " -0.05638457] [0.00000000e+00 3.53194037e-02 7.06382860e-02 ... 3.59864753e+02\n",
      " 3.59900070e+02 3.59935388e+02]\n",
      "Eang [0.00000000e+00 6.16439884e-04 1.23287067e-03 ... 6.28082481e+00\n",
      " 6.28144120e+00 6.28205761e+00]\n",
      "[0.00000000e+00 6.16439884e-04 1.23287067e-03 ... 6.28082481e+00\n",
      " 6.28144120e+00 6.28205761e+00] 0.9 50 1.0 [0.00000000e+00 8.28188737e-01 1.65636510e+00 ... 4.43971160e+03\n",
      " 4.44053972e+03 4.44136788e+03]\n"
     ]
    }
   ],
   "source": [
    "Eangtest=tofEccAnom(npstar2x[0:endindex-1,:],rad0,ecc0,theta0,masses[0], useperihelion)"
   ]
  },
  {
   "cell_type": "code",
   "execution_count": 112,
   "metadata": {},
   "outputs": [
    {
     "data": {
      "text/plain": [
       "4441.367877340951"
      ]
     },
     "execution_count": 112,
     "metadata": {},
     "output_type": "execute_result"
    }
   ],
   "source": [
    "np.max(Eangtest)"
   ]
  },
  {
   "cell_type": "code",
   "execution_count": 113,
   "metadata": {},
   "outputs": [
    {
     "data": {
      "text/plain": [
       "0.0"
      ]
     },
     "execution_count": 113,
     "metadata": {},
     "output_type": "execute_result"
    }
   ],
   "source": [
    "nptimes[0]"
   ]
  },
  {
   "cell_type": "code",
   "execution_count": 114,
   "metadata": {},
   "outputs": [],
   "source": [
    "nptimesoneorbit=nptimes[0:endindex-1]"
   ]
  },
  {
   "cell_type": "code",
   "execution_count": 115,
   "metadata": {},
   "outputs": [],
   "source": [
    "tpredoneorbit=Eangtest[0:endindex-1]"
   ]
  },
  {
   "cell_type": "code",
   "execution_count": 116,
   "metadata": {},
   "outputs": [],
   "source": [
    "Eangoneorbit=Eang0[0:endindex-1]"
   ]
  },
  {
   "cell_type": "code",
   "execution_count": 117,
   "metadata": {},
   "outputs": [
    {
     "data": {
      "text/plain": [
       "[<matplotlib.lines.Line2D at 0x7f9dc3742a10>]"
      ]
     },
     "execution_count": 117,
     "metadata": {},
     "output_type": "execute_result"
    },
    {
     "data": {
      "image/png": "[encoded data removed]",
      "text/plain": [
       "<Figure size 432x288 with 1 Axes>"
      ]
     },
     "metadata": {
      "needs_background": "light"
     },
     "output_type": "display_data"
    }
   ],
   "source": [
    "plt.plot(nptimesoneorbit,npstar2x[0:endindex-1,1])"
   ]
  },
  {
   "cell_type": "code",
   "execution_count": 118,
   "metadata": {},
   "outputs": [
    {
     "data": {
      "text/plain": [
       "[<matplotlib.lines.Line2D at 0x7f9dc2baa490>]"
      ]
     },
     "execution_count": 118,
     "metadata": {},
     "output_type": "execute_result"
    },
    {
     "data": {
      "image/png": "[encoded data removed]",
      "text/plain": [
       "<Figure size 432x288 with 1 Axes>"
      ]
     },
     "metadata": {
      "needs_background": "light"
     },
     "output_type": "display_data"
    }
   ],
   "source": [
    "plt.plot(nptimesoneorbit,Eangoneorbit/math.pi*180)"
   ]
  },
  {
   "cell_type": "code",
   "execution_count": 119,
   "metadata": {},
   "outputs": [
    {
     "data": {
      "image/png": "[encoded data removed]",
      "text/plain": [
       "<Figure size 432x288 with 1 Axes>"
      ]
     },
     "metadata": {
      "needs_background": "light"
     },
     "output_type": "display_data"
    },
    {
     "data": {
      "image/png": "[encoded data removed]",
      "text/plain": [
       "<Figure size 432x288 with 1 Axes>"
      ]
     },
     "metadata": {
      "needs_background": "light"
     },
     "output_type": "display_data"
    }
   ],
   "source": [
    "plt.plot(nptimesoneorbit,tpredoneorbit, label='times')\n",
    "plt.xlabel(\"T timesteps\")\n",
    "plt.ylabel(\"T computed from angle\")\n",
    "plt.title(\"Times using start parameters\")\n",
    "plt.show()\n",
    "plt.plot(nptimesoneorbit,tpredoneorbit-nptimesoneorbit, label='residual')\n",
    "plt.legend()\n",
    "plt.show()\n"
   ]
  },
  {
   "cell_type": "markdown",
   "metadata": {},
   "source": [
    "# THERE IS A SECOND HARMONIC IN THIS TIMING DATA!!! I have heard of orbital resonances. Is that what I am seeing?"
   ]
  },
  {
   "cell_type": "code",
   "execution_count": 120,
   "metadata": {},
   "outputs": [],
   "source": [
    "from matplotlib import pyplot as plt"
   ]
  },
  {
   "cell_type": "markdown",
   "metadata": {},
   "source": [
    "Arctan function is giving tangent output. I'm done for today. I'm asking for help on this, either Steve or on a forum. Clearly something really weird is going on. This is a distinct problem from the retrograde motion I had before I fixed the center, which you can tell from the sharply spiked top as opposed to the curved top I had before. Now the center appears to be in the correct location but there is some problem related to tangent versus arctangent. "
   ]
  },
  {
   "cell_type": "code",
   "execution_count": 84,
   "metadata": {},
   "outputs": [
    {
     "data": {
      "text/plain": [
       "<matplotlib.collections.PathCollection at 0x7f9dbd257bd0>"
      ]
     },
     "execution_count": 84,
     "metadata": {},
     "output_type": "execute_result"
    },
    {
     "data": {
      "image/png": "[encoded data removed]",
      "text/plain": [
       "<Figure size 432x288 with 1 Axes>"
      ]
     },
     "metadata": {
      "needs_background": "light"
     },
     "output_type": "display_data"
    }
   ],
   "source": [
    "plt.scatter(nptimesoneorbit,tpredoneorbit)"
   ]
  },
  {
   "cell_type": "markdown",
   "metadata": {},
   "source": [
    "Retrograde motion as seen from the center of mass. I'm not sure that makes sense. So there's a problem with the definition of the Eang. The problem might be with the ellipse center, which probably shouldn't be at x=-70, if it spans between +5 and -95. "
   ]
  },
  {
   "cell_type": "code",
   "execution_count": 85,
   "metadata": {},
   "outputs": [
    {
     "name": "stdout",
     "output_type": "stream",
     "text": [
      "44428\n",
      "[50.         49.99995    49.9998     ... 49.99926686 49.99959975\n",
      " 49.99983267] [ 0.          0.03082197  0.06164332 ... -0.11802357 -0.08720494\n",
      " -0.05638457] [0.00000000e+00 3.53194037e-02 7.06382860e-02 ... 3.59864753e+02\n",
      " 3.59900070e+02 3.59935388e+02]\n",
      "Eang [0.00000000e+00 6.16439884e-04 1.23287067e-03 ... 6.28082481e+00\n",
      " 6.28144120e+00 6.28205761e+00]\n",
      "[0.00000000e+00 6.16439884e-04 1.23287067e-03 ... 6.28082481e+00\n",
      " 6.28144120e+00 6.28205761e+00] <Parameter 'ecc', value=0.9, bounds=[0:1.0]> <Parameter 'rad', value=50.0, bounds=[0:inf]> <Parameter 'mass', value=1.0 (fixed), bounds=[-inf:inf]> [0.00000000e+00 4.35889071e-02 8.71773198e-02 ... 4.44271602e+03\n",
      " 4.44275961e+03 4.44280320e+03]\n",
      "44428\n",
      "[50.         49.99995    49.9998     ... 49.99926686 49.99959975\n",
      " 49.99983267] [ 0.          0.03082197  0.06164332 ... -0.11802357 -0.08720494\n",
      " -0.05638457] [0.00000000e+00 3.53194037e-02 7.06382860e-02 ... 3.59864753e+02\n",
      " 3.59900070e+02 3.59935388e+02]\n",
      "Eang [0.00000000e+00 6.16439884e-04 1.23287067e-03 ... 6.28082481e+00\n",
      " 6.28144120e+00 6.28205761e+00]\n",
      "[0.00000000e+00 6.16439884e-04 1.23287067e-03 ... 6.28082481e+00\n",
      " 6.28144120e+00 6.28205761e+00] <Parameter 'ecc', value=0.9, bounds=[0:1.0]> <Parameter 'rad', value=50.0, bounds=[0:inf]> <Parameter 'mass', value=1.0 (fixed), bounds=[-inf:inf]> [0.00000000e+00 4.35889071e-02 8.71773198e-02 ... 4.44271602e+03\n",
      " 4.44275961e+03 4.44280320e+03]\n",
      "44428\n",
      "[50.         49.99995    49.9998     ... 49.99926686 49.99959975\n",
      " 49.99983267] [ 0.          0.03082197  0.06164332 ... -0.11802357 -0.08720494\n",
      " -0.05638457] [0.00000000e+00 3.53194037e-02 7.06382860e-02 ... 3.59864753e+02\n",
      " 3.59900070e+02 3.59935388e+02]\n",
      "Eang [0.00000000e+00 6.16439884e-04 1.23287067e-03 ... 6.28082481e+00\n",
      " 6.28144120e+00 6.28205761e+00]\n",
      "[0.00000000e+00 6.16439884e-04 1.23287067e-03 ... 6.28082481e+00\n",
      " 6.28144120e+00 6.28205761e+00] <Parameter 'ecc', value=0.9, bounds=[0:1.0]> <Parameter 'rad', value=50.0, bounds=[0:inf]> <Parameter 'mass', value=1.0 (fixed), bounds=[-inf:inf]> [0.00000000e+00 4.35889071e-02 8.71773198e-02 ... 4.44271602e+03\n",
      " 4.44275961e+03 4.44280320e+03]\n",
      "44428\n",
      "[50.         49.99995    49.9998     ... 49.99926686 49.99959975\n",
      " 49.99983267] [ 2.10660203e-06  3.08240739e-02  6.16454247e-02 ... -1.18021460e-01\n",
      " -8.72028315e-02 -5.63824594e-02] [1.79864716e-06 3.53212023e-02 7.06400847e-02 ... 3.59864755e+02\n",
      " 3.59900072e+02 3.59935390e+02]\n",
      "Eang [3.13923151e-08 6.16471276e-04 1.23290206e-03 ... 6.28082484e+00\n",
      " 6.28144123e+00 6.28205764e+00]\n",
      "[3.13923151e-08 6.16471276e-04 1.23290206e-03 ... 6.28082484e+00\n",
      " 6.28144123e+00 6.28205764e+00] <Parameter 'ecc', value=0.9, bounds=[0:1.0]> <Parameter 'rad', value=50.0, bounds=[0:inf]> <Parameter 'mass', value=1.0 (fixed), bounds=[-inf:inf]> [2.21977189e-06 4.35911268e-02 8.71795396e-02 ... 4.44271603e+03\n",
      " 4.44275961e+03 4.44280320e+03]\n",
      "44428\n",
      "[50.00000068 49.99995068 49.99980069 ... 49.99926754 49.99960043\n",
      " 49.99983336] [ 0.          0.03082197  0.06164332 ... -0.11802357 -0.08720494\n",
      " -0.05638457] [0.00000000e+00 3.53194032e-02 7.06382851e-02 ... 3.59864753e+02\n",
      " 3.59900070e+02 3.59935388e+02]\n",
      "Eang [0.00000000e+00 6.16439875e-04 1.23287065e-03 ... 6.28082481e+00\n",
      " 6.28144120e+00 6.28205761e+00]\n",
      "[0.00000000e+00 6.16439875e-04 1.23287065e-03 ... 6.28082481e+00\n",
      " 6.28144120e+00 6.28205761e+00] <Parameter 'ecc', value=0.9, bounds=[0:1.0]> <Parameter 'rad', value=50.000000759667046, bounds=[0:inf]> <Parameter 'mass', value=1.0 (fixed), bounds=[-inf:inf]> [0.00000000e+00 4.35889075e-02 8.71773206e-02 ... 4.44271613e+03\n",
      " 4.44275971e+03 4.44280330e+03]\n",
      "44428\n",
      "[50.00000021 49.99995021 49.99980021 ... 49.99926707 49.99959996\n",
      " 49.99983288] [ 0.          0.03082197  0.06164332 ... -0.11802357 -0.08720494\n",
      " -0.05638457] [0.00000000e+00 3.53194035e-02 7.06382858e-02 ... 3.59864753e+02\n",
      " 3.59900070e+02 3.59935388e+02]\n",
      "Eang [0.00000000e+00 6.16439881e-04 1.23287066e-03 ... 6.28082481e+00\n",
      " 6.28144120e+00 6.28205761e+00]\n",
      "[0.00000000e+00 6.16439881e-04 1.23287066e-03 ... 6.28082481e+00\n",
      " 6.28144120e+00 6.28205761e+00] <Parameter 'ecc', value=0.9000000041453327, bounds=[0:1.0]> <Parameter 'rad', value=50.0, bounds=[0:inf]> <Parameter 'mass', value=1.0 (fixed), bounds=[-inf:inf]> [0.00000000e+00 4.35889051e-02 8.71773159e-02 ... 4.44271602e+03\n",
      " 4.44275961e+03 4.44280320e+03]\n",
      "44428\n",
      "[53.86002513 53.85997513 53.85982514 ... 53.85929199 53.85962488\n",
      " 53.85985781] [-2.17800343 -2.14718146 -2.11636011 ... -2.296027   -2.26520837\n",
      " -2.234388  ] [357.72439089 357.75712411 357.78985406 ... 357.59902163 357.63176282\n",
      " 357.66450263]\n",
      "Eang [6.24346844 6.24403974 6.24461098 ... 6.24128033 6.24185177 6.24242319]\n",
      "[6.24346844 6.24403974 6.24461098 ... 6.24128033 6.24185177 6.24242319] <Parameter 'ecc', value=0.9995073895726239, bounds=[0:1.0]> <Parameter 'rad', value=48.93264953915154, bounds=[0:inf]> <Parameter 'mass', value=1.0 (fixed), bounds=[-inf:inf]> [4301.36095307 4301.3614496  4301.36193734 ... 4301.35896822 4301.35949953\n",
      " 4301.36002158]\n",
      "44428\n",
      "[53.81935716 53.81930716 53.81915717 ... 53.81862402 53.81895691\n",
      " 53.81918983] [0.15538097 0.18620294 0.21702429 ... 0.0373574  0.06817603 0.09899641] [0.14458608 0.17739882 0.21021127 ... 0.01893986 0.05174916 0.08456006]\n",
      "Eang [0.0025235  0.00309619 0.00366888 ... 0.00033056 0.00090319 0.00147585]\n",
      "[0.0025235  0.00309619 0.00366888 ... 0.00033056 0.00090319 0.00147585] <Parameter 'ecc', value=0.974238463780449, bounds=[0:1.0]> <Parameter 'rad', value=50.11052862929069, bounds=[0:inf]> <Parameter 'mass', value=1.0 (fixed), bounds=[-inf:inf]> [0.04612289 0.05659129 0.06706029 ... 0.00604157 0.01650738 0.02697391]\n",
      "44428\n",
      "[53.81935716 53.81930716 53.81915717 ... 53.81862402 53.81895691\n",
      " 53.81918983] [0.15538097 0.18620294 0.21702429 ... 0.03735741 0.06817604 0.09899641] [0.14458608 0.17739882 0.21021127 ... 0.01893986 0.05174916 0.08456006]\n",
      "Eang [0.0025235  0.00309619 0.00366888 ... 0.00033056 0.00090319 0.00147585]\n",
      "[0.0025235  0.00309619 0.00366888 ... 0.00033056 0.00090319 0.00147585] <Parameter 'ecc', value=0.974238463780449, bounds=[0:1.0]> <Parameter 'rad', value=50.11052862929069, bounds=[0:inf]> <Parameter 'mass', value=1.0 (fixed), bounds=[-inf:inf]> [0.04612289 0.05659129 0.06706029 ... 0.00604157 0.01650738 0.02697391]\n",
      "44428\n",
      "[53.8193579  53.8193079  53.81915791 ... 53.81862476 53.81895765\n",
      " 53.81919057] [0.15538097 0.18620294 0.21702429 ... 0.03735741 0.06817604 0.09899641] [0.14458608 0.17739882 0.21021127 ... 0.01893986 0.05174916 0.08456006]\n",
      "Eang [0.0025235  0.00309619 0.00366888 ... 0.00033056 0.00090319 0.00147585]\n",
      "[0.0025235  0.00309619 0.00366888 ... 0.00033056 0.00090319 0.00147585] <Parameter 'ecc', value=0.974238463780449, bounds=[0:1.0]> <Parameter 'rad', value=50.11052939060537, bounds=[0:inf]> <Parameter 'mass', value=1.0 (fixed), bounds=[-inf:inf]> [0.04612289 0.05659129 0.06706029 ... 0.00604157 0.01650738 0.02697391]\n",
      "44428\n",
      "[53.81935731 53.81930731 53.81915731 ... 53.81862417 53.81895706\n",
      " 53.81918998] [0.15538097 0.18620294 0.21702429 ... 0.03735741 0.06817603 0.09899641] [0.14458608 0.17739882 0.21021127 ... 0.01893986 0.05174916 0.08456006]\n",
      "Eang [0.0025235  0.00309619 0.00366888 ... 0.00033056 0.00090319 0.00147585]\n",
      "[0.0025235  0.00309619 0.00366888 ... 0.00033056 0.00090319 0.00147585] <Parameter 'ecc', value=0.9742384667275175, bounds=[0:1.0]> <Parameter 'rad', value=50.11052862929069, bounds=[0:inf]> <Parameter 'mass', value=1.0 (fixed), bounds=[-inf:inf]> [0.04612288 0.05659128 0.06706028 ... 0.00604157 0.01650738 0.0269739 ]\n",
      "44428\n",
      "[53.24280122 53.24275122 53.24260123 ... 53.24206808 53.24240097\n",
      " 53.2426339 ] [-1.25572195 -1.22489998 -1.19407863 ... -1.37374551 -1.34292689\n",
      " -1.31210651] [358.80383098 358.83697996 358.87012682 ... 358.67688026 358.71003279\n",
      " 358.74318511]\n",
      "Eang [6.26230822 6.26288678 6.2634653  ... 6.26009251 6.26067113 6.26124975]\n",
      "[6.26230822 6.26288678 6.2634653  ... 6.26009251 6.26067113 6.26124975] <Parameter 'ecc', value=0.9786497507361439, bounds=[0:1.0]> <Parameter 'rad', value=49.31196390114264, bounds=[0:inf]> <Parameter 'mass', value=1.0 (fixed), bounds=[-inf:inf]> [4351.18351095 4351.19214884 4351.20078157 ... 4351.15038547 4351.15904313\n",
      " 4351.16769563]\n",
      "44428\n",
      "[54.93264841 54.93259841 54.93244842 ... 54.93191527 54.93224816\n",
      " 54.93248109] [0.28953786 0.32035982 0.35118117 ... 0.17151429 0.20233292 0.23315329] [0.28471173 0.31685893 0.349006   ... 0.16161555 0.19375873 0.22590365]\n",
      "Eang [0.00496916 0.00553023 0.0060913  ... 0.00282072 0.00338173 0.00394276]\n",
      "[0.00496916 0.00553023 0.0060913  ... 0.00282072 0.00338173 0.00394276] <Parameter 'ecc', value=0.9946047919014958, bounds=[0:1.0]> <Parameter 'rad', value=50.204350778510566, bounds=[0:inf]> <Parameter 'mass', value=1.0 (fixed), bounds=[-inf:inf]> [0.01908808 0.02124719 0.02340752 ... 0.01082971 0.01298498 0.01514113]\n",
      "44428\n",
      "[54.93264841 54.93259841 54.93244842 ... 54.93191527 54.93224816\n",
      " 54.93248109] [0.28953786 0.32035983 0.35118118 ... 0.17151429 0.20233292 0.23315329] [0.28471173 0.31685893 0.34900601 ... 0.16161555 0.19375873 0.22590365]\n",
      "Eang [0.00496916 0.00553023 0.0060913  ... 0.00282072 0.00338173 0.00394276]\n",
      "[0.00496916 0.00553023 0.0060913  ... 0.00282072 0.00338173 0.00394276] <Parameter 'ecc', value=0.9946047919014958, bounds=[0:1.0]> <Parameter 'rad', value=50.204350778510566, bounds=[0:inf]> <Parameter 'mass', value=1.0 (fixed), bounds=[-inf:inf]> [0.01908808 0.02124719 0.02340752 ... 0.01082971 0.01298499 0.01514113]\n",
      "44428\n"
     ]
    },
    {
     "name": "stdout",
     "output_type": "stream",
     "text": [
      "[54.93264917 54.93259917 54.93244918 ... 54.93191603 54.93224892\n",
      " 54.93248184] [0.28953786 0.32035983 0.35118118 ... 0.17151429 0.20233292 0.23315329] [0.28471173 0.31685893 0.349006   ... 0.16161555 0.19375873 0.22590365]\n",
      "Eang [0.00496916 0.00553023 0.0060913  ... 0.00282072 0.00338173 0.00394276]\n",
      "[0.00496916 0.00553023 0.0060913  ... 0.00282072 0.00338173 0.00394276] <Parameter 'ecc', value=0.9946047919014958, bounds=[0:1.0]> <Parameter 'rad', value=50.204351541223836, bounds=[0:inf]> <Parameter 'mass', value=1.0 (fixed), bounds=[-inf:inf]> [0.01908808 0.02124719 0.02340752 ... 0.01082971 0.01298499 0.01514113]\n",
      "44428\n",
      "[54.93264849 54.93259849 54.9324485  ... 54.93191535 54.93224824\n",
      " 54.93248116] [0.28953786 0.32035982 0.35118118 ... 0.17151429 0.20233292 0.23315329] [0.28471173 0.31685893 0.34900601 ... 0.16161555 0.19375873 0.22590365]\n",
      "Eang [0.00496916 0.00553023 0.0060913  ... 0.00282072 0.00338173 0.00394276]\n",
      "[0.00496916 0.00553023 0.0060913  ... 0.00282072 0.00338173 0.00394276] <Parameter 'ecc', value=0.9946047934556215, bounds=[0:1.0]> <Parameter 'rad', value=50.204350778510566, bounds=[0:inf]> <Parameter 'mass', value=1.0 (fixed), bounds=[-inf:inf]> [0.01908808 0.02124718 0.02340751 ... 0.01082971 0.01298498 0.01514112]\n",
      "44428\n",
      "[55.23697886 55.23692886 55.23677886 ... 55.23624572 55.23657861\n",
      " 55.23681153] [0.39782994 0.4286519  0.45947325 ... 0.27980637 0.310625   0.34144537] [0.40780915 0.43977853 0.47174792 ... 0.2853951  0.31735997 0.34932671]\n",
      "Eang [0.00711761 0.00767558 0.00823355 ... 0.00498108 0.00553898 0.0060969 ]\n",
      "[0.00711761 0.00767558 0.00823355 ... 0.00498108 0.00553898 0.0060969 ] <Parameter 'ecc', value=0.9997722893403109, bounds=[0:1.0]> <Parameter 'rad', value=50.249996515645975, bounds=[0:inf]> <Parameter 'mass', value=1.0 (fixed), bounds=[-inf:inf]> [0.00119746 0.00129885 0.00140195 ... 0.00082273 0.00091873 0.00101597]\n",
      "44428\n",
      "[55.22801154 55.22796154 55.22781154 ... 55.2272784  55.22761129\n",
      " 55.22784421] [0.40933643 0.4401584  0.47097975 ... 0.29131287 0.3221315  0.35295187] [0.41393502 0.4459095  0.477884   ... 0.29150157 0.32347149 0.35544328]\n",
      "Eang [0.00722453 0.00778259 0.00834065 ... 0.00508766 0.00564564 0.00620366]\n",
      "[0.00722453 0.00778259 0.00834065 ... 0.00508766 0.00564564 0.00620366] <Parameter 'ecc', value=0.9989464757929041, bounds=[0:1.0]> <Parameter 'rad', value=50.28265345770028, bounds=[0:inf]> <Parameter 'mass', value=1.0 (fixed), bounds=[-inf:inf]> [0.00547241 0.00590287 0.00633505 ... 0.00383789 0.00426282 0.00468903]\n",
      "44428\n",
      "[55.07051668 55.07046668 55.07031668 ... 55.06978354 55.07011643\n",
      " 55.07034935] [0.33253034 0.36335231 0.39417366 ... 0.21450677 0.2453254  0.27614577] [0.32976218 0.36182865 0.39389504 ... 0.20697562 0.23903788 0.27110192]\n",
      "Eang [0.00575544 0.0063151  0.00687477 ... 0.00361241 0.004172   0.00473162]\n",
      "[0.00575544 0.0063151  0.00687477 ... 0.00361241 0.004172   0.00473162] <Parameter 'ecc', value=0.9963811054756972, bounds=[0:1.0]> <Parameter 'rad', value=50.253482928440604, bounds=[0:inf]> <Parameter 'mass', value=1.0 (fixed), bounds=[-inf:inf]> [0.01486254 0.01631284 0.01776454 ... 0.00931991 0.01076579 0.01221268]\n",
      "44428\n",
      "[55.07051668 55.07046668 55.07031668 ... 55.06978354 55.07011643\n",
      " 55.07034935] [0.33253034 0.36335231 0.39417366 ... 0.21450678 0.24532541 0.27614578] [0.32976218 0.36182865 0.39389505 ... 0.20697563 0.23903788 0.27110193]\n",
      "Eang [0.00575544 0.0063151  0.00687477 ... 0.00361241 0.004172   0.00473162]\n",
      "[0.00575544 0.0063151  0.00687477 ... 0.00361241 0.004172   0.00473162] <Parameter 'ecc', value=0.9963811054756972, bounds=[0:1.0]> <Parameter 'rad', value=50.253482928440604, bounds=[0:inf]> <Parameter 'mass', value=1.0 (fixed), bounds=[-inf:inf]> [0.01486254 0.01631284 0.01776454 ... 0.00931991 0.01076579 0.01221268]\n",
      "44428\n",
      "[55.07051744 55.07046744 55.07031745 ... 55.0697843  55.07011719\n",
      " 55.07035011] [0.33253035 0.36335231 0.39417366 ... 0.21450678 0.24532541 0.27614578] [0.32976218 0.36182865 0.39389504 ... 0.20697562 0.23903788 0.27110192]\n",
      "Eang [0.00575544 0.0063151  0.00687477 ... 0.00361241 0.004172   0.00473162]\n",
      "[0.00575544 0.0063151  0.00687477 ... 0.00361241 0.004172   0.00473162] <Parameter 'ecc', value=0.9963811054756972, bounds=[0:1.0]> <Parameter 'rad', value=50.25348369188628, bounds=[0:inf]> <Parameter 'mass', value=1.0 (fixed), bounds=[-inf:inf]> [0.01486254 0.01631284 0.01776454 ... 0.00931991 0.01076579 0.01221268]\n",
      "44428\n",
      "[55.07051674 55.07046674 55.07031675 ... 55.0697836  55.0701165\n",
      " 55.07034942] [0.33253034 0.36335231 0.39417366 ... 0.21450677 0.2453254  0.27614577] [0.32976218 0.36182865 0.39389504 ... 0.20697562 0.23903788 0.27110193]\n",
      "Eang [0.00575544 0.0063151  0.00687477 ... 0.00361241 0.004172   0.00473162]\n",
      "[0.00575544 0.0063151  0.00687477 ... 0.00361241 0.004172   0.00473162] <Parameter 'ecc', value=0.9963811067735079, bounds=[0:1.0]> <Parameter 'rad', value=50.253482928440604, bounds=[0:inf]> <Parameter 'mass', value=1.0 (fixed), bounds=[-inf:inf]> [0.01486253 0.01631283 0.01776453 ... 0.00931991 0.01076579 0.01221268]\n",
      "44428\n",
      "[55.12870447 55.12865447 55.12850447 ... 55.12797133 55.12830422\n",
      " 55.12853714] [0.35907749 0.38989945 0.42072081 ... 0.24105392 0.27187255 0.30269292] [0.35751486 0.38954731 0.42157972 ... 0.23485887 0.26688699 0.29891692]\n",
      "Eang [0.00623981 0.00679888 0.00735795 ... 0.00409906 0.00465806 0.00521708]\n",
      "[0.00623981 0.00679888 0.00735795 ... 0.00409906 0.00465806 0.00521708] <Parameter 'ecc', value=0.9970877141745428, bounds=[0:1.0]> <Parameter 'rad', value=50.276409780457215, bounds=[0:inf]> <Parameter 'mass', value=1.0 (fixed), bounds=[-inf:inf]> [0.01298511 0.01415442 0.01532523 ... 0.00851944 0.00968395 0.01084956]\n",
      "44428\n",
      "[55.08475635 55.08470635 55.08455635 ... 55.08402321 55.0843561\n",
      " 55.08458902] [0.33753656 0.36835853 0.39917988 ... 0.219513   0.25033163 0.281152  ] [0.33501577 0.36707392 0.399132   ... 0.21226113 0.24431505 0.27637075]\n",
      "Eang [0.00584713 0.00640665 0.00696617 ... 0.00370466 0.0042641  0.00482358]\n",
      "[0.00584713 0.00640665 0.00696617 ... 0.00370466 0.0042641  0.00482358] <Parameter 'ecc', value=0.9965441520462295, bounds=[0:1.0]> <Parameter 'rad', value=50.25958319470734, bounds=[0:inf]> <Parameter 'mass', value=1.0 (fixed), bounds=[-inf:inf]> [0.01442343 0.01580883 0.01719565 ... 0.0091295  0.01051042 0.01189235]\n",
      "44428\n",
      "[55.08475635 55.08470635 55.08455635 ... 55.08402321 55.0843561\n",
      " 55.08458902] [0.33753657 0.36835854 0.39917989 ... 0.219513   0.25033163 0.281152  ] [0.33501578 0.36707392 0.399132   ... 0.21226114 0.24431505 0.27637076]\n",
      "Eang [0.00584713 0.00640665 0.00696617 ... 0.00370466 0.0042641  0.00482358]\n",
      "[0.00584713 0.00640665 0.00696617 ... 0.00370466 0.0042641  0.00482358] <Parameter 'ecc', value=0.9965441520462295, bounds=[0:1.0]> <Parameter 'rad', value=50.25958319470734, bounds=[0:inf]> <Parameter 'mass', value=1.0 (fixed), bounds=[-inf:inf]> [0.01442343 0.01580883 0.01719565 ... 0.0091295  0.01051042 0.01189235]\n",
      "44428\n",
      "[55.08475711 55.08470711 55.08455711 ... 55.08402397 55.08435686\n",
      " 55.08458978] [0.33753657 0.36835854 0.39917989 ... 0.219513   0.25033163 0.281152  ] [0.33501577 0.36707392 0.399132   ... 0.21226113 0.24431505 0.27637075]\n",
      "Eang [0.00584713 0.00640665 0.00696617 ... 0.00370466 0.0042641  0.00482358]\n",
      "[0.00584713 0.00640665 0.00696617 ... 0.00370466 0.0042641  0.00482358] <Parameter 'ecc', value=0.9965441520462295, bounds=[0:1.0]> <Parameter 'rad', value=50.25958395824395, bounds=[0:inf]> <Parameter 'mass', value=1.0 (fixed), bounds=[-inf:inf]> [0.01442343 0.01580883 0.01719565 ... 0.0091295  0.01051042 0.01189235]\n",
      "44428\n",
      "[55.08475641 55.08470641 55.08455642 ... 55.08402327 55.08435616\n",
      " 55.08458908] [0.33753656 0.36835853 0.39917988 ... 0.219513   0.25033163 0.281152  ] [0.33501577 0.36707392 0.399132   ... 0.21226114 0.24431505 0.27637076]\n",
      "Eang [0.00584713 0.00640665 0.00696617 ... 0.00370466 0.0042641  0.00482358]\n",
      "[0.00584713 0.00640665 0.00696617 ... 0.00370466 0.0042641  0.00482358] <Parameter 'ecc', value=0.9965441533169727, bounds=[0:1.0]> <Parameter 'rad', value=50.25958319470734, bounds=[0:inf]> <Parameter 'mass', value=1.0 (fixed), bounds=[-inf:inf]> [0.01442343 0.01580882 0.01719564 ... 0.0091295  0.01051041 0.01189235]\n",
      "44428\n",
      "[55.111166   55.111116   55.11096601 ... 55.11043286 55.11076575\n",
      " 55.11099867] [0.34885357 0.37967554 0.41049689 ... 0.23083    0.26164863 0.292469  ] [0.34684433 0.37888704 0.4109297  ... 0.22414893 0.25618736 0.28822759]\n",
      "Eang [0.00605358 0.00661283 0.00717208 ... 0.00391214 0.00447131 0.00503052]\n",
      "[0.00605358 0.00661283 0.00717208 ... 0.00391214 0.00447131 0.00503052] <Parameter 'ecc', value=0.996853555046851, bounds=[0:1.0]> <Parameter 'rad', value=50.27055380481444, bounds=[0:inf]> <Parameter 'mass', value=1.0 (fixed), bounds=[-inf:inf]> [0.01360417 0.01486652 0.01613034 ... 0.00878184 0.01003954 0.01129831]\n",
      "44428\n",
      "[55.111166   55.111116   55.11096601 ... 55.11043286 55.11076575\n",
      " 55.11099867] [0.34885358 0.37967554 0.41049689 ... 0.23083001 0.26164864 0.29246901] [0.34684434 0.37888705 0.41092971 ... 0.22414894 0.25618736 0.28822759]\n",
      "Eang [0.00605358 0.00661283 0.00717208 ... 0.00391214 0.00447131 0.00503052]\n",
      "[0.00605358 0.00661283 0.00717208 ... 0.00391214 0.00447131 0.00503052] <Parameter 'ecc', value=0.996853555046851, bounds=[0:1.0]> <Parameter 'rad', value=50.27055380481444, bounds=[0:inf]> <Parameter 'mass', value=1.0 (fixed), bounds=[-inf:inf]> [0.01360417 0.01486652 0.01613034 ... 0.00878184 0.01003954 0.01129831]\n",
      "44428\n",
      "[55.11116676 55.11111676 55.11096677 ... 55.11043362 55.11076651\n",
      " 55.11099943] [0.34885358 0.37967554 0.41049689 ... 0.23083001 0.26164864 0.29246901] [0.34684433 0.37888704 0.4109297  ... 0.22414893 0.25618736 0.28822759]\n",
      "Eang [0.00605358 0.00661283 0.00717208 ... 0.00391214 0.00447131 0.00503052]\n",
      "[0.00605358 0.00661283 0.00717208 ... 0.00391214 0.00447131 0.00503052] <Parameter 'ecc', value=0.996853555046851, bounds=[0:1.0]> <Parameter 'rad', value=50.27055456851459, bounds=[0:inf]> <Parameter 'mass', value=1.0 (fixed), bounds=[-inf:inf]> [0.01360417 0.01486652 0.01613034 ... 0.00878184 0.01003954 0.01129831]\n",
      "44428\n",
      "[55.11116606 55.11111606 55.11096607 ... 55.11043292 55.11076581\n",
      " 55.11099873] [0.34885357 0.37967554 0.41049689 ... 0.23083    0.26164863 0.292469  ] [0.34684434 0.37888705 0.4109297  ... 0.22414893 0.25618736 0.28822759]\n",
      "Eang [0.00605358 0.00661283 0.00717208 ... 0.00391214 0.00447131 0.00503052]\n",
      "[0.00605358 0.00661283 0.00717208 ... 0.00391214 0.00447131 0.00503052] <Parameter 'ecc', value=0.9968535562640666, bounds=[0:1.0]> <Parameter 'rad', value=50.27055380481444, bounds=[0:inf]> <Parameter 'mass', value=1.0 (fixed), bounds=[-inf:inf]> [0.01360417 0.01486652 0.01613033 ... 0.00878184 0.01003954 0.01129831]\n",
      "44428\n"
     ]
    },
    {
     "name": "stdout",
     "output_type": "stream",
     "text": [
      "[55.15707512 55.15702512 55.15687512 ... 55.15634198 55.15667487\n",
      " 55.15690779] [0.37424301 0.40506497 0.43588632 ... 0.25621944 0.28703807 0.31785844] [0.37335943 0.40537529 0.43739114 ... 0.25076711 0.28277857 0.31479187]\n",
      "Eang [0.00651635 0.00707513 0.00763392 ... 0.00437671 0.00493542 0.00549415]\n",
      "[0.00651635 0.00707513 0.00763392 ... 0.00437671 0.00493542 0.00549415] <Parameter 'ecc', value=0.9974117783568802, bounds=[0:1.0]> <Parameter 'rad', value=50.28862940935688, bounds=[0:inf]> <Parameter 'mass', value=1.0 (fixed), bounds=[-inf:inf]> [0.01206212 0.01310282 0.0141451  ... 0.00808943 0.00912513 0.01016198]\n",
      "44428\n",
      "[55.11972768 55.11967768 55.11952768 ... 55.11899454 55.11932743\n",
      " 55.11956035] [0.3527558  0.38357777 0.41439912 ... 0.23473223 0.26555086 0.29637124] [0.3509224  0.38296011 0.41499777 ... 0.2282462  0.26027961 0.29231482]\n",
      "Eang [0.00612475 0.00668391 0.00724308 ... 0.00398365 0.00454274 0.00510186]\n",
      "[0.00612475 0.00668391 0.00724308 ... 0.00398365 0.00454274 0.00510186] <Parameter 'ecc', value=0.9969519426450293, bounds=[0:1.0]> <Parameter 'rad', value=50.274207723290644, bounds=[0:inf]> <Parameter 'mass', value=1.0 (fixed), bounds=[-inf:inf]> [0.01333665 0.0145599  0.01578463 ... 0.00866418 0.00988273 0.01110235]\n",
      "44428\n",
      "[55.11204257 55.11199257 55.11184258 ... 55.11130943 55.11164232\n",
      " 55.11187524] [0.34923079 0.38005276 0.41087411 ... 0.23120723 0.26202585 0.29284623] [0.34723898 0.37928118 0.41132333 ... 0.22454555 0.25658346 0.28862318]\n",
      "Eang [0.00606046 0.00661971 0.00717895 ... 0.00391906 0.00447823 0.00503742]\n",
      "[0.00606046 0.00661971 0.00717895 ... 0.00391906 0.00447823 0.00503742] <Parameter 'ecc', value=0.9968635004155328, bounds=[0:1.0]> <Parameter 'rad', value=50.27093421423792, bounds=[0:inf]> <Parameter 'mass', value=1.0 (fixed), bounds=[-inf:inf]> [0.0135769  0.0148353  0.01609516 ... 0.00876972 0.01002346 0.01127827]\n",
      "44428\n",
      "[55.11125387 55.11120387 55.11105388 ... 55.11052073 55.11085362\n",
      " 55.11108654] [0.34889114 0.37971311 0.41053446 ... 0.23086758 0.26168621 0.29250658] [0.34688365 0.37892631 0.41096891 ... 0.22418844 0.25622682 0.288267  ]\n",
      "Eang [0.00605426 0.00661351 0.00717276 ... 0.00391283 0.004472   0.00503121]\n",
      "[0.00605426 0.00661351 0.00717276 ... 0.00391283 0.004472   0.00503121] <Parameter 'ecc', value=0.9968545506658866, bounds=[0:1.0]> <Parameter 'rad', value=50.27059200383746, bounds=[0:inf]> <Parameter 'mass', value=1.0 (fixed), bounds=[-inf:inf]> [0.01360144 0.01486339 0.01612682 ... 0.00878062 0.01003793 0.0112963 ]\n",
      "44428\n",
      "[55.11117479 55.11112479 55.11097479 ... 55.11044165 55.11077454\n",
      " 55.11100746] [0.34885733 0.37967929 0.41050064 ... 0.23083376 0.26165239 0.29247276] [0.34684826 0.37889097 0.41093362 ... 0.22415288 0.2561913  0.28823153]\n",
      "Eang [0.00605364 0.00661289 0.00717214 ... 0.00391221 0.00447138 0.00503059]\n",
      "[0.00605364 0.00661289 0.00717214 ... 0.00391221 0.00447138 0.00503059] <Parameter 'ecc', value=0.9968536546195931, bounds=[0:1.0]> <Parameter 'rad', value=50.27055762630598, bounds=[0:inf]> <Parameter 'mass', value=1.0 (fixed), bounds=[-inf:inf]> [0.0136039  0.01486621 0.01612999 ... 0.00878172 0.01003938 0.01129811]\n",
      "44428\n",
      "[55.11117479 55.11112479 55.11097479 ... 55.11044165 55.11077454\n",
      " 55.11100746] [0.34885733 0.3796793  0.41050065 ... 0.23083376 0.26165239 0.29247277] [0.34684827 0.37889097 0.41093363 ... 0.22415289 0.25619131 0.28823153]\n",
      "Eang [0.00605364 0.0066129  0.00717214 ... 0.00391221 0.00447138 0.00503059]\n",
      "[0.00605364 0.0066129  0.00717214 ... 0.00391221 0.00447138 0.00503059] <Parameter 'ecc', value=0.9968536546195931, bounds=[0:1.0]> <Parameter 'rad', value=50.27055762630598, bounds=[0:inf]> <Parameter 'mass', value=1.0 (fixed), bounds=[-inf:inf]> [0.0136039  0.01486621 0.01612999 ... 0.00878172 0.01003938 0.01129811]\n",
      "44428\n",
      "[55.11117555 55.11112555 55.11097556 ... 55.11044241 55.1107753\n",
      " 55.11100822] [0.34885733 0.3796793  0.41050065 ... 0.23083376 0.26165239 0.29247277] [0.34684826 0.37889097 0.41093362 ... 0.22415288 0.2561913  0.28823153]\n",
      "Eang [0.00605364 0.00661289 0.00717214 ... 0.00391221 0.00447138 0.00503059]\n",
      "[0.00605364 0.00661289 0.00717214 ... 0.00391221 0.00447138 0.00503059] <Parameter 'ecc', value=0.9968536546195931, bounds=[0:1.0]> <Parameter 'rad', value=50.27055839000619, bounds=[0:inf]> <Parameter 'mass', value=1.0 (fixed), bounds=[-inf:inf]> [0.0136039  0.01486621 0.01612999 ... 0.00878172 0.01003938 0.01129811]\n",
      "44428\n",
      "[55.11117485 55.11112485 55.11097486 ... 55.11044171 55.1107746\n",
      " 55.11100752] [0.34885733 0.37967929 0.41050064 ... 0.23083376 0.26165239 0.29247276] [0.34684827 0.37889097 0.41093362 ... 0.22415288 0.2561913  0.28823153]\n",
      "Eang [0.00605364 0.00661289 0.00717214 ... 0.00391221 0.00447138 0.00503059]\n",
      "[0.00605364 0.00661289 0.00717214 ... 0.00391221 0.00447138 0.00503059] <Parameter 'ecc', value=0.9968536558367909, bounds=[0:1.0]> <Parameter 'rad', value=50.27055762630598, bounds=[0:inf]> <Parameter 'mass', value=1.0 (fixed), bounds=[-inf:inf]> [0.01360389 0.0148662  0.01612998 ... 0.00878171 0.01003938 0.0112981 ]\n",
      "44428\n",
      "[55.11119237 55.11114237 55.11099237 ... 55.11045923 55.11079212\n",
      " 55.11102504] [0.34886484 0.37968681 0.41050816 ... 0.23084127 0.2616599  0.29248027] [0.34685612 0.37889882 0.41094146 ... 0.22416078 0.25619919 0.28823941]\n",
      "Eang [0.00605378 0.00661303 0.00717228 ... 0.00391234 0.00447152 0.00503073]\n",
      "[0.00605378 0.00661303 0.00717228 ... 0.00391234 0.00447152 0.00503073] <Parameter 'ecc', value=0.9968538537578646, bounds=[0:1.0]> <Parameter 'rad', value=50.27056526869242, bounds=[0:inf]> <Parameter 'mass', value=1.0 (fixed), bounds=[-inf:inf]> [0.01360335 0.01486558 0.01612928 ... 0.00878147 0.01003906 0.01129771]\n",
      "44428\n",
      "[55.11119237 55.11114237 55.11099237 ... 55.11045923 55.11079212\n",
      " 55.11102504] [0.34886484 0.37968681 0.41050816 ... 0.23084128 0.26165991 0.29248028] [0.34685613 0.37889883 0.41094147 ... 0.22416079 0.2561992  0.28823941]\n",
      "Eang [0.00605378 0.00661303 0.00717228 ... 0.00391234 0.00447152 0.00503073]\n",
      "[0.00605378 0.00661303 0.00717228 ... 0.00391234 0.00447152 0.00503073] <Parameter 'ecc', value=0.9968538537578646, bounds=[0:1.0]> <Parameter 'rad', value=50.27056526869242, bounds=[0:inf]> <Parameter 'mass', value=1.0 (fixed), bounds=[-inf:inf]> [0.01360335 0.01486558 0.01612928 ... 0.00878147 0.01003906 0.01129771]\n",
      "44428\n",
      "[55.11119313 55.11114313 55.11099313 ... 55.11045999 55.11079288\n",
      " 55.1110258 ] [0.34886484 0.37968681 0.41050816 ... 0.23084128 0.26165991 0.29248028] [0.34685612 0.37889882 0.41094146 ... 0.22416078 0.25619919 0.28823941]\n",
      "Eang [0.00605378 0.00661303 0.00717228 ... 0.00391234 0.00447152 0.00503073]\n",
      "[0.00605378 0.00661303 0.00717228 ... 0.00391234 0.00447152 0.00503073] <Parameter 'ecc', value=0.9968538537578646, bounds=[0:1.0]> <Parameter 'rad', value=50.27056603239274, bounds=[0:inf]> <Parameter 'mass', value=1.0 (fixed), bounds=[-inf:inf]> [0.01360335 0.01486558 0.01612928 ... 0.00878147 0.01003906 0.01129771]\n",
      "44428\n",
      "[55.11119243 55.11114243 55.11099243 ... 55.11045929 55.11079218\n",
      " 55.1110251 ] [0.34886484 0.37968681 0.41050816 ... 0.23084127 0.2616599  0.29248027] [0.34685613 0.37889882 0.41094146 ... 0.22416078 0.25619919 0.28823941]\n",
      "Eang [0.00605378 0.00661303 0.00717228 ... 0.00391234 0.00447152 0.00503073]\n",
      "[0.00605378 0.00661303 0.00717228 ... 0.00391234 0.00447152 0.00503073] <Parameter 'ecc', value=0.9968538549750269, bounds=[0:1.0]> <Parameter 'rad', value=50.27056526869242, bounds=[0:inf]> <Parameter 'mass', value=1.0 (fixed), bounds=[-inf:inf]> [0.01360335 0.01486558 0.01612928 ... 0.00878147 0.01003905 0.0112977 ]\n",
      "44428\n",
      "[55.11122752 55.11117752 55.11102752 ... 55.11049438 55.11082727\n",
      " 55.11106019] [0.34887987 0.37970183 0.41052319 ... 0.2308563  0.26167493 0.2924953 ] [0.34687185 0.37891452 0.41095714 ... 0.22417658 0.25621497 0.28825517]\n",
      "Eang [0.00605406 0.00661331 0.00717256 ... 0.00391262 0.00447179 0.005031  ]\n",
      "[0.00605406 0.00661331 0.00717256 ... 0.00391262 0.00447179 0.005031  ] <Parameter 'ecc', value=0.9968542520060706, bounds=[0:1.0]> <Parameter 'rad', value=50.27058055109827, bounds=[0:inf]> <Parameter 'mass', value=1.0 (fixed), bounds=[-inf:inf]> [0.01360226 0.01486433 0.01612787 ... 0.00878099 0.01003841 0.0112969 ]\n",
      "44428\n",
      "[55.11122752 55.11117752 55.11102752 ... 55.11049438 55.11082727\n",
      " 55.11106019] [0.34887987 0.37970184 0.41052319 ... 0.23085631 0.26167493 0.29249531] [0.34687185 0.37891453 0.41095715 ... 0.22417659 0.25621498 0.28825518]\n",
      "Eang [0.00605406 0.00661331 0.00717256 ... 0.00391262 0.00447179 0.005031  ]\n",
      "[0.00605406 0.00661331 0.00717256 ... 0.00391262 0.00447179 0.005031  ] <Parameter 'ecc', value=0.9968542520060706, bounds=[0:1.0]> <Parameter 'rad', value=50.27058055109827, bounds=[0:inf]> <Parameter 'mass', value=1.0 (fixed), bounds=[-inf:inf]> [0.01360226 0.01486433 0.01612787 ... 0.00878099 0.01003841 0.0112969 ]\n",
      "44428\n",
      "[55.11122828 55.11117828 55.11102828 ... 55.11049514 55.11082803\n",
      " 55.11106095] [0.34887987 0.37970184 0.41052319 ... 0.23085631 0.26167493 0.29249531] [0.34687185 0.37891452 0.41095714 ... 0.22417659 0.25621498 0.28825517]\n",
      "Eang [0.00605406 0.00661331 0.00717256 ... 0.00391262 0.00447179 0.005031  ]\n",
      "[0.00605406 0.00661331 0.00717256 ... 0.00391262 0.00447179 0.005031  ] <Parameter 'ecc', value=0.9968542520060706, bounds=[0:1.0]> <Parameter 'rad', value=50.27058131479882, bounds=[0:inf]> <Parameter 'mass', value=1.0 (fixed), bounds=[-inf:inf]> [0.01360226 0.01486433 0.01612787 ... 0.00878099 0.01003841 0.0112969 ]\n",
      "44428\n"
     ]
    },
    {
     "name": "stdout",
     "output_type": "stream",
     "text": [
      "[55.11122758 55.11117758 55.11102758 ... 55.11049444 55.11082733\n",
      " 55.11106025] [0.34887987 0.37970183 0.41052319 ... 0.2308563  0.26167493 0.2924953 ] [0.34687185 0.37891453 0.41095715 ... 0.22417659 0.25621498 0.28825517]\n",
      "Eang [0.00605406 0.00661331 0.00717256 ... 0.00391262 0.00447179 0.005031  ]\n",
      "[0.00605406 0.00661331 0.00717256 ... 0.00391262 0.00447179 0.005031  ] <Parameter 'ecc', value=0.996854253223162, bounds=[0:1.0]> <Parameter 'rad', value=50.27058055109827, bounds=[0:inf]> <Parameter 'mass', value=1.0 (fixed), bounds=[-inf:inf]> [0.01360225 0.01486433 0.01612787 ... 0.00878098 0.01003841 0.0112969 ]\n",
      "44428\n",
      "[55.1112978  55.1112478  55.11109781 ... 55.11056466 55.11089756\n",
      " 55.11113048] [0.34890993 0.3797319  0.41055325 ... 0.23088637 0.261705   0.29252537] [0.34690331 0.37894594 0.41098852 ... 0.2242082  0.25624655 0.28828671]\n",
      "Eang [0.0060546  0.00661385 0.0071731  ... 0.00391317 0.00447235 0.00503155]\n",
      "[0.0060546  0.00661385 0.0071731  ... 0.00391317 0.00447235 0.00503155] <Parameter 'ecc', value=0.996855048389853, bounds=[0:1.0]> <Parameter 'rad', value=50.27061110646904, bounds=[0:inf]> <Parameter 'mass', value=1.0 (fixed), bounds=[-inf:inf]> [0.01360007 0.01486183 0.01612505 ... 0.00878001 0.01003712 0.0112953 ]\n",
      "44428\n",
      "[55.11123455 55.11118455 55.11103455 ... 55.11050141 55.1108343\n",
      " 55.11106722] [0.34888287 0.37970484 0.41052619 ... 0.23085931 0.26167793 0.29249831] [0.34687499 0.37891767 0.41096028 ... 0.22417975 0.25621813 0.28825832]\n",
      "Eang [0.00605411 0.00661336 0.00717261 ... 0.00391267 0.00447185 0.00503106]\n",
      "[0.00605411 0.00661336 0.00717261 ... 0.00391267 0.00447185 0.00503106] <Parameter 'ecc', value=0.9968543316513845, bounds=[0:1.0]> <Parameter 'rad', value=50.27058360765235, bounds=[0:inf]> <Parameter 'mass', value=1.0 (fixed), bounds=[-inf:inf]> [0.01360204 0.01486408 0.01612759 ... 0.00878089 0.01003828 0.01129674]\n",
      "44428\n",
      "[55.11122752 55.11117752 55.11102752 ... 55.11049438 55.11082727\n",
      " 55.11106019] [0.34887987 0.37970183 0.41052319 ... 0.2308563  0.26167493 0.2924953 ] [0.34687185 0.37891452 0.41095714 ... 0.22417658 0.25621497 0.28825517]\n",
      "Eang [0.00605406 0.00661331 0.00717256 ... 0.00391262 0.00447179 0.005031  ]\n",
      "[0.00605406 0.00661331 0.00717256 ... 0.00391262 0.00447179 0.005031  ] <Parameter 'ecc', value=0.9968542520060706, bounds=[0:1.0]> <Parameter 'rad', value=50.27058055109827, bounds=[0:inf]> <Parameter 'mass', value=1.0 (fixed), bounds=[-inf:inf]> [0.01360226 0.01486433 0.01612787 ... 0.00878099 0.01003841 0.0112969 ]\n"
     ]
    }
   ],
   "source": [
    "from lmfit import Minimizer,Parameters\n",
    "pfittEang = Parameters()\n",
    "pfittEang.add(name='theta', value=theta0, min=theta0-math.pi, max=theta0+math.pi, vary=True)\n",
    "pfittEang.add(name='rad', value=rad0, min=0, vary=True)\n",
    "pfittEang.add(name='ecc', value=ecc0, min=0, max=1.0, vary=True)\n",
    "pfittEang.add(name='mass', value=masses[0], vary=False)\n",
    "pfittEang.add(name='useperihelion', value=True, vary=False)\n",
    "\n",
    "minit = Minimizer(residualtEang, pfittEang, fcn_args=(nptimesoneorbit,npstar2x[:endindex-1,:]))\n",
    "\n",
    "outt = minit.leastsq()"
   ]
  },
  {
   "cell_type": "code",
   "execution_count": 86,
   "metadata": {},
   "outputs": [
    {
     "data": {
      "text/html": [
       "<h2>Fit Statistics</h2><table><tr><td>fitting method</td><td>leastsq</td><td></td></tr><tr><td># function evals</td><td>47</td><td></td></tr><tr><td># data points</td><td>44428</td><td></td></tr><tr><td># variables</td><td>3</td><td></td></tr><tr><td>chi-square</td><td> 2.5133e+09</td><td></td></tr><tr><td>reduced chi-square</td><td> 56574.5684</td><td></td></tr><tr><td>Akaike info crit.</td><td> 486192.592</td><td></td></tr><tr><td>Bayesian info crit.</td><td> 486218.697</td><td></td></tr></table><h2>Variables</h2><table><tr><th> name </th><th> value </th><th> standard error </th><th> relative error </th><th> initial value </th><th> min </th><th> max </th><th> vary </th></tr><tr><td> theta </td><td>  0.00696200 </td><td>  0.00123069 </td><td> (17.68%) </td><td> 0.0 </td><td> -3.14159265 </td><td>  3.14159265 </td><td> True </td></tr><tr><td> rad </td><td>  50.2705806 </td><td>  0.02504310 </td><td> (0.05%) </td><td> 50 </td><td>  0.00000000 </td><td>         inf </td><td> True </td></tr><tr><td> ecc </td><td>  0.99685425 </td><td>  0.00120255 </td><td> (0.12%) </td><td> 0.9 </td><td>  0.00000000 </td><td>  1.00000000 </td><td> True </td></tr><tr><td> mass </td><td>  1.00000000 </td><td>  0.00000000 </td><td> (0.00%) </td><td> 1.0 </td><td>        -inf </td><td>         inf </td><td> False </td></tr><tr><td> useperihelion </td><td>  1.00000000 </td><td>  0.00000000 </td><td> (0.00%) </td><td> True </td><td>        -inf </td><td>         inf </td><td> False </td></tr></table><h2>Correlations (unreported correlations are < 0.100)</h2><table><tr><td>theta</td><td>rad</td><td>0.7573</td></tr><tr><td>rad</td><td>ecc</td><td>-0.7314</td></tr><tr><td>theta</td><td>ecc</td><td>-0.5377</td></tr></table>"
      ],
      "text/plain": [
       "<lmfit.minimizer.MinimizerResult at 0x7f9dc16dbf10>"
      ]
     },
     "execution_count": 86,
     "metadata": {},
     "output_type": "execute_result"
    }
   ],
   "source": [
    "outt"
   ]
  },
  {
   "cell_type": "markdown",
   "metadata": {},
   "source": [
    "Eccentricity fit is still not great for eccentricity of 0.9 (0.99), but radius fit is pretty good. The chi square is enormous. Eccentricity of 0.5 looks somewhat better (ecc 0.51) but still has a large chisquared and generates a potentially helpful divide by zero warning in the fit. "
   ]
  },
  {
   "cell_type": "code",
   "execution_count": 87,
   "metadata": {},
   "outputs": [
    {
     "data": {
      "text/plain": [
       "4442.699999998631"
      ]
     },
     "execution_count": 87,
     "metadata": {},
     "output_type": "execute_result"
    }
   ],
   "source": [
    "tfinal=nptimesoneorbit[endindex-2]\n",
    "tfinal"
   ]
  },
  {
   "cell_type": "markdown",
   "metadata": {},
   "source": [
    "Updated Jupyter and python packages and angular momentum and energy conservation improved by many orders of magnitude, but the fit is about the same. deltaL and deltaE are now consistent with roundoff error. "
   ]
  },
  {
   "cell_type": "markdown",
   "metadata": {},
   "source": []
  },
  {
   "cell_type": "markdown",
   "metadata": {},
   "source": []
  },
  {
   "cell_type": "code",
   "execution_count": 88,
   "metadata": {},
   "outputs": [],
   "source": [
    "from scipy.fft import fft"
   ]
  },
  {
   "cell_type": "code",
   "execution_count": 89,
   "metadata": {},
   "outputs": [],
   "source": [
    "from scipy.signal import blackman\n",
    "wndow=blackman(len(nptimesoneorbit))"
   ]
  },
  {
   "cell_type": "code",
   "execution_count": 90,
   "metadata": {},
   "outputs": [],
   "source": [
    "ftresiduals=fft(nptimesoneorbit-tpredoneorbit)"
   ]
  },
  {
   "cell_type": "code",
   "execution_count": 91,
   "metadata": {},
   "outputs": [],
   "source": [
    "xf = np.linspace(0.0, 1.0/(2.0*dt), len(nptimesoneorbit)//2)"
   ]
  },
  {
   "cell_type": "code",
   "execution_count": 92,
   "metadata": {},
   "outputs": [
    {
     "data": {
      "text/plain": [
       "[<matplotlib.lines.Line2D at 0x7f9dc1813110>]"
      ]
     },
     "execution_count": 92,
     "metadata": {},
     "output_type": "execute_result"
    },
    {
     "data": {
      "image/png": "[encoded data removed]",
      "text/plain": [
       "<Figure size 432x288 with 1 Axes>"
      ]
     },
     "metadata": {
      "needs_background": "light"
     },
     "output_type": "display_data"
    }
   ],
   "source": [
    "plt.semilogy(xf[1:len(nptimesoneorbit)//2], 2.0/len(nptimesoneorbit) * np.abs(ftresiduals[1:len(nptimesoneorbit)//2]), '-b')"
   ]
  },
  {
   "cell_type": "code",
   "execution_count": 93,
   "metadata": {},
   "outputs": [],
   "source": [
    "ftr=fft(np.sqrt(npstar1x[:endindex-1,0]**2+npstar1x[:endindex-1,1]**2))"
   ]
  },
  {
   "cell_type": "code",
   "execution_count": 94,
   "metadata": {},
   "outputs": [
    {
     "data": {
      "text/plain": [
       "[<matplotlib.lines.Line2D at 0x7f9dc1cd8c10>]"
      ]
     },
     "execution_count": 94,
     "metadata": {},
     "output_type": "execute_result"
    },
    {
     "data": {
      "image/png": "[encoded data removed]",
      "text/plain": [
       "<Figure size 432x288 with 1 Axes>"
      ]
     },
     "metadata": {
      "needs_background": "light"
     },
     "output_type": "display_data"
    }
   ],
   "source": [
    "plt.semilogy(xf[1:len(nptimesoneorbit)//2], 2.0/len(nptimesoneorbit) * np.abs(ftr[1:len(nptimesoneorbit)//2]), '-b')"
   ]
  },
  {
   "cell_type": "markdown",
   "metadata": {},
   "source": [
    "Fourier transform won't work. The period is one time the length of the signal. See the blip at the second bin? That's the second harmonic. I don't see higher harmonics. "
   ]
  },
  {
   "cell_type": "code",
   "execution_count": 95,
   "metadata": {},
   "outputs": [
    {
     "data": {
      "text/plain": [
       "[<matplotlib.lines.Line2D at 0x7f9dc2107850>]"
      ]
     },
     "execution_count": 95,
     "metadata": {},
     "output_type": "execute_result"
    },
    {
     "data": {
      "image/png": "[encoded data removed]",
      "text/plain": [
       "<Figure size 432x288 with 1 Axes>"
      ]
     },
     "metadata": {
      "needs_background": "light"
     },
     "output_type": "display_data"
    }
   ],
   "source": [
    "plt.semilogy(xf[1:50], 2.0/len(nptimesoneorbit) * np.abs(ftresiduals[1:50]), '-b')"
   ]
  },
  {
   "cell_type": "code",
   "execution_count": 96,
   "metadata": {},
   "outputs": [
    {
     "data": {
      "text/plain": [
       "0.00022508834717633604"
      ]
     },
     "execution_count": 96,
     "metadata": {},
     "output_type": "execute_result"
    }
   ],
   "source": [
    "1/tfinal"
   ]
  },
  {
   "cell_type": "code",
   "execution_count": 97,
   "metadata": {},
   "outputs": [
    {
     "data": {
      "text/plain": [
       "[<matplotlib.lines.Line2D at 0x7f9dc2685cd0>]"
      ]
     },
     "execution_count": 97,
     "metadata": {},
     "output_type": "execute_result"
    },
    {
     "data": {
      "image/png": "[encoded data removed]",
      "text/plain": [
       "<Figure size 432x288 with 1 Axes>"
      ]
     },
     "metadata": {
      "needs_background": "light"
     },
     "output_type": "display_data"
    }
   ],
   "source": [
    "plt.semilogy(xf[1:50], 2.0/len(nptimesoneorbit) * np.abs(ftr[1:50]), '-b')"
   ]
  },
  {
   "cell_type": "code",
   "execution_count": null,
   "metadata": {},
   "outputs": [],
   "source": []
  }
 ],
 "metadata": {
  "kernelspec": {
   "display_name": "Python 3",
   "language": "python",
   "name": "python3"
  },
  "language_info": {
   "codemirror_mode": {
    "name": "ipython",
    "version": 3
   },
   "file_extension": ".py",
   "mimetype": "text/x-python",
   "name": "python",
   "nbconvert_exporter": "python",
   "pygments_lexer": "ipython3",
   "version": "3.7.4"
  }
 },
 "nbformat": 4,
 "nbformat_minor": 2
}
