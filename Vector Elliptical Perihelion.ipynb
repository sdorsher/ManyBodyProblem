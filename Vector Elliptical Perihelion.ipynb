{
 "cells": [
  {
   "cell_type": "code",
   "execution_count": 1,
   "metadata": {},
   "outputs": [],
   "source": [
    "import math\n",
    "import numpy as np"
   ]
  },
  {
   "cell_type": "code",
   "execution_count": 2,
   "metadata": {},
   "outputs": [],
   "source": [
    "import ellipsefns\n",
    "#getfocus, getsemiminor, theoreticalx, theoreticaly"
   ]
  },
  {
   "cell_type": "code",
   "execution_count": 3,
   "metadata": {},
   "outputs": [],
   "source": [
    "import initdat"
   ]
  },
  {
   "cell_type": "code",
   "execution_count": 4,
   "metadata": {},
   "outputs": [
    {
     "name": "stdout",
     "output_type": "stream",
     "text": [
      "angle 0.0\n",
      "0.5\n",
      "(array([3.14159265, 0.        ]), 0.0, 50, 0.5, array([1., 1.]))\n"
     ]
    }
   ],
   "source": [
    "\n",
    "rad0=50\n",
    "ecc0=0.5\n",
    "theta0= 0. #math.pi/6. #math.pi/6.\n",
    "mass0=1.0\n",
    "initdateqellipse=initdat.InitialDataEqualMassConic(rad0,ecc0,theta0,mass0)\n",
    "print(initdateqellipse)"
   ]
  },
  {
   "cell_type": "markdown",
   "metadata": {},
   "source": [
    "VERIFIED FOR THETA=-45,45,135,180,90,30,-30. VERIFIED FOR ECC =0.001, 0.1,0.5, 0.7, 0.9, 0.95 VERIFIED FOR RAD0=50,75 100 "
   ]
  },
  {
   "cell_type": "code",
   "execution_count": 5,
   "metadata": {},
   "outputs": [],
   "source": [
    "import getxyuvtwoellipse_apper"
   ]
  },
  {
   "cell_type": "code",
   "execution_count": 6,
   "metadata": {},
   "outputs": [],
   "source": [
    "useperihelion=True"
   ]
  },
  {
   "cell_type": "code",
   "execution_count": 7,
   "metadata": {},
   "outputs": [
    {
     "name": "stdout",
     "output_type": "stream",
     "text": [
      "initdat 50 [3.14159265 0.        ] 0.5 [-1.  1.] [1.2246468e-16 0.0000000e+00]\n",
      "coordsep 50\n",
      "pi\n",
      "zero\n",
      "[-50.  50.]\n",
      "[0. 0.]\n",
      "(array([1., 1.]), array([[-25.        ,   0.        ,   0.        ,  -0.        ,\n",
      "         -0.12247449,   0.        ],\n",
      "       [ 25.        ,   0.        ,   0.        ,  -0.        ,\n",
      "          0.12247449,   0.        ]]), array([[ 0.0004, -0.    ,  0.    ],\n",
      "       [-0.0004, -0.    ,  0.    ]]))\n"
     ]
    }
   ],
   "source": [
    "xyuvaeqellipse=getxyuvtwoellipse_apper.getxyuveqtwoellipses(initdateqellipse,useperihelion)\n",
    "print(xyuvaeqellipse)\n",
    "masses,xvec,avec=xyuvaeqellipse"
   ]
  },
  {
   "cell_type": "code",
   "execution_count": 8,
   "metadata": {},
   "outputs": [],
   "source": [
    "import RK4implicit"
   ]
  },
  {
   "cell_type": "code",
   "execution_count": 9,
   "metadata": {},
   "outputs": [],
   "source": [
    "import OrbitDiffEq"
   ]
  },
  {
   "cell_type": "code",
   "execution_count": null,
   "metadata": {},
   "outputs": [],
   "source": []
  },
  {
   "cell_type": "code",
   "execution_count": 10,
   "metadata": {},
   "outputs": [
    {
     "name": "stdout",
     "output_type": "stream",
     "text": [
      "[1. 1.] [[-25.           0.           0.          -0.          -0.12247449\n",
      "    0.        ]\n",
      " [ 25.           0.           0.          -0.           0.12247449\n",
      "    0.        ]] 0.0\n",
      "[1. 1.] [[-25.           0.           0.          -0.          -0.12247449\n",
      "    0.        ]\n",
      " [ 25.           0.           0.          -0.           0.12247449\n",
      "    0.        ]] 0.0\n"
     ]
    },
    {
     "data": {
      "text/plain": [
       "<OrbitDiffEq.OrbitDiffEq at 0x7f079409bd30>"
      ]
     },
     "execution_count": 10,
     "metadata": {},
     "output_type": "execute_result"
    }
   ],
   "source": [
    "masses, xvec,avec=xyuvaeqellipse\n",
    "ODEeq= OrbitDiffEq.OrbitDiffEq(masses,xvec,avec,0.0)\n",
    "ODEeq.print2D()\n",
    "ODEeq.print2D()"
   ]
  },
  {
   "cell_type": "code",
   "execution_count": 11,
   "metadata": {},
   "outputs": [
    {
     "name": "stdout",
     "output_type": "stream",
     "text": [
      "(array([1., 1.]), array([[-25.        ,   0.        ,   0.        ,  -0.        ,\n",
      "         -0.12247449,   0.        ],\n",
      "       [ 25.        ,   0.        ,   0.        ,  -0.        ,\n",
      "          0.12247449,   0.        ]]), array([[ 0.0004, -0.    ,  0.    ],\n",
      "       [-0.0004, -0.    ,  0.    ]]))\n"
     ]
    }
   ],
   "source": [
    "print(xyuvaeqellipse)"
   ]
  },
  {
   "cell_type": "code",
   "execution_count": 12,
   "metadata": {},
   "outputs": [],
   "source": [
    "import timestep"
   ]
  },
  {
   "cell_type": "code",
   "execution_count": null,
   "metadata": {},
   "outputs": [],
   "source": []
  },
  {
   "cell_type": "code",
   "execution_count": 13,
   "metadata": {},
   "outputs": [],
   "source": [
    "numsteps=6000*10\n",
    "dt=0.1\n",
    "outputevery=1\n",
    "nptimes, npstar1x, npstar2x, npstar1a, npstar2a= timestep.timestep(numsteps,dt,xyuvaeqellipse,outputevery)"
   ]
  },
  {
   "cell_type": "code",
   "execution_count": 14,
   "metadata": {},
   "outputs": [
    {
     "data": {
      "text/plain": [
       "array([[-2.50000000e+01,  0.00000000e+00,  0.00000000e+00,\n",
       "        -0.00000000e+00, -1.22474487e-01,  0.00000000e+00],\n",
       "       [-2.49999980e+01, -1.22474484e-02,  0.00000000e+00,\n",
       "         3.99999973e-05, -1.22474477e-01,  0.00000000e+00],\n",
       "       [-2.49999920e+01, -2.44948948e-02,  0.00000000e+00,\n",
       "         7.99999787e-05, -1.22474448e-01,  0.00000000e+00],\n",
       "       ...,\n",
       "       [ 6.50765680e+01, -2.58921131e+01,  0.00000000e+00,\n",
       "         3.01846656e-02,  3.50405295e-02,  0.00000000e+00],\n",
       "       [ 6.50795863e+01, -2.58886090e+01,  0.00000000e+00,\n",
       "         3.01799302e-02,  3.50424134e-02,  0.00000000e+00],\n",
       "       [ 6.50826040e+01, -2.58851046e+01,  0.00000000e+00,\n",
       "         3.01751950e-02,  3.50442969e-02,  0.00000000e+00]])"
      ]
     },
     "execution_count": 14,
     "metadata": {},
     "output_type": "execute_result"
    }
   ],
   "source": [
    "npstar1x"
   ]
  },
  {
   "cell_type": "code",
   "execution_count": 15,
   "metadata": {},
   "outputs": [
    {
     "data": {
      "image/png": "[encoded data removed]",
      "text/plain": [
       "<Figure size 432x288 with 1 Axes>"
      ]
     },
     "metadata": {
      "needs_background": "light"
     },
     "output_type": "display_data"
    }
   ],
   "source": [
    "import matplotlib.pyplot as plt\n",
    "t = np.linspace(0, 2*math.pi, 100)\n",
    "xax=-200+np.arange(0,400)\n",
    "plt.ylim(-200,200)\n",
    "plt.xlim(-200,200)\n",
    "plt.title(\"Elliptical Orbit, RK4, a=\"+str(rad0)+\", e=\"+ str(ecc0)+\", theta=\"+str(round(180*theta0/math.pi))+ \" degrees\")\n",
    "plt.plot(ellipsefns.getxtheory(theta0,ecc0,rad0,t,1),ellipsefns.getytheory(theta0,ecc0,rad0,t,1),'b')\n",
    "plt.plot(ellipsefns.getxtheory(theta0,ecc0,rad0,t,-1),ellipsefns.getytheory(theta0,ecc0,rad0,t,-1),'g')\n",
    "plt.plot(npstar1x[:,0],npstar1x[:,1],'y')\n",
    "plt.plot(npstar2x[:,0],npstar2x[:,1],'r')\n",
    "plt.show()"
   ]
  },
  {
   "cell_type": "markdown",
   "metadata": {},
   "source": [
    "%%html\n",
    "<a href=\"https://github.com/sdorsher/ManyBodyProblem/blob/master/EllipseSymmetry.png\">Elliptical orbits at thirty degrees with symmetry line</a>\n",
    "It is clear that the elliptical orbits have focuses, perhelions, and aphelions on the axis of symmetry from this plot. It is also clear that the orbits are symmetric with respect to eachother. "
   ]
  },
  {
   "cell_type": "code",
   "execution_count": 16,
   "metadata": {},
   "outputs": [],
   "source": [
    "def getfocus(a,ecc):\n",
    "    c=a*ecc\n",
    "    return c"
   ]
  },
  {
   "cell_type": "code",
   "execution_count": 17,
   "metadata": {},
   "outputs": [],
   "source": [
    "def getsemiminor(a,ecc):\n",
    "    c=getfocus(a,ecc)\n",
    "    b=np.sqrt(a**2-c**2)\n",
    "    return b"
   ]
  },
  {
   "cell_type": "code",
   "execution_count": 18,
   "metadata": {},
   "outputs": [],
   "source": [
    "def getxtheory2(theta0,ecc0,rad0,t, sgn):\n",
    "    focus=getfocus(rad0,ecc0)\n",
    "    b=getsemiminor(rad0,ecc0)\n",
    "    xdim=rad0\n",
    "    ydim=b\n",
    "    xtheory=sgn*focus*np.cos(theta0)+xdim*np.cos(t)*np.cos(theta0)-ydim*np.sin(t)*np.sin(theta0)\n",
    "    return xtheory"
   ]
  },
  {
   "cell_type": "code",
   "execution_count": 19,
   "metadata": {},
   "outputs": [],
   "source": [
    "def getytheory2(theta0, ecc0, rad0, t, sgn):\n",
    "    focus = getfocus(rad0,ecc0)\n",
    "    b=getsemiminor(rad0,ecc0)\n",
    "    xdim=rad0\n",
    "    ydim=b\n",
    "    ytheory=sgn*focus*np.sin(theta0)+ydim*np.cos(theta0)*np.sin(t)+xdim*np.sin(theta0)*np.cos(t)\n",
    "    return ytheory\n",
    "\n"
   ]
  },
  {
   "cell_type": "code",
   "execution_count": 20,
   "metadata": {},
   "outputs": [
    {
     "data": {
      "image/png": "[encoded data removed]",
      "text/plain": [
       "<Figure size 432x288 with 1 Axes>"
      ]
     },
     "metadata": {
      "needs_background": "light"
     },
     "output_type": "display_data"
    }
   ],
   "source": [
    "import matplotlib.pyplot as plt\n",
    "t = np.linspace(0, 2*math.pi, 100)\n",
    "xax=-200+np.arange(0,400)\n",
    "plt.ylim(-200,200)\n",
    "plt.xlim(-200,200)\n",
    "plt.title(\"Elliptical Orbit, RK4, a=\"+str(rad0)+\", e=\"+ str(ecc0)+\", theta=\"+str(round(180*theta0/math.pi))+ \" degrees\")\n",
    "plt.plot(ellipsefns.getxtheory(theta0,ecc0,rad0,t,1),ellipsefns.getytheory(theta0,ecc0,rad0,t,1),'b')\n",
    "plt.plot(ellipsefns.getxtheory(theta0,ecc0,rad0,t,-1),ellipsefns.getytheory(theta0,ecc0,rad0,t,-1),'g')\n",
    "plt.plot(npstar1x[:,0],npstar1x[:,1],'y')\n",
    "plt.plot(npstar2x[:,0],npstar2x[:,1],'r')\n",
    "plt.plot(xax, np.tan(theta0)*xax,'c')\n",
    "plt.show()"
   ]
  },
  {
   "cell_type": "markdown",
   "metadata": {},
   "source": [
    "Computed orbit and parametric description of ellipse evolve at different rates, since the parametric description of the ellipse doesn't obey keplers law of equal area in equal time (conservation of angular momentum). This is a problem for the fit below. "
   ]
  },
  {
   "cell_type": "markdown",
   "metadata": {},
   "source": [
    "# Conservation of angular momentum"
   ]
  },
  {
   "cell_type": "code",
   "execution_count": 21,
   "metadata": {},
   "outputs": [],
   "source": [
    "import Lstability"
   ]
  },
  {
   "cell_type": "code",
   "execution_count": 22,
   "metadata": {},
   "outputs": [
    {
     "data": {
      "text/plain": [
       "(3.1183369646375074e-14, -2.0412414523192806)"
      ]
     },
     "execution_count": 22,
     "metadata": {},
     "output_type": "execute_result"
    }
   ],
   "source": [
    "deltaL, Lavg=Lstability.Lstability(npstar1x,npstar2x,mass0)\n",
    "deltaL, Lavg"
   ]
  },
  {
   "cell_type": "code",
   "execution_count": 23,
   "metadata": {},
   "outputs": [
    {
     "data": {
      "text/plain": [
       "-6.365278674517562e-14"
      ]
     },
     "execution_count": 23,
     "metadata": {},
     "output_type": "execute_result"
    }
   ],
   "source": [
    "deltaL*Lavg"
   ]
  },
  {
   "cell_type": "markdown",
   "metadata": {},
   "source": [
    "Orbit conserves angular momentum to a tolerance of deltaL. "
   ]
  },
  {
   "cell_type": "markdown",
   "metadata": {},
   "source": [
    "# Conservation of Energy"
   ]
  },
  {
   "cell_type": "code",
   "execution_count": 24,
   "metadata": {},
   "outputs": [],
   "source": [
    "import Estability"
   ]
  },
  {
   "cell_type": "code",
   "execution_count": 25,
   "metadata": {},
   "outputs": [
    {
     "data": {
      "text/plain": [
       "(1.9347771707844668e-14, -0.0050000000000002065)"
      ]
     },
     "execution_count": 25,
     "metadata": {},
     "output_type": "execute_result"
    }
   ],
   "source": [
    "deltaE, Eavg = Estability.Estability(npstar1x, npstar2x, mass0)\n",
    "deltaE, Eavg"
   ]
  },
  {
   "cell_type": "code",
   "execution_count": 26,
   "metadata": {},
   "outputs": [
    {
     "data": {
      "text/plain": [
       "-9.673885853922734e-17"
      ]
     },
     "execution_count": 26,
     "metadata": {},
     "output_type": "execute_result"
    }
   ],
   "source": [
    "deltaE*Eavg"
   ]
  },
  {
   "cell_type": "markdown",
   "metadata": {},
   "source": [
    "Orbit conserves energy to a relative error of deltaE. "
   ]
  },
  {
   "cell_type": "markdown",
   "metadata": {},
   "source": [
    "# Symmetry of the two stars orbits with respect to eachother "
   ]
  },
  {
   "cell_type": "code",
   "execution_count": 27,
   "metadata": {},
   "outputs": [],
   "source": [
    "import orbitSymmetricTol"
   ]
  },
  {
   "cell_type": "code",
   "execution_count": 28,
   "metadata": {},
   "outputs": [],
   "source": [
    "allcancelsx, allcancelsa=orbitSymmetricTol.howSymmetric(npstar1x,npstar2x,npstar1a,npstar2a)"
   ]
  },
  {
   "cell_type": "code",
   "execution_count": 29,
   "metadata": {},
   "outputs": [
    {
     "data": {
      "text/plain": [
       "1e-14"
      ]
     },
     "execution_count": 29,
     "metadata": {},
     "output_type": "execute_result"
    }
   ],
   "source": [
    "allcancelsx"
   ]
  },
  {
   "cell_type": "markdown",
   "metadata": {},
   "source": [
    "Orbit is symmetric with respect to x and v up to a tolerance of allcancelsx"
   ]
  },
  {
   "cell_type": "code",
   "execution_count": 30,
   "metadata": {},
   "outputs": [
    {
     "data": {
      "text/plain": [
       "1e-14"
      ]
     },
     "execution_count": 30,
     "metadata": {},
     "output_type": "execute_result"
    }
   ],
   "source": [
    "allcancelsa"
   ]
  },
  {
   "cell_type": "code",
   "execution_count": 31,
   "metadata": {},
   "outputs": [
    {
     "data": {
      "text/plain": [
       "array([[-2.50000000e+01,  0.00000000e+00,  0.00000000e+00,\n",
       "        -0.00000000e+00, -1.22474487e-01,  0.00000000e+00],\n",
       "       [-2.49999980e+01, -1.22474484e-02,  0.00000000e+00,\n",
       "         3.99999973e-05, -1.22474477e-01,  0.00000000e+00],\n",
       "       [-2.49999920e+01, -2.44948948e-02,  0.00000000e+00,\n",
       "         7.99999787e-05, -1.22474448e-01,  0.00000000e+00],\n",
       "       ...,\n",
       "       [ 6.50765680e+01, -2.58921131e+01,  0.00000000e+00,\n",
       "         3.01846656e-02,  3.50405295e-02,  0.00000000e+00],\n",
       "       [ 6.50795863e+01, -2.58886090e+01,  0.00000000e+00,\n",
       "         3.01799302e-02,  3.50424134e-02,  0.00000000e+00],\n",
       "       [ 6.50826040e+01, -2.58851046e+01,  0.00000000e+00,\n",
       "         3.01751950e-02,  3.50442969e-02,  0.00000000e+00]])"
      ]
     },
     "execution_count": 31,
     "metadata": {},
     "output_type": "execute_result"
    }
   ],
   "source": [
    "npstar1x"
   ]
  },
  {
   "cell_type": "markdown",
   "metadata": {},
   "source": [
    "Orbit is symmetric with respect to a to up to or better than a tolerance of allcancelsa"
   ]
  },
  {
   "cell_type": "markdown",
   "metadata": {},
   "source": [
    "# Testing for precision in perihelion and aphelion recovery from knowledge of the initial angle"
   ]
  },
  {
   "cell_type": "code",
   "execution_count": 32,
   "metadata": {},
   "outputs": [],
   "source": [
    "import aeTest"
   ]
  },
  {
   "cell_type": "code",
   "execution_count": 33,
   "metadata": {},
   "outputs": [
    {
     "data": {
      "text/plain": [
       "[<matplotlib.lines.Line2D at 0x7f075c7aec40>]"
      ]
     },
     "execution_count": 33,
     "metadata": {},
     "output_type": "execute_result"
    },
    {
     "data": {
      "image/png": "[encoded data removed]",
      "text/plain": [
       "<Figure size 432x288 with 1 Axes>"
      ]
     },
     "metadata": {
      "needs_background": "light"
     },
     "output_type": "display_data"
    }
   ],
   "source": [
    "from matplotlib import pyplot as plt\n",
    "plt.plot( np.abs(npstar1x[:,1]))"
   ]
  },
  {
   "cell_type": "code",
   "execution_count": 34,
   "metadata": {},
   "outputs": [],
   "source": [
    "def findPerapHelionThetaIsZero(npstar1x,ecc0,rad0,useperihelion):\n",
    "    apindex=np.argmin(np.abs(npstar1x[1:,1]))+1\n",
    "    print(apindex)\n",
    "    delta=math.floor(.2*apindex)\n",
    "    print(delta)\n",
    "    perindex=np.argmin(np.abs(npstar1x[delta:apindex-delta,1]))+delta\n",
    "    print(perindex)\n",
    "    print(apindex/perindex)\n",
    "    if np.abs(apindex/perindex-2.)>0.05: \n",
    "        perindex=np.argmin(np.abs(npstar1x[apindex+delta:2*apindex+delta,1]))+delta+apindex\n",
    "        print(perindex)\n",
    "        apindex,perindex=perindex,apindex\n",
    "        print(apindex,perindex)\n",
    "        print(apindex/perindex)\n",
    "    #apindex3=np.argmin(np.abs(npstar1x[100:apindex2-100,1]))+100\n",
    "    #apindex4=np.argmin(np.abs(npstar1x[100:apindex3-100,1]))+100\n",
    "    #perindex=np.argmin(np.abs(npstar1x[100:apindex2-100,1]))+100\n",
    "    if useperihelion:\n",
    "        apindex,perindex=perindex,apindex\n",
    "    coordap=[npstar1x[apindex,0],npstar1x[apindex,1]]\n",
    "    coordper=[npstar1x[perindex,0],npstar1x[perindex,1]]\n",
    "    ra=np.sqrt(np.sum(np.array(coordap)**2))\n",
    "    rp=np.sqrt(np.sum(np.array(coordper)**2))\n",
    "    e=(ra-rp)/(ra+rp)\n",
    "    a=1./2.*(ra+rp)\n",
    "    deltae=np.abs(e-ecc0)/ecc0\n",
    "    deltaa=np.abs(a-rad0)/rad0\n",
    "    return apindex,perindex,coordap,coordper,ra,rp,e,a,deltae,deltaa"
   ]
  },
  {
   "cell_type": "code",
   "execution_count": 35,
   "metadata": {},
   "outputs": [
    {
     "name": "stdout",
     "output_type": "stream",
     "text": [
      "22214\n",
      "4442\n",
      "17771\n",
      "1.2500140678633729\n",
      "44429\n",
      "44429 22214\n",
      "2.0000450166561627\n"
     ]
    }
   ],
   "source": [
    "if theta0==0:\n",
    "    apindex,perindex,coordap,coordper,ra,rp,e,a,deltae,deltaa=findPerapHelionThetaIsZero(npstar1x,ecc0,rad0,useperihelion)"
   ]
  },
  {
   "cell_type": "code",
   "execution_count": null,
   "metadata": {},
   "outputs": [],
   "source": []
  },
  {
   "cell_type": "code",
   "execution_count": 36,
   "metadata": {},
   "outputs": [],
   "source": [
    "if theta0!=0:\n",
    "    perindex,apindex,coordper,coordap,rp,ra,e,a,deltae,deltaa=aeTest.findPerApHelion(npstar1x,theta0,ecc0,rad0)"
   ]
  },
  {
   "cell_type": "markdown",
   "metadata": {},
   "source": [
    "Recovered perihelion radius given by r_per, recovered aphelion radius given by r_ap, a is semimajor axis computed from the orbit, e is eccentricty computed from the orbit, delta a is relative error on the semimajor axis, and delta e is eccenticity relative error. "
   ]
  },
  {
   "cell_type": "code",
   "execution_count": 37,
   "metadata": {},
   "outputs": [
    {
     "data": {
      "text/plain": [
       "(22214,\n",
       " 44429,\n",
       " [74.99999996178201, -0.0016929680664632164],\n",
       " [-24.999999941777688, -0.002089640329429189],\n",
       " 74.99999998088961,\n",
       " 25.00000002910962,\n",
       " 0.4999999994678037,\n",
       " 50.00000000499962,\n",
       " 1.0643925740794202e-09,\n",
       " 9.999240546676447e-11)"
      ]
     },
     "execution_count": 37,
     "metadata": {},
     "output_type": "execute_result"
    }
   ],
   "source": [
    "apindex,perindex,coordap,coordper,ra,rp,e,a,deltae,deltaa"
   ]
  },
  {
   "cell_type": "code",
   "execution_count": 38,
   "metadata": {},
   "outputs": [
    {
     "data": {
      "text/plain": [
       "[<matplotlib.lines.Line2D at 0x7f075c713bb0>]"
      ]
     },
     "execution_count": 38,
     "metadata": {},
     "output_type": "execute_result"
    },
    {
     "data": {
      "image/png": "[encoded data removed]",
      "text/plain": [
       "<Figure size 432x288 with 1 Axes>"
      ]
     },
     "metadata": {
      "needs_background": "light"
     },
     "output_type": "display_data"
    }
   ],
   "source": [
    "plt.plot(nptimes[:perindex],npstar1x[:perindex,1])"
   ]
  },
  {
   "cell_type": "markdown",
   "metadata": {},
   "source": [
    "# Testing for symmetry within a given star's orbit about the line created by the initial angle with the origin that should pass thorugh the center of the ellipse, both focuses, and perihelion and aphelion"
   ]
  },
  {
   "cell_type": "code",
   "execution_count": 39,
   "metadata": {},
   "outputs": [],
   "source": [
    "pivotindex=perindex\n",
    "endindex = apindex\n",
    "if useperihelion:\n",
    "    pivotindex=apindex\n",
    "    endindex=perindex"
   ]
  },
  {
   "cell_type": "code",
   "execution_count": 40,
   "metadata": {},
   "outputs": [],
   "source": [
    "tosum1=list(range(0,endindex+1))\n",
    "tosum2=list(range(endindex+1,pivotindex+1))"
   ]
  },
  {
   "cell_type": "code",
   "execution_count": 41,
   "metadata": {},
   "outputs": [
    {
     "data": {
      "text/plain": [
       "44430"
      ]
     },
     "execution_count": 41,
     "metadata": {},
     "output_type": "execute_result"
    }
   ],
   "source": [
    "len(tosum1)"
   ]
  },
  {
   "cell_type": "code",
   "execution_count": 42,
   "metadata": {},
   "outputs": [
    {
     "data": {
      "text/plain": [
       "0"
      ]
     },
     "execution_count": 42,
     "metadata": {},
     "output_type": "execute_result"
    }
   ],
   "source": [
    "len(tosum2)"
   ]
  },
  {
   "cell_type": "code",
   "execution_count": 43,
   "metadata": {},
   "outputs": [
    {
     "data": {
      "text/plain": [
       "(22214, 44429)"
      ]
     },
     "execution_count": 43,
     "metadata": {},
     "output_type": "execute_result"
    }
   ],
   "source": [
    "apindex,perindex"
   ]
  },
  {
   "cell_type": "code",
   "execution_count": 44,
   "metadata": {},
   "outputs": [],
   "source": [
    "revtosum2=tosum2.reverse()"
   ]
  },
  {
   "cell_type": "code",
   "execution_count": 45,
   "metadata": {},
   "outputs": [],
   "source": [
    "xsum=np.zeros(endindex+1)\n",
    "ysum=np.zeros(endindex+1)\n",
    "for index in np.arange(0,pivotindex):\n",
    "    xsum[index]=npstar1x[index,0]+npstar1x[pivotindex+1-index,0]\n",
    "    ysum[index]=npstar1x[index,1]+npstar1x[pivotindex+1-index,1]"
   ]
  },
  {
   "cell_type": "code",
   "execution_count": 46,
   "metadata": {},
   "outputs": [],
   "source": [
    "xsum=xsum/2"
   ]
  },
  {
   "cell_type": "code",
   "execution_count": 47,
   "metadata": {},
   "outputs": [],
   "source": [
    "ysum=ysum/2"
   ]
  },
  {
   "cell_type": "code",
   "execution_count": 48,
   "metadata": {},
   "outputs": [
    {
     "data": {
      "image/png": "[encoded data removed]",
      "text/plain": [
       "<Figure size 432x288 with 1 Axes>"
      ]
     },
     "metadata": {
      "needs_background": "light"
     },
     "output_type": "display_data"
    }
   ],
   "source": [
    "import matplotlib.pyplot as plt\n",
    "b0=np.tan(theta0)\n",
    "plt.plot(xsum,ysum,label=\"Sum of data\")\n",
    "plt.plot(xsum,b0*xsum, color=\"green\", label=\"Line defining perhelion\")\n",
    "plt.xlabel(\"Symmetric X sum\")\n",
    "plt.ylabel(\"Symmetric Y sum\")\n",
    "plt.legend()\n",
    "plt.title(\"Sum of data reflection about perhelion\")\n",
    "plt.show()"
   ]
  },
  {
   "cell_type": "code",
   "execution_count": 49,
   "metadata": {},
   "outputs": [
    {
     "data": {
      "image/png": "[encoded data removed]",
      "text/plain": [
       "<Figure size 432x288 with 1 Axes>"
      ]
     },
     "metadata": {
      "needs_background": "light"
     },
     "output_type": "display_data"
    }
   ],
   "source": [
    "plt.plot(xsum,ysum-np.tan(theta0)*xsum, color=\"green\", label=\"Residual\")\n",
    "plt.xlabel(\"Symmetric X sum\")\n",
    "plt.ylabel(\"Ysum-tan(theta)*Xsum\")\n",
    "plt.title(\"Residuals of data reflected about perihelion\")\n",
    "plt.legend()\n",
    "plt.show()"
   ]
  },
  {
   "cell_type": "markdown",
   "metadata": {},
   "source": [
    "The residual improves substantially from .2 at perihelion with a timestep of dt=1 to .125 at perihelion with a timestep of dt=.3 to .02 at perihelion with a timestep of dt=.1. I think timestep makes all the difference between adjacent pairs of points in resolving perihelion. I think it is difficult to tell how symmetric the orbit is by this method when the limitation is in the resolution of the orbit with timestep. Interpolation would be necessary to get a good picture of orbital shape. "
   ]
  },
  {
   "cell_type": "markdown",
   "metadata": {},
   "source": [
    "In the interest of accomplishing further orbital evolutions, I think I'm going to let the precice numerical characterization of orbital shape question go (the predicted and actual orbits overlap quite nicely) and move on to evolving parabolic and hyperbolic orbits. "
   ]
  },
  {
   "cell_type": "markdown",
   "metadata": {},
   "source": [
    "# Fit t as a function of the eccentric anomoly (angle from the center of the elipse)"
   ]
  },
  {
   "cell_type": "code",
   "execution_count": 50,
   "metadata": {},
   "outputs": [],
   "source": [
    "def findEccentricAnomoly(coordap, coordper):\n",
    "    Ecenter=np.array(coordap)+np.array(coordper)\n",
    "    Ecenter/=2.\n",
    "    return Ecenter\n"
   ]
  },
  {
   "cell_type": "code",
   "execution_count": 51,
   "metadata": {},
   "outputs": [],
   "source": [
    "ellipsecenter=findEccentricAnomoly(coordap,coordper)"
   ]
  },
  {
   "cell_type": "code",
   "execution_count": 52,
   "metadata": {},
   "outputs": [
    {
     "data": {
      "text/plain": [
       "array([ 2.5000000e+01, -1.8913042e-03])"
      ]
     },
     "execution_count": 52,
     "metadata": {},
     "output_type": "execute_result"
    }
   ],
   "source": [
    "ellipsecenter"
   ]
  },
  {
   "cell_type": "code",
   "execution_count": 53,
   "metadata": {},
   "outputs": [],
   "source": [
    "def getEllipsecenter(ecc,rad,theta, useperihelion):\n",
    "    #ind of use perihelion\n",
    "    rp=rad*(1-ecc)\n",
    "    ra=-rad*(1+ecc)\n",
    "    rcent=(rp+ra)/2\n",
    "    #print(rp,ra,rcent)\n",
    "    rcentx=rcent*np.cos(theta)\n",
    "    rcenty=rcent* np.sin(theta)\n",
    "    return [rcentx,rcenty]"
   ]
  },
  {
   "cell_type": "code",
   "execution_count": 54,
   "metadata": {},
   "outputs": [
    {
     "data": {
      "text/plain": [
       "array([ 2.5000000e+01, -1.8913042e-03])"
      ]
     },
     "execution_count": 54,
     "metadata": {},
     "output_type": "execute_result"
    }
   ],
   "source": [
    "(np.array(coordap)+np.array(coordper))/2"
   ]
  },
  {
   "cell_type": "code",
   "execution_count": 55,
   "metadata": {},
   "outputs": [
    {
     "data": {
      "text/plain": [
       "[-25.0, -0.0]"
      ]
     },
     "execution_count": 55,
     "metadata": {},
     "output_type": "execute_result"
    }
   ],
   "source": [
    "getEllipsecenter(ecc0,rad0,theta0, True)"
   ]
  },
  {
   "cell_type": "code",
   "execution_count": 56,
   "metadata": {},
   "outputs": [
    {
     "data": {
      "text/plain": [
       "-90.0"
      ]
     },
     "execution_count": 56,
     "metadata": {},
     "output_type": "execute_result"
    }
   ],
   "source": [
    "np.arctan2(-1.,0)/math.pi*180"
   ]
  },
  {
   "cell_type": "code",
   "execution_count": 57,
   "metadata": {},
   "outputs": [],
   "source": [
    "def getEang(npstar2x,ecc,rad,theta, useperihelion):\n",
    "    ellipsecenter=getEllipsecenter(ecc,rad,theta, useperihelion)\n",
    "    #print(ellipsecenter)\n",
    "    #print(npstar1x)\n",
    "    #print(npstar1x[:,0])\n",
    "    xfortan=npstar2x[:,0]-ellipsecenter[0]\n",
    "    yfortan=npstar2x[:,1]-ellipsecenter[1]\n",
    "    #print(\"xy\",xfortan,yfortan)\n",
    "    Eang=np.arctan2(yfortan,xfortan)\n",
    "    Eangtheta=2*np.arctan2(np.sqrt(1-ecc)*np.sin(theta/2.),np.sqrt(1+ecc)*np.cos(theta/2.))\n",
    "    Eang-=Eangtheta\n",
    "    #if useperihelion:\n",
    "    #    Eang-=math.pi\n",
    "    print(len(Eang))\n",
    "    for i in np.arange(len(Eang)):\n",
    "        #if xfortan[i]<0:\n",
    "        #    Eang[i]+=math.pi\n",
    "        if Eang[i]<0:\n",
    "            Eang[i]+=2*math.pi\n",
    "    print(xfortan,yfortan,Eang/math.pi*180)\n",
    "    print(\"Eang\",Eang)\n",
    "    return xfortan, yfortan,Eang"
   ]
  },
  {
   "cell_type": "code",
   "execution_count": 58,
   "metadata": {},
   "outputs": [
    {
     "data": {
      "text/plain": [
       "-3.1412939168636456"
      ]
     },
     "execution_count": 58,
     "metadata": {},
     "output_type": "execute_result"
    }
   ],
   "source": [
    "np.arctan2(-6.69327422*10**-6, -0.02240526)"
   ]
  },
  {
   "cell_type": "code",
   "execution_count": 59,
   "metadata": {},
   "outputs": [],
   "source": [
    "def xofeccanom(rad,Eang,ecc):\n",
    "    return rad*(np.cos(Eang)+ecc)"
   ]
  },
  {
   "cell_type": "code",
   "execution_count": 60,
   "metadata": {},
   "outputs": [],
   "source": [
    "def yofeccanom(rad, Eang, ecc):\n",
    "    b=getsemiminor(rad,ecc)\n",
    "    return b*np.sin(Eang) "
   ]
  },
  {
   "cell_type": "code",
   "execution_count": 61,
   "metadata": {},
   "outputs": [],
   "source": [
    "def tofEccAnom(npstar2x, rad,ecc,theta,mass, useperihelion):\n",
    "    xE0,yE0,Eang=getEang(npstar2x,ecc,rad,theta, useperihelion)\n",
    "    b=getsemiminor(rad,ecc)\n",
    "    #fitval=rad*b*(Eang-ecc*np.sin(Eang))\n",
    "    sgn=-1\n",
    "    if useperihelion:\n",
    "        sgn*=-1\n",
    "    # added a factor of 2 in front of fitval\n",
    "    fitval=rad**(1.5)*mass**(-.5)*(Eang-sgn*ecc*np.sin(Eang))\n",
    "    fitval*=2\n",
    "    print(Eang, ecc,rad,mass,fitval)\n",
    "    return fitval"
   ]
  },
  {
   "cell_type": "code",
   "execution_count": 62,
   "metadata": {},
   "outputs": [],
   "source": [
    "def residualtEang(pars,nptimes,npstar2x):\n",
    "    residual=np.abs(nptimes-tofEccAnom(npstar2x,pars['rad'],pars['ecc'],pars['theta'],pars['mass'],pars['useperihelion']))\n",
    "    #print(nptimes, residual)\n",
    "    return residual"
   ]
  },
  {
   "cell_type": "code",
   "execution_count": 63,
   "metadata": {},
   "outputs": [],
   "source": [
    "endindex=apindex\n",
    "if useperihelion:\n",
    "    endindex=perindex"
   ]
  },
  {
   "cell_type": "code",
   "execution_count": 64,
   "metadata": {},
   "outputs": [
    {
     "data": {
      "text/plain": [
       "44429"
      ]
     },
     "execution_count": 64,
     "metadata": {},
     "output_type": "execute_result"
    }
   ],
   "source": [
    "endindex"
   ]
  },
  {
   "cell_type": "code",
   "execution_count": 65,
   "metadata": {},
   "outputs": [
    {
     "name": "stdout",
     "output_type": "stream",
     "text": [
      "44428\n",
      "[50.         49.999998   49.999992   ... 49.99997067 49.99998399\n",
      " 49.99999331] [ 0.          0.01224745  0.02449489 ... -0.04690014 -0.0346527\n",
      " -0.02240526] [0.00000000e+00 1.40345423e-02 2.80690841e-02 ... 3.59946256e+02\n",
      " 3.59960291e+02 3.59974325e+02]\n",
      "Eang [0.00000000e+00 2.44948973e-04 4.89897935e-04 ... 6.28224730e+00\n",
      " 6.28249225e+00 6.28273720e+00]\n"
     ]
    }
   ],
   "source": [
    "xE0,yE0,Eang0=getEang(npstar2x[0:endindex-1,:],ecc0,rad0,theta0, useperihelion)"
   ]
  },
  {
   "cell_type": "code",
   "execution_count": 66,
   "metadata": {},
   "outputs": [],
   "source": [
    "nptimesoneorbit=nptimes[0:endindex-1]"
   ]
  },
  {
   "cell_type": "code",
   "execution_count": 67,
   "metadata": {},
   "outputs": [
    {
     "data": {
      "text/plain": [
       "[<matplotlib.lines.Line2D at 0x7f075c4ada90>]"
      ]
     },
     "execution_count": 67,
     "metadata": {},
     "output_type": "execute_result"
    },
    {
     "data": {
      "image/png": "[encoded data removed]",
      "text/plain": [
       "<Figure size 432x288 with 1 Axes>"
      ]
     },
     "metadata": {
      "needs_background": "light"
     },
     "output_type": "display_data"
    }
   ],
   "source": [
    "plt.plot(Eang0, xE0)"
   ]
  },
  {
   "cell_type": "code",
   "execution_count": 68,
   "metadata": {},
   "outputs": [
    {
     "data": {
      "text/plain": [
       "[<matplotlib.lines.Line2D at 0x7f075c474a90>]"
      ]
     },
     "execution_count": 68,
     "metadata": {},
     "output_type": "execute_result"
    },
    {
     "data": {
      "image/png": "[encoded data removed]",
      "text/plain": [
       "<Figure size 432x288 with 1 Axes>"
      ]
     },
     "metadata": {
      "needs_background": "light"
     },
     "output_type": "display_data"
    }
   ],
   "source": [
    "plt.plot(Eang0, yE0)"
   ]
  },
  {
   "cell_type": "code",
   "execution_count": 69,
   "metadata": {},
   "outputs": [
    {
     "data": {
      "text/plain": [
       "[<matplotlib.lines.Line2D at 0x7f075c44f4f0>]"
      ]
     },
     "execution_count": 69,
     "metadata": {},
     "output_type": "execute_result"
    },
    {
     "data": {
      "image/png": "[encoded data removed]",
      "text/plain": [
       "<Figure size 432x288 with 1 Axes>"
      ]
     },
     "metadata": {
      "needs_background": "light"
     },
     "output_type": "display_data"
    }
   ],
   "source": [
    "plt.plot(xE0,yE0)"
   ]
  },
  {
   "cell_type": "code",
   "execution_count": 70,
   "metadata": {},
   "outputs": [
    {
     "data": {
      "text/plain": [
       "[<matplotlib.lines.Line2D at 0x7f075c3a3280>]"
      ]
     },
     "execution_count": 70,
     "metadata": {},
     "output_type": "execute_result"
    },
    {
     "data": {
      "image/png": "[encoded data removed]",
      "text/plain": [
       "<Figure size 432x288 with 1 Axes>"
      ]
     },
     "metadata": {
      "needs_background": "light"
     },
     "output_type": "display_data"
    }
   ],
   "source": [
    "plt.plot(nptimesoneorbit,xE0)"
   ]
  },
  {
   "cell_type": "code",
   "execution_count": 71,
   "metadata": {},
   "outputs": [
    {
     "data": {
      "text/plain": [
       "[<matplotlib.lines.Line2D at 0x7f075c3761c0>]"
      ]
     },
     "execution_count": 71,
     "metadata": {},
     "output_type": "execute_result"
    },
    {
     "data": {
      "image/png": "[encoded data removed]",
      "text/plain": [
       "<Figure size 432x288 with 1 Axes>"
      ]
     },
     "metadata": {
      "needs_background": "light"
     },
     "output_type": "display_data"
    }
   ],
   "source": [
    "plt.plot(nptimesoneorbit,yE0)"
   ]
  },
  {
   "cell_type": "code",
   "execution_count": 72,
   "metadata": {},
   "outputs": [
    {
     "data": {
      "text/plain": [
       "[<matplotlib.lines.Line2D at 0x7f075c414880>]"
      ]
     },
     "execution_count": 72,
     "metadata": {},
     "output_type": "execute_result"
    },
    {
     "data": {
      "image/png": "[encoded data removed]",
      "text/plain": [
       "<Figure size 432x288 with 1 Axes>"
      ]
     },
     "metadata": {
      "needs_background": "light"
     },
     "output_type": "display_data"
    }
   ],
   "source": [
    "plt.plot(nptimesoneorbit,yE0/xE0)"
   ]
  },
  {
   "cell_type": "code",
   "execution_count": 73,
   "metadata": {},
   "outputs": [
    {
     "data": {
      "text/plain": [
       "0.0"
      ]
     },
     "execution_count": 73,
     "metadata": {},
     "output_type": "execute_result"
    }
   ],
   "source": [
    "np.arctan(0./1.)"
   ]
  },
  {
   "cell_type": "code",
   "execution_count": 74,
   "metadata": {},
   "outputs": [
    {
     "data": {
      "text/plain": [
       "0.0"
      ]
     },
     "execution_count": 74,
     "metadata": {},
     "output_type": "execute_result"
    }
   ],
   "source": [
    "yE0[0]"
   ]
  },
  {
   "cell_type": "code",
   "execution_count": 75,
   "metadata": {},
   "outputs": [
    {
     "data": {
      "text/plain": [
       "50.0"
      ]
     },
     "execution_count": 75,
     "metadata": {},
     "output_type": "execute_result"
    }
   ],
   "source": [
    "xE0[0]"
   ]
  },
  {
   "cell_type": "code",
   "execution_count": 76,
   "metadata": {},
   "outputs": [
    {
     "data": {
      "text/plain": [
       "[<matplotlib.lines.Line2D at 0x7f075c4dd220>]"
      ]
     },
     "execution_count": 76,
     "metadata": {},
     "output_type": "execute_result"
    },
    {
     "data": {
      "image/png": "[encoded data removed]",
      "text/plain": [
       "<Figure size 432x288 with 1 Axes>"
      ]
     },
     "metadata": {
      "needs_background": "light"
     },
     "output_type": "display_data"
    }
   ],
   "source": [
    "plt.plot(nptimesoneorbit,np.arctan2(yE0,xE0)*180/math.pi)"
   ]
  },
  {
   "cell_type": "code",
   "execution_count": 77,
   "metadata": {},
   "outputs": [
    {
     "name": "stdout",
     "output_type": "stream",
     "text": [
      "44428\n",
      "[50.         49.999998   49.999992   ... 49.99997067 49.99998399\n",
      " 49.99999331] [ 0.          0.01224745  0.02449489 ... -0.04690014 -0.0346527\n",
      " -0.02240526] [0.00000000e+00 1.40345423e-02 2.80690841e-02 ... 3.59946256e+02\n",
      " 3.59960291e+02 3.59974325e+02]\n",
      "Eang [0.00000000e+00 2.44948973e-04 4.89897935e-04 ... 6.28224730e+00\n",
      " 6.28249225e+00 6.28273720e+00]\n",
      "[0.00000000e+00 2.44948973e-04 4.89897935e-04 ... 6.28224730e+00\n",
      " 6.28249225e+00 6.28273720e+00] 0.5 50 1.0 [0.00000000e+00 8.66025407e-02 1.73205083e-01 ... 4.44255130e+03\n",
      " 4.44263791e+03 4.44272451e+03]\n"
     ]
    }
   ],
   "source": [
    "Eangtest=tofEccAnom(npstar2x[0:endindex-1,:],rad0,ecc0,theta0,masses[0], useperihelion)"
   ]
  },
  {
   "cell_type": "code",
   "execution_count": 78,
   "metadata": {},
   "outputs": [
    {
     "data": {
      "text/plain": [
       "4442.724509064325"
      ]
     },
     "execution_count": 78,
     "metadata": {},
     "output_type": "execute_result"
    }
   ],
   "source": [
    "np.max(Eangtest)"
   ]
  },
  {
   "cell_type": "code",
   "execution_count": 79,
   "metadata": {},
   "outputs": [
    {
     "data": {
      "text/plain": [
       "0.0"
      ]
     },
     "execution_count": 79,
     "metadata": {},
     "output_type": "execute_result"
    }
   ],
   "source": [
    "nptimes[0]"
   ]
  },
  {
   "cell_type": "code",
   "execution_count": 80,
   "metadata": {},
   "outputs": [],
   "source": [
    "nptimesoneorbit=nptimes[0:endindex-1]"
   ]
  },
  {
   "cell_type": "code",
   "execution_count": 81,
   "metadata": {},
   "outputs": [],
   "source": [
    "tpredoneorbit=Eangtest[0:endindex-1]"
   ]
  },
  {
   "cell_type": "code",
   "execution_count": 82,
   "metadata": {},
   "outputs": [],
   "source": [
    "Eangoneorbit=Eang0[0:endindex-1]"
   ]
  },
  {
   "cell_type": "code",
   "execution_count": 83,
   "metadata": {},
   "outputs": [
    {
     "data": {
      "text/plain": [
       "[<matplotlib.lines.Line2D at 0x7f075c5570d0>]"
      ]
     },
     "execution_count": 83,
     "metadata": {},
     "output_type": "execute_result"
    },
    {
     "data": {
      "image/png": "[encoded data removed]",
      "text/plain": [
       "<Figure size 432x288 with 1 Axes>"
      ]
     },
     "metadata": {
      "needs_background": "light"
     },
     "output_type": "display_data"
    }
   ],
   "source": [
    "plt.plot(nptimesoneorbit,npstar2x[0:endindex-1,1])"
   ]
  },
  {
   "cell_type": "code",
   "execution_count": 84,
   "metadata": {},
   "outputs": [
    {
     "data": {
      "text/plain": [
       "[<matplotlib.lines.Line2D at 0x7f075c839760>]"
      ]
     },
     "execution_count": 84,
     "metadata": {},
     "output_type": "execute_result"
    },
    {
     "data": {
      "image/png": "[encoded data removed]",
      "text/plain": [
       "<Figure size 432x288 with 1 Axes>"
      ]
     },
     "metadata": {
      "needs_background": "light"
     },
     "output_type": "display_data"
    }
   ],
   "source": [
    "plt.plot(nptimesoneorbit,Eangoneorbit/math.pi*180)"
   ]
  },
  {
   "cell_type": "code",
   "execution_count": 85,
   "metadata": {},
   "outputs": [
    {
     "data": {
      "text/plain": [
       "[<matplotlib.lines.Line2D at 0x7f075e927640>]"
      ]
     },
     "execution_count": 85,
     "metadata": {},
     "output_type": "execute_result"
    },
    {
     "data": {
      "image/png": "[encoded data removed]",
      "text/plain": [
       "<Figure size 432x288 with 1 Axes>"
      ]
     },
     "metadata": {
      "needs_background": "light"
     },
     "output_type": "display_data"
    }
   ],
   "source": [
    "plt.plot(nptimesoneorbit,tpredoneorbit)"
   ]
  },
  {
   "cell_type": "code",
   "execution_count": 86,
   "metadata": {},
   "outputs": [
    {
     "data": {
      "image/png": "[encoded data removed]",
      "text/plain": [
       "<Figure size 432x288 with 1 Axes>"
      ]
     },
     "metadata": {
      "needs_background": "light"
     },
     "output_type": "display_data"
    },
    {
     "data": {
      "image/png": "[encoded data removed]",
      "text/plain": [
       "<Figure size 432x288 with 1 Axes>"
      ]
     },
     "metadata": {
      "needs_background": "light"
     },
     "output_type": "display_data"
    }
   ],
   "source": [
    "plt.plot(nptimesoneorbit,tpredoneorbit, label='times')\n",
    "plt.xlabel(\"T timesteps\")\n",
    "plt.ylabel(\"T computed from angle\")\n",
    "plt.title(\"Times using start parameters\")\n",
    "plt.show()\n",
    "plt.plot(nptimesoneorbit,tpredoneorbit-nptimesoneorbit, label='residual')\n",
    "plt.legend()\n",
    "plt.show()\n"
   ]
  },
  {
   "cell_type": "markdown",
   "metadata": {},
   "source": [
    "# THERE IS A SECOND HARMONIC IN THIS TIMING DATA!!! I have heard of orbital resonances. Is that what I am seeing?"
   ]
  },
  {
   "cell_type": "code",
   "execution_count": 87,
   "metadata": {},
   "outputs": [],
   "source": [
    "from matplotlib import pyplot as plt"
   ]
  },
  {
   "cell_type": "markdown",
   "metadata": {},
   "source": [
    "Arctan function is giving tangent output. I'm done for today. I'm asking for help on this, either Steve or on a forum. Clearly something really weird is going on. This is a distinct problem from the retrograde motion I had before I fixed the center, which you can tell from the sharply spiked top as opposed to the curved top I had before. Now the center appears to be in the correct location but there is some problem related to tangent versus arctangent. "
   ]
  },
  {
   "cell_type": "code",
   "execution_count": 88,
   "metadata": {},
   "outputs": [
    {
     "data": {
      "text/plain": [
       "<matplotlib.collections.PathCollection at 0x7f075c26d7f0>"
      ]
     },
     "execution_count": 88,
     "metadata": {},
     "output_type": "execute_result"
    },
    {
     "data": {
      "image/png": "[encoded data removed]",
      "text/plain": [
       "<Figure size 432x288 with 1 Axes>"
      ]
     },
     "metadata": {
      "needs_background": "light"
     },
     "output_type": "display_data"
    }
   ],
   "source": [
    "plt.scatter(nptimesoneorbit,tpredoneorbit)"
   ]
  },
  {
   "cell_type": "markdown",
   "metadata": {},
   "source": [
    "Retrograde motion as seen from the center of mass. I'm not sure that makes sense. So there's a problem with the definition of the Eang. The problem might be with the ellipse center, which probably shouldn't be at x=-70, if it spans between +5 and -95. "
   ]
  },
  {
   "cell_type": "code",
   "execution_count": 89,
   "metadata": {},
   "outputs": [
    {
     "name": "stdout",
     "output_type": "stream",
     "text": [
      "44428\n",
      "[50.         49.999998   49.999992   ... 49.99997067 49.99998399\n",
      " 49.99999331] [ 0.          0.01224745  0.02449489 ... -0.04690014 -0.0346527\n",
      " -0.02240526] [0.00000000e+00 1.40345423e-02 2.80690841e-02 ... 3.59946256e+02\n",
      " 3.59960291e+02 3.59974325e+02]\n",
      "Eang [0.00000000e+00 2.44948973e-04 4.89897935e-04 ... 6.28224730e+00\n",
      " 6.28249225e+00 6.28273720e+00]\n",
      "[0.00000000e+00 2.44948973e-04 4.89897935e-04 ... 6.28224730e+00\n",
      " 6.28249225e+00 6.28273720e+00] <Parameter 'ecc', value=0.5, bounds=[0:1.0]> <Parameter 'rad', value=50.0, bounds=[0:inf]> <Parameter 'mass', value=1.0 (fixed), bounds=[-inf:inf]> [0.00000000e+00 8.66025407e-02 1.73205083e-01 ... 4.44255130e+03\n",
      " 4.44263791e+03 4.44272451e+03]\n",
      "44428\n",
      "[50.         49.999998   49.999992   ... 49.99997067 49.99998399\n",
      " 49.99999331] [ 0.          0.01224745  0.02449489 ... -0.04690014 -0.0346527\n",
      " -0.02240526] [0.00000000e+00 1.40345423e-02 2.80690841e-02 ... 3.59946256e+02\n",
      " 3.59960291e+02 3.59974325e+02]\n",
      "Eang [0.00000000e+00 2.44948973e-04 4.89897935e-04 ... 6.28224730e+00\n",
      " 6.28249225e+00 6.28273720e+00]\n",
      "[0.00000000e+00 2.44948973e-04 4.89897935e-04 ... 6.28224730e+00\n",
      " 6.28249225e+00 6.28273720e+00] <Parameter 'ecc', value=0.5, bounds=[0:1.0]> <Parameter 'rad', value=50.0, bounds=[0:inf]> <Parameter 'mass', value=1.0 (fixed), bounds=[-inf:inf]> [0.00000000e+00 8.66025407e-02 1.73205083e-01 ... 4.44255130e+03\n",
      " 4.44263791e+03 4.44272451e+03]\n",
      "44428\n",
      "[50.         49.999998   49.999992   ... 49.99997067 49.99998399\n",
      " 49.99999331] [ 0.          0.01224745  0.02449489 ... -0.04690014 -0.0346527\n",
      " -0.02240526] [0.00000000e+00 1.40345423e-02 2.80690841e-02 ... 3.59946256e+02\n",
      " 3.59960291e+02 3.59974325e+02]\n",
      "Eang [0.00000000e+00 2.44948973e-04 4.89897935e-04 ... 6.28224730e+00\n",
      " 6.28249225e+00 6.28273720e+00]\n",
      "[0.00000000e+00 2.44948973e-04 4.89897935e-04 ... 6.28224730e+00\n",
      " 6.28249225e+00 6.28273720e+00] <Parameter 'ecc', value=0.5, bounds=[0:1.0]> <Parameter 'rad', value=50.0, bounds=[0:inf]> <Parameter 'mass', value=1.0 (fixed), bounds=[-inf:inf]> [0.00000000e+00 8.66025407e-02 1.73205083e-01 ... 4.44255130e+03\n",
      " 4.44263791e+03 4.44272451e+03]\n",
      "44428\n",
      "[50.         49.999998   49.999992   ... 49.99997067 49.99998399\n",
      " 49.99999331] [ 1.17033446e-06  1.22486187e-02  2.44960651e-02 ... -4.68989659e-02\n",
      " -3.46515281e-02 -2.24040848e-02] [3.60000000e+02 1.40343349e-02 2.80688766e-02 ... 3.59946256e+02\n",
      " 3.59960291e+02 3.59974325e+02]\n",
      "Eang [6.28318530e+00 2.44945352e-04 4.89894314e-04 ... 6.28224730e+00\n",
      " 6.28249225e+00 6.28273720e+00]\n",
      "[6.28318530e+00 2.44945352e-04 4.89894314e-04 ... 6.28224730e+00\n",
      " 6.28249225e+00 6.28273720e+00] <Parameter 'ecc', value=0.5, bounds=[0:1.0]> <Parameter 'rad', value=50.0, bounds=[0:inf]> <Parameter 'mass', value=1.0 (fixed), bounds=[-inf:inf]> [4.44288294e+03 8.66012604e-02 1.73203803e-01 ... 4.44255130e+03\n",
      " 4.44263791e+03 4.44272451e+03]\n",
      "44428\n",
      "[50.00000038 49.99999838 49.99999238 ... 49.99997105 49.99998437\n",
      " 49.99999369] [ 0.          0.01224745  0.02449489 ... -0.04690014 -0.0346527\n",
      " -0.02240526] [0.00000000e+00 1.40345422e-02 2.80690839e-02 ... 3.59946256e+02\n",
      " 3.59960291e+02 3.59974325e+02]\n",
      "Eang [0.00000000e+00 2.44948971e-04 4.89897932e-04 ... 6.28224730e+00\n",
      " 6.28249225e+00 6.28273720e+00]\n",
      "[0.00000000e+00 2.44948971e-04 4.89897932e-04 ... 6.28224730e+00\n",
      " 6.28249225e+00 6.28273720e+00] <Parameter 'ecc', value=0.5, bounds=[0:1.0]> <Parameter 'rad', value=50.000000759667046, bounds=[0:inf]> <Parameter 'mass', value=1.0 (fixed), bounds=[-inf:inf]> [0.00000000e+00 8.66025420e-02 1.73205086e-01 ... 4.44255141e+03\n",
      " 4.44263801e+03 4.44272461e+03]\n",
      "44428\n",
      "[50.00000037 49.99999837 49.99999237 ... 49.99997104 49.99998436\n",
      " 49.99999368] [ 0.          0.01224745  0.02449489 ... -0.04690014 -0.0346527\n",
      " -0.02240526] [0.00000000e+00 1.40345422e-02 2.80690839e-02 ... 3.59946256e+02\n",
      " 3.59960291e+02 3.59974325e+02]\n",
      "Eang [0.00000000e+00 2.44948971e-04 4.89897932e-04 ... 6.28224730e+00\n",
      " 6.28249225e+00 6.28273720e+00]\n",
      "[0.00000000e+00 2.44948971e-04 4.89897932e-04 ... 6.28224730e+00\n",
      " 6.28249225e+00 6.28273720e+00] <Parameter 'ecc', value=0.5000000074505806, bounds=[0:1.0]> <Parameter 'rad', value=50.0, bounds=[0:inf]> <Parameter 'mass', value=1.0 (fixed), bounds=[-inf:inf]> [0.00000000e+00 8.66025387e-02 1.73205079e-01 ... 4.44255130e+03\n",
      " 4.44263791e+03 4.44272451e+03]\n",
      "44428\n",
      "[51.14253001 51.14252801 51.14252201 ... 51.14250069 51.142514\n",
      " 51.14252332] [-5.34042313e-13  1.22474484e-02  2.44948948e-02 ... -4.69001362e-02\n",
      " -3.46526984e-02 -2.24052551e-02] [5.59653822e-14 1.37210090e-02 2.74420175e-02 ... 3.59947457e+02\n",
      " 3.59961178e+02 3.59974899e+02]\n",
      "Eang [9.76780186e-16 2.39476784e-04 4.78953559e-04 ... 6.28226826e+00\n",
      " 6.28250774e+00 6.28274721e+00]\n",
      "[9.76780186e-16 2.39476784e-04 4.78953559e-04 ... 6.28226826e+00\n",
      " 6.28250774e+00 6.28274721e+00] <Parameter 'ecc', value=0.5238503172967668, bounds=[0:1.0]> <Parameter 'rad', value=49.90457989778409, bounds=[0:inf]> <Parameter 'mass', value=1.0 (fixed), bounds=[-inf:inf]> [3.27929844e-13 8.03984217e-02 1.60796845e-01 ... 4.42986292e+03\n",
      " 4.42994332e+03 4.43002372e+03]\n",
      "44428\n",
      "[51.14253001 51.14252801 51.14252201 ... 51.14250069 51.142514\n",
      " 51.14252332] [-5.34042313e-13  1.22474484e-02  2.44948948e-02 ... -4.69001362e-02\n",
      " -3.46526984e-02 -2.24052551e-02] [5.59653822e-14 1.37210090e-02 2.74420175e-02 ... 3.59947457e+02\n",
      " 3.59961178e+02 3.59974899e+02]\n",
      "Eang [9.76780186e-16 2.39476784e-04 4.78953559e-04 ... 6.28226826e+00\n",
      " 6.28250774e+00 6.28274721e+00]\n",
      "[9.76780186e-16 2.39476784e-04 4.78953559e-04 ... 6.28226826e+00\n",
      " 6.28250774e+00 6.28274721e+00] <Parameter 'ecc', value=0.5238503172967668, bounds=[0:1.0]> <Parameter 'rad', value=49.90457989778409, bounds=[0:inf]> <Parameter 'mass', value=1.0 (fixed), bounds=[-inf:inf]> [3.27929844e-13 8.03984217e-02 1.60796845e-01 ... 4.42986292e+03\n",
      " 4.42994332e+03 4.43002372e+03]\n",
      "44428\n",
      "[51.14253041 51.14252841 51.14252241 ... 51.14250108 51.1425144\n",
      " 51.14252372] [-5.34042321e-13  1.22474484e-02  2.44948948e-02 ... -4.69001362e-02\n",
      " -3.46526984e-02 -2.24052551e-02] [5.59653777e-14 1.37210089e-02 2.74420173e-02 ... 3.59947457e+02\n",
      " 3.59961178e+02 3.59974899e+02]\n",
      "Eang [9.76780109e-16 2.39476783e-04 4.78953555e-04 ... 6.28226826e+00\n",
      " 6.28250774e+00 6.28274721e+00]\n",
      "[9.76780109e-16 2.39476783e-04 4.78953555e-04 ... 6.28226826e+00\n",
      " 6.28250774e+00 6.28274721e+00] <Parameter 'ecc', value=0.5238503172967668, bounds=[0:1.0]> <Parameter 'rad', value=49.90458065602871, bounds=[0:inf]> <Parameter 'mass', value=1.0 (fixed), bounds=[-inf:inf]> [3.27929825e-13 8.03984229e-02 1.60796848e-01 ... 4.42986302e+03\n",
      " 4.42994342e+03 4.43002382e+03]\n",
      "44428\n",
      "[51.14253003 51.14252803 51.14252203 ... 51.1425007  51.14251402\n",
      " 51.14252334] [-5.34042313e-13  1.22474484e-02  2.44948948e-02 ... -4.69001362e-02\n",
      " -3.46526984e-02 -2.24052551e-02] [5.59653817e-14 1.37210090e-02 2.74420175e-02 ... 3.59947457e+02\n",
      " 3.59961178e+02 3.59974899e+02]\n",
      "Eang [9.76780177e-16 2.39476784e-04 4.78953559e-04 ... 6.28226826e+00\n",
      " 6.28250774e+00 6.28274721e+00]\n",
      "[9.76780177e-16 2.39476784e-04 4.78953559e-04 ... 6.28226826e+00\n",
      " 6.28250774e+00 6.28274721e+00] <Parameter 'ecc', value=0.5238503176518945, bounds=[0:1.0]> <Parameter 'rad', value=49.90457989778409, bounds=[0:inf]> <Parameter 'mass', value=1.0 (fixed), bounds=[-inf:inf]> [3.27929841e-13 8.03984217e-02 1.60796845e-01 ... 4.42986292e+03\n",
      " 4.42994332e+03 4.43002372e+03]\n",
      "44428\n",
      "[51.18790693 51.18790493 51.18789893 ... 51.1878776  51.18789092\n",
      " 51.18790024] [-5.34969277e-13  1.22474484e-02  2.44948948e-02 ... -4.69001362e-02\n",
      " -3.46526984e-02 -2.24052551e-02] [5.46008166e-14 1.37088457e-02 2.74176908e-02 ... 3.59947504e+02\n",
      " 3.59961212e+02 3.59974921e+02]\n",
      "Eang [9.52964024e-16 2.39264494e-04 4.78528978e-04 ... 6.28226907e+00\n",
      " 6.28250834e+00 6.28274760e+00]\n",
      "[9.52964024e-16 2.39264494e-04 4.78528978e-04 ... 6.28226907e+00\n",
      " 6.28250834e+00 6.28274760e+00] <Parameter 'ecc', value=0.5248011162568158, bounds=[0:1.0]> <Parameter 'rad', value=49.90063115066929, bounds=[0:inf]> <Parameter 'mass', value=1.0 (fixed), bounds=[-inf:inf]> [3.19257399e-13 8.01572345e-02 1.60314471e-01 ... 4.42933804e+03\n",
      " 4.42941820e+03 4.42949836e+03]\n",
      "44428\n",
      "[51.18790693 51.18790493 51.18789893 ... 51.1878776  51.18789092\n",
      " 51.18790024] [-5.34969277e-13  1.22474484e-02  2.44948948e-02 ... -4.69001362e-02\n",
      " -3.46526984e-02 -2.24052551e-02] [5.46008166e-14 1.37088457e-02 2.74176908e-02 ... 3.59947504e+02\n",
      " 3.59961212e+02 3.59974921e+02]\n",
      "Eang [9.52964024e-16 2.39264494e-04 4.78528978e-04 ... 6.28226907e+00\n",
      " 6.28250834e+00 6.28274760e+00]\n",
      "[9.52964024e-16 2.39264494e-04 4.78528978e-04 ... 6.28226907e+00\n",
      " 6.28250834e+00 6.28274760e+00] <Parameter 'ecc', value=0.5248011162568158, bounds=[0:1.0]> <Parameter 'rad', value=49.90063115066929, bounds=[0:inf]> <Parameter 'mass', value=1.0 (fixed), bounds=[-inf:inf]> [3.19257399e-13 8.01572345e-02 1.60314471e-01 ... 4.42933804e+03\n",
      " 4.42941820e+03 4.42949836e+03]\n",
      "44428\n",
      "[51.18790733 51.18790533 51.18789933 ... 51.187878   51.18789132\n",
      " 51.18790063] [-5.34969285e-13  1.22474484e-02  2.44948948e-02 ... -4.69001362e-02\n",
      " -3.46526984e-02 -2.24052551e-02] [5.46008121e-14 1.37088456e-02 2.74176906e-02 ... 3.59947504e+02\n",
      " 3.59961212e+02 3.59974921e+02]\n",
      "Eang [9.52963946e-16 2.39264492e-04 4.78528974e-04 ... 6.28226907e+00\n",
      " 6.28250834e+00 6.28274760e+00]\n",
      "[9.52963946e-16 2.39264492e-04 4.78528974e-04 ... 6.28226907e+00\n",
      " 6.28250834e+00 6.28274760e+00] <Parameter 'ecc', value=0.5248011162568158, bounds=[0:1.0]> <Parameter 'rad', value=49.900631908855054, bounds=[0:inf]> <Parameter 'mass', value=1.0 (fixed), bounds=[-inf:inf]> [3.19257380e-13 8.01572357e-02 1.60314473e-01 ... 4.42933814e+03\n",
      " 4.42941830e+03 4.42949846e+03]\n",
      "44428\n",
      "[51.18790695 51.18790495 51.18789895 ... 51.18787762 51.18789094\n",
      " 51.18790025] [-5.34969278e-13  1.22474484e-02  2.44948948e-02 ... -4.69001362e-02\n",
      " -3.46526984e-02 -2.24052551e-02] [5.46008160e-14 1.37088457e-02 2.74176908e-02 ... 3.59947504e+02\n",
      " 3.59961212e+02 3.59974921e+02]\n",
      "Eang [9.52964014e-16 2.39264494e-04 4.78528978e-04 ... 6.28226907e+00\n",
      " 6.28250834e+00 6.28274760e+00]\n",
      "[9.52964014e-16 2.39264494e-04 4.78528978e-04 ... 6.28226907e+00\n",
      " 6.28250834e+00 6.28274760e+00] <Parameter 'ecc', value=0.5248011166260778, bounds=[0:1.0]> <Parameter 'rad', value=49.90063115066929, bounds=[0:inf]> <Parameter 'mass', value=1.0 (fixed), bounds=[-inf:inf]> [3.19257395e-13 8.01572344e-02 1.60314471e-01 ... 4.42933804e+03\n",
      " 4.42941820e+03 4.42949836e+03]\n",
      "44428\n",
      "[51.18972009 51.18971809 51.18971209 ... 51.18969076 51.18970408\n",
      " 51.18971339] [-5.35006317e-13  1.22474484e-02  2.44948948e-02 ... -4.69001362e-02\n",
      " -3.46526984e-02 -2.24052551e-02] [5.45460153e-14 1.37083601e-02 2.74167197e-02 ... 3.59947505e+02\n",
      " 3.59961214e+02 3.59974922e+02]\n",
      "Eang [9.52007561e-16 2.39256019e-04 4.78512028e-04 ... 6.28226910e+00\n",
      " 6.28250836e+00 6.28274762e+00]\n",
      "[9.52007561e-16 2.39256019e-04 4.78512028e-04 ... 6.28226910e+00\n",
      " 6.28250836e+00 6.28274762e+00] <Parameter 'ecc', value=0.5248394339111238, bounds=[0:1.0]> <Parameter 'rad', value=49.90044267908916, bounds=[0:inf]> <Parameter 'mass', value=1.0 (fixed), bounds=[-inf:inf]> [3.18909445e-13 8.01474780e-02 1.60294958e-01 ... 4.42931298e+03\n",
      " 4.42939313e+03 4.42947328e+03]\n",
      "44428\n"
     ]
    },
    {
     "name": "stdout",
     "output_type": "stream",
     "text": [
      "[51.18972009 51.18971809 51.18971209 ... 51.18969076 51.18970408\n",
      " 51.18971339] [-5.35006317e-13  1.22474484e-02  2.44948948e-02 ... -4.69001362e-02\n",
      " -3.46526984e-02 -2.24052551e-02] [5.45460153e-14 1.37083601e-02 2.74167197e-02 ... 3.59947505e+02\n",
      " 3.59961214e+02 3.59974922e+02]\n",
      "Eang [9.52007561e-16 2.39256019e-04 4.78512028e-04 ... 6.28226910e+00\n",
      " 6.28250836e+00 6.28274762e+00]\n",
      "[9.52007561e-16 2.39256019e-04 4.78512028e-04 ... 6.28226910e+00\n",
      " 6.28250836e+00 6.28274762e+00] <Parameter 'ecc', value=0.5248394339111238, bounds=[0:1.0]> <Parameter 'rad', value=49.90044267908916, bounds=[0:inf]> <Parameter 'mass', value=1.0 (fixed), bounds=[-inf:inf]> [3.18909445e-13 8.01474780e-02 1.60294958e-01 ... 4.42931298e+03\n",
      " 4.42939313e+03 4.42947328e+03]\n",
      "44428\n",
      "[51.18972049 51.18971849 51.18971249 ... 51.18969116 51.18970447\n",
      " 51.18971379] [-5.35006325e-13  1.22474484e-02  2.44948948e-02 ... -4.69001362e-02\n",
      " -3.46526984e-02 -2.24052551e-02] [5.45460109e-14 1.37083600e-02 2.74167194e-02 ... 3.59947505e+02\n",
      " 3.59961214e+02 3.59974922e+02]\n",
      "Eang [9.52007483e-16 2.39256017e-04 4.78512024e-04 ... 6.28226910e+00\n",
      " 6.28250836e+00 6.28274762e+00]\n",
      "[9.52007483e-16 2.39256017e-04 4.78512024e-04 ... 6.28226910e+00\n",
      " 6.28250836e+00 6.28274762e+00] <Parameter 'ecc', value=0.5248394339111238, bounds=[0:1.0]> <Parameter 'rad', value=49.900443437272116, bounds=[0:inf]> <Parameter 'mass', value=1.0 (fixed), bounds=[-inf:inf]> [3.18909426e-13 8.01474792e-02 1.60294960e-01 ... 4.42931309e+03\n",
      " 4.42939323e+03 4.42947338e+03]\n",
      "44428\n",
      "[51.18972011 51.18971811 51.18971211 ... 51.18969078 51.1897041\n",
      " 51.18971341] [-5.35006317e-13  1.22474484e-02  2.44948948e-02 ... -4.69001362e-02\n",
      " -3.46526984e-02 -2.24052551e-02] [5.45460148e-14 1.37083601e-02 2.74167196e-02 ... 3.59947505e+02\n",
      " 3.59961214e+02 3.59974922e+02]\n",
      "Eang [9.52007552e-16 2.39256019e-04 4.78512028e-04 ... 6.28226910e+00\n",
      " 6.28250836e+00 6.28274762e+00]\n",
      "[9.52007552e-16 2.39256019e-04 4.78512028e-04 ... 6.28226910e+00\n",
      " 6.28250836e+00 6.28274762e+00] <Parameter 'ecc', value=0.5248394342809554, bounds=[0:1.0]> <Parameter 'rad', value=49.90044267908916, bounds=[0:inf]> <Parameter 'mass', value=1.0 (fixed), bounds=[-inf:inf]> [3.18909442e-13 8.01474779e-02 1.60294958e-01 ... 4.42931298e+03\n",
      " 4.42939313e+03 4.42947328e+03]\n",
      "44428\n",
      "[51.18979262 51.18979062 51.18978462 ... 51.18976329 51.1897766\n",
      " 51.18978592] [-5.35007798e-13  1.22474484e-02  2.44948948e-02 ... -4.69001362e-02\n",
      " -3.46526984e-02 -2.24052551e-02] [5.45438227e-14 1.37083407e-02 2.74166808e-02 ... 3.59947506e+02\n",
      " 3.59961214e+02 3.59974922e+02]\n",
      "Eang [9.51969292e-16 2.39255680e-04 4.78511350e-04 ... 6.28226911e+00\n",
      " 6.28250836e+00 6.28274762e+00]\n",
      "[9.51969292e-16 2.39255680e-04 4.78511350e-04 ... 6.28226911e+00\n",
      " 6.28250836e+00 6.28274762e+00] <Parameter 'ecc', value=0.5248409672669576, bounds=[0:1.0]> <Parameter 'rad', value=49.900435082380554, bounds=[0:inf]> <Parameter 'mass', value=1.0 (fixed), bounds=[-inf:inf]> [3.18895524e-13 8.01470875e-02 1.60294177e-01 ... 4.42931197e+03\n",
      " 4.42939212e+03 4.42947227e+03]\n",
      "44428\n",
      "[51.18979262 51.18979062 51.18978462 ... 51.18976329 51.1897766\n",
      " 51.18978592] [-5.35007798e-13  1.22474484e-02  2.44948948e-02 ... -4.69001362e-02\n",
      " -3.46526984e-02 -2.24052551e-02] [5.45438227e-14 1.37083407e-02 2.74166808e-02 ... 3.59947506e+02\n",
      " 3.59961214e+02 3.59974922e+02]\n",
      "Eang [9.51969292e-16 2.39255680e-04 4.78511350e-04 ... 6.28226911e+00\n",
      " 6.28250836e+00 6.28274762e+00]\n",
      "[9.51969292e-16 2.39255680e-04 4.78511350e-04 ... 6.28226911e+00\n",
      " 6.28250836e+00 6.28274762e+00] <Parameter 'ecc', value=0.5248409672669576, bounds=[0:1.0]> <Parameter 'rad', value=49.900435082380554, bounds=[0:inf]> <Parameter 'mass', value=1.0 (fixed), bounds=[-inf:inf]> [3.18895524e-13 8.01470875e-02 1.60294177e-01 ... 4.42931197e+03\n",
      " 4.42939212e+03 4.42947227e+03]\n"
     ]
    }
   ],
   "source": [
    "from lmfit import Minimizer,Parameters\n",
    "pfittEang = Parameters()\n",
    "pfittEang.add(name='theta', value=theta0, min=theta0-math.pi, max=theta0+math.pi, vary=True)\n",
    "pfittEang.add(name='rad', value=rad0, min=0, vary=True)\n",
    "pfittEang.add(name='ecc', value=ecc0, min=0, max=1.0, vary=True)\n",
    "pfittEang.add(name='mass', value=masses[0], vary=False)\n",
    "pfittEang.add(name='useperihelion', value=True, vary=False)\n",
    "\n",
    "minit = Minimizer(residualtEang, pfittEang, fcn_args=(nptimesoneorbit,npstar2x[:endindex-1,:]))\n",
    "\n",
    "outt = minit.leastsq()"
   ]
  },
  {
   "cell_type": "code",
   "execution_count": 90,
   "metadata": {},
   "outputs": [
    {
     "data": {
      "text/html": [
       "<h2>Fit Statistics</h2><table><tr><td>fitting method</td><td>leastsq</td><td></td></tr><tr><td># function evals</td><td>17</td><td></td></tr><tr><td># data points</td><td>44428</td><td></td></tr><tr><td># variables</td><td>3</td><td></td></tr><tr><td>chi-square</td><td> 54905637.6</td><td></td></tr><tr><td>reduced chi-square</td><td> 1235.91756</td><td></td></tr><tr><td>Akaike info crit.</td><td> 316311.209</td><td></td></tr><tr><td>Bayesian info crit.</td><td> 316337.313</td><td></td></tr></table><h2>Variables</h2><table><tr><th> name </th><th> value </th><th> initial value </th><th> min </th><th> max </th><th> vary </th></tr><tr><td> theta </td><td> -2.0428e-14 </td><td> 0.0 </td><td> -3.14159265 </td><td>  3.14159265 </td><td> True </td></tr><tr><td> rad </td><td>  49.9004351 </td><td> 50 </td><td>  0.00000000 </td><td>         inf </td><td> True </td></tr><tr><td> ecc </td><td>  0.52484097 </td><td> 0.5 </td><td>  0.00000000 </td><td>  1.00000000 </td><td> True </td></tr><tr><td> mass </td><td>  1.00000000 </td><td> 1.0 </td><td>        -inf </td><td>         inf </td><td> False </td></tr><tr><td> useperihelion </td><td>  1.00000000 </td><td> True </td><td>        -inf </td><td>         inf </td><td> False </td></tr></table>"
      ],
      "text/plain": [
       "<lmfit.minimizer.MinimizerResult at 0x7f074bf89eb0>"
      ]
     },
     "execution_count": 90,
     "metadata": {},
     "output_type": "execute_result"
    }
   ],
   "source": [
    "outt"
   ]
  },
  {
   "cell_type": "markdown",
   "metadata": {},
   "source": [
    "Eccentricity fit is still not great for eccentricity of 0.9 (0.99), but radius fit is pretty good. The chi square is enormous. Eccentricity of 0.5 looks somewhat better (ecc 0.51) but still has a large chisquared and generates a potentially helpful divide by zero warning in the fit. "
   ]
  },
  {
   "cell_type": "code",
   "execution_count": 91,
   "metadata": {},
   "outputs": [
    {
     "data": {
      "text/plain": [
       "4442.699999998631"
      ]
     },
     "execution_count": 91,
     "metadata": {},
     "output_type": "execute_result"
    }
   ],
   "source": [
    "tfinal=nptimesoneorbit[endindex-2]\n",
    "tfinal"
   ]
  },
  {
   "cell_type": "markdown",
   "metadata": {},
   "source": [
    "Updated Jupyter and python packages and angular momentum and energy conservation improved by many orders of magnitude, but the fit is about the same. deltaL and deltaE are now consistent with roundoff error. "
   ]
  },
  {
   "cell_type": "markdown",
   "metadata": {},
   "source": []
  },
  {
   "cell_type": "markdown",
   "metadata": {},
   "source": []
  },
  {
   "cell_type": "code",
   "execution_count": 92,
   "metadata": {},
   "outputs": [],
   "source": [
    "from scipy.fft import fft"
   ]
  },
  {
   "cell_type": "code",
   "execution_count": 93,
   "metadata": {},
   "outputs": [],
   "source": [
    "from scipy.signal import blackman\n",
    "wndow=blackman(len(nptimesoneorbit))"
   ]
  },
  {
   "cell_type": "code",
   "execution_count": 94,
   "metadata": {},
   "outputs": [],
   "source": [
    "ftresiduals=fft(nptimesoneorbit-tpredoneorbit)"
   ]
  },
  {
   "cell_type": "code",
   "execution_count": 95,
   "metadata": {},
   "outputs": [],
   "source": [
    "xf = np.linspace(0.0, 1.0/(2.0*dt), len(nptimesoneorbit)//2)"
   ]
  },
  {
   "cell_type": "code",
   "execution_count": 96,
   "metadata": {},
   "outputs": [
    {
     "data": {
      "text/plain": [
       "[<matplotlib.lines.Line2D at 0x7f074ad250d0>]"
      ]
     },
     "execution_count": 96,
     "metadata": {},
     "output_type": "execute_result"
    },
    {
     "data": {
      "image/png": "[encoded data removed]",
      "text/plain": [
       "<Figure size 432x288 with 1 Axes>"
      ]
     },
     "metadata": {
      "needs_background": "light"
     },
     "output_type": "display_data"
    }
   ],
   "source": [
    "plt.semilogy(xf[1:len(nptimesoneorbit)//2], 2.0/len(nptimesoneorbit) * np.abs(ftresiduals[1:len(nptimesoneorbit)//2]), '-b')"
   ]
  },
  {
   "cell_type": "code",
   "execution_count": 97,
   "metadata": {},
   "outputs": [],
   "source": [
    "ftr=fft(np.sqrt(npstar1x[:endindex-1,0]**2+npstar1x[:endindex-1,1]**2))"
   ]
  },
  {
   "cell_type": "code",
   "execution_count": 98,
   "metadata": {},
   "outputs": [
    {
     "data": {
      "text/plain": [
       "[<matplotlib.lines.Line2D at 0x7f074ac9abb0>]"
      ]
     },
     "execution_count": 98,
     "metadata": {},
     "output_type": "execute_result"
    },
    {
     "data": {
      "image/png": "[encoded data removed]",
      "text/plain": [
       "<Figure size 432x288 with 1 Axes>"
      ]
     },
     "metadata": {
      "needs_background": "light"
     },
     "output_type": "display_data"
    }
   ],
   "source": [
    "plt.semilogy(xf[1:len(nptimesoneorbit)//2], 2.0/len(nptimesoneorbit) * np.abs(ftr[1:len(nptimesoneorbit)//2]), '-b')"
   ]
  },
  {
   "cell_type": "markdown",
   "metadata": {},
   "source": [
    "Fourier transform won't work. The period is one time the length of the signal. See the blip at the second bin? That's the second harmonic. I don't see higher harmonics. "
   ]
  },
  {
   "cell_type": "code",
   "execution_count": 99,
   "metadata": {},
   "outputs": [
    {
     "data": {
      "text/plain": [
       "[<matplotlib.lines.Line2D at 0x7f074ab8dca0>]"
      ]
     },
     "execution_count": 99,
     "metadata": {},
     "output_type": "execute_result"
    },
    {
     "data": {
      "image/png": "[encoded data removed]",
      "text/plain": [
       "<Figure size 432x288 with 1 Axes>"
      ]
     },
     "metadata": {
      "needs_background": "light"
     },
     "output_type": "display_data"
    }
   ],
   "source": [
    "plt.semilogy(xf[1:50], 2.0/len(nptimesoneorbit) * np.abs(ftresiduals[1:50]), '-b')"
   ]
  },
  {
   "cell_type": "code",
   "execution_count": 100,
   "metadata": {},
   "outputs": [
    {
     "data": {
      "text/plain": [
       "[<matplotlib.lines.Line2D at 0x7f074aa29460>]"
      ]
     },
     "execution_count": 100,
     "metadata": {},
     "output_type": "execute_result"
    },
    {
     "data": {
      "image/png": "[encoded data removed]",
      "text/plain": [
       "<Figure size 432x288 with 1 Axes>"
      ]
     },
     "metadata": {
      "needs_background": "light"
     },
     "output_type": "display_data"
    }
   ],
   "source": [
    "plt.semilogy(np.arange(1,30), 2.0/len(nptimesoneorbit[:29]) * np.abs(ftresiduals[1:30]), '-b')"
   ]
  },
  {
   "cell_type": "code",
   "execution_count": 101,
   "metadata": {},
   "outputs": [],
   "source": [
    "peaks=[4,8,13,17]"
   ]
  },
  {
   "cell_type": "markdown",
   "metadata": {},
   "source": [
    "This is the FFT of the residuals of the predicted time versus the actual time for the parameters of the simulation, using the theoretically expected equation E-esinE up to some factors. Looks like it has some resonances with percoids of about four times the lowest frequency resolution, I’m going to have to think about that, but either that means there’s an issue related to the four fold symmetry of the orbit, or something is happening related to the fact that it’s an RK4. I forget whether the lowest frequency resolution comes from the step size or from the orbital period. I think it comes from the orbital period, which suggests that it has to do with the four fold orbital symmetry, though it would be nice to think it comes from the RK4. Maybe it makes sense that it should have higher moments in its residuals, since its not circular. But the residuals shouldn’t be this large, I don’t think. I am using 0.9 as the eccentricity. Maybe that’s part of the issue. "
   ]
  },
  {
   "cell_type": "markdown",
   "metadata": {},
   "source": [
    "1/tfinal"
   ]
  },
  {
   "cell_type": "code",
   "execution_count": 102,
   "metadata": {},
   "outputs": [
    {
     "data": {
      "text/plain": [
       "[<matplotlib.lines.Line2D at 0x7f074a885580>]"
      ]
     },
     "execution_count": 102,
     "metadata": {},
     "output_type": "execute_result"
    },
    {
     "data": {
      "image/png": "[encoded data removed]",
      "text/plain": [
       "<Figure size 432x288 with 1 Axes>"
      ]
     },
     "metadata": {
      "needs_background": "light"
     },
     "output_type": "display_data"
    }
   ],
   "source": [
    "plt.semilogy(xf[1:50], 2.0/len(nptimesoneorbit) * np.abs(ftr[1:50]), '-b')"
   ]
  },
  {
   "cell_type": "code",
   "execution_count": null,
   "metadata": {},
   "outputs": [],
   "source": []
  },
  {
   "cell_type": "markdown",
   "metadata": {},
   "source": [
    "For e=0.5 and e=0.05 the fit looks the same on Ubuntu 20.04 as it does on a Macbook Pro running 10.15.8"
   ]
  },
  {
   "cell_type": "code",
   "execution_count": null,
   "metadata": {},
   "outputs": [],
   "source": []
  },
  {
   "cell_type": "code",
   "execution_count": null,
   "metadata": {},
   "outputs": [],
   "source": []
  }
 ],
 "metadata": {
  "kernelspec": {
   "display_name": "Python 3",
   "language": "python",
   "name": "python3"
  },
  "language_info": {
   "codemirror_mode": {
    "name": "ipython",
    "version": 3
   },
   "file_extension": ".py",
   "mimetype": "text/x-python",
   "name": "python",
   "nbconvert_exporter": "python",
   "pygments_lexer": "ipython3",
   "version": "3.8.2"
  }
 },
 "nbformat": 4,
 "nbformat_minor": 2
}
