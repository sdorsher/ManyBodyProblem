{
 "cells": [
  {
   "cell_type": "code",
   "execution_count": 1,
   "metadata": {},
   "outputs": [],
   "source": [
    "import math\n",
    "import numpy as np"
   ]
  },
  {
   "cell_type": "code",
   "execution_count": 2,
   "metadata": {},
   "outputs": [],
   "source": [
    "import ellipsefns\n",
    "#getfocus, getsemiminor, theoreticalx, theoreticaly"
   ]
  },
  {
   "cell_type": "code",
   "execution_count": 3,
   "metadata": {},
   "outputs": [],
   "source": [
    "import initdat"
   ]
  },
  {
   "cell_type": "code",
   "execution_count": 4,
   "metadata": {},
   "outputs": [
    {
     "name": "stdout",
     "output_type": "stream",
     "text": [
      "angle 0.0\n",
      "0.5\n",
      "(array([3.14159265, 0.        ]), 0.0, 50, 0.5, array([1., 1.]))\n"
     ]
    }
   ],
   "source": [
    "\n",
    "rad0=50\n",
    "ecc0=0.5\n",
    "theta0= 0. #math.pi/6. #math.pi/6.\n",
    "mass0=1.0\n",
    "initdateqellipse=initdat.InitialDataEqualMassConic(rad0,ecc0,theta0,mass0)\n",
    "print(initdateqellipse)"
   ]
  },
  {
   "cell_type": "markdown",
   "metadata": {},
   "source": [
    "VERIFIED FOR THETA=-45,45,135,180,90,30,-30. VERIFIED FOR ECC =0.001, 0.1,0.5, 0.7, 0.9, 0.95 VERIFIED FOR RAD0=50,75 100 "
   ]
  },
  {
   "cell_type": "code",
   "execution_count": 5,
   "metadata": {},
   "outputs": [],
   "source": [
    "import getxyuvtwoellipse_apper"
   ]
  },
  {
   "cell_type": "code",
   "execution_count": 6,
   "metadata": {},
   "outputs": [],
   "source": [
    "useperihelion=True"
   ]
  },
  {
   "cell_type": "code",
   "execution_count": 7,
   "metadata": {},
   "outputs": [
    {
     "name": "stdout",
     "output_type": "stream",
     "text": [
      "initdat 50 [3.14159265 0.        ] 0.5 [-1.  1.] [1.2246468e-16 0.0000000e+00]\n",
      "coordsep 50\n",
      "pi\n",
      "zero\n",
      "[-50.  50.]\n",
      "[0. 0.]\n",
      "(array([1., 1.]), array([[-25.        ,   0.        ,   0.        ,  -0.        ,\n",
      "         -0.12247449,   0.        ],\n",
      "       [ 25.        ,   0.        ,   0.        ,  -0.        ,\n",
      "          0.12247449,   0.        ]]), array([[ 0.0004, -0.    ,  0.    ],\n",
      "       [-0.0004, -0.    ,  0.    ]]))\n"
     ]
    }
   ],
   "source": [
    "xyuvaeqellipse=getxyuvtwoellipse_apper.getxyuveqtwoellipses(initdateqellipse,useperihelion)\n",
    "print(xyuvaeqellipse)\n",
    "masses,xvec,avec=xyuvaeqellipse"
   ]
  },
  {
   "cell_type": "code",
   "execution_count": 8,
   "metadata": {},
   "outputs": [],
   "source": [
    "import RK4implicit"
   ]
  },
  {
   "cell_type": "code",
   "execution_count": 9,
   "metadata": {},
   "outputs": [],
   "source": [
    "import OrbitDiffEq"
   ]
  },
  {
   "cell_type": "code",
   "execution_count": null,
   "metadata": {},
   "outputs": [],
   "source": []
  },
  {
   "cell_type": "code",
   "execution_count": 10,
   "metadata": {},
   "outputs": [
    {
     "name": "stdout",
     "output_type": "stream",
     "text": [
      "[1. 1.] [[-25.           0.           0.          -0.          -0.12247449\n",
      "    0.        ]\n",
      " [ 25.           0.           0.          -0.           0.12247449\n",
      "    0.        ]] 0.0\n",
      "[1. 1.] [[-25.           0.           0.          -0.          -0.12247449\n",
      "    0.        ]\n",
      " [ 25.           0.           0.          -0.           0.12247449\n",
      "    0.        ]] 0.0\n"
     ]
    },
    {
     "data": {
      "text/plain": [
       "<OrbitDiffEq.OrbitDiffEq at 0x7f8ed89e1f10>"
      ]
     },
     "execution_count": 10,
     "metadata": {},
     "output_type": "execute_result"
    }
   ],
   "source": [
    "masses, xvec,avec=xyuvaeqellipse\n",
    "ODEeq= OrbitDiffEq.OrbitDiffEq(masses,xvec,avec,0.0)\n",
    "ODEeq.print2D()\n",
    "ODEeq.print2D()"
   ]
  },
  {
   "cell_type": "code",
   "execution_count": 11,
   "metadata": {},
   "outputs": [
    {
     "name": "stdout",
     "output_type": "stream",
     "text": [
      "(array([1., 1.]), array([[-25.        ,   0.        ,   0.        ,  -0.        ,\n",
      "         -0.12247449,   0.        ],\n",
      "       [ 25.        ,   0.        ,   0.        ,  -0.        ,\n",
      "          0.12247449,   0.        ]]), array([[ 0.0004, -0.    ,  0.    ],\n",
      "       [-0.0004, -0.    ,  0.    ]]))\n"
     ]
    }
   ],
   "source": [
    "print(xyuvaeqellipse)"
   ]
  },
  {
   "cell_type": "code",
   "execution_count": 12,
   "metadata": {},
   "outputs": [],
   "source": [
    "import timestep"
   ]
  },
  {
   "cell_type": "code",
   "execution_count": null,
   "metadata": {},
   "outputs": [],
   "source": []
  },
  {
   "cell_type": "code",
   "execution_count": 13,
   "metadata": {},
   "outputs": [],
   "source": [
    "numsteps=6000*10\n",
    "dt=0.1\n",
    "outputevery=1\n",
    "nptimes, npstar1x, npstar2x, npstar1a, npstar2a= timestep.timestep(numsteps,dt,xyuvaeqellipse,outputevery)"
   ]
  },
  {
   "cell_type": "code",
   "execution_count": 14,
   "metadata": {},
   "outputs": [
    {
     "data": {
      "text/plain": [
       "array([[-2.50000000e+01,  0.00000000e+00,  0.00000000e+00,\n",
       "        -0.00000000e+00, -1.22474487e-01,  0.00000000e+00],\n",
       "       [-2.49999980e+01, -1.22474484e-02,  0.00000000e+00,\n",
       "         3.99999973e-05, -1.22474477e-01,  0.00000000e+00],\n",
       "       [-2.49999920e+01, -2.44948948e-02,  0.00000000e+00,\n",
       "         7.99999787e-05, -1.22474448e-01,  0.00000000e+00],\n",
       "       ...,\n",
       "       [ 6.50765680e+01, -2.58921131e+01,  0.00000000e+00,\n",
       "         3.01846656e-02,  3.50405295e-02,  0.00000000e+00],\n",
       "       [ 6.50795863e+01, -2.58886090e+01,  0.00000000e+00,\n",
       "         3.01799302e-02,  3.50424134e-02,  0.00000000e+00],\n",
       "       [ 6.50826040e+01, -2.58851046e+01,  0.00000000e+00,\n",
       "         3.01751950e-02,  3.50442969e-02,  0.00000000e+00]])"
      ]
     },
     "execution_count": 14,
     "metadata": {},
     "output_type": "execute_result"
    }
   ],
   "source": [
    "npstar1x"
   ]
  },
  {
   "cell_type": "code",
   "execution_count": 15,
   "metadata": {},
   "outputs": [
    {
     "data": {
      "image/png": "[encoded data removed]",
      "text/plain": [
       "<Figure size 432x288 with 1 Axes>"
      ]
     },
     "metadata": {
      "needs_background": "light"
     },
     "output_type": "display_data"
    }
   ],
   "source": [
    "import matplotlib.pyplot as plt\n",
    "t = np.linspace(0, 2*math.pi, 100)\n",
    "xax=-200+np.arange(0,400)\n",
    "plt.ylim(-200,200)\n",
    "plt.xlim(-200,200)\n",
    "plt.title(\"Elliptical Orbit, RK4, a=\"+str(rad0)+\", e=\"+ str(ecc0)+\", theta=\"+str(round(180*theta0/math.pi))+ \" degrees\")\n",
    "plt.plot(ellipsefns.getxtheory(theta0,ecc0,rad0,t,1),ellipsefns.getytheory(theta0,ecc0,rad0,t,1),'b')\n",
    "plt.plot(ellipsefns.getxtheory(theta0,ecc0,rad0,t,-1),ellipsefns.getytheory(theta0,ecc0,rad0,t,-1),'g')\n",
    "plt.plot(npstar1x[:,0],npstar1x[:,1],'y')\n",
    "plt.plot(npstar2x[:,0],npstar2x[:,1],'r')\n",
    "plt.show()"
   ]
  },
  {
   "cell_type": "markdown",
   "metadata": {},
   "source": [
    "%%html\n",
    "<a href=\"https://github.com/sdorsher/ManyBodyProblem/blob/master/EllipseSymmetry.png\">Elliptical orbits at thirty degrees with symmetry line</a>\n",
    "It is clear that the elliptical orbits have focuses, perhelions, and aphelions on the axis of symmetry from this plot. It is also clear that the orbits are symmetric with respect to eachother. "
   ]
  },
  {
   "cell_type": "code",
   "execution_count": 16,
   "metadata": {},
   "outputs": [],
   "source": [
    "def getfocus(a,ecc):\n",
    "    c=a*ecc\n",
    "    return c"
   ]
  },
  {
   "cell_type": "code",
   "execution_count": 17,
   "metadata": {},
   "outputs": [],
   "source": [
    "def getsemiminor(a,ecc):\n",
    "    c=getfocus(a,ecc)\n",
    "    b=np.sqrt(a**2-c**2)\n",
    "    return b"
   ]
  },
  {
   "cell_type": "code",
   "execution_count": 18,
   "metadata": {},
   "outputs": [],
   "source": [
    "def getxtheory2(theta0,ecc0,rad0,t, sgn):\n",
    "    focus=getfocus(rad0,ecc0)\n",
    "    b=getsemiminor(rad0,ecc0)\n",
    "    xdim=rad0\n",
    "    ydim=b\n",
    "    xtheory=sgn*focus*np.cos(theta0)+xdim*np.cos(t)*np.cos(theta0)-ydim*np.sin(t)*np.sin(theta0)\n",
    "    return xtheory"
   ]
  },
  {
   "cell_type": "code",
   "execution_count": 19,
   "metadata": {},
   "outputs": [],
   "source": [
    "def getytheory2(theta0, ecc0, rad0, t, sgn):\n",
    "    focus = getfocus(rad0,ecc0)\n",
    "    b=getsemiminor(rad0,ecc0)\n",
    "    xdim=rad0\n",
    "    ydim=b\n",
    "    ytheory=sgn*focus*np.sin(theta0)+ydim*np.cos(theta0)*np.sin(t)+xdim*np.sin(theta0)*np.cos(t)\n",
    "    return ytheory\n",
    "\n"
   ]
  },
  {
   "cell_type": "code",
   "execution_count": 20,
   "metadata": {},
   "outputs": [
    {
     "data": {
      "image/png": "[encoded data removed]",
      "text/plain": [
       "<Figure size 432x288 with 1 Axes>"
      ]
     },
     "metadata": {
      "needs_background": "light"
     },
     "output_type": "display_data"
    }
   ],
   "source": [
    "import matplotlib.pyplot as plt\n",
    "t = np.linspace(0, 2*math.pi, 100)\n",
    "xax=-200+np.arange(0,400)\n",
    "plt.ylim(-200,200)\n",
    "plt.xlim(-200,200)\n",
    "plt.title(\"Elliptical Orbit, RK4, a=\"+str(rad0)+\", e=\"+ str(ecc0)+\", theta=\"+str(round(180*theta0/math.pi))+ \" degrees\")\n",
    "plt.plot(ellipsefns.getxtheory(theta0,ecc0,rad0,t,1),ellipsefns.getytheory(theta0,ecc0,rad0,t,1),'b')\n",
    "plt.plot(ellipsefns.getxtheory(theta0,ecc0,rad0,t,-1),ellipsefns.getytheory(theta0,ecc0,rad0,t,-1),'g')\n",
    "plt.plot(npstar1x[:,0],npstar1x[:,1],'y')\n",
    "plt.plot(npstar2x[:,0],npstar2x[:,1],'r')\n",
    "plt.plot(xax, np.tan(theta0)*xax,'c')\n",
    "plt.show()"
   ]
  },
  {
   "cell_type": "markdown",
   "metadata": {},
   "source": [
    "Computed orbit and parametric description of ellipse evolve at different rates, since the parametric description of the ellipse doesn't obey keplers law of equal area in equal time (conservation of angular momentum). This is a problem for the fit below. "
   ]
  },
  {
   "cell_type": "markdown",
   "metadata": {},
   "source": [
    "# Conservation of angular momentum"
   ]
  },
  {
   "cell_type": "code",
   "execution_count": 21,
   "metadata": {},
   "outputs": [],
   "source": [
    "import Lstability"
   ]
  },
  {
   "cell_type": "code",
   "execution_count": 22,
   "metadata": {},
   "outputs": [
    {
     "data": {
      "text/plain": [
       "(3.1183369646375074e-14, -2.0412414523192806)"
      ]
     },
     "execution_count": 22,
     "metadata": {},
     "output_type": "execute_result"
    }
   ],
   "source": [
    "deltaL, Lavg=Lstability.Lstability(npstar1x,npstar2x,mass0)\n",
    "deltaL, Lavg"
   ]
  },
  {
   "cell_type": "markdown",
   "metadata": {},
   "source": [
    "Orbit conserves angular momentum to a tolerance of deltaL. "
   ]
  },
  {
   "cell_type": "markdown",
   "metadata": {},
   "source": [
    "# Conservation of Energy"
   ]
  },
  {
   "cell_type": "code",
   "execution_count": 23,
   "metadata": {},
   "outputs": [],
   "source": [
    "import Estability"
   ]
  },
  {
   "cell_type": "code",
   "execution_count": 24,
   "metadata": {},
   "outputs": [
    {
     "data": {
      "text/plain": [
       "(1.9347771707844668e-14, -0.0050000000000002065)"
      ]
     },
     "execution_count": 24,
     "metadata": {},
     "output_type": "execute_result"
    }
   ],
   "source": [
    "deltaE, Eavg = Estability.Estability(npstar1x, npstar2x, mass0)\n",
    "deltaE, Eavg"
   ]
  },
  {
   "cell_type": "markdown",
   "metadata": {},
   "source": [
    "Orbit conserves energy to a relative error of deltaE. "
   ]
  },
  {
   "cell_type": "markdown",
   "metadata": {},
   "source": [
    "# Symmetry of the two stars orbits with respect to eachother "
   ]
  },
  {
   "cell_type": "code",
   "execution_count": 25,
   "metadata": {},
   "outputs": [],
   "source": [
    "import orbitSymmetricTol"
   ]
  },
  {
   "cell_type": "code",
   "execution_count": 26,
   "metadata": {},
   "outputs": [],
   "source": [
    "allcancelsx, allcancelsa=orbitSymmetricTol.howSymmetric(npstar1x,npstar2x,npstar1a,npstar2a)"
   ]
  },
  {
   "cell_type": "code",
   "execution_count": 27,
   "metadata": {},
   "outputs": [
    {
     "data": {
      "text/plain": [
       "1e-14"
      ]
     },
     "execution_count": 27,
     "metadata": {},
     "output_type": "execute_result"
    }
   ],
   "source": [
    "allcancelsx"
   ]
  },
  {
   "cell_type": "markdown",
   "metadata": {},
   "source": [
    "Orbit is symmetric with respect to x and v up to a tolerance of allcancelsx"
   ]
  },
  {
   "cell_type": "code",
   "execution_count": 28,
   "metadata": {},
   "outputs": [
    {
     "data": {
      "text/plain": [
       "1e-14"
      ]
     },
     "execution_count": 28,
     "metadata": {},
     "output_type": "execute_result"
    }
   ],
   "source": [
    "allcancelsa"
   ]
  },
  {
   "cell_type": "code",
   "execution_count": 29,
   "metadata": {},
   "outputs": [
    {
     "data": {
      "text/plain": [
       "array([[-2.50000000e+01,  0.00000000e+00,  0.00000000e+00,\n",
       "        -0.00000000e+00, -1.22474487e-01,  0.00000000e+00],\n",
       "       [-2.49999980e+01, -1.22474484e-02,  0.00000000e+00,\n",
       "         3.99999973e-05, -1.22474477e-01,  0.00000000e+00],\n",
       "       [-2.49999920e+01, -2.44948948e-02,  0.00000000e+00,\n",
       "         7.99999787e-05, -1.22474448e-01,  0.00000000e+00],\n",
       "       ...,\n",
       "       [ 6.50765680e+01, -2.58921131e+01,  0.00000000e+00,\n",
       "         3.01846656e-02,  3.50405295e-02,  0.00000000e+00],\n",
       "       [ 6.50795863e+01, -2.58886090e+01,  0.00000000e+00,\n",
       "         3.01799302e-02,  3.50424134e-02,  0.00000000e+00],\n",
       "       [ 6.50826040e+01, -2.58851046e+01,  0.00000000e+00,\n",
       "         3.01751950e-02,  3.50442969e-02,  0.00000000e+00]])"
      ]
     },
     "execution_count": 29,
     "metadata": {},
     "output_type": "execute_result"
    }
   ],
   "source": [
    "npstar1x"
   ]
  },
  {
   "cell_type": "markdown",
   "metadata": {},
   "source": [
    "Orbit is symmetric with respect to a to up to or better than a tolerance of allcancelsa"
   ]
  },
  {
   "cell_type": "markdown",
   "metadata": {},
   "source": [
    "# Testing for precision in perihelion and aphelion recovery from knowledge of the initial angle"
   ]
  },
  {
   "cell_type": "code",
   "execution_count": 30,
   "metadata": {},
   "outputs": [],
   "source": [
    "import aeTest"
   ]
  },
  {
   "cell_type": "code",
   "execution_count": 31,
   "metadata": {},
   "outputs": [
    {
     "data": {
      "text/plain": [
       "[<matplotlib.lines.Line2D at 0x7f8eda36edd0>]"
      ]
     },
     "execution_count": 31,
     "metadata": {},
     "output_type": "execute_result"
    },
    {
     "data": {
      "image/png": "[encoded data removed]",
      "text/plain": [
       "<Figure size 432x288 with 1 Axes>"
      ]
     },
     "metadata": {
      "needs_background": "light"
     },
     "output_type": "display_data"
    }
   ],
   "source": [
    "from matplotlib import pyplot as plt\n",
    "plt.plot( np.abs(npstar1x[:,1]))"
   ]
  },
  {
   "cell_type": "code",
   "execution_count": 32,
   "metadata": {},
   "outputs": [],
   "source": [
    "def findPerapHelionThetaIsZero(npstar1x,ecc0,rad0,useperihelion):\n",
    "    apindex=np.argmin(np.abs(npstar1x[1:,1]))+1\n",
    "    print(apindex)\n",
    "    delta=math.floor(.2*apindex)\n",
    "    print(delta)\n",
    "    perindex=np.argmin(np.abs(npstar1x[delta:apindex-delta,1]))+delta\n",
    "    print(perindex)\n",
    "    print(apindex/perindex)\n",
    "    if np.abs(apindex/perindex-2.)>0.05: \n",
    "        perindex=np.argmin(np.abs(npstar1x[apindex+delta:2*apindex+delta,1]))+delta+apindex\n",
    "        print(perindex)\n",
    "        apindex,perindex=perindex,apindex\n",
    "        print(apindex,perindex)\n",
    "        print(apindex/perindex)\n",
    "    #apindex3=np.argmin(np.abs(npstar1x[100:apindex2-100,1]))+100\n",
    "    #apindex4=np.argmin(np.abs(npstar1x[100:apindex3-100,1]))+100\n",
    "    #perindex=np.argmin(np.abs(npstar1x[100:apindex2-100,1]))+100\n",
    "    if useperihelion:\n",
    "        apindex,perindex=perindex,apindex\n",
    "    coordap=[npstar1x[apindex,0],npstar1x[apindex,1]]\n",
    "    coordper=[npstar1x[perindex,0],npstar1x[perindex,1]]\n",
    "    ra=np.sqrt(np.sum(np.array(coordap)**2))\n",
    "    rp=np.sqrt(np.sum(np.array(coordper)**2))\n",
    "    e=(ra-rp)/(ra+rp)\n",
    "    a=1./2.*(ra+rp)\n",
    "    deltae=np.abs(e-ecc0)/ecc0\n",
    "    deltaa=np.abs(a-rad0)/rad0\n",
    "    return apindex,perindex,coordap,coordper,ra,rp,e,a,deltae,deltaa"
   ]
  },
  {
   "cell_type": "code",
   "execution_count": 33,
   "metadata": {},
   "outputs": [
    {
     "name": "stdout",
     "output_type": "stream",
     "text": [
      "22214\n",
      "4442\n",
      "17771\n",
      "1.2500140678633729\n",
      "44429\n",
      "44429 22214\n",
      "2.0000450166561627\n"
     ]
    }
   ],
   "source": [
    "if theta0==0:\n",
    "    apindex,perindex,coordap,coordper,ra,rp,e,a,deltae,deltaa=findPerapHelionThetaIsZero(npstar1x,ecc0,rad0,useperihelion)"
   ]
  },
  {
   "cell_type": "code",
   "execution_count": null,
   "metadata": {},
   "outputs": [],
   "source": []
  },
  {
   "cell_type": "code",
   "execution_count": 34,
   "metadata": {},
   "outputs": [],
   "source": [
    "if theta0!=0:\n",
    "    perindex,apindex,coordper,coordap,rp,ra,e,a,deltae,deltaa=aeTest.findPerApHelion(npstar1x,theta0,ecc0,rad0)"
   ]
  },
  {
   "cell_type": "markdown",
   "metadata": {},
   "source": [
    "Recovered perihelion radius given by r_per, recovered aphelion radius given by r_ap, a is semimajor axis computed from the orbit, e is eccentricty computed from the orbit, delta a is relative error on the semimajor axis, and delta e is eccenticity relative error. "
   ]
  },
  {
   "cell_type": "code",
   "execution_count": 35,
   "metadata": {},
   "outputs": [
    {
     "data": {
      "text/plain": [
       "(22214,\n",
       " 44429,\n",
       " [74.99999996178201, -0.0016929680664632164],\n",
       " [-24.999999941777688, -0.002089640329429189],\n",
       " 74.99999998088961,\n",
       " 25.00000002910962,\n",
       " 0.4999999994678037,\n",
       " 50.00000000499962,\n",
       " 1.0643925740794202e-09,\n",
       " 9.999240546676447e-11)"
      ]
     },
     "execution_count": 35,
     "metadata": {},
     "output_type": "execute_result"
    }
   ],
   "source": [
    "apindex,perindex,coordap,coordper,ra,rp,e,a,deltae,deltaa"
   ]
  },
  {
   "cell_type": "code",
   "execution_count": 36,
   "metadata": {},
   "outputs": [
    {
     "data": {
      "text/plain": [
       "[<matplotlib.lines.Line2D at 0x7f8eda760750>]"
      ]
     },
     "execution_count": 36,
     "metadata": {},
     "output_type": "execute_result"
    },
    {
     "data": {
      "image/png": "[encoded data removed]",
      "text/plain": [
       "<Figure size 432x288 with 1 Axes>"
      ]
     },
     "metadata": {
      "needs_background": "light"
     },
     "output_type": "display_data"
    }
   ],
   "source": [
    "plt.plot(nptimes[:perindex],npstar1x[:perindex,1])"
   ]
  },
  {
   "cell_type": "markdown",
   "metadata": {},
   "source": [
    "# Testing for symmetry within a given star's orbit about the line created by the initial angle with the origin that should pass thorugh the center of the ellipse, both focuses, and perihelion and aphelion"
   ]
  },
  {
   "cell_type": "code",
   "execution_count": 37,
   "metadata": {},
   "outputs": [],
   "source": [
    "pivotindex=perindex\n",
    "endindex = apindex\n",
    "if useperihelion:\n",
    "    pivotindex=apindex\n",
    "    endindex=perindex"
   ]
  },
  {
   "cell_type": "code",
   "execution_count": 38,
   "metadata": {},
   "outputs": [],
   "source": [
    "tosum1=list(range(0,endindex+1))\n",
    "tosum2=list(range(endindex+1,pivotindex+1))"
   ]
  },
  {
   "cell_type": "code",
   "execution_count": 39,
   "metadata": {},
   "outputs": [
    {
     "data": {
      "text/plain": [
       "44430"
      ]
     },
     "execution_count": 39,
     "metadata": {},
     "output_type": "execute_result"
    }
   ],
   "source": [
    "len(tosum1)"
   ]
  },
  {
   "cell_type": "code",
   "execution_count": 40,
   "metadata": {},
   "outputs": [
    {
     "data": {
      "text/plain": [
       "0"
      ]
     },
     "execution_count": 40,
     "metadata": {},
     "output_type": "execute_result"
    }
   ],
   "source": [
    "len(tosum2)"
   ]
  },
  {
   "cell_type": "code",
   "execution_count": 41,
   "metadata": {},
   "outputs": [
    {
     "data": {
      "text/plain": [
       "(22214, 44429)"
      ]
     },
     "execution_count": 41,
     "metadata": {},
     "output_type": "execute_result"
    }
   ],
   "source": [
    "apindex,perindex"
   ]
  },
  {
   "cell_type": "code",
   "execution_count": 42,
   "metadata": {},
   "outputs": [],
   "source": [
    "revtosum2=tosum2.reverse()"
   ]
  },
  {
   "cell_type": "code",
   "execution_count": 43,
   "metadata": {},
   "outputs": [],
   "source": [
    "xsum=np.zeros(endindex+1)\n",
    "ysum=np.zeros(endindex+1)\n",
    "for index in np.arange(0,pivotindex):\n",
    "    xsum[index]=npstar1x[index,0]+npstar1x[pivotindex+1-index,0]\n",
    "    ysum[index]=npstar1x[index,1]+npstar1x[pivotindex+1-index,1]"
   ]
  },
  {
   "cell_type": "code",
   "execution_count": 44,
   "metadata": {},
   "outputs": [],
   "source": [
    "xsum=xsum/2"
   ]
  },
  {
   "cell_type": "code",
   "execution_count": 45,
   "metadata": {},
   "outputs": [],
   "source": [
    "ysum=ysum/2"
   ]
  },
  {
   "cell_type": "code",
   "execution_count": 46,
   "metadata": {},
   "outputs": [
    {
     "data": {
      "image/png": "[encoded data removed]",
      "text/plain": [
       "<Figure size 432x288 with 1 Axes>"
      ]
     },
     "metadata": {
      "needs_background": "light"
     },
     "output_type": "display_data"
    }
   ],
   "source": [
    "import matplotlib.pyplot as plt\n",
    "b0=np.tan(theta0)\n",
    "plt.plot(xsum,ysum,label=\"Sum of data\")\n",
    "plt.plot(xsum,b0*xsum, color=\"green\", label=\"Line defining perhelion\")\n",
    "plt.xlabel(\"Symmetric X sum\")\n",
    "plt.ylabel(\"Symmetric Y sum\")\n",
    "plt.legend()\n",
    "plt.title(\"Sum of data reflection about perhelion\")\n",
    "plt.show()"
   ]
  },
  {
   "cell_type": "code",
   "execution_count": 47,
   "metadata": {},
   "outputs": [
    {
     "data": {
      "image/png": "[encoded data removed]",
      "text/plain": [
       "<Figure size 432x288 with 1 Axes>"
      ]
     },
     "metadata": {
      "needs_background": "light"
     },
     "output_type": "display_data"
    }
   ],
   "source": [
    "plt.plot(xsum,ysum-np.tan(theta0)*xsum, color=\"green\", label=\"Residual\")\n",
    "plt.xlabel(\"Symmetric X sum\")\n",
    "plt.ylabel(\"Ysum-tan(theta)*Xsum\")\n",
    "plt.title(\"Residuals of data reflected about perihelion\")\n",
    "plt.legend()\n",
    "plt.show()"
   ]
  },
  {
   "cell_type": "markdown",
   "metadata": {},
   "source": [
    "The residual improves substantially from .2 at perihelion with a timestep of dt=1 to .125 at perihelion with a timestep of dt=.3 to .02 at perihelion with a timestep of dt=.1. I think timestep makes all the difference between adjacent pairs of points in resolving perihelion. I think it is difficult to tell how symmetric the orbit is by this method when the limitation is in the resolution of the orbit with timestep. Interpolation would be necessary to get a good picture of orbital shape. "
   ]
  },
  {
   "cell_type": "markdown",
   "metadata": {},
   "source": [
    "In the interest of accomplishing further orbital evolutions, I think I'm going to let the precice numerical characterization of orbital shape question go (the predicted and actual orbits overlap quite nicely) and move on to evolving parabolic and hyperbolic orbits. "
   ]
  },
  {
   "cell_type": "markdown",
   "metadata": {},
   "source": [
    "# Fit t as a function of the eccentric anomoly (angle from the center of the elipse)"
   ]
  },
  {
   "cell_type": "code",
   "execution_count": 48,
   "metadata": {},
   "outputs": [],
   "source": [
    "def findEccentricAnomoly(coordap, coordper):\n",
    "    Ecenter=np.array(coordap)+np.array(coordper)\n",
    "    Ecenter/=2.\n",
    "    return Ecenter\n"
   ]
  },
  {
   "cell_type": "code",
   "execution_count": 49,
   "metadata": {},
   "outputs": [],
   "source": [
    "ellipsecenter=findEccentricAnomoly(coordap,coordper)"
   ]
  },
  {
   "cell_type": "code",
   "execution_count": 50,
   "metadata": {},
   "outputs": [
    {
     "data": {
      "text/plain": [
       "array([ 2.5000000e+01, -1.8913042e-03])"
      ]
     },
     "execution_count": 50,
     "metadata": {},
     "output_type": "execute_result"
    }
   ],
   "source": [
    "ellipsecenter"
   ]
  },
  {
   "cell_type": "code",
   "execution_count": 261,
   "metadata": {},
   "outputs": [],
   "source": [
    "def getEllipsecenter(ecc,rad,theta, useperihelion):\n",
    "    #ind of use perihelion\n",
    "    rp=-rad*(1-ecc)\n",
    "    ra=rad*(1+ecc)\n",
    "    rcent=(rp+ra)/2\n",
    "    rcentx=-rcent*np.cos(theta)\n",
    "    rcenty=-rcent* np.sin(theta)\n",
    "    return [rcentx,rcenty]"
   ]
  },
  {
   "cell_type": "code",
   "execution_count": 262,
   "metadata": {},
   "outputs": [
    {
     "data": {
      "text/plain": [
       "array([ 2.5000000e+01, -1.8913042e-03])"
      ]
     },
     "execution_count": 262,
     "metadata": {},
     "output_type": "execute_result"
    }
   ],
   "source": [
    "(np.array(coordap)+np.array(coordper))/2"
   ]
  },
  {
   "cell_type": "code",
   "execution_count": 263,
   "metadata": {},
   "outputs": [
    {
     "data": {
      "text/plain": [
       "[-25.0, -0.0]"
      ]
     },
     "execution_count": 263,
     "metadata": {},
     "output_type": "execute_result"
    }
   ],
   "source": [
    "getEllipsecenter(ecc0,rad0,theta0, True)"
   ]
  },
  {
   "cell_type": "code",
   "execution_count": 264,
   "metadata": {},
   "outputs": [
    {
     "data": {
      "text/plain": [
       "-90.0"
      ]
     },
     "execution_count": 264,
     "metadata": {},
     "output_type": "execute_result"
    }
   ],
   "source": [
    "np.arctan2(-1.,0)/math.pi*180"
   ]
  },
  {
   "cell_type": "code",
   "execution_count": 325,
   "metadata": {},
   "outputs": [],
   "source": [
    "def getEang(npstar2x,ecc,rad,theta, useperihelion):\n",
    "    ellipsecenter=getEllipsecenter(ecc,rad,theta, useperihelion)\n",
    "    #print(ellipsecenter)\n",
    "    #print(npstar1x)\n",
    "    #print(npstar1x[:,0])\n",
    "    xfortan=npstar2x[:,0]-ellipsecenter[0]\n",
    "    yfortan=npstar2x[:,1]-ellipsecenter[1]\n",
    "    #print(\"xy\",xfortan,yfortan)\n",
    "    Eang=np.arctan2(yfortan,xfortan)\n",
    "    #if useperihelion:\n",
    "    #    Eang-=math.pi\n",
    "    print(len(Eang))\n",
    "    for i in np.arange(len(Eang)):\n",
    "        #if xfortan[i]<0:\n",
    "        #    Eang[i]+=math.pi\n",
    "        if Eang[i]<0:\n",
    "            Eang[i]+=2*math.pi\n",
    "    print(xfortan,yfortan,Eang/math.pi*180)\n",
    "    print(\"Eang\",Eang)\n",
    "    return xfortan, yfortan,Eang"
   ]
  },
  {
   "cell_type": "code",
   "execution_count": 326,
   "metadata": {},
   "outputs": [
    {
     "data": {
      "text/plain": [
       "-3.1412939168636456"
      ]
     },
     "execution_count": 326,
     "metadata": {},
     "output_type": "execute_result"
    }
   ],
   "source": [
    "np.arctan2(-6.69327422*10**-6, -0.02240526)"
   ]
  },
  {
   "cell_type": "code",
   "execution_count": 327,
   "metadata": {},
   "outputs": [],
   "source": [
    "def xofeccanom(rad,Eang,ecc):\n",
    "    return rad*(np.cos(Eang)+ecc)"
   ]
  },
  {
   "cell_type": "code",
   "execution_count": 328,
   "metadata": {},
   "outputs": [],
   "source": [
    "def yofeccanom(rad, Eang, ecc):\n",
    "    b=getsemiminor(rad,ecc)\n",
    "    return b*np.sin(Eang) "
   ]
  },
  {
   "cell_type": "code",
   "execution_count": 351,
   "metadata": {},
   "outputs": [],
   "source": [
    "def tofEccAnom(npstar2x, rad,ecc,theta,mass, useperihelion):\n",
    "    xE0,yE0,Eang=getEang(npstar2x,ecc,rad,theta, useperihelion)\n",
    "    b=getsemiminor(rad,ecc)\n",
    "    #fitval=rad*b*(Eang-ecc*np.sin(Eang))\n",
    "    sgn=-1\n",
    "    if useperihelion:\n",
    "        sgn=+1\n",
    "    fitval=2.*rad**(1.5)*mass**(-.5)*(Eang+sgn*ecc*np.sin(Eang))\n",
    "    print(Eang, ecc,rad,mass,fitval)\n",
    "    return fitval"
   ]
  },
  {
   "cell_type": "code",
   "execution_count": 377,
   "metadata": {},
   "outputs": [],
   "source": [
    "def residualtEang(pars,nptimes,npstar2x):\n",
    "    residual= nptimes-tofEccAnom(npstar2x,pars['rad'],pars['ecc'],pars['theta'],pars['mass'],pars['useperihelion'])\n",
    "    #print(nptimes, residual)\n",
    "    return residual"
   ]
  },
  {
   "cell_type": "code",
   "execution_count": 378,
   "metadata": {},
   "outputs": [],
   "source": [
    "endindex=apindex\n",
    "if useperihelion:\n",
    "    endindex=perindex"
   ]
  },
  {
   "cell_type": "code",
   "execution_count": 379,
   "metadata": {},
   "outputs": [
    {
     "data": {
      "text/plain": [
       "44429"
      ]
     },
     "execution_count": 379,
     "metadata": {},
     "output_type": "execute_result"
    }
   ],
   "source": [
    "endindex"
   ]
  },
  {
   "cell_type": "code",
   "execution_count": 380,
   "metadata": {},
   "outputs": [
    {
     "name": "stdout",
     "output_type": "stream",
     "text": [
      "44428\n",
      "[50.         49.999998   49.999992   ... 49.99997067 49.99998399\n",
      " 49.99999331] [ 0.          0.01224745  0.02449489 ... -0.04690014 -0.0346527\n",
      " -0.02240526] [0.00000000e+00 1.40345423e-02 2.80690841e-02 ... 3.59946256e+02\n",
      " 3.59960291e+02 3.59974325e+02]\n",
      "Eang [0.00000000e+00 2.44948973e-04 4.89897935e-04 ... 6.28224730e+00\n",
      " 6.28249225e+00 6.28273720e+00]\n"
     ]
    }
   ],
   "source": [
    "xE0,yE0,Eang0=getEang(npstar2x[0:endindex-1,:],ecc0,rad0,theta0, useperihelion)"
   ]
  },
  {
   "cell_type": "code",
   "execution_count": 381,
   "metadata": {},
   "outputs": [
    {
     "data": {
      "text/plain": [
       "[<matplotlib.lines.Line2D at 0x7f8ecd1c0ad0>]"
      ]
     },
     "execution_count": 381,
     "metadata": {},
     "output_type": "execute_result"
    },
    {
     "data": {
      "image/png": "[encoded data removed]",
      "text/plain": [
       "<Figure size 432x288 with 1 Axes>"
      ]
     },
     "metadata": {
      "needs_background": "light"
     },
     "output_type": "display_data"
    }
   ],
   "source": [
    "plt.plot(nptimesoneorbit,xE0)"
   ]
  },
  {
   "cell_type": "code",
   "execution_count": 382,
   "metadata": {},
   "outputs": [
    {
     "data": {
      "text/plain": [
       "[<matplotlib.lines.Line2D at 0x7f8ecd35d650>]"
      ]
     },
     "execution_count": 382,
     "metadata": {},
     "output_type": "execute_result"
    },
    {
     "data": {
      "image/png": "[encoded data removed]",
      "text/plain": [
       "<Figure size 432x288 with 1 Axes>"
      ]
     },
     "metadata": {
      "needs_background": "light"
     },
     "output_type": "display_data"
    }
   ],
   "source": [
    "plt.plot(nptimesoneorbit,yE0)"
   ]
  },
  {
   "cell_type": "code",
   "execution_count": 383,
   "metadata": {},
   "outputs": [
    {
     "data": {
      "text/plain": [
       "[<matplotlib.lines.Line2D at 0x7f8ec45c1d10>]"
      ]
     },
     "execution_count": 383,
     "metadata": {},
     "output_type": "execute_result"
    },
    {
     "data": {
      "image/png": "[encoded data removed]",
      "text/plain": [
       "<Figure size 432x288 with 1 Axes>"
      ]
     },
     "metadata": {
      "needs_background": "light"
     },
     "output_type": "display_data"
    }
   ],
   "source": [
    "plt.plot(nptimesoneorbit,yE0/xE0)"
   ]
  },
  {
   "cell_type": "code",
   "execution_count": 384,
   "metadata": {},
   "outputs": [
    {
     "data": {
      "text/plain": [
       "0.0"
      ]
     },
     "execution_count": 384,
     "metadata": {},
     "output_type": "execute_result"
    }
   ],
   "source": [
    "np.arctan(0./1.)"
   ]
  },
  {
   "cell_type": "code",
   "execution_count": 385,
   "metadata": {},
   "outputs": [
    {
     "data": {
      "text/plain": [
       "0.0"
      ]
     },
     "execution_count": 385,
     "metadata": {},
     "output_type": "execute_result"
    }
   ],
   "source": [
    "yE0[0]"
   ]
  },
  {
   "cell_type": "code",
   "execution_count": 386,
   "metadata": {},
   "outputs": [
    {
     "data": {
      "text/plain": [
       "50.0"
      ]
     },
     "execution_count": 386,
     "metadata": {},
     "output_type": "execute_result"
    }
   ],
   "source": [
    "xE0[0]"
   ]
  },
  {
   "cell_type": "code",
   "execution_count": 387,
   "metadata": {},
   "outputs": [
    {
     "data": {
      "text/plain": [
       "[<matplotlib.lines.Line2D at 0x7f8eca0e5a90>]"
      ]
     },
     "execution_count": 387,
     "metadata": {},
     "output_type": "execute_result"
    },
    {
     "data": {
      "image/png": "[encoded data removed]",
      "text/plain": [
       "<Figure size 432x288 with 1 Axes>"
      ]
     },
     "metadata": {
      "needs_background": "light"
     },
     "output_type": "display_data"
    }
   ],
   "source": [
    "plt.plot(nptimesoneorbit,np.arctan2(yE0,xE0)*180/math.pi)"
   ]
  },
  {
   "cell_type": "code",
   "execution_count": 388,
   "metadata": {},
   "outputs": [
    {
     "name": "stdout",
     "output_type": "stream",
     "text": [
      "44428\n",
      "[50.         49.999998   49.999992   ... 49.99997067 49.99998399\n",
      " 49.99999331] [ 0.          0.01224745  0.02449489 ... -0.04690014 -0.0346527\n",
      " -0.02240526] [0.00000000e+00 1.40345423e-02 2.80690841e-02 ... 3.59946256e+02\n",
      " 3.59960291e+02 3.59974325e+02]\n",
      "Eang [0.00000000e+00 2.44948973e-04 4.89897935e-04 ... 6.28224730e+00\n",
      " 6.28249225e+00 6.28273720e+00]\n",
      "[0.00000000e+00 2.44948973e-04 4.89897935e-04 ... 6.28224730e+00\n",
      " 6.28249225e+00 6.28273720e+00] 0.5 50 1.0 [0.00000000e+00 2.59807619e-01 5.19615221e-01 ... 4.44188804e+03\n",
      " 4.44214784e+03 4.44240765e+03]\n"
     ]
    }
   ],
   "source": [
    "Eangtest=tofEccAnom(npstar2x[0:endindex-1,:],rad0,ecc0,theta0,masses[0], useperihelion)"
   ]
  },
  {
   "cell_type": "code",
   "execution_count": 389,
   "metadata": {},
   "outputs": [
    {
     "data": {
      "text/plain": [
       "4442.407650897451"
      ]
     },
     "execution_count": 389,
     "metadata": {},
     "output_type": "execute_result"
    }
   ],
   "source": [
    "np.max(Eangtest)"
   ]
  },
  {
   "cell_type": "code",
   "execution_count": 390,
   "metadata": {},
   "outputs": [
    {
     "data": {
      "text/plain": [
       "0.0"
      ]
     },
     "execution_count": 390,
     "metadata": {},
     "output_type": "execute_result"
    }
   ],
   "source": [
    "nptimes[0]"
   ]
  },
  {
   "cell_type": "code",
   "execution_count": 391,
   "metadata": {},
   "outputs": [],
   "source": [
    "nptimesoneorbit=nptimes[0:endindex-1]"
   ]
  },
  {
   "cell_type": "code",
   "execution_count": 392,
   "metadata": {},
   "outputs": [],
   "source": [
    "tpredoneorbit=Eangtest[0:endindex-1]"
   ]
  },
  {
   "cell_type": "code",
   "execution_count": 393,
   "metadata": {},
   "outputs": [],
   "source": [
    "Eangoneorbit=Eang0[0:endindex-1]"
   ]
  },
  {
   "cell_type": "code",
   "execution_count": 394,
   "metadata": {},
   "outputs": [
    {
     "data": {
      "text/plain": [
       "[<matplotlib.lines.Line2D at 0x7f8ecac93f90>]"
      ]
     },
     "execution_count": 394,
     "metadata": {},
     "output_type": "execute_result"
    },
    {
     "data": {
      "image/png": "[encoded data removed]",
      "text/plain": [
       "<Figure size 432x288 with 1 Axes>"
      ]
     },
     "metadata": {
      "needs_background": "light"
     },
     "output_type": "display_data"
    }
   ],
   "source": [
    "plt.plot(nptimesoneorbit,npstar2x[0:endindex-1,1])"
   ]
  },
  {
   "cell_type": "code",
   "execution_count": 395,
   "metadata": {},
   "outputs": [
    {
     "data": {
      "text/plain": [
       "[<matplotlib.lines.Line2D at 0x7f8ec87fe850>]"
      ]
     },
     "execution_count": 395,
     "metadata": {},
     "output_type": "execute_result"
    },
    {
     "data": {
      "image/png": "[encoded data removed]",
      "text/plain": [
       "<Figure size 432x288 with 1 Axes>"
      ]
     },
     "metadata": {
      "needs_background": "light"
     },
     "output_type": "display_data"
    }
   ],
   "source": [
    "plt.plot(nptimesoneorbit,Eangoneorbit/math.pi*180)"
   ]
  },
  {
   "cell_type": "code",
   "execution_count": 396,
   "metadata": {},
   "outputs": [
    {
     "data": {
      "text/plain": [
       "[<matplotlib.lines.Line2D at 0x7f8ec8231a50>]"
      ]
     },
     "execution_count": 396,
     "metadata": {},
     "output_type": "execute_result"
    },
    {
     "data": {
      "image/png": "[encoded data removed]",
      "text/plain": [
       "<Figure size 432x288 with 1 Axes>"
      ]
     },
     "metadata": {
      "needs_background": "light"
     },
     "output_type": "display_data"
    }
   ],
   "source": [
    "plt.plot(nptimesoneorbit,tpredoneorbit)"
   ]
  },
  {
   "cell_type": "markdown",
   "metadata": {},
   "source": [
    "Range of output is wrong: arctan2 is only giving output in range of pi, not 2 pi. Also need to fix perihelion start so that it doesn't have branch cut. "
   ]
  },
  {
   "cell_type": "code",
   "execution_count": 397,
   "metadata": {},
   "outputs": [],
   "source": [
    "from matplotlib import pyplot as plt"
   ]
  },
  {
   "cell_type": "markdown",
   "metadata": {},
   "source": [
    "Arctan function is giving tangent output. I'm done for today. I'm asking for help on this, either Steve or on a forum. Clearly something really weird is going on. This is a distinct problem from the retrograde motion I had before I fixed the center, which you can tell from the sharply spiked top as opposed to the curved top I had before. Now the center appears to be in the correct location but there is some problem related to tangent versus arctangent. "
   ]
  },
  {
   "cell_type": "code",
   "execution_count": 398,
   "metadata": {},
   "outputs": [
    {
     "data": {
      "text/plain": [
       "<matplotlib.collections.PathCollection at 0x7f8eccc7c990>"
      ]
     },
     "execution_count": 398,
     "metadata": {},
     "output_type": "execute_result"
    },
    {
     "data": {
      "image/png": "[encoded data removed]",
      "text/plain": [
       "<Figure size 432x288 with 1 Axes>"
      ]
     },
     "metadata": {
      "needs_background": "light"
     },
     "output_type": "display_data"
    }
   ],
   "source": [
    "plt.scatter(nptimesoneorbit,tpredoneorbit)"
   ]
  },
  {
   "cell_type": "markdown",
   "metadata": {},
   "source": [
    "Retrograde motion as seen from the center of mass. I'm not sure that makes sense. So there's a problem with the definition of the Eang. The problem might be with the ellipse center, which probably shouldn't be at x=-70, if it spans between +5 and -95. "
   ]
  },
  {
   "cell_type": "code",
   "execution_count": 401,
   "metadata": {},
   "outputs": [
    {
     "name": "stdout",
     "output_type": "stream",
     "text": [
      "44428\n",
      "[50.         49.999998   49.999992   ... 49.99997067 49.99998399\n",
      " 49.99999331] [ 0.          0.01224745  0.02449489 ... -0.04690014 -0.0346527\n",
      " -0.02240526] [0.00000000e+00 1.40345423e-02 2.80690841e-02 ... 3.59946256e+02\n",
      " 3.59960291e+02 3.59974325e+02]\n",
      "Eang [0.00000000e+00 2.44948973e-04 4.89897935e-04 ... 6.28224730e+00\n",
      " 6.28249225e+00 6.28273720e+00]\n",
      "[0.00000000e+00 2.44948973e-04 4.89897935e-04 ... 6.28224730e+00\n",
      " 6.28249225e+00 6.28273720e+00] <Parameter 'ecc', value=0.5, bounds=[0:1.0]> <Parameter 'rad', value=50.0, bounds=[0:inf]> <Parameter 'mass', value=1.0 (fixed), bounds=[-inf:inf]> [0.00000000e+00 2.59807619e-01 5.19615221e-01 ... 4.44188804e+03\n",
      " 4.44214784e+03 4.44240765e+03]\n",
      "44428\n",
      "[50.         49.999998   49.999992   ... 49.99997067 49.99998399\n",
      " 49.99999331] [ 0.          0.01224745  0.02449489 ... -0.04690014 -0.0346527\n",
      " -0.02240526] [0.00000000e+00 1.40345423e-02 2.80690841e-02 ... 3.59946256e+02\n",
      " 3.59960291e+02 3.59974325e+02]\n",
      "Eang [0.00000000e+00 2.44948973e-04 4.89897935e-04 ... 6.28224730e+00\n",
      " 6.28249225e+00 6.28273720e+00]\n",
      "[0.00000000e+00 2.44948973e-04 4.89897935e-04 ... 6.28224730e+00\n",
      " 6.28249225e+00 6.28273720e+00] <Parameter 'ecc', value=0.5, bounds=[0:1.0]> <Parameter 'rad', value=50.0, bounds=[0:inf]> <Parameter 'mass', value=1.0 (fixed), bounds=[-inf:inf]> [0.00000000e+00 2.59807619e-01 5.19615221e-01 ... 4.44188804e+03\n",
      " 4.44214784e+03 4.44240765e+03]\n",
      "44428\n",
      "[50.         49.999998   49.999992   ... 49.99997067 49.99998399\n",
      " 49.99999331] [ 0.          0.01224745  0.02449489 ... -0.04690014 -0.0346527\n",
      " -0.02240526] [0.00000000e+00 1.40345423e-02 2.80690841e-02 ... 3.59946256e+02\n",
      " 3.59960291e+02 3.59974325e+02]\n",
      "Eang [0.00000000e+00 2.44948973e-04 4.89897935e-04 ... 6.28224730e+00\n",
      " 6.28249225e+00 6.28273720e+00]\n",
      "[0.00000000e+00 2.44948973e-04 4.89897935e-04 ... 6.28224730e+00\n",
      " 6.28249225e+00 6.28273720e+00] <Parameter 'ecc', value=0.5, bounds=[0:1.0]> <Parameter 'rad', value=50.0, bounds=[0:inf]> <Parameter 'mass', value=1.0 (fixed), bounds=[-inf:inf]> [0.00000000e+00 2.59807619e-01 5.19615221e-01 ... 4.44188804e+03\n",
      " 4.44214784e+03 4.44240765e+03]\n",
      "44428\n",
      "[50.00000038 49.99999838 49.99999238 ... 49.99997105 49.99998437\n",
      " 49.99999369] [ 0.          0.01224745  0.02449489 ... -0.04690014 -0.0346527\n",
      " -0.02240526] [0.00000000e+00 1.40345422e-02 2.80690839e-02 ... 3.59946256e+02\n",
      " 3.59960291e+02 3.59974325e+02]\n",
      "Eang [0.00000000e+00 2.44948971e-04 4.89897932e-04 ... 6.28224730e+00\n",
      " 6.28249225e+00 6.28273720e+00]\n",
      "[0.00000000e+00 2.44948971e-04 4.89897932e-04 ... 6.28224730e+00\n",
      " 6.28249225e+00 6.28273720e+00] <Parameter 'ecc', value=0.5, bounds=[0:1.0]> <Parameter 'rad', value=50.000000759667046, bounds=[0:inf]> <Parameter 'mass', value=1.0 (fixed), bounds=[-inf:inf]> [0.00000000e+00 2.59807622e-01 5.19615229e-01 ... 4.44188814e+03\n",
      " 4.44214794e+03 4.44240775e+03]\n",
      "44428\n",
      "[50.00000037 49.99999837 49.99999237 ... 49.99997104 49.99998436\n",
      " 49.99999368] [ 0.          0.01224745  0.02449489 ... -0.04690014 -0.0346527\n",
      " -0.02240526] [0.00000000e+00 1.40345422e-02 2.80690839e-02 ... 3.59946256e+02\n",
      " 3.59960291e+02 3.59974325e+02]\n",
      "Eang [0.00000000e+00 2.44948971e-04 4.89897932e-04 ... 6.28224730e+00\n",
      " 6.28249225e+00 6.28273720e+00]\n",
      "[0.00000000e+00 2.44948971e-04 4.89897932e-04 ... 6.28224730e+00\n",
      " 6.28249225e+00 6.28273720e+00] <Parameter 'ecc', value=0.5000000074505806, bounds=[0:1.0]> <Parameter 'rad', value=50.0, bounds=[0:inf]> <Parameter 'mass', value=1.0 (fixed), bounds=[-inf:inf]> [0.00000000e+00 2.59807618e-01 5.19615220e-01 ... 4.44188804e+03\n",
      " 4.44214784e+03 4.44240765e+03]\n",
      "44428\n",
      "[55.62839195 55.62838995 55.62838395 ... 55.62836262 55.62837594\n",
      " 55.62838526] [ 0.          0.01224745  0.02449489 ... -0.04690014 -0.0346527\n",
      " -0.02240526] [0.00000000e+00 1.26145497e-02 2.52290989e-02 ... 3.59951694e+02\n",
      " 3.59964309e+02 3.59976923e+02]\n",
      "Eang [0.00000000e+00 2.20165426e-04 4.40330844e-04 ... 6.28234221e+00\n",
      " 6.28256238e+00 6.28278254e+00]\n",
      "[0.00000000e+00 2.20165426e-04 4.40330844e-04 ... 6.28234221e+00\n",
      " 6.28256238e+00 6.28278254e+00] <Parameter 'ecc', value=0.5882798539613446, bounds=[0:1.0]> <Parameter 'rad', value=52.06432235100512, bounds=[0:inf]> <Parameter 'mass', value=1.0 (fixed), bounds=[-inf:inf]> [0.00000000e+00 2.62734118e-01 5.25468220e-01 ... 4.71984381e+03\n",
      " 4.72010655e+03 4.72036928e+03]\n",
      "44428\n",
      "[55.62839241 55.62839041 55.62838441 ... 55.62836309 55.6283764\n",
      " 55.62838572] [ 0.          0.01224745  0.02449489 ... -0.04690014 -0.0346527\n",
      " -0.02240526] [0.00000000e+00 1.26145496e-02 2.52290987e-02 ... 3.59951694e+02\n",
      " 3.59964309e+02 3.59976923e+02]\n",
      "Eang [0.00000000e+00 2.20165424e-04 4.40330840e-04 ... 6.28234221e+00\n",
      " 6.28256238e+00 6.28278254e+00]\n",
      "[0.00000000e+00 2.20165424e-04 4.40330840e-04 ... 6.28234221e+00\n",
      " 6.28256238e+00 6.28278254e+00] <Parameter 'ecc', value=0.5882798539613446, bounds=[0:1.0]> <Parameter 'rad', value=52.06432314144432, bounds=[0:inf]> <Parameter 'mass', value=1.0 (fixed), bounds=[-inf:inf]> [0.00000000e+00 2.62734122e-01 5.25468228e-01 ... 4.71984392e+03\n",
      " 4.72010665e+03 4.72036939e+03]\n",
      "44428\n",
      "[55.62839202 55.62839002 55.62838402 ... 55.62836269 55.62837601\n",
      " 55.62838532] [ 0.          0.01224745  0.02449489 ... -0.04690014 -0.0346527\n",
      " -0.02240526] [0.00000000e+00 1.26145497e-02 2.52290989e-02 ... 3.59951694e+02\n",
      " 3.59964309e+02 3.59976923e+02]\n",
      "Eang [0.00000000e+00 2.20165426e-04 4.40330843e-04 ... 6.28234221e+00\n",
      " 6.28256238e+00 6.28278254e+00]\n",
      "[0.00000000e+00 2.20165426e-04 4.40330843e-04 ... 6.28234221e+00\n",
      " 6.28256238e+00 6.28278254e+00] <Parameter 'ecc', value=0.5882798552629742, bounds=[0:1.0]> <Parameter 'rad', value=52.06432235100512, bounds=[0:inf]> <Parameter 'mass', value=1.0 (fixed), bounds=[-inf:inf]> [0.00000000e+00 2.62734118e-01 5.25468220e-01 ... 4.71984381e+03\n",
      " 4.72010655e+03 4.72036928e+03]\n",
      "44428\n",
      "[76.77792583 76.77792383 76.77791783 ... 76.7778965  76.77790982\n",
      " 76.77791914] [ 0.          0.01224745  0.02449489 ... -0.04690014 -0.0346527\n",
      " -0.02240526] [0.00000000e+00 9.13969878e-03 1.82793971e-02 ... 3.59965001e+02\n",
      " 3.59974140e+02 3.59983280e+02]\n",
      "Eang [0.00000000e+00 1.59517836e-04 3.19035664e-04 ... 6.28257445e+00\n",
      " 6.28273397e+00 6.28289349e+00]\n",
      "[0.00000000e+00 1.59517836e-04 3.19035664e-04 ... 6.28257445e+00\n",
      " 6.28273397e+00 6.28289349e+00] <Parameter 'ecc', value=0.9999997079312325, bounds=[0:1.0]> <Parameter 'rad', value=51.777940953482364, bounds=[0:inf]> <Parameter 'mass', value=1.0 (fixed), bounds=[-inf:inf]> [0.00000000e+00 2.37731287e-01 4.75462557e-01 ... 4.68104240e+03\n",
      " 4.68128013e+03 4.68151786e+03]\n",
      "44428\n",
      "[76.77792662 76.77792462 76.77791862 ... 76.77789729 76.77791061\n",
      " 76.77791992] [ 0.          0.01224745  0.02449489 ... -0.04690014 -0.0346527\n",
      " -0.02240526] [0.00000000e+00 9.13969868e-03 1.82793969e-02 ... 3.59965001e+02\n",
      " 3.59974140e+02 3.59983280e+02]\n",
      "Eang [0.00000000e+00 1.59517835e-04 3.19035661e-04 ... 6.28257445e+00\n",
      " 6.28273397e+00 6.28289349e+00]\n",
      "[0.00000000e+00 1.59517835e-04 3.19035661e-04 ... 6.28257445e+00\n",
      " 6.28273397e+00 6.28289349e+00] <Parameter 'ecc', value=0.9999997079312325, bounds=[0:1.0]> <Parameter 'rad', value=51.77794173965263, bounds=[0:inf]> <Parameter 'mass', value=1.0 (fixed), bounds=[-inf:inf]> [0.00000000e+00 2.37731290e-01 4.75462563e-01 ... 4.68104251e+03\n",
      " 4.68128024e+03 4.68151797e+03]\n",
      "44428\n",
      "[76.77792583 76.77792383 76.77791783 ... 76.7778965  76.77790982\n",
      " 76.77791914] [ 0.          0.01224745  0.02449489 ... -0.04690014 -0.0346527\n",
      " -0.02240526] [0.00000000e+00 9.13969878e-03 1.82793971e-02 ... 3.59965001e+02\n",
      " 3.59974140e+02 3.59983280e+02]\n",
      "Eang [0.00000000e+00 1.59517836e-04 3.19035664e-04 ... 6.28257445e+00\n",
      " 6.28273397e+00 6.28289349e+00]\n",
      "[0.00000000e+00 1.59517836e-04 3.19035664e-04 ... 6.28257445e+00\n",
      " 6.28273397e+00 6.28289349e+00] <Parameter 'ecc', value=0.9999997079185738, bounds=[0:1.0]> <Parameter 'rad', value=51.777940953482364, bounds=[0:inf]> <Parameter 'mass', value=1.0 (fixed), bounds=[-inf:inf]> [0.00000000e+00 2.37731287e-01 4.75462557e-01 ... 4.68104240e+03\n",
      " 4.68128013e+03 4.68151786e+03]\n",
      "44428\n",
      "[26.17119479 26.17119279 26.17118679 ... 26.17116547 26.17117878\n",
      " 26.1711881 ] [ 0.          0.01224745  0.02449489 ... -0.04690014 -0.0346527\n",
      " -0.02240526] [0.00000000e+00 2.68129564e-02 5.36259090e-02 ... 3.59897323e+02\n",
      " 3.59924136e+02 3.59950949e+02]\n",
      "Eang [0.00000000e+00 4.67974371e-04 9.35948677e-04 ... 6.28139326e+00\n",
      " 6.28186123e+00 6.28232920e+00]\n",
      "[0.00000000e+00 4.67974371e-04 9.35948677e-04 ... 6.28139326e+00\n",
      " 6.28186123e+00 6.28232920e+00] <Parameter 'ecc', value=0.022328830326934113, bounds=[0:1.0]> <Parameter 'rad', value=52.45213373149671, bounds=[0:inf]> <Parameter 'mass', value=1.0 (fixed), bounds=[-inf:inf]> [0.00000000e+00 3.63485770e-01 7.26971487e-01 ... 4.77230237e+03\n",
      " 4.77266586e+03 4.77302934e+03]\n",
      "44428\n",
      "[77.06603103 77.06602903 77.06602303 ... 77.0660017  77.06601502\n",
      " 77.06602434] [ 0.          0.01224745  0.02449489 ... -0.04690014 -0.0346527\n",
      " -0.02240526] [0.00000000e+00 9.10553074e-03 1.82110610e-02 ... 3.59965131e+02\n",
      " 3.59974237e+02 3.59983343e+02]\n",
      "Eang [0.00000000e+00 1.58921492e-04 3.17842974e-04 ... 6.28257674e+00\n",
      " 6.28273566e+00 6.28289458e+00]\n",
      "[0.00000000e+00 1.58921492e-04 3.17842974e-04 ... 6.28257674e+00\n",
      " 6.28273566e+00 6.28289458e+00] <Parameter 'ecc', value=0.9999979472619989, bounds=[0:1.0]> <Parameter 'rad', value=52.06613790858286, bounds=[0:inf]> <Parameter 'mass', value=1.0 (fixed), bounds=[-inf:inf]> [0.00000000e+00 2.38822491e-01 4.77644966e-01 ... 4.72018232e+03\n",
      " 4.72042114e+03 4.72065996e+03]\n",
      "44428\n",
      "[77.06603182 77.06602982 77.06602382 ... 77.06600249 77.06601581\n",
      " 77.06602513] [ 0.          0.01224745  0.02449489 ... -0.04690014 -0.0346527\n",
      " -0.02240526] [0.00000000e+00 9.10553065e-03 1.82110608e-02 ... 3.59965131e+02\n",
      " 3.59974237e+02 3.59983343e+02]\n",
      "Eang [0.00000000e+00 1.58921490e-04 3.17842971e-04 ... 6.28257674e+00\n",
      " 6.28273566e+00 6.28289458e+00]\n",
      "[0.00000000e+00 1.58921490e-04 3.17842971e-04 ... 6.28257674e+00\n",
      " 6.28273566e+00 6.28289458e+00] <Parameter 'ecc', value=0.9999979472619989, bounds=[0:1.0]> <Parameter 'rad', value=52.066138699049134, bounds=[0:inf]> <Parameter 'mass', value=1.0 (fixed), bounds=[-inf:inf]> [0.00000000e+00 2.38822494e-01 4.77644972e-01 ... 4.72018242e+03\n",
      " 4.72042125e+03 4.72066007e+03]\n",
      "44428\n",
      "[77.06603103 77.06602903 77.06602303 ... 77.0660017  77.06601502\n",
      " 77.06602434] [ 0.          0.01224745  0.02449489 ... -0.04690014 -0.0346527\n",
      " -0.02240526] [0.00000000e+00 9.10553074e-03 1.82110610e-02 ... 3.59965131e+02\n",
      " 3.59974237e+02 3.59983343e+02]\n",
      "Eang [0.00000000e+00 1.58921492e-04 3.17842974e-04 ... 6.28257674e+00\n",
      " 6.28273566e+00 6.28289458e+00]\n",
      "[0.00000000e+00 1.58921492e-04 3.17842974e-04 ... 6.28257674e+00\n",
      " 6.28273566e+00 6.28289458e+00] <Parameter 'ecc', value=0.9999979472954732, bounds=[0:1.0]> <Parameter 'rad', value=52.06613790858286, bounds=[0:inf]> <Parameter 'mass', value=1.0 (fixed), bounds=[-inf:inf]> [0.00000000e+00 2.38822491e-01 4.77644966e-01 ... 4.72018232e+03\n",
      " 4.72042114e+03 4.72065996e+03]\n",
      "44428\n",
      "[75.02460803 75.02460603 75.02460003 ... 75.0245787  75.02459202\n",
      " 75.02460134] [ 0.          0.01224745  0.02449489 ... -0.04690014 -0.0346527\n",
      " -0.02240526] [0.00000000e+00 9.35329265e-03 1.87065848e-02 ... 3.59964183e+02\n",
      " 3.59973536e+02 3.59982889e+02]\n",
      "Eang [0.00000000e+00 1.63245753e-04 3.26491497e-04 ... 6.28256018e+00\n",
      " 6.28272342e+00 6.28288667e+00]\n",
      "[0.00000000e+00 1.63245753e-04 3.26491497e-04 ... 6.28256018e+00\n",
      " 6.28272342e+00 6.28288667e+00] <Parameter 'ecc', value=0.9536293468624198, bounds=[0:1.0]> <Parameter 'rad', value=52.457076950141555, bounds=[0:inf]> <Parameter 'mass', value=1.0 (fixed), bounds=[-inf:inf]> [0.00000000e+00 2.42337256e-01 4.84674496e-01 ... 4.77344114e+03\n",
      " 4.77368348e+03 4.77392581e+03]\n",
      "44428\n",
      "[77.15201362 77.15201162 77.15200562 ... 77.1519843  77.15199761\n",
      " 77.15200693] [ 0.          0.01224745  0.02449489 ... -0.04690014 -0.0346527\n",
      " -0.02240526] [0.00000000e+00 9.09538302e-03 1.81907655e-02 ... 3.59965170e+02\n",
      " 3.59974266e+02 3.59983361e+02]\n",
      "Eang [0.00000000e+00 1.58744380e-04 3.17488752e-04 ... 6.28257741e+00\n",
      " 6.28273616e+00 6.28289490e+00]\n",
      "[0.00000000e+00 1.58744380e-04 3.17488752e-04 ... 6.28257741e+00\n",
      " 6.28273616e+00 6.28289490e+00] <Parameter 'ecc', value=0.9999996777791091, bounds=[0:1.0]> <Parameter 'rad', value=52.15203042834293, bounds=[0:inf]> <Parameter 'mass', value=1.0 (fixed), bounds=[-inf:inf]> [0.00000000e+00 2.39147097e-01 4.78294177e-01 ... 4.73186835e+03\n",
      " 4.73210749e+03 4.73234664e+03]\n",
      "44428\n"
     ]
    },
    {
     "name": "stdout",
     "output_type": "stream",
     "text": [
      "[77.15201442 77.15201242 77.15200642 ... 77.15198509 77.1519984\n",
      " 77.15200772] [ 0.          0.01224745  0.02449489 ... -0.04690014 -0.0346527\n",
      " -0.02240526] [0.00000000e+00 9.09538293e-03 1.81907654e-02 ... 3.59965170e+02\n",
      " 3.59974266e+02 3.59983361e+02]\n",
      "Eang [0.00000000e+00 1.58744379e-04 3.17488749e-04 ... 6.28257741e+00\n",
      " 6.28273616e+00 6.28289490e+00]\n",
      "[0.00000000e+00 1.58744379e-04 3.17488749e-04 ... 6.28257741e+00\n",
      " 6.28273616e+00 6.28289490e+00] <Parameter 'ecc', value=0.9999996777791091, bounds=[0:1.0]> <Parameter 'rad', value=52.152031220089555, bounds=[0:inf]> <Parameter 'mass', value=1.0 (fixed), bounds=[-inf:inf]> [0.00000000e+00 2.39147100e-01 4.78294183e-01 ... 4.73186845e+03\n",
      " 4.73210760e+03 4.73234675e+03]\n",
      "44428\n",
      "[77.15201362 77.15201162 77.15200562 ... 77.15198429 77.15199761\n",
      " 77.15200693] [ 0.          0.01224745  0.02449489 ... -0.04690014 -0.0346527\n",
      " -0.02240526] [0.00000000e+00 9.09538302e-03 1.81907655e-02 ... 3.59965170e+02\n",
      " 3.59974266e+02 3.59983361e+02]\n",
      "Eang [0.00000000e+00 1.58744380e-04 3.17488752e-04 ... 6.28257741e+00\n",
      " 6.28273616e+00 6.28289490e+00]\n",
      "[0.00000000e+00 1.58744380e-04 3.17488752e-04 ... 6.28257741e+00\n",
      " 6.28273616e+00 6.28289490e+00] <Parameter 'ecc', value=0.9999996777658127, bounds=[0:1.0]> <Parameter 'rad', value=52.15203042834293, bounds=[0:inf]> <Parameter 'mass', value=1.0 (fixed), bounds=[-inf:inf]> [0.00000000e+00 2.39147097e-01 4.78294177e-01 ... 4.73186835e+03\n",
      " 4.73210749e+03 4.73234664e+03]\n",
      "44428\n",
      "[77.32330414 77.32330214 77.32329614 ... 77.32327481 77.32328813\n",
      " 77.32329745] [ 0.          0.01224745  0.02449489 ... -0.04690014 -0.0346527\n",
      " -0.02240526] [0.00000000e+00 9.07523446e-03 1.81504684e-02 ... 3.59965247e+02\n",
      " 3.59974323e+02 3.59983398e+02]\n",
      "Eang [0.00000000e+00 1.58392722e-04 3.16785435e-04 ... 6.28257876e+00\n",
      " 6.28273715e+00 6.28289555e+00]\n",
      "[0.00000000e+00 1.58392722e-04 3.16785435e-04 ... 6.28257876e+00\n",
      " 6.28273715e+00 6.28289555e+00] <Parameter 'ecc', value=0.9999924162065279, bounds=[0:1.0]> <Parameter 'rad', value=52.32370095454682, bounds=[0:inf]> <Parameter 'mass', value=1.0 (fixed), bounds=[-inf:inf]> [0.00000000e+00 2.39795621e-01 4.79591225e-01 ... 4.75525367e+03\n",
      " 4.75549347e+03 4.75573326e+03]\n",
      "44428\n",
      "[77.32330494 77.32330294 77.32329694 ... 77.32327561 77.32328893\n",
      " 77.32329824] [ 0.          0.01224745  0.02449489 ... -0.04690014 -0.0346527\n",
      " -0.02240526] [0.00000000e+00 9.07523437e-03 1.81504682e-02 ... 3.59965247e+02\n",
      " 3.59974323e+02 3.59983398e+02]\n",
      "Eang [0.00000000e+00 1.58392720e-04 3.16785432e-04 ... 6.28257876e+00\n",
      " 6.28273715e+00 6.28289555e+00]\n",
      "[0.00000000e+00 1.58392720e-04 3.16785432e-04 ... 6.28257876e+00\n",
      " 6.28273715e+00 6.28289555e+00] <Parameter 'ecc', value=0.9999924162065279, bounds=[0:1.0]> <Parameter 'rad', value=52.323701748852436, bounds=[0:inf]> <Parameter 'mass', value=1.0 (fixed), bounds=[-inf:inf]> [0.00000000e+00 2.39795624e-01 4.79591231e-01 ... 4.75525378e+03\n",
      " 4.75549357e+03 4.75573337e+03]\n",
      "44428\n",
      "[77.32330415 77.32330215 77.32329615 ... 77.32327482 77.32328813\n",
      " 77.32329745] [ 0.          0.01224745  0.02449489 ... -0.04690014 -0.0346527\n",
      " -0.02240526] [0.00000000e+00 9.07523446e-03 1.81504684e-02 ... 3.59965247e+02\n",
      " 3.59974323e+02 3.59983398e+02]\n",
      "Eang [0.00000000e+00 1.58392722e-04 3.16785435e-04 ... 6.28257876e+00\n",
      " 6.28273715e+00 6.28289555e+00]\n",
      "[0.00000000e+00 1.58392722e-04 3.16785435e-04 ... 6.28257876e+00\n",
      " 6.28273715e+00 6.28289555e+00] <Parameter 'ecc', value=0.9999924162707604, bounds=[0:1.0]> <Parameter 'rad', value=52.32370095454682, bounds=[0:inf]> <Parameter 'mass', value=1.0 (fixed), bounds=[-inf:inf]> [0.00000000e+00 2.39795621e-01 4.79591225e-01 ... 4.75525367e+03\n",
      " 4.75549347e+03 4.75573326e+03]\n",
      "44428\n",
      "[75.9917781  75.9917761  75.9917701  ... 75.99174877 75.99176209\n",
      " 75.99177141] [ 0.          0.01224745  0.02449489 ... -0.04690014 -0.0346527\n",
      " -0.02240526] [0.00000000e+00 9.23425050e-03 1.84685005e-02 ... 3.59964639e+02\n",
      " 3.59973873e+02 3.59983107e+02]\n",
      "Eang [0.00000000e+00 1.61168075e-04 3.22336142e-04 ... 6.28256813e+00\n",
      " 6.28272930e+00 6.28289047e+00]\n",
      "[0.00000000e+00 1.61168075e-04 3.22336142e-04 ... 6.28256813e+00\n",
      " 6.28272930e+00 6.28289047e+00] <Parameter 'ecc', value=0.9717926322717637, bounds=[0:1.0]> <Parameter 'rad', value=52.47187147673679, bounds=[0:inf]> <Parameter 'mass', value=1.0 (fixed), bounds=[-inf:inf]> [0.00000000e+00 2.41579504e-01 4.83158991e-01 ... 4.77546396e+03\n",
      " 4.77570554e+03 4.77594712e+03]\n",
      "44428\n",
      "[77.35852731 77.35852531 77.35851931 ... 77.35849799 77.3585113\n",
      " 77.35852062] [ 0.          0.01224745  0.02449489 ... -0.04690014 -0.0346527\n",
      " -0.02240526] [0.00000000e+00 9.07110230e-03 1.81422041e-02 ... 3.59965263e+02\n",
      " 3.59974334e+02 3.59983405e+02]\n",
      "Eang [0.00000000e+00 1.58320602e-04 3.16641195e-04 ... 6.28257904e+00\n",
      " 6.28273736e+00 6.28289568e+00]\n",
      "[0.00000000e+00 1.58320602e-04 3.16641195e-04 ... 6.28257904e+00\n",
      " 6.28273736e+00 6.28289568e+00] <Parameter 'ecc', value=0.9999983391337341, bounds=[0:1.0]> <Parameter 'rad', value=52.358614274132236, bounds=[0:inf]> <Parameter 'mass', value=1.0 (fixed), bounds=[-inf:inf]> [0.00000000e+00 2.39927085e-01 4.79854154e-01 ... 4.76001434e+03\n",
      " 4.76025427e+03 4.76049419e+03]\n",
      "44428\n",
      "[77.35852811 77.35852611 77.35852011 ... 77.35849878 77.3585121\n",
      " 77.35852142] [ 0.          0.01224745  0.02449489 ... -0.04690014 -0.0346527\n",
      " -0.02240526] [0.00000000e+00 9.07110220e-03 1.81422039e-02 ... 3.59965263e+02\n",
      " 3.59974334e+02 3.59983405e+02]\n",
      "Eang [0.00000000e+00 1.58320600e-04 3.16641192e-04 ... 6.28257904e+00\n",
      " 6.28273736e+00 6.28289568e+00]\n",
      "[0.00000000e+00 1.58320600e-04 3.16641192e-04 ... 6.28257904e+00\n",
      " 6.28273736e+00 6.28289568e+00] <Parameter 'ecc', value=0.9999983391337341, bounds=[0:1.0]> <Parameter 'rad', value=52.35861506895828, bounds=[0:inf]> <Parameter 'mass', value=1.0 (fixed), bounds=[-inf:inf]> [0.00000000e+00 2.39927088e-01 4.79854160e-01 ... 4.76001445e+03\n",
      " 4.76025438e+03 4.76049430e+03]\n",
      "44428\n",
      "[77.35852731 77.35852531 77.35851931 ... 77.35849798 77.3585113\n",
      " 77.35852062] [ 0.          0.01224745  0.02449489 ... -0.04690014 -0.0346527\n",
      " -0.02240526] [0.00000000e+00 9.07110230e-03 1.81422041e-02 ... 3.59965263e+02\n",
      " 3.59974334e+02 3.59983405e+02]\n",
      "Eang [0.00000000e+00 1.58320602e-04 3.16641195e-04 ... 6.28257904e+00\n",
      " 6.28273736e+00 6.28289568e+00]\n",
      "[0.00000000e+00 1.58320602e-04 3.16641195e-04 ... 6.28257904e+00\n",
      " 6.28273736e+00 6.28289568e+00] <Parameter 'ecc', value=0.9999983391035192, bounds=[0:1.0]> <Parameter 'rad', value=52.358614274132236, bounds=[0:inf]> <Parameter 'mass', value=1.0 (fixed), bounds=[-inf:inf]> [0.00000000e+00 2.39927085e-01 4.79854154e-01 ... 4.76001434e+03\n",
      " 4.76025427e+03 4.76049419e+03]\n",
      "44428\n",
      "[77.42624437 77.42624237 77.42623637 ... 77.42621504 77.42622835\n",
      " 77.42623767] [ 0.          0.01224745  0.02449489 ... -0.04690014 -0.0346527\n",
      " -0.02240526] [0.00000000e+00 9.06316870e-03 1.81263369e-02 ... 3.59965294e+02\n",
      " 3.59974357e+02 3.59983420e+02]\n",
      "Eang [0.00000000e+00 1.58182135e-04 3.16364260e-04 ... 6.28257957e+00\n",
      " 6.28273775e+00 6.28289593e+00]\n",
      "[0.00000000e+00 1.58182135e-04 3.16364260e-04 ... 6.28257957e+00\n",
      " 6.28273775e+00 6.28289593e+00] <Parameter 'ecc', value=0.9999523480514367, bounds=[0:1.0]> <Parameter 'rad', value=52.42874269684245, bounds=[0:inf]> <Parameter 'mass', value=1.0 (fixed), bounds=[-inf:inf]> [0.00000000e+00 2.40193494e-01 4.80386971e-01 ... 4.76958162e+03\n",
      " 4.76982181e+03 4.77006200e+03]\n",
      "44428\n",
      "[77.42624516 77.42624316 77.42623716 ... 77.42621583 77.42622915\n",
      " 77.42623847] [ 0.          0.01224745  0.02449489 ... -0.04690014 -0.0346527\n",
      " -0.02240526] [0.00000000e+00 9.06316861e-03 1.81263367e-02 ... 3.59965294e+02\n",
      " 3.59974357e+02 3.59983420e+02]\n",
      "Eang [0.00000000e+00 1.58182133e-04 3.16364257e-04 ... 6.28257957e+00\n",
      " 6.28273775e+00 6.28289593e+00]\n",
      "[0.00000000e+00 1.58182133e-04 3.16364257e-04 ... 6.28257957e+00\n",
      " 6.28273775e+00 6.28289593e+00] <Parameter 'ecc', value=0.9999523480514367, bounds=[0:1.0]> <Parameter 'rad', value=52.428743492713856, bounds=[0:inf]> <Parameter 'mass', value=1.0 (fixed), bounds=[-inf:inf]> [0.00000000e+00 2.40193497e-01 4.80386977e-01 ... 4.76958173e+03\n",
      " 4.76982192e+03 4.77006211e+03]\n",
      "44428\n",
      "[77.42624437 77.42624237 77.42623637 ... 77.42621505 77.42622836\n",
      " 77.42623768] [ 0.          0.01224745  0.02449489 ... -0.04690014 -0.0346527\n",
      " -0.02240526] [0.00000000e+00 9.06316870e-03 1.81263369e-02 ... 3.59965294e+02\n",
      " 3.59974357e+02 3.59983420e+02]\n",
      "Eang [0.00000000e+00 1.58182135e-04 3.16364260e-04 ... 6.28257957e+00\n",
      " 6.28273775e+00 6.28289593e+00]\n",
      "[0.00000000e+00 1.58182135e-04 3.16364260e-04 ... 6.28257957e+00\n",
      " 6.28273775e+00 6.28289593e+00] <Parameter 'ecc', value=0.99995234821159, bounds=[0:1.0]> <Parameter 'rad', value=52.42874269684245, bounds=[0:inf]> <Parameter 'mass', value=1.0 (fixed), bounds=[-inf:inf]> [0.00000000e+00 2.40193494e-01 4.80386971e-01 ... 4.76958162e+03\n",
      " 4.76982181e+03 4.77006200e+03]\n",
      "44428\n"
     ]
    },
    {
     "name": "stdout",
     "output_type": "stream",
     "text": [
      "[77.24647071 77.24646871 77.24646271 ... 77.24644139 77.2464547\n",
      " 77.24646402] [ 0.          0.01224745  0.02449489 ... -0.04690014 -0.0346527\n",
      " -0.02240526] [0.00000000e+00 9.08426117e-03 1.81685218e-02 ... 3.59965213e+02\n",
      " 3.59974297e+02 3.59983381e+02]\n",
      "Eang [0.00000000e+00 1.58550268e-04 3.17100526e-04 ... 6.28257816e+00\n",
      " 6.28273671e+00 6.28289526e+00]\n",
      "[0.00000000e+00 1.58550268e-04 3.17100526e-04 ... 6.28257816e+00\n",
      " 6.28273671e+00 6.28289526e+00] <Parameter 'ecc', value=0.9957475546690484, bounds=[0:1.0]> <Parameter 'rad', value=52.46959479685586, bounds=[0:inf]> <Parameter 'mass', value=1.0 (fixed), bounds=[-inf:inf]> [0.00000000e+00 2.40527172e-01 4.81054328e-01 ... 4.77515714e+03\n",
      " 4.77539766e+03 4.77563819e+03]\n",
      "44428\n",
      "[77.43854946 77.43854746 77.43854146 ... 77.43852013 77.43853345\n",
      " 77.43854277] [ 0.          0.01224745  0.02449489 ... -0.04690014 -0.0346527\n",
      " -0.02240526] [0.00000000e+00 9.06172855e-03 1.81234566e-02 ... 3.59965299e+02\n",
      " 3.59974361e+02 3.59983423e+02]\n",
      "Eang [0.00000000e+00 1.58156999e-04 3.16313990e-04 ... 6.28257966e+00\n",
      " 6.28273782e+00 6.28289598e+00]\n",
      "[0.00000000e+00 1.58156999e-04 3.16313990e-04 ... 6.28257966e+00\n",
      " 6.28273782e+00 6.28289598e+00] <Parameter 'ecc', value=0.9999999995177633, bounds=[0:1.0]> <Parameter 'rad', value=52.43854948548624, bounds=[0:inf]> <Parameter 'mass', value=1.0 (fixed), bounds=[-inf:inf]> [0.00000000e+00 2.40228435e-01 4.80456853e-01 ... 4.77092003e+03\n",
      " 4.77116026e+03 4.77140048e+03]\n",
      "44428\n",
      "[77.43855026 77.43854826 77.43854226 ... 77.43852093 77.43853425\n",
      " 77.43854356] [ 0.          0.01224745  0.02449489 ... -0.04690014 -0.0346527\n",
      " -0.02240526] [0.00000000e+00 9.06172846e-03 1.81234564e-02 ... 3.59965299e+02\n",
      " 3.59974361e+02 3.59983423e+02]\n",
      "Eang [0.00000000e+00 1.58156998e-04 3.16313986e-04 ... 6.28257966e+00\n",
      " 6.28273782e+00 6.28289598e+00]\n",
      "[0.00000000e+00 1.58156998e-04 3.16313986e-04 ... 6.28257966e+00\n",
      " 6.28273782e+00 6.28289598e+00] <Parameter 'ecc', value=0.9999999995177633, bounds=[0:1.0]> <Parameter 'rad', value=52.43855028150384, bounds=[0:inf]> <Parameter 'mass', value=1.0 (fixed), bounds=[-inf:inf]> [0.00000000e+00 2.40228438e-01 4.80456859e-01 ... 4.77092014e+03\n",
      " 4.77116036e+03 4.77140059e+03]\n",
      "44428\n",
      "[77.43854946 77.43854746 77.43854146 ... 77.43852013 77.43853345\n",
      " 77.43854277] [ 0.          0.01224745  0.02449489 ... -0.04690014 -0.0346527\n",
      " -0.02240526] [0.00000000e+00 9.06172855e-03 1.81234566e-02 ... 3.59965299e+02\n",
      " 3.59974361e+02 3.59983423e+02]\n",
      "Eang [0.00000000e+00 1.58156999e-04 3.16313990e-04 ... 6.28257966e+00\n",
      " 6.28273782e+00 6.28289598e+00]\n",
      "[0.00000000e+00 1.58156999e-04 3.16313990e-04 ... 6.28257966e+00\n",
      " 6.28273782e+00 6.28289598e+00] <Parameter 'ecc', value=0.9999999995182771, bounds=[0:1.0]> <Parameter 'rad', value=52.43854948548624, bounds=[0:inf]> <Parameter 'mass', value=1.0 (fixed), bounds=[-inf:inf]> [0.00000000e+00 2.40228435e-01 4.80456853e-01 ... 4.77092003e+03\n",
      " 4.77116026e+03 4.77140048e+03]\n",
      "44428\n",
      "[77.45543193 77.45542993 77.45542393 ... 77.4554026  77.45541592\n",
      " 77.45542523] [ 0.          0.01224745  0.02449489 ... -0.04690014 -0.0346527\n",
      " -0.02240526] [0.00000000e+00 9.05975342e-03 1.81195064e-02 ... 3.59965307e+02\n",
      " 3.59974367e+02 3.59983426e+02]\n",
      "Eang [0.00000000e+00 1.58122527e-04 3.16245045e-04 ... 6.28257980e+00\n",
      " 6.28273792e+00 6.28289604e+00]\n",
      "[0.00000000e+00 1.58122527e-04 3.16245045e-04 ... 6.28257980e+00\n",
      " 6.28273792e+00 6.28289604e+00] <Parameter 'ecc', value=0.9999999989652077, bounds=[0:1.0]> <Parameter 'rad', value=52.455431982426276, bounds=[0:inf]> <Parameter 'mass', value=1.0 (fixed), bounds=[-inf:inf]> [0.00000000e+00 2.40292069e-01 4.80584122e-01 ... 4.77322440e+03\n",
      " 4.77346469e+03 4.77370498e+03]\n",
      "44428\n",
      "[77.45543272 77.45543072 77.45542472 ... 77.4554034  77.45541671\n",
      " 77.45542603] [ 0.          0.01224745  0.02449489 ... -0.04690014 -0.0346527\n",
      " -0.02240526] [0.00000000e+00 9.05975333e-03 1.81195062e-02 ... 3.59965307e+02\n",
      " 3.59974367e+02 3.59983426e+02]\n",
      "Eang [0.00000000e+00 1.58122525e-04 3.16245041e-04 ... 6.28257980e+00\n",
      " 6.28273792e+00 6.28289604e+00]\n",
      "[0.00000000e+00 1.58122525e-04 3.16245041e-04 ... 6.28257980e+00\n",
      " 6.28273792e+00 6.28289604e+00] <Parameter 'ecc', value=0.9999999989652077, bounds=[0:1.0]> <Parameter 'rad', value=52.45543277869553, bounds=[0:inf]> <Parameter 'mass', value=1.0 (fixed), bounds=[-inf:inf]> [0.00000000e+00 2.40292072e-01 4.80584128e-01 ... 4.77322451e+03\n",
      " 4.77346480e+03 4.77370509e+03]\n",
      "44428\n",
      "[77.45543193 77.45542993 77.45542393 ... 77.4554026  77.45541592\n",
      " 77.45542523] [ 0.          0.01224745  0.02449489 ... -0.04690014 -0.0346527\n",
      " -0.02240526] [0.00000000e+00 9.05975342e-03 1.81195064e-02 ... 3.59965307e+02\n",
      " 3.59974367e+02 3.59983426e+02]\n",
      "Eang [0.00000000e+00 1.58122527e-04 3.16245045e-04 ... 6.28257980e+00\n",
      " 6.28273792e+00 6.28289604e+00]\n",
      "[0.00000000e+00 1.58122527e-04 3.16245045e-04 ... 6.28257980e+00\n",
      " 6.28273792e+00 6.28289604e+00] <Parameter 'ecc', value=0.9999999989644547, bounds=[0:1.0]> <Parameter 'rad', value=52.455431982426276, bounds=[0:inf]> <Parameter 'mass', value=1.0 (fixed), bounds=[-inf:inf]> [0.00000000e+00 2.40292069e-01 4.80584122e-01 ... 4.77322440e+03\n",
      " 4.77346469e+03 4.77370498e+03]\n",
      "44428\n",
      "[77.48908176 77.48907976 77.48907376 ... 77.48905244 77.48906575\n",
      " 77.48907507] [ 0.          0.01224745  0.02449489 ... -0.04690014 -0.0346527\n",
      " -0.02240526] [0.00000000e+00 9.05581920e-03 1.81116379e-02 ... 3.59965322e+02\n",
      " 3.59974378e+02 3.59983433e+02]\n",
      "Eang [0.00000000e+00 1.58053862e-04 3.16107714e-04 ... 6.28258006e+00\n",
      " 6.28273811e+00 6.28289617e+00]\n",
      "[0.00000000e+00 1.58053862e-04 3.16107714e-04 ... 6.28258006e+00\n",
      " 6.28273811e+00 6.28289617e+00] <Parameter 'ecc', value=0.9999981905031385, bounds=[0:1.0]> <Parameter 'rad', value=52.48917674275926, bounds=[0:inf]> <Parameter 'mass', value=1.0 (fixed), bounds=[-inf:inf]> [0.00000000e+00 2.40419312e-01 4.80838608e-01 ... 4.77783149e+03\n",
      " 4.77807191e+03 4.77831232e+03]\n",
      "44428\n",
      "[77.48908256 77.48908056 77.48907456 ... 77.48905323 77.48906655\n",
      " 77.48907587] [ 0.          0.01224745  0.02449489 ... -0.04690014 -0.0346527\n",
      " -0.02240526] [0.00000000e+00 9.05581911e-03 1.81116377e-02 ... 3.59965322e+02\n",
      " 3.59974378e+02 3.59983433e+02]\n",
      "Eang [0.00000000e+00 1.58053860e-04 3.16107711e-04 ... 6.28258006e+00\n",
      " 6.28273811e+00 6.28289617e+00]\n",
      "[0.00000000e+00 1.58053860e-04 3.16107711e-04 ... 6.28258006e+00\n",
      " 6.28273811e+00 6.28289617e+00] <Parameter 'ecc', value=0.9999981905031385, bounds=[0:1.0]> <Parameter 'rad', value=52.489177539531525, bounds=[0:inf]> <Parameter 'mass', value=1.0 (fixed), bounds=[-inf:inf]> [0.00000000e+00 2.40419315e-01 4.80838614e-01 ... 4.77783160e+03\n",
      " 4.77807201e+03 4.77831243e+03]\n",
      "44428\n",
      "[77.48908177 77.48907977 77.48907377 ... 77.48905244 77.48906575\n",
      " 77.48907507] [ 0.          0.01224745  0.02449489 ... -0.04690014 -0.0346527\n",
      " -0.02240526] [0.00000000e+00 9.05581920e-03 1.81116379e-02 ... 3.59965322e+02\n",
      " 3.59974378e+02 3.59983433e+02]\n",
      "Eang [0.00000000e+00 1.58053862e-04 3.16107714e-04 ... 6.28258006e+00\n",
      " 6.28273811e+00 6.28289617e+00]\n",
      "[0.00000000e+00 1.58053862e-04 3.16107714e-04 ... 6.28258006e+00\n",
      " 6.28273811e+00 6.28289617e+00] <Parameter 'ecc', value=0.9999981905345705, bounds=[0:1.0]> <Parameter 'rad', value=52.48917674275926, bounds=[0:inf]> <Parameter 'mass', value=1.0 (fixed), bounds=[-inf:inf]> [0.00000000e+00 2.40419312e-01 4.80838608e-01 ... 4.77783149e+03\n",
      " 4.77807191e+03 4.77831232e+03]\n",
      "44428\n",
      "[77.43870288 77.43870088 77.43869488 ... 77.43867356 77.43868687\n",
      " 77.43869619] [ 0.          0.01224745  0.02449489 ... -0.04690014 -0.0346527\n",
      " -0.02240526] [0.00000000e+00 9.06171060e-03 1.81234207e-02 ... 3.59965299e+02\n",
      " 3.59974361e+02 3.59983423e+02]\n",
      "Eang [0.00000000e+00 1.58156686e-04 3.16313363e-04 ... 6.28257966e+00\n",
      " 6.28273782e+00 6.28289598e+00]\n",
      "[0.00000000e+00 1.58156686e-04 3.16313363e-04 ... 6.28257966e+00\n",
      " 6.28273782e+00 6.28289598e+00] <Parameter 'ecc', value=0.9989410230670054, bounds=[0:1.0]> <Parameter 'rad', value=52.494293130131716, bounds=[0:inf]> <Parameter 'mass', value=1.0 (fixed), bounds=[-inf:inf]> [0.00000000e+00 2.40483713e-01 4.80967411e-01 ... 4.77852997e+03\n",
      " 4.77877045e+03 4.77901094e+03]\n",
      "44428\n",
      "[77.4909587  77.4909567  77.4909507  ... 77.49092937 77.49094269\n",
      " 77.49095201] [ 0.          0.01224745  0.02449489 ... -0.04690014 -0.0346527\n",
      " -0.02240526] [0.00000000e+00 9.05559986e-03 1.81111992e-02 ... 3.59965323e+02\n",
      " 3.59974378e+02 3.59983434e+02]\n",
      "Eang [0.00000000e+00 1.58050033e-04 3.16100058e-04 ... 6.28258007e+00\n",
      " 6.28273812e+00 6.28289617e+00]\n",
      "[0.00000000e+00 1.58050033e-04 3.16100058e-04 ... 6.28258007e+00\n",
      " 6.28273812e+00 6.28289617e+00] <Parameter 'ecc', value=0.999995816799311, bounds=[0:1.0]> <Parameter 'rad', value=52.491178281348105, bounds=[0:inf]> <Parameter 'mass', value=1.0 (fixed), bounds=[-inf:inf]> [0.00000000e+00 2.40426955e-01 4.80853894e-01 ... 4.77810480e+03\n",
      " 4.77834522e+03 4.77858565e+03]\n",
      "44428\n"
     ]
    },
    {
     "name": "stdout",
     "output_type": "stream",
     "text": [
      "[77.49024912 77.49024712 77.49024112 ... 77.49021979 77.4902331\n",
      " 77.49024242] [ 0.          0.01224745  0.02449489 ... -0.04690014 -0.0346527\n",
      " -0.02240526] [0.00000000e+00 9.05568278e-03 1.81113651e-02 ... 3.59965322e+02\n",
      " 3.59974378e+02 3.59983434e+02]\n",
      "Eang [0.00000000e+00 1.58051481e-04 3.16102952e-04 ... 6.28258007e+00\n",
      " 6.28273812e+00 6.28289617e+00]\n",
      "[0.00000000e+00 1.58051481e-04 3.16102952e-04 ... 6.28258007e+00\n",
      " 6.28273812e+00 6.28289617e+00] <Parameter 'ecc', value=0.9999999775441812, bounds=[0:1.0]> <Parameter 'rad', value=52.490250294148666, bounds=[0:inf]> <Parameter 'mass', value=1.0 (fixed), bounds=[-inf:inf]> [0.00000000e+00 2.40423281e-01 4.80846546e-01 ... 4.77797808e+03\n",
      " 4.77821850e+03 4.77845893e+03]\n",
      "44428\n",
      "[77.49024991 77.49024791 77.49024191 ... 77.49022058 77.4902339\n",
      " 77.49024322] [ 0.          0.01224745  0.02449489 ... -0.04690014 -0.0346527\n",
      " -0.02240526] [0.00000000e+00 9.05568269e-03 1.81113649e-02 ... 3.59965322e+02\n",
      " 3.59974378e+02 3.59983434e+02]\n",
      "Eang [0.00000000e+00 1.58051479e-04 3.16102949e-04 ... 6.28258007e+00\n",
      " 6.28273812e+00 6.28289617e+00]\n",
      "[0.00000000e+00 1.58051479e-04 3.16102949e-04 ... 6.28258007e+00\n",
      " 6.28273812e+00 6.28289617e+00] <Parameter 'ecc', value=0.9999999775441812, bounds=[0:1.0]> <Parameter 'rad', value=52.49025109093693, bounds=[0:inf]> <Parameter 'mass', value=1.0 (fixed), bounds=[-inf:inf]> [0.00000000e+00 2.40423284e-01 4.80846552e-01 ... 4.77797819e+03\n",
      " 4.77821861e+03 4.77845904e+03]\n",
      "44428\n",
      "[77.49024912 77.49024712 77.49024112 ... 77.49021979 77.4902331\n",
      " 77.49024242] [ 0.          0.01224745  0.02449489 ... -0.04690014 -0.0346527\n",
      " -0.02240526] [0.00000000e+00 9.05568278e-03 1.81113651e-02 ... 3.59965322e+02\n",
      " 3.59974378e+02 3.59983434e+02]\n",
      "Eang [0.00000000e+00 1.58051481e-04 3.16102952e-04 ... 6.28258007e+00\n",
      " 6.28273812e+00 6.28289617e+00]\n",
      "[0.00000000e+00 1.58051481e-04 3.16102952e-04 ... 6.28258007e+00\n",
      " 6.28273812e+00 6.28289617e+00] <Parameter 'ecc', value=0.9999999775406728, bounds=[0:1.0]> <Parameter 'rad', value=52.490250294148666, bounds=[0:inf]> <Parameter 'mass', value=1.0 (fixed), bounds=[-inf:inf]> [0.00000000e+00 2.40423281e-01 4.80846546e-01 ... 4.77797808e+03\n",
      " 4.77821850e+03 4.77845893e+03]\n",
      "44428\n",
      "[77.49282652 77.49282452 77.49281852 ... 77.49279719 77.49281051\n",
      " 77.49281983] [ 0.          0.01224745  0.02449489 ... -0.04690014 -0.0346527\n",
      " -0.02240526] [0.00000000e+00 9.05538159e-03 1.81107627e-02 ... 3.59965323e+02\n",
      " 3.59974379e+02 3.59983434e+02]\n",
      "Eang [0.00000000e+00 1.58046224e-04 3.16092439e-04 ... 6.28258009e+00\n",
      " 6.28273813e+00 6.28289618e+00]\n",
      "[0.00000000e+00 1.58046224e-04 3.16092439e-04 ... 6.28258009e+00\n",
      " 6.28273813e+00 6.28289618e+00] <Parameter 'ecc', value=0.9999996073375801, bounds=[0:1.0]> <Parameter 'rad', value=52.492847130759756, bounds=[0:inf]> <Parameter 'mass', value=1.0 (fixed), bounds=[-inf:inf]> [0.00000000e+00 2.40433081e-01 4.80866146e-01 ... 4.77833269e+03\n",
      " 4.77857312e+03 4.77881355e+03]\n",
      "44428\n",
      "[77.49282732 77.49282532 77.49281932 ... 77.49279799 77.4928113\n",
      " 77.49282062] [ 0.          0.01224745  0.02449489 ... -0.04690014 -0.0346527\n",
      " -0.02240526] [0.00000000e+00 9.05538150e-03 1.81107625e-02 ... 3.59965323e+02\n",
      " 3.59974379e+02 3.59983434e+02]\n",
      "Eang [0.00000000e+00 1.58046222e-04 3.16092436e-04 ... 6.28258009e+00\n",
      " 6.28273813e+00 6.28289618e+00]\n",
      "[0.00000000e+00 1.58046222e-04 3.16092436e-04 ... 6.28258009e+00\n",
      " 6.28273813e+00 6.28289618e+00] <Parameter 'ecc', value=0.9999996073375801, bounds=[0:1.0]> <Parameter 'rad', value=52.49284792758673, bounds=[0:inf]> <Parameter 'mass', value=1.0 (fixed), bounds=[-inf:inf]> [0.00000000e+00 2.40433084e-01 4.80866152e-01 ... 4.77833279e+03\n",
      " 4.77857323e+03 4.77881366e+03]\n",
      "44428\n",
      "[77.49282652 77.49282452 77.49281852 ... 77.49279719 77.49281051\n",
      " 77.49281983] [ 0.          0.01224745  0.02449489 ... -0.04690014 -0.0346527\n",
      " -0.02240526] [0.00000000e+00 9.05538159e-03 1.81107627e-02 ... 3.59965323e+02\n",
      " 3.59974379e+02 3.59983434e+02]\n",
      "Eang [0.00000000e+00 1.58046224e-04 3.16092439e-04 ... 6.28258009e+00\n",
      " 6.28273813e+00 6.28289618e+00]\n",
      "[0.00000000e+00 1.58046224e-04 3.16092439e-04 ... 6.28258009e+00\n",
      " 6.28273813e+00 6.28289618e+00] <Parameter 'ecc', value=0.9999996073522355, bounds=[0:1.0]> <Parameter 'rad', value=52.492847130759756, bounds=[0:inf]> <Parameter 'mass', value=1.0 (fixed), bounds=[-inf:inf]> [0.00000000e+00 2.40433081e-01 4.80866146e-01 ... 4.77833269e+03\n",
      " 4.77857312e+03 4.77881355e+03]\n",
      "44428\n",
      "[77.4936863  77.4936843  77.4936783  ... 77.49365697 77.49367029\n",
      " 77.49367961] [ 0.          0.01224745  0.02449489 ... -0.04690014 -0.0346527\n",
      " -0.02240526] [0.00000000e+00 9.05528112e-03 1.81105617e-02 ... 3.59965324e+02\n",
      " 3.59974379e+02 3.59983434e+02]\n",
      "Eang [0.00000000e+00 1.58044470e-04 3.16088932e-04 ... 6.28258009e+00\n",
      " 6.28273814e+00 6.28289618e+00]\n",
      "[0.00000000e+00 1.58044470e-04 3.16088932e-04 ... 6.28258009e+00\n",
      " 6.28273814e+00 6.28289618e+00] <Parameter 'ecc', value=0.999999246796117, bounds=[0:1.0]> <Parameter 'rad', value=52.49372584154708, bounds=[0:inf]> <Parameter 'mass', value=1.0 (fixed), bounds=[-inf:inf]> [0.00000000e+00 2.40436407e-01 4.80872799e-01 ... 4.77845268e+03\n",
      " 4.77869311e+03 4.77893355e+03]\n",
      "44428\n",
      "[77.49333506 77.49333306 77.49332706 ... 77.49330573 77.49331905\n",
      " 77.49332837] [ 0.          0.01224745  0.02449489 ... -0.04690014 -0.0346527\n",
      " -0.02240526] [0.00000000e+00 9.05532217e-03 1.81106438e-02 ... 3.59965324e+02\n",
      " 3.59974379e+02 3.59983434e+02]\n",
      "Eang [0.00000000e+00 1.58045187e-04 3.16090365e-04 ... 6.28258009e+00\n",
      " 6.28273814e+00 6.28289618e+00]\n",
      "[0.00000000e+00 1.58045187e-04 3.16090365e-04 ... 6.28258009e+00\n",
      " 6.28273814e+00 6.28289618e+00] <Parameter 'ecc', value=0.9999999953992424, bounds=[0:1.0]> <Parameter 'rad', value=52.49333530238944, bounds=[0:inf]> <Parameter 'mass', value=1.0 (fixed), bounds=[-inf:inf]> [0.00000000e+00 2.40434904e-01 4.80869792e-01 ... 4.77839935e+03\n",
      " 4.77863978e+03 4.77888022e+03]\n",
      "44428\n",
      "[77.49333586 77.49333386 77.49332786 ... 77.49330653 77.49331985\n",
      " 77.49332916] [ 0.          0.01224745  0.02449489 ... -0.04690014 -0.0346527\n",
      " -0.02240526] [0.00000000e+00 9.05532207e-03 1.81106436e-02 ... 3.59965324e+02\n",
      " 3.59974379e+02 3.59983434e+02]\n",
      "Eang [0.00000000e+00 1.58045185e-04 3.16090361e-04 ... 6.28258009e+00\n",
      " 6.28273814e+00 6.28289618e+00]\n",
      "[0.00000000e+00 1.58045185e-04 3.16090361e-04 ... 6.28258009e+00\n",
      " 6.28273814e+00 6.28289618e+00] <Parameter 'ecc', value=0.9999999953992424, bounds=[0:1.0]> <Parameter 'rad', value=52.49333609922368, bounds=[0:inf]> <Parameter 'mass', value=1.0 (fixed), bounds=[-inf:inf]> [0.00000000e+00 2.40434907e-01 4.80869798e-01 ... 4.77839946e+03\n",
      " 4.77863989e+03 4.77888033e+03]\n",
      "44428\n",
      "[77.49333506 77.49333306 77.49332706 ... 77.49330573 77.49331905\n",
      " 77.49332837] [ 0.          0.01224745  0.02449489 ... -0.04690014 -0.0346527\n",
      " -0.02240526] [0.00000000e+00 9.05532217e-03 1.81106438e-02 ... 3.59965324e+02\n",
      " 3.59974379e+02 3.59983434e+02]\n",
      "Eang [0.00000000e+00 1.58045187e-04 3.16090365e-04 ... 6.28258009e+00\n",
      " 6.28273814e+00 6.28289618e+00]\n",
      "[0.00000000e+00 1.58045187e-04 3.16090365e-04 ... 6.28258009e+00\n",
      " 6.28273814e+00 6.28289618e+00] <Parameter 'ecc', value=0.9999999953976545, bounds=[0:1.0]> <Parameter 'rad', value=52.49333530238944, bounds=[0:inf]> <Parameter 'mass', value=1.0 (fixed), bounds=[-inf:inf]> [0.00000000e+00 2.40434904e-01 4.80869792e-01 ... 4.77839935e+03\n",
      " 4.77863978e+03 4.77888022e+03]\n",
      "44428\n",
      "[77.49453557 77.49453357 77.49452757 ... 77.49450624 77.49451956\n",
      " 77.49452888] [ 0.          0.01224745  0.02449489 ... -0.04690014 -0.0346527\n",
      " -0.02240526] [0.00000000e+00 9.05518188e-03 1.81103633e-02 ... 3.59965324e+02\n",
      " 3.59974379e+02 3.59983435e+02]\n",
      "Eang [0.00000000e+00 1.58042738e-04 3.16085468e-04 ... 6.28258010e+00\n",
      " 6.28273814e+00 6.28289619e+00]\n",
      "[0.00000000e+00 1.58042738e-04 3.16085468e-04 ... 6.28258010e+00\n",
      " 6.28273814e+00 6.28289619e+00] <Parameter 'ecc', value=0.999999912369618, bounds=[0:1.0]> <Parameter 'rad', value=52.494540171575125, bounds=[0:inf]> <Parameter 'mass', value=1.0 (fixed), bounds=[-inf:inf]> [0.00000000e+00 2.40439447e-01 4.80878878e-01 ... 4.77856388e+03\n",
      " 4.77880432e+03 4.77904476e+03]\n",
      "44428\n",
      "[77.49453637 77.49453437 77.49452837 ... 77.49450704 77.49452036\n",
      " 77.49452968] [ 0.          0.01224745  0.02449489 ... -0.04690014 -0.0346527\n",
      " -0.02240526] [0.00000000e+00 9.05518179e-03 1.81103631e-02 ... 3.59965324e+02\n",
      " 3.59974379e+02 3.59983435e+02]\n",
      "Eang [0.00000000e+00 1.58042737e-04 3.16085465e-04 ... 6.28258010e+00\n",
      " 6.28273814e+00 6.28289619e+00]\n",
      "[0.00000000e+00 1.58042737e-04 3.16085465e-04 ... 6.28258010e+00\n",
      " 6.28273814e+00 6.28289619e+00] <Parameter 'ecc', value=0.999999912369618, bounds=[0:1.0]> <Parameter 'rad', value=52.49454096842734, bounds=[0:inf]> <Parameter 'mass', value=1.0 (fixed), bounds=[-inf:inf]> [0.00000000e+00 2.40439450e-01 4.80878884e-01 ... 4.77856399e+03\n",
      " 4.77880443e+03 4.77904487e+03]\n",
      "44428\n"
     ]
    },
    {
     "name": "stdout",
     "output_type": "stream",
     "text": [
      "[77.49453557 77.49453357 77.49452757 ... 77.49450624 77.49451956\n",
      " 77.49452888] [ 0.          0.01224745  0.02449489 ... -0.04690014 -0.0346527\n",
      " -0.02240526] [0.00000000e+00 9.05518188e-03 1.81103633e-02 ... 3.59965324e+02\n",
      " 3.59974379e+02 3.59983435e+02]\n",
      "Eang [0.00000000e+00 1.58042738e-04 3.16085468e-04 ... 6.28258010e+00\n",
      " 6.28273814e+00 6.28289619e+00]\n",
      "[0.00000000e+00 1.58042738e-04 3.16085468e-04 ... 6.28258010e+00\n",
      " 6.28273814e+00 6.28289619e+00] <Parameter 'ecc', value=0.9999999123765443, bounds=[0:1.0]> <Parameter 'rad', value=52.494540171575125, bounds=[0:inf]> <Parameter 'mass', value=1.0 (fixed), bounds=[-inf:inf]> [0.00000000e+00 2.40439447e-01 4.80878878e-01 ... 4.77856388e+03\n",
      " 4.77880432e+03 4.77904476e+03]\n",
      "44428\n",
      "[77.494922   77.49492    77.494914   ... 77.49489267 77.49490599\n",
      " 77.49491531] [ 0.          0.01224745  0.02449489 ... -0.04690014 -0.0346527\n",
      " -0.02240526] [0.00000000e+00 9.05513673e-03 1.81102730e-02 ... 3.59965324e+02\n",
      " 3.59974380e+02 3.59983435e+02]\n",
      "Eang [0.00000000e+00 1.58041950e-04 3.16083892e-04 ... 6.28258010e+00\n",
      " 6.28273815e+00 6.28289619e+00]\n",
      "[0.00000000e+00 1.58041950e-04 3.16083892e-04 ... 6.28258010e+00\n",
      " 6.28273815e+00 6.28289619e+00] <Parameter 'ecc', value=0.9999998413410529, bounds=[0:1.0]> <Parameter 'rad', value=52.49493032771031, bounds=[0:inf]> <Parameter 'mass', value=1.0 (fixed), bounds=[-inf:inf]> [0.00000000e+00 2.40440920e-01 4.80881824e-01 ... 4.77861716e+03\n",
      " 4.77885760e+03 4.77909804e+03]\n",
      "44428\n",
      "[77.49475774 77.49475574 77.49474974 ... 77.49472841 77.49474173\n",
      " 77.49475105] [ 0.          0.01224745  0.02449489 ... -0.04690014 -0.0346527\n",
      " -0.02240526] [0.00000000e+00 9.05515592e-03 1.81103114e-02 ... 3.59965324e+02\n",
      " 3.59974380e+02 3.59983435e+02]\n",
      "Eang [0.00000000e+00 1.58042285e-04 3.16084562e-04 ... 6.28258010e+00\n",
      " 6.28273815e+00 6.28289619e+00]\n",
      "[0.00000000e+00 1.58042285e-04 3.16084562e-04 ... 6.28258010e+00\n",
      " 6.28273815e+00 6.28289619e+00] <Parameter 'ecc', value=0.9999999991518396, bounds=[0:1.0]> <Parameter 'rad', value=52.49475778291329, bounds=[0:inf]> <Parameter 'mass', value=1.0 (fixed), bounds=[-inf:inf]> [0.00000000e+00 2.40440263e-01 4.80880511e-01 ... 4.77859360e+03\n",
      " 4.77883404e+03 4.77907448e+03]\n",
      "44428\n",
      "[77.49475854 77.49475654 77.49475054 ... 77.49472921 77.49474252\n",
      " 77.49475184] [ 0.          0.01224745  0.02449489 ... -0.04690014 -0.0346527\n",
      " -0.02240526] [0.00000000e+00 9.05515583e-03 1.81103112e-02 ... 3.59965324e+02\n",
      " 3.59974380e+02 3.59983435e+02]\n",
      "Eang [0.00000000e+00 1.58042284e-04 3.16084558e-04 ... 6.28258010e+00\n",
      " 6.28273815e+00 6.28289619e+00]\n",
      "[0.00000000e+00 1.58042284e-04 3.16084558e-04 ... 6.28258010e+00\n",
      " 6.28273815e+00 6.28289619e+00] <Parameter 'ecc', value=0.9999999991518396, bounds=[0:1.0]> <Parameter 'rad', value=52.49475857976874, bounds=[0:inf]> <Parameter 'mass', value=1.0 (fixed), bounds=[-inf:inf]> [0.00000000e+00 2.40440266e-01 4.80880517e-01 ... 4.77859370e+03\n",
      " 4.77883414e+03 4.77907458e+03]\n",
      "44428\n",
      "[77.49475774 77.49475574 77.49474974 ... 77.49472841 77.49474173\n",
      " 77.49475105] [ 0.          0.01224745  0.02449489 ... -0.04690014 -0.0346527\n",
      " -0.02240526] [0.00000000e+00 9.05515592e-03 1.81103114e-02 ... 3.59965324e+02\n",
      " 3.59974380e+02 3.59983435e+02]\n",
      "Eang [0.00000000e+00 1.58042285e-04 3.16084562e-04 ... 6.28258010e+00\n",
      " 6.28273815e+00 6.28289619e+00]\n",
      "[0.00000000e+00 1.58042285e-04 3.16084562e-04 ... 6.28258010e+00\n",
      " 6.28273815e+00 6.28289619e+00] <Parameter 'ecc', value=0.9999999991511577, bounds=[0:1.0]> <Parameter 'rad', value=52.49475778291329, bounds=[0:inf]> <Parameter 'mass', value=1.0 (fixed), bounds=[-inf:inf]> [0.00000000e+00 2.40440263e-01 4.80880511e-01 ... 4.77859360e+03\n",
      " 4.77883404e+03 4.77907448e+03]\n",
      "44428\n",
      "[77.49532276 77.49532076 77.49531476 ... 77.49529343 77.49530674\n",
      " 77.49531606] [ 0.          0.01224745  0.02449489 ... -0.04690014 -0.0346527\n",
      " -0.02240526] [0.00000000e+00 9.05508990e-03 1.81101793e-02 ... 3.59965325e+02\n",
      " 3.59974380e+02 3.59983435e+02]\n",
      "Eang [0.00000000e+00 1.58041133e-04 3.16082257e-04 ... 6.28258011e+00\n",
      " 6.28273815e+00 6.28289619e+00]\n",
      "[0.00000000e+00 1.58041133e-04 3.16082257e-04 ... 6.28258011e+00\n",
      " 6.28273815e+00 6.28289619e+00] <Parameter 'ecc', value=0.9999999799194457, bounds=[0:1.0]> <Parameter 'rad', value=52.49532380969525, bounds=[0:inf]> <Parameter 'mass', value=1.0 (fixed), bounds=[-inf:inf]> [0.00000000e+00 2.40442397e-01 4.80884778e-01 ... 4.77867089e+03\n",
      " 4.77891133e+03 4.77915177e+03]\n",
      "44428\n",
      "[77.49532276 77.49532076 77.49531476 ... 77.49529343 77.49530674\n",
      " 77.49531606] [ 0.          0.01224745  0.02449489 ... -0.04690014 -0.0346527\n",
      " -0.02240526] [0.00000000e+00 9.05508990e-03 1.81101793e-02 ... 3.59965325e+02\n",
      " 3.59974380e+02 3.59983435e+02]\n",
      "Eang [0.00000000e+00 1.58041133e-04 3.16082257e-04 ... 6.28258011e+00\n",
      " 6.28273815e+00 6.28289619e+00]\n",
      "[0.00000000e+00 1.58041133e-04 3.16082257e-04 ... 6.28258011e+00\n",
      " 6.28273815e+00 6.28289619e+00] <Parameter 'ecc', value=0.9999999799194457, bounds=[0:1.0]> <Parameter 'rad', value=52.49532380969525, bounds=[0:inf]> <Parameter 'mass', value=1.0 (fixed), bounds=[-inf:inf]> [0.00000000e+00 2.40442397e-01 4.80884778e-01 ... 4.77867089e+03\n",
      " 4.77891133e+03 4.77915177e+03]\n"
     ]
    }
   ],
   "source": [
    "from lmfit import Minimizer,Parameters\n",
    "pfittEang = Parameters()\n",
    "pfittEang.add(name='theta', value=theta0, min=0, max=2.*math.pi, vary=False)\n",
    "pfittEang.add(name='rad', value=rad0, min=0, vary=True)\n",
    "pfittEang.add(name='ecc', value=ecc0, min=0, max=1.0, vary=True)\n",
    "pfittEang.add(name='mass', value=masses[0], vary=False)\n",
    "pfittEang.add(name='useperihelion', value=True, vary=False)\n",
    "\n",
    "minit = Minimizer(residualtEang, pfittEang, fcn_args=(nptimesoneorbit,npstar2x[:endindex-1,:]))\n",
    "\n",
    "outt = minit.leastsq()"
   ]
  },
  {
   "cell_type": "code",
   "execution_count": 402,
   "metadata": {},
   "outputs": [
    {
     "data": {
      "text/html": [
       "<h2>Fit Statistics</h2><table><tr><td>fitting method</td><td>leastsq</td><td></td></tr><tr><td># function evals</td><td>57</td><td></td></tr><tr><td># data points</td><td>44428</td><td></td></tr><tr><td># variables</td><td>2</td><td></td></tr><tr><td>chi-square</td><td> 8.5898e+09</td><td></td></tr><tr><td>reduced chi-square</td><td> 193350.382</td><td></td></tr><tr><td>Akaike info crit.</td><td> 540791.135</td><td></td></tr><tr><td>Bayesian info crit.</td><td> 540808.538</td><td></td></tr></table><h2>Variables</h2><table><tr><th> name </th><th> value </th><th> standard error </th><th> relative error </th><th> initial value </th><th> min </th><th> max </th><th> vary </th></tr><tr><td> theta </td><td>  0.00000000 </td><td>  0.00000000 </td><td>  </td><td> 0.0 </td><td>  0.00000000 </td><td>  6.28318531 </td><td> False </td></tr><tr><td> rad </td><td>  52.4953238 </td><td>  0.02829421 </td><td> (0.05%) </td><td> 50 </td><td>  0.00000000 </td><td>         inf </td><td> True </td></tr><tr><td> ecc </td><td>  0.99999998 </td><td>  0.04228770 </td><td> (4.23%) </td><td> 0.5 </td><td>  0.00000000 </td><td>  1.00000000 </td><td> True </td></tr><tr><td> mass </td><td>  1.00000000 </td><td>  0.00000000 </td><td> (0.00%) </td><td> 1.0 </td><td>        -inf </td><td>         inf </td><td> False </td></tr><tr><td> useperihelion </td><td>  1.00000000 </td><td>  0.00000000 </td><td> (0.00%) </td><td> True </td><td>        -inf </td><td>         inf </td><td> False </td></tr></table><h2>Correlations (unreported correlations are < 0.100)</h2><table><tr><td>rad</td><td>ecc</td><td>0.3610</td></tr></table>"
      ],
      "text/plain": [
       "<lmfit.minimizer.MinimizerResult at 0x7f8ece461c90>"
      ]
     },
     "execution_count": 402,
     "metadata": {},
     "output_type": "execute_result"
    }
   ],
   "source": [
    "outt"
   ]
  },
  {
   "cell_type": "markdown",
   "metadata": {},
   "source": [
    "Eccentricity fit is still not great for eccentricity of 0.9 (0.99), but radius fit is pretty good. The chi square is enormous. Eccentricity of 0.5 looks somewhat better (ecc 0.51) but still has a large chisquared and generates a potentially helpful divide by zero warning in the fit. "
   ]
  },
  {
   "cell_type": "code",
   "execution_count": null,
   "metadata": {},
   "outputs": [],
   "source": []
  },
  {
   "cell_type": "markdown",
   "metadata": {},
   "source": [
    "Updated Jupyter and python packages and angular momentum and energy conservation improved by many orders of magnitude, but the fit is about the same. deltaL and deltaE are now consistent with roundoff error. "
   ]
  },
  {
   "cell_type": "markdown",
   "metadata": {},
   "source": [
    "Theta variation is currently not implemented correctly. Needs to be implemented to get good fit, clearly. "
   ]
  },
  {
   "cell_type": "markdown",
   "metadata": {},
   "source": [
    "Eang vs t now looks plausible. "
   ]
  },
  {
   "cell_type": "code",
   "execution_count": null,
   "metadata": {},
   "outputs": [],
   "source": []
  }
 ],
 "metadata": {
  "kernelspec": {
   "display_name": "Python 3",
   "language": "python",
   "name": "python3"
  },
  "language_info": {
   "codemirror_mode": {
    "name": "ipython",
    "version": 3
   },
   "file_extension": ".py",
   "mimetype": "text/x-python",
   "name": "python",
   "nbconvert_exporter": "python",
   "pygments_lexer": "ipython3",
   "version": "3.7.4"
  }
 },
 "nbformat": 4,
 "nbformat_minor": 2
}
