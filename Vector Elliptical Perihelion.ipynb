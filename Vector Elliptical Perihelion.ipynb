{
 "cells": [
  {
   "cell_type": "code",
   "execution_count": 1,
   "metadata": {},
   "outputs": [],
   "source": [
    "import math\n",
    "import numpy as np"
   ]
  },
  {
   "cell_type": "code",
   "execution_count": 2,
   "metadata": {},
   "outputs": [],
   "source": [
    "import ellipsefns\n",
    "#getfocus, getsemiminor, theoreticalx, theoreticaly"
   ]
  },
  {
   "cell_type": "code",
   "execution_count": 3,
   "metadata": {},
   "outputs": [],
   "source": [
    "import initdat"
   ]
  },
  {
   "cell_type": "code",
   "execution_count": 4,
   "metadata": {},
   "outputs": [
    {
     "name": "stdout",
     "output_type": "stream",
     "text": [
      "angle 0.0\n",
      "0.5\n",
      "(array([3.14159265, 0.        ]), 0.0, 50, 0.5, array([1., 1.]))\n"
     ]
    }
   ],
   "source": [
    "\n",
    "rad0=50\n",
    "ecc0=0.5\n",
    "theta0= 0. #math.pi/6. #math.pi/6.\n",
    "mass0=1.0\n",
    "initdateqellipse=initdat.InitialDataEqualMassConic(rad0,ecc0,theta0,mass0)\n",
    "print(initdateqellipse)"
   ]
  },
  {
   "cell_type": "markdown",
   "metadata": {},
   "source": [
    "VERIFIED FOR THETA=-45,45,135,180,90,30,-30. VERIFIED FOR ECC =0.001, 0.1,0.5, 0.7, 0.9, 0.95 VERIFIED FOR RAD0=50,75 100 "
   ]
  },
  {
   "cell_type": "code",
   "execution_count": 5,
   "metadata": {},
   "outputs": [],
   "source": [
    "import getxyuvtwoellipse_apper"
   ]
  },
  {
   "cell_type": "code",
   "execution_count": 6,
   "metadata": {},
   "outputs": [],
   "source": [
    "useperihelion=True"
   ]
  },
  {
   "cell_type": "code",
   "execution_count": 7,
   "metadata": {},
   "outputs": [
    {
     "name": "stdout",
     "output_type": "stream",
     "text": [
      "initdat 50 [3.14159265 0.        ] 0.5 [-1.  1.] [1.2246468e-16 0.0000000e+00]\n",
      "coordsep 50\n",
      "pi\n",
      "zero\n",
      "[-50.  50.]\n",
      "[0. 0.]\n",
      "(array([1., 1.]), array([[-25.        ,   0.        ,   0.        ,  -0.        ,\n",
      "         -0.12247449,   0.        ],\n",
      "       [ 25.        ,   0.        ,   0.        ,  -0.        ,\n",
      "          0.12247449,   0.        ]]), array([[ 0.0004, -0.    ,  0.    ],\n",
      "       [-0.0004, -0.    ,  0.    ]]))\n"
     ]
    }
   ],
   "source": [
    "xyuvaeqellipse=getxyuvtwoellipse_apper.getxyuveqtwoellipses(initdateqellipse,useperihelion)\n",
    "print(xyuvaeqellipse)\n",
    "masses,xvec,avec=xyuvaeqellipse"
   ]
  },
  {
   "cell_type": "code",
   "execution_count": 8,
   "metadata": {},
   "outputs": [],
   "source": [
    "import RK4implicit"
   ]
  },
  {
   "cell_type": "code",
   "execution_count": 9,
   "metadata": {},
   "outputs": [],
   "source": [
    "import OrbitDiffEq"
   ]
  },
  {
   "cell_type": "code",
   "execution_count": null,
   "metadata": {},
   "outputs": [],
   "source": []
  },
  {
   "cell_type": "code",
   "execution_count": 10,
   "metadata": {},
   "outputs": [
    {
     "name": "stdout",
     "output_type": "stream",
     "text": [
      "[1. 1.] [[-25.           0.           0.          -0.          -0.12247449\n",
      "    0.        ]\n",
      " [ 25.           0.           0.          -0.           0.12247449\n",
      "    0.        ]] 0.0\n",
      "[1. 1.] [[-25.           0.           0.          -0.          -0.12247449\n",
      "    0.        ]\n",
      " [ 25.           0.           0.          -0.           0.12247449\n",
      "    0.        ]] 0.0\n"
     ]
    },
    {
     "data": {
      "text/plain": [
       "<OrbitDiffEq.OrbitDiffEq at 0x7f90a81b7f90>"
      ]
     },
     "execution_count": 10,
     "metadata": {},
     "output_type": "execute_result"
    }
   ],
   "source": [
    "masses, xvec,avec=xyuvaeqellipse\n",
    "ODEeq= OrbitDiffEq.OrbitDiffEq(masses,xvec,avec,0.0)\n",
    "ODEeq.print2D()\n",
    "ODEeq.print2D()"
   ]
  },
  {
   "cell_type": "code",
   "execution_count": 11,
   "metadata": {},
   "outputs": [
    {
     "name": "stdout",
     "output_type": "stream",
     "text": [
      "(array([1., 1.]), array([[-25.        ,   0.        ,   0.        ,  -0.        ,\n",
      "         -0.12247449,   0.        ],\n",
      "       [ 25.        ,   0.        ,   0.        ,  -0.        ,\n",
      "          0.12247449,   0.        ]]), array([[ 0.0004, -0.    ,  0.    ],\n",
      "       [-0.0004, -0.    ,  0.    ]]))\n"
     ]
    }
   ],
   "source": [
    "print(xyuvaeqellipse)"
   ]
  },
  {
   "cell_type": "code",
   "execution_count": 12,
   "metadata": {},
   "outputs": [],
   "source": [
    "import timestep"
   ]
  },
  {
   "cell_type": "code",
   "execution_count": null,
   "metadata": {},
   "outputs": [],
   "source": []
  },
  {
   "cell_type": "code",
   "execution_count": 48,
   "metadata": {},
   "outputs": [],
   "source": [
    "numsteps=6000*10\n",
    "dt=0.1\n",
    "outputevery=1\n",
    "nptimes, npstar1x, npstar2x, npstar1a, npstar2a= timestep.timestep(numsteps,dt,xyuvaeqellipse,outputevery)"
   ]
  },
  {
   "cell_type": "code",
   "execution_count": 49,
   "metadata": {},
   "outputs": [
    {
     "data": {
      "text/plain": [
       "array([[-2.50000000e+01,  0.00000000e+00,  0.00000000e+00,\n",
       "        -0.00000000e+00, -1.22474487e-01,  0.00000000e+00],\n",
       "       [-2.49999980e+01, -1.22474484e-02,  0.00000000e+00,\n",
       "         3.99999973e-05, -1.22474477e-01,  0.00000000e+00],\n",
       "       [-2.49999920e+01, -2.44948948e-02,  0.00000000e+00,\n",
       "         7.99999787e-05, -1.22474448e-01,  0.00000000e+00],\n",
       "       ...,\n",
       "       [ 6.50765680e+01, -2.58921131e+01,  0.00000000e+00,\n",
       "         3.01846656e-02,  3.50405295e-02,  0.00000000e+00],\n",
       "       [ 6.50795863e+01, -2.58886090e+01,  0.00000000e+00,\n",
       "         3.01799302e-02,  3.50424134e-02,  0.00000000e+00],\n",
       "       [ 6.50826040e+01, -2.58851046e+01,  0.00000000e+00,\n",
       "         3.01751950e-02,  3.50442969e-02,  0.00000000e+00]])"
      ]
     },
     "execution_count": 49,
     "metadata": {},
     "output_type": "execute_result"
    }
   ],
   "source": [
    "npstar1x"
   ]
  },
  {
   "cell_type": "code",
   "execution_count": 50,
   "metadata": {},
   "outputs": [
    {
     "data": {
      "image/png": "[encoded data removed]",
      "text/plain": [
       "<Figure size 432x288 with 1 Axes>"
      ]
     },
     "metadata": {
      "needs_background": "light"
     },
     "output_type": "display_data"
    }
   ],
   "source": [
    "import matplotlib.pyplot as plt\n",
    "t = np.linspace(0, 2*math.pi, 100)\n",
    "xax=-200+np.arange(0,400)\n",
    "plt.ylim(-200,200)\n",
    "plt.xlim(-200,200)\n",
    "plt.title(\"Elliptical Orbit, RK4, a=\"+str(rad0)+\", e=\"+ str(ecc0)+\", theta=\"+str(round(180*theta0/math.pi))+ \" degrees\")\n",
    "plt.plot(ellipsefns.getxtheory(theta0,ecc0,rad0,t,1),ellipsefns.getytheory(theta0,ecc0,rad0,t,1),'b')\n",
    "plt.plot(ellipsefns.getxtheory(theta0,ecc0,rad0,t,-1),ellipsefns.getytheory(theta0,ecc0,rad0,t,-1),'g')\n",
    "plt.plot(npstar1x[:,0],npstar1x[:,1],'y')\n",
    "plt.plot(npstar2x[:,0],npstar2x[:,1],'r')\n",
    "plt.show()"
   ]
  },
  {
   "cell_type": "markdown",
   "metadata": {},
   "source": [
    "%%html\n",
    "<a href=\"https://github.com/sdorsher/ManyBodyProblem/blob/master/EllipseSymmetry.png\">Elliptical orbits at thirty degrees with symmetry line</a>\n",
    "It is clear that the elliptical orbits have focuses, perhelions, and aphelions on the axis of symmetry from this plot. It is also clear that the orbits are symmetric with respect to eachother. "
   ]
  },
  {
   "cell_type": "code",
   "execution_count": 51,
   "metadata": {},
   "outputs": [],
   "source": [
    "def getfocus(a,ecc):\n",
    "    c=a*ecc\n",
    "    return c"
   ]
  },
  {
   "cell_type": "code",
   "execution_count": 52,
   "metadata": {},
   "outputs": [],
   "source": [
    "def getsemiminor(a,ecc):\n",
    "    c=getfocus(a,ecc)\n",
    "    b=np.sqrt(a**2-c**2)\n",
    "    return b"
   ]
  },
  {
   "cell_type": "code",
   "execution_count": 53,
   "metadata": {},
   "outputs": [],
   "source": [
    "def getxtheory2(theta0,ecc0,rad0,t, sgn):\n",
    "    focus=getfocus(rad0,ecc0)\n",
    "    b=getsemiminor(rad0,ecc0)\n",
    "    xdim=rad0\n",
    "    ydim=b\n",
    "    xtheory=sgn*focus*np.cos(theta0)+xdim*np.cos(t)*np.cos(theta0)-ydim*np.sin(t)*np.sin(theta0)\n",
    "    return xtheory"
   ]
  },
  {
   "cell_type": "code",
   "execution_count": 54,
   "metadata": {},
   "outputs": [],
   "source": [
    "def getytheory2(theta0, ecc0, rad0, t, sgn):\n",
    "    focus = getfocus(rad0,ecc0)\n",
    "    b=getsemiminor(rad0,ecc0)\n",
    "    xdim=rad0\n",
    "    ydim=b\n",
    "    ytheory=sgn*focus*np.sin(theta0)+ydim*np.cos(theta0)*np.sin(t)+xdim*np.sin(theta0)*np.cos(t)\n",
    "    return ytheory\n",
    "\n"
   ]
  },
  {
   "cell_type": "code",
   "execution_count": 55,
   "metadata": {},
   "outputs": [
    {
     "data": {
      "image/png": "[encoded data removed]",
      "text/plain": [
       "<Figure size 432x288 with 1 Axes>"
      ]
     },
     "metadata": {
      "needs_background": "light"
     },
     "output_type": "display_data"
    }
   ],
   "source": [
    "import matplotlib.pyplot as plt\n",
    "t = np.linspace(0, 2*math.pi, 100)\n",
    "xax=-200+np.arange(0,400)\n",
    "plt.ylim(-200,200)\n",
    "plt.xlim(-200,200)\n",
    "plt.title(\"Elliptical Orbit, RK4, a=\"+str(rad0)+\", e=\"+ str(ecc0)+\", theta=\"+str(round(180*theta0/math.pi))+ \" degrees\")\n",
    "plt.plot(ellipsefns.getxtheory(theta0,ecc0,rad0,t,1),ellipsefns.getytheory(theta0,ecc0,rad0,t,1),'b')\n",
    "plt.plot(ellipsefns.getxtheory(theta0,ecc0,rad0,t,-1),ellipsefns.getytheory(theta0,ecc0,rad0,t,-1),'g')\n",
    "plt.plot(npstar1x[:,0],npstar1x[:,1],'y')\n",
    "plt.plot(npstar2x[:,0],npstar2x[:,1],'r')\n",
    "plt.plot(xax, np.tan(theta0)*xax,'c')\n",
    "plt.show()"
   ]
  },
  {
   "cell_type": "markdown",
   "metadata": {},
   "source": [
    "Computed orbit and parametric description of ellipse evolve at different rates, since the parametric description of the ellipse doesn't obey keplers law of equal area in equal time (conservation of angular momentum). This is a problem for the fit below. "
   ]
  },
  {
   "cell_type": "markdown",
   "metadata": {},
   "source": [
    "# Conservation of angular momentum"
   ]
  },
  {
   "cell_type": "code",
   "execution_count": 56,
   "metadata": {},
   "outputs": [],
   "source": [
    "import Lstability"
   ]
  },
  {
   "cell_type": "code",
   "execution_count": 57,
   "metadata": {},
   "outputs": [
    {
     "data": {
      "text/plain": [
       "(3.1183369646375074e-14, -2.0412414523192806)"
      ]
     },
     "execution_count": 57,
     "metadata": {},
     "output_type": "execute_result"
    }
   ],
   "source": [
    "deltaL, Lavg=Lstability.Lstability(npstar1x,npstar2x,mass0)\n",
    "deltaL, Lavg"
   ]
  },
  {
   "cell_type": "markdown",
   "metadata": {},
   "source": [
    "Orbit conserves angular momentum to a tolerance of deltaL. "
   ]
  },
  {
   "cell_type": "markdown",
   "metadata": {},
   "source": [
    "# Conservation of Energy"
   ]
  },
  {
   "cell_type": "code",
   "execution_count": 58,
   "metadata": {},
   "outputs": [],
   "source": [
    "import Estability"
   ]
  },
  {
   "cell_type": "code",
   "execution_count": 59,
   "metadata": {},
   "outputs": [
    {
     "data": {
      "text/plain": [
       "(1.9347771707844668e-14, -0.0050000000000002065)"
      ]
     },
     "execution_count": 59,
     "metadata": {},
     "output_type": "execute_result"
    }
   ],
   "source": [
    "deltaE, Eavg = Estability.Estability(npstar1x, npstar2x, mass0)\n",
    "deltaE, Eavg"
   ]
  },
  {
   "cell_type": "markdown",
   "metadata": {},
   "source": [
    "Orbit conserves energy to a relative error of deltaE. "
   ]
  },
  {
   "cell_type": "markdown",
   "metadata": {},
   "source": [
    "# Symmetry of the two stars orbits with respect to eachother "
   ]
  },
  {
   "cell_type": "code",
   "execution_count": 60,
   "metadata": {},
   "outputs": [],
   "source": [
    "import orbitSymmetricTol"
   ]
  },
  {
   "cell_type": "code",
   "execution_count": 61,
   "metadata": {},
   "outputs": [],
   "source": [
    "allcancelsx, allcancelsa=orbitSymmetricTol.howSymmetric(npstar1x,npstar2x,npstar1a,npstar2a)"
   ]
  },
  {
   "cell_type": "code",
   "execution_count": 62,
   "metadata": {},
   "outputs": [
    {
     "data": {
      "text/plain": [
       "1e-14"
      ]
     },
     "execution_count": 62,
     "metadata": {},
     "output_type": "execute_result"
    }
   ],
   "source": [
    "allcancelsx"
   ]
  },
  {
   "cell_type": "markdown",
   "metadata": {},
   "source": [
    "Orbit is symmetric with respect to x and v up to a tolerance of allcancelsx"
   ]
  },
  {
   "cell_type": "code",
   "execution_count": 63,
   "metadata": {},
   "outputs": [
    {
     "data": {
      "text/plain": [
       "1e-14"
      ]
     },
     "execution_count": 63,
     "metadata": {},
     "output_type": "execute_result"
    }
   ],
   "source": [
    "allcancelsa"
   ]
  },
  {
   "cell_type": "code",
   "execution_count": 64,
   "metadata": {},
   "outputs": [
    {
     "data": {
      "text/plain": [
       "array([[-2.50000000e+01,  0.00000000e+00,  0.00000000e+00,\n",
       "        -0.00000000e+00, -1.22474487e-01,  0.00000000e+00],\n",
       "       [-2.49999980e+01, -1.22474484e-02,  0.00000000e+00,\n",
       "         3.99999973e-05, -1.22474477e-01,  0.00000000e+00],\n",
       "       [-2.49999920e+01, -2.44948948e-02,  0.00000000e+00,\n",
       "         7.99999787e-05, -1.22474448e-01,  0.00000000e+00],\n",
       "       ...,\n",
       "       [ 6.50765680e+01, -2.58921131e+01,  0.00000000e+00,\n",
       "         3.01846656e-02,  3.50405295e-02,  0.00000000e+00],\n",
       "       [ 6.50795863e+01, -2.58886090e+01,  0.00000000e+00,\n",
       "         3.01799302e-02,  3.50424134e-02,  0.00000000e+00],\n",
       "       [ 6.50826040e+01, -2.58851046e+01,  0.00000000e+00,\n",
       "         3.01751950e-02,  3.50442969e-02,  0.00000000e+00]])"
      ]
     },
     "execution_count": 64,
     "metadata": {},
     "output_type": "execute_result"
    }
   ],
   "source": [
    "npstar1x"
   ]
  },
  {
   "cell_type": "markdown",
   "metadata": {},
   "source": [
    "Orbit is symmetric with respect to a to up to or better than a tolerance of allcancelsa"
   ]
  },
  {
   "cell_type": "markdown",
   "metadata": {},
   "source": [
    "# Testing for precision in perihelion and aphelion recovery from knowledge of the initial angle"
   ]
  },
  {
   "cell_type": "code",
   "execution_count": 65,
   "metadata": {},
   "outputs": [],
   "source": [
    "import aeTest"
   ]
  },
  {
   "cell_type": "code",
   "execution_count": 102,
   "metadata": {},
   "outputs": [
    {
     "data": {
      "text/plain": [
       "[<matplotlib.lines.Line2D at 0x7f90a9df3450>]"
      ]
     },
     "execution_count": 102,
     "metadata": {},
     "output_type": "execute_result"
    },
    {
     "data": {
      "image/png": "[encoded data removed]",
      "text/plain": [
       "<Figure size 432x288 with 1 Axes>"
      ]
     },
     "metadata": {
      "needs_background": "light"
     },
     "output_type": "display_data"
    }
   ],
   "source": [
    "from matplotlib import pyplot as plt\n",
    "plt.plot( np.abs(npstar1x[:,1]))"
   ]
  },
  {
   "cell_type": "code",
   "execution_count": 103,
   "metadata": {},
   "outputs": [],
   "source": [
    "def findPerapHelionThetaIsZero(npstar1x,ecc0,rad0,useperihelion):\n",
    "    apindex=np.argmin(np.abs(npstar1x[1:,1]))+1\n",
    "    print(apindex)\n",
    "    delta=math.floor(.2*apindex)\n",
    "    print(delta)\n",
    "    perindex=np.argmin(np.abs(npstar1x[delta:apindex-delta,1]))+delta\n",
    "    print(perindex)\n",
    "    print(apindex/perindex)\n",
    "    if np.abs(apindex/perindex-2.)>0.05: \n",
    "        perindex=np.argmin(np.abs(npstar1x[apindex+delta:2*apindex+delta,1]))+apindex+delta\n",
    "        print(perindex)\n",
    "        apindex,perindex=perindex,apindex\n",
    "        print(apindex,perindex)\n",
    "        print(apindex/perindex)\n",
    "    #apindex3=np.argmin(np.abs(npstar1x[100:apindex2-100,1]))+100\n",
    "    #apindex4=np.argmin(np.abs(npstar1x[100:apindex3-100,1]))+100\n",
    "    #perindex=np.argmin(np.abs(npstar1x[100:apindex2-100,1]))+100\n",
    "    if useperihelion:\n",
    "        apindex,perindex=perindex,apindex\n",
    "    coordap=[npstar1x[apindex,0],npstar1x[apindex,1]]\n",
    "    coordper=[npstar1x[perindex,0],npstar1x[perindex,1]]\n",
    "    ra=np.sqrt(np.sum(np.array(coordap)**2))\n",
    "    rp=np.sqrt(np.sum(np.array(coordper)**2))\n",
    "    e=(ra-rp)/(ra+rp)\n",
    "    a=1./2.*(ra+rp)\n",
    "    deltae=np.abs(e-ecc0)/ecc0\n",
    "    deltaa=np.abs(a-rad0)/rad0\n",
    "    return apindex,perindex,coordap,coordper,ra,rp,e,a,deltae,deltaa"
   ]
  },
  {
   "cell_type": "code",
   "execution_count": 104,
   "metadata": {},
   "outputs": [
    {
     "name": "stdout",
     "output_type": "stream",
     "text": [
      "22214\n",
      "4442\n",
      "17771\n",
      "1.2500140678633729\n",
      "44429\n",
      "44429 22214\n",
      "2.0000450166561627\n"
     ]
    }
   ],
   "source": [
    "if theta0==0:\n",
    "    apindex,perindex,coordap,coordper,ra,rp,e,a,deltae,deltaa=findPerapHelionThetaIsZero(npstar1x,ecc0,rad0,useperihelion)"
   ]
  },
  {
   "cell_type": "code",
   "execution_count": null,
   "metadata": {},
   "outputs": [],
   "source": []
  },
  {
   "cell_type": "code",
   "execution_count": 105,
   "metadata": {},
   "outputs": [],
   "source": [
    "if theta0!=0:\n",
    "    perindex,apindex,coordper,coordap,rp,ra,e,a,deltae,deltaa=aeTest.findPerApHelion(npstar1x,theta0,ecc0,rad0)"
   ]
  },
  {
   "cell_type": "markdown",
   "metadata": {},
   "source": [
    "Recovered perihelion radius given by r_per, recovered aphelion radius given by r_ap, a is semimajor axis computed from the orbit, e is eccentricty computed from the orbit, delta a is relative error on the semimajor axis, and delta e is eccenticity relative error. "
   ]
  },
  {
   "cell_type": "code",
   "execution_count": 106,
   "metadata": {},
   "outputs": [
    {
     "data": {
      "text/plain": [
       "(22214,\n",
       " 44429,\n",
       " [74.99999996178201, -0.0016929680664632164],\n",
       " [-24.999999941777688, -0.002089640329429189],\n",
       " 74.99999998088961,\n",
       " 25.00000002910962,\n",
       " 0.4999999994678037,\n",
       " 50.00000000499962,\n",
       " 1.0643925740794202e-09,\n",
       " 9.999240546676447e-11)"
      ]
     },
     "execution_count": 106,
     "metadata": {},
     "output_type": "execute_result"
    }
   ],
   "source": [
    "apindex,perindex,coordap,coordper,ra,rp,e,a,deltae,deltaa"
   ]
  },
  {
   "cell_type": "markdown",
   "metadata": {},
   "source": [
    "# Testing for symmetry within a given star's orbit about the line created by the initial angle with the origin that should pass thorugh the center of the ellipse, both focuses, and perihelion and aphelion"
   ]
  },
  {
   "cell_type": "code",
   "execution_count": 132,
   "metadata": {},
   "outputs": [],
   "source": [
    "pivotindex=perindex\n",
    "endindex = apindex\n",
    "if useperihelion:\n",
    "    pivotindex=apindex\n",
    "    endindex=perindex"
   ]
  },
  {
   "cell_type": "code",
   "execution_count": 133,
   "metadata": {},
   "outputs": [],
   "source": [
    "tosum1=list(range(0,endindex+1))\n",
    "tosum2=list(range(endindex+1,pivotindex+1))"
   ]
  },
  {
   "cell_type": "code",
   "execution_count": 134,
   "metadata": {},
   "outputs": [
    {
     "data": {
      "text/plain": [
       "44430"
      ]
     },
     "execution_count": 134,
     "metadata": {},
     "output_type": "execute_result"
    }
   ],
   "source": [
    "len(tosum1)"
   ]
  },
  {
   "cell_type": "code",
   "execution_count": 135,
   "metadata": {},
   "outputs": [
    {
     "data": {
      "text/plain": [
       "0"
      ]
     },
     "execution_count": 135,
     "metadata": {},
     "output_type": "execute_result"
    }
   ],
   "source": [
    "len(tosum2)"
   ]
  },
  {
   "cell_type": "code",
   "execution_count": 136,
   "metadata": {},
   "outputs": [
    {
     "data": {
      "text/plain": [
       "(22214, 44429)"
      ]
     },
     "execution_count": 136,
     "metadata": {},
     "output_type": "execute_result"
    }
   ],
   "source": [
    "apindex,perindex"
   ]
  },
  {
   "cell_type": "code",
   "execution_count": 137,
   "metadata": {},
   "outputs": [],
   "source": [
    "revtosum2=tosum2.reverse()"
   ]
  },
  {
   "cell_type": "code",
   "execution_count": 138,
   "metadata": {},
   "outputs": [],
   "source": [
    "xsum=np.zeros(endindex+1)\n",
    "ysum=np.zeros(endindex+1)\n",
    "for index in np.arange(0,pivotindex):\n",
    "    xsum[index]=npstar1x[index,0]+npstar1x[pivotindex+1-index,0]\n",
    "    ysum[index]=npstar1x[index,1]+npstar1x[pivotindex+1-index,1]"
   ]
  },
  {
   "cell_type": "code",
   "execution_count": 139,
   "metadata": {},
   "outputs": [],
   "source": [
    "xsum=xsum/2"
   ]
  },
  {
   "cell_type": "code",
   "execution_count": 140,
   "metadata": {},
   "outputs": [],
   "source": [
    "ysum=ysum/2"
   ]
  },
  {
   "cell_type": "code",
   "execution_count": 144,
   "metadata": {},
   "outputs": [
    {
     "name": "stderr",
     "output_type": "stream",
     "text": [
      "/Users/sdorsher/opt/anaconda3/lib/python3.7/site-packages/ipykernel_launcher.py:4: RuntimeWarning: divide by zero encountered in double_scalars\n",
      "  after removing the cwd from sys.path.\n",
      "/Users/sdorsher/opt/anaconda3/lib/python3.7/site-packages/ipykernel_launcher.py:6: RuntimeWarning: invalid value encountered in multiply\n",
      "  \n"
     ]
    },
    {
     "data": {
      "image/png": "[encoded data removed]",
      "text/plain": [
       "<Figure size 432x288 with 1 Axes>"
      ]
     },
     "metadata": {
      "needs_background": "light"
     },
     "output_type": "display_data"
    }
   ],
   "source": [
    "import matplotlib.pyplot as plt\n",
    "b0=np.tan(theta0)\n",
    "plt.plot(xsum,ysum,label=\"Sum of data\")\n",
    "plt.plot(xsum,b0*xsum, color=\"green\", label=\"Line defining perhelion\")\n",
    "plt.xlabel(\"Symmetric X sum\")\n",
    "plt.ylabel(\"Symmetric Y sum\")\n",
    "plt.legend()\n",
    "plt.title(\"Sum of data reflection about perhelion\")\n",
    "plt.show()"
   ]
  },
  {
   "cell_type": "code",
   "execution_count": null,
   "metadata": {},
   "outputs": [],
   "source": [
    "plt.plot(xsum,ysum-np.tan(theta0)*xsum, color=\"green\", label=\"Residual\")\n",
    "plt.xlabel(\"Symmetric X sum\")\n",
    "plt.ylabel(\"Ysum-tan(theta)*Xsum\")\n",
    "plt.title(\"Residuals of data reflected about perihelion\")\n",
    "plt.legend()\n",
    "plt.show()"
   ]
  },
  {
   "cell_type": "markdown",
   "metadata": {},
   "source": [
    "The residual improves substantially from .2 at perihelion with a timestep of dt=1 to .125 at perihelion with a timestep of dt=.3 to .02 at perihelion with a timestep of dt=.1. I think timestep makes all the difference between adjacent pairs of points in resolving perihelion. I think it is difficult to tell how symmetric the orbit is by this method when the limitation is in the resolution of the orbit with timestep. Interpolation would be necessary to get a good picture of orbital shape. "
   ]
  },
  {
   "cell_type": "markdown",
   "metadata": {},
   "source": [
    "In the interest of accomplishing further orbital evolutions, I think I'm going to let the precice numerical characterization of orbital shape question go (the predicted and actual orbits overlap quite nicely) and move on to evolving parabolic and hyperbolic orbits. "
   ]
  },
  {
   "cell_type": "markdown",
   "metadata": {},
   "source": [
    "# Fit t as a function of the eccentric anomoly (angle from the center of the elipse)"
   ]
  },
  {
   "cell_type": "code",
   "execution_count": 145,
   "metadata": {},
   "outputs": [],
   "source": [
    "def findEccentricAnomoly(coordap, coordper):\n",
    "    Ecenter=np.array(coordap)+np.array(coordper)\n",
    "    Ecenter/=2.\n",
    "    return Ecenter\n"
   ]
  },
  {
   "cell_type": "code",
   "execution_count": 146,
   "metadata": {},
   "outputs": [],
   "source": [
    "ellipsecenter=findEccentricAnomoly(coordap,coordper)"
   ]
  },
  {
   "cell_type": "code",
   "execution_count": 147,
   "metadata": {},
   "outputs": [
    {
     "data": {
      "text/plain": [
       "array([ 2.5000000e+01, -1.8913042e-03])"
      ]
     },
     "execution_count": 147,
     "metadata": {},
     "output_type": "execute_result"
    }
   ],
   "source": [
    "ellipsecenter"
   ]
  },
  {
   "cell_type": "code",
   "execution_count": 165,
   "metadata": {},
   "outputs": [],
   "source": [
    "def getEllipsecenter(ecc,rad,theta):\n",
    "    rp=-rad*(1-ecc)\n",
    "    ra=rad*(1+ecc)\n",
    "    rcent=(rp+ra)/2\n",
    "    rcentx=rcent*np.cos(theta)\n",
    "    rcenty=rcent* np.sin(theta)\n",
    "    return [rcentx,rcenty]"
   ]
  },
  {
   "cell_type": "code",
   "execution_count": 166,
   "metadata": {},
   "outputs": [
    {
     "data": {
      "text/plain": [
       "array([ 2.5000000e+01, -1.8913042e-03])"
      ]
     },
     "execution_count": 166,
     "metadata": {},
     "output_type": "execute_result"
    }
   ],
   "source": [
    "(np.array(coordap)+np.array(coordper))/2"
   ]
  },
  {
   "cell_type": "code",
   "execution_count": 167,
   "metadata": {},
   "outputs": [
    {
     "data": {
      "text/plain": [
       "[25.0, 0.0]"
      ]
     },
     "execution_count": 167,
     "metadata": {},
     "output_type": "execute_result"
    }
   ],
   "source": [
    "getEllipsecenter(ecc0,rad0,theta0)"
   ]
  },
  {
   "cell_type": "code",
   "execution_count": 168,
   "metadata": {},
   "outputs": [],
   "source": [
    "def getEang(npstar2x,ecc,rad,theta):\n",
    "    ellipsecenter=getEllipsecenter(ecc,rad,theta)\n",
    "    print(ellipsecenter)\n",
    "    print(npstar2x)\n",
    "    print(npstar2x[:,0])\n",
    "    xfortan=npstar2x[:,0]-ellipsecenter[0]\n",
    "    yfortan=npstar2x[:,1]-ellipsecenter[1]\n",
    "    #print(\"xy\",xfortan,yfortan)\n",
    "    Eang=np.arctan2(yfortan,xfortan)\n",
    "    for i in np.arange(len(npstar2x[:,0])):\n",
    "        if Eang[i]<0:\n",
    "            Eang[i]+=2*math.pi\n",
    "    \n",
    "    print(\"Eang\",Eang)\n",
    "    return Eang"
   ]
  },
  {
   "cell_type": "code",
   "execution_count": 169,
   "metadata": {},
   "outputs": [],
   "source": [
    "def xofeccanom(rad,Eang,ecc):\n",
    "    return rad*(np.cos(Eang)+ecc)"
   ]
  },
  {
   "cell_type": "code",
   "execution_count": 170,
   "metadata": {},
   "outputs": [],
   "source": [
    "def yofeccanom(rad, Eang, ecc):\n",
    "    b=getsemiminor(rad,ecc)\n",
    "    return b*np.sin(Eang) "
   ]
  },
  {
   "cell_type": "code",
   "execution_count": 187,
   "metadata": {},
   "outputs": [],
   "source": [
    "def tofEccAnom(npstar2x, rad,ecc,theta,mass):\n",
    "    Eang=getEang(npstar2x,ecc,rad,theta)\n",
    "    b=getsemiminor(rad,ecc)\n",
    "    #fitval=rad*b*(Eang-ecc*np.sin(Eang))\n",
    "    fitval=2.*rad**(1.5)*mass**(-.5)*(Eang-ecc*np.sin(Eang))\n",
    "    print(Eang, ecc,rad,mass,fitval)\n",
    "    return fitval"
   ]
  },
  {
   "cell_type": "code",
   "execution_count": 188,
   "metadata": {},
   "outputs": [],
   "source": [
    "def residualtEang(pars,nptimes,npstar2x):\n",
    "    residual= nptimes-tofEccAnom(npstar2x,pars['rad'],pars['ecc'],pars['theta'],pars['mass'])\n",
    "    #print(nptimes, residual)\n",
    "    return residual"
   ]
  },
  {
   "cell_type": "code",
   "execution_count": 189,
   "metadata": {},
   "outputs": [],
   "source": [
    "endindex=apindex\n",
    "if useperihelion:\n",
    "    endindex=perindex"
   ]
  },
  {
   "cell_type": "code",
   "execution_count": 190,
   "metadata": {},
   "outputs": [
    {
     "name": "stdout",
     "output_type": "stream",
     "text": [
      "[25.0, 0.0]\n",
      "[[ 2.50000000e+01  0.00000000e+00  0.00000000e+00 -0.00000000e+00\n",
      "   1.22474487e-01  0.00000000e+00]\n",
      " [ 2.49999980e+01  1.22474484e-02  0.00000000e+00 -3.99999973e-05\n",
      "   1.22474477e-01  0.00000000e+00]\n",
      " [ 2.49999920e+01  2.44948948e-02  0.00000000e+00 -7.99999787e-05\n",
      "   1.22474448e-01  0.00000000e+00]\n",
      " ...\n",
      " [ 2.49999707e+01 -4.69001362e-02  0.00000000e+00  1.53175114e-04\n",
      "   1.22474343e-01  0.00000000e+00]\n",
      " [ 2.49999840e+01 -3.46526984e-02  0.00000000e+00  1.13175203e-04\n",
      "   1.22474409e-01  0.00000000e+00]\n",
      " [ 2.49999933e+01 -2.24052551e-02  0.00000000e+00  7.31752469e-05\n",
      "   1.22474454e-01  0.00000000e+00]]\n",
      "[25.         24.999998   24.999992   ... 24.99997067 24.99998399\n",
      " 24.99999331]\n",
      "Eang [0.         1.57095963 1.57112293 ... 4.71176365 4.71192694 4.71209024]\n"
     ]
    }
   ],
   "source": [
    "Eang0=getEang(npstar2x[0:endindex-1,:],ecc0,rad0,theta0)"
   ]
  },
  {
   "cell_type": "code",
   "execution_count": 191,
   "metadata": {},
   "outputs": [
    {
     "name": "stdout",
     "output_type": "stream",
     "text": [
      "[25.0, 0.0]\n",
      "[[ 2.50000000e+01  0.00000000e+00  0.00000000e+00 -0.00000000e+00\n",
      "   1.22474487e-01  0.00000000e+00]\n",
      " [ 2.49999980e+01  1.22474484e-02  0.00000000e+00 -3.99999973e-05\n",
      "   1.22474477e-01  0.00000000e+00]\n",
      " [ 2.49999920e+01  2.44948948e-02  0.00000000e+00 -7.99999787e-05\n",
      "   1.22474448e-01  0.00000000e+00]\n",
      " ...\n",
      " [ 2.49999707e+01 -4.69001362e-02  0.00000000e+00  1.53175114e-04\n",
      "   1.22474343e-01  0.00000000e+00]\n",
      " [ 2.49999840e+01 -3.46526984e-02  0.00000000e+00  1.13175203e-04\n",
      "   1.22474409e-01  0.00000000e+00]\n",
      " [ 2.49999933e+01 -2.24052551e-02  0.00000000e+00  7.31752469e-05\n",
      "   1.22474454e-01  0.00000000e+00]]\n",
      "[25.         24.999998   24.999992   ... 24.99997067 24.99998399\n",
      " 24.99999331]\n",
      "Eang [0.         1.57095963 1.57112293 ... 4.71176365 4.71192694 4.71209024]\n",
      "[0.         1.57095963 1.57112293 ... 4.71176365 4.71192694 4.71209024] 0.5 50 1.0 [   0.          757.28281871  757.3983029  ... 3685.27334627 3685.38884765\n",
      " 3685.50433962]\n"
     ]
    }
   ],
   "source": [
    "Eangtest=tofEccAnom(npstar2x[0:endindex-1,:],rad0,ecc0,theta0,masses[0])"
   ]
  },
  {
   "cell_type": "code",
   "execution_count": 192,
   "metadata": {},
   "outputs": [
    {
     "data": {
      "text/plain": [
       "3685.5043396249084"
      ]
     },
     "execution_count": 192,
     "metadata": {},
     "output_type": "execute_result"
    }
   ],
   "source": [
    "np.max(Eangtest)"
   ]
  },
  {
   "cell_type": "code",
   "execution_count": 193,
   "metadata": {},
   "outputs": [
    {
     "data": {
      "text/plain": [
       "0.0"
      ]
     },
     "execution_count": 193,
     "metadata": {},
     "output_type": "execute_result"
    }
   ],
   "source": [
    "nptimes[0]"
   ]
  },
  {
   "cell_type": "code",
   "execution_count": 194,
   "metadata": {},
   "outputs": [],
   "source": [
    "nptimesoneorbit=nptimes[0:endindex-1]"
   ]
  },
  {
   "cell_type": "code",
   "execution_count": 195,
   "metadata": {},
   "outputs": [],
   "source": [
    "tpredoneorbit=Eangtest[0:endindex-1]"
   ]
  },
  {
   "cell_type": "code",
   "execution_count": 196,
   "metadata": {},
   "outputs": [],
   "source": [
    "Eangoneorbit=Eang0[0:endindex-1]"
   ]
  },
  {
   "cell_type": "code",
   "execution_count": null,
   "metadata": {},
   "outputs": [],
   "source": []
  },
  {
   "cell_type": "code",
   "execution_count": 197,
   "metadata": {},
   "outputs": [
    {
     "data": {
      "text/plain": [
       "[<matplotlib.lines.Line2D at 0x7f90ac12b250>]"
      ]
     },
     "execution_count": 197,
     "metadata": {},
     "output_type": "execute_result"
    },
    {
     "data": {
      "image/png": "[encoded data removed]",
      "text/plain": [
       "<Figure size 432x288 with 1 Axes>"
      ]
     },
     "metadata": {
      "needs_background": "light"
     },
     "output_type": "display_data"
    }
   ],
   "source": [
    "plt.plot(nptimesoneorbit,Eangoneorbit/math.pi*180)"
   ]
  },
  {
   "cell_type": "code",
   "execution_count": 198,
   "metadata": {},
   "outputs": [
    {
     "data": {
      "text/plain": [
       "[<matplotlib.lines.Line2D at 0x7f90ac1aab10>]"
      ]
     },
     "execution_count": 198,
     "metadata": {},
     "output_type": "execute_result"
    },
    {
     "data": {
      "image/png": "[encoded data removed]",
      "text/plain": [
       "<Figure size 432x288 with 1 Axes>"
      ]
     },
     "metadata": {
      "needs_background": "light"
     },
     "output_type": "display_data"
    }
   ],
   "source": [
    "plt.plot(nptimesoneorbit,tpredoneorbit)"
   ]
  },
  {
   "cell_type": "code",
   "execution_count": 199,
   "metadata": {},
   "outputs": [],
   "source": [
    "from matplotlib import pyplot as plt"
   ]
  },
  {
   "cell_type": "markdown",
   "metadata": {},
   "source": [
    "Arctan function is giving tangent output. I'm done for today. I'm asking for help on this, either Steve or on a forum. Clearly something really weird is going on. This is a distinct problem from the retrograde motion I had before I fixed the center, which you can tell from the sharply spiked top as opposed to the curved top I had before. Now the center appears to be in the correct location but there is some problem related to tangent versus arctangent. "
   ]
  },
  {
   "cell_type": "code",
   "execution_count": 200,
   "metadata": {},
   "outputs": [
    {
     "data": {
      "text/plain": [
       "<matplotlib.collections.PathCollection at 0x7f90ac6fb890>"
      ]
     },
     "execution_count": 200,
     "metadata": {},
     "output_type": "execute_result"
    },
    {
     "data": {
      "image/png": "[encoded data removed]",
      "text/plain": [
       "<Figure size 432x288 with 1 Axes>"
      ]
     },
     "metadata": {
      "needs_background": "light"
     },
     "output_type": "display_data"
    }
   ],
   "source": [
    "plt.scatter(nptimesoneorbit,tpredoneorbit)"
   ]
  },
  {
   "cell_type": "markdown",
   "metadata": {},
   "source": [
    "Retrograde motion as seen from the center of mass. I'm not sure that makes sense. So there's a problem with the definition of the Eang. The problem might be with the ellipse center, which probably shouldn't be at x=-70, if it spans between +5 and -95. "
   ]
  },
  {
   "cell_type": "code",
   "execution_count": 185,
   "metadata": {},
   "outputs": [
    {
     "name": "stdout",
     "output_type": "stream",
     "text": [
      "[25.0, 0.0]\n",
      "[[ 2.50000000e+01  0.00000000e+00  0.00000000e+00 -0.00000000e+00\n",
      "   1.22474487e-01  0.00000000e+00]\n",
      " [ 2.49999980e+01  1.22474484e-02  0.00000000e+00 -3.99999973e-05\n",
      "   1.22474477e-01  0.00000000e+00]\n",
      " [ 2.49999920e+01  2.44948948e-02  0.00000000e+00 -7.99999787e-05\n",
      "   1.22474448e-01  0.00000000e+00]\n",
      " ...\n",
      " [ 2.49999707e+01 -4.69001362e-02  0.00000000e+00  1.53175114e-04\n",
      "   1.22474343e-01  0.00000000e+00]\n",
      " [ 2.49999840e+01 -3.46526984e-02  0.00000000e+00  1.13175203e-04\n",
      "   1.22474409e-01  0.00000000e+00]\n",
      " [ 2.49999933e+01 -2.24052551e-02  0.00000000e+00  7.31752469e-05\n",
      "   1.22474454e-01  0.00000000e+00]]\n",
      "[25.         24.999998   24.999992   ... 24.99997067 24.99998399\n",
      " 24.99999331]\n",
      "Eang [0.         1.57095963 1.57112293 ... 4.71176365 4.71192694 4.71209024]\n",
      "[0.         1.57095963 1.57112293 ... 4.71176365 4.71192694 4.71209024] <Parameter 'ecc', value=0.5, bounds=[0:1.0]> <Parameter 'rad', value=50.0, bounds=[0:inf]> <Parameter 'mass', value=1.0 (fixed), bounds=[-inf:inf]> [   0.         1464.38959047 1464.50504637 ... 2978.16670334 2978.28214194\n",
      " 2978.39758999]\n",
      "[25.0, 0.0]\n",
      "[[ 2.50000000e+01  0.00000000e+00  0.00000000e+00 -0.00000000e+00\n",
      "   1.22474487e-01  0.00000000e+00]\n",
      " [ 2.49999980e+01  1.22474484e-02  0.00000000e+00 -3.99999973e-05\n",
      "   1.22474477e-01  0.00000000e+00]\n",
      " [ 2.49999920e+01  2.44948948e-02  0.00000000e+00 -7.99999787e-05\n",
      "   1.22474448e-01  0.00000000e+00]\n",
      " ...\n",
      " [ 2.49999707e+01 -4.69001362e-02  0.00000000e+00  1.53175114e-04\n",
      "   1.22474343e-01  0.00000000e+00]\n",
      " [ 2.49999840e+01 -3.46526984e-02  0.00000000e+00  1.13175203e-04\n",
      "   1.22474409e-01  0.00000000e+00]\n",
      " [ 2.49999933e+01 -2.24052551e-02  0.00000000e+00  7.31752469e-05\n",
      "   1.22474454e-01  0.00000000e+00]]\n",
      "[25.         24.999998   24.999992   ... 24.99997067 24.99998399\n",
      " 24.99999331]\n",
      "Eang [0.         1.57095963 1.57112293 ... 4.71176365 4.71192694 4.71209024]\n",
      "[0.         1.57095963 1.57112293 ... 4.71176365 4.71192694 4.71209024] <Parameter 'ecc', value=0.5, bounds=[0:1.0]> <Parameter 'rad', value=50.0, bounds=[0:inf]> <Parameter 'mass', value=1.0 (fixed), bounds=[-inf:inf]> [   0.         1464.38959047 1464.50504637 ... 2978.16670334 2978.28214194\n",
      " 2978.39758999]\n",
      "[25.0, 0.0]\n",
      "[[ 2.50000000e+01  0.00000000e+00  0.00000000e+00 -0.00000000e+00\n",
      "   1.22474487e-01  0.00000000e+00]\n",
      " [ 2.49999980e+01  1.22474484e-02  0.00000000e+00 -3.99999973e-05\n",
      "   1.22474477e-01  0.00000000e+00]\n",
      " [ 2.49999920e+01  2.44948948e-02  0.00000000e+00 -7.99999787e-05\n",
      "   1.22474448e-01  0.00000000e+00]\n",
      " ...\n",
      " [ 2.49999707e+01 -4.69001362e-02  0.00000000e+00  1.53175114e-04\n",
      "   1.22474343e-01  0.00000000e+00]\n",
      " [ 2.49999840e+01 -3.46526984e-02  0.00000000e+00  1.13175203e-04\n",
      "   1.22474409e-01  0.00000000e+00]\n",
      " [ 2.49999933e+01 -2.24052551e-02  0.00000000e+00  7.31752469e-05\n",
      "   1.22474454e-01  0.00000000e+00]]\n",
      "[25.         24.999998   24.999992   ... 24.99997067 24.99998399\n",
      " 24.99999331]\n",
      "Eang [0.         1.57095963 1.57112293 ... 4.71176365 4.71192694 4.71209024]\n",
      "[0.         1.57095963 1.57112293 ... 4.71176365 4.71192694 4.71209024] <Parameter 'ecc', value=0.5, bounds=[0:1.0]> <Parameter 'rad', value=50.0, bounds=[0:inf]> <Parameter 'mass', value=1.0 (fixed), bounds=[-inf:inf]> [   0.         1464.38959047 1464.50504637 ... 2978.16670334 2978.28214194\n",
      " 2978.39758999]\n",
      "[25.0, 1.743934249004316e-14]\n",
      "[[ 2.50000000e+01  0.00000000e+00  0.00000000e+00 -0.00000000e+00\n",
      "   1.22474487e-01  0.00000000e+00]\n",
      " [ 2.49999980e+01  1.22474484e-02  0.00000000e+00 -3.99999973e-05\n",
      "   1.22474477e-01  0.00000000e+00]\n",
      " [ 2.49999920e+01  2.44948948e-02  0.00000000e+00 -7.99999787e-05\n",
      "   1.22474448e-01  0.00000000e+00]\n",
      " ...\n",
      " [ 2.49999707e+01 -4.69001362e-02  0.00000000e+00  1.53175114e-04\n",
      "   1.22474343e-01  0.00000000e+00]\n",
      " [ 2.49999840e+01 -3.46526984e-02  0.00000000e+00  1.13175203e-04\n",
      "   1.22474409e-01  0.00000000e+00]\n",
      " [ 2.49999933e+01 -2.24052551e-02  0.00000000e+00  7.31752469e-05\n",
      "   1.22474454e-01  0.00000000e+00]]\n",
      "[25.         24.999998   24.999992   ... 24.99997067 24.99998399\n",
      " 24.99999331]\n",
      "Eang [4.71238898 1.57095963 1.57112293 ... 4.71176365 4.71192694 4.71209024]\n",
      "[4.71238898 1.57095963 1.57112293 ... 4.71176365 4.71192694 4.71209024] <Parameter 'ecc', value=0.5, bounds=[0:1.0]> <Parameter 'rad', value=50.0, bounds=[0:inf]> <Parameter 'mass', value=1.0 (fixed), bounds=[-inf:inf]> [2978.60881303 1464.38959047 1464.50504637 ... 2978.16670334 2978.28214194\n",
      " 2978.39758999]\n",
      "[25.000000379833523, 0.0]\n",
      "[[ 2.50000000e+01  0.00000000e+00  0.00000000e+00 -0.00000000e+00\n",
      "   1.22474487e-01  0.00000000e+00]\n",
      " [ 2.49999980e+01  1.22474484e-02  0.00000000e+00 -3.99999973e-05\n",
      "   1.22474477e-01  0.00000000e+00]\n",
      " [ 2.49999920e+01  2.44948948e-02  0.00000000e+00 -7.99999787e-05\n",
      "   1.22474448e-01  0.00000000e+00]\n",
      " ...\n",
      " [ 2.49999707e+01 -4.69001362e-02  0.00000000e+00  1.53175114e-04\n",
      "   1.22474343e-01  0.00000000e+00]\n",
      " [ 2.49999840e+01 -3.46526984e-02  0.00000000e+00  1.13175203e-04\n",
      "   1.22474409e-01  0.00000000e+00]\n",
      " [ 2.49999933e+01 -2.24052551e-02  0.00000000e+00  7.31752469e-05\n",
      "   1.22474454e-01  0.00000000e+00]]\n",
      "[25.         24.999998   24.999992   ... 24.99997067 24.99998399\n",
      " 24.99999331]\n",
      "Eang [3.14159265 1.57099064 1.57113843 ... 4.71175555 4.71191598 4.71207329]\n",
      "[3.14159265 1.57099064 1.57113843 ... 4.71175555 4.71191598 4.71207329] <Parameter 'ecc', value=0.5, bounds=[0:1.0]> <Parameter 'rad', value=50.000000759667046, bounds=[0:inf]> <Parameter 'mass', value=1.0 (fixed), bounds=[-inf:inf]> [2221.44151971 1464.41155158 1464.51604276 ... 2978.16104632 2978.27446092\n",
      " 2978.38567222]\n",
      "[25.00000037252903, 0.0]\n",
      "[[ 2.50000000e+01  0.00000000e+00  0.00000000e+00 -0.00000000e+00\n",
      "   1.22474487e-01  0.00000000e+00]\n",
      " [ 2.49999980e+01  1.22474484e-02  0.00000000e+00 -3.99999973e-05\n",
      "   1.22474477e-01  0.00000000e+00]\n",
      " [ 2.49999920e+01  2.44948948e-02  0.00000000e+00 -7.99999787e-05\n",
      "   1.22474448e-01  0.00000000e+00]\n",
      " ...\n",
      " [ 2.49999707e+01 -4.69001362e-02  0.00000000e+00  1.53175114e-04\n",
      "   1.22474343e-01  0.00000000e+00]\n",
      " [ 2.49999840e+01 -3.46526984e-02  0.00000000e+00  1.13175203e-04\n",
      "   1.22474409e-01  0.00000000e+00]\n",
      " [ 2.49999933e+01 -2.24052551e-02  0.00000000e+00  7.31752469e-05\n",
      "   1.22474454e-01  0.00000000e+00]]\n",
      "[25.         24.999998   24.999992   ... 24.99997067 24.99998399\n",
      " 24.99999331]\n",
      "Eang [3.14159265 1.57099004 1.57113813 ... 4.7117557  4.71191619 4.71207362]\n",
      "[3.14159265 1.57099004 1.57113813 ... 4.7117557  4.71191619 4.71207362] <Parameter 'ecc', value=0.5000000074505806, bounds=[0:1.0]> <Parameter 'rad', value=50.0, bounds=[0:inf]> <Parameter 'mass', value=1.0 (fixed), bounds=[-inf:inf]> [2221.44146908 1464.41110179 1464.51580383 ... 2978.16108327 2978.2745368\n",
      " 2978.38582956]\n",
      "[24.69359472531719, 0.005250145451607389]\n",
      "[[ 2.50000000e+01  0.00000000e+00  0.00000000e+00 -0.00000000e+00\n",
      "   1.22474487e-01  0.00000000e+00]\n",
      " [ 2.49999980e+01  1.22474484e-02  0.00000000e+00 -3.99999973e-05\n",
      "   1.22474477e-01  0.00000000e+00]\n",
      " [ 2.49999920e+01  2.44948948e-02  0.00000000e+00 -7.99999787e-05\n",
      "   1.22474448e-01  0.00000000e+00]\n",
      " ...\n",
      " [ 2.49999707e+01 -4.69001362e-02  0.00000000e+00  1.53175114e-04\n",
      "   1.22474343e-01  0.00000000e+00]\n",
      " [ 2.49999840e+01 -3.46526984e-02  0.00000000e+00  1.13175203e-04\n",
      "   1.22474409e-01  0.00000000e+00]\n",
      " [ 2.49999933e+01 -2.24052551e-02  0.00000000e+00  7.31752469e-05\n",
      "   1.22474454e-01  0.00000000e+00]]\n",
      "[25.         24.999998   24.999992   ... 24.99997067 24.99998399\n",
      " 24.99999331]\n",
      "Eang [6.26605234 0.02283294 0.06272739 ... 6.11458461 6.15367845 6.19316967]\n",
      "[6.26605234 0.02283294 0.06272739 ... 6.11458461 6.15367845 6.19316967] <Parameter 'ecc', value=0.4685144948363214, bounds=[0:1.0]> <Parameter 'rad', value=52.70615008840878, bounds=[0:inf]> <Parameter 'mass', value=1.0 (fixed), bounds=[-inf:inf]> [4789.15925305   25.65960273   70.48010575 ... 4619.22114241 4662.99962637\n",
      " 4707.29487088]\n",
      "[24.69359472531273, 0.0052501664203415946]\n",
      "[[ 2.50000000e+01  0.00000000e+00  0.00000000e+00 -0.00000000e+00\n",
      "   1.22474487e-01  0.00000000e+00]\n",
      " [ 2.49999980e+01  1.22474484e-02  0.00000000e+00 -3.99999973e-05\n",
      "   1.22474477e-01  0.00000000e+00]\n",
      " [ 2.49999920e+01  2.44948948e-02  0.00000000e+00 -7.99999787e-05\n",
      "   1.22474448e-01  0.00000000e+00]\n",
      " ...\n",
      " [ 2.49999707e+01 -4.69001362e-02  0.00000000e+00  1.53175114e-04\n",
      "   1.22474343e-01  0.00000000e+00]\n",
      " [ 2.49999840e+01 -3.46526984e-02  0.00000000e+00  1.13175203e-04\n",
      "   1.22474409e-01  0.00000000e+00]\n",
      " [ 2.49999933e+01 -2.24052551e-02  0.00000000e+00  7.31752469e-05\n",
      "   1.22474454e-01  0.00000000e+00]]\n",
      "[25.         24.999998   24.999992   ... 24.99997067 24.99998399\n",
      " 24.99999331]\n",
      "Eang [6.26605227 0.02283287 0.06272732 ... 6.11458454 6.15367838 6.1931696 ]\n",
      "[6.26605227 0.02283287 0.06272732 ... 6.11458454 6.15367838 6.1931696 ] <Parameter 'ecc', value=0.4685144948363214, bounds=[0:1.0]> <Parameter 'rad', value=52.70615008840878, bounds=[0:inf]> <Parameter 'mass', value=1.0 (fixed), bounds=[-inf:inf]> [4789.15917617   25.65952586   70.48002918 ... 4619.221068   4662.99955094\n",
      " 4707.29479469]\n",
      "[24.693595100131837, 0.0052501455312973415]\n",
      "[[ 2.50000000e+01  0.00000000e+00  0.00000000e+00 -0.00000000e+00\n",
      "   1.22474487e-01  0.00000000e+00]\n",
      " [ 2.49999980e+01  1.22474484e-02  0.00000000e+00 -3.99999973e-05\n",
      "   1.22474477e-01  0.00000000e+00]\n",
      " [ 2.49999920e+01  2.44948948e-02  0.00000000e+00 -7.99999787e-05\n",
      "   1.22474448e-01  0.00000000e+00]\n",
      " ...\n",
      " [ 2.49999707e+01 -4.69001362e-02  0.00000000e+00  1.53175114e-04\n",
      "   1.22474343e-01  0.00000000e+00]\n",
      " [ 2.49999840e+01 -3.46526984e-02  0.00000000e+00  1.13175203e-04\n",
      "   1.22474409e-01  0.00000000e+00]\n",
      " [ 2.49999933e+01 -2.24052551e-02  0.00000000e+00  7.31752469e-05\n",
      "   1.22474454e-01  0.00000000e+00]]\n",
      "[25.         24.999998   24.999992   ... 24.99997067 24.99998399\n",
      " 24.99999331]\n",
      "Eang [6.26605232 0.02283297 0.06272747 ... 6.11458441 6.15367829 6.19316956]\n",
      "[6.26605232 0.02283297 0.06272747 ... 6.11458441 6.15367829 6.19316956] <Parameter 'ecc', value=0.4685144948363214, bounds=[0:1.0]> <Parameter 'rad', value=52.70615088841532, bounds=[0:inf]> <Parameter 'mass', value=1.0 (fixed), bounds=[-inf:inf]> [4789.15933825   25.6596344    70.48019302 ... 4619.22102089 4662.99955666\n",
      " 4707.29485484]\n",
      "[24.69359475001263, 0.005250145456857926]\n",
      "[[ 2.50000000e+01  0.00000000e+00  0.00000000e+00 -0.00000000e+00\n",
      "   1.22474487e-01  0.00000000e+00]\n",
      " [ 2.49999980e+01  1.22474484e-02  0.00000000e+00 -3.99999973e-05\n",
      "   1.22474477e-01  0.00000000e+00]\n",
      " [ 2.49999920e+01  2.44948948e-02  0.00000000e+00 -7.99999787e-05\n",
      "   1.22474448e-01  0.00000000e+00]\n",
      " ...\n",
      " [ 2.49999707e+01 -4.69001362e-02  0.00000000e+00  1.53175114e-04\n",
      "   1.22474343e-01  0.00000000e+00]\n",
      " [ 2.49999840e+01 -3.46526984e-02  0.00000000e+00  1.13175203e-04\n",
      "   1.22474409e-01  0.00000000e+00]\n",
      " [ 2.49999933e+01 -2.24052551e-02  0.00000000e+00  7.31752469e-05\n",
      "   1.22474454e-01  0.00000000e+00]]\n",
      "[25.         24.999998   24.999992   ... 24.99997067 24.99998399\n",
      " 24.99999331]\n",
      "Eang [6.26605234 0.02283294 0.0627274  ... 6.1145846  6.15367844 6.19316966]\n",
      "[6.26605234 0.02283294 0.0627274  ... 6.1145846  6.15367844 6.19316966] <Parameter 'ecc', value=0.4685144953048709, bounds=[0:1.0]> <Parameter 'rad', value=52.70615008840878, bounds=[0:inf]> <Parameter 'mass', value=1.0 (fixed), bounds=[-inf:inf]> [4789.15925148   25.65960478   70.48011141 ... 4619.22112741 4662.99961474\n",
      " 4707.29486273]\n",
      "[21.424181399862686, 0.07296310286160053]\n",
      "[[ 2.50000000e+01  0.00000000e+00  0.00000000e+00 -0.00000000e+00\n",
      "   1.22474487e-01  0.00000000e+00]\n",
      " [ 2.49999980e+01  1.22474484e-02  0.00000000e+00 -3.99999973e-05\n",
      "   1.22474477e-01  0.00000000e+00]\n",
      " [ 2.49999920e+01  2.44948948e-02  0.00000000e+00 -7.99999787e-05\n",
      "   1.22474448e-01  0.00000000e+00]\n",
      " ...\n",
      " [ 2.49999707e+01 -4.69001362e-02  0.00000000e+00  1.53175114e-04\n",
      "   1.22474343e-01  0.00000000e+00]\n",
      " [ 2.49999840e+01 -3.46526984e-02  0.00000000e+00  1.13175203e-04\n",
      "   1.22474409e-01  0.00000000e+00]\n",
      " [ 2.49999933e+01 -2.24052551e-02  0.00000000e+00  7.31752469e-05\n",
      "   1.22474454e-01  0.00000000e+00]]\n",
      "[25.         24.999998   24.999992   ... 24.99997067 24.99998399\n",
      " 24.99999331]\n",
      "Eang [6.26278355 6.26620742 6.26963167 ... 6.24967708 6.25309882 6.25652122]\n",
      "[6.26278355 6.26620742 6.26963167 ... 6.24967708 6.25309882 6.25652122] <Parameter 'ecc', value=0.40984489938103585, bounds=[0:1.0]> <Parameter 'rad', value=52.274179024749515, bounds=[0:inf]> <Parameter 'mass', value=1.0 (fixed), bounds=[-inf:inf]> [4727.67972392 4731.32832893 4734.97740723 ... 4713.71374733 4717.35974354\n",
      " 4721.0065427 ]\n",
      "[21.424181399620338, 0.07296317402319887]\n",
      "[[ 2.50000000e+01  0.00000000e+00  0.00000000e+00 -0.00000000e+00\n",
      "   1.22474487e-01  0.00000000e+00]\n",
      " [ 2.49999980e+01  1.22474484e-02  0.00000000e+00 -3.99999973e-05\n",
      "   1.22474477e-01  0.00000000e+00]\n",
      " [ 2.49999920e+01  2.44948948e-02  0.00000000e+00 -7.99999787e-05\n",
      "   1.22474448e-01  0.00000000e+00]\n",
      " ...\n",
      " [ 2.49999707e+01 -4.69001362e-02  0.00000000e+00  1.53175114e-04\n",
      "   1.22474343e-01  0.00000000e+00]\n",
      " [ 2.49999840e+01 -3.46526984e-02  0.00000000e+00  1.13175203e-04\n",
      "   1.22474409e-01  0.00000000e+00]\n",
      " [ 2.49999933e+01 -2.24052551e-02  0.00000000e+00  7.31752469e-05\n",
      "   1.22474454e-01  0.00000000e+00]]\n",
      "[25.         24.999998   24.999992   ... 24.99997067 24.99998399\n",
      " 24.99999331]\n"
     ]
    },
    {
     "name": "stdout",
     "output_type": "stream",
     "text": [
      "Eang [6.26278353 6.2662074  6.26963165 ... 6.24967706 6.2530988  6.2565212 ]\n",
      "[6.26278353 6.2662074  6.26963165 ... 6.24967706 6.2530988  6.2565212 ] <Parameter 'ecc', value=0.40984489938103585, bounds=[0:1.0]> <Parameter 'rad', value=52.274179024749515, bounds=[0:inf]> <Parameter 'mass', value=1.0 (fixed), bounds=[-inf:inf]> [4727.67970272 4731.32830773 4734.97738602 ... 4713.71372615 4717.35972236\n",
      " 4721.00652151]\n",
      "[21.424181725100365, 0.07296310396924378]\n",
      "[[ 2.50000000e+01  0.00000000e+00  0.00000000e+00 -0.00000000e+00\n",
      "   1.22474487e-01  0.00000000e+00]\n",
      " [ 2.49999980e+01  1.22474484e-02  0.00000000e+00 -3.99999973e-05\n",
      "   1.22474477e-01  0.00000000e+00]\n",
      " [ 2.49999920e+01  2.44948948e-02  0.00000000e+00 -7.99999787e-05\n",
      "   1.22474448e-01  0.00000000e+00]\n",
      " ...\n",
      " [ 2.49999707e+01 -4.69001362e-02  0.00000000e+00  1.53175114e-04\n",
      "   1.22474343e-01  0.00000000e+00]\n",
      " [ 2.49999840e+01 -3.46526984e-02  0.00000000e+00  1.13175203e-04\n",
      "   1.22474409e-01  0.00000000e+00]\n",
      " [ 2.49999933e+01 -2.24052551e-02  0.00000000e+00  7.31752469e-05\n",
      "   1.22474454e-01  0.00000000e+00]]\n",
      "[25.         24.999998   24.999992   ... 24.99997067 24.99998399\n",
      " 24.99999331]\n",
      "Eang [6.26278355 6.26620742 6.26963167 ... 6.24967707 6.25309882 6.25652122]\n",
      "[6.26278355 6.26620742 6.26963167 ... 6.24967707 6.25309882 6.25652122] <Parameter 'ecc', value=0.40984489938103585, bounds=[0:1.0]> <Parameter 'rad', value=52.27417981831694, bounds=[0:inf]> <Parameter 'mass', value=1.0 (fixed), bounds=[-inf:inf]> [4727.67982926 4731.32843469 4734.97751341 ... 4713.71385109 4717.35984772\n",
      " 4721.00664729]\n",
      "[21.424181469317098, 0.07296310309813743]\n",
      "[[ 2.50000000e+01  0.00000000e+00  0.00000000e+00 -0.00000000e+00\n",
      "   1.22474487e-01  0.00000000e+00]\n",
      " [ 2.49999980e+01  1.22474484e-02  0.00000000e+00 -3.99999973e-05\n",
      "   1.22474477e-01  0.00000000e+00]\n",
      " [ 2.49999920e+01  2.44948948e-02  0.00000000e+00 -7.99999787e-05\n",
      "   1.22474448e-01  0.00000000e+00]\n",
      " ...\n",
      " [ 2.49999707e+01 -4.69001362e-02  0.00000000e+00  1.53175114e-04\n",
      "   1.22474343e-01  0.00000000e+00]\n",
      " [ 2.49999840e+01 -3.46526984e-02  0.00000000e+00  1.13175203e-04\n",
      "   1.22474409e-01  0.00000000e+00]\n",
      " [ 2.49999933e+01 -2.24052551e-02  0.00000000e+00  7.31752469e-05\n",
      "   1.22474454e-01  0.00000000e+00]]\n",
      "[25.         24.999998   24.999992   ... 24.99997067 24.99998399\n",
      " 24.99999331]\n",
      "Eang [6.26278355 6.26620742 6.26963167 ... 6.24967707 6.25309882 6.25652122]\n",
      "[6.26278355 6.26620742 6.26963167 ... 6.24967707 6.25309882 6.25652122] <Parameter 'ecc', value=0.4098449007096997, bounds=[0:1.0]> <Parameter 'rad', value=52.274179024749515, bounds=[0:inf]> <Parameter 'mass', value=1.0 (fixed), bounds=[-inf:inf]> [4727.6797234  4731.32832849 4734.97740686 ... 4713.71374653 4717.35974282\n",
      " 4721.00654205]\n",
      "[15.02119048866204, 0.05233268153918328]\n",
      "[[ 2.50000000e+01  0.00000000e+00  0.00000000e+00 -0.00000000e+00\n",
      "   1.22474487e-01  0.00000000e+00]\n",
      " [ 2.49999980e+01  1.22474484e-02  0.00000000e+00 -3.99999973e-05\n",
      "   1.22474477e-01  0.00000000e+00]\n",
      " [ 2.49999920e+01  2.44948948e-02  0.00000000e+00 -7.99999787e-05\n",
      "   1.22474448e-01  0.00000000e+00]\n",
      " ...\n",
      " [ 2.49999707e+01 -4.69001362e-02  0.00000000e+00  1.53175114e-04\n",
      "   1.22474343e-01  0.00000000e+00]\n",
      " [ 2.49999840e+01 -3.46526984e-02  0.00000000e+00  1.13175203e-04\n",
      "   1.22474409e-01  0.00000000e+00]\n",
      " [ 2.49999933e+01 -2.24052551e-02  0.00000000e+00  7.31752469e-05\n",
      "   1.22474454e-01  0.00000000e+00]]\n",
      "[25.         24.999998   24.999992   ... 24.99997067 24.99998399\n",
      " 24.99999331]\n",
      "Eang [6.27794097 6.27916829 6.28039562 ... 6.27324125 6.2744685  6.27569578]\n",
      "[6.27794097 6.27916829 6.28039562 ... 6.27324125 6.2744685  6.27569578] <Parameter 'ecc', value=0.29390859752469994, bounds=[0:1.0]> <Parameter 'rad', value=51.10868404813429, bounds=[0:inf]> <Parameter 'mass', value=1.0 (fixed), bounds=[-inf:inf]> [4586.51303166 4587.67349604 4588.83397238 ... 4582.0693296  4583.22972335\n",
      " 4584.39013934]\n",
      "[15.021190488486289, 0.05233273198511618]\n",
      "[[ 2.50000000e+01  0.00000000e+00  0.00000000e+00 -0.00000000e+00\n",
      "   1.22474487e-01  0.00000000e+00]\n",
      " [ 2.49999980e+01  1.22474484e-02  0.00000000e+00 -3.99999973e-05\n",
      "   1.22474477e-01  0.00000000e+00]\n",
      " [ 2.49999920e+01  2.44948948e-02  0.00000000e+00 -7.99999787e-05\n",
      "   1.22474448e-01  0.00000000e+00]\n",
      " ...\n",
      " [ 2.49999707e+01 -4.69001362e-02  0.00000000e+00  1.53175114e-04\n",
      "   1.22474343e-01  0.00000000e+00]\n",
      " [ 2.49999840e+01 -3.46526984e-02  0.00000000e+00  1.13175203e-04\n",
      "   1.22474409e-01  0.00000000e+00]\n",
      " [ 2.49999933e+01 -2.24052551e-02  0.00000000e+00  7.31752469e-05\n",
      "   1.22474454e-01  0.00000000e+00]]\n",
      "[25.         24.999998   24.999992   ... 24.99997067 24.99998399\n",
      " 24.99999331]\n",
      "Eang [6.27794097 6.27916829 6.28039562 ... 6.27324125 6.2744685  6.27569577]\n",
      "[6.27794097 6.27916829 6.28039562 ... 6.27324125 6.2744685  6.27569577] <Parameter 'ecc', value=0.29390859752469994, bounds=[0:1.0]> <Parameter 'rad', value=51.10868404813429, bounds=[0:inf]> <Parameter 'mass', value=1.0 (fixed), bounds=[-inf:inf]> [4586.51302689 4587.67349126 4588.8339676  ... 4582.06932482 4583.22971857\n",
      " 4584.39013456]\n",
      "[15.021190716790723, 0.052332682333966214]\n",
      "[[ 2.50000000e+01  0.00000000e+00  0.00000000e+00 -0.00000000e+00\n",
      "   1.22474487e-01  0.00000000e+00]\n",
      " [ 2.49999980e+01  1.22474484e-02  0.00000000e+00 -3.99999973e-05\n",
      "   1.22474477e-01  0.00000000e+00]\n",
      " [ 2.49999920e+01  2.44948948e-02  0.00000000e+00 -7.99999787e-05\n",
      "   1.22474448e-01  0.00000000e+00]\n",
      " ...\n",
      " [ 2.49999707e+01 -4.69001362e-02  0.00000000e+00  1.53175114e-04\n",
      "   1.22474343e-01  0.00000000e+00]\n",
      " [ 2.49999840e+01 -3.46526984e-02  0.00000000e+00  1.13175203e-04\n",
      "   1.22474409e-01  0.00000000e+00]\n",
      " [ 2.49999933e+01 -2.24052551e-02  0.00000000e+00  7.31752469e-05\n",
      "   1.22474454e-01  0.00000000e+00]]\n",
      "[25.         24.999998   24.999992   ... 24.99997067 24.99998399\n",
      " 24.99999331]\n",
      "Eang [6.27794097 6.27916829 6.28039562 ... 6.27324125 6.2744685  6.27569578]\n",
      "[6.27794097 6.27916829 6.28039562 ... 6.27324125 6.2744685  6.27569578] <Parameter 'ecc', value=0.29390859752469994, bounds=[0:1.0]> <Parameter 'rad', value=51.10868482432823, bounds=[0:inf]> <Parameter 'mass', value=1.0 (fixed), bounds=[-inf:inf]> [4586.51313596 4587.67360039 4588.83407678 ... 4582.0694337  4583.2298275\n",
      " 4584.39024354]\n",
      "[15.0211906360571, 0.05233268205269643]\n",
      "[[ 2.50000000e+01  0.00000000e+00  0.00000000e+00 -0.00000000e+00\n",
      "   1.22474487e-01  0.00000000e+00]\n",
      " [ 2.49999980e+01  1.22474484e-02  0.00000000e+00 -3.99999973e-05\n",
      "   1.22474477e-01  0.00000000e+00]\n",
      " [ 2.49999920e+01  2.44948948e-02  0.00000000e+00 -7.99999787e-05\n",
      "   1.22474448e-01  0.00000000e+00]\n",
      " ...\n",
      " [ 2.49999707e+01 -4.69001362e-02  0.00000000e+00  1.53175114e-04\n",
      "   1.22474343e-01  0.00000000e+00]\n",
      " [ 2.49999840e+01 -3.46526984e-02  0.00000000e+00  1.13175203e-04\n",
      "   1.22474409e-01  0.00000000e+00]\n",
      " [ 2.49999933e+01 -2.24052551e-02  0.00000000e+00  7.31752469e-05\n",
      "   1.22474454e-01  0.00000000e+00]]\n",
      "[25.         24.999998   24.999992   ... 24.99997067 24.99998399\n",
      " 24.99999331]\n",
      "Eang [6.27794097 6.27916829 6.28039562 ... 6.27324125 6.2744685  6.27569578]\n",
      "[6.27794097 6.27916829 6.28039562 ... 6.27324125 6.2744685  6.27569578] <Parameter 'ecc', value=0.29390860040867084, bounds=[0:1.0]> <Parameter 'rad', value=51.10868404813429, bounds=[0:inf]> <Parameter 'mass', value=1.0 (fixed), bounds=[-inf:inf]> [4586.51303153 4587.67349593 4588.83397228 ... 4582.06932939 4583.22972316\n",
      " 4584.39013917]\n",
      "[5.307025166776423, 0.018230848008041447]\n",
      "[[ 2.50000000e+01  0.00000000e+00  0.00000000e+00 -0.00000000e+00\n",
      "   1.22474487e-01  0.00000000e+00]\n",
      " [ 2.49999980e+01  1.22474484e-02  0.00000000e+00 -3.99999973e-05\n",
      "   1.22474477e-01  0.00000000e+00]\n",
      " [ 2.49999920e+01  2.44948948e-02  0.00000000e+00 -7.99999787e-05\n",
      "   1.22474448e-01  0.00000000e+00]\n",
      " ...\n",
      " [ 2.49999707e+01 -4.69001362e-02  0.00000000e+00  1.53175114e-04\n",
      "   1.22474343e-01  0.00000000e+00]\n",
      " [ 2.49999840e+01 -3.46526984e-02  0.00000000e+00  1.13175203e-04\n",
      "   1.22474409e-01  0.00000000e+00]\n",
      " [ 2.49999933e+01 -2.24052551e-02  0.00000000e+00  7.31752469e-05\n",
      "   1.22474454e-01  0.00000000e+00]]\n",
      "[25.         24.999998   24.999992   ... 24.99997067 24.99998399\n",
      " 24.99999331]\n",
      "Eang [6.28225955e+00 6.28288147e+00 3.18085469e-04 ... 6.27987799e+00\n",
      " 6.28049991e+00 6.28112183e+00]\n",
      "[6.28225955e+00 6.28288147e+00 3.18085469e-04 ... 6.27987799e+00\n",
      " 6.28049991e+00 6.28112183e+00] <Parameter 'ecc', value=0.10398098622881569, bounds=[0:1.0]> <Parameter 'rad', value=51.03872037313261, bounds=[0:inf]> <Parameter 'mass', value=1.0 (fixed), bounds=[-inf:inf]> [4.58130159e+03 4.58180229e+03 2.56085557e-01 ... 4.57938423e+03\n",
      " 4.57988493e+03 4.58038562e+03]\n",
      "[5.307025166715614, 0.01823086570963455]\n",
      "[[ 2.50000000e+01  0.00000000e+00  0.00000000e+00 -0.00000000e+00\n",
      "   1.22474487e-01  0.00000000e+00]\n",
      " [ 2.49999980e+01  1.22474484e-02  0.00000000e+00 -3.99999973e-05\n",
      "   1.22474477e-01  0.00000000e+00]\n",
      " [ 2.49999920e+01  2.44948948e-02  0.00000000e+00 -7.99999787e-05\n",
      "   1.22474448e-01  0.00000000e+00]\n",
      " ...\n",
      " [ 2.49999707e+01 -4.69001362e-02  0.00000000e+00  1.53175114e-04\n",
      "   1.22474343e-01  0.00000000e+00]\n",
      " [ 2.49999840e+01 -3.46526984e-02  0.00000000e+00  1.13175203e-04\n",
      "   1.22474409e-01  0.00000000e+00]\n",
      " [ 2.49999933e+01 -2.24052551e-02  0.00000000e+00  7.31752469e-05\n",
      "   1.22474454e-01  0.00000000e+00]]\n",
      "[25.         24.999998   24.999992   ... 24.99997067 24.99998399\n",
      " 24.99999331]\n",
      "Eang [6.28225955e+00 6.28288147e+00 3.18084570e-04 ... 6.27987799e+00\n",
      " 6.28049991e+00 6.28112183e+00]\n",
      "[6.28225955e+00 6.28288147e+00 3.18084570e-04 ... 6.27987799e+00\n",
      " 6.28049991e+00 6.28112183e+00] <Parameter 'ecc', value=0.10398098622881569, bounds=[0:1.0]> <Parameter 'rad', value=51.03872037313261, bounds=[0:inf]> <Parameter 'mass', value=1.0 (fixed), bounds=[-inf:inf]> [4.58130159e+03 4.58180229e+03 2.56084833e-01 ... 4.57938423e+03\n",
      " 4.57988493e+03 4.58038562e+03]\n",
      "[5.3070252473769095, 0.018230848284922597]\n",
      "[[ 2.50000000e+01  0.00000000e+00  0.00000000e+00 -0.00000000e+00\n",
      "   1.22474487e-01  0.00000000e+00]\n",
      " [ 2.49999980e+01  1.22474484e-02  0.00000000e+00 -3.99999973e-05\n",
      "   1.22474477e-01  0.00000000e+00]\n",
      " [ 2.49999920e+01  2.44948948e-02  0.00000000e+00 -7.99999787e-05\n",
      "   1.22474448e-01  0.00000000e+00]\n",
      " ...\n",
      " [ 2.49999707e+01 -4.69001362e-02  0.00000000e+00  1.53175114e-04\n",
      "   1.22474343e-01  0.00000000e+00]\n",
      " [ 2.49999840e+01 -3.46526984e-02  0.00000000e+00  1.13175203e-04\n",
      "   1.22474409e-01  0.00000000e+00]\n",
      " [ 2.49999933e+01 -2.24052551e-02  0.00000000e+00  7.31752469e-05\n",
      "   1.22474454e-01  0.00000000e+00]]\n",
      "[25.         24.999998   24.999992   ... 24.99997067 24.99998399\n",
      " 24.99999331]\n",
      "Eang [6.28225955e+00 6.28288147e+00 3.18085456e-04 ... 6.27987799e+00\n",
      " 6.28049991e+00 6.28112183e+00]\n",
      "[6.28225955e+00 6.28288147e+00 3.18085456e-04 ... 6.27987799e+00\n",
      " 6.28049991e+00 6.28112183e+00] <Parameter 'ecc', value=0.10398098622881569, bounds=[0:1.0]> <Parameter 'rad', value=51.03872114828362, bounds=[0:inf]> <Parameter 'mass', value=1.0 (fixed), bounds=[-inf:inf]> [4.58130169e+03 4.58180239e+03 2.56085552e-01 ... 4.57938434e+03\n",
      " 4.57988503e+03 4.58038573e+03]\n",
      "[5.307025378986372, 0.01823084873703127]\n",
      "[[ 2.50000000e+01  0.00000000e+00  0.00000000e+00 -0.00000000e+00\n",
      "   1.22474487e-01  0.00000000e+00]\n",
      " [ 2.49999980e+01  1.22474484e-02  0.00000000e+00 -3.99999973e-05\n",
      "   1.22474477e-01  0.00000000e+00]\n",
      " [ 2.49999920e+01  2.44948948e-02  0.00000000e+00 -7.99999787e-05\n",
      "   1.22474448e-01  0.00000000e+00]\n",
      " ...\n",
      " [ 2.49999707e+01 -4.69001362e-02  0.00000000e+00  1.53175114e-04\n",
      "   1.22474343e-01  0.00000000e+00]\n",
      " [ 2.49999840e+01 -3.46526984e-02  0.00000000e+00  1.13175203e-04\n",
      "   1.22474409e-01  0.00000000e+00]\n",
      " [ 2.49999933e+01 -2.24052551e-02  0.00000000e+00  7.31752469e-05\n",
      "   1.22474454e-01  0.00000000e+00]]\n",
      "[25.         24.999998   24.999992   ... 24.99997067 24.99998399\n",
      " 24.99999331]\n",
      "Eang [6.28225955e+00 6.28288147e+00 3.18085436e-04 ... 6.27987799e+00\n",
      " 6.28049991e+00 6.28112183e+00]\n",
      "[6.28225955e+00 6.28288147e+00 3.18085436e-04 ... 6.27987799e+00\n",
      " 6.28049991e+00 6.28112183e+00] <Parameter 'ecc', value=0.10398099038666297, bounds=[0:1.0]> <Parameter 'rad', value=51.03872037313261, bounds=[0:inf]> <Parameter 'mass', value=1.0 (fixed), bounds=[-inf:inf]> [4.58130159e+03 4.58180229e+03 2.56085531e-01 ... 4.57938423e+03\n",
      " 4.57988493e+03 4.58038562e+03]\n",
      "[1.3078949703377925, 0.004116494397895687]\n",
      "[[ 2.50000000e+01  0.00000000e+00  0.00000000e+00 -0.00000000e+00\n",
      "   1.22474487e-01  0.00000000e+00]\n",
      " [ 2.49999980e+01  1.22474484e-02  0.00000000e+00 -3.99999973e-05\n",
      "   1.22474477e-01  0.00000000e+00]\n",
      " [ 2.49999920e+01  2.44948948e-02  0.00000000e+00 -7.99999787e-05\n",
      "   1.22474448e-01  0.00000000e+00]\n",
      " ...\n",
      " [ 2.49999707e+01 -4.69001362e-02  0.00000000e+00  1.53175114e-04\n",
      "   1.22474343e-01  0.00000000e+00]\n",
      " [ 2.49999840e+01 -3.46526984e-02  0.00000000e+00  1.13175203e-04\n",
      "   1.22474409e-01  0.00000000e+00]\n",
      " [ 2.49999933e+01 -2.24052551e-02  0.00000000e+00  7.31752469e-05\n",
      "   1.22474454e-01  0.00000000e+00]]\n",
      "[25.         24.999998   24.999992   ... 24.99997067 24.99998399\n",
      " 24.99999331]\n",
      "Eang [6.28301156e+00 3.43192568e-04 8.60134726e-04 ... 6.28103199e+00\n",
      " 6.28154893e+00 6.28206587e+00]\n",
      "[6.28301156e+00 3.43192568e-04 8.60134726e-04 ... 6.28103199e+00\n",
      " 6.28154893e+00 6.28206587e+00] <Parameter 'ecc', value=0.025756763190695975, bounds=[0:1.0]> <Parameter 'rad', value=50.778952262215476, bounds=[0:inf]> <Parameter 'mass', value=1.0 (fixed), bounds=[-inf:inf]> [4.54698109e+03 2.54763884e-01 6.38508185e-01 ... 4.54551159e+03\n",
      " 4.54589534e+03 4.54627908e+03]\n",
      "[1.3078949703246319, 0.004116498579220132]\n",
      "[[ 2.50000000e+01  0.00000000e+00  0.00000000e+00 -0.00000000e+00\n",
      "   1.22474487e-01  0.00000000e+00]\n",
      " [ 2.49999980e+01  1.22474484e-02  0.00000000e+00 -3.99999973e-05\n",
      "   1.22474477e-01  0.00000000e+00]\n",
      " [ 2.49999920e+01  2.44948948e-02  0.00000000e+00 -7.99999787e-05\n",
      "   1.22474448e-01  0.00000000e+00]\n",
      " ...\n",
      " [ 2.49999707e+01 -4.69001362e-02  0.00000000e+00  1.53175114e-04\n",
      "   1.22474343e-01  0.00000000e+00]\n",
      " [ 2.49999840e+01 -3.46526984e-02  0.00000000e+00  1.13175203e-04\n",
      "   1.22474409e-01  0.00000000e+00]\n",
      " [ 2.49999933e+01 -2.24052551e-02  0.00000000e+00  7.31752469e-05\n",
      "   1.22474454e-01  0.00000000e+00]]\n",
      "[25.         24.999998   24.999992   ... 24.99997067 24.99998399\n",
      " 24.99999331]\n"
     ]
    },
    {
     "name": "stdout",
     "output_type": "stream",
     "text": [
      "Eang [6.28301156e+00 3.43192391e-04 8.60134550e-04 ... 6.28103199e+00\n",
      " 6.28154893e+00 6.28206587e+00]\n",
      "[6.28301156e+00 3.43192391e-04 8.60134550e-04 ... 6.28103199e+00\n",
      " 6.28154893e+00 6.28206587e+00] <Parameter 'ecc', value=0.025756763190695975, bounds=[0:1.0]> <Parameter 'rad', value=50.778952262215476, bounds=[0:inf]> <Parameter 'mass', value=1.0 (fixed), bounds=[-inf:inf]> [4.54698109e+03 2.54763753e-01 6.38508054e-01 ... 4.54551159e+03\n",
      " 4.54589534e+03 4.54627908e+03]\n",
      "[1.3078949902033392, 0.0041164944604209]\n",
      "[[ 2.50000000e+01  0.00000000e+00  0.00000000e+00 -0.00000000e+00\n",
      "   1.22474487e-01  0.00000000e+00]\n",
      " [ 2.49999980e+01  1.22474484e-02  0.00000000e+00 -3.99999973e-05\n",
      "   1.22474477e-01  0.00000000e+00]\n",
      " [ 2.49999920e+01  2.44948948e-02  0.00000000e+00 -7.99999787e-05\n",
      "   1.22474448e-01  0.00000000e+00]\n",
      " ...\n",
      " [ 2.49999707e+01 -4.69001362e-02  0.00000000e+00  1.53175114e-04\n",
      "   1.22474343e-01  0.00000000e+00]\n",
      " [ 2.49999840e+01 -3.46526984e-02  0.00000000e+00  1.13175203e-04\n",
      "   1.22474409e-01  0.00000000e+00]\n",
      " [ 2.49999933e+01 -2.24052551e-02  0.00000000e+00  7.31752469e-05\n",
      "   1.22474454e-01  0.00000000e+00]]\n",
      "[25.         24.999998   24.999992   ... 24.99997067 24.99998399\n",
      " 24.99999331]\n",
      "Eang [6.28301156e+00 3.43192565e-04 8.60134724e-04 ... 6.28103199e+00\n",
      " 6.28154893e+00 6.28206587e+00]\n",
      "[6.28301156e+00 3.43192565e-04 8.60134724e-04 ... 6.28103199e+00\n",
      " 6.28154893e+00 6.28206587e+00] <Parameter 'ecc', value=0.025756763190695975, bounds=[0:1.0]> <Parameter 'rad', value=50.778953033494204, bounds=[0:inf]> <Parameter 'mass', value=1.0 (fixed), bounds=[-inf:inf]> [4.54698120e+03 2.54763888e-01 6.38508198e-01 ... 4.54551170e+03\n",
      " 4.54589544e+03 4.54627918e+03]\n",
      "[1.3078947434190646, 0.0041164936836872125]\n",
      "[[ 2.50000000e+01  0.00000000e+00  0.00000000e+00 -0.00000000e+00\n",
      "   1.22474487e-01  0.00000000e+00]\n",
      " [ 2.49999980e+01  1.22474484e-02  0.00000000e+00 -3.99999973e-05\n",
      "   1.22474477e-01  0.00000000e+00]\n",
      " [ 2.49999920e+01  2.44948948e-02  0.00000000e+00 -7.99999787e-05\n",
      "   1.22474448e-01  0.00000000e+00]\n",
      " ...\n",
      " [ 2.49999707e+01 -4.69001362e-02  0.00000000e+00  1.53175114e-04\n",
      "   1.22474343e-01  0.00000000e+00]\n",
      " [ 2.49999840e+01 -3.46526984e-02  0.00000000e+00  1.13175203e-04\n",
      "   1.22474409e-01  0.00000000e+00]\n",
      " [ 2.49999933e+01 -2.24052551e-02  0.00000000e+00  7.31752469e-05\n",
      "   1.22474454e-01  0.00000000e+00]]\n",
      "[25.         24.999998   24.999992   ... 24.99997067 24.99998399\n",
      " 24.99999331]\n",
      "Eang [6.28301156e+00 3.43192594e-04 8.60134748e-04 ... 6.28103199e+00\n",
      " 6.28154893e+00 6.28206587e+00]\n",
      "[6.28301156e+00 3.43192594e-04 8.60134748e-04 ... 6.28103199e+00\n",
      " 6.28154893e+00 6.28206587e+00] <Parameter 'ecc', value=0.025756758721918183, bounds=[0:1.0]> <Parameter 'rad', value=50.778952262215476, bounds=[0:inf]> <Parameter 'mass', value=1.0 (fixed), bounds=[-inf:inf]> [4.54698109e+03 2.54763903e-01 6.38508198e-01 ... 4.54551159e+03\n",
      " 4.54589534e+03 4.54627908e+03]\n",
      "[5.325254446912238, 0.015687326397696457]\n",
      "[[ 2.50000000e+01  0.00000000e+00  0.00000000e+00 -0.00000000e+00\n",
      "   1.22474487e-01  0.00000000e+00]\n",
      " [ 2.49999980e+01  1.22474484e-02  0.00000000e+00 -3.99999973e-05\n",
      "   1.22474477e-01  0.00000000e+00]\n",
      " [ 2.49999920e+01  2.44948948e-02  0.00000000e+00 -7.99999787e-05\n",
      "   1.22474448e-01  0.00000000e+00]\n",
      " ...\n",
      " [ 2.49999707e+01 -4.69001362e-02  0.00000000e+00  1.53175114e-04\n",
      "   1.22474343e-01  0.00000000e+00]\n",
      " [ 2.49999840e+01 -3.46526984e-02  0.00000000e+00  1.13175203e-04\n",
      "   1.22474409e-01  0.00000000e+00]\n",
      " [ 2.49999933e+01 -2.24052551e-02  0.00000000e+00  7.31752469e-05\n",
      "   1.22474454e-01  0.00000000e+00]]\n",
      "[25.         24.999998   24.999992   ... 24.99997067 24.99998399\n",
      " 24.99999331]\n",
      "Eang [6.28238797e+00 6.28301047e+00 4.47658720e-04 ... 6.28000421e+00\n",
      " 6.28062670e+00 6.28124919e+00]\n",
      "[6.28238797e+00 6.28301047e+00 4.47658720e-04 ... 6.28000421e+00\n",
      " 6.28062670e+00 6.28124919e+00] <Parameter 'ecc', value=0.10385944755713133, bounds=[0:1.0]> <Parameter 'rad', value=51.27388676006958, bounds=[0:inf]> <Parameter 'mass', value=1.0 (fixed), bounds=[-inf:inf]> [4.61310547e+03 4.61361004e+03 3.62856729e-01 ... 4.61117327e+03\n",
      " 4.61167784e+03 4.61218241e+03]\n",
      "[0.00039558973311600606, 1.217006834469902e-06]\n",
      "[[ 2.50000000e+01  0.00000000e+00  0.00000000e+00 -0.00000000e+00\n",
      "   1.22474487e-01  0.00000000e+00]\n",
      " [ 2.49999980e+01  1.22474484e-02  0.00000000e+00 -3.99999973e-05\n",
      "   1.22474477e-01  0.00000000e+00]\n",
      " [ 2.49999920e+01  2.44948948e-02  0.00000000e+00 -7.99999787e-05\n",
      "   1.22474448e-01  0.00000000e+00]\n",
      " ...\n",
      " [ 2.49999707e+01 -4.69001362e-02  0.00000000e+00  1.53175114e-04\n",
      "   1.22474343e-01  0.00000000e+00]\n",
      " [ 2.49999840e+01 -3.46526984e-02  0.00000000e+00  1.13175203e-04\n",
      "   1.22474409e-01  0.00000000e+00]\n",
      " [ 2.49999933e+01 -2.24052551e-02  0.00000000e+00  7.31752469e-05\n",
      "   1.22474454e-01  0.00000000e+00]]\n",
      "[25.         24.999998   24.999992   ... 24.99997067 24.99998399\n",
      " 24.99999331]\n",
      "Eang [6.28318526e+00 4.89857007e-04 9.79762616e-04 ... 6.28130922e+00\n",
      " 6.28179913e+00 6.28228903e+00]\n",
      "[6.28318526e+00 4.89857007e-04 9.79762616e-04 ... 6.28130922e+00\n",
      " 6.28179913e+00 6.28228903e+00] <Parameter 'ecc', value=7.651248188411675e-06, bounds=[0:1.0]> <Parameter 'rad', value=51.7028849931079, bounds=[0:inf]> <Parameter 'mass', value=1.0 (fixed), bounds=[-inf:inf]> [4.67177616e+03 3.64229241e-01 7.28494620e-01 ... 4.67038125e+03\n",
      " 4.67074552e+03 4.67110978e+03]\n",
      "[0.00039558973311215807, 1.2170080852461623e-06]\n",
      "[[ 2.50000000e+01  0.00000000e+00  0.00000000e+00 -0.00000000e+00\n",
      "   1.22474487e-01  0.00000000e+00]\n",
      " [ 2.49999980e+01  1.22474484e-02  0.00000000e+00 -3.99999973e-05\n",
      "   1.22474477e-01  0.00000000e+00]\n",
      " [ 2.49999920e+01  2.44948948e-02  0.00000000e+00 -7.99999787e-05\n",
      "   1.22474448e-01  0.00000000e+00]\n",
      " ...\n",
      " [ 2.49999707e+01 -4.69001362e-02  0.00000000e+00  1.53175114e-04\n",
      "   1.22474343e-01  0.00000000e+00]\n",
      " [ 2.49999840e+01 -3.46526984e-02  0.00000000e+00  1.13175203e-04\n",
      "   1.22474409e-01  0.00000000e+00]\n",
      " [ 2.49999933e+01 -2.24052551e-02  0.00000000e+00  7.31752469e-05\n",
      "   1.22474454e-01  0.00000000e+00]]\n",
      "[25.         24.999998   24.999992   ... 24.99997067 24.99998399\n",
      " 24.99999331]\n",
      "Eang [6.28318526e+00 4.89857006e-04 9.79762616e-04 ... 6.28130922e+00\n",
      " 6.28179913e+00 6.28228903e+00]\n",
      "[6.28318526e+00 4.89857006e-04 9.79762616e-04 ... 6.28130922e+00\n",
      " 6.28179913e+00 6.28228903e+00] <Parameter 'ecc', value=7.651248188411675e-06, bounds=[0:1.0]> <Parameter 'rad', value=51.7028849931079, bounds=[0:inf]> <Parameter 'mass', value=1.0 (fixed), bounds=[-inf:inf]> [4.67177616e+03 3.64229241e-01 7.28494620e-01 ... 4.67038125e+03\n",
      " 4.67074552e+03 4.67110978e+03]\n",
      "[0.00039558973912716915, 1.2170068529628658e-06]\n",
      "[[ 2.50000000e+01  0.00000000e+00  0.00000000e+00 -0.00000000e+00\n",
      "   1.22474487e-01  0.00000000e+00]\n",
      " [ 2.49999980e+01  1.22474484e-02  0.00000000e+00 -3.99999973e-05\n",
      "   1.22474477e-01  0.00000000e+00]\n",
      " [ 2.49999920e+01  2.44948948e-02  0.00000000e+00 -7.99999787e-05\n",
      "   1.22474448e-01  0.00000000e+00]\n",
      " ...\n",
      " [ 2.49999707e+01 -4.69001362e-02  0.00000000e+00  1.53175114e-04\n",
      "   1.22474343e-01  0.00000000e+00]\n",
      " [ 2.49999840e+01 -3.46526984e-02  0.00000000e+00  1.13175203e-04\n",
      "   1.22474409e-01  0.00000000e+00]\n",
      " [ 2.49999933e+01 -2.24052551e-02  0.00000000e+00  7.31752469e-05\n",
      "   1.22474454e-01  0.00000000e+00]]\n",
      "[25.         24.999998   24.999992   ... 24.99997067 24.99998399\n",
      " 24.99999331]\n",
      "Eang [6.28318526e+00 4.89857007e-04 9.79762616e-04 ... 6.28130922e+00\n",
      " 6.28179913e+00 6.28228903e+00]\n",
      "[6.28318526e+00 4.89857007e-04 9.79762616e-04 ... 6.28130922e+00\n",
      " 6.28179913e+00 6.28228903e+00] <Parameter 'ecc', value=7.651248188411675e-06, bounds=[0:1.0]> <Parameter 'rad', value=51.70288577815935, bounds=[0:inf]> <Parameter 'mass', value=1.0 (fixed), bounds=[-inf:inf]> [4.67177627e+03 3.64229249e-01 7.28494636e-01 ... 4.67038136e+03\n",
      " 4.67074562e+03 4.67110989e+03]\n",
      "[0.0003955930688070427, 1.2170170965127445e-06]\n",
      "[[ 2.50000000e+01  0.00000000e+00  0.00000000e+00 -0.00000000e+00\n",
      "   1.22474487e-01  0.00000000e+00]\n",
      " [ 2.49999980e+01  1.22474484e-02  0.00000000e+00 -3.99999973e-05\n",
      "   1.22474477e-01  0.00000000e+00]\n",
      " [ 2.49999920e+01  2.44948948e-02  0.00000000e+00 -7.99999787e-05\n",
      "   1.22474448e-01  0.00000000e+00]\n",
      " ...\n",
      " [ 2.49999707e+01 -4.69001362e-02  0.00000000e+00  1.53175114e-04\n",
      "   1.22474343e-01  0.00000000e+00]\n",
      " [ 2.49999840e+01 -3.46526984e-02  0.00000000e+00  1.13175203e-04\n",
      "   1.22474409e-01  0.00000000e+00]\n",
      " [ 2.49999933e+01 -2.24052551e-02  0.00000000e+00  7.31752469e-05\n",
      "   1.22474454e-01  0.00000000e+00]]\n",
      "[25.         24.999998   24.999992   ... 24.99997067 24.99998399\n",
      " 24.99999331]\n",
      "Eang [6.28318526e+00 4.89857006e-04 9.79762615e-04 ... 6.28130922e+00\n",
      " 6.28179913e+00 6.28228903e+00]\n",
      "[6.28318526e+00 4.89857006e-04 9.79762615e-04 ... 6.28130922e+00\n",
      " 6.28179913e+00 6.28228903e+00] <Parameter 'ecc', value=7.651312705247992e-06, bounds=[0:1.0]> <Parameter 'rad', value=51.7028849931079, bounds=[0:inf]> <Parameter 'mass', value=1.0 (fixed), bounds=[-inf:inf]> [4.67177616e+03 3.64229241e-01 7.28494619e-01 ... 4.67038125e+03\n",
      " 4.67074552e+03 4.67110978e+03]\n",
      "[1.346367648632932, 0.00414021622633802]\n",
      "[[ 2.50000000e+01  0.00000000e+00  0.00000000e+00 -0.00000000e+00\n",
      "   1.22474487e-01  0.00000000e+00]\n",
      " [ 2.49999980e+01  1.22474484e-02  0.00000000e+00 -3.99999973e-05\n",
      "   1.22474477e-01  0.00000000e+00]\n",
      " [ 2.49999920e+01  2.44948948e-02  0.00000000e+00 -7.99999787e-05\n",
      "   1.22474448e-01  0.00000000e+00]\n",
      " ...\n",
      " [ 2.49999707e+01 -4.69001362e-02  0.00000000e+00  1.53175114e-04\n",
      "   1.22474343e-01  0.00000000e+00]\n",
      " [ 2.49999840e+01 -3.46526984e-02  0.00000000e+00  1.13175203e-04\n",
      "   1.22474409e-01  0.00000000e+00]\n",
      " [ 2.49999933e+01 -2.24052551e-02  0.00000000e+00  7.31752469e-05\n",
      "   1.22474454e-01  0.00000000e+00]]\n",
      "[25.         24.999998   24.999992   ... 24.99997067 24.99998399\n",
      " 24.99999331]\n",
      "Eang [6.28301027e+00 3.42747888e-04 8.60530854e-04 ... 6.28102748e+00\n",
      " 6.28154527e+00 6.28206305e+00]\n",
      "[6.28301027e+00 3.42747888e-04 8.60530854e-04 ... 6.28102748e+00\n",
      " 6.28154527e+00 6.28206305e+00] <Parameter 'ecc', value=0.025940828244356284, bounds=[0:1.0]> <Parameter 'rad', value=51.9017358168548, bounds=[0:inf]> <Parameter 'mass', value=1.0 (fixed), bounds=[-inf:inf]> [4.69861949e+03 2.62966194e-01 6.60224412e-01 ... 4.69709824e+03\n",
      " 4.69749549e+03 4.69789275e+03]\n",
      "[0.009765153695988963, 3.004057166441688e-05]\n",
      "[[ 2.50000000e+01  0.00000000e+00  0.00000000e+00 -0.00000000e+00\n",
      "   1.22474487e-01  0.00000000e+00]\n",
      " [ 2.49999980e+01  1.22474484e-02  0.00000000e+00 -3.99999973e-05\n",
      "   1.22474477e-01  0.00000000e+00]\n",
      " [ 2.49999920e+01  2.44948948e-02  0.00000000e+00 -7.99999787e-05\n",
      "   1.22474448e-01  0.00000000e+00]\n",
      " ...\n",
      " [ 2.49999707e+01 -4.69001362e-02  0.00000000e+00  1.53175114e-04\n",
      "   1.22474343e-01  0.00000000e+00]\n",
      " [ 2.49999840e+01 -3.46526984e-02  0.00000000e+00  1.13175203e-04\n",
      "   1.22474409e-01  0.00000000e+00]\n",
      " [ 2.49999933e+01 -2.24052551e-02  0.00000000e+00  7.31752469e-05\n",
      "   1.22474454e-01  0.00000000e+00]]\n",
      "[25.         24.999998   24.999992   ... 24.99997067 24.99998399\n",
      " 24.99999331]\n",
      "Eang [6.28318411e+00 4.88887275e-04 9.78976565e-04 ... 6.28130737e+00\n",
      " 6.28179746e+00 6.28228754e+00]\n",
      "[6.28318411e+00 4.88887275e-04 9.78976565e-04 ... 6.28130737e+00\n",
      " 6.28179746e+00 6.28228754e+00] <Parameter 'ecc', value=0.00018813631364472672, bounds=[0:1.0]> <Parameter 'rad', value=51.90491784204174, bounds=[0:inf]> <Parameter 'mass', value=1.0 (fixed), bounds=[-inf:inf]> [4.69918500e+03 3.65706930e-01 7.32313014e-01 ... 4.69778113e+03\n",
      " 4.69814773e+03 4.69851434e+03]\n",
      "[0.009765153695893982, 3.0040602539245153e-05]\n",
      "[[ 2.50000000e+01  0.00000000e+00  0.00000000e+00 -0.00000000e+00\n",
      "   1.22474487e-01  0.00000000e+00]\n",
      " [ 2.49999980e+01  1.22474484e-02  0.00000000e+00 -3.99999973e-05\n",
      "   1.22474477e-01  0.00000000e+00]\n",
      " [ 2.49999920e+01  2.44948948e-02  0.00000000e+00 -7.99999787e-05\n",
      "   1.22474448e-01  0.00000000e+00]\n",
      " ...\n",
      " [ 2.49999707e+01 -4.69001362e-02  0.00000000e+00  1.53175114e-04\n",
      "   1.22474343e-01  0.00000000e+00]\n",
      " [ 2.49999840e+01 -3.46526984e-02  0.00000000e+00  1.13175203e-04\n",
      "   1.22474409e-01  0.00000000e+00]\n",
      " [ 2.49999933e+01 -2.24052551e-02  0.00000000e+00  7.31752469e-05\n",
      "   1.22474454e-01  0.00000000e+00]]\n",
      "[25.         24.999998   24.999992   ... 24.99997067 24.99998399\n",
      " 24.99999331]\n",
      "Eang [6.28318411e+00 4.88887274e-04 9.78976563e-04 ... 6.28130737e+00\n",
      " 6.28179746e+00 6.28228754e+00]\n",
      "[6.28318411e+00 4.88887274e-04 9.78976563e-04 ... 6.28130737e+00\n",
      " 6.28179746e+00 6.28228754e+00] <Parameter 'ecc', value=0.00018813631364472672, bounds=[0:1.0]> <Parameter 'rad', value=51.90491784204174, bounds=[0:inf]> <Parameter 'mass', value=1.0 (fixed), bounds=[-inf:inf]> [4.69918500e+03 3.65706929e-01 7.32313013e-01 ... 4.69778113e+03\n",
      " 4.69814773e+03 4.69851434e+03]\n",
      "[0.009765153844250108, 3.0040572120513088e-05]\n",
      "[[ 2.50000000e+01  0.00000000e+00  0.00000000e+00 -0.00000000e+00\n",
      "   1.22474487e-01  0.00000000e+00]\n",
      " [ 2.49999980e+01  1.22474484e-02  0.00000000e+00 -3.99999973e-05\n",
      "   1.22474477e-01  0.00000000e+00]\n",
      " [ 2.49999920e+01  2.44948948e-02  0.00000000e+00 -7.99999787e-05\n",
      "   1.22474448e-01  0.00000000e+00]\n",
      " ...\n",
      " [ 2.49999707e+01 -4.69001362e-02  0.00000000e+00  1.53175114e-04\n",
      "   1.22474343e-01  0.00000000e+00]\n",
      " [ 2.49999840e+01 -3.46526984e-02  0.00000000e+00  1.13175203e-04\n",
      "   1.22474409e-01  0.00000000e+00]\n",
      " [ 2.49999933e+01 -2.24052551e-02  0.00000000e+00  7.31752469e-05\n",
      "   1.22474454e-01  0.00000000e+00]]\n",
      "[25.         24.999998   24.999992   ... 24.99997067 24.99998399\n",
      " 24.99999331]\n",
      "Eang [6.28318411e+00 4.88887275e-04 9.78976565e-04 ... 6.28130737e+00\n",
      " 6.28179746e+00 6.28228754e+00]\n",
      "[6.28318411e+00 4.88887275e-04 9.78976565e-04 ... 6.28130737e+00\n",
      " 6.28179746e+00 6.28228754e+00] <Parameter 'ecc', value=0.00018813631364472672, bounds=[0:1.0]> <Parameter 'rad', value=51.90491863010479, bounds=[0:inf]> <Parameter 'mass', value=1.0 (fixed), bounds=[-inf:inf]> [4.69918511e+03 3.65706938e-01 7.32313030e-01 ... 4.69778123e+03\n",
      " 4.69814784e+03 4.69851444e+03]\n",
      "[0.00976513674243069, 3.0040519510134612e-05]\n",
      "[[ 2.50000000e+01  0.00000000e+00  0.00000000e+00 -0.00000000e+00\n",
      "   1.22474487e-01  0.00000000e+00]\n",
      " [ 2.49999980e+01  1.22474484e-02  0.00000000e+00 -3.99999973e-05\n",
      "   1.22474477e-01  0.00000000e+00]\n",
      " [ 2.49999920e+01  2.44948948e-02  0.00000000e+00 -7.99999787e-05\n",
      "   1.22474448e-01  0.00000000e+00]\n",
      " ...\n",
      " [ 2.49999707e+01 -4.69001362e-02  0.00000000e+00  1.53175114e-04\n",
      "   1.22474343e-01  0.00000000e+00]\n",
      " [ 2.49999840e+01 -3.46526984e-02  0.00000000e+00  1.13175203e-04\n",
      "   1.22474409e-01  0.00000000e+00]\n",
      " [ 2.49999933e+01 -2.24052551e-02  0.00000000e+00  7.31752469e-05\n",
      "   1.22474454e-01  0.00000000e+00]]\n",
      "[25.         24.999998   24.999992   ... 24.99997067 24.99998399\n",
      " 24.99999331]\n"
     ]
    },
    {
     "name": "stdout",
     "output_type": "stream",
     "text": [
      "Eang [6.28318411e+00 4.88887277e-04 9.78976566e-04 ... 6.28130737e+00\n",
      " 6.28179746e+00 6.28228754e+00]\n",
      "[6.28318411e+00 4.88887277e-04 9.78976566e-04 ... 6.28130737e+00\n",
      " 6.28179746e+00 6.28228754e+00] <Parameter 'ecc', value=0.00018813598701583611, bounds=[0:1.0]> <Parameter 'rad', value=51.90491784204174, bounds=[0:inf]> <Parameter 'mass', value=1.0 (fixed), bounds=[-inf:inf]> [4.69918500e+03 3.65706931e-01 7.32313015e-01 ... 4.69778113e+03\n",
      " 4.69814773e+03 4.69851434e+03]\n",
      "[0.0015750468313856648, 4.844795830276537e-06]\n",
      "[[ 2.50000000e+01  0.00000000e+00  0.00000000e+00 -0.00000000e+00\n",
      "   1.22474487e-01  0.00000000e+00]\n",
      " [ 2.49999980e+01  1.22474484e-02  0.00000000e+00 -3.99999973e-05\n",
      "   1.22474477e-01  0.00000000e+00]\n",
      " [ 2.49999920e+01  2.44948948e-02  0.00000000e+00 -7.99999787e-05\n",
      "   1.22474448e-01  0.00000000e+00]\n",
      " ...\n",
      " [ 2.49999707e+01 -4.69001362e-02  0.00000000e+00  1.53175114e-04\n",
      "   1.22474343e-01  0.00000000e+00]\n",
      " [ 2.49999840e+01 -3.46526984e-02  0.00000000e+00  1.13175203e-04\n",
      "   1.22474409e-01  0.00000000e+00]\n",
      " [ 2.49999933e+01 -2.24052551e-02  0.00000000e+00  7.31752469e-05\n",
      "   1.22474454e-01  0.00000000e+00]]\n",
      "[25.         24.999998   24.999992   ... 24.99997067 24.99998399\n",
      " 24.99999331]\n",
      "Eang [6.28318511e+00 4.89734998e-04 9.79663722e-04 ... 6.28130899e+00\n",
      " 6.28179892e+00 6.28228885e+00]\n",
      "[6.28318511e+00 4.89734998e-04 9.79663722e-04 ... 6.28130899e+00\n",
      " 6.28179892e+00 6.28228885e+00] <Parameter 'ecc', value=3.034501337273454e-05, bounds=[0:1.0]> <Parameter 'rad', value=51.90488016091862, bounds=[0:inf]> <Parameter 'mass', value=1.0 (fixed), bounds=[-inf:inf]> [4.69918064e+03 3.66282866e-01 7.32710624e-01 ... 4.69777745e+03\n",
      " 4.69814387e+03 4.69851030e+03]\n",
      "[0.0015750468313703479, 4.844800809895196e-06]\n",
      "[[ 2.50000000e+01  0.00000000e+00  0.00000000e+00 -0.00000000e+00\n",
      "   1.22474487e-01  0.00000000e+00]\n",
      " [ 2.49999980e+01  1.22474484e-02  0.00000000e+00 -3.99999973e-05\n",
      "   1.22474477e-01  0.00000000e+00]\n",
      " [ 2.49999920e+01  2.44948948e-02  0.00000000e+00 -7.99999787e-05\n",
      "   1.22474448e-01  0.00000000e+00]\n",
      " ...\n",
      " [ 2.49999707e+01 -4.69001362e-02  0.00000000e+00  1.53175114e-04\n",
      "   1.22474343e-01  0.00000000e+00]\n",
      " [ 2.49999840e+01 -3.46526984e-02  0.00000000e+00  1.13175203e-04\n",
      "   1.22474409e-01  0.00000000e+00]\n",
      " [ 2.49999933e+01 -2.24052551e-02  0.00000000e+00  7.31752469e-05\n",
      "   1.22474454e-01  0.00000000e+00]]\n",
      "[25.         24.999998   24.999992   ... 24.99997067 24.99998399\n",
      " 24.99999331]\n",
      "Eang [6.28318511e+00 4.89734998e-04 9.79663721e-04 ... 6.28130899e+00\n",
      " 6.28179892e+00 6.28228885e+00]\n",
      "[6.28318511e+00 4.89734998e-04 9.79663721e-04 ... 6.28130899e+00\n",
      " 6.28179892e+00 6.28228885e+00] <Parameter 'ecc', value=3.034501337273454e-05, bounds=[0:1.0]> <Parameter 'rad', value=51.90488016091862, bounds=[0:inf]> <Parameter 'mass', value=1.0 (fixed), bounds=[-inf:inf]> [4.69918064e+03 3.66282866e-01 7.32710624e-01 ... 4.69777745e+03\n",
      " 4.69814387e+03 4.69851030e+03]\n",
      "[0.0015750468553024203, 4.844795903843745e-06]\n",
      "[[ 2.50000000e+01  0.00000000e+00  0.00000000e+00 -0.00000000e+00\n",
      "   1.22474487e-01  0.00000000e+00]\n",
      " [ 2.49999980e+01  1.22474484e-02  0.00000000e+00 -3.99999973e-05\n",
      "   1.22474477e-01  0.00000000e+00]\n",
      " [ 2.49999920e+01  2.44948948e-02  0.00000000e+00 -7.99999787e-05\n",
      "   1.22474448e-01  0.00000000e+00]\n",
      " ...\n",
      " [ 2.49999707e+01 -4.69001362e-02  0.00000000e+00  1.53175114e-04\n",
      "   1.22474343e-01  0.00000000e+00]\n",
      " [ 2.49999840e+01 -3.46526984e-02  0.00000000e+00  1.13175203e-04\n",
      "   1.22474409e-01  0.00000000e+00]\n",
      " [ 2.49999933e+01 -2.24052551e-02  0.00000000e+00  7.31752469e-05\n",
      "   1.22474454e-01  0.00000000e+00]]\n",
      "[25.         24.999998   24.999992   ... 24.99997067 24.99998399\n",
      " 24.99999331]\n",
      "Eang [6.28318511e+00 4.89734998e-04 9.79663722e-04 ... 6.28130899e+00\n",
      " 6.28179892e+00 6.28228885e+00]\n",
      "[6.28318511e+00 4.89734998e-04 9.79663722e-04 ... 6.28130899e+00\n",
      " 6.28179892e+00 6.28228885e+00] <Parameter 'ecc', value=3.034501337273454e-05, bounds=[0:1.0]> <Parameter 'rad', value=51.9048809489811, bounds=[0:inf]> <Parameter 'mass', value=1.0 (fixed), bounds=[-inf:inf]> [4.69918074e+03 3.66282875e-01 7.32710641e-01 ... 4.69777755e+03\n",
      " 4.69814398e+03 4.69851041e+03]\n",
      "[0.0015750400920404909, 4.84477510025712e-06]\n",
      "[[ 2.50000000e+01  0.00000000e+00  0.00000000e+00 -0.00000000e+00\n",
      "   1.22474487e-01  0.00000000e+00]\n",
      " [ 2.49999980e+01  1.22474484e-02  0.00000000e+00 -3.99999973e-05\n",
      "   1.22474477e-01  0.00000000e+00]\n",
      " [ 2.49999920e+01  2.44948948e-02  0.00000000e+00 -7.99999787e-05\n",
      "   1.22474448e-01  0.00000000e+00]\n",
      " ...\n",
      " [ 2.49999707e+01 -4.69001362e-02  0.00000000e+00  1.53175114e-04\n",
      "   1.22474343e-01  0.00000000e+00]\n",
      " [ 2.49999840e+01 -3.46526984e-02  0.00000000e+00  1.13175203e-04\n",
      "   1.22474409e-01  0.00000000e+00]\n",
      " [ 2.49999933e+01 -2.24052551e-02  0.00000000e+00  7.31752469e-05\n",
      "   1.22474454e-01  0.00000000e+00]]\n",
      "[25.         24.999998   24.999992   ... 24.99997067 24.99998399\n",
      " 24.99999331]\n",
      "Eang [6.28318511e+00 4.89734999e-04 9.79663722e-04 ... 6.28130899e+00\n",
      " 6.28179892e+00 6.28228885e+00]\n",
      "[6.28318511e+00 4.89734999e-04 9.79663722e-04 ... 6.28130899e+00\n",
      " 6.28179892e+00 6.28228885e+00] <Parameter 'ecc', value=3.0344883531707723e-05, bounds=[0:1.0]> <Parameter 'rad', value=51.90488016091862, bounds=[0:inf]> <Parameter 'mass', value=1.0 (fixed), bounds=[-inf:inf]> [4.69918064e+03 3.66282867e-01 7.32710625e-01 ... 4.69777745e+03\n",
      " 4.69814387e+03 4.69851030e+03]\n",
      "[0.0003685963223883839, 1.1337417573735555e-06]\n",
      "[[ 2.50000000e+01  0.00000000e+00  0.00000000e+00 -0.00000000e+00\n",
      "   1.22474487e-01  0.00000000e+00]\n",
      " [ 2.49999980e+01  1.22474484e-02  0.00000000e+00 -3.99999973e-05\n",
      "   1.22474477e-01  0.00000000e+00]\n",
      " [ 2.49999920e+01  2.44948948e-02  0.00000000e+00 -7.99999787e-05\n",
      "   1.22474448e-01  0.00000000e+00]\n",
      " ...\n",
      " [ 2.49999707e+01 -4.69001362e-02  0.00000000e+00  1.53175114e-04\n",
      "   1.22474343e-01  0.00000000e+00]\n",
      " [ 2.49999840e+01 -3.46526984e-02  0.00000000e+00  1.13175203e-04\n",
      "   1.22474409e-01  0.00000000e+00]\n",
      " [ 2.49999933e+01 -2.24052551e-02  0.00000000e+00  7.31752469e-05\n",
      "   1.22474454e-01  0.00000000e+00]]\n",
      "[25.         24.999998   24.999992   ... 24.99997067 24.99998399\n",
      " 24.99999331]\n",
      "Eang [6.28318526e+00 4.89859808e-04 9.79764888e-04 ... 6.28130923e+00\n",
      " 6.28179913e+00 6.28228904e+00]\n",
      "[6.28318526e+00 4.89859808e-04 9.79764888e-04 ... 6.28130923e+00\n",
      " 6.28179913e+00 6.28228904e+00] <Parameter 'ecc', value=7.101355891658834e-06, bounds=[0:1.0]> <Parameter 'rad', value=51.905308169950096, bounds=[0:inf]> <Parameter 'mass', value=1.0 (fixed), bounds=[-inf:inf]> [4.69923887e+03 3.66372231e-01 7.32778321e-01 ... 4.69783576e+03\n",
      " 4.69820217e+03 4.69856858e+03]\n",
      "[0.0003685963223847996, 1.133742922691443e-06]\n",
      "[[ 2.50000000e+01  0.00000000e+00  0.00000000e+00 -0.00000000e+00\n",
      "   1.22474487e-01  0.00000000e+00]\n",
      " [ 2.49999980e+01  1.22474484e-02  0.00000000e+00 -3.99999973e-05\n",
      "   1.22474477e-01  0.00000000e+00]\n",
      " [ 2.49999920e+01  2.44948948e-02  0.00000000e+00 -7.99999787e-05\n",
      "   1.22474448e-01  0.00000000e+00]\n",
      " ...\n",
      " [ 2.49999707e+01 -4.69001362e-02  0.00000000e+00  1.53175114e-04\n",
      "   1.22474343e-01  0.00000000e+00]\n",
      " [ 2.49999840e+01 -3.46526984e-02  0.00000000e+00  1.13175203e-04\n",
      "   1.22474409e-01  0.00000000e+00]\n",
      " [ 2.49999933e+01 -2.24052551e-02  0.00000000e+00  7.31752469e-05\n",
      "   1.22474454e-01  0.00000000e+00]]\n",
      "[25.         24.999998   24.999992   ... 24.99997067 24.99998399\n",
      " 24.99999331]\n",
      "Eang [6.28318526e+00 4.89859808e-04 9.79764888e-04 ... 6.28130923e+00\n",
      " 6.28179913e+00 6.28228904e+00]\n",
      "[6.28318526e+00 4.89859808e-04 9.79764888e-04 ... 6.28130923e+00\n",
      " 6.28179913e+00 6.28228904e+00] <Parameter 'ecc', value=7.101355891658834e-06, bounds=[0:1.0]> <Parameter 'rad', value=51.905308169950096, bounds=[0:inf]> <Parameter 'mass', value=1.0 (fixed), bounds=[-inf:inf]> [4.69923887e+03 3.66372231e-01 7.32778321e-01 ... 4.69783576e+03\n",
      " 4.69820217e+03 4.69856858e+03]\n",
      "[0.0003685963279803288, 1.1337417745734597e-06]\n",
      "[[ 2.50000000e+01  0.00000000e+00  0.00000000e+00 -0.00000000e+00\n",
      "   1.22474487e-01  0.00000000e+00]\n",
      " [ 2.49999980e+01  1.22474484e-02  0.00000000e+00 -3.99999973e-05\n",
      "   1.22474477e-01  0.00000000e+00]\n",
      " [ 2.49999920e+01  2.44948948e-02  0.00000000e+00 -7.99999787e-05\n",
      "   1.22474448e-01  0.00000000e+00]\n",
      " ...\n",
      " [ 2.49999707e+01 -4.69001362e-02  0.00000000e+00  1.53175114e-04\n",
      "   1.22474343e-01  0.00000000e+00]\n",
      " [ 2.49999840e+01 -3.46526984e-02  0.00000000e+00  1.13175203e-04\n",
      "   1.22474409e-01  0.00000000e+00]\n",
      " [ 2.49999933e+01 -2.24052551e-02  0.00000000e+00  7.31752469e-05\n",
      "   1.22474454e-01  0.00000000e+00]]\n",
      "[25.         24.999998   24.999992   ... 24.99997067 24.99998399\n",
      " 24.99999331]\n",
      "Eang [6.28318526e+00 4.89859808e-04 9.79764888e-04 ... 6.28130923e+00\n",
      " 6.28179913e+00 6.28228904e+00]\n",
      "[6.28318526e+00 4.89859808e-04 9.79764888e-04 ... 6.28130923e+00\n",
      " 6.28179913e+00 6.28228904e+00] <Parameter 'ecc', value=7.101355891658834e-06, bounds=[0:1.0]> <Parameter 'rad', value=51.90530895801896, bounds=[0:inf]> <Parameter 'mass', value=1.0 (fixed), bounds=[-inf:inf]> [4.69923898e+03 3.66372239e-01 7.32778337e-01 ... 4.69783587e+03\n",
      " 4.69820228e+03 4.69856868e+03]\n",
      "[0.00036859954897255307, 1.1337516818165952e-06]\n",
      "[[ 2.50000000e+01  0.00000000e+00  0.00000000e+00 -0.00000000e+00\n",
      "   1.22474487e-01  0.00000000e+00]\n",
      " [ 2.49999980e+01  1.22474484e-02  0.00000000e+00 -3.99999973e-05\n",
      "   1.22474477e-01  0.00000000e+00]\n",
      " [ 2.49999920e+01  2.44948948e-02  0.00000000e+00 -7.99999787e-05\n",
      "   1.22474448e-01  0.00000000e+00]\n",
      " ...\n",
      " [ 2.49999707e+01 -4.69001362e-02  0.00000000e+00  1.53175114e-04\n",
      "   1.22474343e-01  0.00000000e+00]\n",
      " [ 2.49999840e+01 -3.46526984e-02  0.00000000e+00  1.13175203e-04\n",
      "   1.22474409e-01  0.00000000e+00]\n",
      " [ 2.49999933e+01 -2.24052551e-02  0.00000000e+00  7.31752469e-05\n",
      "   1.22474454e-01  0.00000000e+00]]\n",
      "[25.         24.999998   24.999992   ... 24.99997067 24.99998399\n",
      " 24.99999331]\n",
      "Eang [6.28318526e+00 4.89859808e-04 9.79764888e-04 ... 6.28130923e+00\n",
      " 6.28179913e+00 6.28228904e+00]\n",
      "[6.28318526e+00 4.89859808e-04 9.79764888e-04 ... 6.28130923e+00\n",
      " 6.28179913e+00 6.28228904e+00] <Parameter 'ecc', value=7.101418054933362e-06, bounds=[0:1.0]> <Parameter 'rad', value=51.905308169950096, bounds=[0:inf]> <Parameter 'mass', value=1.0 (fixed), bounds=[-inf:inf]> [4.69923887e+03 3.66372230e-01 7.32778321e-01 ... 4.69783576e+03\n",
      " 4.69820217e+03 4.69856858e+03]\n",
      "[0.0015774286936964144, 4.851810360623154e-06]\n",
      "[[ 2.50000000e+01  0.00000000e+00  0.00000000e+00 -0.00000000e+00\n",
      "   1.22474487e-01  0.00000000e+00]\n",
      " [ 2.49999980e+01  1.22474484e-02  0.00000000e+00 -3.99999973e-05\n",
      "   1.22474477e-01  0.00000000e+00]\n",
      " [ 2.49999920e+01  2.44948948e-02  0.00000000e+00 -7.99999787e-05\n",
      "   1.22474448e-01  0.00000000e+00]\n",
      " ...\n",
      " [ 2.49999707e+01 -4.69001362e-02  0.00000000e+00  1.53175114e-04\n",
      "   1.22474343e-01  0.00000000e+00]\n",
      " [ 2.49999840e+01 -3.46526984e-02  0.00000000e+00  1.13175203e-04\n",
      "   1.22474409e-01  0.00000000e+00]\n",
      " [ 2.49999933e+01 -2.24052551e-02  0.00000000e+00  7.31752469e-05\n",
      "   1.22474454e-01  0.00000000e+00]]\n",
      "[25.         24.999998   24.999992   ... 24.99997067 24.99998399\n",
      " 24.99999331]\n",
      "Eang [6.28318511e+00 4.89734764e-04 9.79663534e-04 ... 6.28130899e+00\n",
      " 6.28179892e+00 6.28228885e+00]\n",
      "[6.28318511e+00 4.89734764e-04 9.79663534e-04 ... 6.28130899e+00\n",
      " 6.28179892e+00 6.28228885e+00] <Parameter 'ecc', value=3.039054176640077e-05, bounds=[0:1.0]> <Parameter 'rad', value=51.905496365682495, bounds=[0:inf]> <Parameter 'mass', value=1.0 (fixed), bounds=[-inf:inf]> [4.69926432e+03 3.66289231e-01 7.32723566e-01 ... 4.69786110e+03\n",
      " 4.69822754e+03 4.69859397e+03]\n",
      "[2.1493816084386967e-12, 6.611099894449833e-15]\n",
      "[[ 2.50000000e+01  0.00000000e+00  0.00000000e+00 -0.00000000e+00\n",
      "   1.22474487e-01  0.00000000e+00]\n",
      " [ 2.49999980e+01  1.22474484e-02  0.00000000e+00 -3.99999973e-05\n",
      "   1.22474477e-01  0.00000000e+00]\n",
      " [ 2.49999920e+01  2.44948948e-02  0.00000000e+00 -7.99999787e-05\n",
      "   1.22474448e-01  0.00000000e+00]\n",
      " ...\n",
      " [ 2.49999707e+01 -4.69001362e-02  0.00000000e+00  1.53175114e-04\n",
      "   1.22474343e-01  0.00000000e+00]\n",
      " [ 2.49999840e+01 -3.46526984e-02  0.00000000e+00  1.13175203e-04\n",
      "   1.22474409e-01  0.00000000e+00]\n",
      " [ 2.49999933e+01 -2.24052551e-02  0.00000000e+00  7.31752469e-05\n",
      "   1.22474454e-01  0.00000000e+00]]\n",
      "[25.         24.999998   24.999992   ... 24.99997067 24.99998399\n",
      " 24.99999331]\n",
      "Eang [6.28318531e+00 4.89897935e-04 9.79795793e-04 ... 6.28130930e+00\n",
      " 6.28179920e+00 6.28228910e+00]\n",
      "[6.28318531e+00 4.89897935e-04 9.79795793e-04 ... 6.28130930e+00\n",
      " 6.28179920e+00 6.28228910e+00] <Parameter 'ecc', value=4.141131881851834e-14, bounds=[0:1.0]> <Parameter 'rad', value=51.90562533741463, bounds=[0:inf]> <Parameter 'mass', value=1.0 (fixed), bounds=[-inf:inf]> [4.69928198e+03 3.66401503e-01 7.32802947e-01 ... 4.69787889e+03\n",
      " 4.69824529e+03 4.69861169e+03]\n",
      "[2.149381608417796e-12, 6.611106689701631e-15]\n",
      "[[ 2.50000000e+01  0.00000000e+00  0.00000000e+00 -0.00000000e+00\n",
      "   1.22474487e-01  0.00000000e+00]\n",
      " [ 2.49999980e+01  1.22474484e-02  0.00000000e+00 -3.99999973e-05\n",
      "   1.22474477e-01  0.00000000e+00]\n",
      " [ 2.49999920e+01  2.44948948e-02  0.00000000e+00 -7.99999787e-05\n",
      "   1.22474448e-01  0.00000000e+00]\n",
      " ...\n",
      " [ 2.49999707e+01 -4.69001362e-02  0.00000000e+00  1.53175114e-04\n",
      "   1.22474343e-01  0.00000000e+00]\n",
      " [ 2.49999840e+01 -3.46526984e-02  0.00000000e+00  1.13175203e-04\n",
      "   1.22474409e-01  0.00000000e+00]\n",
      " [ 2.49999933e+01 -2.24052551e-02  0.00000000e+00  7.31752469e-05\n",
      "   1.22474454e-01  0.00000000e+00]]\n",
      "[25.         24.999998   24.999992   ... 24.99997067 24.99998399\n",
      " 24.99999331]\n",
      "Eang [6.28318531e+00 4.89897935e-04 9.79795793e-04 ... 6.28130930e+00\n",
      " 6.28179920e+00 6.28228910e+00]\n",
      "[6.28318531e+00 4.89897935e-04 9.79795793e-04 ... 6.28130930e+00\n",
      " 6.28179920e+00 6.28228910e+00] <Parameter 'ecc', value=4.141131881851834e-14, bounds=[0:1.0]> <Parameter 'rad', value=51.90562533741463, bounds=[0:inf]> <Parameter 'mass', value=1.0 (fixed), bounds=[-inf:inf]> [4.69928198e+03 3.66401503e-01 7.32802947e-01 ... 4.69787889e+03\n",
      " 4.69824529e+03 4.69861169e+03]\n",
      "[2.1493816084386967e-12, 6.611099894449833e-15]\n",
      "[[ 2.50000000e+01  0.00000000e+00  0.00000000e+00 -0.00000000e+00\n",
      "   1.22474487e-01  0.00000000e+00]\n",
      " [ 2.49999980e+01  1.22474484e-02  0.00000000e+00 -3.99999973e-05\n",
      "   1.22474477e-01  0.00000000e+00]\n",
      " [ 2.49999920e+01  2.44948948e-02  0.00000000e+00 -7.99999787e-05\n",
      "   1.22474448e-01  0.00000000e+00]\n",
      " ...\n",
      " [ 2.49999707e+01 -4.69001362e-02  0.00000000e+00  1.53175114e-04\n",
      "   1.22474343e-01  0.00000000e+00]\n",
      " [ 2.49999840e+01 -3.46526984e-02  0.00000000e+00  1.13175203e-04\n",
      "   1.22474409e-01  0.00000000e+00]\n",
      " [ 2.49999933e+01 -2.24052551e-02  0.00000000e+00  7.31752469e-05\n",
      "   1.22474454e-01  0.00000000e+00]]\n",
      "[25.         24.999998   24.999992   ... 24.99997067 24.99998399\n",
      " 24.99999331]\n"
     ]
    },
    {
     "name": "stdout",
     "output_type": "stream",
     "text": [
      "Eang [6.28318531e+00 4.89897935e-04 9.79795793e-04 ... 6.28130930e+00\n",
      " 6.28179920e+00 6.28228910e+00]\n",
      "[6.28318531e+00 4.89897935e-04 9.79795793e-04 ... 6.28130930e+00\n",
      " 6.28179920e+00 6.28228910e+00] <Parameter 'ecc', value=4.141131881851834e-14, bounds=[0:1.0]> <Parameter 'rad', value=51.90562612548822, bounds=[0:inf]> <Parameter 'mass', value=1.0 (fixed), bounds=[-inf:inf]> [4.69928209e+03 3.66401511e-01 7.32802964e-01 ... 4.69787899e+03\n",
      " 4.69824540e+03 4.69861180e+03]\n",
      "[1.9113509179173864e-12, 5.878961559031422e-15]\n",
      "[[ 2.50000000e+01  0.00000000e+00  0.00000000e+00 -0.00000000e+00\n",
      "   1.22474487e-01  0.00000000e+00]\n",
      " [ 2.49999980e+01  1.22474484e-02  0.00000000e+00 -3.99999973e-05\n",
      "   1.22474477e-01  0.00000000e+00]\n",
      " [ 2.49999920e+01  2.44948948e-02  0.00000000e+00 -7.99999787e-05\n",
      "   1.22474448e-01  0.00000000e+00]\n",
      " ...\n",
      " [ 2.49999707e+01 -4.69001362e-02  0.00000000e+00  1.53175114e-04\n",
      "   1.22474343e-01  0.00000000e+00]\n",
      " [ 2.49999840e+01 -3.46526984e-02  0.00000000e+00  1.13175203e-04\n",
      "   1.22474409e-01  0.00000000e+00]\n",
      " [ 2.49999933e+01 -2.24052551e-02  0.00000000e+00  7.31752469e-05\n",
      "   1.22474454e-01  0.00000000e+00]]\n",
      "[25.         24.999998   24.999992   ... 24.99997067 24.99998399\n",
      " 24.99999331]\n",
      "Eang [6.28318531e+00 4.89897935e-04 9.79795793e-04 ... 6.28130930e+00\n",
      " 6.28179920e+00 6.28228910e+00]\n",
      "[6.28318531e+00 4.89897935e-04 9.79795793e-04 ... 6.28130930e+00\n",
      " 6.28179920e+00 6.28228910e+00] <Parameter 'ecc', value=3.680389326632394e-14, bounds=[0:1.0]> <Parameter 'rad', value=51.90562533741463, bounds=[0:inf]> <Parameter 'mass', value=1.0 (fixed), bounds=[-inf:inf]> [4.69928198e+03 3.66401503e-01 7.32802947e-01 ... 4.69787889e+03\n",
      " 4.69824529e+03 4.69861169e+03]\n",
      "[0.0003712985933276712, 1.1420457314422721e-06]\n",
      "[[ 2.50000000e+01  0.00000000e+00  0.00000000e+00 -0.00000000e+00\n",
      "   1.22474487e-01  0.00000000e+00]\n",
      " [ 2.49999980e+01  1.22474484e-02  0.00000000e+00 -3.99999973e-05\n",
      "   1.22474477e-01  0.00000000e+00]\n",
      " [ 2.49999920e+01  2.44948948e-02  0.00000000e+00 -7.99999787e-05\n",
      "   1.22474448e-01  0.00000000e+00]\n",
      " ...\n",
      " [ 2.49999707e+01 -4.69001362e-02  0.00000000e+00  1.53175114e-04\n",
      "   1.22474343e-01  0.00000000e+00]\n",
      " [ 2.49999840e+01 -3.46526984e-02  0.00000000e+00  1.13175203e-04\n",
      "   1.22474409e-01  0.00000000e+00]\n",
      " [ 2.49999933e+01 -2.24052551e-02  0.00000000e+00  7.31752469e-05\n",
      "   1.22474454e-01  0.00000000e+00]]\n",
      "[25.         24.999998   24.999992   ... 24.99997067 24.99998399\n",
      " 24.99999331]\n",
      "Eang [6.28318526e+00 4.89859529e-04 9.79764662e-04 ... 6.28130923e+00\n",
      " 6.28179913e+00 6.28228904e+00]\n",
      "[6.28318526e+00 4.89859529e-04 9.79764662e-04 ... 6.28130923e+00\n",
      " 6.28179913e+00 6.28228904e+00] <Parameter 'ecc', value=7.153365479573015e-06, bounds=[0:1.0]> <Parameter 'rad', value=51.90568701461693, bounds=[0:inf]> <Parameter 'mass', value=1.0 (fixed), bounds=[-inf:inf]> [4.69929032e+03 3.66376052e-01 7.32786212e-01 ... 4.69788720e+03\n",
      " 4.69825361e+03 4.69862002e+03]\n",
      "[3.7079103771516904e-06, 1.1404845843462578e-08]\n",
      "[[ 2.50000000e+01  0.00000000e+00  0.00000000e+00 -0.00000000e+00\n",
      "   1.22474487e-01  0.00000000e+00]\n",
      " [ 2.49999980e+01  1.22474484e-02  0.00000000e+00 -3.99999973e-05\n",
      "   1.22474477e-01  0.00000000e+00]\n",
      " [ 2.49999920e+01  2.44948948e-02  0.00000000e+00 -7.99999787e-05\n",
      "   1.22474448e-01  0.00000000e+00]\n",
      " ...\n",
      " [ 2.49999707e+01 -4.69001362e-02  0.00000000e+00  1.53175114e-04\n",
      "   1.22474343e-01  0.00000000e+00]\n",
      " [ 2.49999840e+01 -3.46526984e-02  0.00000000e+00  1.13175203e-04\n",
      "   1.22474409e-01  0.00000000e+00]\n",
      " [ 2.49999933e+01 -2.24052551e-02  0.00000000e+00  7.31752469e-05\n",
      "   1.22474454e-01  0.00000000e+00]]\n",
      "[25.         24.999998   24.999992   ... 24.99997067 24.99998399\n",
      " 24.99999331]\n",
      "Eang [6.28318531e+00 4.89897552e-04 9.79795482e-04 ... 6.28130930e+00\n",
      " 6.28179920e+00 6.28228910e+00]\n",
      "[6.28318531e+00 4.89897552e-04 9.79795482e-04 ... 6.28130930e+00\n",
      " 6.28179920e+00 6.28228910e+00] <Parameter 'ecc', value=7.143587010816077e-08, bounds=[0:1.0]> <Parameter 'rad', value=51.905687018251896, bounds=[0:inf]> <Parameter 'mass', value=1.0 (fixed), bounds=[-inf:inf]> [4.69929035e+03 3.66401895e-01 7.32804073e-01 ... 4.69788726e+03\n",
      " 4.69825366e+03 4.69862006e+03]\n",
      "[3.6572591372924676e-08, 1.1249052007145953e-10]\n",
      "[[ 2.50000000e+01  0.00000000e+00  0.00000000e+00 -0.00000000e+00\n",
      "   1.22474487e-01  0.00000000e+00]\n",
      " [ 2.49999980e+01  1.22474484e-02  0.00000000e+00 -3.99999973e-05\n",
      "   1.22474477e-01  0.00000000e+00]\n",
      " [ 2.49999920e+01  2.44948948e-02  0.00000000e+00 -7.99999787e-05\n",
      "   1.22474448e-01  0.00000000e+00]\n",
      " ...\n",
      " [ 2.49999707e+01 -4.69001362e-02  0.00000000e+00  1.53175114e-04\n",
      "   1.22474343e-01  0.00000000e+00]\n",
      " [ 2.49999840e+01 -3.46526984e-02  0.00000000e+00  1.13175203e-04\n",
      "   1.22474409e-01  0.00000000e+00]\n",
      " [ 2.49999933e+01 -2.24052551e-02  0.00000000e+00  7.31752469e-05\n",
      "   1.22474454e-01  0.00000000e+00]]\n",
      "[25.         24.999998   24.999992   ... 24.99997067 24.99998399\n",
      " 24.99999331]\n",
      "Eang [6.28318531e+00 4.89897932e-04 9.79795790e-04 ... 6.28130930e+00\n",
      " 6.28179920e+00 6.28228910e+00]\n",
      "[6.28318531e+00 4.89897932e-04 9.79795790e-04 ... 6.28130930e+00\n",
      " 6.28179920e+00 6.28228910e+00] <Parameter 'ecc', value=7.04600267020794e-10, bounds=[0:1.0]> <Parameter 'rad', value=51.90568701186155, bounds=[0:inf]> <Parameter 'mass', value=1.0 (fixed), bounds=[-inf:inf]> [4.69929035e+03 3.66402153e-01 7.32804251e-01 ... 4.69788726e+03\n",
      " 4.69825366e+03 4.69862006e+03]\n",
      "[2.1493816084386967e-12, 6.611099894449833e-15]\n",
      "[[ 2.50000000e+01  0.00000000e+00  0.00000000e+00 -0.00000000e+00\n",
      "   1.22474487e-01  0.00000000e+00]\n",
      " [ 2.49999980e+01  1.22474484e-02  0.00000000e+00 -3.99999973e-05\n",
      "   1.22474477e-01  0.00000000e+00]\n",
      " [ 2.49999920e+01  2.44948948e-02  0.00000000e+00 -7.99999787e-05\n",
      "   1.22474448e-01  0.00000000e+00]\n",
      " ...\n",
      " [ 2.49999707e+01 -4.69001362e-02  0.00000000e+00  1.53175114e-04\n",
      "   1.22474343e-01  0.00000000e+00]\n",
      " [ 2.49999840e+01 -3.46526984e-02  0.00000000e+00  1.13175203e-04\n",
      "   1.22474409e-01  0.00000000e+00]\n",
      " [ 2.49999933e+01 -2.24052551e-02  0.00000000e+00  7.31752469e-05\n",
      "   1.22474454e-01  0.00000000e+00]]\n",
      "[25.         24.999998   24.999992   ... 24.99997067 24.99998399\n",
      " 24.99999331]\n",
      "Eang [6.28318531e+00 4.89897935e-04 9.79795793e-04 ... 6.28130930e+00\n",
      " 6.28179920e+00 6.28228910e+00]\n",
      "[6.28318531e+00 4.89897935e-04 9.79795793e-04 ... 6.28130930e+00\n",
      " 6.28179920e+00 6.28228910e+00] <Parameter 'ecc', value=4.141131881851834e-14, bounds=[0:1.0]> <Parameter 'rad', value=51.90562533741463, bounds=[0:inf]> <Parameter 'mass', value=1.0 (fixed), bounds=[-inf:inf]> [4.69928198e+03 3.66401503e-01 7.32802947e-01 ... 4.69787889e+03\n",
      " 4.69824529e+03 4.69861169e+03]\n"
     ]
    }
   ],
   "source": [
    "from lmfit import Minimizer,Parameters\n",
    "pfittEang = Parameters()\n",
    "pfittEang.add(name='theta', value=theta0, min=0, max=2.*math.pi, vary=True)\n",
    "pfittEang.add(name='rad', value=rad0, min=0, vary=True)\n",
    "pfittEang.add(name='ecc', value=ecc0, min=0, max=1.0, vary=True)\n",
    "pfittEang.add(name='mass', value=masses[0], vary=False)\n",
    "\n",
    "minit = Minimizer(residualtEang, pfittEang, fcn_args=(nptimesoneorbit,npstar2x[:endindex-1,:]))\n",
    "\n",
    "outt = minit.leastsq()"
   ]
  },
  {
   "cell_type": "code",
   "execution_count": 186,
   "metadata": {},
   "outputs": [
    {
     "data": {
      "text/html": [
       "<h2>Fit Statistics</h2><table><tr><td>fitting method</td><td>leastsq</td><td></td></tr><tr><td># function evals</td><td>50</td><td></td></tr><tr><td># data points</td><td>44428</td><td></td></tr><tr><td># variables</td><td>3</td><td></td></tr><tr><td>chi-square</td><td> 1.0741e+10</td><td></td></tr><tr><td>reduced chi-square</td><td> 241784.703</td><td></td></tr><tr><td>Akaike info crit.</td><td> 550723.733</td><td></td></tr><tr><td>Bayesian info crit.</td><td> 550749.838</td><td></td></tr></table><h2>Variables</h2><table><tr><th> name </th><th> value </th><th> initial value </th><th> min </th><th> max </th><th> vary </th></tr><tr><td> theta </td><td>  0.00307581 </td><td> 0.0 </td><td>  0.00000000 </td><td>  6.28318531 </td><td> True </td></tr><tr><td> rad </td><td>  51.9056253 </td><td> 50 </td><td>  0.00000000 </td><td>         inf </td><td> True </td></tr><tr><td> ecc </td><td>  4.1411e-14 </td><td> 0.5 </td><td>  0.00000000 </td><td>  1.00000000 </td><td> True </td></tr><tr><td> mass </td><td>  1.00000000 </td><td> 1.0 </td><td>        -inf </td><td>         inf </td><td> False </td></tr></table>"
      ],
      "text/plain": [
       "<lmfit.minimizer.MinimizerResult at 0x7f90ac106210>"
      ]
     },
     "execution_count": 186,
     "metadata": {},
     "output_type": "execute_result"
    }
   ],
   "source": [
    "outt"
   ]
  },
  {
   "cell_type": "markdown",
   "metadata": {},
   "source": [
    "Eccentricity fit is still not great for eccentricity of 0.9 (0.99), but radius fit is pretty good. The chi square is enormous. Eccentricity of 0.5 looks somewhat better (ecc 0.51) but still has a large chisquared and generates a potentially helpful divide by zero warning in the fit. "
   ]
  },
  {
   "cell_type": "code",
   "execution_count": null,
   "metadata": {},
   "outputs": [],
   "source": []
  },
  {
   "cell_type": "markdown",
   "metadata": {},
   "source": [
    "Updated Jupyter and python packages and angular momentum and energy conservation improved by many orders of magnitude, but the fit is about the same. deltaL and deltaE are now consistent with roundoff error. "
   ]
  },
  {
   "cell_type": "code",
   "execution_count": null,
   "metadata": {},
   "outputs": [],
   "source": []
  },
  {
   "cell_type": "code",
   "execution_count": null,
   "metadata": {},
   "outputs": [],
   "source": []
  },
  {
   "cell_type": "code",
   "execution_count": null,
   "metadata": {},
   "outputs": [],
   "source": []
  }
 ],
 "metadata": {
  "kernelspec": {
   "display_name": "Python 3",
   "language": "python",
   "name": "python3"
  },
  "language_info": {
   "codemirror_mode": {
    "name": "ipython",
    "version": 3
   },
   "file_extension": ".py",
   "mimetype": "text/x-python",
   "name": "python",
   "nbconvert_exporter": "python",
   "pygments_lexer": "ipython3",
   "version": "3.7.4"
  }
 },
 "nbformat": 4,
 "nbformat_minor": 2
}
