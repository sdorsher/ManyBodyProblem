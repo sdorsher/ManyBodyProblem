{
 "cells": [
  {
   "cell_type": "code",
   "execution_count": 1,
   "metadata": {},
   "outputs": [],
   "source": [
    "import math\n",
    "import numpy as np"
   ]
  },
  {
   "cell_type": "code",
   "execution_count": 2,
   "metadata": {},
   "outputs": [],
   "source": [
    "import ellipsefns\n",
    "#getfocus, getsemiminor, theoreticalx, theoreticaly"
   ]
  },
  {
   "cell_type": "code",
   "execution_count": 3,
   "metadata": {},
   "outputs": [],
   "source": [
    "import initdat"
   ]
  },
  {
   "cell_type": "code",
   "execution_count": 4,
   "metadata": {},
   "outputs": [
    {
     "name": "stdout",
     "output_type": "stream",
     "text": [
      "angle 0.0\n",
      "0.5\n",
      "(array([3.14159265, 0.        ]), 0.0, 50, 0.5, array([1., 1.]))\n"
     ]
    }
   ],
   "source": [
    "\n",
    "rad0=50\n",
    "ecc0=0.5\n",
    "theta0= 0. #math.pi/6. #math.pi/6.\n",
    "mass0=1.0\n",
    "initdateqellipse=initdat.InitialDataEqualMassConic(rad0,ecc0,theta0,mass0)\n",
    "print(initdateqellipse)"
   ]
  },
  {
   "cell_type": "markdown",
   "metadata": {},
   "source": [
    "VERIFIED FOR THETA=-45,45,135,180,90,30,-30. VERIFIED FOR ECC =0.001, 0.1,0.5, 0.7, 0.9, 0.95 VERIFIED FOR RAD0=50,75 100 "
   ]
  },
  {
   "cell_type": "code",
   "execution_count": 5,
   "metadata": {},
   "outputs": [],
   "source": [
    "import getxyuvtwoellipse_apper"
   ]
  },
  {
   "cell_type": "code",
   "execution_count": 6,
   "metadata": {},
   "outputs": [],
   "source": [
    "useperihelion=True"
   ]
  },
  {
   "cell_type": "code",
   "execution_count": 7,
   "metadata": {},
   "outputs": [
    {
     "name": "stdout",
     "output_type": "stream",
     "text": [
      "initdat 50 [3.14159265 0.        ] 0.5 [-1.  1.] [1.2246468e-16 0.0000000e+00]\n",
      "coordsep 50\n",
      "pi\n",
      "zero\n",
      "[-50.  50.]\n",
      "[0. 0.]\n",
      "(array([1., 1.]), array([[-25.        ,   0.        ,   0.        ,  -0.        ,\n",
      "         -0.12247449,   0.        ],\n",
      "       [ 25.        ,   0.        ,   0.        ,  -0.        ,\n",
      "          0.12247449,   0.        ]]), array([[ 0.0004, -0.    ,  0.    ],\n",
      "       [-0.0004, -0.    ,  0.    ]]))\n"
     ]
    }
   ],
   "source": [
    "xyuvaeqellipse=getxyuvtwoellipse_apper.getxyuveqtwoellipses(initdateqellipse,useperihelion)\n",
    "print(xyuvaeqellipse)\n",
    "masses,xvec,avec=xyuvaeqellipse"
   ]
  },
  {
   "cell_type": "code",
   "execution_count": 8,
   "metadata": {},
   "outputs": [],
   "source": [
    "import RK4implicit"
   ]
  },
  {
   "cell_type": "code",
   "execution_count": 9,
   "metadata": {},
   "outputs": [],
   "source": [
    "import OrbitDiffEq"
   ]
  },
  {
   "cell_type": "code",
   "execution_count": null,
   "metadata": {},
   "outputs": [],
   "source": []
  },
  {
   "cell_type": "code",
   "execution_count": 10,
   "metadata": {},
   "outputs": [
    {
     "name": "stdout",
     "output_type": "stream",
     "text": [
      "[1. 1.] [[-25.           0.           0.          -0.          -0.12247449\n",
      "    0.        ]\n",
      " [ 25.           0.           0.          -0.           0.12247449\n",
      "    0.        ]] 0.0\n",
      "[1. 1.] [[-25.           0.           0.          -0.          -0.12247449\n",
      "    0.        ]\n",
      " [ 25.           0.           0.          -0.           0.12247449\n",
      "    0.        ]] 0.0\n"
     ]
    },
    {
     "data": {
      "text/plain": [
       "<OrbitDiffEq.OrbitDiffEq at 0x7fb4151e4210>"
      ]
     },
     "execution_count": 10,
     "metadata": {},
     "output_type": "execute_result"
    }
   ],
   "source": [
    "masses, xvec,avec=xyuvaeqellipse\n",
    "ODEeq= OrbitDiffEq.OrbitDiffEq(masses,xvec,avec,0.0)\n",
    "ODEeq.print2D()\n",
    "ODEeq.print2D()"
   ]
  },
  {
   "cell_type": "code",
   "execution_count": 11,
   "metadata": {},
   "outputs": [
    {
     "name": "stdout",
     "output_type": "stream",
     "text": [
      "(array([1., 1.]), array([[-25.        ,   0.        ,   0.        ,  -0.        ,\n",
      "         -0.12247449,   0.        ],\n",
      "       [ 25.        ,   0.        ,   0.        ,  -0.        ,\n",
      "          0.12247449,   0.        ]]), array([[ 0.0004, -0.    ,  0.    ],\n",
      "       [-0.0004, -0.    ,  0.    ]]))\n"
     ]
    }
   ],
   "source": [
    "print(xyuvaeqellipse)"
   ]
  },
  {
   "cell_type": "code",
   "execution_count": 12,
   "metadata": {},
   "outputs": [],
   "source": [
    "import timestep"
   ]
  },
  {
   "cell_type": "code",
   "execution_count": null,
   "metadata": {},
   "outputs": [],
   "source": []
  },
  {
   "cell_type": "code",
   "execution_count": 13,
   "metadata": {},
   "outputs": [],
   "source": [
    "numsteps=6000*10\n",
    "dt=0.1\n",
    "outputevery=1\n",
    "nptimes, npstar1x, npstar2x, npstar1a, npstar2a= timestep.timestep(numsteps,dt,xyuvaeqellipse,outputevery)"
   ]
  },
  {
   "cell_type": "code",
   "execution_count": 14,
   "metadata": {},
   "outputs": [
    {
     "data": {
      "text/plain": [
       "array([[-2.50000000e+01,  0.00000000e+00,  0.00000000e+00,\n",
       "        -0.00000000e+00, -1.22474487e-01,  0.00000000e+00],\n",
       "       [-2.49999980e+01, -1.22474484e-02,  0.00000000e+00,\n",
       "         3.99999973e-05, -1.22474477e-01,  0.00000000e+00],\n",
       "       [-2.49999920e+01, -2.44948948e-02,  0.00000000e+00,\n",
       "         7.99999787e-05, -1.22474448e-01,  0.00000000e+00],\n",
       "       ...,\n",
       "       [ 6.50765680e+01, -2.58921131e+01,  0.00000000e+00,\n",
       "         3.01846656e-02,  3.50405295e-02,  0.00000000e+00],\n",
       "       [ 6.50795863e+01, -2.58886090e+01,  0.00000000e+00,\n",
       "         3.01799302e-02,  3.50424134e-02,  0.00000000e+00],\n",
       "       [ 6.50826040e+01, -2.58851046e+01,  0.00000000e+00,\n",
       "         3.01751950e-02,  3.50442969e-02,  0.00000000e+00]])"
      ]
     },
     "execution_count": 14,
     "metadata": {},
     "output_type": "execute_result"
    }
   ],
   "source": [
    "npstar1x"
   ]
  },
  {
   "cell_type": "code",
   "execution_count": 15,
   "metadata": {},
   "outputs": [
    {
     "data": {
      "image/png": "[encoded data removed]",
      "text/plain": [
       "<Figure size 432x288 with 1 Axes>"
      ]
     },
     "metadata": {
      "needs_background": "light"
     },
     "output_type": "display_data"
    }
   ],
   "source": [
    "import matplotlib.pyplot as plt\n",
    "t = np.linspace(0, 2*math.pi, 100)\n",
    "xax=-200+np.arange(0,400)\n",
    "plt.ylim(-200,200)\n",
    "plt.xlim(-200,200)\n",
    "plt.title(\"Elliptical Orbit, RK4, a=\"+str(rad0)+\", e=\"+ str(ecc0)+\", theta=\"+str(round(180*theta0/math.pi))+ \" degrees\")\n",
    "plt.plot(ellipsefns.getxtheory(theta0,ecc0,rad0,t,1),ellipsefns.getytheory(theta0,ecc0,rad0,t,1),'b')\n",
    "plt.plot(ellipsefns.getxtheory(theta0,ecc0,rad0,t,-1),ellipsefns.getytheory(theta0,ecc0,rad0,t,-1),'g')\n",
    "plt.plot(npstar1x[:,0],npstar1x[:,1],'y')\n",
    "plt.plot(npstar2x[:,0],npstar2x[:,1],'r')\n",
    "plt.show()"
   ]
  },
  {
   "cell_type": "markdown",
   "metadata": {},
   "source": [
    "%%html\n",
    "<a href=\"https://github.com/sdorsher/ManyBodyProblem/blob/master/EllipseSymmetry.png\">Elliptical orbits at thirty degrees with symmetry line</a>\n",
    "It is clear that the elliptical orbits have focuses, perhelions, and aphelions on the axis of symmetry from this plot. It is also clear that the orbits are symmetric with respect to eachother. "
   ]
  },
  {
   "cell_type": "code",
   "execution_count": 16,
   "metadata": {},
   "outputs": [],
   "source": [
    "def getfocus(a,ecc):\n",
    "    c=a*ecc\n",
    "    return c"
   ]
  },
  {
   "cell_type": "code",
   "execution_count": 17,
   "metadata": {},
   "outputs": [],
   "source": [
    "def getsemiminor(a,ecc):\n",
    "    c=getfocus(a,ecc)\n",
    "    b=np.sqrt(a**2-c**2)\n",
    "    return b"
   ]
  },
  {
   "cell_type": "code",
   "execution_count": 18,
   "metadata": {},
   "outputs": [],
   "source": [
    "def getxtheory2(theta0,ecc0,rad0,t, sgn):\n",
    "    focus=getfocus(rad0,ecc0)\n",
    "    b=getsemiminor(rad0,ecc0)\n",
    "    xdim=rad0\n",
    "    ydim=b\n",
    "    xtheory=sgn*focus*np.cos(theta0)+xdim*np.cos(t)*np.cos(theta0)-ydim*np.sin(t)*np.sin(theta0)\n",
    "    return xtheory"
   ]
  },
  {
   "cell_type": "code",
   "execution_count": 19,
   "metadata": {},
   "outputs": [],
   "source": [
    "def getytheory2(theta0, ecc0, rad0, t, sgn):\n",
    "    focus = getfocus(rad0,ecc0)\n",
    "    b=getsemiminor(rad0,ecc0)\n",
    "    xdim=rad0\n",
    "    ydim=b\n",
    "    ytheory=sgn*focus*np.sin(theta0)+ydim*np.cos(theta0)*np.sin(t)+xdim*np.sin(theta0)*np.cos(t)\n",
    "    return ytheory\n",
    "\n"
   ]
  },
  {
   "cell_type": "code",
   "execution_count": 20,
   "metadata": {},
   "outputs": [
    {
     "data": {
      "image/png": "[encoded data removed]",
      "text/plain": [
       "<Figure size 432x288 with 1 Axes>"
      ]
     },
     "metadata": {
      "needs_background": "light"
     },
     "output_type": "display_data"
    }
   ],
   "source": [
    "import matplotlib.pyplot as plt\n",
    "t = np.linspace(0, 2*math.pi, 100)\n",
    "xax=-200+np.arange(0,400)\n",
    "plt.ylim(-200,200)\n",
    "plt.xlim(-200,200)\n",
    "plt.title(\"Elliptical Orbit, RK4, a=\"+str(rad0)+\", e=\"+ str(ecc0)+\", theta=\"+str(round(180*theta0/math.pi))+ \" degrees\")\n",
    "plt.plot(ellipsefns.getxtheory(theta0,ecc0,rad0,t,1),ellipsefns.getytheory(theta0,ecc0,rad0,t,1),'b')\n",
    "plt.plot(ellipsefns.getxtheory(theta0,ecc0,rad0,t,-1),ellipsefns.getytheory(theta0,ecc0,rad0,t,-1),'g')\n",
    "plt.plot(npstar1x[:,0],npstar1x[:,1],'y')\n",
    "plt.plot(npstar2x[:,0],npstar2x[:,1],'r')\n",
    "plt.plot(xax, np.tan(theta0)*xax,'c')\n",
    "plt.show()"
   ]
  },
  {
   "cell_type": "markdown",
   "metadata": {},
   "source": [
    "Computed orbit and parametric description of ellipse evolve at different rates, since the parametric description of the ellipse doesn't obey keplers law of equal area in equal time (conservation of angular momentum). This is a problem for the fit below. "
   ]
  },
  {
   "cell_type": "markdown",
   "metadata": {},
   "source": [
    "# Conservation of angular momentum"
   ]
  },
  {
   "cell_type": "code",
   "execution_count": 21,
   "metadata": {},
   "outputs": [],
   "source": [
    "import Lstability"
   ]
  },
  {
   "cell_type": "code",
   "execution_count": 22,
   "metadata": {},
   "outputs": [
    {
     "data": {
      "text/plain": [
       "(3.1183369646375074e-14, -2.0412414523192806)"
      ]
     },
     "execution_count": 22,
     "metadata": {},
     "output_type": "execute_result"
    }
   ],
   "source": [
    "deltaL, Lavg=Lstability.Lstability(npstar1x,npstar2x,mass0)\n",
    "deltaL, Lavg"
   ]
  },
  {
   "cell_type": "markdown",
   "metadata": {},
   "source": [
    "Orbit conserves angular momentum to a tolerance of deltaL. "
   ]
  },
  {
   "cell_type": "markdown",
   "metadata": {},
   "source": [
    "# Conservation of Energy"
   ]
  },
  {
   "cell_type": "code",
   "execution_count": 23,
   "metadata": {},
   "outputs": [],
   "source": [
    "import Estability"
   ]
  },
  {
   "cell_type": "code",
   "execution_count": 24,
   "metadata": {},
   "outputs": [
    {
     "data": {
      "text/plain": [
       "(1.9347771707844668e-14, -0.0050000000000002065)"
      ]
     },
     "execution_count": 24,
     "metadata": {},
     "output_type": "execute_result"
    }
   ],
   "source": [
    "deltaE, Eavg = Estability.Estability(npstar1x, npstar2x, mass0)\n",
    "deltaE, Eavg"
   ]
  },
  {
   "cell_type": "markdown",
   "metadata": {},
   "source": [
    "Orbit conserves energy to a relative error of deltaE. "
   ]
  },
  {
   "cell_type": "markdown",
   "metadata": {},
   "source": [
    "# Symmetry of the two stars orbits with respect to eachother "
   ]
  },
  {
   "cell_type": "code",
   "execution_count": 25,
   "metadata": {},
   "outputs": [],
   "source": [
    "import orbitSymmetricTol"
   ]
  },
  {
   "cell_type": "code",
   "execution_count": 26,
   "metadata": {},
   "outputs": [],
   "source": [
    "allcancelsx, allcancelsa=orbitSymmetricTol.howSymmetric(npstar1x,npstar2x,npstar1a,npstar2a)"
   ]
  },
  {
   "cell_type": "code",
   "execution_count": 27,
   "metadata": {},
   "outputs": [
    {
     "data": {
      "text/plain": [
       "1e-14"
      ]
     },
     "execution_count": 27,
     "metadata": {},
     "output_type": "execute_result"
    }
   ],
   "source": [
    "allcancelsx"
   ]
  },
  {
   "cell_type": "markdown",
   "metadata": {},
   "source": [
    "Orbit is symmetric with respect to x and v up to a tolerance of allcancelsx"
   ]
  },
  {
   "cell_type": "code",
   "execution_count": 28,
   "metadata": {},
   "outputs": [
    {
     "data": {
      "text/plain": [
       "1e-14"
      ]
     },
     "execution_count": 28,
     "metadata": {},
     "output_type": "execute_result"
    }
   ],
   "source": [
    "allcancelsa"
   ]
  },
  {
   "cell_type": "code",
   "execution_count": 29,
   "metadata": {},
   "outputs": [
    {
     "data": {
      "text/plain": [
       "array([[-2.50000000e+01,  0.00000000e+00,  0.00000000e+00,\n",
       "        -0.00000000e+00, -1.22474487e-01,  0.00000000e+00],\n",
       "       [-2.49999980e+01, -1.22474484e-02,  0.00000000e+00,\n",
       "         3.99999973e-05, -1.22474477e-01,  0.00000000e+00],\n",
       "       [-2.49999920e+01, -2.44948948e-02,  0.00000000e+00,\n",
       "         7.99999787e-05, -1.22474448e-01,  0.00000000e+00],\n",
       "       ...,\n",
       "       [ 6.50765680e+01, -2.58921131e+01,  0.00000000e+00,\n",
       "         3.01846656e-02,  3.50405295e-02,  0.00000000e+00],\n",
       "       [ 6.50795863e+01, -2.58886090e+01,  0.00000000e+00,\n",
       "         3.01799302e-02,  3.50424134e-02,  0.00000000e+00],\n",
       "       [ 6.50826040e+01, -2.58851046e+01,  0.00000000e+00,\n",
       "         3.01751950e-02,  3.50442969e-02,  0.00000000e+00]])"
      ]
     },
     "execution_count": 29,
     "metadata": {},
     "output_type": "execute_result"
    }
   ],
   "source": [
    "npstar1x"
   ]
  },
  {
   "cell_type": "markdown",
   "metadata": {},
   "source": [
    "Orbit is symmetric with respect to a to up to or better than a tolerance of allcancelsa"
   ]
  },
  {
   "cell_type": "markdown",
   "metadata": {},
   "source": [
    "# Testing for precision in perihelion and aphelion recovery from knowledge of the initial angle"
   ]
  },
  {
   "cell_type": "code",
   "execution_count": 30,
   "metadata": {},
   "outputs": [],
   "source": [
    "import aeTest"
   ]
  },
  {
   "cell_type": "code",
   "execution_count": 31,
   "metadata": {},
   "outputs": [
    {
     "data": {
      "text/plain": [
       "[<matplotlib.lines.Line2D at 0x7fb4166c2850>]"
      ]
     },
     "execution_count": 31,
     "metadata": {},
     "output_type": "execute_result"
    },
    {
     "data": {
      "image/png": "[encoded data removed]",
      "text/plain": [
       "<Figure size 432x288 with 1 Axes>"
      ]
     },
     "metadata": {
      "needs_background": "light"
     },
     "output_type": "display_data"
    }
   ],
   "source": [
    "from matplotlib import pyplot as plt\n",
    "plt.plot( np.abs(npstar1x[:,1]))"
   ]
  },
  {
   "cell_type": "code",
   "execution_count": 100,
   "metadata": {},
   "outputs": [],
   "source": [
    "def findPerapHelionThetaIsZero(npstar1x,ecc0,rad0,useperihelion):\n",
    "    apindex=np.argmin(np.abs(npstar1x[1:,1]))+1\n",
    "    print(apindex)\n",
    "    delta=math.floor(.2*apindex)\n",
    "    print(delta)\n",
    "    perindex=np.argmin(np.abs(npstar1x[delta:apindex-delta,1]))+delta\n",
    "    print(perindex)\n",
    "    print(apindex/perindex)\n",
    "    if np.abs(apindex/perindex-2.)>0.05: \n",
    "        perindex=np.argmin(np.abs(npstar1x[apindex+delta:2*apindex+delta,1]))+delta+apindex\n",
    "        print(perindex)\n",
    "        apindex,perindex=perindex,apindex\n",
    "        print(apindex,perindex)\n",
    "        print(apindex/perindex)\n",
    "    #apindex3=np.argmin(np.abs(npstar1x[100:apindex2-100,1]))+100\n",
    "    #apindex4=np.argmin(np.abs(npstar1x[100:apindex3-100,1]))+100\n",
    "    #perindex=np.argmin(np.abs(npstar1x[100:apindex2-100,1]))+100\n",
    "    if useperihelion:\n",
    "        apindex,perindex=perindex,apindex\n",
    "    coordap=[npstar1x[apindex,0],npstar1x[apindex,1]]\n",
    "    coordper=[npstar1x[perindex,0],npstar1x[perindex,1]]\n",
    "    ra=np.sqrt(np.sum(np.array(coordap)**2))\n",
    "    rp=np.sqrt(np.sum(np.array(coordper)**2))\n",
    "    e=(ra-rp)/(ra+rp)\n",
    "    a=1./2.*(ra+rp)\n",
    "    deltae=np.abs(e-ecc0)/ecc0\n",
    "    deltaa=np.abs(a-rad0)/rad0\n",
    "    return apindex,perindex,coordap,coordper,ra,rp,e,a,deltae,deltaa"
   ]
  },
  {
   "cell_type": "code",
   "execution_count": 101,
   "metadata": {},
   "outputs": [
    {
     "name": "stdout",
     "output_type": "stream",
     "text": [
      "22214\n",
      "4442\n",
      "17771\n",
      "1.2500140678633729\n",
      "44429\n",
      "44429 22214\n",
      "2.0000450166561627\n"
     ]
    }
   ],
   "source": [
    "if theta0==0:\n",
    "    apindex,perindex,coordap,coordper,ra,rp,e,a,deltae,deltaa=findPerapHelionThetaIsZero(npstar1x,ecc0,rad0,useperihelion)"
   ]
  },
  {
   "cell_type": "code",
   "execution_count": null,
   "metadata": {},
   "outputs": [],
   "source": []
  },
  {
   "cell_type": "code",
   "execution_count": 102,
   "metadata": {},
   "outputs": [],
   "source": [
    "if theta0!=0:\n",
    "    perindex,apindex,coordper,coordap,rp,ra,e,a,deltae,deltaa=aeTest.findPerApHelion(npstar1x,theta0,ecc0,rad0)"
   ]
  },
  {
   "cell_type": "markdown",
   "metadata": {},
   "source": [
    "Recovered perihelion radius given by r_per, recovered aphelion radius given by r_ap, a is semimajor axis computed from the orbit, e is eccentricty computed from the orbit, delta a is relative error on the semimajor axis, and delta e is eccenticity relative error. "
   ]
  },
  {
   "cell_type": "code",
   "execution_count": 103,
   "metadata": {},
   "outputs": [
    {
     "data": {
      "text/plain": [
       "(22214,\n",
       " 44429,\n",
       " [74.99999996178201, -0.0016929680664632164],\n",
       " [-24.999999941777688, -0.002089640329429189],\n",
       " 74.99999998088961,\n",
       " 25.00000002910962,\n",
       " 0.4999999994678037,\n",
       " 50.00000000499962,\n",
       " 1.0643925740794202e-09,\n",
       " 9.999240546676447e-11)"
      ]
     },
     "execution_count": 103,
     "metadata": {},
     "output_type": "execute_result"
    }
   ],
   "source": [
    "apindex,perindex,coordap,coordper,ra,rp,e,a,deltae,deltaa"
   ]
  },
  {
   "cell_type": "code",
   "execution_count": 218,
   "metadata": {},
   "outputs": [
    {
     "data": {
      "text/plain": [
       "[<matplotlib.lines.Line2D at 0x7fb417bf4bd0>]"
      ]
     },
     "execution_count": 218,
     "metadata": {},
     "output_type": "execute_result"
    },
    {
     "data": {
      "image/png": "[encoded data removed]",
      "text/plain": [
       "<Figure size 432x288 with 1 Axes>"
      ]
     },
     "metadata": {
      "needs_background": "light"
     },
     "output_type": "display_data"
    }
   ],
   "source": [
    "plt.plot(nptimes[:perindex],npstar1x[:perindex,1])"
   ]
  },
  {
   "cell_type": "markdown",
   "metadata": {},
   "source": [
    "# Testing for symmetry within a given star's orbit about the line created by the initial angle with the origin that should pass thorugh the center of the ellipse, both focuses, and perihelion and aphelion"
   ]
  },
  {
   "cell_type": "code",
   "execution_count": 104,
   "metadata": {},
   "outputs": [],
   "source": [
    "pivotindex=perindex\n",
    "endindex = apindex\n",
    "if useperihelion:\n",
    "    pivotindex=apindex\n",
    "    endindex=perindex"
   ]
  },
  {
   "cell_type": "code",
   "execution_count": 105,
   "metadata": {},
   "outputs": [],
   "source": [
    "tosum1=list(range(0,endindex+1))\n",
    "tosum2=list(range(endindex+1,pivotindex+1))"
   ]
  },
  {
   "cell_type": "code",
   "execution_count": 106,
   "metadata": {},
   "outputs": [
    {
     "data": {
      "text/plain": [
       "44430"
      ]
     },
     "execution_count": 106,
     "metadata": {},
     "output_type": "execute_result"
    }
   ],
   "source": [
    "len(tosum1)"
   ]
  },
  {
   "cell_type": "code",
   "execution_count": 107,
   "metadata": {},
   "outputs": [
    {
     "data": {
      "text/plain": [
       "0"
      ]
     },
     "execution_count": 107,
     "metadata": {},
     "output_type": "execute_result"
    }
   ],
   "source": [
    "len(tosum2)"
   ]
  },
  {
   "cell_type": "code",
   "execution_count": 108,
   "metadata": {},
   "outputs": [
    {
     "data": {
      "text/plain": [
       "(22214, 44429)"
      ]
     },
     "execution_count": 108,
     "metadata": {},
     "output_type": "execute_result"
    }
   ],
   "source": [
    "apindex,perindex"
   ]
  },
  {
   "cell_type": "code",
   "execution_count": 109,
   "metadata": {},
   "outputs": [],
   "source": [
    "revtosum2=tosum2.reverse()"
   ]
  },
  {
   "cell_type": "code",
   "execution_count": 110,
   "metadata": {},
   "outputs": [],
   "source": [
    "xsum=np.zeros(endindex+1)\n",
    "ysum=np.zeros(endindex+1)\n",
    "for index in np.arange(0,pivotindex):\n",
    "    xsum[index]=npstar1x[index,0]+npstar1x[pivotindex+1-index,0]\n",
    "    ysum[index]=npstar1x[index,1]+npstar1x[pivotindex+1-index,1]"
   ]
  },
  {
   "cell_type": "code",
   "execution_count": 111,
   "metadata": {},
   "outputs": [],
   "source": [
    "xsum=xsum/2"
   ]
  },
  {
   "cell_type": "code",
   "execution_count": 112,
   "metadata": {},
   "outputs": [],
   "source": [
    "ysum=ysum/2"
   ]
  },
  {
   "cell_type": "code",
   "execution_count": 113,
   "metadata": {},
   "outputs": [
    {
     "data": {
      "image/png": "[encoded data removed]",
      "text/plain": [
       "<Figure size 432x288 with 1 Axes>"
      ]
     },
     "metadata": {
      "needs_background": "light"
     },
     "output_type": "display_data"
    }
   ],
   "source": [
    "import matplotlib.pyplot as plt\n",
    "b0=np.tan(theta0)\n",
    "plt.plot(xsum,ysum,label=\"Sum of data\")\n",
    "plt.plot(xsum,b0*xsum, color=\"green\", label=\"Line defining perhelion\")\n",
    "plt.xlabel(\"Symmetric X sum\")\n",
    "plt.ylabel(\"Symmetric Y sum\")\n",
    "plt.legend()\n",
    "plt.title(\"Sum of data reflection about perhelion\")\n",
    "plt.show()"
   ]
  },
  {
   "cell_type": "code",
   "execution_count": 114,
   "metadata": {},
   "outputs": [
    {
     "data": {
      "image/png": "[encoded data removed]",
      "text/plain": [
       "<Figure size 432x288 with 1 Axes>"
      ]
     },
     "metadata": {
      "needs_background": "light"
     },
     "output_type": "display_data"
    }
   ],
   "source": [
    "plt.plot(xsum,ysum-np.tan(theta0)*xsum, color=\"green\", label=\"Residual\")\n",
    "plt.xlabel(\"Symmetric X sum\")\n",
    "plt.ylabel(\"Ysum-tan(theta)*Xsum\")\n",
    "plt.title(\"Residuals of data reflected about perihelion\")\n",
    "plt.legend()\n",
    "plt.show()"
   ]
  },
  {
   "cell_type": "markdown",
   "metadata": {},
   "source": [
    "The residual improves substantially from .2 at perihelion with a timestep of dt=1 to .125 at perihelion with a timestep of dt=.3 to .02 at perihelion with a timestep of dt=.1. I think timestep makes all the difference between adjacent pairs of points in resolving perihelion. I think it is difficult to tell how symmetric the orbit is by this method when the limitation is in the resolution of the orbit with timestep. Interpolation would be necessary to get a good picture of orbital shape. "
   ]
  },
  {
   "cell_type": "markdown",
   "metadata": {},
   "source": [
    "In the interest of accomplishing further orbital evolutions, I think I'm going to let the precice numerical characterization of orbital shape question go (the predicted and actual orbits overlap quite nicely) and move on to evolving parabolic and hyperbolic orbits. "
   ]
  },
  {
   "cell_type": "markdown",
   "metadata": {},
   "source": [
    "# Fit t as a function of the eccentric anomoly (angle from the center of the elipse)"
   ]
  },
  {
   "cell_type": "code",
   "execution_count": 115,
   "metadata": {},
   "outputs": [],
   "source": [
    "def findEccentricAnomoly(coordap, coordper):\n",
    "    Ecenter=np.array(coordap)+np.array(coordper)\n",
    "    Ecenter/=2.\n",
    "    return Ecenter\n"
   ]
  },
  {
   "cell_type": "code",
   "execution_count": 116,
   "metadata": {},
   "outputs": [],
   "source": [
    "ellipsecenter=findEccentricAnomoly(coordap,coordper)"
   ]
  },
  {
   "cell_type": "code",
   "execution_count": 117,
   "metadata": {},
   "outputs": [
    {
     "data": {
      "text/plain": [
       "array([ 2.5000000e+01, -1.8913042e-03])"
      ]
     },
     "execution_count": 117,
     "metadata": {},
     "output_type": "execute_result"
    }
   ],
   "source": [
    "ellipsecenter"
   ]
  },
  {
   "cell_type": "code",
   "execution_count": 118,
   "metadata": {},
   "outputs": [],
   "source": [
    "def getEllipsecenter(ecc,rad,theta):\n",
    "    rp=-rad*(1-ecc)\n",
    "    ra=rad*(1+ecc)\n",
    "    rcent=(rp+ra)/2\n",
    "    rcentx=rcent*np.cos(theta)\n",
    "    rcenty=rcent* np.sin(theta)\n",
    "    return [rcentx,rcenty]"
   ]
  },
  {
   "cell_type": "code",
   "execution_count": 119,
   "metadata": {},
   "outputs": [
    {
     "data": {
      "text/plain": [
       "array([ 2.5000000e+01, -1.8913042e-03])"
      ]
     },
     "execution_count": 119,
     "metadata": {},
     "output_type": "execute_result"
    }
   ],
   "source": [
    "(np.array(coordap)+np.array(coordper))/2"
   ]
  },
  {
   "cell_type": "code",
   "execution_count": 120,
   "metadata": {},
   "outputs": [
    {
     "data": {
      "text/plain": [
       "[25.0, 0.0]"
      ]
     },
     "execution_count": 120,
     "metadata": {},
     "output_type": "execute_result"
    }
   ],
   "source": [
    "getEllipsecenter(ecc0,rad0,theta0)"
   ]
  },
  {
   "cell_type": "code",
   "execution_count": 297,
   "metadata": {},
   "outputs": [],
   "source": [
    "def getEang(npstar2x,ecc,rad,theta, useperihelion):\n",
    "    ellipsecenter=getEllipsecenter(ecc,rad,theta)\n",
    "    #print(ellipsecenter)\n",
    "    #print(npstar1x)\n",
    "    #print(npstar1x[:,0])\n",
    "    xfortan=npstar2x[:,0]-ellipsecenter[0]\n",
    "    yfortan=npstar2x[:,1]-ellipsecenter[1]\n",
    "    #print(\"xy\",xfortan,yfortan)\n",
    "    Eang=np.arctan2(yfortan,xfortan)\n",
    "    if useperihelion:\n",
    "        Eang+=math.pi\n",
    "    for i in np.arange(len(npstar2x[:,0])):\n",
    "        if Eang[i]<0:\n",
    "            Eang[i]+=2*math.pi\n",
    "    print(xfortan,yfortan,Eang/math.pi*180)\n",
    "    print(\"Eang\",Eang)\n",
    "    return Eang"
   ]
  },
  {
   "cell_type": "code",
   "execution_count": 298,
   "metadata": {},
   "outputs": [],
   "source": [
    "def xofeccanom(rad,Eang,ecc):\n",
    "    return rad*(np.cos(Eang)+ecc)"
   ]
  },
  {
   "cell_type": "code",
   "execution_count": 299,
   "metadata": {},
   "outputs": [],
   "source": [
    "def yofeccanom(rad, Eang, ecc):\n",
    "    b=getsemiminor(rad,ecc)\n",
    "    return b*np.sin(Eang) "
   ]
  },
  {
   "cell_type": "code",
   "execution_count": 300,
   "metadata": {},
   "outputs": [],
   "source": [
    "def tofEccAnom(npstar2x, rad,ecc,theta,mass, useperihelion):\n",
    "    Eang=getEang(npstar2x,ecc,rad,theta, useperihelion)\n",
    "    b=getsemiminor(rad,ecc)\n",
    "    #fitval=rad*b*(Eang-ecc*np.sin(Eang))\n",
    "    sgn=-1\n",
    "    if useperihelion:\n",
    "        sgn=+1\n",
    "    fitval=2.*rad**(1.5)*mass**(-.5)*(Eang+sgn*ecc*np.sin(Eang))\n",
    "    print(Eang, ecc,rad,mass,fitval)\n",
    "    return fitval"
   ]
  },
  {
   "cell_type": "code",
   "execution_count": 301,
   "metadata": {},
   "outputs": [],
   "source": [
    "def residualtEang(pars,nptimes,npstar2x):\n",
    "    residual= nptimes-tofEccAnom(npstar2x,pars['rad'],pars['ecc'],pars['theta'],pars['mass'])\n",
    "    #print(nptimes, residual)\n",
    "    return residual"
   ]
  },
  {
   "cell_type": "code",
   "execution_count": 302,
   "metadata": {},
   "outputs": [],
   "source": [
    "endindex=apindex\n",
    "if useperihelion:\n",
    "    endindex=perindex"
   ]
  },
  {
   "cell_type": "code",
   "execution_count": 303,
   "metadata": {},
   "outputs": [
    {
     "data": {
      "text/plain": [
       "44429"
      ]
     },
     "execution_count": 303,
     "metadata": {},
     "output_type": "execute_result"
    }
   ],
   "source": [
    "endindex"
   ]
  },
  {
   "cell_type": "code",
   "execution_count": 304,
   "metadata": {},
   "outputs": [
    {
     "name": "stdout",
     "output_type": "stream",
     "text": [
      "[ 0.00000000e+00 -1.99999993e-06 -7.99999894e-06 ... -2.93283133e-05\n",
      " -1.60107970e-05 -6.69327422e-06] [ 0.          0.01224745  0.02449489 ... -0.04690014 -0.0346527\n",
      " -0.02240526] [180.         270.00935636 270.01871272 ...  89.96417093  89.97352728\n",
      "  89.98288364]\n",
      "Eang [3.14159265 4.71255228 4.71271558 ... 1.57017099 1.57033429 1.57049759]\n"
     ]
    }
   ],
   "source": [
    "Eang0=getEang(npstar2x[0:endindex-1,:],ecc0,rad0,theta0, useperihelion)"
   ]
  },
  {
   "cell_type": "code",
   "execution_count": 305,
   "metadata": {},
   "outputs": [
    {
     "name": "stdout",
     "output_type": "stream",
     "text": [
      "[ 0.00000000e+00 -1.99999993e-06 -7.99999894e-06 ... -2.93283133e-05\n",
      " -1.60107970e-05 -6.69327422e-06] [ 0.          0.01224745  0.02449489 ... -0.04690014 -0.0346527\n",
      " -0.02240526] [180.         270.00935636 270.01871272 ...  89.96417093  89.97352728\n",
      "  89.98288364]\n",
      "Eang [3.14159265 4.71255228 4.71271558 ... 1.57017099 1.57033429 1.57049759]\n",
      "[3.14159265 4.71255228 4.71271558 ... 1.57017099 1.57033429 1.57049759] 0.5 50 1.0 [2221.44146908 2978.72428779 2978.83977198 ... 1463.83187719 1463.94737857\n",
      " 1464.06287055]\n"
     ]
    }
   ],
   "source": [
    "Eangtest=tofEccAnom(npstar2x[0:endindex-1,:],rad0,ecc0,theta0,masses[0], useperihelion)"
   ]
  },
  {
   "cell_type": "code",
   "execution_count": 306,
   "metadata": {},
   "outputs": [
    {
     "data": {
      "text/plain": [
       "4442.86498152036"
      ]
     },
     "execution_count": 306,
     "metadata": {},
     "output_type": "execute_result"
    }
   ],
   "source": [
    "np.max(Eangtest)"
   ]
  },
  {
   "cell_type": "code",
   "execution_count": 307,
   "metadata": {},
   "outputs": [
    {
     "data": {
      "text/plain": [
       "0.0"
      ]
     },
     "execution_count": 307,
     "metadata": {},
     "output_type": "execute_result"
    }
   ],
   "source": [
    "nptimes[0]"
   ]
  },
  {
   "cell_type": "code",
   "execution_count": 308,
   "metadata": {},
   "outputs": [],
   "source": [
    "nptimesoneorbit=nptimes[0:endindex-1]"
   ]
  },
  {
   "cell_type": "code",
   "execution_count": 309,
   "metadata": {},
   "outputs": [],
   "source": [
    "tpredoneorbit=Eangtest[0:endindex-1]"
   ]
  },
  {
   "cell_type": "code",
   "execution_count": 310,
   "metadata": {},
   "outputs": [],
   "source": [
    "Eangoneorbit=Eang0[0:endindex-1]"
   ]
  },
  {
   "cell_type": "code",
   "execution_count": 311,
   "metadata": {},
   "outputs": [
    {
     "data": {
      "text/plain": [
       "[<matplotlib.lines.Line2D at 0x7fb3fefca090>]"
      ]
     },
     "execution_count": 311,
     "metadata": {},
     "output_type": "execute_result"
    },
    {
     "data": {
      "image/png": "[encoded data removed]",
      "text/plain": [
       "<Figure size 432x288 with 1 Axes>"
      ]
     },
     "metadata": {
      "needs_background": "light"
     },
     "output_type": "display_data"
    }
   ],
   "source": [
    "plt.plot(nptimesoneorbit,npstar2x[0:endindex-1,1])"
   ]
  },
  {
   "cell_type": "code",
   "execution_count": 312,
   "metadata": {},
   "outputs": [
    {
     "data": {
      "text/plain": [
       "[<matplotlib.lines.Line2D at 0x7fb3ff2b4510>]"
      ]
     },
     "execution_count": 312,
     "metadata": {},
     "output_type": "execute_result"
    },
    {
     "data": {
      "image/png": "[encoded data removed]",
      "text/plain": [
       "<Figure size 432x288 with 1 Axes>"
      ]
     },
     "metadata": {
      "needs_background": "light"
     },
     "output_type": "display_data"
    }
   ],
   "source": [
    "plt.plot(nptimesoneorbit,Eangoneorbit/math.pi*180)"
   ]
  },
  {
   "cell_type": "code",
   "execution_count": 313,
   "metadata": {},
   "outputs": [
    {
     "data": {
      "text/plain": [
       "[<matplotlib.lines.Line2D at 0x7fb41a4ef790>]"
      ]
     },
     "execution_count": 313,
     "metadata": {},
     "output_type": "execute_result"
    },
    {
     "data": {
      "image/png": "[encoded data removed]",
      "text/plain": [
       "<Figure size 432x288 with 1 Axes>"
      ]
     },
     "metadata": {
      "needs_background": "light"
     },
     "output_type": "display_data"
    }
   ],
   "source": [
    "plt.plot(nptimesoneorbit,tpredoneorbit)"
   ]
  },
  {
   "cell_type": "markdown",
   "metadata": {},
   "source": [
    "Range of output is wrong: arctan2 is only giving output in range of pi, not 2 pi. Also need to fix perihelion start so that it doesn't have branch cut. "
   ]
  },
  {
   "cell_type": "code",
   "execution_count": 314,
   "metadata": {},
   "outputs": [],
   "source": [
    "from matplotlib import pyplot as plt"
   ]
  },
  {
   "cell_type": "markdown",
   "metadata": {},
   "source": [
    "Arctan function is giving tangent output. I'm done for today. I'm asking for help on this, either Steve or on a forum. Clearly something really weird is going on. This is a distinct problem from the retrograde motion I had before I fixed the center, which you can tell from the sharply spiked top as opposed to the curved top I had before. Now the center appears to be in the correct location but there is some problem related to tangent versus arctangent. "
   ]
  },
  {
   "cell_type": "code",
   "execution_count": 315,
   "metadata": {},
   "outputs": [
    {
     "data": {
      "text/plain": [
       "<matplotlib.collections.PathCollection at 0x7fb41cbec350>"
      ]
     },
     "execution_count": 315,
     "metadata": {},
     "output_type": "execute_result"
    },
    {
     "data": {
      "image/png": "[encoded data removed]",
      "text/plain": [
       "<Figure size 432x288 with 1 Axes>"
      ]
     },
     "metadata": {
      "needs_background": "light"
     },
     "output_type": "display_data"
    }
   ],
   "source": [
    "plt.scatter(nptimesoneorbit,tpredoneorbit)"
   ]
  },
  {
   "cell_type": "markdown",
   "metadata": {},
   "source": [
    "Retrograde motion as seen from the center of mass. I'm not sure that makes sense. So there's a problem with the definition of the Eang. The problem might be with the ellipse center, which probably shouldn't be at x=-70, if it spans between +5 and -95. "
   ]
  },
  {
   "cell_type": "code",
   "execution_count": 295,
   "metadata": {},
   "outputs": [
    {
     "name": "stdout",
     "output_type": "stream",
     "text": [
      "[ 0.00000000e+00 -1.99999993e-06 -7.99999894e-06 ... -2.93283133e-05\n",
      " -1.60107970e-05 -6.69327422e-06] [ 0.          0.01224745  0.02449489 ... -0.04690014 -0.0346527\n",
      " -0.02240526] [  0.          90.00935636  90.01871272 ... 269.96417093 269.97352728\n",
      " 269.98288364]\n",
      "Eang [0.         1.57095963 1.57112293 ... 4.71176365 4.71192694 4.71209024]\n",
      "[0.         1.57095963 1.57112293 ... 4.71176365 4.71192694 4.71209024] <Parameter 'ecc', value=0.5, bounds=[0:1.0]> <Parameter 'rad', value=50.0, bounds=[0:inf]> <Parameter 'mass', value=1.0 (fixed), bounds=[-inf:inf]> [   0.          757.28281871  757.3983029  ... 3685.27334627 3685.38884765\n",
      " 3685.50433962]\n",
      "[ 0.00000000e+00 -1.99999993e-06 -7.99999894e-06 ... -2.93283133e-05\n",
      " -1.60107970e-05 -6.69327422e-06] [ 0.          0.01224745  0.02449489 ... -0.04690014 -0.0346527\n",
      " -0.02240526] [  0.          90.00935636  90.01871272 ... 269.96417093 269.97352728\n",
      " 269.98288364]\n",
      "Eang [0.         1.57095963 1.57112293 ... 4.71176365 4.71192694 4.71209024]\n",
      "[0.         1.57095963 1.57112293 ... 4.71176365 4.71192694 4.71209024] <Parameter 'ecc', value=0.5, bounds=[0:1.0]> <Parameter 'rad', value=50.0, bounds=[0:inf]> <Parameter 'mass', value=1.0 (fixed), bounds=[-inf:inf]> [   0.          757.28281871  757.3983029  ... 3685.27334627 3685.38884765\n",
      " 3685.50433962]\n",
      "[ 0.00000000e+00 -1.99999993e-06 -7.99999894e-06 ... -2.93283133e-05\n",
      " -1.60107970e-05 -6.69327422e-06] [ 0.          0.01224745  0.02449489 ... -0.04690014 -0.0346527\n",
      " -0.02240526] [  0.          90.00935636  90.01871272 ... 269.96417093 269.97352728\n",
      " 269.98288364]\n",
      "Eang [0.         1.57095963 1.57112293 ... 4.71176365 4.71192694 4.71209024]\n",
      "[0.         1.57095963 1.57112293 ... 4.71176365 4.71192694 4.71209024] <Parameter 'ecc', value=0.5, bounds=[0:1.0]> <Parameter 'rad', value=50.0, bounds=[0:inf]> <Parameter 'mass', value=1.0 (fixed), bounds=[-inf:inf]> [   0.          757.28281871  757.3983029  ... 3685.27334627 3685.38884765\n",
      " 3685.50433962]\n",
      "[ 0.00000000e+00 -1.99999993e-06 -7.99999894e-06 ... -2.93283133e-05\n",
      " -1.60107970e-05 -6.69327422e-06] [-1.74393425e-14  1.22474484e-02  2.44948948e-02 ... -4.69001362e-02\n",
      " -3.46526984e-02 -2.24052551e-02] [270.          90.00935636  90.01871272 ... 269.96417093 269.97352728\n",
      " 269.98288364]\n",
      "Eang [4.71238898 1.57095963 1.57112293 ... 4.71176365 4.71192694 4.71209024]\n",
      "[4.71238898 1.57095963 1.57112293 ... 4.71176365 4.71192694 4.71209024] <Parameter 'ecc', value=0.5, bounds=[0:1.0]> <Parameter 'rad', value=50.0, bounds=[0:inf]> <Parameter 'mass', value=1.0 (fixed), bounds=[-inf:inf]> [3685.71559421  757.28281871  757.3983029  ... 3685.27334627 3685.38884765\n",
      " 3685.50433962]\n",
      "[-3.79833523e-07 -2.37983346e-06 -8.37983246e-06 ... -2.97081468e-05\n",
      " -1.63906305e-05 -7.07310774e-06] [ 0.          0.01224745  0.02449489 ... -0.04690014 -0.0346527\n",
      " -0.02240526] [180.          90.01113329  90.01960119 ... 269.9637069  269.97289926\n",
      " 269.98191231]\n",
      "Eang [3.14159265 1.57099064 1.57113843 ... 4.71175555 4.71191598 4.71207329]\n",
      "[3.14159265 1.57099064 1.57113843 ... 4.71175555 4.71191598 4.71207329] <Parameter 'ecc', value=0.5, bounds=[0:1.0]> <Parameter 'rad', value=50.000000759667046, bounds=[0:inf]> <Parameter 'mass', value=1.0 (fixed), bounds=[-inf:inf]> [2221.44151971  757.30476763  757.40928684 ... 3685.26770176 3685.38117912\n",
      " 3685.49243428]\n",
      "[-3.72529030e-07 -2.37252896e-06 -8.37252797e-06 ... -2.97008423e-05\n",
      " -1.63833260e-05 -7.06580325e-06] [ 0.          0.01224745  0.02449489 ... -0.04690014 -0.0346527\n",
      " -0.02240526] [180.          90.01109912  90.0195841  ... 269.96371583 269.97291133\n",
      " 269.98193099]\n",
      "Eang [3.14159265 1.57099004 1.57113813 ... 4.7117557  4.71191619 4.71207362]\n",
      "[3.14159265 1.57099004 1.57113813 ... 4.7117557  4.71191619 4.71207362] <Parameter 'ecc', value=0.5000000074505806, bounds=[0:1.0]> <Parameter 'rad', value=50.0, bounds=[0:inf]> <Parameter 'mass', value=1.0 (fixed), bounds=[-inf:inf]> [2221.44146908  757.30432334  757.40905341 ... 3685.26773321 3685.38124949\n",
      " 3685.49258612]\n",
      "[0.12461077 0.12460877 0.12460277 ... 0.12458144 0.12459476 0.12460408] [-0.00056273  0.01168472  0.02393217 ... -0.04746286 -0.03521542\n",
      " -0.02296798] [359.74126168   5.35703309  10.8722669  ... 339.14423107 344.21760254\n",
      " 349.55603274]\n",
      "Eang [6.27866947 0.09349787 0.18975685 ... 5.91918347 6.00773051 6.10090369]\n",
      "[6.27866947 0.09349787 0.18975685 ... 5.91918347 6.00773051 6.10090369] <Parameter 'ecc', value=0.4781529191119121, bounds=[0:1.0]> <Parameter 'rad', value=52.02392004681417, bounds=[0:inf]> <Parameter 'mass', value=1.0 (fixed), bounds=[-inf:inf]> [4713.58731619   36.66559165   74.72271066 ... 4569.93581254 4606.23378701\n",
      " 4643.60697871]\n",
      "[0.12461077 0.12460877 0.12460277 ... 0.12458144 0.12459476 0.12460408] [-0.00056273  0.01168472  0.02393216 ... -0.04746287 -0.03521543\n",
      " -0.02296799] [359.7412585    5.35702994  10.87226383 ... 339.14422829 344.21759959\n",
      " 349.55602966]\n",
      "Eang [6.27866942 0.09349781 0.1897568  ... 5.91918342 6.00773046 6.10090364]\n",
      "[6.27866942 0.09349781 0.1897568  ... 5.91918342 6.00773046 6.10090364] <Parameter 'ecc', value=0.4781529191119121, bounds=[0:1.0]> <Parameter 'rad', value=52.02392004681417, bounds=[0:inf]> <Parameter 'mass', value=1.0 (fixed), bounds=[-inf:inf]> [4713.58729442   36.66556999   74.72268932 ... 4569.93579239 4606.23376616\n",
      " 4643.60695734]\n",
      "[0.12461039 0.12460839 0.12460239 ... 0.12458107 0.12459438 0.1246037 ] [-0.00056273  0.01168472  0.02393217 ... -0.04746286 -0.03521542\n",
      " -0.02296798] [359.7412609    5.35704923  10.87229907 ... 339.14417328 344.21755708\n",
      " 349.55600177]\n",
      "Eang [6.27866946 0.09349815 0.18975742 ... 5.91918246 6.00772971 6.10090315]\n",
      "[6.27866946 0.09349815 0.18975742 ... 5.91918246 6.00772971 6.10090315] <Parameter 'ecc', value=0.4781529191119121, bounds=[0:1.0]> <Parameter 'rad', value=52.02392083665112, bounds=[0:inf]> <Parameter 'mass', value=1.0 (fixed), bounds=[-inf:inf]> [4713.58741814   36.66570323   74.72293582 ... 4569.9354979  4606.23357046\n",
      " 4643.60686962]\n",
      "[0.12461076 0.12460876 0.12460276 ... 0.12458143 0.12459474 0.12460406] [-0.00056273  0.01168472  0.02393217 ... -0.04746286 -0.03521542\n",
      " -0.02296798] [359.74126165   5.35703382  10.87226835 ... 339.14422848 344.2176005\n",
      " 349.55603135]\n",
      "Eang [6.27866947 0.09349788 0.18975688 ... 5.91918343 6.00773047 6.10090367]\n",
      "[6.27866947 0.09349788 0.18975688 ... 5.91918343 6.00773047 6.10090367] <Parameter 'ecc', value=0.47815291943725163, bounds=[0:1.0]> <Parameter 'rad', value=52.02392004681417, bounds=[0:inf]> <Parameter 'mass', value=1.0 (fixed), bounds=[-inf:inf]> [4713.58731595   36.66559659   74.72272062 ... 4569.93579386 4606.23377267\n",
      " 4643.60696913]\n",
      "[1.12947542 1.12947342 1.12946742 ... 1.12944609 1.12945941 1.12946872] [-0.43462104 -0.42237359 -0.41012614 ... -0.48152117 -0.46927374\n",
      " -0.45702629] [338.95332365 339.4964047  340.04329984 ... 336.90980405 337.43783551\n",
      " 337.96985888]\n",
      "Eang [5.91585151 5.92533006 5.93487518 ... 5.88018536 5.88940125 5.89868681]\n",
      "[5.91585151 5.92533006 5.93487518 ... 5.88018536 5.88940125 5.89868681] <Parameter 'ecc', value=0.4600841877044957, bounds=[0:1.0]> <Parameter 'rad', value=51.89154846280255, bounds=[0:inf]> <Parameter 'mass', value=1.0 (fixed), bounds=[-inf:inf]> [4546.27513284 4550.31311104 4554.36851055 ... 4530.97922748 4534.94744658\n",
      " 4538.93432982]\n",
      "[1.12464513 1.12464313 1.12463713 ... 1.1246158  1.12462912 1.12463843] [-0.01844543 -0.00619798  0.00604947 ... -0.06534557 -0.05309813\n",
      " -0.04085068] [3.59060370e+02 3.59684242e+02 3.08193186e-01 ... 3.56674580e+02\n",
      " 3.57296850e+02 3.57919737e+02]\n",
      "Eang [6.26678567e+00 6.27767430e+00 5.37898583e-03 ... 6.22514577e+00\n",
      " 6.23600644e+00 6.24687788e+00]\n",
      "[6.26678567e+00 6.27767430e+00 5.37898583e-03 ... 6.22514577e+00\n",
      " 6.23600644e+00 6.24687788e+00] <Parameter 'ecc', value=0.4601328016016419, bounds=[0:1.0]> <Parameter 'rad', value=51.88798084987419, bounds=[0:inf]> <Parameter 'mass', value=1.0 (fixed), bounds=[-inf:inf]> [4.69026738e+03 4.69466193e+03 2.17079733e+00 ... 4.67345189e+03\n",
      " 4.67784010e+03 4.68223074e+03]\n",
      "[1.12464513 1.12464313 1.12463713 ... 1.1246158  1.12462912 1.12463843] [-0.01844539 -0.00619794  0.00604951 ... -0.06534553 -0.05309809\n",
      " -0.04085064] [3.59060372e+02 3.59684244e+02 3.08195198e-01 ... 3.56674582e+02\n",
      " 3.57296852e+02 3.57919739e+02]\n",
      "Eang [6.26678570e+00 6.27767433e+00 5.37902094e-03 ... 6.22514581e+00\n",
      " 6.23600648e+00 6.24687791e+00]\n",
      "[6.26678570e+00 6.27767433e+00 5.37902094e-03 ... 6.22514581e+00\n",
      " 6.23600648e+00 6.24687791e+00] <Parameter 'ecc', value=0.4601328016016419, bounds=[0:1.0]> <Parameter 'rad', value=51.88798084987419, bounds=[0:inf]> <Parameter 'mass', value=1.0 (fixed), bounds=[-inf:inf]> [4.69026740e+03 4.69466195e+03 2.17081150e+00 ... 4.67345190e+03\n",
      " 4.67784011e+03 4.68223075e+03]\n",
      "[1.12464476 1.12464276 1.12463676 ... 1.12461544 1.12462875 1.12463807] [-0.01844543 -0.00619798  0.00604947 ... -0.06534557 -0.05309813\n",
      " -0.04085068] [3.59060370e+02 3.59684242e+02 3.08193271e-01 ... 3.56674579e+02\n",
      " 3.57296849e+02 3.57919737e+02]\n",
      "Eang [6.26678566e+00 6.27767430e+00 5.37898732e-03 ... 6.22514576e+00\n",
      " 6.23600643e+00 6.24687786e+00]\n",
      "[6.26678566e+00 6.27767430e+00 5.37898732e-03 ... 6.22514576e+00\n",
      " 6.23600643e+00 6.24687786e+00] <Parameter 'ecc', value=0.4601328016016419, bounds=[0:1.0]> <Parameter 'rad', value=51.88798163768477, bounds=[0:inf]> <Parameter 'mass', value=1.0 (fixed), bounds=[-inf:inf]> [4.69026749e+03 4.69466204e+03 2.17079798e+00 ... 4.67345199e+03\n",
      " 4.67784020e+03 4.68223084e+03]\n",
      "[1.1246451  1.1246431  1.1246371  ... 1.12461577 1.12462909 1.1246384 ] [-0.01844543 -0.00619798  0.00604947 ... -0.06534557 -0.05309813\n",
      " -0.04085068] [3.59060370e+02 3.59684242e+02 3.08193194e-01 ... 3.56674580e+02\n",
      " 3.57296850e+02 3.57919737e+02]\n",
      "Eang [6.26678567e+00 6.27767430e+00 5.37898596e-03 ... 6.22514577e+00\n",
      " 6.23600644e+00 6.24687787e+00]\n",
      "[6.26678567e+00 6.27767430e+00 5.37898596e-03 ... 6.22514577e+00\n",
      " 6.23600644e+00 6.24687787e+00] <Parameter 'ecc', value=0.4601328021944473, bounds=[0:1.0]> <Parameter 'rad', value=51.88798084987419, bounds=[0:inf]> <Parameter 'mass', value=1.0 (fixed), bounds=[-inf:inf]> [4.69026738e+03 4.69466193e+03 2.17079738e+00 ... 4.67345189e+03\n",
      " 4.67784010e+03 4.68223074e+03]\n",
      "[3.59085949 3.59085749 3.59085149 ... 3.59083016 3.59084347 3.59085279] [-0.01417471 -0.00192726  0.01032019 ... -0.06107484 -0.04882741\n",
      " -0.03657996] [3.59773829e+02 3.59969249e+02 1.64668883e-01 ... 3.59025575e+02\n",
      " 3.59220954e+02 3.59416349e+02]\n",
      "Eang [6.27923789e+00 6.28264859e+00 2.87401418e-03 ... 6.26617839e+00\n",
      " 6.26958839e+00 6.27299867e+00]\n",
      "[6.27923789e+00 6.28264859e+00 2.87401418e-03 ... 6.26617839e+00\n",
      " 6.26958839e+00 6.27299867e+00] <Parameter 'ecc', value=0.41500054147448895, bounds=[0:1.0]> <Parameter 'rad', value=51.588234393248335, bounds=[0:inf]> <Parameter 'mass', value=1.0 (fixed), bounds=[-inf:inf]> [4.65453410e+03 4.65601272e+03 1.24595050e+00 ... 4.64887226e+03\n",
      " 4.65035070e+03 4.65182921e+03]\n",
      "[3.59085949 3.59085749 3.59085149 ... 3.59083016 3.59084347 3.59085279] [-0.01417468 -0.00192723  0.01032022 ... -0.06107481 -0.04882737\n",
      " -0.03657993] [3.59773830e+02 3.59969249e+02 1.64669405e-01 ... 3.59025576e+02\n",
      " 3.59220955e+02 3.59416349e+02]\n",
      "Eang [6.27923790e+00 6.28264860e+00 2.87402330e-03 ... 6.26617840e+00\n",
      " 6.26958840e+00 6.27299868e+00]\n",
      "[6.27923790e+00 6.28264860e+00 2.87402330e-03 ... 6.26617840e+00\n",
      " 6.26958840e+00 6.27299868e+00] <Parameter 'ecc', value=0.41500054147448895, bounds=[0:1.0]> <Parameter 'rad', value=51.588234393248335, bounds=[0:inf]> <Parameter 'mass', value=1.0 (fixed), bounds=[-inf:inf]> [4.65453410e+03 4.65601272e+03 1.24595445e+00 ... 4.64887227e+03\n",
      " 4.65035070e+03 4.65182921e+03]\n",
      "[3.59085916 3.59085716 3.59085116 ... 3.59082983 3.59084315 3.59085247] [-0.01417471 -0.00192726  0.01032019 ... -0.06107484 -0.04882741\n",
      " -0.03657996] [3.59773829e+02 3.59969249e+02 1.64668895e-01 ... 3.59025575e+02\n",
      " 3.59220954e+02 3.59416349e+02]\n",
      "Eang [6.27923789e+00 6.28264859e+00 2.87401438e-03 ... 6.26617839e+00\n",
      " 6.26958839e+00 6.27299867e+00]\n",
      "[6.27923789e+00 6.28264859e+00 2.87401438e-03 ... 6.26617839e+00\n",
      " 6.26958839e+00 6.27299867e+00] <Parameter 'ecc', value=0.41500054147448895, bounds=[0:1.0]> <Parameter 'rad', value=51.588235176590736, bounds=[0:inf]> <Parameter 'mass', value=1.0 (fixed), bounds=[-inf:inf]> [4.65453420e+03 4.65601282e+03 1.24595061e+00 ... 4.64887237e+03\n",
      " 4.65035081e+03 4.65182931e+03]\n"
     ]
    },
    {
     "name": "stdout",
     "output_type": "stream",
     "text": [
      "[3.59085942 3.59085742 3.59085142 ... 3.59083009 3.59084341 3.59085273] [-0.01417471 -0.00192726  0.01032019 ... -0.06107484 -0.04882741\n",
      " -0.03657996] [3.59773829e+02 3.59969249e+02 1.64668885e-01 ... 3.59025575e+02\n",
      " 3.59220954e+02 3.59416349e+02]\n",
      "Eang [6.27923789e+00 6.28264859e+00 2.87401422e-03 ... 6.26617839e+00\n",
      " 6.26958839e+00 6.27299867e+00]\n",
      "[6.27923789e+00 6.28264859e+00 2.87401422e-03 ... 6.26617839e+00\n",
      " 6.26958839e+00 6.27299867e+00] <Parameter 'ecc', value=0.4150005427287348, bounds=[0:1.0]> <Parameter 'rad', value=51.588234393248335, bounds=[0:inf]> <Parameter 'mass', value=1.0 (fixed), bounds=[-inf:inf]> [4.65453410e+03 4.65601272e+03 1.24595051e+00 ... 4.64887226e+03\n",
      " 4.65035070e+03 4.65182921e+03]\n",
      "[8.12904151 8.12903951 8.12903351 ... 8.12901218 8.12902549 8.12903481] [-0.00727371  0.00497374  0.01722118 ... -0.05417385 -0.04192641\n",
      " -0.02967897] [3.59948733e+02 3.50563013e-02 1.21379695e-01 ... 3.59618172e+02\n",
      " 3.59704493e+02 3.59790815e+02]\n",
      "Eang [6.28229053e+00 6.11847882e-04 2.11847532e-03 ... 6.27652115e+00\n",
      " 6.27802773e+00 6.27953434e+00]\n",
      "[6.28229053e+00 6.11847882e-04 2.11847532e-03 ... 6.27652115e+00\n",
      " 6.27802773e+00 6.27953434e+00] <Parameter 'ecc', value=0.3270405874435947, bounds=[0:1.0]> <Parameter 'rad', value=51.586747060483845, bounds=[0:inf]> <Parameter 'mass', value=1.0 (fixed), bounds=[-inf:inf]> [4.65559782e+03 3.05119214e-01 1.05645171e+00 ... 4.65272070e+03\n",
      " 4.65347202e+03 4.65422335e+03]\n",
      "[8.12904151 8.12903951 8.12903351 ... 8.12901218 8.12902549 8.12903481] [-0.00727369  0.00497376  0.0172212  ... -0.05417383 -0.04192639\n",
      " -0.02967895] [3.59948733e+02 3.50564477e-02 1.21379841e-01 ... 3.59618172e+02\n",
      " 3.59704493e+02 3.59790815e+02]\n",
      "Eang [6.28229053e+00 6.11850437e-04 2.11847788e-03 ... 6.27652115e+00\n",
      " 6.27802774e+00 6.27953434e+00]\n",
      "[6.28229053e+00 6.11850437e-04 2.11847788e-03 ... 6.27652115e+00\n",
      " 6.27802774e+00 6.27953434e+00] <Parameter 'ecc', value=0.3270405874435947, bounds=[0:1.0]> <Parameter 'rad', value=51.586747060483845, bounds=[0:inf]> <Parameter 'mass', value=1.0 (fixed), bounds=[-inf:inf]> [4.65559782e+03 3.05120488e-01 1.05645298e+00 ... 4.65272071e+03\n",
      " 4.65347202e+03 4.65422335e+03]\n",
      "[8.12904125 8.12903925 8.12903325 ... 8.12901192 8.12902524 8.12903456] [-0.00727371  0.00497374  0.01722118 ... -0.05417385 -0.04192641\n",
      " -0.02967897] [3.59948733e+02 3.50563017e-02 1.21379698e-01 ... 3.59618172e+02\n",
      " 3.59704493e+02 3.59790815e+02]\n",
      "Eang [6.28229053e+00 6.11847888e-04 2.11847538e-03 ... 6.27652115e+00\n",
      " 6.27802773e+00 6.27953434e+00]\n",
      "[6.28229053e+00 6.11847888e-04 2.11847538e-03 ... 6.27652115e+00\n",
      " 6.27802773e+00 6.27953434e+00] <Parameter 'ecc', value=0.3270405874435947, bounds=[0:1.0]> <Parameter 'rad', value=51.586747843804076, bounds=[0:inf]> <Parameter 'mass', value=1.0 (fixed), bounds=[-inf:inf]> [4.65559792e+03 3.05119223e-01 1.05645176e+00 ... 4.65272081e+03\n",
      " 4.65347213e+03 4.65422345e+03]\n",
      "[8.12904138 8.12903938 8.12903338 ... 8.12901205 8.12902537 8.12903468] [-0.00727371  0.00497374  0.01722118 ... -0.05417385 -0.04192641\n",
      " -0.02967897] [3.59948733e+02 3.50563015e-02 1.21379697e-01 ... 3.59618172e+02\n",
      " 3.59704493e+02 3.59790815e+02]\n",
      "Eang [6.28229053e+00 6.11847885e-04 2.11847535e-03 ... 6.27652115e+00\n",
      " 6.27802773e+00 6.27953434e+00]\n",
      "[6.28229053e+00 6.11847885e-04 2.11847535e-03 ... 6.27652115e+00\n",
      " 6.27802773e+00 6.27953434e+00] <Parameter 'ecc', value=0.32704058991280494, bounds=[0:1.0]> <Parameter 'rad', value=51.586747060483845, bounds=[0:inf]> <Parameter 'mass', value=1.0 (fixed), bounds=[-inf:inf]> [4.65559782e+03 3.05119214e-01 1.05645172e+00 ... 4.65272070e+03\n",
      " 4.65347202e+03 4.65422335e+03]\n",
      "[16.17701388 16.17701188 16.17700588 ... 16.17698456 16.17699787\n",
      " 16.17700719] [-0.00096378  0.01128366  0.02353111 ... -0.04786392 -0.03561648\n",
      " -0.02336904] [3.59996586e+02 3.99645011e-02 8.33425149e-02 ... 3.59830476e+02\n",
      " 3.59873854e+02 3.59917232e+02]\n",
      "Eang [6.28312573e+00 6.97512129e-04 1.45460129e-03 ... 6.28022655e+00\n",
      " 6.28098364e+00 6.28174072e+00]\n",
      "[6.28312573e+00 6.97512129e-04 1.45460129e-03 ... 6.28022655e+00\n",
      " 6.28098364e+00 6.28174072e+00] <Parameter 'ecc', value=0.17105441755089196, bounds=[0:1.0]> <Parameter 'rad', value=51.57999597802413, bounds=[0:inf]> <Parameter 'mass', value=1.0 (fixed), bounds=[-inf:inf]> [4.65509348e+03 4.28380550e-01 8.93350683e-01 ... 4.65331293e+03\n",
      " 4.65377790e+03 4.65424287e+03]\n",
      "[16.17701388 16.17701188 16.17700588 ... 16.17698456 16.17699787\n",
      " 16.17700719] [-0.00096378  0.01128367  0.02353112 ... -0.04786392 -0.03561648\n",
      " -0.02336903] [3.59996586e+02 3.99645204e-02 8.33425342e-02 ... 3.59830476e+02\n",
      " 3.59873854e+02 3.59917232e+02]\n",
      "Eang [6.28312573e+00 6.97512465e-04 1.45460163e-03 ... 6.28022655e+00\n",
      " 6.28098364e+00 6.28174072e+00]\n",
      "[6.28312573e+00 6.97512465e-04 1.45460163e-03 ... 6.28022655e+00\n",
      " 6.28098364e+00 6.28174072e+00] <Parameter 'ecc', value=0.17105441755089196, bounds=[0:1.0]> <Parameter 'rad', value=51.57999597802413, bounds=[0:inf]> <Parameter 'mass', value=1.0 (fixed), bounds=[-inf:inf]> [4.65509348e+03 4.28380757e-01 8.93350889e-01 ... 4.65331293e+03\n",
      " 4.65377790e+03 4.65424287e+03]\n",
      "[16.17701375 16.17701175 16.17700575 ... 16.17698442 16.17699774\n",
      " 16.17700706] [-0.00096378  0.01128366  0.02353111 ... -0.04786392 -0.03561648\n",
      " -0.02336904] [3.59996586e+02 3.99645014e-02 8.33425155e-02 ... 3.59830476e+02\n",
      " 3.59873854e+02 3.59917232e+02]\n",
      "Eang [6.28312573e+00 6.97512134e-04 1.45460130e-03 ... 6.28022655e+00\n",
      " 6.28098364e+00 6.28174072e+00]\n",
      "[6.28312573e+00 6.97512134e-04 1.45460130e-03 ... 6.28022655e+00\n",
      " 6.28098364e+00 6.28174072e+00] <Parameter 'ecc', value=0.17105441755089196, bounds=[0:1.0]> <Parameter 'rad', value=51.57999676124372, bounds=[0:inf]> <Parameter 'mass', value=1.0 (fixed), bounds=[-inf:inf]> [4.65509358e+03 4.28380563e-01 8.93350710e-01 ... 4.65331304e+03\n",
      " 4.65377801e+03 4.65424298e+03]\n",
      "[16.17701368 16.17701168 16.17700568 ... 16.17698435 16.17699766\n",
      " 16.17700698] [-0.00096378  0.01128366  0.02353111 ... -0.04786392 -0.03561648\n",
      " -0.02336904] [3.59996586e+02 3.99645016e-02 8.33425159e-02 ... 3.59830476e+02\n",
      " 3.59873854e+02 3.59917232e+02]\n",
      "Eang [6.28312573e+00 6.97512136e-04 1.45460131e-03 ... 6.28022655e+00\n",
      " 6.28098364e+00 6.28174072e+00]\n",
      "[6.28312573e+00 6.97512136e-04 1.45460131e-03 ... 6.28022655e+00\n",
      " 6.28098364e+00 6.28174072e+00] <Parameter 'ecc', value=0.1710544215797678, bounds=[0:1.0]> <Parameter 'rad', value=51.57999597802413, bounds=[0:inf]> <Parameter 'mass', value=1.0 (fixed), bounds=[-inf:inf]> [4.65509348e+03 4.28380553e-01 8.93350689e-01 ... 4.65331293e+03\n",
      " 4.65377790e+03 4.65424287e+03]\n",
      "[24.80516572 24.80516372 24.80515772 ... 24.80513639 24.80514971\n",
      " 24.80515902] [-1.61532214e-08  1.22474322e-02  2.44948787e-02 ... -4.69001523e-02\n",
      " -3.46527146e-02 -2.24052713e-02] [3.60000000e+02 2.82895178e-02 5.65790682e-02 ... 3.59891669e+02\n",
      " 3.59919958e+02 3.59948248e+02]\n",
      "Eang [6.28318531e+00 4.93745229e-04 9.87491028e-04 ... 6.28129457e+00\n",
      " 6.28178831e+00 6.28228206e+00]\n",
      "[6.28318531e+00 4.93745229e-04 9.87491028e-04 ... 6.28129457e+00\n",
      " 6.28178831e+00 6.28228206e+00] <Parameter 'ecc', value=0.003775136982274385, bounds=[0:1.0]> <Parameter 'rad', value=51.60985799920549, bounds=[0:inf]> <Parameter 'mass', value=1.0 (fixed), bounds=[-inf:inf]> [4.65917325e+03 3.64744944e-01 7.29490309e-01 ... 4.65777650e+03\n",
      " 4.65814125e+03 4.65850599e+03]\n",
      "[24.80516572 24.80516372 24.80515772 ... 24.80513639 24.80514971\n",
      " 24.80515902] [-1.61565125e-08  1.22474322e-02  2.44948787e-02 ... -4.69001523e-02\n",
      " -3.46527146e-02 -2.24052713e-02] [3.60000000e+02 2.82895178e-02 5.65790682e-02 ... 3.59891669e+02\n",
      " 3.59919958e+02 3.59948248e+02]\n",
      "Eang [6.28318531e+00 4.93745229e-04 9.87491028e-04 ... 6.28129457e+00\n",
      " 6.28178831e+00 6.28228206e+00]\n",
      "[6.28318531e+00 4.93745229e-04 9.87491028e-04 ... 6.28129457e+00\n",
      " 6.28178831e+00 6.28228206e+00] <Parameter 'ecc', value=0.003775136982274385, bounds=[0:1.0]> <Parameter 'rad', value=51.60985799920549, bounds=[0:inf]> <Parameter 'mass', value=1.0 (fixed), bounds=[-inf:inf]> [4.65917325e+03 3.64744944e-01 7.29490309e-01 ... 4.65777650e+03\n",
      " 4.65814125e+03 4.65850599e+03]\n",
      "[24.80516571 24.80516371 24.80515771 ... 24.80513639 24.8051497\n",
      " 24.80515902] [-1.61532216e-08  1.22474322e-02  2.44948787e-02 ... -4.69001523e-02\n",
      " -3.46527146e-02 -2.24052713e-02] [3.60000000e+02 2.82895178e-02 5.65790682e-02 ... 3.59891669e+02\n",
      " 3.59919958e+02 3.59948248e+02]\n",
      "Eang [6.28318531e+00 4.93745229e-04 9.87491028e-04 ... 6.28129457e+00\n",
      " 6.28178831e+00 6.28228206e+00]\n",
      "[6.28318531e+00 4.93745229e-04 9.87491028e-04 ... 6.28129457e+00\n",
      " 6.28178831e+00 6.28228206e+00] <Parameter 'ecc', value=0.003775136982274385, bounds=[0:1.0]> <Parameter 'rad', value=51.60985878287022, bounds=[0:inf]> <Parameter 'mass', value=1.0 (fixed), bounds=[-inf:inf]> [4.65917336e+03 3.64744952e-01 7.29490326e-01 ... 4.65777661e+03\n",
      " 4.65814136e+03 4.65850610e+03]\n"
     ]
    },
    {
     "name": "stdout",
     "output_type": "stream",
     "text": [
      "[24.80516565 24.80516365 24.80515765 ... 24.80513632 24.80514964\n",
      " 24.80515895] [-1.61532270e-08  1.22474322e-02  2.44948787e-02 ... -4.69001523e-02\n",
      " -3.46527146e-02 -2.24052713e-02] [3.60000000e+02 2.82895179e-02 5.65790684e-02 ... 3.59891669e+02\n",
      " 3.59919958e+02 3.59948248e+02]\n",
      "Eang [6.28318531e+00 4.93745230e-04 9.87491031e-04 ... 6.28129457e+00\n",
      " 6.28178831e+00 6.28228206e+00]\n",
      "[6.28318531e+00 4.93745230e-04 9.87491031e-04 ... 6.28129457e+00\n",
      " 6.28178831e+00 6.28228206e+00] <Parameter 'ecc', value=0.0037751383053484244, bounds=[0:1.0]> <Parameter 'rad', value=51.60985799920549, bounds=[0:inf]> <Parameter 'mass', value=1.0 (fixed), bounds=[-inf:inf]> [4.65917325e+03 3.64744944e-01 7.29490310e-01 ... 4.65777650e+03\n",
      " 4.65814125e+03 4.65850599e+03]\n",
      "[20.18584691 20.18584491 20.18583891 ... 20.18581758 20.1858309\n",
      " 20.18584021] [-2.89765702e-07  1.22471586e-02  2.44946050e-02 ... -4.69004260e-02\n",
      " -3.46529882e-02 -2.24055449e-02] [3.59999999e+02 3.47624990e-02 6.95258100e-02 ... 3.59866877e+02\n",
      " 3.59901641e+02 3.59936404e+02]\n",
      "Eang [6.28318529e+00 6.06720064e-04 1.21345430e-03 ... 6.28086188e+00\n",
      " 6.28146861e+00 6.28207534e+00]\n",
      "[6.28318529e+00 6.06720064e-04 1.21345430e-03 ... 6.28086188e+00\n",
      " 6.28146861e+00 6.28207534e+00] <Parameter 'ecc', value=0.09280307457653625, bounds=[0:1.0]> <Parameter 'rad', value=51.87493103858764, bounds=[0:inf]> <Parameter 'mass', value=1.0 (fixed), bounds=[-inf:inf]> [4.69511422e+03 4.11297646e-01 8.22604915e-01 ... 4.69353916e+03\n",
      " 4.69395047e+03 4.69436178e+03]\n",
      "[24.98879455 24.98879255 24.98878655 ... 24.98876523 24.98877854\n",
      " 24.98878786] [-8.75332012e-10  1.22474475e-02  2.44948939e-02 ... -4.69001371e-02\n",
      " -3.46526993e-02 -2.24052560e-02] [3.60000000e+02 2.80816688e-02 5.61633351e-02 ... 3.59892465e+02\n",
      " 3.59920546e+02 3.59948628e+02]\n",
      "Eang [6.28318531e+00 4.90117580e-04 9.80235116e-04 ... 6.28130846e+00\n",
      " 6.28179858e+00 6.28228870e+00]\n",
      "[6.28318531e+00 4.90117580e-04 9.80235116e-04 ... 6.28130846e+00\n",
      " 6.28179858e+00 6.28228870e+00] <Parameter 'ecc', value=0.00021591078804927832, bounds=[0:1.0]> <Parameter 'rad', value=51.898499171697594, bounds=[0:inf]> <Parameter 'mass', value=1.0 (fixed), bounds=[-inf:inf]> [4.69831426e+03 3.66411162e-01 7.32822292e-01 ... 4.69691113e+03\n",
      " 4.69727754e+03 4.69764395e+03]\n",
      "[24.98879455 24.98879255 24.98878655 ... 24.98876523 24.98877854\n",
      " 24.98878786] [-8.75515749e-10  1.22474475e-02  2.44948939e-02 ... -4.69001371e-02\n",
      " -3.46526993e-02 -2.24052560e-02] [3.60000000e+02 2.80816688e-02 5.61633351e-02 ... 3.59892465e+02\n",
      " 3.59920546e+02 3.59948628e+02]\n",
      "Eang [6.28318531e+00 4.90117580e-04 9.80235116e-04 ... 6.28130846e+00\n",
      " 6.28179858e+00 6.28228870e+00]\n",
      "[6.28318531e+00 4.90117580e-04 9.80235116e-04 ... 6.28130846e+00\n",
      " 6.28179858e+00 6.28228870e+00] <Parameter 'ecc', value=0.00021591078804927832, bounds=[0:1.0]> <Parameter 'rad', value=51.898499171697594, bounds=[0:inf]> <Parameter 'mass', value=1.0 (fixed), bounds=[-inf:inf]> [4.69831426e+03 3.66411162e-01 7.32822292e-01 ... 4.69691113e+03\n",
      " 4.69727754e+03 4.69764395e+03]\n",
      "[24.98879455 24.98879255 24.98878655 ... 24.98876523 24.98877854\n",
      " 24.98878786] [-8.75332025e-10  1.22474475e-02  2.44948939e-02 ... -4.69001371e-02\n",
      " -3.46526993e-02 -2.24052560e-02] [3.60000000e+02 2.80816688e-02 5.61633351e-02 ... 3.59892465e+02\n",
      " 3.59920546e+02 3.59948628e+02]\n",
      "Eang [6.28318531e+00 4.90117580e-04 9.80235116e-04 ... 6.28130846e+00\n",
      " 6.28179858e+00 6.28228870e+00]\n",
      "[6.28318531e+00 4.90117580e-04 9.80235116e-04 ... 6.28130846e+00\n",
      " 6.28179858e+00 6.28228870e+00] <Parameter 'ecc', value=0.00021591078804927832, bounds=[0:1.0]> <Parameter 'rad', value=51.89849995966496, bounds=[0:inf]> <Parameter 'mass', value=1.0 (fixed), bounds=[-inf:inf]> [4.69831437e+03 3.66411171e-01 7.32822309e-01 ... 4.69691124e+03\n",
      " 4.69727765e+03 4.69764406e+03]\n",
      "[24.98879457 24.98879257 24.98878657 ... 24.98876524 24.98877856\n",
      " 24.98878788] [-8.75330591e-10  1.22474475e-02  2.44948939e-02 ... -4.69001371e-02\n",
      " -3.46526993e-02 -2.24052560e-02] [3.60000000e+02 2.80816688e-02 5.61633351e-02 ... 3.59892465e+02\n",
      " 3.59920546e+02 3.59948628e+02]\n",
      "Eang [6.28318531e+00 4.90117580e-04 9.80235116e-04 ... 6.28130846e+00\n",
      " 6.28179858e+00 6.28228870e+00]\n",
      "[6.28318531e+00 4.90117580e-04 9.80235116e-04 ... 6.28130846e+00\n",
      " 6.28179858e+00 6.28228870e+00] <Parameter 'ecc', value=0.00021591043771673757, bounds=[0:1.0]> <Parameter 'rad', value=51.898499171697594, bounds=[0:inf]> <Parameter 'mass', value=1.0 (fixed), bounds=[-inf:inf]> [4.69831426e+03 3.66411162e-01 7.32822292e-01 ... 4.69691113e+03\n",
      " 4.69727754e+03 4.69764395e+03]\n",
      "[24.83319831 24.83319631 24.83319031 ... 24.83316899 24.8331823\n",
      " 24.83319162] [-1.28656284e-08  1.22474355e-02  2.44948819e-02 ... -4.69001491e-02\n",
      " -3.46527113e-02 -2.24052680e-02] [3.60000000e+02 2.82575911e-02 5.65152074e-02 ... 3.59891791e+02\n",
      " 3.59920048e+02 3.59948306e+02]\n",
      "Eang [6.28318531e+00 4.93188004e-04 9.86376446e-04 ... 6.28129670e+00\n",
      " 6.28178989e+00 6.28228308e+00]\n",
      "[6.28318531e+00 4.93188004e-04 9.86376446e-04 ... 6.28129670e+00\n",
      " 6.28178989e+00 6.28228308e+00] <Parameter 'ecc', value=0.003213645097373541, bounds=[0:1.0]> <Parameter 'rad', value=51.90420253173889, bounds=[0:inf]> <Parameter 'mass', value=1.0 (fixed), bounds=[-inf:inf]> [4.69908876e+03 3.67661681e-01 7.35323689e-01 ... 4.69768084e+03\n",
      " 4.69804850e+03 4.69841616e+03]\n",
      "[24.9999999  24.9999979  24.9999919  ... 24.99997057 24.99998389\n",
      " 24.99999321] [-7.67219435e-15  1.22474484e-02  2.44948948e-02 ... -4.69001362e-02\n",
      " -3.46526984e-02 -2.24052551e-02] [3.60000000e+02 2.80690842e-02 5.61381639e-02 ... 3.59892513e+02\n",
      " 3.59920582e+02 3.59948651e+02]\n",
      "Eang [6.28318531e+00 4.89897937e-04 9.79795796e-04 ... 6.28130930e+00\n",
      " 6.28179920e+00 6.28228910e+00]\n",
      "[6.28318531e+00 4.89897937e-04 9.79795796e-04 ... 6.28130930e+00\n",
      " 6.28179920e+00 6.28228910e+00] <Parameter 'ecc', value=1.8971308968218636e-09, bounds=[0:1.0]> <Parameter 'rad', value=51.905314790206724, bounds=[0:inf]> <Parameter 'mass', value=1.0 (fixed), bounds=[-inf:inf]> [4.69923981e+03 3.66398215e-01 7.32796372e-01 ... 4.69783673e+03\n",
      " 4.69820312e+03 4.69856952e+03]\n",
      "[24.9999999  24.9999979  24.9999919  ... 24.99997057 24.99998389\n",
      " 24.99999321] [-7.67380686e-15  1.22474484e-02  2.44948948e-02 ... -4.69001362e-02\n",
      " -3.46526984e-02 -2.24052551e-02] [3.60000000e+02 2.80690842e-02 5.61381639e-02 ... 3.59892513e+02\n",
      " 3.59920582e+02 3.59948651e+02]\n",
      "Eang [6.28318531e+00 4.89897937e-04 9.79795796e-04 ... 6.28130930e+00\n",
      " 6.28179920e+00 6.28228910e+00]\n",
      "[6.28318531e+00 4.89897937e-04 9.79795796e-04 ... 6.28130930e+00\n",
      " 6.28179920e+00 6.28228910e+00] <Parameter 'ecc', value=1.8971308968218636e-09, bounds=[0:1.0]> <Parameter 'rad', value=51.905314790206724, bounds=[0:inf]> <Parameter 'mass', value=1.0 (fixed), bounds=[-inf:inf]> [4.69923981e+03 3.66398215e-01 7.32796372e-01 ... 4.69783673e+03\n",
      " 4.69820312e+03 4.69856952e+03]\n",
      "[24.9999999  24.9999979  24.9999919  ... 24.99997057 24.99998389\n",
      " 24.99999321] [-7.67219435e-15  1.22474484e-02  2.44948948e-02 ... -4.69001362e-02\n",
      " -3.46526984e-02 -2.24052551e-02] [3.60000000e+02 2.80690842e-02 5.61381639e-02 ... 3.59892513e+02\n",
      " 3.59920582e+02 3.59948651e+02]\n",
      "Eang [6.28318531e+00 4.89897937e-04 9.79795796e-04 ... 6.28130930e+00\n",
      " 6.28179920e+00 6.28228910e+00]\n",
      "[6.28318531e+00 4.89897937e-04 9.79795796e-04 ... 6.28130930e+00\n",
      " 6.28179920e+00 6.28228910e+00] <Parameter 'ecc', value=1.8971308968218636e-09, bounds=[0:1.0]> <Parameter 'rad', value=51.90531557827569, bounds=[0:inf]> <Parameter 'mass', value=1.0 (fixed), bounds=[-inf:inf]> [4.69923991e+03 3.66398224e-01 7.32796389e-01 ... 4.69783683e+03\n",
      " 4.69820323e+03 4.69856963e+03]\n",
      "[24.9999999  24.9999979  24.9999919  ... 24.99997057 24.99998389\n",
      " 24.99999321] [-7.67631760e-15  1.22474484e-02  2.44948948e-02 ... -4.69001362e-02\n",
      " -3.46526984e-02 -2.24052551e-02] [3.60000000e+02 2.80690842e-02 5.61381639e-02 ... 3.59892513e+02\n",
      " 3.59920582e+02 3.59948651e+02]\n",
      "Eang [6.28318531e+00 4.89897937e-04 9.79795796e-04 ... 6.28130930e+00\n",
      " 6.28179920e+00 6.28228910e+00]\n",
      "[6.28318531e+00 4.89897937e-04 9.79795796e-04 ... 6.28130930e+00\n",
      " 6.28179920e+00 6.28228910e+00] <Parameter 'ecc', value=1.898150470136528e-09, bounds=[0:1.0]> <Parameter 'rad', value=51.905314790206724, bounds=[0:inf]> <Parameter 'mass', value=1.0 (fixed), bounds=[-inf:inf]> [4.69923981e+03 3.66398215e-01 7.32796372e-01 ... 4.69783673e+03\n",
      " 4.69820312e+03 4.69856952e+03]\n",
      "[24.98771964 24.98771764 24.98771164 ... 24.98769031 24.98770363\n",
      " 24.98771294] [-9.56801141e-10  1.22474474e-02  2.44948939e-02 ... -4.69001371e-02\n",
      " -3.46526994e-02 -2.24052561e-02] [3.60000000e+02 2.80828766e-02 5.61657509e-02 ... 3.59892460e+02\n",
      " 3.59920543e+02 3.59948626e+02]\n",
      "Eang [6.28318531e+00 4.90138660e-04 9.80277281e-04 ... 6.28130838e+00\n",
      " 6.28179852e+00 6.28228866e+00]\n",
      "[6.28318531e+00 4.90138660e-04 9.80277281e-04 ... 6.28130838e+00\n",
      " 6.28179852e+00 6.28228866e+00] <Parameter 'ecc', value=0.00023658994201236627, bounds=[0:1.0]> <Parameter 'rad', value=51.90568611806601, bounds=[0:inf]> <Parameter 'mass', value=1.0 (fixed), bounds=[-inf:inf]> [4.69929023e+03 3.66495459e-01 7.32990887e-01 ... 4.69788678e+03\n",
      " 4.69825328e+03 4.69861977e+03]\n"
     ]
    },
    {
     "name": "stdout",
     "output_type": "stream",
     "text": [
      "[24.99988337 24.99988137 24.99987537 ... 24.99985404 24.99986736\n",
      " 24.99987667] [-9.08729206e-12  1.22474484e-02  2.44948948e-02 ... -4.69001362e-02\n",
      " -3.46526984e-02 -2.24052551e-02] [3.60000000e+02 2.80692150e-02 5.61384256e-02 ... 3.59892512e+02\n",
      " 3.59920581e+02 3.59948651e+02]\n",
      "Eang [6.28318531e+00 4.89900221e-04 9.79800363e-04 ... 6.28130929e+00\n",
      " 6.28179919e+00 6.28228909e+00]\n",
      "[6.28318531e+00 4.89900221e-04 9.79800363e-04 ... 6.28130929e+00\n",
      " 6.28179919e+00 6.28228909e+00] <Parameter 'ecc', value=2.2470310465649845e-06, bounds=[0:1.0]> <Parameter 'rad', value=51.905686921192796, bounds=[0:inf]> <Parameter 'mass', value=1.0 (fixed), bounds=[-inf:inf]> [4.69929034e+03 3.66403041e-01 7.32806023e-01 ... 4.69788724e+03\n",
      " 4.69825365e+03 4.69862005e+03]\n",
      "[24.99999936 24.99999736 24.99999136 ... 24.99997004 24.99998335\n",
      " 24.99999267] [-4.95593439e-14  1.22474484e-02  2.44948948e-02 ... -4.69001362e-02\n",
      " -3.46526984e-02 -2.24052551e-02] [3.60000000e+02 2.80690848e-02 5.61381651e-02 ... 3.59892513e+02\n",
      " 3.59920582e+02 3.59948651e+02]\n",
      "Eang [6.28318531e+00 4.89897948e-04 9.79795818e-04 ... 6.28130930e+00\n",
      " 6.28179920e+00 6.28228910e+00]\n",
      "[6.28318531e+00 4.89897948e-04 9.79795818e-04 ... 6.28130930e+00\n",
      " 6.28179920e+00 6.28228910e+00] <Parameter 'ecc', value=1.2254628090069275e-08, bounds=[0:1.0]> <Parameter 'rad', value=51.90568691586737, bounds=[0:inf]> <Parameter 'mass', value=1.0 (fixed), bounds=[-inf:inf]> [4.69929034e+03 3.66402160e-01 7.32804261e-01 ... 4.69788725e+03\n",
      " 4.69825365e+03 4.69862005e+03]\n",
      "[24.99999936 24.99999736 24.99999136 ... 24.99997004 24.99998335\n",
      " 24.99999267] [-4.95593439e-14  1.22474484e-02  2.44948948e-02 ... -4.69001362e-02\n",
      " -3.46526984e-02 -2.24052551e-02] [3.60000000e+02 2.80690848e-02 5.61381651e-02 ... 3.59892513e+02\n",
      " 3.59920582e+02 3.59948651e+02]\n",
      "Eang [6.28318531e+00 4.89897948e-04 9.79795818e-04 ... 6.28130930e+00\n",
      " 6.28179920e+00 6.28228910e+00]\n",
      "[6.28318531e+00 4.89897948e-04 9.79795818e-04 ... 6.28130930e+00\n",
      " 6.28179920e+00 6.28228910e+00] <Parameter 'ecc', value=1.2254628090069275e-08, bounds=[0:1.0]> <Parameter 'rad', value=51.90568691586737, bounds=[0:inf]> <Parameter 'mass', value=1.0 (fixed), bounds=[-inf:inf]> [4.69929034e+03 3.66402160e-01 7.32804261e-01 ... 4.69788725e+03\n",
      " 4.69825365e+03 4.69862005e+03]\n"
     ]
    }
   ],
   "source": [
    "from lmfit import Minimizer,Parameters\n",
    "pfittEang = Parameters()\n",
    "pfittEang.add(name='theta', value=theta0, min=0, max=2.*math.pi, vary=True)\n",
    "pfittEang.add(name='rad', value=rad0, min=0, vary=True)\n",
    "pfittEang.add(name='ecc', value=ecc0, min=0, max=1.0, vary=True)\n",
    "pfittEang.add(name='mass', value=masses[0], vary=False)\n",
    "\n",
    "minit = Minimizer(residualtEang, pfittEang, fcn_args=(nptimesoneorbit,npstar2x[:endindex-1,:]))\n",
    "\n",
    "outt = minit.leastsq()"
   ]
  },
  {
   "cell_type": "code",
   "execution_count": 296,
   "metadata": {},
   "outputs": [
    {
     "data": {
      "text/html": [
       "<h2>Fit Statistics</h2><table><tr><td>fitting method</td><td>leastsq</td><td></td></tr><tr><td># function evals</td><td>42</td><td></td></tr><tr><td># data points</td><td>44428</td><td></td></tr><tr><td># variables</td><td>3</td><td></td></tr><tr><td>chi-square</td><td> 1.0741e+10</td><td></td></tr><tr><td>reduced chi-square</td><td> 241784.704</td><td></td></tr><tr><td>Akaike info crit.</td><td> 550723.734</td><td></td></tr><tr><td>Bayesian info crit.</td><td> 550749.838</td><td></td></tr></table><h2>Variables</h2><table><tr><th> name </th><th> value </th><th> standard error </th><th> relative error </th><th> initial value </th><th> min </th><th> max </th><th> vary </th></tr><tr><td> theta </td><td>  7.7913e-08 </td><td>  72523333.4 </td><td> (93082338834338656.00%) </td><td> 0.0 </td><td>  0.00000000 </td><td>  6.28318531 </td><td> True </td></tr><tr><td> rad </td><td>  51.9056869 </td><td>  0.03325860 </td><td> (0.06%) </td><td> 50 </td><td>  0.00000000 </td><td>         inf </td><td> True </td></tr><tr><td> ecc </td><td>  1.2255e-08 </td><td>  0.03341298 </td><td> (272656045.39%) </td><td> 0.5 </td><td>  0.00000000 </td><td>  1.00000000 </td><td> True </td></tr><tr><td> mass </td><td>  1.00000000 </td><td>  0.00000000 </td><td> (0.00%) </td><td> 1.0 </td><td>        -inf </td><td>         inf </td><td> False </td></tr></table><h2>Correlations (unreported correlations are < 0.100)</h2><table><tr><td>rad</td><td>ecc</td><td>-0.2653</td></tr></table>"
      ],
      "text/plain": [
       "<lmfit.minimizer.MinimizerResult at 0x7fb419605810>"
      ]
     },
     "execution_count": 296,
     "metadata": {},
     "output_type": "execute_result"
    }
   ],
   "source": [
    "outt"
   ]
  },
  {
   "cell_type": "markdown",
   "metadata": {},
   "source": [
    "Eccentricity fit is still not great for eccentricity of 0.9 (0.99), but radius fit is pretty good. The chi square is enormous. Eccentricity of 0.5 looks somewhat better (ecc 0.51) but still has a large chisquared and generates a potentially helpful divide by zero warning in the fit. "
   ]
  },
  {
   "cell_type": "code",
   "execution_count": null,
   "metadata": {},
   "outputs": [],
   "source": []
  },
  {
   "cell_type": "markdown",
   "metadata": {},
   "source": [
    "Updated Jupyter and python packages and angular momentum and energy conservation improved by many orders of magnitude, but the fit is about the same. deltaL and deltaE are now consistent with roundoff error. "
   ]
  },
  {
   "cell_type": "code",
   "execution_count": null,
   "metadata": {},
   "outputs": [],
   "source": []
  },
  {
   "cell_type": "code",
   "execution_count": null,
   "metadata": {},
   "outputs": [],
   "source": []
  },
  {
   "cell_type": "code",
   "execution_count": null,
   "metadata": {},
   "outputs": [],
   "source": []
  }
 ],
 "metadata": {
  "kernelspec": {
   "display_name": "Python 3",
   "language": "python",
   "name": "python3"
  },
  "language_info": {
   "codemirror_mode": {
    "name": "ipython",
    "version": 3
   },
   "file_extension": ".py",
   "mimetype": "text/x-python",
   "name": "python",
   "nbconvert_exporter": "python",
   "pygments_lexer": "ipython3",
   "version": "3.7.4"
  }
 },
 "nbformat": 4,
 "nbformat_minor": 2
}
