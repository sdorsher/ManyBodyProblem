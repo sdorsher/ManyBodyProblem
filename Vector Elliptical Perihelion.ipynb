{
 "cells": [
  {
   "cell_type": "code",
   "execution_count": 1,
   "metadata": {},
   "outputs": [],
   "source": [
    "import math\n",
    "import numpy as np"
   ]
  },
  {
   "cell_type": "code",
   "execution_count": 2,
   "metadata": {},
   "outputs": [],
   "source": [
    "import ellipsefns\n",
    "#getfocus, getsemiminor, theoreticalx, theoreticaly"
   ]
  },
  {
   "cell_type": "code",
   "execution_count": 3,
   "metadata": {},
   "outputs": [],
   "source": [
    "import initdat"
   ]
  },
  {
   "cell_type": "code",
   "execution_count": 376,
   "metadata": {},
   "outputs": [
    {
     "name": "stdout",
     "output_type": "stream",
     "text": [
      "angle 0.0\n",
      "0.05\n",
      "(array([3.14159265, 0.        ]), 0.0, 50, 0.05, array([1., 1.]))\n"
     ]
    }
   ],
   "source": [
    "\n",
    "rad0=50\n",
    "ecc0=0.05\n",
    "theta0= 0. #math.pi/6. #math.pi/6.\n",
    "mass0=1.0\n",
    "initdateqellipse=initdat.InitialDataEqualMassConic(rad0,ecc0,theta0,mass0)\n",
    "print(initdateqellipse)"
   ]
  },
  {
   "cell_type": "markdown",
   "metadata": {},
   "source": [
    "VERIFIED FOR THETA=-45,45,135,180,90,30,-30. VERIFIED FOR ECC =0.001, 0.1,0.5, 0.7, 0.9, 0.95 VERIFIED FOR RAD0=50,75 100 "
   ]
  },
  {
   "cell_type": "code",
   "execution_count": 377,
   "metadata": {},
   "outputs": [],
   "source": [
    "import getxyuvtwoellipse_apper"
   ]
  },
  {
   "cell_type": "code",
   "execution_count": 378,
   "metadata": {},
   "outputs": [],
   "source": [
    "useperihelion=True"
   ]
  },
  {
   "cell_type": "code",
   "execution_count": 379,
   "metadata": {},
   "outputs": [
    {
     "name": "stdout",
     "output_type": "stream",
     "text": [
      "initdat 50 [3.14159265 0.        ] 0.05 [-1.  1.] [1.2246468e-16 0.0000000e+00]\n",
      "coordsep 50\n",
      "pi\n",
      "zero\n",
      "[-50.  50.]\n",
      "[0. 0.]\n",
      "(array([1., 1.]), array([[-47.5       ,   0.        ,   0.        ,  -0.        ,\n",
      "         -0.07433919,   0.        ],\n",
      "       [ 47.5       ,   0.        ,   0.        ,  -0.        ,\n",
      "          0.07433919,   0.        ]]), array([[ 0.0001108, -0.       ,  0.       ],\n",
      "       [-0.0001108, -0.       ,  0.       ]]))\n"
     ]
    }
   ],
   "source": [
    "xyuvaeqellipse=getxyuvtwoellipse_apper.getxyuveqtwoellipses(initdateqellipse,useperihelion)\n",
    "print(xyuvaeqellipse)\n",
    "masses,xvec,avec=xyuvaeqellipse"
   ]
  },
  {
   "cell_type": "code",
   "execution_count": 380,
   "metadata": {},
   "outputs": [],
   "source": [
    "import RK4implicit"
   ]
  },
  {
   "cell_type": "code",
   "execution_count": 381,
   "metadata": {},
   "outputs": [],
   "source": [
    "import OrbitDiffEq"
   ]
  },
  {
   "cell_type": "code",
   "execution_count": null,
   "metadata": {},
   "outputs": [],
   "source": []
  },
  {
   "cell_type": "code",
   "execution_count": 382,
   "metadata": {},
   "outputs": [
    {
     "name": "stdout",
     "output_type": "stream",
     "text": [
      "[1. 1.] [[-47.5          0.           0.          -0.          -0.07433919\n",
      "    0.        ]\n",
      " [ 47.5          0.           0.          -0.           0.07433919\n",
      "    0.        ]] 0.0\n",
      "[1. 1.] [[-47.5          0.           0.          -0.          -0.07433919\n",
      "    0.        ]\n",
      " [ 47.5          0.           0.          -0.           0.07433919\n",
      "    0.        ]] 0.0\n"
     ]
    },
    {
     "data": {
      "text/plain": [
       "<OrbitDiffEq.OrbitDiffEq at 0x7f8dbfdaf990>"
      ]
     },
     "execution_count": 382,
     "metadata": {},
     "output_type": "execute_result"
    }
   ],
   "source": [
    "masses, xvec,avec=xyuvaeqellipse\n",
    "ODEeq= OrbitDiffEq.OrbitDiffEq(masses,xvec,avec,0.0)\n",
    "ODEeq.print2D()\n",
    "ODEeq.print2D()"
   ]
  },
  {
   "cell_type": "code",
   "execution_count": 383,
   "metadata": {},
   "outputs": [
    {
     "name": "stdout",
     "output_type": "stream",
     "text": [
      "(array([1., 1.]), array([[-47.5       ,   0.        ,   0.        ,  -0.        ,\n",
      "         -0.07433919,   0.        ],\n",
      "       [ 47.5       ,   0.        ,   0.        ,  -0.        ,\n",
      "          0.07433919,   0.        ]]), array([[ 0.0001108, -0.       ,  0.       ],\n",
      "       [-0.0001108, -0.       ,  0.       ]]))\n"
     ]
    }
   ],
   "source": [
    "print(xyuvaeqellipse)"
   ]
  },
  {
   "cell_type": "code",
   "execution_count": 384,
   "metadata": {},
   "outputs": [],
   "source": [
    "import timestep"
   ]
  },
  {
   "cell_type": "code",
   "execution_count": null,
   "metadata": {},
   "outputs": [],
   "source": []
  },
  {
   "cell_type": "code",
   "execution_count": 385,
   "metadata": {},
   "outputs": [],
   "source": [
    "numsteps=6000*10\n",
    "dt=0.1\n",
    "outputevery=1\n",
    "nptimes, npstar1x, npstar2x, npstar1a, npstar2a= timestep.timestep(numsteps,dt,xyuvaeqellipse,outputevery)"
   ]
  },
  {
   "cell_type": "code",
   "execution_count": 386,
   "metadata": {},
   "outputs": [
    {
     "data": {
      "text/plain": [
       "array([[-4.75000000e+01,  0.00000000e+00,  0.00000000e+00,\n",
       "        -0.00000000e+00, -7.43391942e-02,  0.00000000e+00],\n",
       "       [-4.74999994e+01, -7.43391939e-03,  0.00000000e+00,\n",
       "         1.10803324e-05, -7.43391933e-02,  0.00000000e+00],\n",
       "       [-4.74999978e+01, -1.48678386e-02,  0.00000000e+00,\n",
       "         2.21606644e-05, -7.43391907e-02,  0.00000000e+00],\n",
       "       ...,\n",
       "       [ 3.35518293e+01, -3.91400618e+01,  0.00000000e+00,\n",
       "         5.37526099e-02,  4.25381054e-02,  0.00000000e+00],\n",
       "       [ 3.35572042e+01, -3.91358077e+01,  0.00000000e+00,\n",
       "         5.37464873e-02,  4.25452467e-02,  0.00000000e+00],\n",
       "       [ 3.35625786e+01, -3.91315528e+01,  0.00000000e+00,\n",
       "         5.37403638e-02,  4.25523873e-02,  0.00000000e+00]])"
      ]
     },
     "execution_count": 386,
     "metadata": {},
     "output_type": "execute_result"
    }
   ],
   "source": [
    "npstar1x"
   ]
  },
  {
   "cell_type": "code",
   "execution_count": 387,
   "metadata": {},
   "outputs": [
    {
     "data": {
      "image/png": "[encoded data removed]",
      "text/plain": [
       "<Figure size 432x288 with 1 Axes>"
      ]
     },
     "metadata": {
      "needs_background": "light"
     },
     "output_type": "display_data"
    }
   ],
   "source": [
    "import matplotlib.pyplot as plt\n",
    "t = np.linspace(0, 2*math.pi, 100)\n",
    "xax=-200+np.arange(0,400)\n",
    "plt.ylim(-200,200)\n",
    "plt.xlim(-200,200)\n",
    "plt.title(\"Elliptical Orbit, RK4, a=\"+str(rad0)+\", e=\"+ str(ecc0)+\", theta=\"+str(round(180*theta0/math.pi))+ \" degrees\")\n",
    "plt.plot(ellipsefns.getxtheory(theta0,ecc0,rad0,t,1),ellipsefns.getytheory(theta0,ecc0,rad0,t,1),'b')\n",
    "plt.plot(ellipsefns.getxtheory(theta0,ecc0,rad0,t,-1),ellipsefns.getytheory(theta0,ecc0,rad0,t,-1),'g')\n",
    "plt.plot(npstar1x[:,0],npstar1x[:,1],'y')\n",
    "plt.plot(npstar2x[:,0],npstar2x[:,1],'r')\n",
    "plt.show()"
   ]
  },
  {
   "cell_type": "markdown",
   "metadata": {},
   "source": [
    "%%html\n",
    "<a href=\"https://github.com/sdorsher/ManyBodyProblem/blob/master/EllipseSymmetry.png\">Elliptical orbits at thirty degrees with symmetry line</a>\n",
    "It is clear that the elliptical orbits have focuses, perhelions, and aphelions on the axis of symmetry from this plot. It is also clear that the orbits are symmetric with respect to eachother. "
   ]
  },
  {
   "cell_type": "code",
   "execution_count": 388,
   "metadata": {},
   "outputs": [],
   "source": [
    "def getfocus(a,ecc):\n",
    "    c=a*ecc\n",
    "    return c"
   ]
  },
  {
   "cell_type": "code",
   "execution_count": 389,
   "metadata": {},
   "outputs": [],
   "source": [
    "def getsemiminor(a,ecc):\n",
    "    c=getfocus(a,ecc)\n",
    "    b=np.sqrt(a**2-c**2)\n",
    "    return b"
   ]
  },
  {
   "cell_type": "code",
   "execution_count": 390,
   "metadata": {},
   "outputs": [],
   "source": [
    "def getxtheory2(theta0,ecc0,rad0,t, sgn):\n",
    "    focus=getfocus(rad0,ecc0)\n",
    "    b=getsemiminor(rad0,ecc0)\n",
    "    xdim=rad0\n",
    "    ydim=b\n",
    "    xtheory=sgn*focus*np.cos(theta0)+xdim*np.cos(t)*np.cos(theta0)-ydim*np.sin(t)*np.sin(theta0)\n",
    "    return xtheory"
   ]
  },
  {
   "cell_type": "code",
   "execution_count": 391,
   "metadata": {},
   "outputs": [],
   "source": [
    "def getytheory2(theta0, ecc0, rad0, t, sgn):\n",
    "    focus = getfocus(rad0,ecc0)\n",
    "    b=getsemiminor(rad0,ecc0)\n",
    "    xdim=rad0\n",
    "    ydim=b\n",
    "    ytheory=sgn*focus*np.sin(theta0)+ydim*np.cos(theta0)*np.sin(t)+xdim*np.sin(theta0)*np.cos(t)\n",
    "    return ytheory\n",
    "\n"
   ]
  },
  {
   "cell_type": "code",
   "execution_count": 392,
   "metadata": {},
   "outputs": [
    {
     "data": {
      "image/png": "[encoded data removed]",
      "text/plain": [
       "<Figure size 432x288 with 1 Axes>"
      ]
     },
     "metadata": {
      "needs_background": "light"
     },
     "output_type": "display_data"
    }
   ],
   "source": [
    "import matplotlib.pyplot as plt\n",
    "t = np.linspace(0, 2*math.pi, 100)\n",
    "xax=-200+np.arange(0,400)\n",
    "plt.ylim(-200,200)\n",
    "plt.xlim(-200,200)\n",
    "plt.title(\"Elliptical Orbit, RK4, a=\"+str(rad0)+\", e=\"+ str(ecc0)+\", theta=\"+str(round(180*theta0/math.pi))+ \" degrees\")\n",
    "plt.plot(ellipsefns.getxtheory(theta0,ecc0,rad0,t,1),ellipsefns.getytheory(theta0,ecc0,rad0,t,1),'b')\n",
    "plt.plot(ellipsefns.getxtheory(theta0,ecc0,rad0,t,-1),ellipsefns.getytheory(theta0,ecc0,rad0,t,-1),'g')\n",
    "plt.plot(npstar1x[:,0],npstar1x[:,1],'y')\n",
    "plt.plot(npstar2x[:,0],npstar2x[:,1],'r')\n",
    "plt.plot(xax, np.tan(theta0)*xax,'c')\n",
    "plt.show()"
   ]
  },
  {
   "cell_type": "markdown",
   "metadata": {},
   "source": [
    "Computed orbit and parametric description of ellipse evolve at different rates, since the parametric description of the ellipse doesn't obey keplers law of equal area in equal time (conservation of angular momentum). This is a problem for the fit below. "
   ]
  },
  {
   "cell_type": "markdown",
   "metadata": {},
   "source": [
    "# Conservation of angular momentum"
   ]
  },
  {
   "cell_type": "code",
   "execution_count": 393,
   "metadata": {},
   "outputs": [],
   "source": [
    "import Lstability"
   ]
  },
  {
   "cell_type": "code",
   "execution_count": 394,
   "metadata": {},
   "outputs": [
    {
     "data": {
      "text/plain": [
       "(2.5907528395199072e-14, -2.3540744819709234)"
      ]
     },
     "execution_count": 394,
     "metadata": {},
     "output_type": "execute_result"
    }
   ],
   "source": [
    "deltaL, Lavg=Lstability.Lstability(npstar1x,npstar2x,mass0)\n",
    "deltaL, Lavg"
   ]
  },
  {
   "cell_type": "code",
   "execution_count": 395,
   "metadata": {},
   "outputs": [
    {
     "data": {
      "text/plain": [
       "-6.098825148607524e-14"
      ]
     },
     "execution_count": 395,
     "metadata": {},
     "output_type": "execute_result"
    }
   ],
   "source": [
    "deltaL*Lavg"
   ]
  },
  {
   "cell_type": "markdown",
   "metadata": {},
   "source": [
    "Orbit conserves angular momentum to a tolerance of deltaL. "
   ]
  },
  {
   "cell_type": "markdown",
   "metadata": {},
   "source": [
    "# Conservation of Energy"
   ]
  },
  {
   "cell_type": "code",
   "execution_count": 396,
   "metadata": {},
   "outputs": [],
   "source": [
    "import Estability"
   ]
  },
  {
   "cell_type": "code",
   "execution_count": 397,
   "metadata": {},
   "outputs": [
    {
     "data": {
      "text/plain": [
       "(1.3963351359873835e-14, -0.004999999999999997)"
      ]
     },
     "execution_count": 397,
     "metadata": {},
     "output_type": "execute_result"
    }
   ],
   "source": [
    "deltaE, Eavg = Estability.Estability(npstar1x, npstar2x, mass0)\n",
    "deltaE, Eavg"
   ]
  },
  {
   "cell_type": "code",
   "execution_count": 398,
   "metadata": {},
   "outputs": [
    {
     "data": {
      "text/plain": [
       "-6.981675679936913e-17"
      ]
     },
     "execution_count": 398,
     "metadata": {},
     "output_type": "execute_result"
    }
   ],
   "source": [
    "deltaE*Eavg"
   ]
  },
  {
   "cell_type": "markdown",
   "metadata": {},
   "source": [
    "Orbit conserves energy to a relative error of deltaE. "
   ]
  },
  {
   "cell_type": "markdown",
   "metadata": {},
   "source": [
    "# Symmetry of the two stars orbits with respect to eachother "
   ]
  },
  {
   "cell_type": "code",
   "execution_count": 399,
   "metadata": {},
   "outputs": [],
   "source": [
    "import orbitSymmetricTol"
   ]
  },
  {
   "cell_type": "code",
   "execution_count": 400,
   "metadata": {},
   "outputs": [],
   "source": [
    "allcancelsx, allcancelsa=orbitSymmetricTol.howSymmetric(npstar1x,npstar2x,npstar1a,npstar2a)"
   ]
  },
  {
   "cell_type": "code",
   "execution_count": 401,
   "metadata": {},
   "outputs": [
    {
     "data": {
      "text/plain": [
       "1e-14"
      ]
     },
     "execution_count": 401,
     "metadata": {},
     "output_type": "execute_result"
    }
   ],
   "source": [
    "allcancelsx"
   ]
  },
  {
   "cell_type": "markdown",
   "metadata": {},
   "source": [
    "Orbit is symmetric with respect to x and v up to a tolerance of allcancelsx"
   ]
  },
  {
   "cell_type": "code",
   "execution_count": 402,
   "metadata": {},
   "outputs": [
    {
     "data": {
      "text/plain": [
       "1e-14"
      ]
     },
     "execution_count": 402,
     "metadata": {},
     "output_type": "execute_result"
    }
   ],
   "source": [
    "allcancelsa"
   ]
  },
  {
   "cell_type": "code",
   "execution_count": 403,
   "metadata": {},
   "outputs": [
    {
     "data": {
      "text/plain": [
       "array([[-4.75000000e+01,  0.00000000e+00,  0.00000000e+00,\n",
       "        -0.00000000e+00, -7.43391942e-02,  0.00000000e+00],\n",
       "       [-4.74999994e+01, -7.43391939e-03,  0.00000000e+00,\n",
       "         1.10803324e-05, -7.43391933e-02,  0.00000000e+00],\n",
       "       [-4.74999978e+01, -1.48678386e-02,  0.00000000e+00,\n",
       "         2.21606644e-05, -7.43391907e-02,  0.00000000e+00],\n",
       "       ...,\n",
       "       [ 3.35518293e+01, -3.91400618e+01,  0.00000000e+00,\n",
       "         5.37526099e-02,  4.25381054e-02,  0.00000000e+00],\n",
       "       [ 3.35572042e+01, -3.91358077e+01,  0.00000000e+00,\n",
       "         5.37464873e-02,  4.25452467e-02,  0.00000000e+00],\n",
       "       [ 3.35625786e+01, -3.91315528e+01,  0.00000000e+00,\n",
       "         5.37403638e-02,  4.25523873e-02,  0.00000000e+00]])"
      ]
     },
     "execution_count": 403,
     "metadata": {},
     "output_type": "execute_result"
    }
   ],
   "source": [
    "npstar1x"
   ]
  },
  {
   "cell_type": "markdown",
   "metadata": {},
   "source": [
    "Orbit is symmetric with respect to a to up to or better than a tolerance of allcancelsa"
   ]
  },
  {
   "cell_type": "markdown",
   "metadata": {},
   "source": [
    "# Testing for precision in perihelion and aphelion recovery from knowledge of the initial angle"
   ]
  },
  {
   "cell_type": "code",
   "execution_count": 404,
   "metadata": {},
   "outputs": [],
   "source": [
    "import aeTest"
   ]
  },
  {
   "cell_type": "code",
   "execution_count": 405,
   "metadata": {},
   "outputs": [
    {
     "data": {
      "text/plain": [
       "[<matplotlib.lines.Line2D at 0x7f8da5e77d10>]"
      ]
     },
     "execution_count": 405,
     "metadata": {},
     "output_type": "execute_result"
    },
    {
     "data": {
      "image/png": "[encoded data removed]",
      "text/plain": [
       "<Figure size 432x288 with 1 Axes>"
      ]
     },
     "metadata": {
      "needs_background": "light"
     },
     "output_type": "display_data"
    }
   ],
   "source": [
    "from matplotlib import pyplot as plt\n",
    "plt.plot( np.abs(npstar1x[:,1]))"
   ]
  },
  {
   "cell_type": "code",
   "execution_count": 406,
   "metadata": {},
   "outputs": [],
   "source": [
    "def findPerapHelionThetaIsZero(npstar1x,ecc0,rad0,useperihelion):\n",
    "    apindex=np.argmin(np.abs(npstar1x[1:,1]))+1\n",
    "    print(apindex)\n",
    "    delta=math.floor(.2*apindex)\n",
    "    print(delta)\n",
    "    perindex=np.argmin(np.abs(npstar1x[delta:apindex-delta,1]))+delta\n",
    "    print(perindex)\n",
    "    print(apindex/perindex)\n",
    "    if np.abs(apindex/perindex-2.)>0.05: \n",
    "        perindex=np.argmin(np.abs(npstar1x[apindex+delta:2*apindex+delta,1]))+delta+apindex\n",
    "        print(perindex)\n",
    "        apindex,perindex=perindex,apindex\n",
    "        print(apindex,perindex)\n",
    "        print(apindex/perindex)\n",
    "    #apindex3=np.argmin(np.abs(npstar1x[100:apindex2-100,1]))+100\n",
    "    #apindex4=np.argmin(np.abs(npstar1x[100:apindex3-100,1]))+100\n",
    "    #perindex=np.argmin(np.abs(npstar1x[100:apindex2-100,1]))+100\n",
    "    if useperihelion:\n",
    "        apindex,perindex=perindex,apindex\n",
    "    coordap=[npstar1x[apindex,0],npstar1x[apindex,1]]\n",
    "    coordper=[npstar1x[perindex,0],npstar1x[perindex,1]]\n",
    "    ra=np.sqrt(np.sum(np.array(coordap)**2))\n",
    "    rp=np.sqrt(np.sum(np.array(coordper)**2))\n",
    "    e=(ra-rp)/(ra+rp)\n",
    "    a=1./2.*(ra+rp)\n",
    "    deltae=np.abs(e-ecc0)/ecc0\n",
    "    deltaa=np.abs(a-rad0)/rad0\n",
    "    return apindex,perindex,coordap,coordper,ra,rp,e,a,deltae,deltaa"
   ]
  },
  {
   "cell_type": "code",
   "execution_count": 407,
   "metadata": {},
   "outputs": [
    {
     "name": "stdout",
     "output_type": "stream",
     "text": [
      "44429\n",
      "8885\n",
      "22214\n",
      "2.0000450166561627\n"
     ]
    }
   ],
   "source": [
    "if theta0==0:\n",
    "    apindex,perindex,coordap,coordper,ra,rp,e,a,deltae,deltaa=findPerapHelionThetaIsZero(npstar1x,ecc0,rad0,useperihelion)"
   ]
  },
  {
   "cell_type": "code",
   "execution_count": null,
   "metadata": {},
   "outputs": [],
   "source": []
  },
  {
   "cell_type": "code",
   "execution_count": 408,
   "metadata": {},
   "outputs": [],
   "source": [
    "if theta0!=0:\n",
    "    perindex,apindex,coordper,coordap,rp,ra,e,a,deltae,deltaa=aeTest.findPerApHelion(npstar1x,theta0,ecc0,rad0)"
   ]
  },
  {
   "cell_type": "markdown",
   "metadata": {},
   "source": [
    "Recovered perihelion radius given by r_per, recovered aphelion radius given by r_ap, a is semimajor axis computed from the orbit, e is eccentricty computed from the orbit, delta a is relative error on the semimajor axis, and delta e is eccenticity relative error. "
   ]
  },
  {
   "cell_type": "code",
   "execution_count": 409,
   "metadata": {},
   "outputs": [
    {
     "data": {
      "text/plain": [
       "(22214,\n",
       " 44429,\n",
       " [52.49999992200915, -0.002789180028301176],\n",
       " [-47.49999998387283, -0.001268363561429878],\n",
       " 52.499999996099874,\n",
       " 47.500000000807006,\n",
       " 0.04999999995447524,\n",
       " 49.99999999845344,\n",
       " 9.104952902738717e-10,\n",
       " 3.093120426456153e-11)"
      ]
     },
     "execution_count": 409,
     "metadata": {},
     "output_type": "execute_result"
    }
   ],
   "source": [
    "apindex,perindex,coordap,coordper,ra,rp,e,a,deltae,deltaa"
   ]
  },
  {
   "cell_type": "code",
   "execution_count": 410,
   "metadata": {},
   "outputs": [
    {
     "data": {
      "text/plain": [
       "[<matplotlib.lines.Line2D at 0x7f8da69b5890>]"
      ]
     },
     "execution_count": 410,
     "metadata": {},
     "output_type": "execute_result"
    },
    {
     "data": {
      "image/png": "[encoded data removed]",
      "text/plain": [
       "<Figure size 432x288 with 1 Axes>"
      ]
     },
     "metadata": {
      "needs_background": "light"
     },
     "output_type": "display_data"
    }
   ],
   "source": [
    "plt.plot(nptimes[:perindex],npstar1x[:perindex,1])"
   ]
  },
  {
   "cell_type": "markdown",
   "metadata": {},
   "source": [
    "# Testing for symmetry within a given star's orbit about the line created by the initial angle with the origin that should pass thorugh the center of the ellipse, both focuses, and perihelion and aphelion"
   ]
  },
  {
   "cell_type": "code",
   "execution_count": 411,
   "metadata": {},
   "outputs": [],
   "source": [
    "pivotindex=perindex\n",
    "endindex = apindex\n",
    "if useperihelion:\n",
    "    pivotindex=apindex\n",
    "    endindex=perindex"
   ]
  },
  {
   "cell_type": "code",
   "execution_count": 412,
   "metadata": {},
   "outputs": [],
   "source": [
    "tosum1=list(range(0,endindex+1))\n",
    "tosum2=list(range(endindex+1,pivotindex+1))"
   ]
  },
  {
   "cell_type": "code",
   "execution_count": 413,
   "metadata": {},
   "outputs": [
    {
     "data": {
      "text/plain": [
       "44430"
      ]
     },
     "execution_count": 413,
     "metadata": {},
     "output_type": "execute_result"
    }
   ],
   "source": [
    "len(tosum1)"
   ]
  },
  {
   "cell_type": "code",
   "execution_count": 414,
   "metadata": {},
   "outputs": [
    {
     "data": {
      "text/plain": [
       "0"
      ]
     },
     "execution_count": 414,
     "metadata": {},
     "output_type": "execute_result"
    }
   ],
   "source": [
    "len(tosum2)"
   ]
  },
  {
   "cell_type": "code",
   "execution_count": 415,
   "metadata": {},
   "outputs": [
    {
     "data": {
      "text/plain": [
       "(22214, 44429)"
      ]
     },
     "execution_count": 415,
     "metadata": {},
     "output_type": "execute_result"
    }
   ],
   "source": [
    "apindex,perindex"
   ]
  },
  {
   "cell_type": "code",
   "execution_count": 416,
   "metadata": {},
   "outputs": [],
   "source": [
    "revtosum2=tosum2.reverse()"
   ]
  },
  {
   "cell_type": "code",
   "execution_count": 417,
   "metadata": {},
   "outputs": [],
   "source": [
    "xsum=np.zeros(endindex+1)\n",
    "ysum=np.zeros(endindex+1)\n",
    "for index in np.arange(0,pivotindex):\n",
    "    xsum[index]=npstar1x[index,0]+npstar1x[pivotindex+1-index,0]\n",
    "    ysum[index]=npstar1x[index,1]+npstar1x[pivotindex+1-index,1]"
   ]
  },
  {
   "cell_type": "code",
   "execution_count": 418,
   "metadata": {},
   "outputs": [],
   "source": [
    "xsum=xsum/2"
   ]
  },
  {
   "cell_type": "code",
   "execution_count": 419,
   "metadata": {},
   "outputs": [],
   "source": [
    "ysum=ysum/2"
   ]
  },
  {
   "cell_type": "code",
   "execution_count": 420,
   "metadata": {},
   "outputs": [
    {
     "data": {
      "image/png": "[encoded data removed]",
      "text/plain": [
       "<Figure size 432x288 with 1 Axes>"
      ]
     },
     "metadata": {
      "needs_background": "light"
     },
     "output_type": "display_data"
    }
   ],
   "source": [
    "import matplotlib.pyplot as plt\n",
    "b0=np.tan(theta0)\n",
    "plt.plot(xsum,ysum,label=\"Sum of data\")\n",
    "plt.plot(xsum,b0*xsum, color=\"green\", label=\"Line defining perhelion\")\n",
    "plt.xlabel(\"Symmetric X sum\")\n",
    "plt.ylabel(\"Symmetric Y sum\")\n",
    "plt.legend()\n",
    "plt.title(\"Sum of data reflection about perhelion\")\n",
    "plt.show()"
   ]
  },
  {
   "cell_type": "code",
   "execution_count": 421,
   "metadata": {},
   "outputs": [
    {
     "data": {
      "image/png": "[encoded data removed]",
      "text/plain": [
       "<Figure size 432x288 with 1 Axes>"
      ]
     },
     "metadata": {
      "needs_background": "light"
     },
     "output_type": "display_data"
    }
   ],
   "source": [
    "plt.plot(xsum,ysum-np.tan(theta0)*xsum, color=\"green\", label=\"Residual\")\n",
    "plt.xlabel(\"Symmetric X sum\")\n",
    "plt.ylabel(\"Ysum-tan(theta)*Xsum\")\n",
    "plt.title(\"Residuals of data reflected about perihelion\")\n",
    "plt.legend()\n",
    "plt.show()"
   ]
  },
  {
   "cell_type": "markdown",
   "metadata": {},
   "source": [
    "The residual improves substantially from .2 at perihelion with a timestep of dt=1 to .125 at perihelion with a timestep of dt=.3 to .02 at perihelion with a timestep of dt=.1. I think timestep makes all the difference between adjacent pairs of points in resolving perihelion. I think it is difficult to tell how symmetric the orbit is by this method when the limitation is in the resolution of the orbit with timestep. Interpolation would be necessary to get a good picture of orbital shape. "
   ]
  },
  {
   "cell_type": "markdown",
   "metadata": {},
   "source": [
    "In the interest of accomplishing further orbital evolutions, I think I'm going to let the precice numerical characterization of orbital shape question go (the predicted and actual orbits overlap quite nicely) and move on to evolving parabolic and hyperbolic orbits. "
   ]
  },
  {
   "cell_type": "markdown",
   "metadata": {},
   "source": [
    "# Fit t as a function of the eccentric anomoly (angle from the center of the elipse)"
   ]
  },
  {
   "cell_type": "code",
   "execution_count": 422,
   "metadata": {},
   "outputs": [],
   "source": [
    "def findEccentricAnomoly(coordap, coordper):\n",
    "    Ecenter=np.array(coordap)+np.array(coordper)\n",
    "    Ecenter/=2.\n",
    "    return Ecenter\n"
   ]
  },
  {
   "cell_type": "code",
   "execution_count": 423,
   "metadata": {},
   "outputs": [],
   "source": [
    "ellipsecenter=findEccentricAnomoly(coordap,coordper)"
   ]
  },
  {
   "cell_type": "code",
   "execution_count": 424,
   "metadata": {},
   "outputs": [
    {
     "data": {
      "text/plain": [
       "array([ 2.49999997e+00, -2.02877179e-03])"
      ]
     },
     "execution_count": 424,
     "metadata": {},
     "output_type": "execute_result"
    }
   ],
   "source": [
    "ellipsecenter"
   ]
  },
  {
   "cell_type": "code",
   "execution_count": 425,
   "metadata": {},
   "outputs": [],
   "source": [
    "def getEllipsecenter(ecc,rad,theta, useperihelion):\n",
    "    #ind of use perihelion\n",
    "    rp=rad*(1-ecc)\n",
    "    ra=-rad*(1+ecc)\n",
    "    rcent=(rp+ra)/2\n",
    "    #print(rp,ra,rcent)\n",
    "    rcentx=rcent*np.cos(theta)\n",
    "    rcenty=rcent* np.sin(theta)\n",
    "    return [rcentx,rcenty]"
   ]
  },
  {
   "cell_type": "code",
   "execution_count": 426,
   "metadata": {},
   "outputs": [
    {
     "data": {
      "text/plain": [
       "array([ 2.49999997e+00, -2.02877179e-03])"
      ]
     },
     "execution_count": 426,
     "metadata": {},
     "output_type": "execute_result"
    }
   ],
   "source": [
    "(np.array(coordap)+np.array(coordper))/2"
   ]
  },
  {
   "cell_type": "code",
   "execution_count": 427,
   "metadata": {},
   "outputs": [
    {
     "data": {
      "text/plain": [
       "[-2.5, -0.0]"
      ]
     },
     "execution_count": 427,
     "metadata": {},
     "output_type": "execute_result"
    }
   ],
   "source": [
    "getEllipsecenter(ecc0,rad0,theta0, True)"
   ]
  },
  {
   "cell_type": "code",
   "execution_count": 428,
   "metadata": {},
   "outputs": [
    {
     "data": {
      "text/plain": [
       "-90.0"
      ]
     },
     "execution_count": 428,
     "metadata": {},
     "output_type": "execute_result"
    }
   ],
   "source": [
    "np.arctan2(-1.,0)/math.pi*180"
   ]
  },
  {
   "cell_type": "code",
   "execution_count": 429,
   "metadata": {},
   "outputs": [],
   "source": [
    "def getEang(npstar2x,ecc,rad,theta, useperihelion):\n",
    "    ellipsecenter=getEllipsecenter(ecc,rad,theta, useperihelion)\n",
    "    #print(ellipsecenter)\n",
    "    #print(npstar1x)\n",
    "    #print(npstar1x[:,0])\n",
    "    xfortan=npstar2x[:,0]-ellipsecenter[0]\n",
    "    yfortan=npstar2x[:,1]-ellipsecenter[1]\n",
    "    #print(\"xy\",xfortan,yfortan)\n",
    "    Eang=np.arctan2(yfortan,xfortan)\n",
    "    Eangtheta=2*np.arctan2(np.sqrt(1-ecc)*np.sin(theta/2.),np.sqrt(1+ecc)*np.cos(theta/2.))\n",
    "    Eang-=Eangtheta\n",
    "    #if useperihelion:\n",
    "    #    Eang-=math.pi\n",
    "    print(len(Eang))\n",
    "    for i in np.arange(len(Eang)):\n",
    "        #if xfortan[i]<0:\n",
    "        #    Eang[i]+=math.pi\n",
    "        if Eang[i]<0:\n",
    "            Eang[i]+=2*math.pi\n",
    "    print(xfortan,yfortan,Eang/math.pi*180)\n",
    "    print(\"Eang\",Eang)\n",
    "    return xfortan, yfortan,Eang"
   ]
  },
  {
   "cell_type": "code",
   "execution_count": 430,
   "metadata": {},
   "outputs": [
    {
     "data": {
      "text/plain": [
       "-3.1412939168636456"
      ]
     },
     "execution_count": 430,
     "metadata": {},
     "output_type": "execute_result"
    }
   ],
   "source": [
    "np.arctan2(-6.69327422*10**-6, -0.02240526)"
   ]
  },
  {
   "cell_type": "code",
   "execution_count": 431,
   "metadata": {},
   "outputs": [],
   "source": [
    "def xofeccanom(rad,Eang,ecc):\n",
    "    return rad*(np.cos(Eang)+ecc)"
   ]
  },
  {
   "cell_type": "code",
   "execution_count": 432,
   "metadata": {},
   "outputs": [],
   "source": [
    "def yofeccanom(rad, Eang, ecc):\n",
    "    b=getsemiminor(rad,ecc)\n",
    "    return b*np.sin(Eang) "
   ]
  },
  {
   "cell_type": "code",
   "execution_count": 433,
   "metadata": {},
   "outputs": [],
   "source": [
    "def tofEccAnom(npstar2x, rad,ecc,theta,mass, useperihelion):\n",
    "    xE0,yE0,Eang=getEang(npstar2x,ecc,rad,theta, useperihelion)\n",
    "    b=getsemiminor(rad,ecc)\n",
    "    #fitval=rad*b*(Eang-ecc*np.sin(Eang))\n",
    "    sgn=-1\n",
    "    if useperihelion:\n",
    "        sgn*=-1\n",
    "    # added a factor of 2 in front of fitval\n",
    "    fitval=rad**(1.5)*mass**(-.5)*(Eang-sgn*ecc*np.sin(Eang))\n",
    "    fitval*=2\n",
    "    print(Eang, ecc,rad,mass,fitval)\n",
    "    return fitval"
   ]
  },
  {
   "cell_type": "code",
   "execution_count": 434,
   "metadata": {},
   "outputs": [],
   "source": [
    "def residualtEang(pars,nptimes,npstar2x):\n",
    "    residual=np.abs(nptimes-tofEccAnom(npstar2x,pars['rad'],pars['ecc'],pars['theta'],pars['mass'],pars['useperihelion']))\n",
    "    #print(nptimes, residual)\n",
    "    return residual"
   ]
  },
  {
   "cell_type": "code",
   "execution_count": 435,
   "metadata": {},
   "outputs": [],
   "source": [
    "endindex=apindex\n",
    "if useperihelion:\n",
    "    endindex=perindex"
   ]
  },
  {
   "cell_type": "code",
   "execution_count": 436,
   "metadata": {},
   "outputs": [
    {
     "data": {
      "text/plain": [
       "44429"
      ]
     },
     "execution_count": 436,
     "metadata": {},
     "output_type": "execute_result"
    }
   ],
   "source": [
    "endindex"
   ]
  },
  {
   "cell_type": "code",
   "execution_count": 437,
   "metadata": {},
   "outputs": [
    {
     "name": "stdout",
     "output_type": "stream",
     "text": [
      "44428\n",
      "[50.         49.99999945 49.99999778 ... 49.99999188 49.99999556\n",
      " 49.99999815] [ 0.          0.00743392  0.01486784 ... -0.02846731 -0.02103339\n",
      " -0.01359948] [0.00000000e+00 8.51864415e-03 1.70372883e-02 ... 3.59967379e+02\n",
      " 3.59975898e+02 3.59984416e+02]\n",
      "Eang [0.00000000e+00 1.48678388e-04 2.97356776e-04 ... 6.28261596e+00\n",
      " 6.28276464e+00 6.28291332e+00]\n"
     ]
    }
   ],
   "source": [
    "xE0,yE0,Eang0=getEang(npstar2x[0:endindex-1,:],ecc0,rad0,theta0, useperihelion)"
   ]
  },
  {
   "cell_type": "code",
   "execution_count": 438,
   "metadata": {},
   "outputs": [],
   "source": [
    "nptimesoneorbit=nptimes[0:endindex-1]"
   ]
  },
  {
   "cell_type": "code",
   "execution_count": 439,
   "metadata": {},
   "outputs": [
    {
     "data": {
      "text/plain": [
       "[<matplotlib.lines.Line2D at 0x7f8dc0da0150>]"
      ]
     },
     "execution_count": 439,
     "metadata": {},
     "output_type": "execute_result"
    },
    {
     "data": {
      "image/png": "[encoded data removed]",
      "text/plain": [
       "<Figure size 432x288 with 1 Axes>"
      ]
     },
     "metadata": {
      "needs_background": "light"
     },
     "output_type": "display_data"
    }
   ],
   "source": [
    "plt.plot(Eang0, xE0)"
   ]
  },
  {
   "cell_type": "code",
   "execution_count": 440,
   "metadata": {},
   "outputs": [
    {
     "data": {
      "text/plain": [
       "[<matplotlib.lines.Line2D at 0x7f8da7cfee90>]"
      ]
     },
     "execution_count": 440,
     "metadata": {},
     "output_type": "execute_result"
    },
    {
     "data": {
      "image/png": "[encoded data removed]",
      "text/plain": [
       "<Figure size 432x288 with 1 Axes>"
      ]
     },
     "metadata": {
      "needs_background": "light"
     },
     "output_type": "display_data"
    }
   ],
   "source": [
    "plt.plot(Eang0, yE0)"
   ]
  },
  {
   "cell_type": "code",
   "execution_count": 441,
   "metadata": {},
   "outputs": [
    {
     "data": {
      "text/plain": [
       "[<matplotlib.lines.Line2D at 0x7f8da7363d10>]"
      ]
     },
     "execution_count": 441,
     "metadata": {},
     "output_type": "execute_result"
    },
    {
     "data": {
      "image/png": "[encoded data removed]",
      "text/plain": [
       "<Figure size 432x288 with 1 Axes>"
      ]
     },
     "metadata": {
      "needs_background": "light"
     },
     "output_type": "display_data"
    }
   ],
   "source": [
    "plt.plot(xE0,yE0)"
   ]
  },
  {
   "cell_type": "code",
   "execution_count": 442,
   "metadata": {},
   "outputs": [
    {
     "data": {
      "text/plain": [
       "[<matplotlib.lines.Line2D at 0x7f8da8b73e50>]"
      ]
     },
     "execution_count": 442,
     "metadata": {},
     "output_type": "execute_result"
    },
    {
     "data": {
      "image/png": "[encoded data removed]",
      "text/plain": [
       "<Figure size 432x288 with 1 Axes>"
      ]
     },
     "metadata": {
      "needs_background": "light"
     },
     "output_type": "display_data"
    }
   ],
   "source": [
    "plt.plot(nptimesoneorbit,xE0)"
   ]
  },
  {
   "cell_type": "code",
   "execution_count": 443,
   "metadata": {},
   "outputs": [
    {
     "data": {
      "text/plain": [
       "[<matplotlib.lines.Line2D at 0x7f8dc06d63d0>]"
      ]
     },
     "execution_count": 443,
     "metadata": {},
     "output_type": "execute_result"
    },
    {
     "data": {
      "image/png": "[encoded data removed]",
      "text/plain": [
       "<Figure size 432x288 with 1 Axes>"
      ]
     },
     "metadata": {
      "needs_background": "light"
     },
     "output_type": "display_data"
    }
   ],
   "source": [
    "plt.plot(nptimesoneorbit,yE0)"
   ]
  },
  {
   "cell_type": "code",
   "execution_count": 444,
   "metadata": {},
   "outputs": [
    {
     "data": {
      "text/plain": [
       "[<matplotlib.lines.Line2D at 0x7f8dbf929b10>]"
      ]
     },
     "execution_count": 444,
     "metadata": {},
     "output_type": "execute_result"
    },
    {
     "data": {
      "image/png": "[encoded data removed]",
      "text/plain": [
       "<Figure size 432x288 with 1 Axes>"
      ]
     },
     "metadata": {
      "needs_background": "light"
     },
     "output_type": "display_data"
    }
   ],
   "source": [
    "plt.plot(nptimesoneorbit,yE0/xE0)"
   ]
  },
  {
   "cell_type": "code",
   "execution_count": 445,
   "metadata": {},
   "outputs": [
    {
     "data": {
      "text/plain": [
       "0.0"
      ]
     },
     "execution_count": 445,
     "metadata": {},
     "output_type": "execute_result"
    }
   ],
   "source": [
    "np.arctan(0./1.)"
   ]
  },
  {
   "cell_type": "code",
   "execution_count": 446,
   "metadata": {},
   "outputs": [
    {
     "data": {
      "text/plain": [
       "0.0"
      ]
     },
     "execution_count": 446,
     "metadata": {},
     "output_type": "execute_result"
    }
   ],
   "source": [
    "yE0[0]"
   ]
  },
  {
   "cell_type": "code",
   "execution_count": 447,
   "metadata": {},
   "outputs": [
    {
     "data": {
      "text/plain": [
       "50.0"
      ]
     },
     "execution_count": 447,
     "metadata": {},
     "output_type": "execute_result"
    }
   ],
   "source": [
    "xE0[0]"
   ]
  },
  {
   "cell_type": "code",
   "execution_count": 448,
   "metadata": {},
   "outputs": [
    {
     "data": {
      "text/plain": [
       "[<matplotlib.lines.Line2D at 0x7f8dbd7075d0>]"
      ]
     },
     "execution_count": 448,
     "metadata": {},
     "output_type": "execute_result"
    },
    {
     "data": {
      "image/png": "[encoded data removed]",
      "text/plain": [
       "<Figure size 432x288 with 1 Axes>"
      ]
     },
     "metadata": {
      "needs_background": "light"
     },
     "output_type": "display_data"
    }
   ],
   "source": [
    "plt.plot(nptimesoneorbit,np.arctan2(yE0,xE0)*180/math.pi)"
   ]
  },
  {
   "cell_type": "code",
   "execution_count": 449,
   "metadata": {},
   "outputs": [
    {
     "name": "stdout",
     "output_type": "stream",
     "text": [
      "44428\n",
      "[50.         49.99999945 49.99999778 ... 49.99999188 49.99999556\n",
      " 49.99999815] [ 0.          0.00743392  0.01486784 ... -0.02846731 -0.02103339\n",
      " -0.01359948] [0.00000000e+00 8.51864415e-03 1.70372883e-02 ... 3.59967379e+02\n",
      " 3.59975898e+02 3.59984416e+02]\n",
      "Eang [0.00000000e+00 1.48678388e-04 2.97356776e-04 ... 6.28261596e+00\n",
      " 6.28276464e+00 6.28291332e+00]\n",
      "[0.00000000e+00 1.48678388e-04 2.97356776e-04 ... 6.28261596e+00\n",
      " 6.28276464e+00 6.28291332e+00] 0.05 50 1.0 [0.00000000e+00 9.98749218e-02 1.99749844e-01 ... 4.44250048e+03\n",
      " 4.44260035e+03 4.44270023e+03]\n"
     ]
    }
   ],
   "source": [
    "Eangtest=tofEccAnom(npstar2x[0:endindex-1,:],rad0,ecc0,theta0,masses[0], useperihelion)"
   ]
  },
  {
   "cell_type": "code",
   "execution_count": 450,
   "metadata": {},
   "outputs": [
    {
     "data": {
      "text/plain": [
       "4442.700228815834"
      ]
     },
     "execution_count": 450,
     "metadata": {},
     "output_type": "execute_result"
    }
   ],
   "source": [
    "np.max(Eangtest)"
   ]
  },
  {
   "cell_type": "code",
   "execution_count": 451,
   "metadata": {},
   "outputs": [
    {
     "data": {
      "text/plain": [
       "0.0"
      ]
     },
     "execution_count": 451,
     "metadata": {},
     "output_type": "execute_result"
    }
   ],
   "source": [
    "nptimes[0]"
   ]
  },
  {
   "cell_type": "code",
   "execution_count": 452,
   "metadata": {},
   "outputs": [],
   "source": [
    "nptimesoneorbit=nptimes[0:endindex-1]"
   ]
  },
  {
   "cell_type": "code",
   "execution_count": 453,
   "metadata": {},
   "outputs": [],
   "source": [
    "tpredoneorbit=Eangtest[0:endindex-1]"
   ]
  },
  {
   "cell_type": "code",
   "execution_count": 454,
   "metadata": {},
   "outputs": [],
   "source": [
    "Eangoneorbit=Eang0[0:endindex-1]"
   ]
  },
  {
   "cell_type": "code",
   "execution_count": 455,
   "metadata": {},
   "outputs": [
    {
     "data": {
      "text/plain": [
       "[<matplotlib.lines.Line2D at 0x7f8da72ea310>]"
      ]
     },
     "execution_count": 455,
     "metadata": {},
     "output_type": "execute_result"
    },
    {
     "data": {
      "image/png": "[encoded data removed]",
      "text/plain": [
       "<Figure size 432x288 with 1 Axes>"
      ]
     },
     "metadata": {
      "needs_background": "light"
     },
     "output_type": "display_data"
    }
   ],
   "source": [
    "plt.plot(nptimesoneorbit,npstar2x[0:endindex-1,1])"
   ]
  },
  {
   "cell_type": "code",
   "execution_count": 456,
   "metadata": {},
   "outputs": [
    {
     "data": {
      "text/plain": [
       "[<matplotlib.lines.Line2D at 0x7f8dc058c750>]"
      ]
     },
     "execution_count": 456,
     "metadata": {},
     "output_type": "execute_result"
    },
    {
     "data": {
      "image/png": "[encoded data removed]",
      "text/plain": [
       "<Figure size 432x288 with 1 Axes>"
      ]
     },
     "metadata": {
      "needs_background": "light"
     },
     "output_type": "display_data"
    }
   ],
   "source": [
    "plt.plot(nptimesoneorbit,Eangoneorbit/math.pi*180)"
   ]
  },
  {
   "cell_type": "code",
   "execution_count": 457,
   "metadata": {},
   "outputs": [
    {
     "data": {
      "text/plain": [
       "[<matplotlib.lines.Line2D at 0x7f8dbdb3de10>]"
      ]
     },
     "execution_count": 457,
     "metadata": {},
     "output_type": "execute_result"
    },
    {
     "data": {
      "image/png": "[encoded data removed]",
      "text/plain": [
       "<Figure size 432x288 with 1 Axes>"
      ]
     },
     "metadata": {
      "needs_background": "light"
     },
     "output_type": "display_data"
    }
   ],
   "source": [
    "plt.plot(nptimesoneorbit,tpredoneorbit)"
   ]
  },
  {
   "cell_type": "code",
   "execution_count": 458,
   "metadata": {},
   "outputs": [
    {
     "data": {
      "image/png": "[encoded data removed]",
      "text/plain": [
       "<Figure size 432x288 with 1 Axes>"
      ]
     },
     "metadata": {
      "needs_background": "light"
     },
     "output_type": "display_data"
    },
    {
     "data": {
      "image/png": "[encoded data removed]",
      "text/plain": [
       "<Figure size 432x288 with 1 Axes>"
      ]
     },
     "metadata": {
      "needs_background": "light"
     },
     "output_type": "display_data"
    }
   ],
   "source": [
    "plt.plot(nptimesoneorbit,tpredoneorbit, label='times')\n",
    "plt.xlabel(\"T timesteps\")\n",
    "plt.ylabel(\"T computed from angle\")\n",
    "plt.title(\"Times using start parameters\")\n",
    "plt.show()\n",
    "plt.plot(nptimesoneorbit,tpredoneorbit-nptimesoneorbit, label='residual')\n",
    "plt.legend()\n",
    "plt.show()\n"
   ]
  },
  {
   "cell_type": "markdown",
   "metadata": {},
   "source": [
    "# THERE IS A SECOND HARMONIC IN THIS TIMING DATA!!! I have heard of orbital resonances. Is that what I am seeing?"
   ]
  },
  {
   "cell_type": "code",
   "execution_count": 459,
   "metadata": {},
   "outputs": [],
   "source": [
    "from matplotlib import pyplot as plt"
   ]
  },
  {
   "cell_type": "markdown",
   "metadata": {},
   "source": [
    "Arctan function is giving tangent output. I'm done for today. I'm asking for help on this, either Steve or on a forum. Clearly something really weird is going on. This is a distinct problem from the retrograde motion I had before I fixed the center, which you can tell from the sharply spiked top as opposed to the curved top I had before. Now the center appears to be in the correct location but there is some problem related to tangent versus arctangent. "
   ]
  },
  {
   "cell_type": "code",
   "execution_count": 460,
   "metadata": {},
   "outputs": [
    {
     "data": {
      "text/plain": [
       "<matplotlib.collections.PathCollection at 0x7f8dc04e3990>"
      ]
     },
     "execution_count": 460,
     "metadata": {},
     "output_type": "execute_result"
    },
    {
     "data": {
      "image/png": "[encoded data removed]",
      "text/plain": [
       "<Figure size 432x288 with 1 Axes>"
      ]
     },
     "metadata": {
      "needs_background": "light"
     },
     "output_type": "display_data"
    }
   ],
   "source": [
    "plt.scatter(nptimesoneorbit,tpredoneorbit)"
   ]
  },
  {
   "cell_type": "markdown",
   "metadata": {},
   "source": [
    "Retrograde motion as seen from the center of mass. I'm not sure that makes sense. So there's a problem with the definition of the Eang. The problem might be with the ellipse center, which probably shouldn't be at x=-70, if it spans between +5 and -95. "
   ]
  },
  {
   "cell_type": "code",
   "execution_count": 461,
   "metadata": {},
   "outputs": [
    {
     "name": "stdout",
     "output_type": "stream",
     "text": [
      "44428\n",
      "[50.         49.99999945 49.99999778 ... 49.99999188 49.99999556\n",
      " 49.99999815] [ 0.          0.00743392  0.01486784 ... -0.02846731 -0.02103339\n",
      " -0.01359948] [0.00000000e+00 8.51864415e-03 1.70372883e-02 ... 3.59967379e+02\n",
      " 3.59975898e+02 3.59984416e+02]\n",
      "Eang [0.00000000e+00 1.48678388e-04 2.97356776e-04 ... 6.28261596e+00\n",
      " 6.28276464e+00 6.28291332e+00]\n",
      "[0.00000000e+00 1.48678388e-04 2.97356776e-04 ... 6.28261596e+00\n",
      " 6.28276464e+00 6.28291332e+00] <Parameter 'ecc', value=0.04999999999999999, bounds=[0:1.0]> <Parameter 'rad', value=50.0, bounds=[0:inf]> <Parameter 'mass', value=1.0 (fixed), bounds=[-inf:inf]> [0.00000000e+00 9.98749218e-02 1.99749844e-01 ... 4.44250048e+03\n",
      " 4.44260035e+03 4.44270023e+03]\n",
      "44428\n",
      "[50.         49.99999945 49.99999778 ... 49.99999188 49.99999556\n",
      " 49.99999815] [ 0.          0.00743392  0.01486784 ... -0.02846731 -0.02103339\n",
      " -0.01359948] [0.00000000e+00 8.51864415e-03 1.70372883e-02 ... 3.59967379e+02\n",
      " 3.59975898e+02 3.59984416e+02]\n",
      "Eang [0.00000000e+00 1.48678388e-04 2.97356776e-04 ... 6.28261596e+00\n",
      " 6.28276464e+00 6.28291332e+00]\n",
      "[0.00000000e+00 1.48678388e-04 2.97356776e-04 ... 6.28261596e+00\n",
      " 6.28276464e+00 6.28291332e+00] <Parameter 'ecc', value=0.04999999999999999, bounds=[0:1.0]> <Parameter 'rad', value=50.0, bounds=[0:inf]> <Parameter 'mass', value=1.0 (fixed), bounds=[-inf:inf]> [0.00000000e+00 9.98749218e-02 1.99749844e-01 ... 4.44250048e+03\n",
      " 4.44260035e+03 4.44270023e+03]\n",
      "44428\n",
      "[50.         49.99999945 49.99999778 ... 49.99999188 49.99999556\n",
      " 49.99999815] [ 0.          0.00743392  0.01486784 ... -0.02846731 -0.02103339\n",
      " -0.01359948] [0.00000000e+00 8.51864415e-03 1.70372883e-02 ... 3.59967379e+02\n",
      " 3.59975898e+02 3.59984416e+02]\n",
      "Eang [0.00000000e+00 1.48678388e-04 2.97356776e-04 ... 6.28261596e+00\n",
      " 6.28276464e+00 6.28291332e+00]\n",
      "[0.00000000e+00 1.48678388e-04 2.97356776e-04 ... 6.28261596e+00\n",
      " 6.28276464e+00 6.28291332e+00] <Parameter 'ecc', value=0.04999999999999999, bounds=[0:1.0]> <Parameter 'rad', value=50.0, bounds=[0:inf]> <Parameter 'mass', value=1.0 (fixed), bounds=[-inf:inf]> [0.00000000e+00 9.98749218e-02 1.99749844e-01 ... 4.44250048e+03\n",
      " 4.44260035e+03 4.44270023e+03]\n",
      "44428\n",
      "[50.         49.99999945 49.99999778 ... 49.99999188 49.99999556\n",
      " 49.99999815] [ 1.17033446e-07  7.43403642e-03  1.48679556e-02 ... -2.84671954e-02\n",
      " -2.10332770e-02 -1.35993581e-02] [3.59999998e+02 8.51622698e-03 1.70348711e-02 ... 3.59967376e+02\n",
      " 3.59975895e+02 3.59984414e+02]\n",
      "Eang [6.28318526e+00 1.48636201e-04 2.97314589e-04 ... 6.28261592e+00\n",
      " 6.28276460e+00 6.28291328e+00]\n",
      "[6.28318526e+00 1.48636201e-04 2.97314589e-04 ... 6.28261592e+00\n",
      " 6.28276460e+00 6.28291328e+00] <Parameter 'ecc', value=0.04999999999999999, bounds=[0:1.0]> <Parameter 'rad', value=50.0, bounds=[0:inf]> <Parameter 'mass', value=1.0 (fixed), bounds=[-inf:inf]> [4.44288291e+03 9.98465821e-02 1.99721504e-01 ... 4.44250045e+03\n",
      " 4.44260033e+03 4.44270020e+03]\n",
      "44428\n",
      "[50.00000004 49.99999948 49.99999782 ... 49.99999191 49.9999956\n",
      " 49.99999818] [ 0.          0.00743392  0.01486784 ... -0.02846731 -0.02103339\n",
      " -0.01359948] [0.00000000e+00 8.51864415e-03 1.70372883e-02 ... 3.59967379e+02\n",
      " 3.59975898e+02 3.59984416e+02]\n",
      "Eang [0.00000000e+00 1.48678388e-04 2.97356776e-04 ... 6.28261596e+00\n",
      " 6.28276464e+00 6.28291332e+00]\n",
      "[0.00000000e+00 1.48678388e-04 2.97356776e-04 ... 6.28261596e+00\n",
      " 6.28276464e+00 6.28291332e+00] <Parameter 'ecc', value=0.04999999999999999, bounds=[0:1.0]> <Parameter 'rad', value=50.000000759667046, bounds=[0:inf]> <Parameter 'mass', value=1.0 (fixed), bounds=[-inf:inf]> [0.00000000e+00 9.98749240e-02 1.99749848e-01 ... 4.44250058e+03\n",
      " 4.44260046e+03 4.44270033e+03]\n",
      "44428\n",
      "[50.00000018 49.99999963 49.99999797 ... 49.99999206 49.99999575\n",
      " 49.99999833] [ 0.          0.00743392  0.01486784 ... -0.02846731 -0.02103339\n",
      " -0.01359948] [0.00000000e+00 8.51864412e-03 1.70372882e-02 ... 3.59967379e+02\n",
      " 3.59975898e+02 3.59984416e+02]\n",
      "Eang [0.00000000e+00 1.48678388e-04 2.97356775e-04 ... 6.28261596e+00\n",
      " 6.28276464e+00 6.28291332e+00]\n",
      "[0.00000000e+00 1.48678388e-04 2.97356775e-04 ... 6.28261596e+00\n",
      " 6.28276464e+00 6.28291332e+00] <Parameter 'ecc', value=0.05000000363660023, bounds=[0:1.0]> <Parameter 'rad', value=50.0, bounds=[0:inf]> <Parameter 'mass', value=1.0 (fixed), bounds=[-inf:inf]> [0.00000000e+00 9.98749210e-02 1.99749842e-01 ... 4.44250048e+03\n",
      " 4.44260035e+03 4.44270023e+03]\n",
      "44428\n",
      "[50.00235495 50.0023544  50.00235273 ... 50.00234683 50.00235052\n",
      " 50.0023531 ] [-1.11126883e-15  7.43391939e-03  1.48678386e-02 ... -2.84673125e-02\n",
      " -2.10333940e-02 -1.35994751e-02] [2.29279620e-14 8.51824295e-03 1.70364859e-02 ... 3.59967380e+02\n",
      " 3.59975899e+02 3.59984417e+02]\n",
      "Eang [4.00168428e-16 1.48671386e-04 2.97342772e-04 ... 6.28261599e+00\n",
      " 6.28276466e+00 6.28291333e+00]\n",
      "[4.00168428e-16 1.48671386e-04 2.97342772e-04 ... 6.28261599e+00\n",
      " 6.28276466e+00 6.28291333e+00] <Parameter 'ecc', value=0.05004802866563812, bounds=[0:1.0]> <Parameter 'rad', value=49.99907123339042, bounds=[0:inf]> <Parameter 'mass', value=1.0 (fixed), bounds=[-inf:inf]> [2.68792639e-13 9.98623864e-02 1.99724773e-01 ... 4.44237674e+03\n",
      " 4.44247660e+03 4.44257646e+03]\n",
      "44428\n",
      "[50.00235495 50.0023544  50.00235273 ... 50.00234683 50.00235052\n",
      " 50.0023531 ] [-1.11126883e-15  7.43391939e-03  1.48678386e-02 ... -2.84673125e-02\n",
      " -2.10333940e-02 -1.35994751e-02] [2.29279620e-14 8.51824295e-03 1.70364859e-02 ... 3.59967380e+02\n",
      " 3.59975899e+02 3.59984417e+02]\n",
      "Eang [4.00168428e-16 1.48671386e-04 2.97342772e-04 ... 6.28261599e+00\n",
      " 6.28276466e+00 6.28291333e+00]\n",
      "[4.00168428e-16 1.48671386e-04 2.97342772e-04 ... 6.28261599e+00\n",
      " 6.28276466e+00 6.28291333e+00] <Parameter 'ecc', value=0.05004802866563812, bounds=[0:1.0]> <Parameter 'rad', value=49.99907123339042, bounds=[0:inf]> <Parameter 'mass', value=1.0 (fixed), bounds=[-inf:inf]> [2.68792639e-13 9.98623864e-02 1.99724773e-01 ... 4.44237674e+03\n",
      " 4.44247660e+03 4.44257646e+03]\n",
      "44428\n",
      "[50.00235499 50.00235443 50.00235277 ... 50.00234686 50.00235055\n",
      " 50.00235313] [-1.11126885e-15  7.43391939e-03  1.48678386e-02 ... -2.84673125e-02\n",
      " -2.10333940e-02 -1.35994751e-02] [2.29279620e-14 8.51824295e-03 1.70364859e-02 ... 3.59967380e+02\n",
      " 3.59975899e+02 3.59984417e+02]\n",
      "Eang [4.00168428e-16 1.48671386e-04 2.97342772e-04 ... 6.28261599e+00\n",
      " 6.28276466e+00 6.28291333e+00]\n",
      "[4.00168428e-16 1.48671386e-04 2.97342772e-04 ... 6.28261599e+00\n",
      " 6.28276466e+00 6.28291333e+00] <Parameter 'ecc', value=0.05004802866563812, bounds=[0:1.0]> <Parameter 'rad', value=49.999071993043614, bounds=[0:inf]> <Parameter 'mass', value=1.0 (fixed), bounds=[-inf:inf]> [2.68792645e-13 9.98623886e-02 1.99724777e-01 ... 4.44237684e+03\n",
      " 4.44247670e+03 4.44257656e+03]\n",
      "44428\n",
      "[50.00235513 50.00235458 50.00235292 ... 50.00234701 50.0023507\n",
      " 50.00235328] [-1.11126891e-15  7.43391939e-03  1.48678386e-02 ... -2.84673125e-02\n",
      " -2.10333940e-02 -1.35994751e-02] [2.29279618e-14 8.51824292e-03 1.70364858e-02 ... 3.59967380e+02\n",
      " 3.59975899e+02 3.59984417e+02]\n",
      "Eang [4.00168425e-16 1.48671385e-04 2.97342771e-04 ... 6.28261599e+00\n",
      " 6.28276466e+00 6.28291333e+00]\n",
      "[4.00168425e-16 1.48671385e-04 2.97342771e-04 ... 6.28261599e+00\n",
      " 6.28276466e+00 6.28291333e+00] <Parameter 'ecc', value=0.05004803230317678, bounds=[0:1.0]> <Parameter 'rad', value=49.99907123339042, bounds=[0:inf]> <Parameter 'mass', value=1.0 (fixed), bounds=[-inf:inf]> [2.68792636e-13 9.98623856e-02 1.99724771e-01 ... 4.44237674e+03\n",
      " 4.44247660e+03 4.44257646e+03]\n",
      "44428\n",
      "[50.00235558 50.00235503 50.00235337 ... 50.00234746 50.00235115\n",
      " 50.00235373] [-1.11126911e-15  7.43391939e-03  1.48678386e-02 ... -2.84673125e-02\n",
      " -2.10333940e-02 -1.35994751e-02] [2.29279614e-14 8.51824285e-03 1.70364857e-02 ... 3.59967380e+02\n",
      " 3.59975899e+02 3.59984417e+02]\n",
      "Eang [4.00168417e-16 1.48671384e-04 2.97342768e-04 ... 6.28261599e+00\n",
      " 6.28276466e+00 6.28291333e+00]\n",
      "[4.00168417e-16 1.48671384e-04 2.97342768e-04 ... 6.28261599e+00\n",
      " 6.28276466e+00 6.28291333e+00] <Parameter 'ecc', value=0.050048041472260774, bounds=[0:1.0]> <Parameter 'rad', value=49.99907111268369, bounds=[0:inf]> <Parameter 'mass', value=1.0 (fixed), bounds=[-inf:inf]> [2.68792627e-13 9.98623834e-02 1.99724767e-01 ... 4.44237672e+03\n",
      " 4.44247658e+03 4.44257644e+03]\n",
      "44428\n",
      "[50.00235558 50.00235503 50.00235337 ... 50.00234746 50.00235115\n",
      " 50.00235373] [-1.11126911e-15  7.43391939e-03  1.48678386e-02 ... -2.84673125e-02\n",
      " -2.10333940e-02 -1.35994751e-02] [2.29279614e-14 8.51824285e-03 1.70364857e-02 ... 3.59967380e+02\n",
      " 3.59975899e+02 3.59984417e+02]\n",
      "Eang [4.00168417e-16 1.48671384e-04 2.97342768e-04 ... 6.28261599e+00\n",
      " 6.28276466e+00 6.28291333e+00]\n",
      "[4.00168417e-16 1.48671384e-04 2.97342768e-04 ... 6.28261599e+00\n",
      " 6.28276466e+00 6.28291333e+00] <Parameter 'ecc', value=0.050048041472260774, bounds=[0:1.0]> <Parameter 'rad', value=49.99907111268369, bounds=[0:inf]> <Parameter 'mass', value=1.0 (fixed), bounds=[-inf:inf]> [2.68792627e-13 9.98623834e-02 1.99724767e-01 ... 4.44237672e+03\n",
      " 4.44247658e+03 4.44257644e+03]\n"
     ]
    }
   ],
   "source": [
    "from lmfit import Minimizer,Parameters\n",
    "pfittEang = Parameters()\n",
    "pfittEang.add(name='theta', value=theta0, min=theta0-math.pi, max=theta0+math.pi, vary=True)\n",
    "pfittEang.add(name='rad', value=rad0, min=0, vary=True)\n",
    "pfittEang.add(name='ecc', value=ecc0, min=0, max=1.0, vary=True)\n",
    "pfittEang.add(name='mass', value=masses[0], vary=False)\n",
    "pfittEang.add(name='useperihelion', value=True, vary=False)\n",
    "\n",
    "minit = Minimizer(residualtEang, pfittEang, fcn_args=(nptimesoneorbit,npstar2x[:endindex-1,:]))\n",
    "\n",
    "outt = minit.leastsq()"
   ]
  },
  {
   "cell_type": "code",
   "execution_count": 462,
   "metadata": {},
   "outputs": [
    {
     "data": {
      "text/html": [
       "<h2>Fit Statistics</h2><table><tr><td>fitting method</td><td>leastsq</td><td></td></tr><tr><td># function evals</td><td>9</td><td></td></tr><tr><td># data points</td><td>44428</td><td></td></tr><tr><td># variables</td><td>3</td><td></td></tr><tr><td>chi-square</td><td> 4156.89419</td><td></td></tr><tr><td>reduced chi-square</td><td> 0.09357106</td><td></td></tr><tr><td>Akaike info crit.</td><td>-105248.450</td><td></td></tr><tr><td>Bayesian info crit.</td><td>-105222.345</td><td></td></tr></table><h2>Variables</h2><table><tr><th> name </th><th> value </th><th> initial value </th><th> min </th><th> max </th><th> vary </th></tr><tr><td> theta </td><td> -4.4409e-16 </td><td> 0.0 </td><td> -3.14159265 </td><td>  3.14159265 </td><td> True </td></tr><tr><td> rad </td><td>  49.9990711 </td><td> 50 </td><td>  0.00000000 </td><td>         inf </td><td> True </td></tr><tr><td> ecc </td><td>  0.05004804 </td><td> 0.05 </td><td>  0.00000000 </td><td>  1.00000000 </td><td> True </td></tr><tr><td> mass </td><td>  1.00000000 </td><td> 1.0 </td><td>        -inf </td><td>         inf </td><td> False </td></tr><tr><td> useperihelion </td><td>  1.00000000 </td><td> True </td><td>        -inf </td><td>         inf </td><td> False </td></tr></table>"
      ],
      "text/plain": [
       "<lmfit.minimizer.MinimizerResult at 0x7f8dc4894850>"
      ]
     },
     "execution_count": 462,
     "metadata": {},
     "output_type": "execute_result"
    }
   ],
   "source": [
    "outt"
   ]
  },
  {
   "cell_type": "markdown",
   "metadata": {},
   "source": [
    "Eccentricity fit is still not great for eccentricity of 0.9 (0.99), but radius fit is pretty good. The chi square is enormous. Eccentricity of 0.5 looks somewhat better (ecc 0.51) but still has a large chisquared and generates a potentially helpful divide by zero warning in the fit. "
   ]
  },
  {
   "cell_type": "code",
   "execution_count": 463,
   "metadata": {},
   "outputs": [
    {
     "data": {
      "text/plain": [
       "4442.699999998631"
      ]
     },
     "execution_count": 463,
     "metadata": {},
     "output_type": "execute_result"
    }
   ],
   "source": [
    "tfinal=nptimesoneorbit[endindex-2]\n",
    "tfinal"
   ]
  },
  {
   "cell_type": "markdown",
   "metadata": {},
   "source": [
    "Updated Jupyter and python packages and angular momentum and energy conservation improved by many orders of magnitude, but the fit is about the same. deltaL and deltaE are now consistent with roundoff error. "
   ]
  },
  {
   "cell_type": "markdown",
   "metadata": {},
   "source": []
  },
  {
   "cell_type": "markdown",
   "metadata": {},
   "source": []
  },
  {
   "cell_type": "code",
   "execution_count": 464,
   "metadata": {},
   "outputs": [],
   "source": [
    "from scipy.fft import fft"
   ]
  },
  {
   "cell_type": "code",
   "execution_count": 465,
   "metadata": {},
   "outputs": [],
   "source": [
    "from scipy.signal import blackman\n",
    "wndow=blackman(len(nptimesoneorbit))"
   ]
  },
  {
   "cell_type": "code",
   "execution_count": 466,
   "metadata": {},
   "outputs": [],
   "source": [
    "ftresiduals=fft(nptimesoneorbit-tpredoneorbit)"
   ]
  },
  {
   "cell_type": "code",
   "execution_count": 467,
   "metadata": {},
   "outputs": [],
   "source": [
    "xf = np.linspace(0.0, 1.0/(2.0*dt), len(nptimesoneorbit)//2)"
   ]
  },
  {
   "cell_type": "code",
   "execution_count": 468,
   "metadata": {},
   "outputs": [
    {
     "data": {
      "text/plain": [
       "[<matplotlib.lines.Line2D at 0x7f8dc057e6d0>]"
      ]
     },
     "execution_count": 468,
     "metadata": {},
     "output_type": "execute_result"
    },
    {
     "data": {
      "image/png": "[encoded data removed]",
      "text/plain": [
       "<Figure size 432x288 with 1 Axes>"
      ]
     },
     "metadata": {
      "needs_background": "light"
     },
     "output_type": "display_data"
    }
   ],
   "source": [
    "plt.semilogy(xf[1:len(nptimesoneorbit)//2], 2.0/len(nptimesoneorbit) * np.abs(ftresiduals[1:len(nptimesoneorbit)//2]), '-b')"
   ]
  },
  {
   "cell_type": "code",
   "execution_count": 469,
   "metadata": {},
   "outputs": [],
   "source": [
    "ftr=fft(np.sqrt(npstar1x[:endindex-1,0]**2+npstar1x[:endindex-1,1]**2))"
   ]
  },
  {
   "cell_type": "code",
   "execution_count": 470,
   "metadata": {},
   "outputs": [
    {
     "data": {
      "text/plain": [
       "[<matplotlib.lines.Line2D at 0x7f8da8e99e10>]"
      ]
     },
     "execution_count": 470,
     "metadata": {},
     "output_type": "execute_result"
    },
    {
     "data": {
      "image/png": "[encoded data removed]",
      "text/plain": [
       "<Figure size 432x288 with 1 Axes>"
      ]
     },
     "metadata": {
      "needs_background": "light"
     },
     "output_type": "display_data"
    }
   ],
   "source": [
    "plt.semilogy(xf[1:len(nptimesoneorbit)//2], 2.0/len(nptimesoneorbit) * np.abs(ftr[1:len(nptimesoneorbit)//2]), '-b')"
   ]
  },
  {
   "cell_type": "markdown",
   "metadata": {},
   "source": [
    "Fourier transform won't work. The period is one time the length of the signal. See the blip at the second bin? That's the second harmonic. I don't see higher harmonics. "
   ]
  },
  {
   "cell_type": "code",
   "execution_count": 471,
   "metadata": {},
   "outputs": [
    {
     "data": {
      "text/plain": [
       "[<matplotlib.lines.Line2D at 0x7f8daa09f3d0>]"
      ]
     },
     "execution_count": 471,
     "metadata": {},
     "output_type": "execute_result"
    },
    {
     "data": {
      "image/png": "[encoded data removed]",
      "text/plain": [
       "<Figure size 432x288 with 1 Axes>"
      ]
     },
     "metadata": {
      "needs_background": "light"
     },
     "output_type": "display_data"
    }
   ],
   "source": [
    "plt.semilogy(xf[1:50], 2.0/len(nptimesoneorbit) * np.abs(ftresiduals[1:50]), '-b')"
   ]
  },
  {
   "cell_type": "code",
   "execution_count": 472,
   "metadata": {},
   "outputs": [
    {
     "data": {
      "text/plain": [
       "[<matplotlib.lines.Line2D at 0x7f8daa4a1410>]"
      ]
     },
     "execution_count": 472,
     "metadata": {},
     "output_type": "execute_result"
    },
    {
     "data": {
      "image/png": "[encoded data removed]",
      "text/plain": [
       "<Figure size 432x288 with 1 Axes>"
      ]
     },
     "metadata": {
      "needs_background": "light"
     },
     "output_type": "display_data"
    }
   ],
   "source": [
    "plt.semilogy(np.arange(1,30), 2.0/len(nptimesoneorbit[:29]) * np.abs(ftresiduals[1:30]), '-b')"
   ]
  },
  {
   "cell_type": "code",
   "execution_count": 473,
   "metadata": {},
   "outputs": [],
   "source": [
    "peaks=[4,8,13,17]"
   ]
  },
  {
   "cell_type": "markdown",
   "metadata": {},
   "source": [
    "This is the FFT of the residuals of the predicted time versus the actual time for the parameters of the simulation, using the theoretically expected equation E-esinE up to some factors. Looks like it has some resonances with percoids of about four times the lowest frequency resolution, I’m going to have to think about that, but either that means there’s an issue related to the four fold symmetry of the orbit, or something is happening related to the fact that it’s an RK4. I forget whether the lowest frequency resolution comes from the step size or from the orbital period. I think it comes from the orbital period, which suggests that it has to do with the four fold orbital symmetry, though it would be nice to think it comes from the RK4. Maybe it makes sense that it should have higher moments in its residuals, since its not circular. But the residuals shouldn’t be this large, I don’t think. I am using 0.9 as the eccentricity. Maybe that’s part of the issue. "
   ]
  },
  {
   "cell_type": "markdown",
   "metadata": {},
   "source": [
    "1/tfinal"
   ]
  },
  {
   "cell_type": "code",
   "execution_count": 474,
   "metadata": {},
   "outputs": [
    {
     "data": {
      "text/plain": [
       "[<matplotlib.lines.Line2D at 0x7f8daa835a90>]"
      ]
     },
     "execution_count": 474,
     "metadata": {},
     "output_type": "execute_result"
    },
    {
     "data": {
      "image/png": "[encoded data removed]",
      "text/plain": [
       "<Figure size 432x288 with 1 Axes>"
      ]
     },
     "metadata": {
      "needs_background": "light"
     },
     "output_type": "display_data"
    }
   ],
   "source": [
    "plt.semilogy(xf[1:50], 2.0/len(nptimesoneorbit) * np.abs(ftr[1:50]), '-b')"
   ]
  },
  {
   "cell_type": "code",
   "execution_count": null,
   "metadata": {},
   "outputs": [],
   "source": []
  },
  {
   "cell_type": "code",
   "execution_count": null,
   "metadata": {},
   "outputs": [],
   "source": []
  },
  {
   "cell_type": "code",
   "execution_count": null,
   "metadata": {},
   "outputs": [],
   "source": []
  },
  {
   "cell_type": "code",
   "execution_count": null,
   "metadata": {},
   "outputs": [],
   "source": []
  }
 ],
 "metadata": {
  "kernelspec": {
   "display_name": "Python 3",
   "language": "python",
   "name": "python3"
  },
  "language_info": {
   "codemirror_mode": {
    "name": "ipython",
    "version": 3
   },
   "file_extension": ".py",
   "mimetype": "text/x-python",
   "name": "python",
   "nbconvert_exporter": "python",
   "pygments_lexer": "ipython3",
   "version": "3.7.4"
  }
 },
 "nbformat": 4,
 "nbformat_minor": 2
}
