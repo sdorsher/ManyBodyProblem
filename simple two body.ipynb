{
 "cells": [
  {
   "cell_type": "code",
   "execution_count": 1,
   "metadata": {},
   "outputs": [],
   "source": [
    "import numpy as np\n",
    "import matplotlib.pyplot as plt\n",
    "\n",
    "def NewtonianForce(mass1,mass2, r):\n",
    "    return (6.67408*10**-11)*mass1*mass2/r/r;"
   ]
  },
  {
   "cell_type": "code",
   "execution_count": 2,
   "metadata": {},
   "outputs": [],
   "source": [
    "def euler(h,t, x,f):\n",
    "    return (f(t+h,x+h)-f(t,h)/2./h)"
   ]
  },
  {
   "cell_type": "code",
   "execution_count": 3,
   "metadata": {},
   "outputs": [],
   "source": [
    "def RK4(h,t,x,y,z,f): #not a finite difference so no step in y\n",
    "    k1= h*f(t,x,y,z)\n",
    "    k2=h*f(t+h/2.,x,y,z)\n",
    "    k3=h*f(t+h/2.,x,y,z)\n",
    "    k4=h*f(t+h,x,y,z)\n",
    "    return t+h, f(t,x,y,z)+1/6.*(k1+2.*k2+2.*k3+k4)\n",
    "\n"
   ]
  },
  {
   "cell_type": "code",
   "execution_count": null,
   "metadata": {},
   "outputs": [],
   "source": []
  },
  {
   "cell_type": "code",
   "execution_count": 4,
   "metadata": {},
   "outputs": [],
   "source": [
    "def polynomial4(t,x,a,b,c,d,e):\n",
    "    p=[]\n",
    "    for xi in x:\n",
    "        pi=a*xi**4+b*xi**3+c*xi**2+d*xi+e\n",
    "        #print(pi)\n",
    "        p.append(pi)\n",
    "    return np.array(p)\n",
    "    \n",
    "\n",
    "def polymaker(t,x,y,z,a,b,c,d,e):\n",
    "    def poly(t,x,y,z):\n",
    "        return polynomial4(t,x,a,b,c,d,e)\n",
    "    return poly\n",
    "        \n",
    "        "
   ]
  },
  {
   "cell_type": "code",
   "execution_count": 5,
   "metadata": {},
   "outputs": [
    {
     "name": "stdout",
     "output_type": "stream",
     "text": [
      "0.0 [0.   0.01 0.02 0.03 0.04 0.05 0.06 0.07 0.08 0.09]\n"
     ]
    }
   ],
   "source": [
    "import numpy as np\n",
    "t=0.\n",
    "x=0.01*np.arange(10.)\n",
    "y=0.01*np.arange(10.)\n",
    "z=0.01*np.arange(10.)\n",
    "print(t,x)\n",
    "polyfn=polymaker(t,x,y,z,1.,0.,0.,0.,0.)"
   ]
  },
  {
   "cell_type": "code",
   "execution_count": 6,
   "metadata": {},
   "outputs": [],
   "source": [
    "#import matplotlib.pyplot as plt\n",
    "#plt.plot(t,polyfn(t,x))"
   ]
  },
  {
   "cell_type": "code",
   "execution_count": 7,
   "metadata": {},
   "outputs": [
    {
     "name": "stdout",
     "output_type": "stream",
     "text": [
      "[0.000e+00 1.000e-08 1.600e-07 8.100e-07 2.560e-06 6.250e-06 1.296e-05\n",
      " 2.401e-05 4.096e-05 6.561e-05]\n"
     ]
    }
   ],
   "source": [
    "outp=polyfn(t,x,y,z) #this is correct to order of magnitude\n",
    "print(outp)"
   ]
  },
  {
   "cell_type": "code",
   "execution_count": 8,
   "metadata": {},
   "outputs": [
    {
     "data": {
      "text/html": [
       "\n",
       "    <div class=\"bk-root\">\n",
       "        <a href=\"https://bokeh.pydata.org\" target=\"_blank\" class=\"bk-logo bk-logo-small bk-logo-notebook\"></a>\n",
       "        <span id=\"e9713597-c23a-4a3c-9299-b3b0aeee127f\">Loading BokehJS ...</span>\n",
       "    </div>"
      ]
     },
     "metadata": {},
     "output_type": "display_data"
    },
    {
     "data": {
      "application/javascript": [
       "\n",
       "(function(root) {\n",
       "  function now() {\n",
       "    return new Date();\n",
       "  }\n",
       "\n",
       "  var force = true;\n",
       "\n",
       "  if (typeof (root._bokeh_onload_callbacks) === \"undefined\" || force === true) {\n",
       "    root._bokeh_onload_callbacks = [];\n",
       "    root._bokeh_is_loading = undefined;\n",
       "  }\n",
       "\n",
       "  var JS_MIME_TYPE = 'application/javascript';\n",
       "  var HTML_MIME_TYPE = 'text/html';\n",
       "  var EXEC_MIME_TYPE = 'application/vnd.bokehjs_exec.v0+json';\n",
       "  var CLASS_NAME = 'output_bokeh rendered_html';\n",
       "\n",
       "  /**\n",
       "   * Render data to the DOM node\n",
       "   */\n",
       "  function render(props, node) {\n",
       "    var script = document.createElement(\"script\");\n",
       "    node.appendChild(script);\n",
       "  }\n",
       "\n",
       "  /**\n",
       "   * Handle when an output is cleared or removed\n",
       "   */\n",
       "  function handleClearOutput(event, handle) {\n",
       "    var cell = handle.cell;\n",
       "\n",
       "    var id = cell.output_area._bokeh_element_id;\n",
       "    var server_id = cell.output_area._bokeh_server_id;\n",
       "    // Clean up Bokeh references\n",
       "    if (id !== undefined) {\n",
       "      Bokeh.index[id].model.document.clear();\n",
       "      delete Bokeh.index[id];\n",
       "    }\n",
       "\n",
       "    if (server_id !== undefined) {\n",
       "      // Clean up Bokeh references\n",
       "      var cmd = \"from bokeh.io.state import curstate; print(curstate().uuid_to_server['\" + server_id + \"'].get_sessions()[0].document.roots[0]._id)\";\n",
       "      cell.notebook.kernel.execute(cmd, {\n",
       "        iopub: {\n",
       "          output: function(msg) {\n",
       "            var element_id = msg.content.text.trim();\n",
       "            Bokeh.index[element_id].model.document.clear();\n",
       "            delete Bokeh.index[element_id];\n",
       "          }\n",
       "        }\n",
       "      });\n",
       "      // Destroy server and session\n",
       "      var cmd = \"import bokeh.io.notebook as ion; ion.destroy_server('\" + server_id + \"')\";\n",
       "      cell.notebook.kernel.execute(cmd);\n",
       "    }\n",
       "  }\n",
       "\n",
       "  /**\n",
       "   * Handle when a new output is added\n",
       "   */\n",
       "  function handleAddOutput(event, handle) {\n",
       "    var output_area = handle.output_area;\n",
       "    var output = handle.output;\n",
       "\n",
       "    // limit handleAddOutput to display_data with EXEC_MIME_TYPE content only\n",
       "    if ((output.output_type != \"display_data\") || (!output.data.hasOwnProperty(EXEC_MIME_TYPE))) {\n",
       "      return\n",
       "    }\n",
       "\n",
       "    var toinsert = output_area.element.find(\".\" + CLASS_NAME.split(' ')[0]);\n",
       "\n",
       "    if (output.metadata[EXEC_MIME_TYPE][\"id\"] !== undefined) {\n",
       "      toinsert[0].firstChild.textContent = output.data[JS_MIME_TYPE];\n",
       "      // store reference to embed id on output_area\n",
       "      output_area._bokeh_element_id = output.metadata[EXEC_MIME_TYPE][\"id\"];\n",
       "    }\n",
       "    if (output.metadata[EXEC_MIME_TYPE][\"server_id\"] !== undefined) {\n",
       "      var bk_div = document.createElement(\"div\");\n",
       "      bk_div.innerHTML = output.data[HTML_MIME_TYPE];\n",
       "      var script_attrs = bk_div.children[0].attributes;\n",
       "      for (var i = 0; i < script_attrs.length; i++) {\n",
       "        toinsert[0].firstChild.setAttribute(script_attrs[i].name, script_attrs[i].value);\n",
       "      }\n",
       "      // store reference to server id on output_area\n",
       "      output_area._bokeh_server_id = output.metadata[EXEC_MIME_TYPE][\"server_id\"];\n",
       "    }\n",
       "  }\n",
       "\n",
       "  function register_renderer(events, OutputArea) {\n",
       "\n",
       "    function append_mime(data, metadata, element) {\n",
       "      // create a DOM node to render to\n",
       "      var toinsert = this.create_output_subarea(\n",
       "        metadata,\n",
       "        CLASS_NAME,\n",
       "        EXEC_MIME_TYPE\n",
       "      );\n",
       "      this.keyboard_manager.register_events(toinsert);\n",
       "      // Render to node\n",
       "      var props = {data: data, metadata: metadata[EXEC_MIME_TYPE]};\n",
       "      render(props, toinsert[0]);\n",
       "      element.append(toinsert);\n",
       "      return toinsert\n",
       "    }\n",
       "\n",
       "    /* Handle when an output is cleared or removed */\n",
       "    events.on('clear_output.CodeCell', handleClearOutput);\n",
       "    events.on('delete.Cell', handleClearOutput);\n",
       "\n",
       "    /* Handle when a new output is added */\n",
       "    events.on('output_added.OutputArea', handleAddOutput);\n",
       "\n",
       "    /**\n",
       "     * Register the mime type and append_mime function with output_area\n",
       "     */\n",
       "    OutputArea.prototype.register_mime_type(EXEC_MIME_TYPE, append_mime, {\n",
       "      /* Is output safe? */\n",
       "      safe: true,\n",
       "      /* Index of renderer in `output_area.display_order` */\n",
       "      index: 0\n",
       "    });\n",
       "  }\n",
       "\n",
       "  // register the mime type if in Jupyter Notebook environment and previously unregistered\n",
       "  if (root.Jupyter !== undefined) {\n",
       "    var events = require('base/js/events');\n",
       "    var OutputArea = require('notebook/js/outputarea').OutputArea;\n",
       "\n",
       "    if (OutputArea.prototype.mime_types().indexOf(EXEC_MIME_TYPE) == -1) {\n",
       "      register_renderer(events, OutputArea);\n",
       "    }\n",
       "  }\n",
       "\n",
       "  \n",
       "  if (typeof (root._bokeh_timeout) === \"undefined\" || force === true) {\n",
       "    root._bokeh_timeout = Date.now() + 5000;\n",
       "    root._bokeh_failed_load = false;\n",
       "  }\n",
       "\n",
       "  var NB_LOAD_WARNING = {'data': {'text/html':\n",
       "     \"<div style='background-color: #fdd'>\\n\"+\n",
       "     \"<p>\\n\"+\n",
       "     \"BokehJS does not appear to have successfully loaded. If loading BokehJS from CDN, this \\n\"+\n",
       "     \"may be due to a slow or bad network connection. Possible fixes:\\n\"+\n",
       "     \"</p>\\n\"+\n",
       "     \"<ul>\\n\"+\n",
       "     \"<li>re-rerun `output_notebook()` to attempt to load from CDN again, or</li>\\n\"+\n",
       "     \"<li>use INLINE resources instead, as so:</li>\\n\"+\n",
       "     \"</ul>\\n\"+\n",
       "     \"<code>\\n\"+\n",
       "     \"from bokeh.resources import INLINE\\n\"+\n",
       "     \"output_notebook(resources=INLINE)\\n\"+\n",
       "     \"</code>\\n\"+\n",
       "     \"</div>\"}};\n",
       "\n",
       "  function display_loaded() {\n",
       "    var el = document.getElementById(\"e9713597-c23a-4a3c-9299-b3b0aeee127f\");\n",
       "    if (el != null) {\n",
       "      el.textContent = \"BokehJS is loading...\";\n",
       "    }\n",
       "    if (root.Bokeh !== undefined) {\n",
       "      if (el != null) {\n",
       "        el.textContent = \"BokehJS \" + root.Bokeh.version + \" successfully loaded.\";\n",
       "      }\n",
       "    } else if (Date.now() < root._bokeh_timeout) {\n",
       "      setTimeout(display_loaded, 100)\n",
       "    }\n",
       "  }\n",
       "\n",
       "\n",
       "  function run_callbacks() {\n",
       "    try {\n",
       "      root._bokeh_onload_callbacks.forEach(function(callback) { callback() });\n",
       "    }\n",
       "    finally {\n",
       "      delete root._bokeh_onload_callbacks\n",
       "    }\n",
       "    console.info(\"Bokeh: all callbacks have finished\");\n",
       "  }\n",
       "\n",
       "  function load_libs(js_urls, callback) {\n",
       "    root._bokeh_onload_callbacks.push(callback);\n",
       "    if (root._bokeh_is_loading > 0) {\n",
       "      console.log(\"Bokeh: BokehJS is being loaded, scheduling callback at\", now());\n",
       "      return null;\n",
       "    }\n",
       "    if (js_urls == null || js_urls.length === 0) {\n",
       "      run_callbacks();\n",
       "      return null;\n",
       "    }\n",
       "    console.log(\"Bokeh: BokehJS not loaded, scheduling load and callback at\", now());\n",
       "    root._bokeh_is_loading = js_urls.length;\n",
       "    for (var i = 0; i < js_urls.length; i++) {\n",
       "      var url = js_urls[i];\n",
       "      var s = document.createElement('script');\n",
       "      s.src = url;\n",
       "      s.async = false;\n",
       "      s.onreadystatechange = s.onload = function() {\n",
       "        root._bokeh_is_loading--;\n",
       "        if (root._bokeh_is_loading === 0) {\n",
       "          console.log(\"Bokeh: all BokehJS libraries loaded\");\n",
       "          run_callbacks()\n",
       "        }\n",
       "      };\n",
       "      s.onerror = function() {\n",
       "        console.warn(\"failed to load library \" + url);\n",
       "      };\n",
       "      console.log(\"Bokeh: injecting script tag for BokehJS library: \", url);\n",
       "      document.getElementsByTagName(\"head\")[0].appendChild(s);\n",
       "    }\n",
       "  };var element = document.getElementById(\"e9713597-c23a-4a3c-9299-b3b0aeee127f\");\n",
       "  if (element == null) {\n",
       "    console.log(\"Bokeh: ERROR: autoload.js configured with elementid 'e9713597-c23a-4a3c-9299-b3b0aeee127f' but no matching script tag was found. \")\n",
       "    return false;\n",
       "  }\n",
       "\n",
       "  var js_urls = [\"https://cdn.pydata.org/bokeh/release/bokeh-0.12.13.min.js\", \"https://cdn.pydata.org/bokeh/release/bokeh-widgets-0.12.13.min.js\", \"https://cdn.pydata.org/bokeh/release/bokeh-tables-0.12.13.min.js\", \"https://cdn.pydata.org/bokeh/release/bokeh-gl-0.12.13.min.js\"];\n",
       "\n",
       "  var inline_js = [\n",
       "    function(Bokeh) {\n",
       "      Bokeh.set_log_level(\"info\");\n",
       "    },\n",
       "    \n",
       "    function(Bokeh) {\n",
       "      \n",
       "    },\n",
       "    function(Bokeh) {\n",
       "      console.log(\"Bokeh: injecting CSS: https://cdn.pydata.org/bokeh/release/bokeh-0.12.13.min.css\");\n",
       "      Bokeh.embed.inject_css(\"https://cdn.pydata.org/bokeh/release/bokeh-0.12.13.min.css\");\n",
       "      console.log(\"Bokeh: injecting CSS: https://cdn.pydata.org/bokeh/release/bokeh-widgets-0.12.13.min.css\");\n",
       "      Bokeh.embed.inject_css(\"https://cdn.pydata.org/bokeh/release/bokeh-widgets-0.12.13.min.css\");\n",
       "      console.log(\"Bokeh: injecting CSS: https://cdn.pydata.org/bokeh/release/bokeh-tables-0.12.13.min.css\");\n",
       "      Bokeh.embed.inject_css(\"https://cdn.pydata.org/bokeh/release/bokeh-tables-0.12.13.min.css\");\n",
       "    }\n",
       "  ];\n",
       "\n",
       "  function run_inline_js() {\n",
       "    \n",
       "    if ((root.Bokeh !== undefined) || (force === true)) {\n",
       "      for (var i = 0; i < inline_js.length; i++) {\n",
       "        inline_js[i].call(root, root.Bokeh);\n",
       "      }if (force === true) {\n",
       "        display_loaded();\n",
       "      }} else if (Date.now() < root._bokeh_timeout) {\n",
       "      setTimeout(run_inline_js, 100);\n",
       "    } else if (!root._bokeh_failed_load) {\n",
       "      console.log(\"Bokeh: BokehJS failed to load within specified timeout.\");\n",
       "      root._bokeh_failed_load = true;\n",
       "    } else if (force !== true) {\n",
       "      var cell = $(document.getElementById(\"e9713597-c23a-4a3c-9299-b3b0aeee127f\")).parents('.cell').data().cell;\n",
       "      cell.output_area.append_execute_result(NB_LOAD_WARNING)\n",
       "    }\n",
       "\n",
       "  }\n",
       "\n",
       "  if (root._bokeh_is_loading === 0) {\n",
       "    console.log(\"Bokeh: BokehJS loaded, going straight to plotting\");\n",
       "    run_inline_js();\n",
       "  } else {\n",
       "    load_libs(js_urls, function() {\n",
       "      console.log(\"Bokeh: BokehJS plotting callback run at\", now());\n",
       "      run_inline_js();\n",
       "    });\n",
       "  }\n",
       "}(window));"
      ],
      "application/vnd.bokehjs_load.v0+json": "\n(function(root) {\n  function now() {\n    return new Date();\n  }\n\n  var force = true;\n\n  if (typeof (root._bokeh_onload_callbacks) === \"undefined\" || force === true) {\n    root._bokeh_onload_callbacks = [];\n    root._bokeh_is_loading = undefined;\n  }\n\n  \n\n  \n  if (typeof (root._bokeh_timeout) === \"undefined\" || force === true) {\n    root._bokeh_timeout = Date.now() + 5000;\n    root._bokeh_failed_load = false;\n  }\n\n  var NB_LOAD_WARNING = {'data': {'text/html':\n     \"<div style='background-color: #fdd'>\\n\"+\n     \"<p>\\n\"+\n     \"BokehJS does not appear to have successfully loaded. If loading BokehJS from CDN, this \\n\"+\n     \"may be due to a slow or bad network connection. Possible fixes:\\n\"+\n     \"</p>\\n\"+\n     \"<ul>\\n\"+\n     \"<li>re-rerun `output_notebook()` to attempt to load from CDN again, or</li>\\n\"+\n     \"<li>use INLINE resources instead, as so:</li>\\n\"+\n     \"</ul>\\n\"+\n     \"<code>\\n\"+\n     \"from bokeh.resources import INLINE\\n\"+\n     \"output_notebook(resources=INLINE)\\n\"+\n     \"</code>\\n\"+\n     \"</div>\"}};\n\n  function display_loaded() {\n    var el = document.getElementById(\"e9713597-c23a-4a3c-9299-b3b0aeee127f\");\n    if (el != null) {\n      el.textContent = \"BokehJS is loading...\";\n    }\n    if (root.Bokeh !== undefined) {\n      if (el != null) {\n        el.textContent = \"BokehJS \" + root.Bokeh.version + \" successfully loaded.\";\n      }\n    } else if (Date.now() < root._bokeh_timeout) {\n      setTimeout(display_loaded, 100)\n    }\n  }\n\n\n  function run_callbacks() {\n    try {\n      root._bokeh_onload_callbacks.forEach(function(callback) { callback() });\n    }\n    finally {\n      delete root._bokeh_onload_callbacks\n    }\n    console.info(\"Bokeh: all callbacks have finished\");\n  }\n\n  function load_libs(js_urls, callback) {\n    root._bokeh_onload_callbacks.push(callback);\n    if (root._bokeh_is_loading > 0) {\n      console.log(\"Bokeh: BokehJS is being loaded, scheduling callback at\", now());\n      return null;\n    }\n    if (js_urls == null || js_urls.length === 0) {\n      run_callbacks();\n      return null;\n    }\n    console.log(\"Bokeh: BokehJS not loaded, scheduling load and callback at\", now());\n    root._bokeh_is_loading = js_urls.length;\n    for (var i = 0; i < js_urls.length; i++) {\n      var url = js_urls[i];\n      var s = document.createElement('script');\n      s.src = url;\n      s.async = false;\n      s.onreadystatechange = s.onload = function() {\n        root._bokeh_is_loading--;\n        if (root._bokeh_is_loading === 0) {\n          console.log(\"Bokeh: all BokehJS libraries loaded\");\n          run_callbacks()\n        }\n      };\n      s.onerror = function() {\n        console.warn(\"failed to load library \" + url);\n      };\n      console.log(\"Bokeh: injecting script tag for BokehJS library: \", url);\n      document.getElementsByTagName(\"head\")[0].appendChild(s);\n    }\n  };var element = document.getElementById(\"e9713597-c23a-4a3c-9299-b3b0aeee127f\");\n  if (element == null) {\n    console.log(\"Bokeh: ERROR: autoload.js configured with elementid 'e9713597-c23a-4a3c-9299-b3b0aeee127f' but no matching script tag was found. \")\n    return false;\n  }\n\n  var js_urls = [\"https://cdn.pydata.org/bokeh/release/bokeh-0.12.13.min.js\", \"https://cdn.pydata.org/bokeh/release/bokeh-widgets-0.12.13.min.js\", \"https://cdn.pydata.org/bokeh/release/bokeh-tables-0.12.13.min.js\", \"https://cdn.pydata.org/bokeh/release/bokeh-gl-0.12.13.min.js\"];\n\n  var inline_js = [\n    function(Bokeh) {\n      Bokeh.set_log_level(\"info\");\n    },\n    \n    function(Bokeh) {\n      \n    },\n    function(Bokeh) {\n      console.log(\"Bokeh: injecting CSS: https://cdn.pydata.org/bokeh/release/bokeh-0.12.13.min.css\");\n      Bokeh.embed.inject_css(\"https://cdn.pydata.org/bokeh/release/bokeh-0.12.13.min.css\");\n      console.log(\"Bokeh: injecting CSS: https://cdn.pydata.org/bokeh/release/bokeh-widgets-0.12.13.min.css\");\n      Bokeh.embed.inject_css(\"https://cdn.pydata.org/bokeh/release/bokeh-widgets-0.12.13.min.css\");\n      console.log(\"Bokeh: injecting CSS: https://cdn.pydata.org/bokeh/release/bokeh-tables-0.12.13.min.css\");\n      Bokeh.embed.inject_css(\"https://cdn.pydata.org/bokeh/release/bokeh-tables-0.12.13.min.css\");\n    }\n  ];\n\n  function run_inline_js() {\n    \n    if ((root.Bokeh !== undefined) || (force === true)) {\n      for (var i = 0; i < inline_js.length; i++) {\n        inline_js[i].call(root, root.Bokeh);\n      }if (force === true) {\n        display_loaded();\n      }} else if (Date.now() < root._bokeh_timeout) {\n      setTimeout(run_inline_js, 100);\n    } else if (!root._bokeh_failed_load) {\n      console.log(\"Bokeh: BokehJS failed to load within specified timeout.\");\n      root._bokeh_failed_load = true;\n    } else if (force !== true) {\n      var cell = $(document.getElementById(\"e9713597-c23a-4a3c-9299-b3b0aeee127f\")).parents('.cell').data().cell;\n      cell.output_area.append_execute_result(NB_LOAD_WARNING)\n    }\n\n  }\n\n  if (root._bokeh_is_loading === 0) {\n    console.log(\"Bokeh: BokehJS loaded, going straight to plotting\");\n    run_inline_js();\n  } else {\n    load_libs(js_urls, function() {\n      console.log(\"Bokeh: BokehJS plotting callback run at\", now());\n      run_inline_js();\n    });\n  }\n}(window));"
     },
     "metadata": {},
     "output_type": "display_data"
    },
    {
     "data": {
      "text/html": [
       "\n",
       "<div class=\"bk-root\">\n",
       "    <div class=\"bk-plotdiv\" id=\"d3f1c151-2792-46e3-9765-a8bd1283af01\"></div>\n",
       "</div>"
      ]
     },
     "metadata": {},
     "output_type": "display_data"
    },
    {
     "data": {
      "application/javascript": [
       "(function(root) {\n",
       "  function embed_document(root) {\n",
       "    \n",
       "  var docs_json = {\"ba07498d-d3d7-4555-bef1-790fd61fa5b3\":{\"roots\":{\"references\":[{\"attributes\":{\"dimension\":1,\"plot\":{\"id\":\"9d83f248-a24b-4ef1-87e3-7817245026a2\",\"subtype\":\"Figure\",\"type\":\"Plot\"},\"ticker\":{\"id\":\"298f769f-6151-4270-a92c-8f7c7536099e\",\"type\":\"BasicTicker\"}},\"id\":\"237fa50c-6b11-4ae7-8b7b-65a67f34fd79\",\"type\":\"Grid\"},{\"attributes\":{\"data_source\":{\"id\":\"8dcbd6f7-8199-4dcf-aa30-8471bf972457\",\"type\":\"ColumnDataSource\"},\"glyph\":{\"id\":\"44490599-b239-47b9-b42c-a95c27eb9eb3\",\"type\":\"Line\"},\"hover_glyph\":null,\"muted_glyph\":null,\"nonselection_glyph\":{\"id\":\"0bb6b34c-aabc-488d-a332-04b34c2f3baf\",\"type\":\"Line\"},\"selection_glyph\":null,\"view\":{\"id\":\"13adf43b-e100-4ebb-8d54-3c8664a8fd6d\",\"type\":\"CDSView\"}},\"id\":\"c3cfd6de-d29e-4cd6-9b10-d7ef986965c4\",\"type\":\"GlyphRenderer\"},{\"attributes\":{\"bottom_units\":\"screen\",\"fill_alpha\":{\"value\":0.5},\"fill_color\":{\"value\":\"lightgrey\"},\"left_units\":\"screen\",\"level\":\"overlay\",\"line_alpha\":{\"value\":1.0},\"line_color\":{\"value\":\"black\"},\"line_dash\":[4,4],\"line_width\":{\"value\":2},\"plot\":null,\"render_mode\":\"css\",\"right_units\":\"screen\",\"top_units\":\"screen\"},\"id\":\"0f441e5c-a414-43de-80cd-587e977f1f54\",\"type\":\"BoxAnnotation\"},{\"attributes\":{\"line_alpha\":0.1,\"line_color\":\"#1f77b4\",\"line_width\":2,\"x\":{\"field\":\"x\"},\"y\":{\"field\":\"y\"}},\"id\":\"0bb6b34c-aabc-488d-a332-04b34c2f3baf\",\"type\":\"Line\"},{\"attributes\":{},\"id\":\"cfc5a801-c316-44ae-b164-9e0138c7e219\",\"type\":\"BasicTickFormatter\"},{\"attributes\":{\"plot\":null,\"text\":\"Polynomial function (x^4)\"},\"id\":\"d00d6ef8-44a3-485f-8ee9-ec5578ce6922\",\"type\":\"Title\"},{\"attributes\":{},\"id\":\"938bf0cc-4a88-4b53-a163-2f56ac87433a\",\"type\":\"BasicTickFormatter\"},{\"attributes\":{\"callback\":null,\"column_names\":[\"x\",\"y\"],\"data\":{\"x\":{\"__ndarray__\":\"AAAAAAAAAAB7FK5H4XqEP3sUrkfhepQ/uB6F61G4nj97FK5H4XqkP5qZmZmZmak/uB6F61G4rj/sUbgeheuxP3sUrkfherQ/CtejcD0Ktz8=\",\"dtype\":\"float64\",\"shape\":[10]},\"y\":{\"__ndarray__\":\"AAAAAAAAAAB7FK5H4XqEP3sUrkfhepQ/uB6F61G4nj97FK5H4XqkP5qZmZmZmak/uB6F61G4rj/sUbgeheuxP3sUrkfherQ/CtejcD0Ktz8=\",\"dtype\":\"float64\",\"shape\":[10]}}},\"id\":\"8dcbd6f7-8199-4dcf-aa30-8471bf972457\",\"type\":\"ColumnDataSource\"},{\"attributes\":{\"source\":{\"id\":\"8dcbd6f7-8199-4dcf-aa30-8471bf972457\",\"type\":\"ColumnDataSource\"}},\"id\":\"13adf43b-e100-4ebb-8d54-3c8664a8fd6d\",\"type\":\"CDSView\"},{\"attributes\":{},\"id\":\"fc1636e6-07b0-41ab-9e41-85aa4226d157\",\"type\":\"PanTool\"},{\"attributes\":{\"overlay\":{\"id\":\"0f441e5c-a414-43de-80cd-587e977f1f54\",\"type\":\"BoxAnnotation\"}},\"id\":\"cfc6c8b2-cfc0-429e-ab63-7e1954bbfdb8\",\"type\":\"BoxZoomTool\"},{\"attributes\":{\"callback\":null},\"id\":\"d2095f1d-6e14-47ce-a18e-7e7972bd4497\",\"type\":\"DataRange1d\"},{\"attributes\":{\"active_drag\":\"auto\",\"active_inspect\":\"auto\",\"active_scroll\":\"auto\",\"active_tap\":\"auto\",\"tools\":[{\"id\":\"fc1636e6-07b0-41ab-9e41-85aa4226d157\",\"type\":\"PanTool\"},{\"id\":\"94148838-bc27-4912-8ea4-a522dac86af4\",\"type\":\"WheelZoomTool\"},{\"id\":\"cfc6c8b2-cfc0-429e-ab63-7e1954bbfdb8\",\"type\":\"BoxZoomTool\"},{\"id\":\"003957c8-4b6a-4fbc-bc24-73f07c41c6ba\",\"type\":\"SaveTool\"},{\"id\":\"8b3040d0-d095-4832-83ae-4ebb77b76e50\",\"type\":\"ResetTool\"},{\"id\":\"8197ebac-0ee5-4ccf-a4aa-52d90bbb0208\",\"type\":\"HelpTool\"}]},\"id\":\"0bfebb8c-5108-4db1-80c1-e091ff43312a\",\"type\":\"Toolbar\"},{\"attributes\":{},\"id\":\"003957c8-4b6a-4fbc-bc24-73f07c41c6ba\",\"type\":\"SaveTool\"},{\"attributes\":{},\"id\":\"94148838-bc27-4912-8ea4-a522dac86af4\",\"type\":\"WheelZoomTool\"},{\"attributes\":{},\"id\":\"8b3040d0-d095-4832-83ae-4ebb77b76e50\",\"type\":\"ResetTool\"},{\"attributes\":{},\"id\":\"7001a8ce-431d-4bd8-8e22-89ee6201d2b3\",\"type\":\"LinearScale\"},{\"attributes\":{},\"id\":\"8197ebac-0ee5-4ccf-a4aa-52d90bbb0208\",\"type\":\"HelpTool\"},{\"attributes\":{},\"id\":\"4d0cd4a2-0709-441d-bcc9-0f539be450d6\",\"type\":\"LinearScale\"},{\"attributes\":{\"below\":[{\"id\":\"ce149558-40f0-42ef-8667-ad1b61623f6a\",\"type\":\"LinearAxis\"}],\"left\":[{\"id\":\"b99d5d8d-40ce-4bab-b962-e2dfbd8d3502\",\"type\":\"LinearAxis\"}],\"renderers\":[{\"id\":\"ce149558-40f0-42ef-8667-ad1b61623f6a\",\"type\":\"LinearAxis\"},{\"id\":\"f13117d7-3aab-4540-aea0-7a57fdfd977d\",\"type\":\"Grid\"},{\"id\":\"b99d5d8d-40ce-4bab-b962-e2dfbd8d3502\",\"type\":\"LinearAxis\"},{\"id\":\"237fa50c-6b11-4ae7-8b7b-65a67f34fd79\",\"type\":\"Grid\"},{\"id\":\"0f441e5c-a414-43de-80cd-587e977f1f54\",\"type\":\"BoxAnnotation\"},{\"id\":\"a8830d59-fc98-4d3c-9008-635876d2abfc\",\"type\":\"Legend\"},{\"id\":\"c3cfd6de-d29e-4cd6-9b10-d7ef986965c4\",\"type\":\"GlyphRenderer\"}],\"title\":{\"id\":\"d00d6ef8-44a3-485f-8ee9-ec5578ce6922\",\"type\":\"Title\"},\"toolbar\":{\"id\":\"0bfebb8c-5108-4db1-80c1-e091ff43312a\",\"type\":\"Toolbar\"},\"x_range\":{\"id\":\"c6ddb931-126e-4aed-afed-40f0bcd20aeb\",\"type\":\"DataRange1d\"},\"x_scale\":{\"id\":\"7001a8ce-431d-4bd8-8e22-89ee6201d2b3\",\"type\":\"LinearScale\"},\"y_range\":{\"id\":\"d2095f1d-6e14-47ce-a18e-7e7972bd4497\",\"type\":\"DataRange1d\"},\"y_scale\":{\"id\":\"4d0cd4a2-0709-441d-bcc9-0f539be450d6\",\"type\":\"LinearScale\"}},\"id\":\"9d83f248-a24b-4ef1-87e3-7817245026a2\",\"subtype\":\"Figure\",\"type\":\"Plot\"},{\"attributes\":{\"axis_label\":\"x\",\"formatter\":{\"id\":\"938bf0cc-4a88-4b53-a163-2f56ac87433a\",\"type\":\"BasicTickFormatter\"},\"plot\":{\"id\":\"9d83f248-a24b-4ef1-87e3-7817245026a2\",\"subtype\":\"Figure\",\"type\":\"Plot\"},\"ticker\":{\"id\":\"5fbb00ed-41f6-4e51-b9b8-848c8271023a\",\"type\":\"BasicTicker\"}},\"id\":\"ce149558-40f0-42ef-8667-ad1b61623f6a\",\"type\":\"LinearAxis\"},{\"attributes\":{\"items\":[{\"id\":\"c7cff3a7-e6d0-4fdd-9464-aad1c15239d9\",\"type\":\"LegendItem\"}],\"plot\":{\"id\":\"9d83f248-a24b-4ef1-87e3-7817245026a2\",\"subtype\":\"Figure\",\"type\":\"Plot\"}},\"id\":\"a8830d59-fc98-4d3c-9008-635876d2abfc\",\"type\":\"Legend\"},{\"attributes\":{},\"id\":\"5fbb00ed-41f6-4e51-b9b8-848c8271023a\",\"type\":\"BasicTicker\"},{\"attributes\":{\"label\":{\"value\":\"Quartic polynomial\"},\"renderers\":[{\"id\":\"c3cfd6de-d29e-4cd6-9b10-d7ef986965c4\",\"type\":\"GlyphRenderer\"}]},\"id\":\"c7cff3a7-e6d0-4fdd-9464-aad1c15239d9\",\"type\":\"LegendItem\"},{\"attributes\":{\"plot\":{\"id\":\"9d83f248-a24b-4ef1-87e3-7817245026a2\",\"subtype\":\"Figure\",\"type\":\"Plot\"},\"ticker\":{\"id\":\"5fbb00ed-41f6-4e51-b9b8-848c8271023a\",\"type\":\"BasicTicker\"}},\"id\":\"f13117d7-3aab-4540-aea0-7a57fdfd977d\",\"type\":\"Grid\"},{\"attributes\":{\"axis_label\":\"y\",\"formatter\":{\"id\":\"cfc5a801-c316-44ae-b164-9e0138c7e219\",\"type\":\"BasicTickFormatter\"},\"plot\":{\"id\":\"9d83f248-a24b-4ef1-87e3-7817245026a2\",\"subtype\":\"Figure\",\"type\":\"Plot\"},\"ticker\":{\"id\":\"298f769f-6151-4270-a92c-8f7c7536099e\",\"type\":\"BasicTicker\"}},\"id\":\"b99d5d8d-40ce-4bab-b962-e2dfbd8d3502\",\"type\":\"LinearAxis\"},{\"attributes\":{\"callback\":null},\"id\":\"c6ddb931-126e-4aed-afed-40f0bcd20aeb\",\"type\":\"DataRange1d\"},{\"attributes\":{\"line_color\":\"#1f77b4\",\"line_width\":2,\"x\":{\"field\":\"x\"},\"y\":{\"field\":\"y\"}},\"id\":\"44490599-b239-47b9-b42c-a95c27eb9eb3\",\"type\":\"Line\"},{\"attributes\":{},\"id\":\"298f769f-6151-4270-a92c-8f7c7536099e\",\"type\":\"BasicTicker\"}],\"root_ids\":[\"9d83f248-a24b-4ef1-87e3-7817245026a2\"]},\"title\":\"Bokeh Application\",\"version\":\"0.12.13\"}};\n",
       "  var render_items = [{\"docid\":\"ba07498d-d3d7-4555-bef1-790fd61fa5b3\",\"elementid\":\"d3f1c151-2792-46e3-9765-a8bd1283af01\",\"modelid\":\"9d83f248-a24b-4ef1-87e3-7817245026a2\"}];\n",
       "  root.Bokeh.embed.embed_items_notebook(docs_json, render_items);\n",
       "\n",
       "  }\n",
       "  if (root.Bokeh !== undefined) {\n",
       "    embed_document(root);\n",
       "  } else {\n",
       "    var attempts = 0;\n",
       "    var timer = setInterval(function(root) {\n",
       "      if (root.Bokeh !== undefined) {\n",
       "        embed_document(root);\n",
       "        clearInterval(timer);\n",
       "      }\n",
       "      attempts++;\n",
       "      if (attempts > 100) {\n",
       "        console.log(\"Bokeh: ERROR: Unable to run BokehJS code because BokehJS library is missing\")\n",
       "        clearInterval(timer);\n",
       "      }\n",
       "    }, 10, root)\n",
       "  }\n",
       "})(window);"
      ],
      "application/vnd.bokehjs_exec.v0+json": ""
     },
     "metadata": {
      "application/vnd.bokehjs_exec.v0+json": {
       "id": "9d83f248-a24b-4ef1-87e3-7817245026a2"
      }
     },
     "output_type": "display_data"
    }
   ],
   "source": [
    "from bokeh.plotting import figure, output_notebook, show\n",
    "# create a new plot with a title and axis labels\n",
    "\n",
    "output_notebook()\n",
    "p = figure(title=\"Polynomial function (x^4)\", x_axis_label='x', y_axis_label='y')\n",
    "\n",
    "# add a line renderer with legend and line thickness\n",
    "p.line(x, y, legend=\"Quartic polynomial\", line_width=2)\n",
    "\n",
    "# show the results\n",
    "show(p)"
   ]
  },
  {
   "cell_type": "code",
   "execution_count": 9,
   "metadata": {},
   "outputs": [
    {
     "name": "stdout",
     "output_type": "stream",
     "text": [
      "[0.         0.01000001 0.02000016 0.03000081 0.04000256 0.05000625\n",
      " 0.06001296 0.07002401 0.08004096 0.09006561]\n"
     ]
    }
   ],
   "source": [
    "rk4polyout=RK4(.01,t,x,y,z,polyfn)\n",
    "print(outp+x)"
   ]
  },
  {
   "cell_type": "code",
   "execution_count": 10,
   "metadata": {},
   "outputs": [
    {
     "name": "stdout",
     "output_type": "stream",
     "text": [
      "(0.01, array([0.00000e+00, 1.01000e-08, 1.61600e-07, 8.18100e-07, 2.58560e-06,\n",
      "       6.31250e-06, 1.30896e-05, 2.42501e-05, 4.13696e-05, 6.62661e-05]))\n",
      "[        nan -0.99999999 -0.99999992 -0.99999973 -0.99999936 -0.99999875\n",
      " -0.99999784 -0.99999657 -0.99999488 -0.99999271]\n"
     ]
    },
    {
     "name": "stderr",
     "output_type": "stream",
     "text": [
      "/Users/sdorsher/anaconda3/lib/python3.6/site-packages/ipykernel_launcher.py:3: RuntimeWarning: invalid value encountered in true_divide\n",
      "  This is separate from the ipykernel package so we can avoid doing imports until\n"
     ]
    }
   ],
   "source": [
    "print(rk4polyout) \n",
    "#There are multiple items in the y output, which is confusing. trace this over time and plot an evolution and compare to exact solution, which I have analytically written down. steve points out truncation error\n",
    "print(((rk4polyout[1]-x-outp)/x))\n",
    "#order4 polynomial error (comparable in size to polyfn itself, relative error with it is one)"
   ]
  },
  {
   "cell_type": "code",
   "execution_count": 11,
   "metadata": {},
   "outputs": [],
   "source": [
    "def invpolyint(t,x):\n",
    "    p=[]\n",
    "    for ti in t:\n",
    "        xi=-3*t**(-1./3.)\n",
    "        p.append(xi)\n",
    "    return np.array(p)\n",
    "    \n",
    "\n"
   ]
  },
  {
   "cell_type": "code",
   "execution_count": 12,
   "metadata": {},
   "outputs": [],
   "source": [
    "#print(invpolyint(t,x)) #need an entire run to invert this because you need a history of a timeseries accumulated"
   ]
  },
  {
   "cell_type": "code",
   "execution_count": 13,
   "metadata": {},
   "outputs": [],
   "source": [
    "def analyticalpolyint(t,x):\n",
    "    p=[]\n",
    "    for xi in x:\n",
    "        ti = -1./3.*xi**(-3.)\n",
    "        p.append(ti)\n",
    "    return np.array(p)"
   ]
  },
  {
   "cell_type": "code",
   "execution_count": 14,
   "metadata": {},
   "outputs": [
    {
     "name": "stdout",
     "output_type": "stream",
     "text": [
      "[0.   0.01 0.02 0.03 0.04 0.05 0.06 0.07 0.08 0.09]\n"
     ]
    }
   ],
   "source": [
    "print(x)"
   ]
  },
  {
   "cell_type": "code",
   "execution_count": 15,
   "metadata": {},
   "outputs": [],
   "source": [
    "#print(analyticalpolyint(t,x))"
   ]
  },
  {
   "cell_type": "code",
   "execution_count": null,
   "metadata": {},
   "outputs": [],
   "source": []
  },
  {
   "cell_type": "code",
   "execution_count": 16,
   "metadata": {},
   "outputs": [],
   "source": [
    "def invertIMF(luminosity,lsun,masssun):\n",
    "    M=[]\n",
    "    for L in luminosity: \n",
    "        if (L<(.43)**4)*lsun:\n",
    "            x=((L/lsun/0.23)**(1./2.3))*masssun\n",
    "            #print(x,1)\n",
    "            M.append(x)\n",
    "        elif (L<16*lsun):\n",
    "            x=(((L/lsun)**(0.25))*masssun)\n",
    "            #print(L,lsun,masssun,x,2)\n",
    "            M.append(x)\n",
    "        elif (L<(((20**(3.5))*1.4)*masssun)):\n",
    "            x=(((L/lsun/1.4)**(1./3.5))*masssun)\n",
    "            #print(x,3)\n",
    "            M.append(x)\n",
    "        else:\n",
    "            x=((L/lsun/32000.)*masssun)\n",
    "            #print(x,4)\n",
    "            M.append(x)\n",
    "    return np.array(M)\n",
    "    "
   ]
  },
  {
   "cell_type": "code",
   "execution_count": null,
   "metadata": {},
   "outputs": [],
   "source": []
  },
  {
   "cell_type": "code",
   "execution_count": 17,
   "metadata": {},
   "outputs": [],
   "source": [
    "import math\n",
    "def InitialData():\n",
    "    random.seed(a=9001)\n",
    "    \n",
    "    #initially use an in plane orbit with random starting locations relative to the x axis\n",
    "    phi=np.array([0,math.pi])\n",
    "    orbitangle=np.zeros(2)\n",
    "    #orbitalradius=np.random.uniform(.1,50,2)\n",
    "    orbitalradius=np.ones(2)\n",
    "    #start with circular orbits\n",
    "    #eccentricity=np.random.uniform(0.,.1,2)\n",
    "    eccentricity=np.zeros(2)\n",
    "    #magnitude=np.random.uniform(-20,-30,2) #absolute not apparent maginutde\n",
    "    #magsun=-26.832\n",
    "    masssun=1.989*10**30\n",
    "    lsun=3.828*10**26\n",
    "    massearth=5.9722*10**24\n",
    "    #luminosity=lsun*10**(0.4*(magnitude-magsun))\n",
    "    #masses= invertIMF(luminosity,lsun,masssun) #Initial mass function for Main Sequence\n",
    "    #masses=np.random.uniform(.7,5.) #replace with IMF\n",
    "    masses=np.array([masssun,massearth])\n",
    "\n",
    "    return phi,orbitangle,orbitalradius,eccentricity, masses\n",
    "\n"
   ]
  },
  {
   "cell_type": "code",
   "execution_count": 18,
   "metadata": {},
   "outputs": [],
   "source": [
    "import random\n",
    "initdat=InitialData()"
   ]
  },
  {
   "cell_type": "code",
   "execution_count": 19,
   "metadata": {},
   "outputs": [
    {
     "name": "stdout",
     "output_type": "stream",
     "text": [
      "(array([0.        , 3.14159265]), array([0., 0.]), array([1., 1.]), array([0., 0.]), array([1.9890e+30, 5.9722e+24]))\n"
     ]
    }
   ],
   "source": [
    "print(initdat)"
   ]
  },
  {
   "cell_type": "code",
   "execution_count": 20,
   "metadata": {},
   "outputs": [],
   "source": [
    "def getxyuv(initdat):\n",
    "    phi,orbitangle,orbitalradius,eccentricity, masses=initdat\n",
    "    #print(orbitalradius, phi, np.cos(phi), np.sin(phi))\n",
    "    metersperAU=149597870700\n",
    "    Gconstant=6.408*10**-11\n",
    "    x0=orbitalradius*np.cos(phi)*metersperAU\n",
    "    y0=orbitalradius*np.sin(phi)*metersperAU\n",
    "    z0=np.zeros(2)\n",
    "    \n",
    "\n",
    "    \n",
    "    #start at perihelion for both (eliptical, doesn't generalize to three body)\n",
    "    #actually start with circular orbit\n",
    "    ux0=np.zeros(2)*149597870700\n",
    "    #centrepital force balances gravitational force\n",
    "    reducedmass=np.zeros(2)\n",
    "    print(masses)\n",
    "    for i in np.arange(2):\n",
    "        j=(i+1)%2 #reverse masses\n",
    "        reducedmass[i]=masses[i]*masses[j]/np.sum(masses)\n",
    "    print(reducedmass)\n",
    "    rphys=orbitalradius*metersperAU*reducedmass/np.sum(masses)\n",
    "    print(rphys)\n",
    "    F=(Gconstant*reducedmass**2/rphys**2)\n",
    "    print(F)\n",
    "    #centF=reducedmass*v**2/rphys\n",
    "    #centF=accel\n",
    "    v=np.sqrt(Gconstant*reducedmass/rphys)\n",
    "    print(v)\n",
    "    ux0=v*np.sin(phi)\n",
    "    uy0=v*np.cos(phi) #initial data in y only\n",
    "    #evolve in plane only\n",
    "    #there is a units problem that needs to be fixed\n",
    "    #velocity initial conditions are not trivial. \n",
    "    uz0=np.zeros(2)\n",
    "    \n",
    "    #circular orbit   #a=omega^2 * r #v=omega*r #omega=v/r\n",
    "    omega=v/rphys\n",
    "    print(omega)\n",
    "    omegatrue=np.mean(omega) #shouldaccount for numerical effects\n",
    "    print(omegatrue)\n",
    "    a=omegatrue**2*rphys\n",
    "    print(\"a\",a)\n",
    "    print(phi)\n",
    "    ax0=-a*np.cos(phi)\n",
    "    ay0=-a*np.sin(phi)\n",
    "    az0=np.zeros(2)\n",
    "    \n",
    "    \n",
    "    return reducedmass,x0,y0,z0, ux0, uy0,uz0, ax0, ay0,az0"
   ]
  },
  {
   "cell_type": "code",
   "execution_count": 21,
   "metadata": {},
   "outputs": [
    {
     "name": "stdout",
     "output_type": "stream",
     "text": [
      "[1.9890e+30 5.9722e+24]\n",
      "[5.97218207e+24 5.97218207e+24]\n",
      "[449182.02019948 449182.02019948]\n",
      "[1.13277552e+28 1.13277552e+28]\n",
      "[29188.82340899 29188.82340899]\n",
      "[0.06498217 0.06498217]\n",
      "0.06498217225174459\n",
      "a [1896.75315059 1896.75315059]\n",
      "[0.         3.14159265]\n",
      "(array([5.97218207e+24, 5.97218207e+24]), array([ 1.49597871e+11, -1.49597871e+11]), array([0.00000000e+00, 1.83204554e-05]), array([0., 0.]), array([0.00000000e+00, 3.57459992e-12]), array([ 29188.82340899, -29188.82340899]), array([0., 0.]), array([-1896.75315059,  1896.75315059]), array([-0.00000000e+00, -2.32285267e-13]), array([0., 0.]))\n",
      "149597870700.0\n",
      "1.0\n",
      "(array([5.97218207e+24, 5.97218207e+24]), array([ 1.49597871e+11, -1.49597871e+11]), array([0.00000000e+00, 1.83204554e-05]), array([0., 0.]), array([0.00000000e+00, 3.57459992e-12]), array([ 29188.82340899, -29188.82340899]), array([0., 0.]), array([-1896.75315059,  1896.75315059]), array([-0.00000000e+00, -2.32285267e-13]), array([0., 0.]))\n"
     ]
    }
   ],
   "source": [
    "xyuva=getxyuv(initdat)\n",
    "print(xyuva)#In SI units\n",
    "print(xyuva[1][0])\n",
    "print(xyuva[0][0]/xyuva[0][1])\n",
    "print(xyuva)"
   ]
  },
  {
   "cell_type": "code",
   "execution_count": 22,
   "metadata": {},
   "outputs": [],
   "source": [
    "def timestep(step,t,dt,reducedmass,xi,yi,zi, vxi, vyi, vzi, axi, ayi, azi):\n",
    "    xii=np.zeros(np.size(xi))\n",
    "    vxii=np.zeros(np.size(vx))\n",
    "    yii=np.zeros(np.size(yi))\n",
    "    vyii=np.zeros(np.size(vy))\n",
    "    zii=np.zeros(np.size(vzi))\n",
    "    vzii=np.zeros(np.size(vzi))\n",
    "    rii=np.zeros(np.size(xi))\n",
    "    axii=axi\n",
    "    ayii=ayi\n",
    "    azii=azi\n",
    "    \n",
    "    for m in np.arange(len(x)):\n",
    "        #m represents choices of mass\n",
    "        i=step\n",
    "        \n",
    "        xii[m] = xi[m] + dt*vxi[m]\n",
    "        #print(xii)\n",
    "        vxii[m] = vxi[m] + dt*axi[m]\n",
    "        #print(vxii)\n",
    "        yii[m]= yi[m] + dt*vyi[m]\n",
    "        vyii[m] = vyi[m] + dt*ayi[m]\n",
    "        zii[m]= zi[m] + dt*vzi[m]\n",
    "        vzii[m] = vzi[m] + dt*azi[m]\n",
    "        rii[m]=np.sqrt(xi[m]**2+yi[m]**2+zi[m]**2)\n",
    "    \n",
    "    \n",
    "    Gconstant=6.408*10**-11\n",
    "    for k in np.arange(len(rii)):\n",
    "        for j in np.arange(len(rii)):\n",
    "            if j!=k:\n",
    "                rreljk=np.abs((xi[j] - xi[k])**2+(yi[j]-yi[k])**2+(zi[j]-zi[k])**2)**(1./2.)\n",
    "                axii[j]+=Gconstant*reducedmass[k]*(xi[j]  - xi[k])/rreljk**3\n",
    "                ayii[j]+=Gconstant*reducedmass[k]*(yi[j]  - yi[k])/rreljk**3\n",
    "                azii[j]+=Gconstant*reducedmass[k]*(zi[j]  - zi[k])/rreljk**3\n",
    "    #print(xii)\n",
    "    return reducedmass, xii,yii,zii,vxii,vyii,vzii,axii,ayii,azii\n",
    "                    "
   ]
  },
  {
   "cell_type": "code",
   "execution_count": 23,
   "metadata": {},
   "outputs": [
    {
     "name": "stdout",
     "output_type": "stream",
     "text": [
      "[ 1.49597871e+11 -1.49597871e+11] [ 9.2110954e+09 -9.2110954e+09] [-5.98556988e+08  5.98556988e+08] [ 29188.82340899 -29188.82340906] [-1896.75315058  1896.75315058] [-2.61773442e-25 -2.32285267e-13]\n",
      "[-1.88736588e+14  1.88736588e+14] [ 1.84221908e+10 -1.84221908e+10] [-1.19711398e+09  1.19711398e+09] [ 29188.82340899 -29188.82340914] [-1896.75315058  1896.75315058] [ 2.61737257e-10 -2.61969543e-10]\n",
      "[-5.6650896e+14  5.6650896e+14] [ 2.76332862e+10 -2.76332862e+10] [-1.79567096e+09  1.79567096e+09] [ 29188.82349159 -29188.82349181] [-1896.75315058  1896.75315058] [ 2.61737258e-10 -2.61969543e-10]\n",
      "[-1.13316752e+15  1.13316752e+15] [ 3.68443816e+10 -3.68443816e+10] [-2.39422795e+09  2.39422795e+09] [ 29188.82357418 -29188.82357447] [-1896.75315058  1896.75315058] [ 2.61737258e-10 -2.61969543e-10]\n"
     ]
    }
   ],
   "source": [
    "dt=0.01*31556926 #seconds per year\n",
    "numsteps=5\n",
    "mass,x,y,z,vx,vy,vz,ax,ay,az=xyuva\n",
    "for i in np.arange(1,numsteps):\n",
    "    t=0.+i*numsteps*dt\n",
    "    mass, x,y,z,vx,vy,vz,ax,ay,az=timestep(i,t,dt,mass,x,y,z,vx,vy,vz,ax,ay,az)\n",
    "    print(x,y,vx,vy,ax,ay)\n",
    "    #print(ay) #forces should be equal and opposite, but in reduced mass framework accelerations are also equal and opposite\n",
    "    #accelerations should evolve from y to x with time in a sinusoidal manner even in reduced mass framework\n",
    "    #print(ax)\n",
    "#mass, x,y,z,vx,vy,vz,ax,ay,az=timestep(2,0,dt,mass,x,y,z,vx,vy,vz,ax,ay,az)\n",
    "#print(x,y,vx,vy,ax,ay) \n",
    "#mass, x,y,z,vx,vy,vz,ax,ay,az=timestep(3,0,dt,mass,x,y,z,vx,vy,vz,ax,ay,az)\n",
    "#print(x,y,vx,vy,ax,ay) \n",
    "#mass, x,y,z,vx,vy,vz,ax,ay,az=timestep(4,0,dt,mass,x,y,z,vx,vy,vz,ax,ay,az)\n",
    "#print(x,y,vx,vy,ax,ay) "
   ]
  },
  {
   "cell_type": "code",
   "execution_count": 24,
   "metadata": {},
   "outputs": [],
   "source": [
    "class OrbitDiffEq:\n",
    "    def __init__(self,reducedmass,x0,y0,z0, ux0, uy0,uz0, ax0, ay0,az0):\n",
    "        self.reducedmass=reducedmass\n",
    "        self.xi=x0\n",
    "        self.yi=y0\n",
    "        self.zi=z0\n",
    "        self.vxi=ux0\n",
    "        self.vyi=uy0\n",
    "        self.vzi=uz0\n",
    "        self.axi=ax0\n",
    "        self.ayi=ay0\n",
    "        self.azi=az0\n",
    "    def dxidt(self,t):\n",
    "        return self.vxi\n",
    "    def dyidt(self,t):\n",
    "        return self.vyi\n",
    "    def dzidt(self,t):\n",
    "        return self.vzi\n",
    "    def dvxidt(self,t):\n",
    "        #return axi[m]\n",
    "        axii=self.axi\n",
    "        rii=np.sqrt(self.xi**2+self.yi**2+self.zi**2)\n",
    "        Gconstant=6.408*10**-11\n",
    "        for k in np.arange(len(rii)):\n",
    "            for j in np.arange(len(rii)):\n",
    "                if j!=k:\n",
    "                    rreljk=np.abs((self.xi[j] - self.xi[k])**2+(self.yi[j]-self.yi[k])**2+(self.zi[j]-self.zi[k])**2)**(1./2.)\n",
    "                    axii[j]+=Gconstant*self.reducedmass[k]*(self.xi[j]  - self.xi[k])/rreljk**3\n",
    "        self.axi=axii\n",
    "        return axii\n",
    "    def dvyidt(self,t):\n",
    "        #return axi[m]\n",
    "        ayii=self.ayi\n",
    "        rii=np.sqrt(self.xi**2+self.yi**2+self.zi**2)\n",
    "        Gconstant=6.408*10**-11\n",
    "        for k in np.arange(len(rii)):\n",
    "            for j in np.arange(len(rii)):\n",
    "                if j!=k:\n",
    "                    rreljk=np.abs((self.xi[j] - self.xi[k])**2+(self.yi[j]-self.yi[k])**2+(self.zi[j]-self.zi[k])**2)**(1./2.)\n",
    "                    ayii[j]+=Gconstant*self.reducedmass[k]*(self.xi[j]  - self.xi[k])/rreljk**3\n",
    "        self.ayi=ayii\n",
    "        return ayii\n",
    "    def dvzidt(self,t):\n",
    "        #return axi[m]\n",
    "        azii=self.azi\n",
    "        rii=np.sqrt(self.xi**2+self.yi**2+self.zi**2)\n",
    "        Gconstant=6.408*10**-11\n",
    "        for k in np.arange(len(rii)):\n",
    "            for j in np.arange(len(rii)):\n",
    "                if j!=k:\n",
    "                    rreljk=np.abs((self.xi[j] - self.xi[k])**2+(self.yi[j]-self.yi[k])**2+(self.zi[j]-self.zi[k])**2)**(1./2.)\n",
    "                    azii[j]+=Gconstant*self.reducedmass[k]*(self.xi[j]  - self.xi[k])/rreljk**3\n",
    "        self.azi=azii\n",
    "        return azii\n",
    "    def updateINTERNAL(self,reducedmass, xii,yii,zii,vxii,vyii,vzii):\n",
    "        self.xi=xii\n",
    "        self.yi=yii\n",
    "        self.zi=zii\n",
    "        self.vxi=vxii\n",
    "        self.vyi=vyii\n",
    "        self.vzi=vzii\n",
    "        return self\n",
    "    def update(self,reducedmass,xii,yii,zii,vxii,vyii,vzii,axii,ayii,azii):\n",
    "        self.xi=xii\n",
    "        self.yi=yii\n",
    "        self.zi=zii\n",
    "        self.vxi=vxii\n",
    "        self.vyi=vyii\n",
    "        self.vzi=vzii\n",
    "        self.axi=axii\n",
    "        self.ayi=ayii\n",
    "        self.azi=azii\n",
    "    def print2D(self):\n",
    "        print(self.xi,self.yi,self.vxi,self.vyi,self.axi,self.ayi)\n",
    "        return self\n",
    "    def list2D(self):\n",
    "        return self.xi,self.yi,self.vxi,self.vyi,self.axi,self.ayi\n",
    "    def timestepRK4ODE(self,step,t,dt):\n",
    "\n",
    "    \n",
    "        h=dt\n",
    "        #tnew,ynew, intval=RK4(h,t,y,f)\n",
    "        #m represents choices of mass\n",
    "        i=step\n",
    "        \n",
    "        tnew,intvalx=RK4implicit(h,t,self.dxidt)\n",
    "        xii = intvalx\n",
    "        tnew,intvalvx=RK4implicit(h,t,self.dvxidt)\n",
    "        vxii=intvalvx\n",
    "        tnew,intvaly=RK4implicit(h,t,self.dyidt)\n",
    "        yii = intvaly\n",
    "        tnew,intvalvy=RK4implicit(h,t,self.dvyidt)\n",
    "        vyii=intvalvy\n",
    "        tnew,intvalz=RK4implicit(h,t,self.dzidt)\n",
    "        zii = intvalz\n",
    "        tnew,intvalvz=RK4implicit(h,t,self.dvzidt)\n",
    "        vzii=intvalvz\n",
    " \n",
    "        #print(xii)\n",
    "        self.updateINTERNAL(reducedmass, xii,yii,zii,vxii,vyii,vzii)\n",
    "        return reducedmass, xii,yii,zii,vxii,vyii,vzii,self.axi,self.ayi,self.azi"
   ]
  },
  {
   "cell_type": "code",
   "execution_count": 25,
   "metadata": {},
   "outputs": [],
   "source": [
    "def RK4implicit(h,t,f): #not a finite difference so no step in y\n",
    "    k1= h*f(t)\n",
    "    k2=h*f(t+h/2.)\n",
    "    k3=h*f(t+h/2.)\n",
    "    k4=h*f(t+h)\n",
    "    return t+h, f(t)+1/6.*(k1+2.*k2+2.*k3+k4)\n",
    "\n",
    "\n"
   ]
  },
  {
   "cell_type": "code",
   "execution_count": 26,
   "metadata": {},
   "outputs": [],
   "source": [
    "reducedmass,x0,y0,z0, ux0, uy0,uz0, ax0, ay0,az0=xyuva\n",
    "ODE= OrbitDiffEq(reducedmass,x0,y0,z0, ux0, uy0,uz0, ax0, ay0,az0)"
   ]
  },
  {
   "cell_type": "code",
   "execution_count": 27,
   "metadata": {},
   "outputs": [
    {
     "name": "stdout",
     "output_type": "stream",
     "text": [
      "[ 1.49597871e+11 -1.49597871e+11] [0.00000000e+00 1.83204554e-05] [0.00000000e+00 3.57459992e-12] [ 29188.82340899 -29188.82340899] [-1896.75315058  1896.75315058] [ 2.61737258e-10 -2.61969543e-10]\n",
      "(array([5.97218207e+24, 5.97218207e+24]), array([ 1.49597871e+11, -1.49597871e+11]), array([0.00000000e+00, 1.83204554e-05]), array([0., 0.]), array([0.00000000e+00, 3.57459992e-12]), array([ 29188.82340899, -29188.82340899]), array([0., 0.]), array([-1896.75315058,  1896.75315058]), array([ 2.61737258e-10, -2.61969543e-10]), array([0., 0.]))\n"
     ]
    }
   ],
   "source": [
    "mass,x,y,z,vx,vy,vz,ax,ay,az=xyuva\n",
    "print(x,y,vx,vy,ax,ay)\n",
    "print(xyuva)"
   ]
  },
  {
   "cell_type": "code",
   "execution_count": 28,
   "metadata": {},
   "outputs": [
    {
     "name": "stdout",
     "output_type": "stream",
     "text": [
      "[0.00000000e+00 1.12803742e-06] [ 9.21112459e+09 -9.21112459e+09] [-5.98558885e+08  5.98558885e+08] [ 0.00345533 -0.0034554 ] [-1896.75315056  1896.75315056] [ 2.16371609e-08 -2.16373932e-08]\n",
      "[-1.88887383e+14  1.88887383e+14] [ 1090.39975975 -1090.42289179] [-5.98558885e+08  5.98558885e+08] [ 0.00682804 -0.00682812] [-1896.75315056  1896.75315056] [ 2.16371609e-08 -2.16373932e-08]\n",
      "[-1.88887383e+14  1.88887383e+14] [ 2154.72777683 -2154.75090886] [-5.98558885e+08  5.98558885e+08] [ 0.00682804 -0.00682812] [-1896.75315056  1896.75315056] [ 2.16371475e-08 -2.16373798e-08]\n",
      "[-1.88887383e+14  1.88887383e+14] [ 2154.72710922 -2154.75024125] [-5.98558885e+08  5.98558885e+08] [ 0.00682804 -0.00682811] [-1896.75315056  1896.75315056] [ 2.16371341e-08 -2.16373664e-08]\n"
     ]
    }
   ],
   "source": [
    "dt=0.01*31556926 #seconds per year\n",
    "numsteps=5\n",
    "reducedmass,x,y,z,vx,vy,vz,ax,ay,az=xyuva\n",
    "for i in np.arange(1,numsteps):\n",
    "    t=0.+i*numsteps*dt\n",
    "    reducedmass, x,y,z,vx,vy,vz,ax,ay,az=ODE.timestepRK4ODE(i,t,dt)\n",
    "    ODE.print2D()\n",
    "    ODE.update(reducedmass, x,y,z,vx,vy,vz,ax,ay,az)\n",
    "\n"
   ]
  },
  {
   "cell_type": "code",
   "execution_count": 29,
   "metadata": {},
   "outputs": [],
   "source": [
    "secperyr=31556926"
   ]
  },
  {
   "cell_type": "code",
   "execution_count": 30,
   "metadata": {},
   "outputs": [],
   "source": [
    "dt=0.01*31556926 #seconds per year\n",
    "numsteps=5\n",
    "reducedmass,x,y,z,vx,vy,vz,ax,ay,az=xyuva\n",
    "datainit=[[0,0.0,reducedmass,x,y,z,vx,vy,vz,ax,ay,az]]\n",
    "import pandas as pd\n",
    "columns =['step','time','reducedmass','x' ,'y','z','vx','vy','vz','ax','ay','az']\n",
    "df = pd.DataFrame(data=datainit, columns=columns)\n",
    "\n",
    "\n"
   ]
  },
  {
   "cell_type": "code",
   "execution_count": 31,
   "metadata": {},
   "outputs": [
    {
     "data": {
      "text/html": [
       "<div>\n",
       "<style scoped>\n",
       "    .dataframe tbody tr th:only-of-type {\n",
       "        vertical-align: middle;\n",
       "    }\n",
       "\n",
       "    .dataframe tbody tr th {\n",
       "        vertical-align: top;\n",
       "    }\n",
       "\n",
       "    .dataframe thead th {\n",
       "        text-align: right;\n",
       "    }\n",
       "</style>\n",
       "<table border=\"1\" class=\"dataframe\">\n",
       "  <thead>\n",
       "    <tr style=\"text-align: right;\">\n",
       "      <th></th>\n",
       "      <th>step</th>\n",
       "      <th>time</th>\n",
       "      <th>reducedmass</th>\n",
       "      <th>x</th>\n",
       "      <th>y</th>\n",
       "      <th>z</th>\n",
       "      <th>vx</th>\n",
       "      <th>vy</th>\n",
       "      <th>vz</th>\n",
       "      <th>ax</th>\n",
       "      <th>ay</th>\n",
       "      <th>az</th>\n",
       "    </tr>\n",
       "  </thead>\n",
       "  <tbody>\n",
       "    <tr>\n",
       "      <th>0</th>\n",
       "      <td>0</td>\n",
       "      <td>0.0</td>\n",
       "      <td>[5.972182067840249e+24, 5.972182067840249e+24]</td>\n",
       "      <td>[149597870700.0, -149597870700.0]</td>\n",
       "      <td>[0.0, 1.832045535120146e-05]</td>\n",
       "      <td>[0.0, 0.0]</td>\n",
       "      <td>[0.0, 3.574599915869588e-12]</td>\n",
       "      <td>[29188.823408989138, -29188.823408989138]</td>\n",
       "      <td>[0.0, 0.0]</td>\n",
       "      <td>[-1896.7531505587856, 1896.7531505587856]</td>\n",
       "      <td>[2.1637134099864023e-08, -2.1637366385131486e-08]</td>\n",
       "      <td>[2.1375396842196047e-08, -2.1375396842196047e-08]</td>\n",
       "    </tr>\n",
       "  </tbody>\n",
       "</table>\n",
       "</div>"
      ],
      "text/plain": [
       "   step  time                                     reducedmass  \\\n",
       "0     0   0.0  [5.972182067840249e+24, 5.972182067840249e+24]   \n",
       "\n",
       "                                   x                             y  \\\n",
       "0  [149597870700.0, -149597870700.0]  [0.0, 1.832045535120146e-05]   \n",
       "\n",
       "            z                            vx  \\\n",
       "0  [0.0, 0.0]  [0.0, 3.574599915869588e-12]   \n",
       "\n",
       "                                          vy          vz  \\\n",
       "0  [29188.823408989138, -29188.823408989138]  [0.0, 0.0]   \n",
       "\n",
       "                                          ax  \\\n",
       "0  [-1896.7531505587856, 1896.7531505587856]   \n",
       "\n",
       "                                                  ay  \\\n",
       "0  [2.1637134099864023e-08, -2.1637366385131486e-08]   \n",
       "\n",
       "                                                  az  \n",
       "0  [2.1375396842196047e-08, -2.1375396842196047e-08]  "
      ]
     },
     "metadata": {},
     "output_type": "display_data"
    }
   ],
   "source": [
    "display(df)"
   ]
  },
  {
   "cell_type": "code",
   "execution_count": 32,
   "metadata": {},
   "outputs": [],
   "source": [
    "for i in np.arange(1,numsteps):\n",
    "    t=0.+i*numsteps*dt\n",
    "    reducedmass, x,y,z,vx,vy,vz,ax,ay,az=ODE.timestepRK4ODE(i,t,dt)\n",
    "    df.loc[i]=i,t,reducedmass,x,y,z,vx,vy,vz,ax,ay,az\n",
    "    ODE.update(reducedmass, x,y,z,vx,vy,vz,ax,ay,az)\n"
   ]
  },
  {
   "cell_type": "code",
   "execution_count": 33,
   "metadata": {},
   "outputs": [
    {
     "data": {
      "text/html": [
       "<div>\n",
       "<style scoped>\n",
       "    .dataframe tbody tr th:only-of-type {\n",
       "        vertical-align: middle;\n",
       "    }\n",
       "\n",
       "    .dataframe tbody tr th {\n",
       "        vertical-align: top;\n",
       "    }\n",
       "\n",
       "    .dataframe thead th {\n",
       "        text-align: right;\n",
       "    }\n",
       "</style>\n",
       "<table border=\"1\" class=\"dataframe\">\n",
       "  <thead>\n",
       "    <tr style=\"text-align: right;\">\n",
       "      <th></th>\n",
       "      <th>step</th>\n",
       "      <th>time</th>\n",
       "      <th>reducedmass</th>\n",
       "      <th>x</th>\n",
       "      <th>y</th>\n",
       "      <th>z</th>\n",
       "      <th>vx</th>\n",
       "      <th>vy</th>\n",
       "      <th>vz</th>\n",
       "      <th>ax</th>\n",
       "      <th>ay</th>\n",
       "      <th>az</th>\n",
       "    </tr>\n",
       "  </thead>\n",
       "  <tbody>\n",
       "    <tr>\n",
       "      <th>0</th>\n",
       "      <td>0</td>\n",
       "      <td>0.0</td>\n",
       "      <td>[5.972182067840249e+24, 5.972182067840249e+24]</td>\n",
       "      <td>[149597870700.0, -149597870700.0]</td>\n",
       "      <td>[0.0, 1.832045535120146e-05]</td>\n",
       "      <td>[0.0, 0.0]</td>\n",
       "      <td>[0.0, 3.574599915869588e-12]</td>\n",
       "      <td>[29188.823408989138, -29188.823408989138]</td>\n",
       "      <td>[0.0, 0.0]</td>\n",
       "      <td>[-1896.7531505587856, 1896.7531505587856]</td>\n",
       "      <td>[2.1637080468400597e-08, -2.163731275366806e-08]</td>\n",
       "      <td>[2.137534321073262e-08, -2.137534321073262e-08]</td>\n",
       "    </tr>\n",
       "    <tr>\n",
       "      <th>1</th>\n",
       "      <td>1</td>\n",
       "      <td>1577846.3</td>\n",
       "      <td>[5.972182067840249e+24, 5.972182067840249e+24]</td>\n",
       "      <td>[-188887382926151.7, 188887382926151.7]</td>\n",
       "      <td>[2154.725774002702, -2154.748906035592]</td>\n",
       "      <td>[2128.660776772775, -2128.660776772775]</td>\n",
       "      <td>[-598558884.8776551, 598558884.8776551]</td>\n",
       "      <td>[0.006828033917980395, -0.006828107220302642]</td>\n",
       "      <td>[0.006745437423526423, -0.006745437423526423]</td>\n",
       "      <td>[-1896.7531505587856, 1896.7531505587856]</td>\n",
       "      <td>[2.1637080468400597e-08, -2.163731275366806e-08]</td>\n",
       "      <td>[2.137534321073262e-08, -2.137534321073262e-08]</td>\n",
       "    </tr>\n",
       "    <tr>\n",
       "      <th>2</th>\n",
       "      <td>2</td>\n",
       "      <td>3155692.6</td>\n",
       "      <td>[5.972182067840249e+24, 5.972182067840249e+24]</td>\n",
       "      <td>[-188887382926151.7, 188887382926151.7]</td>\n",
       "      <td>[2154.724438785892, -2154.747570818782]</td>\n",
       "      <td>[2128.6594415559634, -2128.6594415559634]</td>\n",
       "      <td>[-598558884.8776551, 598558884.8776551]</td>\n",
       "      <td>[0.00682802968685668, -0.006828102989178927]</td>\n",
       "      <td>[0.00674543319240271, -0.00674543319240271]</td>\n",
       "      <td>[-1896.7531505587856, 1896.7531505587856]</td>\n",
       "      <td>[2.1637080468400597e-08, -2.163731275366806e-08]</td>\n",
       "      <td>[2.137534321073262e-08, -2.137534321073262e-08]</td>\n",
       "    </tr>\n",
       "    <tr>\n",
       "      <th>3</th>\n",
       "      <td>3</td>\n",
       "      <td>4733538.9</td>\n",
       "      <td>[5.972182067840249e+24, 5.972182067840249e+24]</td>\n",
       "      <td>[-188887382926151.7, 188887382926151.7]</td>\n",
       "      <td>[2154.7231035690806, -2154.746235601971]</td>\n",
       "      <td>[2128.6581063391536, -2128.6581063391536]</td>\n",
       "      <td>[-598558884.8776551, 598558884.8776551]</td>\n",
       "      <td>[0.006828025455732966, -0.006828098758055213]</td>\n",
       "      <td>[0.006745428961278994, -0.006745428961278994]</td>\n",
       "      <td>[-1896.7531505587856, 1896.7531505587856]</td>\n",
       "      <td>[2.1637080468400597e-08, -2.163731275366806e-08]</td>\n",
       "      <td>[2.137534321073262e-08, -2.137534321073262e-08]</td>\n",
       "    </tr>\n",
       "    <tr>\n",
       "      <th>4</th>\n",
       "      <td>4</td>\n",
       "      <td>6311385.2</td>\n",
       "      <td>[5.972182067840249e+24, 5.972182067840249e+24]</td>\n",
       "      <td>[-188887382926151.7, 188887382926151.7]</td>\n",
       "      <td>[2154.721768352271, -2154.7449003851607]</td>\n",
       "      <td>[2128.6567711223424, -2128.6567711223424]</td>\n",
       "      <td>[-598558884.8776551, 598558884.8776551]</td>\n",
       "      <td>[0.006828021224609252, -0.006828094526931499]</td>\n",
       "      <td>[0.006745424730155281, -0.006745424730155281]</td>\n",
       "      <td>[-1896.7531505587856, 1896.7531505587856]</td>\n",
       "      <td>[2.1637080468400597e-08, -2.163731275366806e-08]</td>\n",
       "      <td>[2.137534321073262e-08, -2.137534321073262e-08]</td>\n",
       "    </tr>\n",
       "  </tbody>\n",
       "</table>\n",
       "</div>"
      ],
      "text/plain": [
       "   step       time                                     reducedmass  \\\n",
       "0     0        0.0  [5.972182067840249e+24, 5.972182067840249e+24]   \n",
       "1     1  1577846.3  [5.972182067840249e+24, 5.972182067840249e+24]   \n",
       "2     2  3155692.6  [5.972182067840249e+24, 5.972182067840249e+24]   \n",
       "3     3  4733538.9  [5.972182067840249e+24, 5.972182067840249e+24]   \n",
       "4     4  6311385.2  [5.972182067840249e+24, 5.972182067840249e+24]   \n",
       "\n",
       "                                         x  \\\n",
       "0        [149597870700.0, -149597870700.0]   \n",
       "1  [-188887382926151.7, 188887382926151.7]   \n",
       "2  [-188887382926151.7, 188887382926151.7]   \n",
       "3  [-188887382926151.7, 188887382926151.7]   \n",
       "4  [-188887382926151.7, 188887382926151.7]   \n",
       "\n",
       "                                          y  \\\n",
       "0              [0.0, 1.832045535120146e-05]   \n",
       "1   [2154.725774002702, -2154.748906035592]   \n",
       "2   [2154.724438785892, -2154.747570818782]   \n",
       "3  [2154.7231035690806, -2154.746235601971]   \n",
       "4  [2154.721768352271, -2154.7449003851607]   \n",
       "\n",
       "                                           z  \\\n",
       "0                                 [0.0, 0.0]   \n",
       "1    [2128.660776772775, -2128.660776772775]   \n",
       "2  [2128.6594415559634, -2128.6594415559634]   \n",
       "3  [2128.6581063391536, -2128.6581063391536]   \n",
       "4  [2128.6567711223424, -2128.6567711223424]   \n",
       "\n",
       "                                        vx  \\\n",
       "0             [0.0, 3.574599915869588e-12]   \n",
       "1  [-598558884.8776551, 598558884.8776551]   \n",
       "2  [-598558884.8776551, 598558884.8776551]   \n",
       "3  [-598558884.8776551, 598558884.8776551]   \n",
       "4  [-598558884.8776551, 598558884.8776551]   \n",
       "\n",
       "                                              vy  \\\n",
       "0      [29188.823408989138, -29188.823408989138]   \n",
       "1  [0.006828033917980395, -0.006828107220302642]   \n",
       "2   [0.00682802968685668, -0.006828102989178927]   \n",
       "3  [0.006828025455732966, -0.006828098758055213]   \n",
       "4  [0.006828021224609252, -0.006828094526931499]   \n",
       "\n",
       "                                              vz  \\\n",
       "0                                     [0.0, 0.0]   \n",
       "1  [0.006745437423526423, -0.006745437423526423]   \n",
       "2    [0.00674543319240271, -0.00674543319240271]   \n",
       "3  [0.006745428961278994, -0.006745428961278994]   \n",
       "4  [0.006745424730155281, -0.006745424730155281]   \n",
       "\n",
       "                                          ax  \\\n",
       "0  [-1896.7531505587856, 1896.7531505587856]   \n",
       "1  [-1896.7531505587856, 1896.7531505587856]   \n",
       "2  [-1896.7531505587856, 1896.7531505587856]   \n",
       "3  [-1896.7531505587856, 1896.7531505587856]   \n",
       "4  [-1896.7531505587856, 1896.7531505587856]   \n",
       "\n",
       "                                                 ay  \\\n",
       "0  [2.1637080468400597e-08, -2.163731275366806e-08]   \n",
       "1  [2.1637080468400597e-08, -2.163731275366806e-08]   \n",
       "2  [2.1637080468400597e-08, -2.163731275366806e-08]   \n",
       "3  [2.1637080468400597e-08, -2.163731275366806e-08]   \n",
       "4  [2.1637080468400597e-08, -2.163731275366806e-08]   \n",
       "\n",
       "                                                az  \n",
       "0  [2.137534321073262e-08, -2.137534321073262e-08]  \n",
       "1  [2.137534321073262e-08, -2.137534321073262e-08]  \n",
       "2  [2.137534321073262e-08, -2.137534321073262e-08]  \n",
       "3  [2.137534321073262e-08, -2.137534321073262e-08]  \n",
       "4  [2.137534321073262e-08, -2.137534321073262e-08]  "
      ]
     },
     "metadata": {},
     "output_type": "display_data"
    }
   ],
   "source": [
    "display(df)"
   ]
  },
  {
   "cell_type": "code",
   "execution_count": 34,
   "metadata": {},
   "outputs": [
    {
     "data": {
      "text/plain": [
       "-188887382926151.7"
      ]
     },
     "execution_count": 34,
     "metadata": {},
     "output_type": "execute_result"
    }
   ],
   "source": [
    "xser=df['x']\n",
    "xser\n",
    "xser[1][0]"
   ]
  },
  {
   "cell_type": "code",
   "execution_count": 35,
   "metadata": {},
   "outputs": [],
   "source": [
    "def mergeStarDataIntoDataFrame(col):\n",
    "    rawdataser=df[col]\n",
    "    numstars=len(rawdataser[0])\n",
    "    columns=np.arange(numstars)\n",
    "    numentries=len(rawdataser)\n",
    "    index=np.arange(numentries)\n",
    "    dfnew=pd.DataFrame(columns=columns,index=index)\n",
    "    for coln in np.arange(numstars):\n",
    "        datacollist=[]\n",
    "        for row in np.arange(numentries):\n",
    "            datacollist.append(rawdataser[row][coln])\n",
    "        dfnew[coln]=datacollist\n",
    "    return dfnew"
   ]
  },
  {
   "cell_type": "code",
   "execution_count": 36,
   "metadata": {},
   "outputs": [],
   "source": [
    "dfx=mergeStarDataIntoDataFrame('x')"
   ]
  },
  {
   "cell_type": "code",
   "execution_count": 37,
   "metadata": {},
   "outputs": [
    {
     "data": {
      "text/html": [
       "<div>\n",
       "<style scoped>\n",
       "    .dataframe tbody tr th:only-of-type {\n",
       "        vertical-align: middle;\n",
       "    }\n",
       "\n",
       "    .dataframe tbody tr th {\n",
       "        vertical-align: top;\n",
       "    }\n",
       "\n",
       "    .dataframe thead th {\n",
       "        text-align: right;\n",
       "    }\n",
       "</style>\n",
       "<table border=\"1\" class=\"dataframe\">\n",
       "  <thead>\n",
       "    <tr style=\"text-align: right;\">\n",
       "      <th></th>\n",
       "      <th>0</th>\n",
       "      <th>1</th>\n",
       "    </tr>\n",
       "  </thead>\n",
       "  <tbody>\n",
       "    <tr>\n",
       "      <th>0</th>\n",
       "      <td>1.495979e+11</td>\n",
       "      <td>-1.495979e+11</td>\n",
       "    </tr>\n",
       "    <tr>\n",
       "      <th>1</th>\n",
       "      <td>-1.888874e+14</td>\n",
       "      <td>1.888874e+14</td>\n",
       "    </tr>\n",
       "    <tr>\n",
       "      <th>2</th>\n",
       "      <td>-1.888874e+14</td>\n",
       "      <td>1.888874e+14</td>\n",
       "    </tr>\n",
       "    <tr>\n",
       "      <th>3</th>\n",
       "      <td>-1.888874e+14</td>\n",
       "      <td>1.888874e+14</td>\n",
       "    </tr>\n",
       "    <tr>\n",
       "      <th>4</th>\n",
       "      <td>-1.888874e+14</td>\n",
       "      <td>1.888874e+14</td>\n",
       "    </tr>\n",
       "  </tbody>\n",
       "</table>\n",
       "</div>"
      ],
      "text/plain": [
       "              0             1\n",
       "0  1.495979e+11 -1.495979e+11\n",
       "1 -1.888874e+14  1.888874e+14\n",
       "2 -1.888874e+14  1.888874e+14\n",
       "3 -1.888874e+14  1.888874e+14\n",
       "4 -1.888874e+14  1.888874e+14"
      ]
     },
     "metadata": {},
     "output_type": "display_data"
    }
   ],
   "source": [
    "display(dfx)"
   ]
  },
  {
   "cell_type": "code",
   "execution_count": 38,
   "metadata": {},
   "outputs": [],
   "source": [
    "dfy=mergeStarDataIntoDataFrame('y')"
   ]
  },
  {
   "cell_type": "code",
   "execution_count": 39,
   "metadata": {},
   "outputs": [
    {
     "data": {
      "text/html": [
       "<div>\n",
       "<style scoped>\n",
       "    .dataframe tbody tr th:only-of-type {\n",
       "        vertical-align: middle;\n",
       "    }\n",
       "\n",
       "    .dataframe tbody tr th {\n",
       "        vertical-align: top;\n",
       "    }\n",
       "\n",
       "    .dataframe thead th {\n",
       "        text-align: right;\n",
       "    }\n",
       "</style>\n",
       "<table border=\"1\" class=\"dataframe\">\n",
       "  <thead>\n",
       "    <tr style=\"text-align: right;\">\n",
       "      <th></th>\n",
       "      <th>0</th>\n",
       "      <th>1</th>\n",
       "    </tr>\n",
       "  </thead>\n",
       "  <tbody>\n",
       "    <tr>\n",
       "      <th>0</th>\n",
       "      <td>0.000000</td>\n",
       "      <td>0.000018</td>\n",
       "    </tr>\n",
       "    <tr>\n",
       "      <th>1</th>\n",
       "      <td>2154.725774</td>\n",
       "      <td>-2154.748906</td>\n",
       "    </tr>\n",
       "    <tr>\n",
       "      <th>2</th>\n",
       "      <td>2154.724439</td>\n",
       "      <td>-2154.747571</td>\n",
       "    </tr>\n",
       "    <tr>\n",
       "      <th>3</th>\n",
       "      <td>2154.723104</td>\n",
       "      <td>-2154.746236</td>\n",
       "    </tr>\n",
       "    <tr>\n",
       "      <th>4</th>\n",
       "      <td>2154.721768</td>\n",
       "      <td>-2154.744900</td>\n",
       "    </tr>\n",
       "  </tbody>\n",
       "</table>\n",
       "</div>"
      ],
      "text/plain": [
       "             0            1\n",
       "0     0.000000     0.000018\n",
       "1  2154.725774 -2154.748906\n",
       "2  2154.724439 -2154.747571\n",
       "3  2154.723104 -2154.746236\n",
       "4  2154.721768 -2154.744900"
      ]
     },
     "metadata": {},
     "output_type": "display_data"
    }
   ],
   "source": [
    "display(dfy)"
   ]
  },
  {
   "cell_type": "code",
   "execution_count": 40,
   "metadata": {},
   "outputs": [],
   "source": [
    "dfvx=mergeStarDataIntoDataFrame('vx')"
   ]
  },
  {
   "cell_type": "code",
   "execution_count": 41,
   "metadata": {},
   "outputs": [
    {
     "data": {
      "text/html": [
       "<div>\n",
       "<style scoped>\n",
       "    .dataframe tbody tr th:only-of-type {\n",
       "        vertical-align: middle;\n",
       "    }\n",
       "\n",
       "    .dataframe tbody tr th {\n",
       "        vertical-align: top;\n",
       "    }\n",
       "\n",
       "    .dataframe thead th {\n",
       "        text-align: right;\n",
       "    }\n",
       "</style>\n",
       "<table border=\"1\" class=\"dataframe\">\n",
       "  <thead>\n",
       "    <tr style=\"text-align: right;\">\n",
       "      <th></th>\n",
       "      <th>0</th>\n",
       "      <th>1</th>\n",
       "    </tr>\n",
       "  </thead>\n",
       "  <tbody>\n",
       "    <tr>\n",
       "      <th>0</th>\n",
       "      <td>0.000000e+00</td>\n",
       "      <td>3.574600e-12</td>\n",
       "    </tr>\n",
       "    <tr>\n",
       "      <th>1</th>\n",
       "      <td>-5.985589e+08</td>\n",
       "      <td>5.985589e+08</td>\n",
       "    </tr>\n",
       "    <tr>\n",
       "      <th>2</th>\n",
       "      <td>-5.985589e+08</td>\n",
       "      <td>5.985589e+08</td>\n",
       "    </tr>\n",
       "    <tr>\n",
       "      <th>3</th>\n",
       "      <td>-5.985589e+08</td>\n",
       "      <td>5.985589e+08</td>\n",
       "    </tr>\n",
       "    <tr>\n",
       "      <th>4</th>\n",
       "      <td>-5.985589e+08</td>\n",
       "      <td>5.985589e+08</td>\n",
       "    </tr>\n",
       "  </tbody>\n",
       "</table>\n",
       "</div>"
      ],
      "text/plain": [
       "              0             1\n",
       "0  0.000000e+00  3.574600e-12\n",
       "1 -5.985589e+08  5.985589e+08\n",
       "2 -5.985589e+08  5.985589e+08\n",
       "3 -5.985589e+08  5.985589e+08\n",
       "4 -5.985589e+08  5.985589e+08"
      ]
     },
     "metadata": {},
     "output_type": "display_data"
    }
   ],
   "source": [
    "display(dfvx)"
   ]
  },
  {
   "cell_type": "code",
   "execution_count": 42,
   "metadata": {},
   "outputs": [],
   "source": [
    "dfvy=mergeStarDataIntoDataFrame('vy')"
   ]
  },
  {
   "cell_type": "code",
   "execution_count": 43,
   "metadata": {},
   "outputs": [
    {
     "data": {
      "text/html": [
       "<div>\n",
       "<style scoped>\n",
       "    .dataframe tbody tr th:only-of-type {\n",
       "        vertical-align: middle;\n",
       "    }\n",
       "\n",
       "    .dataframe tbody tr th {\n",
       "        vertical-align: top;\n",
       "    }\n",
       "\n",
       "    .dataframe thead th {\n",
       "        text-align: right;\n",
       "    }\n",
       "</style>\n",
       "<table border=\"1\" class=\"dataframe\">\n",
       "  <thead>\n",
       "    <tr style=\"text-align: right;\">\n",
       "      <th></th>\n",
       "      <th>0</th>\n",
       "      <th>1</th>\n",
       "    </tr>\n",
       "  </thead>\n",
       "  <tbody>\n",
       "    <tr>\n",
       "      <th>0</th>\n",
       "      <td>29188.823409</td>\n",
       "      <td>-29188.823409</td>\n",
       "    </tr>\n",
       "    <tr>\n",
       "      <th>1</th>\n",
       "      <td>0.006828</td>\n",
       "      <td>-0.006828</td>\n",
       "    </tr>\n",
       "    <tr>\n",
       "      <th>2</th>\n",
       "      <td>0.006828</td>\n",
       "      <td>-0.006828</td>\n",
       "    </tr>\n",
       "    <tr>\n",
       "      <th>3</th>\n",
       "      <td>0.006828</td>\n",
       "      <td>-0.006828</td>\n",
       "    </tr>\n",
       "    <tr>\n",
       "      <th>4</th>\n",
       "      <td>0.006828</td>\n",
       "      <td>-0.006828</td>\n",
       "    </tr>\n",
       "  </tbody>\n",
       "</table>\n",
       "</div>"
      ],
      "text/plain": [
       "              0             1\n",
       "0  29188.823409 -29188.823409\n",
       "1      0.006828     -0.006828\n",
       "2      0.006828     -0.006828\n",
       "3      0.006828     -0.006828\n",
       "4      0.006828     -0.006828"
      ]
     },
     "metadata": {},
     "output_type": "display_data"
    }
   ],
   "source": [
    "display(dfvy)"
   ]
  },
  {
   "cell_type": "code",
   "execution_count": 44,
   "metadata": {},
   "outputs": [],
   "source": [
    "dfax=mergeStarDataIntoDataFrame('ax')"
   ]
  },
  {
   "cell_type": "code",
   "execution_count": 45,
   "metadata": {},
   "outputs": [
    {
     "data": {
      "text/html": [
       "<div>\n",
       "<style scoped>\n",
       "    .dataframe tbody tr th:only-of-type {\n",
       "        vertical-align: middle;\n",
       "    }\n",
       "\n",
       "    .dataframe tbody tr th {\n",
       "        vertical-align: top;\n",
       "    }\n",
       "\n",
       "    .dataframe thead th {\n",
       "        text-align: right;\n",
       "    }\n",
       "</style>\n",
       "<table border=\"1\" class=\"dataframe\">\n",
       "  <thead>\n",
       "    <tr style=\"text-align: right;\">\n",
       "      <th></th>\n",
       "      <th>0</th>\n",
       "      <th>1</th>\n",
       "    </tr>\n",
       "  </thead>\n",
       "  <tbody>\n",
       "    <tr>\n",
       "      <th>0</th>\n",
       "      <td>-1896.753151</td>\n",
       "      <td>1896.753151</td>\n",
       "    </tr>\n",
       "    <tr>\n",
       "      <th>1</th>\n",
       "      <td>-1896.753151</td>\n",
       "      <td>1896.753151</td>\n",
       "    </tr>\n",
       "    <tr>\n",
       "      <th>2</th>\n",
       "      <td>-1896.753151</td>\n",
       "      <td>1896.753151</td>\n",
       "    </tr>\n",
       "    <tr>\n",
       "      <th>3</th>\n",
       "      <td>-1896.753151</td>\n",
       "      <td>1896.753151</td>\n",
       "    </tr>\n",
       "    <tr>\n",
       "      <th>4</th>\n",
       "      <td>-1896.753151</td>\n",
       "      <td>1896.753151</td>\n",
       "    </tr>\n",
       "  </tbody>\n",
       "</table>\n",
       "</div>"
      ],
      "text/plain": [
       "             0            1\n",
       "0 -1896.753151  1896.753151\n",
       "1 -1896.753151  1896.753151\n",
       "2 -1896.753151  1896.753151\n",
       "3 -1896.753151  1896.753151\n",
       "4 -1896.753151  1896.753151"
      ]
     },
     "metadata": {},
     "output_type": "display_data"
    }
   ],
   "source": [
    "display(dfax)"
   ]
  },
  {
   "cell_type": "code",
   "execution_count": 46,
   "metadata": {},
   "outputs": [],
   "source": [
    "dfay=mergeStarDataIntoDataFrame('ay')"
   ]
  },
  {
   "cell_type": "code",
   "execution_count": 47,
   "metadata": {},
   "outputs": [
    {
     "data": {
      "text/html": [
       "<div>\n",
       "<style scoped>\n",
       "    .dataframe tbody tr th:only-of-type {\n",
       "        vertical-align: middle;\n",
       "    }\n",
       "\n",
       "    .dataframe tbody tr th {\n",
       "        vertical-align: top;\n",
       "    }\n",
       "\n",
       "    .dataframe thead th {\n",
       "        text-align: right;\n",
       "    }\n",
       "</style>\n",
       "<table border=\"1\" class=\"dataframe\">\n",
       "  <thead>\n",
       "    <tr style=\"text-align: right;\">\n",
       "      <th></th>\n",
       "      <th>0</th>\n",
       "      <th>1</th>\n",
       "    </tr>\n",
       "  </thead>\n",
       "  <tbody>\n",
       "    <tr>\n",
       "      <th>0</th>\n",
       "      <td>2.163708e-08</td>\n",
       "      <td>-2.163731e-08</td>\n",
       "    </tr>\n",
       "    <tr>\n",
       "      <th>1</th>\n",
       "      <td>2.163708e-08</td>\n",
       "      <td>-2.163731e-08</td>\n",
       "    </tr>\n",
       "    <tr>\n",
       "      <th>2</th>\n",
       "      <td>2.163708e-08</td>\n",
       "      <td>-2.163731e-08</td>\n",
       "    </tr>\n",
       "    <tr>\n",
       "      <th>3</th>\n",
       "      <td>2.163708e-08</td>\n",
       "      <td>-2.163731e-08</td>\n",
       "    </tr>\n",
       "    <tr>\n",
       "      <th>4</th>\n",
       "      <td>2.163708e-08</td>\n",
       "      <td>-2.163731e-08</td>\n",
       "    </tr>\n",
       "  </tbody>\n",
       "</table>\n",
       "</div>"
      ],
      "text/plain": [
       "              0             1\n",
       "0  2.163708e-08 -2.163731e-08\n",
       "1  2.163708e-08 -2.163731e-08\n",
       "2  2.163708e-08 -2.163731e-08\n",
       "3  2.163708e-08 -2.163731e-08\n",
       "4  2.163708e-08 -2.163731e-08"
      ]
     },
     "metadata": {},
     "output_type": "display_data"
    }
   ],
   "source": [
    "display(dfay)"
   ]
  },
  {
   "cell_type": "code",
   "execution_count": 51,
   "metadata": {},
   "outputs": [
    {
     "data": {
      "text/plain": [
       "[0.0, 1577846.3, 3155692.6, 4733538.9, 6311385.2]"
      ]
     },
     "execution_count": 51,
     "metadata": {},
     "output_type": "execute_result"
    }
   ],
   "source": [
    "df['time'].tolist()"
   ]
  },
  {
   "cell_type": "code",
   "execution_count": null,
   "metadata": {},
   "outputs": [],
   "source": []
  }
 ],
 "metadata": {
  "kernelspec": {
   "display_name": "Python 3",
   "language": "python",
   "name": "python3"
  },
  "language_info": {
   "codemirror_mode": {
    "name": "ipython",
    "version": 3
   },
   "file_extension": ".py",
   "mimetype": "text/x-python",
   "name": "python",
   "nbconvert_exporter": "python",
   "pygments_lexer": "ipython3",
   "version": "3.6.4"
  }
 },
 "nbformat": 4,
 "nbformat_minor": 2
}
