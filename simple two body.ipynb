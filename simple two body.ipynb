{
 "cells": [
  {
   "cell_type": "code",
   "execution_count": 1,
   "metadata": {},
   "outputs": [],
   "source": [
    "import numpy as np\n",
    "import matplotlib.pyplot as plt\n",
    "\n",
    "def NewtonianForce(mass1,mass2, r):\n",
    "    return (6.67408*10**-11)*mass1*mass2/r/r;"
   ]
  },
  {
   "cell_type": "code",
   "execution_count": 2,
   "metadata": {},
   "outputs": [],
   "source": [
    "def euler(h,t, x,f):\n",
    "    return (f(t+h,x+h)-f(t,h)/2./h)"
   ]
  },
  {
   "cell_type": "code",
   "execution_count": 3,
   "metadata": {},
   "outputs": [],
   "source": [
    "def RK4(h,t,x,y,z,f): #not a finite difference so no step in y\n",
    "    k1= h*f(t,x,y,z)\n",
    "    k2=h*f(t+h/2.,x,y,z)\n",
    "    k3=h*f(t+h/2.,x,y,z)\n",
    "    k4=h*f(t+h,x,y,z)\n",
    "    return t+h, f(t,x,y,z)+1/6.*(k1+2.*k2+2.*k3+k4)\n",
    "\n"
   ]
  },
  {
   "cell_type": "markdown",
   "metadata": {},
   "source": [
    "# Verifying the RK4 routine numerically"
   ]
  },
  {
   "cell_type": "markdown",
   "metadata": {},
   "source": [
    "First I verify the RK4 by examining the behavior for a differential equation where the right hand side is a fourth order polynomial. This should have a truncation error that is forth order (on the order of the fourth order polynomial itself). "
   ]
  },
  {
   "cell_type": "code",
   "execution_count": 4,
   "metadata": {},
   "outputs": [],
   "source": [
    "def polynomial4(t,x,a,b,c,d,e):\n",
    "    p=[]\n",
    "    for xi in x:\n",
    "        pi=a*xi**4+b*xi**3+c*xi**2+d*xi+e\n",
    "        #print(pi)\n",
    "        p.append(pi)\n",
    "    return np.array(p)\n",
    "    \n",
    "\n",
    "def polymaker(t,x,y,z,a,b,c,d,e):\n",
    "    def poly(t,x,y,z):\n",
    "        return polynomial4(t,x,a,b,c,d,e)\n",
    "    return poly\n",
    "        \n",
    "        "
   ]
  },
  {
   "cell_type": "code",
   "execution_count": 5,
   "metadata": {},
   "outputs": [
    {
     "name": "stdout",
     "output_type": "stream",
     "text": [
      "0.0 [0.   0.01 0.02 0.03 0.04 0.05 0.06 0.07 0.08 0.09]\n"
     ]
    }
   ],
   "source": [
    "import numpy as np\n",
    "t=0.\n",
    "x=0.01*np.arange(10.)\n",
    "y=0.01*np.arange(10.)\n",
    "z=0.01*np.arange(10.)\n",
    "print(t,x)\n",
    "polyfn=polymaker(t,x,y,z,1.,0.,0.,0.,0.)"
   ]
  },
  {
   "cell_type": "code",
   "execution_count": 6,
   "metadata": {},
   "outputs": [],
   "source": [
    "#import matplotlib.pyplot as plt\n",
    "#plt.plot(t,polyfn(t,x))"
   ]
  },
  {
   "cell_type": "code",
   "execution_count": 7,
   "metadata": {},
   "outputs": [
    {
     "name": "stdout",
     "output_type": "stream",
     "text": [
      "[0.000e+00 1.000e-08 1.600e-07 8.100e-07 2.560e-06 6.250e-06 1.296e-05\n",
      " 2.401e-05 4.096e-05 6.561e-05]\n"
     ]
    }
   ],
   "source": [
    "outp=polyfn(t,x,y,z) #this is correct to order of magnitude\n",
    "print(outp)"
   ]
  },
  {
   "cell_type": "code",
   "execution_count": 8,
   "metadata": {},
   "outputs": [
    {
     "name": "stdout",
     "output_type": "stream",
     "text": [
      "[0.         0.01000001 0.02000016 0.03000081 0.04000256 0.05000625\n",
      " 0.06001296 0.07002401 0.08004096 0.09006561]\n"
     ]
    }
   ],
   "source": [
    "rk4polyout=RK4(.01,t,x,y,z,polyfn)\n",
    "print(outp+x)"
   ]
  },
  {
   "cell_type": "code",
   "execution_count": 9,
   "metadata": {},
   "outputs": [
    {
     "name": "stdout",
     "output_type": "stream",
     "text": [
      "(0.01, array([0.00000e+00, 1.01000e-08, 1.61600e-07, 8.18100e-07, 2.58560e-06,\n",
      "       6.31250e-06, 1.30896e-05, 2.42501e-05, 4.13696e-05, 6.62661e-05]))\n",
      "[        nan -0.99999999 -0.99999992 -0.99999973 -0.99999936 -0.99999875\n",
      " -0.99999784 -0.99999657 -0.99999488 -0.99999271]\n"
     ]
    },
    {
     "name": "stderr",
     "output_type": "stream",
     "text": [
      "/Users/sdorsher/anaconda3/lib/python3.6/site-packages/ipykernel_launcher.py:3: RuntimeWarning: invalid value encountered in true_divide\n",
      "  This is separate from the ipykernel package so we can avoid doing imports until\n"
     ]
    }
   ],
   "source": [
    "print(rk4polyout) \n",
    "#There are multiple items in the y output, which is confusing. trace this over time and plot an evolution and compare to exact solution, which I have analytically written down. steve points out truncation error\n",
    "print(((rk4polyout[1]-x-outp)/x))\n",
    "#order4 polynomial error (comparable in size to polyfn itself, relative error with it is one)"
   ]
  },
  {
   "cell_type": "markdown",
   "metadata": {},
   "source": [
    "The above relative errors of one demonstrate that the RK4 output has fourth order truncation errors for a fourth order polynomial right hand side. "
   ]
  },
  {
   "cell_type": "markdown",
   "metadata": {},
   "source": [
    "# Two Body, Earth and Sun"
   ]
  },
  {
   "cell_type": "markdown",
   "metadata": {},
   "source": [
    "Generate iniitial data for two body problem, Sun and Earth, using reduced mass framework."
   ]
  },
  {
   "cell_type": "code",
   "execution_count": 10,
   "metadata": {},
   "outputs": [],
   "source": [
    "import math\n",
    "def InitialData():\n",
    "    random.seed(a=9001)\n",
    "    \n",
    "    #initially use an in plane orbit with random starting locations relative to the x axis\n",
    "    phi=np.array([0,math.pi])\n",
    "    orbitangle=np.zeros(2)\n",
    "    #orbitalradius=np.random.uniform(.1,50,2)\n",
    "    orbitalradius=np.ones(2)\n",
    "    #start with circular orbits\n",
    "    #eccentricity=np.random.uniform(0.,.1,2)\n",
    "    eccentricity=np.zeros(2)\n",
    "    #magnitude=np.random.uniform(-20,-30,2) #absolute not apparent maginutde\n",
    "    #magsun=-26.832\n",
    "    masssun=1.989*10**30\n",
    "    lsun=3.828*10**26\n",
    "    massearth=5.9722*10**24\n",
    "    #luminosity=lsun*10**(0.4*(magnitude-magsun))\n",
    "    #masses= invertIMF(luminosity,lsun,masssun) #Initial mass function for Main Sequence\n",
    "    #masses=np.random.uniform(.7,5.) #replace with IMF\n",
    "    masses=np.array([masssun,massearth])\n",
    "\n",
    "    return phi,orbitangle,orbitalradius,eccentricity, masses\n",
    "\n"
   ]
  },
  {
   "cell_type": "code",
   "execution_count": 11,
   "metadata": {},
   "outputs": [],
   "source": [
    "import random,numpy as np\n",
    "initdat=InitialData()"
   ]
  },
  {
   "cell_type": "code",
   "execution_count": 12,
   "metadata": {},
   "outputs": [
    {
     "name": "stdout",
     "output_type": "stream",
     "text": [
      "(array([0.        , 3.14159265]), array([0., 0.]), array([1., 1.]), array([0., 0.]), array([1.9890e+30, 5.9722e+24]))\n"
     ]
    }
   ],
   "source": [
    "print(initdat)"
   ]
  },
  {
   "cell_type": "markdown",
   "metadata": {},
   "source": [
    "Transform cylindrical initial data to x,y,z, velocity, acceleration initial data"
   ]
  },
  {
   "cell_type": "code",
   "execution_count": 13,
   "metadata": {},
   "outputs": [],
   "source": [
    "def getxyuv(initdat):\n",
    "    phi,orbitangle,orbitalradius,eccentricity, masses=initdat\n",
    "    #print(orbitalradius, phi, np.cos(phi), np.sin(phi))\n",
    "    metersperAU=149597870700\n",
    "    Gconstant=6.408*10**-11\n",
    "    x0=orbitalradius*np.cos(phi)*metersperAU\n",
    "    y0=orbitalradius*np.sin(phi)*metersperAU\n",
    "    z0=np.zeros(2)\n",
    "    \n",
    "\n",
    "    \n",
    "    #start at perihelion for both (eliptical, doesn't generalize to three body)\n",
    "    #actually start with circular orbit\n",
    "    ux0=np.zeros(2)*149597870700\n",
    "    #centrepital force balances gravitational force\n",
    "    reducedmass=np.zeros(2)\n",
    "    print(masses)\n",
    "    for i in np.arange(2):\n",
    "        j=(i+1)%2 #reverse masses\n",
    "        reducedmass[i]=masses[i]*masses[j]/np.sum(masses)\n",
    "    print(reducedmass)\n",
    "    rphys=np.zeros(len(masses))\n",
    "    for i in np.arange(2):\n",
    "        rphys[i]=orbitalradius[i]*metersperAU*reducedmass[i]/masses[i]\n",
    "    x0=rphys*np.cos(phi)\n",
    "    y0=rphys*np.sin(phi)\n",
    "    z0=np.zeros(2)\n",
    "    print(rphys)\n",
    "    F=(Gconstant*reducedmass**2/rphys**2)\n",
    "    print(F)\n",
    "    #centF=reducedmass*v**2/rphys\n",
    "    #centF=accel\n",
    "    v=np.sqrt(Gconstant*reducedmass/rphys)\n",
    "    print(v)\n",
    "    ux0=v*np.sin(phi)\n",
    "    uy0=v*np.cos(phi) #initial data in y only\n",
    "    #evolve in plane only\n",
    "    #there is a units problem that needs to be fixed\n",
    "    #velocity initial conditions are not trivial. \n",
    "    uz0=np.zeros(2)\n",
    "    \n",
    "    #circular orbit   #a=omega^2 * r #v=omega*r #omega=v/r\n",
    "    omega=v/rphys\n",
    "    print(omega)\n",
    "    omegatrue=np.mean(omega) #shouldaccount for numerical effects\n",
    "    print(omegatrue)\n",
    "    a=omegatrue**2*rphys\n",
    "    print(\"a\",a)\n",
    "    print(phi)\n",
    "    ax0=-a*np.cos(phi)\n",
    "    ay0=-a*np.sin(phi)\n",
    "    az0=np.zeros(2)\n",
    "    \n",
    "    \n",
    "    return reducedmass,x0,y0,z0, ux0, uy0,uz0, ax0, ay0,az0"
   ]
  },
  {
   "cell_type": "code",
   "execution_count": 14,
   "metadata": {},
   "outputs": [
    {
     "name": "stdout",
     "output_type": "stream",
     "text": [
      "[1.9890e+30 5.9722e+24]\n",
      "[5.97218207e+24 5.97218207e+24]\n",
      "[4.49183369e+05 1.49597422e+11]\n",
      "[1.13276871e+28 1.02126951e+17]\n",
      "[29188.7795877     50.57847341]\n",
      "[6.49818796e-02 3.38097227e-10]\n",
      "0.032490939958166556\n",
      "a [4.74185445e+02 1.57924190e+08]\n",
      "[0.         3.14159265]\n",
      "(array([5.97218207e+24, 5.97218207e+24]), array([ 4.49183369e+05, -1.49597422e+11]), array([0.00000000e+00, 1.83204003e-05]), array([0., 0.]), array([0.00000000e+00, 6.19407656e-15]), array([29188.7795877 ,   -50.57847341]), array([0., 0.]), array([-4.74185445e+02,  1.57924190e+08]), array([-0.00000000e+00, -1.93401354e-08]), array([0., 0.]))\n",
      "449183.36891987134\n",
      "1.0\n",
      "(array([5.97218207e+24, 5.97218207e+24]), array([ 4.49183369e+05, -1.49597422e+11]), array([0.00000000e+00, 1.83204003e-05]), array([0., 0.]), array([0.00000000e+00, 6.19407656e-15]), array([29188.7795877 ,   -50.57847341]), array([0., 0.]), array([-4.74185445e+02,  1.57924190e+08]), array([-0.00000000e+00, -1.93401354e-08]), array([0., 0.]))\n"
     ]
    }
   ],
   "source": [
    "xyuva=getxyuv(initdat)\n",
    "print(xyuva)#In SI units\n",
    "print(xyuva[1][0])\n",
    "print(xyuva[0][0]/xyuva[0][1])\n",
    "print(xyuva)"
   ]
  },
  {
   "cell_type": "markdown",
   "metadata": {},
   "source": [
    "Time stepping routine using Euler method and Newtonian differential equation for two body system"
   ]
  },
  {
   "cell_type": "code",
   "execution_count": 15,
   "metadata": {},
   "outputs": [],
   "source": [
    "def timestep(step,t,dt,reducedmass,xi,yi,zi, vxi, vyi, vzi, axi, ayi, azi):\n",
    "    xii=np.zeros(np.size(xi))\n",
    "    vxii=np.zeros(np.size(vx))\n",
    "    yii=np.zeros(np.size(yi))\n",
    "    vyii=np.zeros(np.size(vy))\n",
    "    zii=np.zeros(np.size(vzi))\n",
    "    vzii=np.zeros(np.size(vzi))\n",
    "    rii=np.zeros(np.size(xi))\n",
    "    axii=axi\n",
    "    ayii=ayi\n",
    "    azii=azi\n",
    "    \n",
    "    for m in np.arange(len(x)):\n",
    "        #m represents choices of mass\n",
    "        i=step\n",
    "        \n",
    "        xii[m] = xi[m] + dt*vxi[m]\n",
    "        #print(xii)\n",
    "        vxii[m] = vxi[m] + dt*axi[m]\n",
    "        #print(vxii)\n",
    "        yii[m]= yi[m] + dt*vyi[m]\n",
    "        vyii[m] = vyi[m] + dt*ayi[m]\n",
    "        zii[m]= zi[m] + dt*vzi[m]\n",
    "        vzii[m] = vzi[m] + dt*azi[m]\n",
    "        rii[m]=np.sqrt(xi[m]**2+yi[m]**2+zi[m]**2)\n",
    "    \n",
    "    \n",
    "    Gconstant=6.408*10**-11\n",
    "    for k in np.arange(len(rii)):\n",
    "        for j in np.arange(len(rii)):\n",
    "            if j!=k:\n",
    "                rreljk=np.abs((xi[j] - xi[k])**2+(yi[j]-yi[k])**2+(zi[j]-zi[k])**2)**(1./2.)\n",
    "                axii[j]+=Gconstant*reducedmass[k]*(xi[j]  - xi[k])/rreljk**3\n",
    "                ayii[j]+=Gconstant*reducedmass[k]*(yi[j]  - yi[k])/rreljk**3\n",
    "                azii[j]+=Gconstant*reducedmass[k]*(zi[j]  - zi[k])/rreljk**3\n",
    "    #print(xii)\n",
    "    return reducedmass, xii,yii,zii,vxii,vyii,vzii,axii,ayii,azii\n",
    "                    "
   ]
  },
  {
   "cell_type": "markdown",
   "metadata": {},
   "source": [
    "Run over several time steps and print"
   ]
  },
  {
   "cell_type": "code",
   "execution_count": 16,
   "metadata": {},
   "outputs": [
    {
     "name": "stdout",
     "output_type": "stream",
     "text": [
      "[ 4.49183369e+05 -1.49597422e+11] [ 9.21108157e+09 -1.59610114e+07] [-1.49638350e+08  4.98360199e+13] [29188.7795877    -50.58457657] [-4.74185445e+02  1.57924190e+08] [-2.09418125e-24 -1.93401354e-08]\n",
      "[-4.72212629e+13  1.57267158e+19] [ 1.84221631e+10 -3.19239488e+07] [-2.99276700e+08  9.96720398e+13] [29188.7795877    -50.59067972] [-4.74185445e+02  1.57924190e+08] [ 1.04874102e-09 -2.03888765e-08]\n",
      "[-1.41663790e+14  4.71801476e+19] [ 2.76332447e+10 -4.78888122e+07] [-4.4891505e+08  1.4950806e+14] [29188.77991865   -50.59711382] [-4.74185445e+02  1.57924190e+08] [ 1.04874102e-09 -2.03888765e-08]\n",
      "[-2.83327580e+14  9.43602954e+19] [ 3.68443264e+10 -6.38557059e+07] [-5.9855340e+08  1.9934408e+14] [29188.7802496    -50.60354792] [-4.74185445e+02  1.57924190e+08] [ 1.04874102e-09 -2.03888765e-08]\n"
     ]
    }
   ],
   "source": [
    "dt=0.01*31556926 #seconds per year\n",
    "numsteps=5\n",
    "mass,x,y,z,vx,vy,vz,ax,ay,az=xyuva\n",
    "for i in np.arange(1,numsteps):\n",
    "    t=0.+i*numsteps*dt\n",
    "    mass, x,y,z,vx,vy,vz,ax,ay,az=timestep(i,t,dt,mass,x,y,z,vx,vy,vz,ax,ay,az)\n",
    "    print(x,y,vx,vy,ax,ay)\n",
    "    #print(ay) #forces should be equal and opposite, but in reduced mass framework accelerations are also equal and opposite\n",
    "    #accelerations should evolve from y to x with time in a sinusoidal manner even in reduced mass framework\n",
    "    #print(ax)\n",
    "#mass, x,y,z,vx,vy,vz,ax,ay,az=timestep(2,0,dt,mass,x,y,z,vx,vy,vz,ax,ay,az)\n",
    "#print(x,y,vx,vy,ax,ay) \n",
    "#mass, x,y,z,vx,vy,vz,ax,ay,az=timestep(3,0,dt,mass,x,y,z,vx,vy,vz,ax,ay,az)\n",
    "#print(x,y,vx,vy,ax,ay) \n",
    "#mass, x,y,z,vx,vy,vz,ax,ay,az=timestep(4,0,dt,mass,x,y,z,vx,vy,vz,ax,ay,az)\n",
    "#print(x,y,vx,vy,ax,ay) "
   ]
  },
  {
   "cell_type": "markdown",
   "metadata": {},
   "source": [
    "Object for storing the orbital differential equation and evolving using implicit RK4 using Newtonian differential equation for two body system"
   ]
  },
  {
   "cell_type": "code",
   "execution_count": 17,
   "metadata": {},
   "outputs": [],
   "source": [
    "class OrbitDiffEq:\n",
    "    def __init__(self,reducedmass,x0,y0,z0, ux0, uy0,uz0, ax0, ay0,az0):\n",
    "        self.reducedmass=reducedmass\n",
    "        self.xi=x0\n",
    "        self.yi=y0\n",
    "        self.zi=z0\n",
    "        self.vxi=ux0\n",
    "        self.vyi=uy0\n",
    "        self.vzi=uz0\n",
    "        self.axi=ax0\n",
    "        self.ayi=ay0\n",
    "        self.azi=az0\n",
    "    def dxidt(self,t):\n",
    "        return self.vxi\n",
    "    def dyidt(self,t):\n",
    "        return self.vyi\n",
    "    def dzidt(self,t):\n",
    "        return self.vzi\n",
    "    def dvxidt(self,t):\n",
    "        #return axi[m]\n",
    "        axii=self.axi\n",
    "        rii=np.sqrt(self.xi**2+self.yi**2+self.zi**2)\n",
    "        Gconstant=6.408*10**-11\n",
    "        for k in np.arange(len(rii)):\n",
    "            for j in np.arange(len(rii)):\n",
    "                if j!=k:\n",
    "                    rreljk=np.abs((self.xi[j] - self.xi[k])**2+(self.yi[j]-self.yi[k])**2+(self.zi[j]-self.zi[k])**2)**(1./2.)\n",
    "                    axii[j]+=Gconstant*self.reducedmass[k]*(self.xi[j]  - self.xi[k])/rreljk**3\n",
    "        self.axi=axii\n",
    "        return axii\n",
    "    def dvyidt(self,t):\n",
    "        #return axi[m]\n",
    "        ayii=self.ayi\n",
    "        rii=np.sqrt(self.xi**2+self.yi**2+self.zi**2)\n",
    "        Gconstant=6.408*10**-11\n",
    "        for k in np.arange(len(rii)):\n",
    "            for j in np.arange(len(rii)):\n",
    "                if j!=k:\n",
    "                    rreljk=np.abs((self.xi[j] - self.xi[k])**2+(self.yi[j]-self.yi[k])**2+(self.zi[j]-self.zi[k])**2)**(1./2.)\n",
    "                    ayii[j]+=Gconstant*self.reducedmass[k]*(self.yi[j]  - self.yi[k])/rreljk**3\n",
    "        self.ayi=ayii\n",
    "        return ayii\n",
    "    def dvzidt(self,t):\n",
    "        #return axi[m]\n",
    "        azii=self.azi\n",
    "        rii=np.sqrt(self.xi**2+self.yi**2+self.zi**2)\n",
    "        Gconstant=6.408*10**-11\n",
    "        for k in np.arange(len(rii)):\n",
    "            for j in np.arange(len(rii)):\n",
    "                if j!=k:\n",
    "                    rreljk=np.abs((self.xi[j] - self.xi[k])**2+(self.yi[j]-self.yi[k])**2+(self.zi[j]-self.zi[k])**2)**(1./2.)\n",
    "                    azii[j]+=Gconstant*self.reducedmass[k]*(self.zi[j]  - self.zi[k])/rreljk**3\n",
    "        self.azi=azii\n",
    "        return azii\n",
    "    def updateINTERNAL(self,xii,yii,zii,vxii,vyii,vzii):\n",
    "        self.xi=xii\n",
    "        self.yi=yii\n",
    "        self.zi=zii\n",
    "        self.vxi=vxii\n",
    "        self.vyi=vyii\n",
    "        self.vzi=vzii\n",
    "        return self\n",
    "    def update(self,xii,yii,zii,vxii,vyii,vzii,axii,ayii,azii):\n",
    "        self.xi=xii\n",
    "        self.yi=yii\n",
    "        self.zi=zii\n",
    "        self.vxi=vxii\n",
    "        self.vyi=vyii\n",
    "        self.vzi=vzii\n",
    "        self.axi=axii\n",
    "        self.ayi=ayii\n",
    "        self.azi=azii\n",
    "    def print2D(self):\n",
    "        print(self.xi,self.yi,self.vxi,self.vyi,self.axi,self.ayi)\n",
    "        return self\n",
    "    def list2D(self):\n",
    "        return self.xi,self.yi,self.vxi,self.vyi,self.axi,self.ayi\n",
    "    def timestepRK4ODE(self,step,t,dt):\n",
    "\n",
    "    \n",
    "        h=dt\n",
    "        #tnew,ynew, intval=RK4(h,t,y,f)\n",
    "        #m represents choices of mass\n",
    "        i=step\n",
    "        \n",
    "        tnew,intvalx=RK4implicit(h,t,self.dxidt)\n",
    "        xii = intvalx\n",
    "        tnew,intvalvx=RK4implicit(h,t,self.dvxidt)\n",
    "        vxii=intvalvx\n",
    "        tnew,intvaly=RK4implicit(h,t,self.dyidt)\n",
    "        yii = intvaly\n",
    "        tnew,intvalvy=RK4implicit(h,t,self.dvyidt)\n",
    "        vyii=intvalvy\n",
    "        tnew,intvalz=RK4implicit(h,t,self.dzidt)\n",
    "        zii = intvalz\n",
    "        tnew,intvalvz=RK4implicit(h,t,self.dvzidt)\n",
    "        vzii=intvalvz\n",
    " \n",
    "        #print(xii)\n",
    "        self.updateINTERNAL(xii,yii,zii,vxii,vyii,vzii)\n",
    "        return reducedmass, xii,yii,zii,vxii,vyii,vzii,self.axi,self.ayi,self.azi"
   ]
  },
  {
   "cell_type": "markdown",
   "metadata": {},
   "source": [
    "Implicit RK4"
   ]
  },
  {
   "cell_type": "code",
   "execution_count": 18,
   "metadata": {},
   "outputs": [],
   "source": [
    "def RK4implicit(h,t,f): #not a finite difference so no step in y\n",
    "    k1= h*f(t)\n",
    "    k2=h*f(t+h/2.)\n",
    "    k3=h*f(t+h/2.)\n",
    "    k4=h*f(t+h)\n",
    "    return t+h, f(t)+1/6.*(k1+2.*k2+2.*k3+k4)\n",
    "\n",
    "\n"
   ]
  },
  {
   "cell_type": "markdown",
   "metadata": {},
   "source": [
    "Initialize iniitial conditions "
   ]
  },
  {
   "cell_type": "code",
   "execution_count": 19,
   "metadata": {},
   "outputs": [
    {
     "name": "stdout",
     "output_type": "stream",
     "text": [
      "[ 4.49183369e+05 -1.49597422e+11] [0.00000000e+00 1.83204003e-05] [0.00000000e+00 6.19407656e-15] [29188.7795877    -50.57847341] [-4.74185445e+02  1.57924190e+08] [ 1.04874102e-09 -2.03888765e-08]\n"
     ]
    },
    {
     "data": {
      "text/plain": [
       "<__main__.OrbitDiffEq at 0x10dabecf8>"
      ]
     },
     "execution_count": 19,
     "metadata": {},
     "output_type": "execute_result"
    }
   ],
   "source": [
    "reducedmass,x0,y0,z0, ux0, uy0,uz0, ax0, ay0,az0=xyuva\n",
    "ODE= OrbitDiffEq(reducedmass,x0,y0,z0, ux0, uy0,uz0, ax0, ay0,az0)\n",
    "ODE.print2D()"
   ]
  },
  {
   "cell_type": "markdown",
   "metadata": {},
   "source": [
    "Extract coordinates"
   ]
  },
  {
   "cell_type": "code",
   "execution_count": 20,
   "metadata": {},
   "outputs": [
    {
     "name": "stdout",
     "output_type": "stream",
     "text": [
      "[ 4.49183369e+05 -1.49597422e+11] [0.00000000e+00 1.83204003e-05] [0.00000000e+00 6.19407656e-15] [29188.7795877    -50.57847341] [-4.74185445e+02  1.57924190e+08] [ 1.04874102e-09 -2.03888765e-08]\n",
      "(array([5.97218207e+24, 5.97218207e+24]), array([ 4.49183369e+05, -1.49597422e+11]), array([0.00000000e+00, 1.83204003e-05]), array([0., 0.]), array([0.00000000e+00, 6.19407656e-15]), array([29188.7795877 ,   -50.57847341]), array([0., 0.]), array([-4.74185445e+02,  1.57924190e+08]), array([ 1.04874102e-09, -2.03888765e-08]), array([0., 0.]))\n"
     ]
    }
   ],
   "source": [
    "mass,x,y,z,vx,vy,vz,ax,ay,az=xyuva\n",
    "print(x,y,vx,vy,ax,ay)\n",
    "print(xyuva)"
   ]
  },
  {
   "cell_type": "markdown",
   "metadata": {},
   "source": [
    "Evolve the differential equation and print"
   ]
  },
  {
   "cell_type": "code",
   "execution_count": 21,
   "metadata": {},
   "outputs": [
    {
     "name": "stdout",
     "output_type": "stream",
     "text": [
      "[ 4.49183369e+05 -1.49597422e+11] [0.00000000e+00 1.83204003e-05] [0.00000000e+00 6.19407656e-15] [29188.7795877    -50.57847341] [-4.74185445e+02  1.57924190e+08] [ 1.04874102e-09 -2.03888765e-08]\n",
      "[0.0000000e+00 1.9547221e-10] [ 9.21137346e+08 -1.59615172e+06] [-1.49643092e+07  4.98375992e+12] [ 3.30960916e-05 -6.43430654e-04] [-4.74185445e+02  1.57924190e+08] [ 1.04874102e-09 -2.03888765e-08]\n",
      "[-4.72242562e+11  1.57277127e+17] [  1.04444401 -20.30533698] [-1.49643092e+07  4.98375992e+12] [ 35.46219366 -35.46280399] [-4.74185445e+02  1.57924190e+08] [ 0.00224736 -0.00224738]\n",
      "[-4.72242562e+11  1.57277127e+17] [ 1119113.28317089 -1119132.54406386] [-1.49643092e+07  4.98375992e+12] [ 70.92210685 -70.92271719] [-4.74185445e+02  1.57924190e+08] [ 0.00224736 -0.00224738]\n",
      "[-4.72242562e+11  1.57277127e+17] [ 2238154.59982401 -2238173.86071698] [-1.49643092e+07  4.98375992e+12] [ 70.92210685 -70.92271719] [-4.74185445e+02  1.57924190e+08] [ 0.00224736 -0.00224738]\n"
     ]
    }
   ],
   "source": [
    "dt=0.001*31556926 #seconds per year\n",
    "numsteps=5\n",
    "reducedmass,x,y,z,vx,vy,vz,ax,ay,az=xyuva\n",
    "ODE.print2D()\n",
    "for i in np.arange(1,numsteps):\n",
    "    t=0.+i*numsteps*dt\n",
    "    reducedmass, x,y,z,vx,vy,vz,ax,ay,az=ODE.timestepRK4ODE(i,t,dt)\n",
    "    ODE.print2D()\n",
    "    ODE.update(x,y,z,vx,vy,vz,ax,ay,az)\n",
    "\n"
   ]
  },
  {
   "cell_type": "code",
   "execution_count": 22,
   "metadata": {},
   "outputs": [],
   "source": [
    "secperyr=31556926"
   ]
  },
  {
   "cell_type": "markdown",
   "metadata": {},
   "source": [
    "Evolve the differential equation and store in a pandas data frame for later plotting"
   ]
  },
  {
   "cell_type": "code",
   "execution_count": 23,
   "metadata": {},
   "outputs": [],
   "source": [
    "ODE2= OrbitDiffEq(reducedmass,x0,y0,z0, ux0, uy0,uz0, ax0, ay0,az0)\n",
    "\n"
   ]
  },
  {
   "cell_type": "code",
   "execution_count": 24,
   "metadata": {},
   "outputs": [],
   "source": [
    "dt=0.01*31556926 #seconds per year\n",
    "numsteps=5\n",
    "reducedmass,x,y,z,vx,vy,vz,ax,ay,az=xyuva\n",
    "datainit=[[0,0.0,x,y,z,vx,vy,vz,ax,ay,az]]\n",
    "import pandas as pd\n",
    "columns =['step','time','x' ,'y','z','vx','vy','vz','ax','ay','az']\n",
    "df = pd.DataFrame(data=datainit, columns=columns)\n",
    "\n",
    "\n"
   ]
  },
  {
   "cell_type": "code",
   "execution_count": null,
   "metadata": {},
   "outputs": [],
   "source": []
  },
  {
   "cell_type": "code",
   "execution_count": 25,
   "metadata": {},
   "outputs": [
    {
     "data": {
      "text/html": [
       "<div>\n",
       "<style scoped>\n",
       "    .dataframe tbody tr th:only-of-type {\n",
       "        vertical-align: middle;\n",
       "    }\n",
       "\n",
       "    .dataframe tbody tr th {\n",
       "        vertical-align: top;\n",
       "    }\n",
       "\n",
       "    .dataframe thead th {\n",
       "        text-align: right;\n",
       "    }\n",
       "</style>\n",
       "<table border=\"1\" class=\"dataframe\">\n",
       "  <thead>\n",
       "    <tr style=\"text-align: right;\">\n",
       "      <th></th>\n",
       "      <th>step</th>\n",
       "      <th>time</th>\n",
       "      <th>x</th>\n",
       "      <th>y</th>\n",
       "      <th>z</th>\n",
       "      <th>vx</th>\n",
       "      <th>vy</th>\n",
       "      <th>vz</th>\n",
       "      <th>ax</th>\n",
       "      <th>ay</th>\n",
       "      <th>az</th>\n",
       "    </tr>\n",
       "  </thead>\n",
       "  <tbody>\n",
       "    <tr>\n",
       "      <th>0</th>\n",
       "      <td>0</td>\n",
       "      <td>0.0</td>\n",
       "      <td>[449183.36891987134, -149597421516.63107]</td>\n",
       "      <td>[0.0, 1.8320400342103965e-05]</td>\n",
       "      <td>[0.0, 0.0]</td>\n",
       "      <td>[0.0, 6.194076557160162e-15]</td>\n",
       "      <td>[29188.779587697383, -50.57847341349946]</td>\n",
       "      <td>[0.0, 0.0]</td>\n",
       "      <td>[-474.1854448655729, 157924190.42823714]</td>\n",
       "      <td>[0.002247362733938104, -0.0022473820740735355]</td>\n",
       "      <td>[0.0, 0.0]</td>\n",
       "    </tr>\n",
       "  </tbody>\n",
       "</table>\n",
       "</div>"
      ],
      "text/plain": [
       "   step  time                                          x  \\\n",
       "0     0   0.0  [449183.36891987134, -149597421516.63107]   \n",
       "\n",
       "                               y           z                            vx  \\\n",
       "0  [0.0, 1.8320400342103965e-05]  [0.0, 0.0]  [0.0, 6.194076557160162e-15]   \n",
       "\n",
       "                                         vy          vz  \\\n",
       "0  [29188.779587697383, -50.57847341349946]  [0.0, 0.0]   \n",
       "\n",
       "                                         ax  \\\n",
       "0  [-474.1854448655729, 157924190.42823714]   \n",
       "\n",
       "                                               ay          az  \n",
       "0  [0.002247362733938104, -0.0022473820740735355]  [0.0, 0.0]  "
      ]
     },
     "metadata": {},
     "output_type": "display_data"
    }
   ],
   "source": [
    "display(df)"
   ]
  },
  {
   "cell_type": "code",
   "execution_count": 26,
   "metadata": {},
   "outputs": [],
   "source": [
    "for i in np.arange(1,numsteps):\n",
    "    t=0.+i*numsteps*dt\n",
    "    reducedmass, x,y,z,vx,vy,vz,ax,ay,az=ODE2.timestepRK4ODE(i,t,dt)\n",
    "    df.loc[i]=i,t,x,y,z,vx,vy,vz,ax,ay,az\n",
    "    ODE2.update(x,y,z,vx,vy,vz,ax,ay,az)\n"
   ]
  },
  {
   "cell_type": "code",
   "execution_count": 27,
   "metadata": {},
   "outputs": [
    {
     "data": {
      "text/html": [
       "<div>\n",
       "<style scoped>\n",
       "    .dataframe tbody tr th:only-of-type {\n",
       "        vertical-align: middle;\n",
       "    }\n",
       "\n",
       "    .dataframe tbody tr th {\n",
       "        vertical-align: top;\n",
       "    }\n",
       "\n",
       "    .dataframe thead th {\n",
       "        text-align: right;\n",
       "    }\n",
       "</style>\n",
       "<table border=\"1\" class=\"dataframe\">\n",
       "  <thead>\n",
       "    <tr style=\"text-align: right;\">\n",
       "      <th></th>\n",
       "      <th>step</th>\n",
       "      <th>time</th>\n",
       "      <th>x</th>\n",
       "      <th>y</th>\n",
       "      <th>z</th>\n",
       "      <th>vx</th>\n",
       "      <th>vy</th>\n",
       "      <th>vz</th>\n",
       "      <th>ax</th>\n",
       "      <th>ay</th>\n",
       "      <th>az</th>\n",
       "    </tr>\n",
       "  </thead>\n",
       "  <tbody>\n",
       "    <tr>\n",
       "      <th>0</th>\n",
       "      <td>0</td>\n",
       "      <td>0.0</td>\n",
       "      <td>[449183.36891987134, -149597421516.63107]</td>\n",
       "      <td>[0.0, 1.8320400342103965e-05]</td>\n",
       "      <td>[0.0, 0.0]</td>\n",
       "      <td>[0.0, 6.194076557160162e-15]</td>\n",
       "      <td>[29188.779587697383, -50.57847341349946]</td>\n",
       "      <td>[0.0, 0.0]</td>\n",
       "      <td>[-474.1854447800713, 157924190.428237]</td>\n",
       "      <td>[0.0022698376326943694, -0.002269856972829801]</td>\n",
       "      <td>[0.0, 0.0]</td>\n",
       "    </tr>\n",
       "    <tr>\n",
       "      <th>1</th>\n",
       "      <td>1</td>\n",
       "      <td>1577846.3</td>\n",
       "      <td>[0.0, 1.9546663496029367e-09]</td>\n",
       "      <td>[9211110763.572353, -15961062.00550111]</td>\n",
       "      <td>[0.0, 0.0]</td>\n",
       "      <td>[-149638824.11095357, 49836177833728.28]</td>\n",
       "      <td>[709.2008422631583, -709.2069454347248]</td>\n",
       "      <td>[0.0, 0.0]</td>\n",
       "      <td>[-474.1854447800713, 157924190.428237]</td>\n",
       "      <td>[0.0022698376326943694, -0.002269856972829801]</td>\n",
       "      <td>[0.0, 0.0]</td>\n",
       "    </tr>\n",
       "    <tr>\n",
       "      <th>2</th>\n",
       "      <td>2</td>\n",
       "      <td>3155692.6</td>\n",
       "      <td>[-47221562630787.875, 1.5726815596395868e+19]</td>\n",
       "      <td>[223802694.18520382, -223804620.16464195]</td>\n",
       "      <td>[0.0, 0.0]</td>\n",
       "      <td>[-149638824.0974627, 49836177833728.26]</td>\n",
       "      <td>[712.7470583226017, -712.7531614941684]</td>\n",
       "      <td>[0.0, 0.0]</td>\n",
       "      <td>[-474.1854447800713, 157924190.428237]</td>\n",
       "      <td>[0.0022698376326943694, -0.002269856972829801]</td>\n",
       "      <td>[0.0, 0.0]</td>\n",
       "    </tr>\n",
       "    <tr>\n",
       "      <th>3</th>\n",
       "      <td>3</td>\n",
       "      <td>4733538.9</td>\n",
       "      <td>[-47221562626530.57, 1.5726815596395866e+19]</td>\n",
       "      <td>[224921774.50909853, -224923700.4885367]</td>\n",
       "      <td>[0.0, 0.0]</td>\n",
       "      <td>[-149638824.0974627, 49836177833728.26]</td>\n",
       "      <td>[716.2932519071464, -716.2993550787132]</td>\n",
       "      <td>[0.0, 0.0]</td>\n",
       "      <td>[-474.1854447800713, 157924190.428237]</td>\n",
       "      <td>[0.0022698376326943694, -0.002269856972829801]</td>\n",
       "      <td>[0.0, 0.0]</td>\n",
       "    </tr>\n",
       "    <tr>\n",
       "      <th>4</th>\n",
       "      <td>4</td>\n",
       "      <td>6311385.2</td>\n",
       "      <td>[-47221562626530.57, 1.5726815596395866e+19]</td>\n",
       "      <td>[226040847.74058372, -226042773.72002184]</td>\n",
       "      <td>[0.0, 0.0]</td>\n",
       "      <td>[-149638824.0974627, 49836177833728.26]</td>\n",
       "      <td>[716.2932519071464, -716.2993550787132]</td>\n",
       "      <td>[0.0, 0.0]</td>\n",
       "      <td>[-474.1854447800713, 157924190.428237]</td>\n",
       "      <td>[0.0022698376326943694, -0.002269856972829801]</td>\n",
       "      <td>[0.0, 0.0]</td>\n",
       "    </tr>\n",
       "  </tbody>\n",
       "</table>\n",
       "</div>"
      ],
      "text/plain": [
       "   step       time                                              x  \\\n",
       "0     0        0.0      [449183.36891987134, -149597421516.63107]   \n",
       "1     1  1577846.3                  [0.0, 1.9546663496029367e-09]   \n",
       "2     2  3155692.6  [-47221562630787.875, 1.5726815596395868e+19]   \n",
       "3     3  4733538.9   [-47221562626530.57, 1.5726815596395866e+19]   \n",
       "4     4  6311385.2   [-47221562626530.57, 1.5726815596395866e+19]   \n",
       "\n",
       "                                           y           z  \\\n",
       "0              [0.0, 1.8320400342103965e-05]  [0.0, 0.0]   \n",
       "1    [9211110763.572353, -15961062.00550111]  [0.0, 0.0]   \n",
       "2  [223802694.18520382, -223804620.16464195]  [0.0, 0.0]   \n",
       "3   [224921774.50909853, -224923700.4885367]  [0.0, 0.0]   \n",
       "4  [226040847.74058372, -226042773.72002184]  [0.0, 0.0]   \n",
       "\n",
       "                                         vx  \\\n",
       "0              [0.0, 6.194076557160162e-15]   \n",
       "1  [-149638824.11095357, 49836177833728.28]   \n",
       "2   [-149638824.0974627, 49836177833728.26]   \n",
       "3   [-149638824.0974627, 49836177833728.26]   \n",
       "4   [-149638824.0974627, 49836177833728.26]   \n",
       "\n",
       "                                         vy          vz  \\\n",
       "0  [29188.779587697383, -50.57847341349946]  [0.0, 0.0]   \n",
       "1   [709.2008422631583, -709.2069454347248]  [0.0, 0.0]   \n",
       "2   [712.7470583226017, -712.7531614941684]  [0.0, 0.0]   \n",
       "3   [716.2932519071464, -716.2993550787132]  [0.0, 0.0]   \n",
       "4   [716.2932519071464, -716.2993550787132]  [0.0, 0.0]   \n",
       "\n",
       "                                       ax  \\\n",
       "0  [-474.1854447800713, 157924190.428237]   \n",
       "1  [-474.1854447800713, 157924190.428237]   \n",
       "2  [-474.1854447800713, 157924190.428237]   \n",
       "3  [-474.1854447800713, 157924190.428237]   \n",
       "4  [-474.1854447800713, 157924190.428237]   \n",
       "\n",
       "                                               ay          az  \n",
       "0  [0.0022698376326943694, -0.002269856972829801]  [0.0, 0.0]  \n",
       "1  [0.0022698376326943694, -0.002269856972829801]  [0.0, 0.0]  \n",
       "2  [0.0022698376326943694, -0.002269856972829801]  [0.0, 0.0]  \n",
       "3  [0.0022698376326943694, -0.002269856972829801]  [0.0, 0.0]  \n",
       "4  [0.0022698376326943694, -0.002269856972829801]  [0.0, 0.0]  "
      ]
     },
     "metadata": {},
     "output_type": "display_data"
    }
   ],
   "source": [
    "display(df)"
   ]
  },
  {
   "cell_type": "code",
   "execution_count": 28,
   "metadata": {},
   "outputs": [
    {
     "data": {
      "text/plain": [
       "0.0"
      ]
     },
     "execution_count": 28,
     "metadata": {},
     "output_type": "execute_result"
    }
   ],
   "source": [
    "xser=df['x']\n",
    "xser\n",
    "xser[1][0]"
   ]
  },
  {
   "cell_type": "markdown",
   "metadata": {},
   "source": [
    "Each pandas column has two entries because there are two bodies, the sun and the earth. These need to be split into columns one and two in a new table for each pandas column in the original table. The following routine automates extraction of these entries for each column. "
   ]
  },
  {
   "cell_type": "code",
   "execution_count": 29,
   "metadata": {},
   "outputs": [],
   "source": [
    "def mergeStarDataIntoDataFrame(col):\n",
    "    rawdataser=df[col]\n",
    "    numstars=len(rawdataser[0])\n",
    "    columns=np.arange(numstars)\n",
    "    numentries=len(rawdataser)\n",
    "    index=np.arange(numentries)\n",
    "    dfnew=pd.DataFrame(columns=columns,index=index)\n",
    "    for coln in np.arange(numstars):\n",
    "        datacollist=[]\n",
    "        for row in np.arange(numentries):\n",
    "            datacollist.append(rawdataser[row][coln])\n",
    "        dfnew[coln]=datacollist\n",
    "    return dfnew"
   ]
  },
  {
   "cell_type": "code",
   "execution_count": 30,
   "metadata": {},
   "outputs": [],
   "source": [
    "dfx=mergeStarDataIntoDataFrame('x')"
   ]
  },
  {
   "cell_type": "code",
   "execution_count": 31,
   "metadata": {},
   "outputs": [
    {
     "data": {
      "text/html": [
       "<div>\n",
       "<style scoped>\n",
       "    .dataframe tbody tr th:only-of-type {\n",
       "        vertical-align: middle;\n",
       "    }\n",
       "\n",
       "    .dataframe tbody tr th {\n",
       "        vertical-align: top;\n",
       "    }\n",
       "\n",
       "    .dataframe thead th {\n",
       "        text-align: right;\n",
       "    }\n",
       "</style>\n",
       "<table border=\"1\" class=\"dataframe\">\n",
       "  <thead>\n",
       "    <tr style=\"text-align: right;\">\n",
       "      <th></th>\n",
       "      <th>0</th>\n",
       "      <th>1</th>\n",
       "    </tr>\n",
       "  </thead>\n",
       "  <tbody>\n",
       "    <tr>\n",
       "      <th>0</th>\n",
       "      <td>4.491834e+05</td>\n",
       "      <td>-1.495974e+11</td>\n",
       "    </tr>\n",
       "    <tr>\n",
       "      <th>1</th>\n",
       "      <td>0.000000e+00</td>\n",
       "      <td>1.954666e-09</td>\n",
       "    </tr>\n",
       "    <tr>\n",
       "      <th>2</th>\n",
       "      <td>-4.722156e+13</td>\n",
       "      <td>1.572682e+19</td>\n",
       "    </tr>\n",
       "    <tr>\n",
       "      <th>3</th>\n",
       "      <td>-4.722156e+13</td>\n",
       "      <td>1.572682e+19</td>\n",
       "    </tr>\n",
       "    <tr>\n",
       "      <th>4</th>\n",
       "      <td>-4.722156e+13</td>\n",
       "      <td>1.572682e+19</td>\n",
       "    </tr>\n",
       "  </tbody>\n",
       "</table>\n",
       "</div>"
      ],
      "text/plain": [
       "              0             1\n",
       "0  4.491834e+05 -1.495974e+11\n",
       "1  0.000000e+00  1.954666e-09\n",
       "2 -4.722156e+13  1.572682e+19\n",
       "3 -4.722156e+13  1.572682e+19\n",
       "4 -4.722156e+13  1.572682e+19"
      ]
     },
     "metadata": {},
     "output_type": "display_data"
    }
   ],
   "source": [
    "display(dfx)"
   ]
  },
  {
   "cell_type": "code",
   "execution_count": 32,
   "metadata": {},
   "outputs": [],
   "source": [
    "dfy=mergeStarDataIntoDataFrame('y')"
   ]
  },
  {
   "cell_type": "code",
   "execution_count": 33,
   "metadata": {},
   "outputs": [
    {
     "data": {
      "text/html": [
       "<div>\n",
       "<style scoped>\n",
       "    .dataframe tbody tr th:only-of-type {\n",
       "        vertical-align: middle;\n",
       "    }\n",
       "\n",
       "    .dataframe tbody tr th {\n",
       "        vertical-align: top;\n",
       "    }\n",
       "\n",
       "    .dataframe thead th {\n",
       "        text-align: right;\n",
       "    }\n",
       "</style>\n",
       "<table border=\"1\" class=\"dataframe\">\n",
       "  <thead>\n",
       "    <tr style=\"text-align: right;\">\n",
       "      <th></th>\n",
       "      <th>0</th>\n",
       "      <th>1</th>\n",
       "    </tr>\n",
       "  </thead>\n",
       "  <tbody>\n",
       "    <tr>\n",
       "      <th>0</th>\n",
       "      <td>0.000000e+00</td>\n",
       "      <td>1.832040e-05</td>\n",
       "    </tr>\n",
       "    <tr>\n",
       "      <th>1</th>\n",
       "      <td>9.211111e+09</td>\n",
       "      <td>-1.596106e+07</td>\n",
       "    </tr>\n",
       "    <tr>\n",
       "      <th>2</th>\n",
       "      <td>2.238027e+08</td>\n",
       "      <td>-2.238046e+08</td>\n",
       "    </tr>\n",
       "    <tr>\n",
       "      <th>3</th>\n",
       "      <td>2.249218e+08</td>\n",
       "      <td>-2.249237e+08</td>\n",
       "    </tr>\n",
       "    <tr>\n",
       "      <th>4</th>\n",
       "      <td>2.260408e+08</td>\n",
       "      <td>-2.260428e+08</td>\n",
       "    </tr>\n",
       "  </tbody>\n",
       "</table>\n",
       "</div>"
      ],
      "text/plain": [
       "              0             1\n",
       "0  0.000000e+00  1.832040e-05\n",
       "1  9.211111e+09 -1.596106e+07\n",
       "2  2.238027e+08 -2.238046e+08\n",
       "3  2.249218e+08 -2.249237e+08\n",
       "4  2.260408e+08 -2.260428e+08"
      ]
     },
     "metadata": {},
     "output_type": "display_data"
    }
   ],
   "source": [
    "display(dfy)"
   ]
  },
  {
   "cell_type": "code",
   "execution_count": 34,
   "metadata": {},
   "outputs": [],
   "source": [
    "dfvx=mergeStarDataIntoDataFrame('vx')"
   ]
  },
  {
   "cell_type": "code",
   "execution_count": 35,
   "metadata": {},
   "outputs": [
    {
     "data": {
      "text/html": [
       "<div>\n",
       "<style scoped>\n",
       "    .dataframe tbody tr th:only-of-type {\n",
       "        vertical-align: middle;\n",
       "    }\n",
       "\n",
       "    .dataframe tbody tr th {\n",
       "        vertical-align: top;\n",
       "    }\n",
       "\n",
       "    .dataframe thead th {\n",
       "        text-align: right;\n",
       "    }\n",
       "</style>\n",
       "<table border=\"1\" class=\"dataframe\">\n",
       "  <thead>\n",
       "    <tr style=\"text-align: right;\">\n",
       "      <th></th>\n",
       "      <th>0</th>\n",
       "      <th>1</th>\n",
       "    </tr>\n",
       "  </thead>\n",
       "  <tbody>\n",
       "    <tr>\n",
       "      <th>0</th>\n",
       "      <td>0.000000e+00</td>\n",
       "      <td>6.194077e-15</td>\n",
       "    </tr>\n",
       "    <tr>\n",
       "      <th>1</th>\n",
       "      <td>-1.496388e+08</td>\n",
       "      <td>4.983618e+13</td>\n",
       "    </tr>\n",
       "    <tr>\n",
       "      <th>2</th>\n",
       "      <td>-1.496388e+08</td>\n",
       "      <td>4.983618e+13</td>\n",
       "    </tr>\n",
       "    <tr>\n",
       "      <th>3</th>\n",
       "      <td>-1.496388e+08</td>\n",
       "      <td>4.983618e+13</td>\n",
       "    </tr>\n",
       "    <tr>\n",
       "      <th>4</th>\n",
       "      <td>-1.496388e+08</td>\n",
       "      <td>4.983618e+13</td>\n",
       "    </tr>\n",
       "  </tbody>\n",
       "</table>\n",
       "</div>"
      ],
      "text/plain": [
       "              0             1\n",
       "0  0.000000e+00  6.194077e-15\n",
       "1 -1.496388e+08  4.983618e+13\n",
       "2 -1.496388e+08  4.983618e+13\n",
       "3 -1.496388e+08  4.983618e+13\n",
       "4 -1.496388e+08  4.983618e+13"
      ]
     },
     "metadata": {},
     "output_type": "display_data"
    }
   ],
   "source": [
    "display(dfvx)"
   ]
  },
  {
   "cell_type": "code",
   "execution_count": 36,
   "metadata": {},
   "outputs": [],
   "source": [
    "dfvy=mergeStarDataIntoDataFrame('vy')"
   ]
  },
  {
   "cell_type": "code",
   "execution_count": 37,
   "metadata": {},
   "outputs": [
    {
     "data": {
      "text/html": [
       "<div>\n",
       "<style scoped>\n",
       "    .dataframe tbody tr th:only-of-type {\n",
       "        vertical-align: middle;\n",
       "    }\n",
       "\n",
       "    .dataframe tbody tr th {\n",
       "        vertical-align: top;\n",
       "    }\n",
       "\n",
       "    .dataframe thead th {\n",
       "        text-align: right;\n",
       "    }\n",
       "</style>\n",
       "<table border=\"1\" class=\"dataframe\">\n",
       "  <thead>\n",
       "    <tr style=\"text-align: right;\">\n",
       "      <th></th>\n",
       "      <th>0</th>\n",
       "      <th>1</th>\n",
       "    </tr>\n",
       "  </thead>\n",
       "  <tbody>\n",
       "    <tr>\n",
       "      <th>0</th>\n",
       "      <td>29188.779588</td>\n",
       "      <td>-50.578473</td>\n",
       "    </tr>\n",
       "    <tr>\n",
       "      <th>1</th>\n",
       "      <td>709.200842</td>\n",
       "      <td>-709.206945</td>\n",
       "    </tr>\n",
       "    <tr>\n",
       "      <th>2</th>\n",
       "      <td>712.747058</td>\n",
       "      <td>-712.753161</td>\n",
       "    </tr>\n",
       "    <tr>\n",
       "      <th>3</th>\n",
       "      <td>716.293252</td>\n",
       "      <td>-716.299355</td>\n",
       "    </tr>\n",
       "    <tr>\n",
       "      <th>4</th>\n",
       "      <td>716.293252</td>\n",
       "      <td>-716.299355</td>\n",
       "    </tr>\n",
       "  </tbody>\n",
       "</table>\n",
       "</div>"
      ],
      "text/plain": [
       "              0           1\n",
       "0  29188.779588  -50.578473\n",
       "1    709.200842 -709.206945\n",
       "2    712.747058 -712.753161\n",
       "3    716.293252 -716.299355\n",
       "4    716.293252 -716.299355"
      ]
     },
     "metadata": {},
     "output_type": "display_data"
    }
   ],
   "source": [
    "display(dfvy)"
   ]
  },
  {
   "cell_type": "code",
   "execution_count": 38,
   "metadata": {},
   "outputs": [],
   "source": [
    "dfax=mergeStarDataIntoDataFrame('ax')"
   ]
  },
  {
   "cell_type": "code",
   "execution_count": 39,
   "metadata": {},
   "outputs": [
    {
     "data": {
      "text/html": [
       "<div>\n",
       "<style scoped>\n",
       "    .dataframe tbody tr th:only-of-type {\n",
       "        vertical-align: middle;\n",
       "    }\n",
       "\n",
       "    .dataframe tbody tr th {\n",
       "        vertical-align: top;\n",
       "    }\n",
       "\n",
       "    .dataframe thead th {\n",
       "        text-align: right;\n",
       "    }\n",
       "</style>\n",
       "<table border=\"1\" class=\"dataframe\">\n",
       "  <thead>\n",
       "    <tr style=\"text-align: right;\">\n",
       "      <th></th>\n",
       "      <th>0</th>\n",
       "      <th>1</th>\n",
       "    </tr>\n",
       "  </thead>\n",
       "  <tbody>\n",
       "    <tr>\n",
       "      <th>0</th>\n",
       "      <td>-474.185445</td>\n",
       "      <td>1.579242e+08</td>\n",
       "    </tr>\n",
       "    <tr>\n",
       "      <th>1</th>\n",
       "      <td>-474.185445</td>\n",
       "      <td>1.579242e+08</td>\n",
       "    </tr>\n",
       "    <tr>\n",
       "      <th>2</th>\n",
       "      <td>-474.185445</td>\n",
       "      <td>1.579242e+08</td>\n",
       "    </tr>\n",
       "    <tr>\n",
       "      <th>3</th>\n",
       "      <td>-474.185445</td>\n",
       "      <td>1.579242e+08</td>\n",
       "    </tr>\n",
       "    <tr>\n",
       "      <th>4</th>\n",
       "      <td>-474.185445</td>\n",
       "      <td>1.579242e+08</td>\n",
       "    </tr>\n",
       "  </tbody>\n",
       "</table>\n",
       "</div>"
      ],
      "text/plain": [
       "            0             1\n",
       "0 -474.185445  1.579242e+08\n",
       "1 -474.185445  1.579242e+08\n",
       "2 -474.185445  1.579242e+08\n",
       "3 -474.185445  1.579242e+08\n",
       "4 -474.185445  1.579242e+08"
      ]
     },
     "metadata": {},
     "output_type": "display_data"
    }
   ],
   "source": [
    "display(dfax)"
   ]
  },
  {
   "cell_type": "code",
   "execution_count": 40,
   "metadata": {},
   "outputs": [],
   "source": [
    "dfay=mergeStarDataIntoDataFrame('ay')"
   ]
  },
  {
   "cell_type": "code",
   "execution_count": 41,
   "metadata": {},
   "outputs": [
    {
     "data": {
      "text/html": [
       "<div>\n",
       "<style scoped>\n",
       "    .dataframe tbody tr th:only-of-type {\n",
       "        vertical-align: middle;\n",
       "    }\n",
       "\n",
       "    .dataframe tbody tr th {\n",
       "        vertical-align: top;\n",
       "    }\n",
       "\n",
       "    .dataframe thead th {\n",
       "        text-align: right;\n",
       "    }\n",
       "</style>\n",
       "<table border=\"1\" class=\"dataframe\">\n",
       "  <thead>\n",
       "    <tr style=\"text-align: right;\">\n",
       "      <th></th>\n",
       "      <th>0</th>\n",
       "      <th>1</th>\n",
       "    </tr>\n",
       "  </thead>\n",
       "  <tbody>\n",
       "    <tr>\n",
       "      <th>0</th>\n",
       "      <td>0.00227</td>\n",
       "      <td>-0.00227</td>\n",
       "    </tr>\n",
       "    <tr>\n",
       "      <th>1</th>\n",
       "      <td>0.00227</td>\n",
       "      <td>-0.00227</td>\n",
       "    </tr>\n",
       "    <tr>\n",
       "      <th>2</th>\n",
       "      <td>0.00227</td>\n",
       "      <td>-0.00227</td>\n",
       "    </tr>\n",
       "    <tr>\n",
       "      <th>3</th>\n",
       "      <td>0.00227</td>\n",
       "      <td>-0.00227</td>\n",
       "    </tr>\n",
       "    <tr>\n",
       "      <th>4</th>\n",
       "      <td>0.00227</td>\n",
       "      <td>-0.00227</td>\n",
       "    </tr>\n",
       "  </tbody>\n",
       "</table>\n",
       "</div>"
      ],
      "text/plain": [
       "         0        1\n",
       "0  0.00227 -0.00227\n",
       "1  0.00227 -0.00227\n",
       "2  0.00227 -0.00227\n",
       "3  0.00227 -0.00227\n",
       "4  0.00227 -0.00227"
      ]
     },
     "metadata": {},
     "output_type": "display_data"
    }
   ],
   "source": [
    "display(dfay)"
   ]
  },
  {
   "cell_type": "code",
   "execution_count": 42,
   "metadata": {},
   "outputs": [
    {
     "data": {
      "text/plain": [
       "[0.0, 1577846.3, 3155692.6, 4733538.9, 6311385.2]"
      ]
     },
     "execution_count": 42,
     "metadata": {},
     "output_type": "execute_result"
    }
   ],
   "source": [
    "df['time'].tolist()"
   ]
  },
  {
   "cell_type": "markdown",
   "metadata": {},
   "source": [
    "Plots time versus position of Earth, in reduced mass coordinates"
   ]
  },
  {
   "cell_type": "code",
   "execution_count": 43,
   "metadata": {},
   "outputs": [
    {
     "name": "stderr",
     "output_type": "stream",
     "text": [
      "W-1001 (NO_DATA_RENDERERS): Plot has no data renderers: Figure(id='7cfe8983-549f-4512-8d00-f60049125254', ...)\n"
     ]
    },
    {
     "data": {
      "text/html": [
       "\n",
       "    <div class=\"bk-root\">\n",
       "        <a href=\"https://bokeh.pydata.org\" target=\"_blank\" class=\"bk-logo bk-logo-small bk-logo-notebook\"></a>\n",
       "        <span id=\"c55fc89d-dd0b-439d-8c4a-f9be36186459\">Loading BokehJS ...</span>\n",
       "    </div>"
      ]
     },
     "metadata": {},
     "output_type": "display_data"
    },
    {
     "data": {
      "application/javascript": [
       "\n",
       "(function(root) {\n",
       "  function now() {\n",
       "    return new Date();\n",
       "  }\n",
       "\n",
       "  var force = true;\n",
       "\n",
       "  if (typeof (root._bokeh_onload_callbacks) === \"undefined\" || force === true) {\n",
       "    root._bokeh_onload_callbacks = [];\n",
       "    root._bokeh_is_loading = undefined;\n",
       "  }\n",
       "\n",
       "  var JS_MIME_TYPE = 'application/javascript';\n",
       "  var HTML_MIME_TYPE = 'text/html';\n",
       "  var EXEC_MIME_TYPE = 'application/vnd.bokehjs_exec.v0+json';\n",
       "  var CLASS_NAME = 'output_bokeh rendered_html';\n",
       "\n",
       "  /**\n",
       "   * Render data to the DOM node\n",
       "   */\n",
       "  function render(props, node) {\n",
       "    var script = document.createElement(\"script\");\n",
       "    node.appendChild(script);\n",
       "  }\n",
       "\n",
       "  /**\n",
       "   * Handle when an output is cleared or removed\n",
       "   */\n",
       "  function handleClearOutput(event, handle) {\n",
       "    var cell = handle.cell;\n",
       "\n",
       "    var id = cell.output_area._bokeh_element_id;\n",
       "    var server_id = cell.output_area._bokeh_server_id;\n",
       "    // Clean up Bokeh references\n",
       "    if (id !== undefined) {\n",
       "      Bokeh.index[id].model.document.clear();\n",
       "      delete Bokeh.index[id];\n",
       "    }\n",
       "\n",
       "    if (server_id !== undefined) {\n",
       "      // Clean up Bokeh references\n",
       "      var cmd = \"from bokeh.io.state import curstate; print(curstate().uuid_to_server['\" + server_id + \"'].get_sessions()[0].document.roots[0]._id)\";\n",
       "      cell.notebook.kernel.execute(cmd, {\n",
       "        iopub: {\n",
       "          output: function(msg) {\n",
       "            var element_id = msg.content.text.trim();\n",
       "            Bokeh.index[element_id].model.document.clear();\n",
       "            delete Bokeh.index[element_id];\n",
       "          }\n",
       "        }\n",
       "      });\n",
       "      // Destroy server and session\n",
       "      var cmd = \"import bokeh.io.notebook as ion; ion.destroy_server('\" + server_id + \"')\";\n",
       "      cell.notebook.kernel.execute(cmd);\n",
       "    }\n",
       "  }\n",
       "\n",
       "  /**\n",
       "   * Handle when a new output is added\n",
       "   */\n",
       "  function handleAddOutput(event, handle) {\n",
       "    var output_area = handle.output_area;\n",
       "    var output = handle.output;\n",
       "\n",
       "    // limit handleAddOutput to display_data with EXEC_MIME_TYPE content only\n",
       "    if ((output.output_type != \"display_data\") || (!output.data.hasOwnProperty(EXEC_MIME_TYPE))) {\n",
       "      return\n",
       "    }\n",
       "\n",
       "    var toinsert = output_area.element.find(\".\" + CLASS_NAME.split(' ')[0]);\n",
       "\n",
       "    if (output.metadata[EXEC_MIME_TYPE][\"id\"] !== undefined) {\n",
       "      toinsert[0].firstChild.textContent = output.data[JS_MIME_TYPE];\n",
       "      // store reference to embed id on output_area\n",
       "      output_area._bokeh_element_id = output.metadata[EXEC_MIME_TYPE][\"id\"];\n",
       "    }\n",
       "    if (output.metadata[EXEC_MIME_TYPE][\"server_id\"] !== undefined) {\n",
       "      var bk_div = document.createElement(\"div\");\n",
       "      bk_div.innerHTML = output.data[HTML_MIME_TYPE];\n",
       "      var script_attrs = bk_div.children[0].attributes;\n",
       "      for (var i = 0; i < script_attrs.length; i++) {\n",
       "        toinsert[0].firstChild.setAttribute(script_attrs[i].name, script_attrs[i].value);\n",
       "      }\n",
       "      // store reference to server id on output_area\n",
       "      output_area._bokeh_server_id = output.metadata[EXEC_MIME_TYPE][\"server_id\"];\n",
       "    }\n",
       "  }\n",
       "\n",
       "  function register_renderer(events, OutputArea) {\n",
       "\n",
       "    function append_mime(data, metadata, element) {\n",
       "      // create a DOM node to render to\n",
       "      var toinsert = this.create_output_subarea(\n",
       "        metadata,\n",
       "        CLASS_NAME,\n",
       "        EXEC_MIME_TYPE\n",
       "      );\n",
       "      this.keyboard_manager.register_events(toinsert);\n",
       "      // Render to node\n",
       "      var props = {data: data, metadata: metadata[EXEC_MIME_TYPE]};\n",
       "      render(props, toinsert[0]);\n",
       "      element.append(toinsert);\n",
       "      return toinsert\n",
       "    }\n",
       "\n",
       "    /* Handle when an output is cleared or removed */\n",
       "    events.on('clear_output.CodeCell', handleClearOutput);\n",
       "    events.on('delete.Cell', handleClearOutput);\n",
       "\n",
       "    /* Handle when a new output is added */\n",
       "    events.on('output_added.OutputArea', handleAddOutput);\n",
       "\n",
       "    /**\n",
       "     * Register the mime type and append_mime function with output_area\n",
       "     */\n",
       "    OutputArea.prototype.register_mime_type(EXEC_MIME_TYPE, append_mime, {\n",
       "      /* Is output safe? */\n",
       "      safe: true,\n",
       "      /* Index of renderer in `output_area.display_order` */\n",
       "      index: 0\n",
       "    });\n",
       "  }\n",
       "\n",
       "  // register the mime type if in Jupyter Notebook environment and previously unregistered\n",
       "  if (root.Jupyter !== undefined) {\n",
       "    var events = require('base/js/events');\n",
       "    var OutputArea = require('notebook/js/outputarea').OutputArea;\n",
       "\n",
       "    if (OutputArea.prototype.mime_types().indexOf(EXEC_MIME_TYPE) == -1) {\n",
       "      register_renderer(events, OutputArea);\n",
       "    }\n",
       "  }\n",
       "\n",
       "  \n",
       "  if (typeof (root._bokeh_timeout) === \"undefined\" || force === true) {\n",
       "    root._bokeh_timeout = Date.now() + 5000;\n",
       "    root._bokeh_failed_load = false;\n",
       "  }\n",
       "\n",
       "  var NB_LOAD_WARNING = {'data': {'text/html':\n",
       "     \"<div style='background-color: #fdd'>\\n\"+\n",
       "     \"<p>\\n\"+\n",
       "     \"BokehJS does not appear to have successfully loaded. If loading BokehJS from CDN, this \\n\"+\n",
       "     \"may be due to a slow or bad network connection. Possible fixes:\\n\"+\n",
       "     \"</p>\\n\"+\n",
       "     \"<ul>\\n\"+\n",
       "     \"<li>re-rerun `output_notebook()` to attempt to load from CDN again, or</li>\\n\"+\n",
       "     \"<li>use INLINE resources instead, as so:</li>\\n\"+\n",
       "     \"</ul>\\n\"+\n",
       "     \"<code>\\n\"+\n",
       "     \"from bokeh.resources import INLINE\\n\"+\n",
       "     \"output_notebook(resources=INLINE)\\n\"+\n",
       "     \"</code>\\n\"+\n",
       "     \"</div>\"}};\n",
       "\n",
       "  function display_loaded() {\n",
       "    var el = document.getElementById(\"c55fc89d-dd0b-439d-8c4a-f9be36186459\");\n",
       "    if (el != null) {\n",
       "      el.textContent = \"BokehJS is loading...\";\n",
       "    }\n",
       "    if (root.Bokeh !== undefined) {\n",
       "      if (el != null) {\n",
       "        el.textContent = \"BokehJS \" + root.Bokeh.version + \" successfully loaded.\";\n",
       "      }\n",
       "    } else if (Date.now() < root._bokeh_timeout) {\n",
       "      setTimeout(display_loaded, 100)\n",
       "    }\n",
       "  }\n",
       "\n",
       "\n",
       "  function run_callbacks() {\n",
       "    try {\n",
       "      root._bokeh_onload_callbacks.forEach(function(callback) { callback() });\n",
       "    }\n",
       "    finally {\n",
       "      delete root._bokeh_onload_callbacks\n",
       "    }\n",
       "    console.info(\"Bokeh: all callbacks have finished\");\n",
       "  }\n",
       "\n",
       "  function load_libs(js_urls, callback) {\n",
       "    root._bokeh_onload_callbacks.push(callback);\n",
       "    if (root._bokeh_is_loading > 0) {\n",
       "      console.log(\"Bokeh: BokehJS is being loaded, scheduling callback at\", now());\n",
       "      return null;\n",
       "    }\n",
       "    if (js_urls == null || js_urls.length === 0) {\n",
       "      run_callbacks();\n",
       "      return null;\n",
       "    }\n",
       "    console.log(\"Bokeh: BokehJS not loaded, scheduling load and callback at\", now());\n",
       "    root._bokeh_is_loading = js_urls.length;\n",
       "    for (var i = 0; i < js_urls.length; i++) {\n",
       "      var url = js_urls[i];\n",
       "      var s = document.createElement('script');\n",
       "      s.src = url;\n",
       "      s.async = false;\n",
       "      s.onreadystatechange = s.onload = function() {\n",
       "        root._bokeh_is_loading--;\n",
       "        if (root._bokeh_is_loading === 0) {\n",
       "          console.log(\"Bokeh: all BokehJS libraries loaded\");\n",
       "          run_callbacks()\n",
       "        }\n",
       "      };\n",
       "      s.onerror = function() {\n",
       "        console.warn(\"failed to load library \" + url);\n",
       "      };\n",
       "      console.log(\"Bokeh: injecting script tag for BokehJS library: \", url);\n",
       "      document.getElementsByTagName(\"head\")[0].appendChild(s);\n",
       "    }\n",
       "  };var element = document.getElementById(\"c55fc89d-dd0b-439d-8c4a-f9be36186459\");\n",
       "  if (element == null) {\n",
       "    console.log(\"Bokeh: ERROR: autoload.js configured with elementid 'c55fc89d-dd0b-439d-8c4a-f9be36186459' but no matching script tag was found. \")\n",
       "    return false;\n",
       "  }\n",
       "\n",
       "  var js_urls = [\"https://cdn.pydata.org/bokeh/release/bokeh-0.12.13.min.js\", \"https://cdn.pydata.org/bokeh/release/bokeh-widgets-0.12.13.min.js\", \"https://cdn.pydata.org/bokeh/release/bokeh-tables-0.12.13.min.js\", \"https://cdn.pydata.org/bokeh/release/bokeh-gl-0.12.13.min.js\"];\n",
       "\n",
       "  var inline_js = [\n",
       "    function(Bokeh) {\n",
       "      Bokeh.set_log_level(\"info\");\n",
       "    },\n",
       "    \n",
       "    function(Bokeh) {\n",
       "      \n",
       "    },\n",
       "    function(Bokeh) {\n",
       "      console.log(\"Bokeh: injecting CSS: https://cdn.pydata.org/bokeh/release/bokeh-0.12.13.min.css\");\n",
       "      Bokeh.embed.inject_css(\"https://cdn.pydata.org/bokeh/release/bokeh-0.12.13.min.css\");\n",
       "      console.log(\"Bokeh: injecting CSS: https://cdn.pydata.org/bokeh/release/bokeh-widgets-0.12.13.min.css\");\n",
       "      Bokeh.embed.inject_css(\"https://cdn.pydata.org/bokeh/release/bokeh-widgets-0.12.13.min.css\");\n",
       "      console.log(\"Bokeh: injecting CSS: https://cdn.pydata.org/bokeh/release/bokeh-tables-0.12.13.min.css\");\n",
       "      Bokeh.embed.inject_css(\"https://cdn.pydata.org/bokeh/release/bokeh-tables-0.12.13.min.css\");\n",
       "    }\n",
       "  ];\n",
       "\n",
       "  function run_inline_js() {\n",
       "    \n",
       "    if ((root.Bokeh !== undefined) || (force === true)) {\n",
       "      for (var i = 0; i < inline_js.length; i++) {\n",
       "        inline_js[i].call(root, root.Bokeh);\n",
       "      }if (force === true) {\n",
       "        display_loaded();\n",
       "      }} else if (Date.now() < root._bokeh_timeout) {\n",
       "      setTimeout(run_inline_js, 100);\n",
       "    } else if (!root._bokeh_failed_load) {\n",
       "      console.log(\"Bokeh: BokehJS failed to load within specified timeout.\");\n",
       "      root._bokeh_failed_load = true;\n",
       "    } else if (force !== true) {\n",
       "      var cell = $(document.getElementById(\"c55fc89d-dd0b-439d-8c4a-f9be36186459\")).parents('.cell').data().cell;\n",
       "      cell.output_area.append_execute_result(NB_LOAD_WARNING)\n",
       "    }\n",
       "\n",
       "  }\n",
       "\n",
       "  if (root._bokeh_is_loading === 0) {\n",
       "    console.log(\"Bokeh: BokehJS loaded, going straight to plotting\");\n",
       "    run_inline_js();\n",
       "  } else {\n",
       "    load_libs(js_urls, function() {\n",
       "      console.log(\"Bokeh: BokehJS plotting callback run at\", now());\n",
       "      run_inline_js();\n",
       "    });\n",
       "  }\n",
       "}(window));"
      ],
      "application/vnd.bokehjs_load.v0+json": "\n(function(root) {\n  function now() {\n    return new Date();\n  }\n\n  var force = true;\n\n  if (typeof (root._bokeh_onload_callbacks) === \"undefined\" || force === true) {\n    root._bokeh_onload_callbacks = [];\n    root._bokeh_is_loading = undefined;\n  }\n\n  \n\n  \n  if (typeof (root._bokeh_timeout) === \"undefined\" || force === true) {\n    root._bokeh_timeout = Date.now() + 5000;\n    root._bokeh_failed_load = false;\n  }\n\n  var NB_LOAD_WARNING = {'data': {'text/html':\n     \"<div style='background-color: #fdd'>\\n\"+\n     \"<p>\\n\"+\n     \"BokehJS does not appear to have successfully loaded. If loading BokehJS from CDN, this \\n\"+\n     \"may be due to a slow or bad network connection. Possible fixes:\\n\"+\n     \"</p>\\n\"+\n     \"<ul>\\n\"+\n     \"<li>re-rerun `output_notebook()` to attempt to load from CDN again, or</li>\\n\"+\n     \"<li>use INLINE resources instead, as so:</li>\\n\"+\n     \"</ul>\\n\"+\n     \"<code>\\n\"+\n     \"from bokeh.resources import INLINE\\n\"+\n     \"output_notebook(resources=INLINE)\\n\"+\n     \"</code>\\n\"+\n     \"</div>\"}};\n\n  function display_loaded() {\n    var el = document.getElementById(\"c55fc89d-dd0b-439d-8c4a-f9be36186459\");\n    if (el != null) {\n      el.textContent = \"BokehJS is loading...\";\n    }\n    if (root.Bokeh !== undefined) {\n      if (el != null) {\n        el.textContent = \"BokehJS \" + root.Bokeh.version + \" successfully loaded.\";\n      }\n    } else if (Date.now() < root._bokeh_timeout) {\n      setTimeout(display_loaded, 100)\n    }\n  }\n\n\n  function run_callbacks() {\n    try {\n      root._bokeh_onload_callbacks.forEach(function(callback) { callback() });\n    }\n    finally {\n      delete root._bokeh_onload_callbacks\n    }\n    console.info(\"Bokeh: all callbacks have finished\");\n  }\n\n  function load_libs(js_urls, callback) {\n    root._bokeh_onload_callbacks.push(callback);\n    if (root._bokeh_is_loading > 0) {\n      console.log(\"Bokeh: BokehJS is being loaded, scheduling callback at\", now());\n      return null;\n    }\n    if (js_urls == null || js_urls.length === 0) {\n      run_callbacks();\n      return null;\n    }\n    console.log(\"Bokeh: BokehJS not loaded, scheduling load and callback at\", now());\n    root._bokeh_is_loading = js_urls.length;\n    for (var i = 0; i < js_urls.length; i++) {\n      var url = js_urls[i];\n      var s = document.createElement('script');\n      s.src = url;\n      s.async = false;\n      s.onreadystatechange = s.onload = function() {\n        root._bokeh_is_loading--;\n        if (root._bokeh_is_loading === 0) {\n          console.log(\"Bokeh: all BokehJS libraries loaded\");\n          run_callbacks()\n        }\n      };\n      s.onerror = function() {\n        console.warn(\"failed to load library \" + url);\n      };\n      console.log(\"Bokeh: injecting script tag for BokehJS library: \", url);\n      document.getElementsByTagName(\"head\")[0].appendChild(s);\n    }\n  };var element = document.getElementById(\"c55fc89d-dd0b-439d-8c4a-f9be36186459\");\n  if (element == null) {\n    console.log(\"Bokeh: ERROR: autoload.js configured with elementid 'c55fc89d-dd0b-439d-8c4a-f9be36186459' but no matching script tag was found. \")\n    return false;\n  }\n\n  var js_urls = [\"https://cdn.pydata.org/bokeh/release/bokeh-0.12.13.min.js\", \"https://cdn.pydata.org/bokeh/release/bokeh-widgets-0.12.13.min.js\", \"https://cdn.pydata.org/bokeh/release/bokeh-tables-0.12.13.min.js\", \"https://cdn.pydata.org/bokeh/release/bokeh-gl-0.12.13.min.js\"];\n\n  var inline_js = [\n    function(Bokeh) {\n      Bokeh.set_log_level(\"info\");\n    },\n    \n    function(Bokeh) {\n      \n    },\n    function(Bokeh) {\n      console.log(\"Bokeh: injecting CSS: https://cdn.pydata.org/bokeh/release/bokeh-0.12.13.min.css\");\n      Bokeh.embed.inject_css(\"https://cdn.pydata.org/bokeh/release/bokeh-0.12.13.min.css\");\n      console.log(\"Bokeh: injecting CSS: https://cdn.pydata.org/bokeh/release/bokeh-widgets-0.12.13.min.css\");\n      Bokeh.embed.inject_css(\"https://cdn.pydata.org/bokeh/release/bokeh-widgets-0.12.13.min.css\");\n      console.log(\"Bokeh: injecting CSS: https://cdn.pydata.org/bokeh/release/bokeh-tables-0.12.13.min.css\");\n      Bokeh.embed.inject_css(\"https://cdn.pydata.org/bokeh/release/bokeh-tables-0.12.13.min.css\");\n    }\n  ];\n\n  function run_inline_js() {\n    \n    if ((root.Bokeh !== undefined) || (force === true)) {\n      for (var i = 0; i < inline_js.length; i++) {\n        inline_js[i].call(root, root.Bokeh);\n      }if (force === true) {\n        display_loaded();\n      }} else if (Date.now() < root._bokeh_timeout) {\n      setTimeout(run_inline_js, 100);\n    } else if (!root._bokeh_failed_load) {\n      console.log(\"Bokeh: BokehJS failed to load within specified timeout.\");\n      root._bokeh_failed_load = true;\n    } else if (force !== true) {\n      var cell = $(document.getElementById(\"c55fc89d-dd0b-439d-8c4a-f9be36186459\")).parents('.cell').data().cell;\n      cell.output_area.append_execute_result(NB_LOAD_WARNING)\n    }\n\n  }\n\n  if (root._bokeh_is_loading === 0) {\n    console.log(\"Bokeh: BokehJS loaded, going straight to plotting\");\n    run_inline_js();\n  } else {\n    load_libs(js_urls, function() {\n      console.log(\"Bokeh: BokehJS plotting callback run at\", now());\n      run_inline_js();\n    });\n  }\n}(window));"
     },
     "metadata": {},
     "output_type": "display_data"
    }
   ],
   "source": [
    "from bokeh.plotting import figure, output_notebook, show\n",
    "p=figure(plot_width=300,plot_height=300,x_axis_label=\"Time (s)\",y_axis_label=\"y displacement (m), Earth\")\n",
    "show(p)\n",
    "p.circle(x=np.array(df['time'].tolist()),y=np.array(dfy[1].tolist()))\n",
    "show(p)\n",
    "output_notebook()"
   ]
  },
  {
   "cell_type": "code",
   "execution_count": null,
   "metadata": {},
   "outputs": [],
   "source": []
  }
 ],
 "metadata": {
  "kernelspec": {
   "display_name": "Python 3",
   "language": "python",
   "name": "python3"
  },
  "language_info": {
   "codemirror_mode": {
    "name": "ipython",
    "version": 3
   },
   "file_extension": ".py",
   "mimetype": "text/x-python",
   "name": "python",
   "nbconvert_exporter": "python",
   "pygments_lexer": "ipython3",
   "version": "3.6.4"
  }
 },
 "nbformat": 4,
 "nbformat_minor": 2
}
