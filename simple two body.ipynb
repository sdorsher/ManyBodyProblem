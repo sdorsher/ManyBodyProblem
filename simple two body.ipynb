{
 "cells": [
  {
   "cell_type": "markdown",
   "metadata": {},
   "source": [
    "The Newtonian Gravitational Force depends upon the masses of the two objects and the square of the distances between them. When one astronomical body acts upon another with force F12, the second body acts upon the first with equal and opposite force F21=-F12. Gravitational Force follows an inverse square law with regard to distance scaling that is exact in Newtonian gravity."
   ]
  },
  {
   "cell_type": "code",
   "execution_count": 112,
   "metadata": {},
   "outputs": [],
   "source": [
    "import numpy as np\n",
    "import matplotlib.pyplot as plt\n",
    "\n",
    "def NewtonianForce(mass1,mass2, r):\n",
    "    return (6.67408*10**-11)*mass1*mass2/r/r;"
   ]
  },
  {
   "cell_type": "markdown",
   "metadata": {},
   "source": [
    "To compute an orbit, it is necessary to solve a second order differential equation. \n",
    "\n",
    "F=ma\n",
    "\n",
    "For a two body problem:\n",
    "\n",
    "F12x=m1 d^2 x1/dt^2\n",
    "\n",
    "This can be decomposed into two coupled differential equations.\n",
    "\n",
    "F12x= m1 d v1/dt\n",
    "\n",
    "v1= d x1/dt\n",
    "\n",
    "There is also a y component and a z component. \n",
    "It is also necessary to track the position of the second particle."
   ]
  },
  {
   "cell_type": "markdown",
   "metadata": {},
   "source": [
    "Recall that once a force F12 is split into its components in the x and y direction, F12 will no longer exactly be given by the NewtonainForce equation given above but rather the magnitude of F12x, F12y, and F12z combined will equal that total. The nagnitude of a vector is found by squaring and summing the components then taking the square roots. So, sqrt(F12x^2+F12y^2+F12z^2)=FNewtonianForce"
   ]
  },
  {
   "cell_type": "markdown",
   "metadata": {},
   "source": [
    "Assume, for the purposes of a two body problem, the orbit is confined to the x-y plane. "
   ]
  },
  {
   "cell_type": "markdown",
   "metadata": {},
   "source": [
    "Define polar coordinates phi in the x-y plane beginning from the x axis and proceeding toward the y axis. Then F12x=F12 cos phi and F12y= F12 sin phi."
   ]
  },
  {
   "cell_type": "markdown",
   "metadata": {},
   "source": [
    "F12x=x/sqrt(x^2+y^2)*F12\n",
    "\n",
    "F12y = y/sqrt(x^2+y^2)*F12"
   ]
  },
  {
   "cell_type": "markdown",
   "metadata": {},
   "source": [
    "# Numerical solutions to differential equations"
   ]
  },
  {
   "cell_type": "markdown",
   "metadata": {},
   "source": [
    "To integrate a differential equation numerically, simply differentiate both of the two coupled equations, one time steop at a time, numerically. But how is this done numerically? There are a couple of ways. First consider how a derivative is defined. A derivative is a limit of a difference divided by a timestep. The euler derivative makes this definition discrete for small time steps. "
   ]
  },
  {
   "cell_type": "code",
   "execution_count": 113,
   "metadata": {},
   "outputs": [],
   "source": [
    "def euler(h,t, x,y,z,f,debugprint):\n",
    "    if(debugprint):\n",
    "        print(h,t,x)\n",
    "    step2=f(t+h,x+h,y,z)\n",
    "    step1=f(t,h,y,z)\n",
    "    if(debugprint):\n",
    "        print(\"step1\", step1)\n",
    "        print(\"step2\", step2)\n",
    "    rise=(step2-step1)\n",
    "    run= 2.*h\n",
    "    slope=rise/run\n",
    "    if(debugprint):\n",
    "        print(\"rise\", rise)\n",
    "        print(\"run\", run)\n",
    "        print(\"slope\",slope)\n",
    "    print(slope)\n",
    "    return slope"
   ]
  },
  {
   "cell_type": "markdown",
   "metadata": {},
   "source": [
    "The euler routine essentially just finds the slope in a small region of the graph. "
   ]
  },
  {
   "cell_type": "markdown",
   "metadata": {},
   "source": [
    "The Runga Kutta numerical derivative is a fourth order approximation to the derivative that accounts for the curvature and is better for something like an orbit that fundamentally has curvature to it where orvershoot near a minima may matter. "
   ]
  },
  {
   "cell_type": "code",
   "execution_count": 114,
   "metadata": {},
   "outputs": [],
   "source": [
    "def RK4(h,t,x,y,z,f): #not a finite difference so no step in y\n",
    "    print(t,x,y,z,h)\n",
    "    k1= h*f(t,x,y,z)\n",
    "    print(\"k1\",k1)\n",
    "    k2=h*f(t+h/2.,x+k1/2.,y,z)\n",
    "    print(\"k2\",k2)\n",
    "    k3=h*f(t+h/2.,x+k2/2.,y,z)\n",
    "    print(\"k3\",k3)\n",
    "    k4=h*f(t+h,x+k3,y,z)\n",
    "    print(\"k4\",k4)\n",
    "    return t+h, x+1/6.*(k1+2.*k2+2.*k3+k4)\n",
    "\n"
   ]
  },
  {
   "cell_type": "code",
   "execution_count": 115,
   "metadata": {},
   "outputs": [],
   "source": [
    "def RK4nodebug(h,t,x,y,z,f): #not a finite difference so no step in y\n",
    "    k1= h*f(t,x,y,z)\n",
    "    #print(\"k1\",k1)\n",
    "    k2=h*f(t+h/2.,x+k1/2.,y,z)\n",
    "    #print(\"k2\",k2)\n",
    "    k3=h*f(t+h/2.,x+k2/2.,y,z)\n",
    "    #print(\"k3\",k3)\n",
    "    k4=h*f(t+h,x+k3,y,z)\n",
    "    #print(\"k4\",k4)\n",
    "    return t+h, x+1/6.*(k1+2.*k2+2.*k3+k4)\n",
    "\n"
   ]
  },
  {
   "cell_type": "markdown",
   "metadata": {},
   "source": [
    "# Verifying the RK4 routine numerically"
   ]
  },
  {
   "cell_type": "markdown",
   "metadata": {},
   "source": [
    "First I verify the RK4 by examining the behavior for a differential equation where the right hand side is a fourth order polynomial. This should have a truncation error that is on the order of the fourth order polynomial itself"
   ]
  },
  {
   "cell_type": "code",
   "execution_count": 116,
   "metadata": {},
   "outputs": [],
   "source": [
    "def polynomial4(t,x,a,b,c,d,e):\n",
    "    p=a*t**4+b*t**3+c*t**2+d*t+e\n",
    "    #print(pi)\n",
    "    return p\n",
    "    \n",
    "\n",
    "def polymaker(t,x,y,z,a,b,c,d,e):\n",
    "    def poly(t,x,y,z):\n",
    "        return polynomial4(t,x,a,b,c,d,e)\n",
    "    return poly\n",
    "        \n",
    "        "
   ]
  },
  {
   "cell_type": "code",
   "execution_count": 117,
   "metadata": {},
   "outputs": [
    {
     "name": "stdout",
     "output_type": "stream",
     "text": [
      "0.0 0.1\n"
     ]
    }
   ],
   "source": [
    "import numpy as np\n",
    "t=0.\n",
    "x=0.1\n",
    "y=0.1\n",
    "z=0.1\n",
    "print(t,x)\n",
    "polyfn=polymaker(t,x,y,z,1.,0.,0.,0.,0.)"
   ]
  },
  {
   "cell_type": "code",
   "execution_count": 118,
   "metadata": {},
   "outputs": [],
   "source": [
    "#import matplotlib.pyplot as plt\n",
    "#plt.plot(t,polyfn(t,x))"
   ]
  },
  {
   "cell_type": "code",
   "execution_count": 119,
   "metadata": {},
   "outputs": [
    {
     "name": "stdout",
     "output_type": "stream",
     "text": [
      "0.0\n"
     ]
    }
   ],
   "source": [
    "outp=polyfn(t,x,y,z) #this is correct to order of magnitude\n",
    "print(outp)"
   ]
  },
  {
   "cell_type": "code",
   "execution_count": 120,
   "metadata": {},
   "outputs": [
    {
     "name": "stdout",
     "output_type": "stream",
     "text": [
      "0.0 0.1 0.1 0.1 0.01\n",
      "k1 0.0\n",
      "k2 6.25e-12\n",
      "k3 6.25e-12\n",
      "k4 1e-10\n",
      "0.1\n",
      "0.1\n",
      "(0.01, 0.10000000002083334)\n"
     ]
    }
   ],
   "source": [
    "rk4polyout=RK4(.01,t,x,y,z,polyfn)\n",
    "print(x)\n",
    "print(outp+x)\n",
    "print(rk4polyout)"
   ]
  },
  {
   "cell_type": "code",
   "execution_count": 121,
   "metadata": {},
   "outputs": [
    {
     "name": "stdout",
     "output_type": "stream",
     "text": [
      "0.01 0.1 0.1 0.1 0.01\n",
      "k1 1e-10\n",
      "k2 5.062499999999999e-10\n",
      "k3 5.062499999999999e-10\n",
      "k4 1.6e-09\n",
      "[0.10000000062083333]\n",
      "[0.01]\n"
     ]
    }
   ],
   "source": [
    "dt=0.01\n",
    "numsteps=2\n",
    "intvals=[]\n",
    "tvals=[]\n",
    "for i in np.arange(1,numsteps):\n",
    "    t=0.+i*dt\n",
    "    tnew,valueofintegral=RK4(dt,t,x,y,z,polyfn)\n",
    "    #print(valueofintegral)\n",
    "    intvals.append(valueofintegral)\n",
    "    tvals.append(t)\n",
    "print(intvals)\n",
    "print(tvals)"
   ]
  },
  {
   "cell_type": "markdown",
   "metadata": {},
   "source": [
    "k1 1e-10\n",
    "k2 5.062499999999999e-10\n",
    "k3 5.062499999999999e-10\n",
    "k4 1.6e-09\n",
    "[6.208333333333332e-10]\n",
    "[0.01]"
   ]
  },
  {
   "cell_type": "code",
   "execution_count": 122,
   "metadata": {},
   "outputs": [
    {
     "data": {
      "text/plain": [
       "2.0249999999999995e-09"
      ]
     },
     "execution_count": 122,
     "metadata": {},
     "output_type": "execute_result"
    }
   ],
   "source": [
    "2* 5.062499999999999e-10+ 2* 5.062499999999999e-10 "
   ]
  },
  {
   "cell_type": "code",
   "execution_count": 123,
   "metadata": {},
   "outputs": [
    {
     "data": {
      "text/plain": [
       "3.7249999999999994e-09"
      ]
     },
     "execution_count": 123,
     "metadata": {},
     "output_type": "execute_result"
    }
   ],
   "source": [
    "2.0249999999999995e-09+1.6e-09+1e-10"
   ]
  },
  {
   "cell_type": "code",
   "execution_count": 124,
   "metadata": {},
   "outputs": [
    {
     "data": {
      "text/plain": [
       "0.00010000000000000002"
      ]
     },
     "execution_count": 124,
     "metadata": {},
     "output_type": "execute_result"
    }
   ],
   "source": [
    "polyfn(0.1,0.1,0.1,0.1)"
   ]
  },
  {
   "cell_type": "code",
   "execution_count": 125,
   "metadata": {},
   "outputs": [
    {
     "data": {
      "text/plain": [
       "1e-10"
      ]
     },
     "execution_count": 125,
     "metadata": {},
     "output_type": "execute_result"
    }
   ],
   "source": [
    ".01*polyfn(0.01,0.1,0.1,0.1)"
   ]
  },
  {
   "cell_type": "code",
   "execution_count": 126,
   "metadata": {},
   "outputs": [
    {
     "data": {
      "text/plain": [
       "6.208333333333332e-10"
      ]
     },
     "execution_count": 126,
     "metadata": {},
     "output_type": "execute_result"
    }
   ],
   "source": [
    "3.7249999999999994e-09 /6."
   ]
  },
  {
   "cell_type": "markdown",
   "metadata": {},
   "source": [
    "# 1/6.*(k1+2.*k2+2.*k3+k4)"
   ]
  },
  {
   "cell_type": "markdown",
   "metadata": {},
   "source": [
    "The value returned is not analyitically correct for the first step but I don't see the error yet.  "
   ]
  },
  {
   "cell_type": "code",
   "execution_count": 127,
   "metadata": {},
   "outputs": [
    {
     "name": "stdout",
     "output_type": "stream",
     "text": [
      "[6.20833329e-10 4.22083334e-09 1.56208333e-08 4.20208333e-08\n",
      " 9.30208333e-08 1.80620833e-07 3.19220833e-07 5.25620833e-07\n",
      " 8.19020833e-07 1.22102083e-06 1.75562083e-06 2.44922083e-06\n",
      " 3.33062083e-06 4.43102083e-06 5.78402083e-06 7.42562083e-06\n",
      " 9.39422083e-06 1.17306208e-05 1.44780208e-05 1.76820208e-05\n",
      " 2.13906208e-05 2.56542208e-05 3.05256208e-05 3.60600208e-05\n",
      " 4.23150208e-05 4.93506208e-05 5.72292208e-05 6.60156208e-05\n",
      " 7.57770208e-05]\n",
      "[0.01, 0.02, 0.03, 0.04, 0.05, 0.06, 0.07, 0.08, 0.09, 0.1, 0.11, 0.12, 0.13, 0.14, 0.15, 0.16, 0.17, 0.18, 0.19, 0.2, 0.21, 0.22, 0.23, 0.24, 0.25, 0.26, 0.27, 0.28, 0.29]\n",
      "29 29\n"
     ]
    }
   ],
   "source": [
    "dt=0.01\n",
    "numsteps=30\n",
    "integralvals=[]\n",
    "tvals=[]\n",
    "for i in np.arange(1,numsteps):\n",
    "    t=0.+i*dt\n",
    "    tnew,valueofintegral=RK4nodebug(dt,t,x,y,z,polyfn)\n",
    "    #print(valueofintegral)\n",
    "    integralvals.append(valueofintegral)\n",
    "    tvals.append(t)\n",
    "print(np.array(integralvals)-.1)\n",
    "print(tvals)\n",
    "print(len(integralvals),len(tvals))"
   ]
  },
  {
   "cell_type": "markdown",
   "metadata": {},
   "source": [
    "The analyitic solution to the differential equation\n",
    "\n",
    "dx/dt = t^4 \n",
    "\n",
    "is \n",
    "\n",
    "x= 1/5 * t^5\n",
    "\n",
    "Below the output is shown. The results are plotted for scaling comparison. It doesn't look like it scales correctly. '"
   ]
  },
  {
   "cell_type": "code",
   "execution_count": 128,
   "metadata": {},
   "outputs": [],
   "source": [
    "def ODEsolnanalytic(t,t0,x0):\n",
    "    return 0.2*(t)**5.+x0"
   ]
  },
  {
   "cell_type": "code",
   "execution_count": 129,
   "metadata": {},
   "outputs": [
    {
     "name": "stdout",
     "output_type": "stream",
     "text": [
      "[2.00000017e-11 6.39999997e-10 4.86000000e-09 2.04800000e-08\n",
      " 6.25000000e-08 1.55520000e-07 3.36140000e-07 6.55360000e-07\n",
      " 1.18098000e-06 2.00000000e-06 3.22102000e-06 4.97664000e-06\n",
      " 7.42586000e-06 1.07564800e-05 1.51875000e-05 2.09715200e-05\n",
      " 2.83971400e-05 3.77913600e-05 4.95219800e-05 6.40000000e-05\n",
      " 8.16820200e-05 1.03072640e-04 1.28726860e-04 1.59252480e-04\n",
      " 1.95312500e-04 2.37627520e-04 2.86978140e-04 3.44207360e-04\n",
      " 4.10222980e-04]\n",
      "29\n"
     ]
    }
   ],
   "source": [
    "solnanalytic=[]\n",
    "for i in np.arange(len(tvals)):\n",
    "    solnanalytic.append(ODEsolnanalytic(tvals[i],tvals[0],0.1))\n",
    "print(np.array(solnanalytic)-.1)\n",
    "print(len(solnanalytic))"
   ]
  },
  {
   "cell_type": "code",
   "execution_count": 130,
   "metadata": {},
   "outputs": [
    {
     "data": {
      "text/html": [
       "\n",
       "    <div class=\"bk-root\">\n",
       "        <a href=\"https://bokeh.pydata.org\" target=\"_blank\" class=\"bk-logo bk-logo-small bk-logo-notebook\"></a>\n",
       "        <span id=\"5d9ec19b-ee1a-4f7c-b9a3-77b9c44f6852\">Loading BokehJS ...</span>\n",
       "    </div>"
      ]
     },
     "metadata": {},
     "output_type": "display_data"
    },
    {
     "data": {
      "application/javascript": [
       "\n",
       "(function(root) {\n",
       "  function now() {\n",
       "    return new Date();\n",
       "  }\n",
       "\n",
       "  var force = true;\n",
       "\n",
       "  if (typeof (root._bokeh_onload_callbacks) === \"undefined\" || force === true) {\n",
       "    root._bokeh_onload_callbacks = [];\n",
       "    root._bokeh_is_loading = undefined;\n",
       "  }\n",
       "\n",
       "  var JS_MIME_TYPE = 'application/javascript';\n",
       "  var HTML_MIME_TYPE = 'text/html';\n",
       "  var EXEC_MIME_TYPE = 'application/vnd.bokehjs_exec.v0+json';\n",
       "  var CLASS_NAME = 'output_bokeh rendered_html';\n",
       "\n",
       "  /**\n",
       "   * Render data to the DOM node\n",
       "   */\n",
       "  function render(props, node) {\n",
       "    var script = document.createElement(\"script\");\n",
       "    node.appendChild(script);\n",
       "  }\n",
       "\n",
       "  /**\n",
       "   * Handle when an output is cleared or removed\n",
       "   */\n",
       "  function handleClearOutput(event, handle) {\n",
       "    var cell = handle.cell;\n",
       "\n",
       "    var id = cell.output_area._bokeh_element_id;\n",
       "    var server_id = cell.output_area._bokeh_server_id;\n",
       "    // Clean up Bokeh references\n",
       "    if (id !== undefined) {\n",
       "      Bokeh.index[id].model.document.clear();\n",
       "      delete Bokeh.index[id];\n",
       "    }\n",
       "\n",
       "    if (server_id !== undefined) {\n",
       "      // Clean up Bokeh references\n",
       "      var cmd = \"from bokeh.io.state import curstate; print(curstate().uuid_to_server['\" + server_id + \"'].get_sessions()[0].document.roots[0]._id)\";\n",
       "      cell.notebook.kernel.execute(cmd, {\n",
       "        iopub: {\n",
       "          output: function(msg) {\n",
       "            var element_id = msg.content.text.trim();\n",
       "            Bokeh.index[element_id].model.document.clear();\n",
       "            delete Bokeh.index[element_id];\n",
       "          }\n",
       "        }\n",
       "      });\n",
       "      // Destroy server and session\n",
       "      var cmd = \"import bokeh.io.notebook as ion; ion.destroy_server('\" + server_id + \"')\";\n",
       "      cell.notebook.kernel.execute(cmd);\n",
       "    }\n",
       "  }\n",
       "\n",
       "  /**\n",
       "   * Handle when a new output is added\n",
       "   */\n",
       "  function handleAddOutput(event, handle) {\n",
       "    var output_area = handle.output_area;\n",
       "    var output = handle.output;\n",
       "\n",
       "    // limit handleAddOutput to display_data with EXEC_MIME_TYPE content only\n",
       "    if ((output.output_type != \"display_data\") || (!output.data.hasOwnProperty(EXEC_MIME_TYPE))) {\n",
       "      return\n",
       "    }\n",
       "\n",
       "    var toinsert = output_area.element.find(\".\" + CLASS_NAME.split(' ')[0]);\n",
       "\n",
       "    if (output.metadata[EXEC_MIME_TYPE][\"id\"] !== undefined) {\n",
       "      toinsert[0].firstChild.textContent = output.data[JS_MIME_TYPE];\n",
       "      // store reference to embed id on output_area\n",
       "      output_area._bokeh_element_id = output.metadata[EXEC_MIME_TYPE][\"id\"];\n",
       "    }\n",
       "    if (output.metadata[EXEC_MIME_TYPE][\"server_id\"] !== undefined) {\n",
       "      var bk_div = document.createElement(\"div\");\n",
       "      bk_div.innerHTML = output.data[HTML_MIME_TYPE];\n",
       "      var script_attrs = bk_div.children[0].attributes;\n",
       "      for (var i = 0; i < script_attrs.length; i++) {\n",
       "        toinsert[0].firstChild.setAttribute(script_attrs[i].name, script_attrs[i].value);\n",
       "      }\n",
       "      // store reference to server id on output_area\n",
       "      output_area._bokeh_server_id = output.metadata[EXEC_MIME_TYPE][\"server_id\"];\n",
       "    }\n",
       "  }\n",
       "\n",
       "  function register_renderer(events, OutputArea) {\n",
       "\n",
       "    function append_mime(data, metadata, element) {\n",
       "      // create a DOM node to render to\n",
       "      var toinsert = this.create_output_subarea(\n",
       "        metadata,\n",
       "        CLASS_NAME,\n",
       "        EXEC_MIME_TYPE\n",
       "      );\n",
       "      this.keyboard_manager.register_events(toinsert);\n",
       "      // Render to node\n",
       "      var props = {data: data, metadata: metadata[EXEC_MIME_TYPE]};\n",
       "      render(props, toinsert[0]);\n",
       "      element.append(toinsert);\n",
       "      return toinsert\n",
       "    }\n",
       "\n",
       "    /* Handle when an output is cleared or removed */\n",
       "    events.on('clear_output.CodeCell', handleClearOutput);\n",
       "    events.on('delete.Cell', handleClearOutput);\n",
       "\n",
       "    /* Handle when a new output is added */\n",
       "    events.on('output_added.OutputArea', handleAddOutput);\n",
       "\n",
       "    /**\n",
       "     * Register the mime type and append_mime function with output_area\n",
       "     */\n",
       "    OutputArea.prototype.register_mime_type(EXEC_MIME_TYPE, append_mime, {\n",
       "      /* Is output safe? */\n",
       "      safe: true,\n",
       "      /* Index of renderer in `output_area.display_order` */\n",
       "      index: 0\n",
       "    });\n",
       "  }\n",
       "\n",
       "  // register the mime type if in Jupyter Notebook environment and previously unregistered\n",
       "  if (root.Jupyter !== undefined) {\n",
       "    var events = require('base/js/events');\n",
       "    var OutputArea = require('notebook/js/outputarea').OutputArea;\n",
       "\n",
       "    if (OutputArea.prototype.mime_types().indexOf(EXEC_MIME_TYPE) == -1) {\n",
       "      register_renderer(events, OutputArea);\n",
       "    }\n",
       "  }\n",
       "\n",
       "  \n",
       "  if (typeof (root._bokeh_timeout) === \"undefined\" || force === true) {\n",
       "    root._bokeh_timeout = Date.now() + 5000;\n",
       "    root._bokeh_failed_load = false;\n",
       "  }\n",
       "\n",
       "  var NB_LOAD_WARNING = {'data': {'text/html':\n",
       "     \"<div style='background-color: #fdd'>\\n\"+\n",
       "     \"<p>\\n\"+\n",
       "     \"BokehJS does not appear to have successfully loaded. If loading BokehJS from CDN, this \\n\"+\n",
       "     \"may be due to a slow or bad network connection. Possible fixes:\\n\"+\n",
       "     \"</p>\\n\"+\n",
       "     \"<ul>\\n\"+\n",
       "     \"<li>re-rerun `output_notebook()` to attempt to load from CDN again, or</li>\\n\"+\n",
       "     \"<li>use INLINE resources instead, as so:</li>\\n\"+\n",
       "     \"</ul>\\n\"+\n",
       "     \"<code>\\n\"+\n",
       "     \"from bokeh.resources import INLINE\\n\"+\n",
       "     \"output_notebook(resources=INLINE)\\n\"+\n",
       "     \"</code>\\n\"+\n",
       "     \"</div>\"}};\n",
       "\n",
       "  function display_loaded() {\n",
       "    var el = document.getElementById(\"5d9ec19b-ee1a-4f7c-b9a3-77b9c44f6852\");\n",
       "    if (el != null) {\n",
       "      el.textContent = \"BokehJS is loading...\";\n",
       "    }\n",
       "    if (root.Bokeh !== undefined) {\n",
       "      if (el != null) {\n",
       "        el.textContent = \"BokehJS \" + root.Bokeh.version + \" successfully loaded.\";\n",
       "      }\n",
       "    } else if (Date.now() < root._bokeh_timeout) {\n",
       "      setTimeout(display_loaded, 100)\n",
       "    }\n",
       "  }\n",
       "\n",
       "\n",
       "  function run_callbacks() {\n",
       "    try {\n",
       "      root._bokeh_onload_callbacks.forEach(function(callback) { callback() });\n",
       "    }\n",
       "    finally {\n",
       "      delete root._bokeh_onload_callbacks\n",
       "    }\n",
       "    console.info(\"Bokeh: all callbacks have finished\");\n",
       "  }\n",
       "\n",
       "  function load_libs(js_urls, callback) {\n",
       "    root._bokeh_onload_callbacks.push(callback);\n",
       "    if (root._bokeh_is_loading > 0) {\n",
       "      console.log(\"Bokeh: BokehJS is being loaded, scheduling callback at\", now());\n",
       "      return null;\n",
       "    }\n",
       "    if (js_urls == null || js_urls.length === 0) {\n",
       "      run_callbacks();\n",
       "      return null;\n",
       "    }\n",
       "    console.log(\"Bokeh: BokehJS not loaded, scheduling load and callback at\", now());\n",
       "    root._bokeh_is_loading = js_urls.length;\n",
       "    for (var i = 0; i < js_urls.length; i++) {\n",
       "      var url = js_urls[i];\n",
       "      var s = document.createElement('script');\n",
       "      s.src = url;\n",
       "      s.async = false;\n",
       "      s.onreadystatechange = s.onload = function() {\n",
       "        root._bokeh_is_loading--;\n",
       "        if (root._bokeh_is_loading === 0) {\n",
       "          console.log(\"Bokeh: all BokehJS libraries loaded\");\n",
       "          run_callbacks()\n",
       "        }\n",
       "      };\n",
       "      s.onerror = function() {\n",
       "        console.warn(\"failed to load library \" + url);\n",
       "      };\n",
       "      console.log(\"Bokeh: injecting script tag for BokehJS library: \", url);\n",
       "      document.getElementsByTagName(\"head\")[0].appendChild(s);\n",
       "    }\n",
       "  };var element = document.getElementById(\"5d9ec19b-ee1a-4f7c-b9a3-77b9c44f6852\");\n",
       "  if (element == null) {\n",
       "    console.log(\"Bokeh: ERROR: autoload.js configured with elementid '5d9ec19b-ee1a-4f7c-b9a3-77b9c44f6852' but no matching script tag was found. \")\n",
       "    return false;\n",
       "  }\n",
       "\n",
       "  var js_urls = [\"https://cdn.pydata.org/bokeh/release/bokeh-0.12.13.min.js\", \"https://cdn.pydata.org/bokeh/release/bokeh-widgets-0.12.13.min.js\", \"https://cdn.pydata.org/bokeh/release/bokeh-tables-0.12.13.min.js\", \"https://cdn.pydata.org/bokeh/release/bokeh-gl-0.12.13.min.js\"];\n",
       "\n",
       "  var inline_js = [\n",
       "    function(Bokeh) {\n",
       "      Bokeh.set_log_level(\"info\");\n",
       "    },\n",
       "    \n",
       "    function(Bokeh) {\n",
       "      \n",
       "    },\n",
       "    function(Bokeh) {\n",
       "      console.log(\"Bokeh: injecting CSS: https://cdn.pydata.org/bokeh/release/bokeh-0.12.13.min.css\");\n",
       "      Bokeh.embed.inject_css(\"https://cdn.pydata.org/bokeh/release/bokeh-0.12.13.min.css\");\n",
       "      console.log(\"Bokeh: injecting CSS: https://cdn.pydata.org/bokeh/release/bokeh-widgets-0.12.13.min.css\");\n",
       "      Bokeh.embed.inject_css(\"https://cdn.pydata.org/bokeh/release/bokeh-widgets-0.12.13.min.css\");\n",
       "      console.log(\"Bokeh: injecting CSS: https://cdn.pydata.org/bokeh/release/bokeh-tables-0.12.13.min.css\");\n",
       "      Bokeh.embed.inject_css(\"https://cdn.pydata.org/bokeh/release/bokeh-tables-0.12.13.min.css\");\n",
       "    }\n",
       "  ];\n",
       "\n",
       "  function run_inline_js() {\n",
       "    \n",
       "    if ((root.Bokeh !== undefined) || (force === true)) {\n",
       "      for (var i = 0; i < inline_js.length; i++) {\n",
       "        inline_js[i].call(root, root.Bokeh);\n",
       "      }if (force === true) {\n",
       "        display_loaded();\n",
       "      }} else if (Date.now() < root._bokeh_timeout) {\n",
       "      setTimeout(run_inline_js, 100);\n",
       "    } else if (!root._bokeh_failed_load) {\n",
       "      console.log(\"Bokeh: BokehJS failed to load within specified timeout.\");\n",
       "      root._bokeh_failed_load = true;\n",
       "    } else if (force !== true) {\n",
       "      var cell = $(document.getElementById(\"5d9ec19b-ee1a-4f7c-b9a3-77b9c44f6852\")).parents('.cell').data().cell;\n",
       "      cell.output_area.append_execute_result(NB_LOAD_WARNING)\n",
       "    }\n",
       "\n",
       "  }\n",
       "\n",
       "  if (root._bokeh_is_loading === 0) {\n",
       "    console.log(\"Bokeh: BokehJS loaded, going straight to plotting\");\n",
       "    run_inline_js();\n",
       "  } else {\n",
       "    load_libs(js_urls, function() {\n",
       "      console.log(\"Bokeh: BokehJS plotting callback run at\", now());\n",
       "      run_inline_js();\n",
       "    });\n",
       "  }\n",
       "}(window));"
      ],
      "application/vnd.bokehjs_load.v0+json": "\n(function(root) {\n  function now() {\n    return new Date();\n  }\n\n  var force = true;\n\n  if (typeof (root._bokeh_onload_callbacks) === \"undefined\" || force === true) {\n    root._bokeh_onload_callbacks = [];\n    root._bokeh_is_loading = undefined;\n  }\n\n  \n\n  \n  if (typeof (root._bokeh_timeout) === \"undefined\" || force === true) {\n    root._bokeh_timeout = Date.now() + 5000;\n    root._bokeh_failed_load = false;\n  }\n\n  var NB_LOAD_WARNING = {'data': {'text/html':\n     \"<div style='background-color: #fdd'>\\n\"+\n     \"<p>\\n\"+\n     \"BokehJS does not appear to have successfully loaded. If loading BokehJS from CDN, this \\n\"+\n     \"may be due to a slow or bad network connection. Possible fixes:\\n\"+\n     \"</p>\\n\"+\n     \"<ul>\\n\"+\n     \"<li>re-rerun `output_notebook()` to attempt to load from CDN again, or</li>\\n\"+\n     \"<li>use INLINE resources instead, as so:</li>\\n\"+\n     \"</ul>\\n\"+\n     \"<code>\\n\"+\n     \"from bokeh.resources import INLINE\\n\"+\n     \"output_notebook(resources=INLINE)\\n\"+\n     \"</code>\\n\"+\n     \"</div>\"}};\n\n  function display_loaded() {\n    var el = document.getElementById(\"5d9ec19b-ee1a-4f7c-b9a3-77b9c44f6852\");\n    if (el != null) {\n      el.textContent = \"BokehJS is loading...\";\n    }\n    if (root.Bokeh !== undefined) {\n      if (el != null) {\n        el.textContent = \"BokehJS \" + root.Bokeh.version + \" successfully loaded.\";\n      }\n    } else if (Date.now() < root._bokeh_timeout) {\n      setTimeout(display_loaded, 100)\n    }\n  }\n\n\n  function run_callbacks() {\n    try {\n      root._bokeh_onload_callbacks.forEach(function(callback) { callback() });\n    }\n    finally {\n      delete root._bokeh_onload_callbacks\n    }\n    console.info(\"Bokeh: all callbacks have finished\");\n  }\n\n  function load_libs(js_urls, callback) {\n    root._bokeh_onload_callbacks.push(callback);\n    if (root._bokeh_is_loading > 0) {\n      console.log(\"Bokeh: BokehJS is being loaded, scheduling callback at\", now());\n      return null;\n    }\n    if (js_urls == null || js_urls.length === 0) {\n      run_callbacks();\n      return null;\n    }\n    console.log(\"Bokeh: BokehJS not loaded, scheduling load and callback at\", now());\n    root._bokeh_is_loading = js_urls.length;\n    for (var i = 0; i < js_urls.length; i++) {\n      var url = js_urls[i];\n      var s = document.createElement('script');\n      s.src = url;\n      s.async = false;\n      s.onreadystatechange = s.onload = function() {\n        root._bokeh_is_loading--;\n        if (root._bokeh_is_loading === 0) {\n          console.log(\"Bokeh: all BokehJS libraries loaded\");\n          run_callbacks()\n        }\n      };\n      s.onerror = function() {\n        console.warn(\"failed to load library \" + url);\n      };\n      console.log(\"Bokeh: injecting script tag for BokehJS library: \", url);\n      document.getElementsByTagName(\"head\")[0].appendChild(s);\n    }\n  };var element = document.getElementById(\"5d9ec19b-ee1a-4f7c-b9a3-77b9c44f6852\");\n  if (element == null) {\n    console.log(\"Bokeh: ERROR: autoload.js configured with elementid '5d9ec19b-ee1a-4f7c-b9a3-77b9c44f6852' but no matching script tag was found. \")\n    return false;\n  }\n\n  var js_urls = [\"https://cdn.pydata.org/bokeh/release/bokeh-0.12.13.min.js\", \"https://cdn.pydata.org/bokeh/release/bokeh-widgets-0.12.13.min.js\", \"https://cdn.pydata.org/bokeh/release/bokeh-tables-0.12.13.min.js\", \"https://cdn.pydata.org/bokeh/release/bokeh-gl-0.12.13.min.js\"];\n\n  var inline_js = [\n    function(Bokeh) {\n      Bokeh.set_log_level(\"info\");\n    },\n    \n    function(Bokeh) {\n      \n    },\n    function(Bokeh) {\n      console.log(\"Bokeh: injecting CSS: https://cdn.pydata.org/bokeh/release/bokeh-0.12.13.min.css\");\n      Bokeh.embed.inject_css(\"https://cdn.pydata.org/bokeh/release/bokeh-0.12.13.min.css\");\n      console.log(\"Bokeh: injecting CSS: https://cdn.pydata.org/bokeh/release/bokeh-widgets-0.12.13.min.css\");\n      Bokeh.embed.inject_css(\"https://cdn.pydata.org/bokeh/release/bokeh-widgets-0.12.13.min.css\");\n      console.log(\"Bokeh: injecting CSS: https://cdn.pydata.org/bokeh/release/bokeh-tables-0.12.13.min.css\");\n      Bokeh.embed.inject_css(\"https://cdn.pydata.org/bokeh/release/bokeh-tables-0.12.13.min.css\");\n    }\n  ];\n\n  function run_inline_js() {\n    \n    if ((root.Bokeh !== undefined) || (force === true)) {\n      for (var i = 0; i < inline_js.length; i++) {\n        inline_js[i].call(root, root.Bokeh);\n      }if (force === true) {\n        display_loaded();\n      }} else if (Date.now() < root._bokeh_timeout) {\n      setTimeout(run_inline_js, 100);\n    } else if (!root._bokeh_failed_load) {\n      console.log(\"Bokeh: BokehJS failed to load within specified timeout.\");\n      root._bokeh_failed_load = true;\n    } else if (force !== true) {\n      var cell = $(document.getElementById(\"5d9ec19b-ee1a-4f7c-b9a3-77b9c44f6852\")).parents('.cell').data().cell;\n      cell.output_area.append_execute_result(NB_LOAD_WARNING)\n    }\n\n  }\n\n  if (root._bokeh_is_loading === 0) {\n    console.log(\"Bokeh: BokehJS loaded, going straight to plotting\");\n    run_inline_js();\n  } else {\n    load_libs(js_urls, function() {\n      console.log(\"Bokeh: BokehJS plotting callback run at\", now());\n      run_inline_js();\n    });\n  }\n}(window));"
     },
     "metadata": {},
     "output_type": "display_data"
    },
    {
     "data": {
      "text/html": [
       "\n",
       "<div class=\"bk-root\">\n",
       "    <div class=\"bk-plotdiv\" id=\"fff2e2b0-821d-4f87-adb8-5628917ffbf8\"></div>\n",
       "</div>"
      ]
     },
     "metadata": {},
     "output_type": "display_data"
    },
    {
     "data": {
      "application/javascript": [
       "(function(root) {\n",
       "  function embed_document(root) {\n",
       "    \n",
       "  var docs_json = {\"87360cdf-2427-4737-97e3-72265e1e248b\":{\"roots\":{\"references\":[{\"attributes\":{\"overlay\":{\"id\":\"047badc2-17c6-4229-b823-96fefeddacfa\",\"type\":\"BoxAnnotation\"}},\"id\":\"3e3bd6c2-b929-4a00-ba18-315bbad08d95\",\"type\":\"BoxZoomTool\"},{\"attributes\":{\"data_source\":{\"id\":\"21717f3b-8835-4472-ac30-192ed6e04ad5\",\"type\":\"ColumnDataSource\"},\"glyph\":{\"id\":\"ef41f3ed-665d-45c3-814e-655378d6fed6\",\"type\":\"Circle\"},\"hover_glyph\":null,\"muted_glyph\":null,\"nonselection_glyph\":{\"id\":\"844a9beb-7cc0-4fce-af2b-324c77d171df\",\"type\":\"Circle\"},\"selection_glyph\":null,\"view\":{\"id\":\"a7355885-fe75-4115-8b1a-973bbb235f08\",\"type\":\"CDSView\"}},\"id\":\"9b92ddd8-30e8-4da0-93a5-7646329d71ef\",\"type\":\"GlyphRenderer\"},{\"attributes\":{\"active_drag\":\"auto\",\"active_inspect\":\"auto\",\"active_scroll\":\"auto\",\"active_tap\":\"auto\",\"tools\":[{\"id\":\"e1ed672a-ba1f-4626-bc03-fcb72462e7aa\",\"type\":\"PanTool\"},{\"id\":\"80450b19-bed9-4732-8a6a-deb3871d36bf\",\"type\":\"WheelZoomTool\"},{\"id\":\"3e3bd6c2-b929-4a00-ba18-315bbad08d95\",\"type\":\"BoxZoomTool\"},{\"id\":\"c1a36a10-b2ac-40e2-9eec-9882c151d82f\",\"type\":\"SaveTool\"},{\"id\":\"993cbc0d-20bb-4966-9f34-27d956349384\",\"type\":\"ResetTool\"},{\"id\":\"c04b44e3-16e1-4158-aa3d-551f7df701b1\",\"type\":\"HelpTool\"}]},\"id\":\"9986165a-5e36-496b-aa97-594d11fdf7b6\",\"type\":\"Toolbar\"},{\"attributes\":{},\"id\":\"21ccd6cf-9f8d-47de-b011-1ab23dbf6f23\",\"type\":\"LinearScale\"},{\"attributes\":{},\"id\":\"c1a36a10-b2ac-40e2-9eec-9882c151d82f\",\"type\":\"SaveTool\"},{\"attributes\":{\"plot\":null,\"text\":\"\"},\"id\":\"f55f7d4b-4016-4e6a-8dcb-5ea10f3e947c\",\"type\":\"Title\"},{\"attributes\":{\"source\":{\"id\":\"6369d32e-97cb-45a6-b9ed-a8ba67fc5070\",\"type\":\"ColumnDataSource\"}},\"id\":\"78420ee6-6251-4951-9497-e7ecf310e1b2\",\"type\":\"CDSView\"},{\"attributes\":{\"callback\":null},\"id\":\"2bbb132a-adcf-4f18-b0d8-16b8220b3b81\",\"type\":\"DataRange1d\"},{\"attributes\":{},\"id\":\"4e227431-dd37-4a0a-9ab8-2c1c82246b8f\",\"type\":\"BasicTickFormatter\"},{\"attributes\":{},\"id\":\"0b5feece-7fd9-4dd7-a37b-fbbce43e21b9\",\"type\":\"BasicTickFormatter\"},{\"attributes\":{\"callback\":null},\"id\":\"cdde33c7-8942-422d-b0a4-9613c4e42729\",\"type\":\"DataRange1d\"},{\"attributes\":{\"fill_alpha\":{\"value\":0.1},\"fill_color\":{\"value\":\"#1f77b4\"},\"line_alpha\":{\"value\":0.1},\"line_color\":{\"value\":\"#1f77b4\"},\"size\":{\"units\":\"screen\",\"value\":15},\"x\":{\"field\":\"x\"},\"y\":{\"field\":\"y\"}},\"id\":\"844a9beb-7cc0-4fce-af2b-324c77d171df\",\"type\":\"Circle\"},{\"attributes\":{\"below\":[{\"id\":\"37c71fe9-aa3c-49cb-bed2-287f3991c829\",\"type\":\"LinearAxis\"}],\"left\":[{\"id\":\"8b1e5f43-8840-4246-8eb1-a48a72eee8f7\",\"type\":\"LinearAxis\"}],\"plot_height\":400,\"plot_width\":400,\"renderers\":[{\"id\":\"37c71fe9-aa3c-49cb-bed2-287f3991c829\",\"type\":\"LinearAxis\"},{\"id\":\"8b747d39-8bbd-4447-90ea-e599e34e1ad6\",\"type\":\"Grid\"},{\"id\":\"8b1e5f43-8840-4246-8eb1-a48a72eee8f7\",\"type\":\"LinearAxis\"},{\"id\":\"edcaf6ef-419a-4672-a51d-b8a70ea9a2b9\",\"type\":\"Grid\"},{\"id\":\"047badc2-17c6-4229-b823-96fefeddacfa\",\"type\":\"BoxAnnotation\"},{\"id\":\"9016e085-5d2b-4fa0-85ab-7f12f324ac65\",\"type\":\"GlyphRenderer\"},{\"id\":\"9b92ddd8-30e8-4da0-93a5-7646329d71ef\",\"type\":\"GlyphRenderer\"}],\"title\":{\"id\":\"f55f7d4b-4016-4e6a-8dcb-5ea10f3e947c\",\"type\":\"Title\"},\"toolbar\":{\"id\":\"9986165a-5e36-496b-aa97-594d11fdf7b6\",\"type\":\"Toolbar\"},\"x_range\":{\"id\":\"2bbb132a-adcf-4f18-b0d8-16b8220b3b81\",\"type\":\"DataRange1d\"},\"x_scale\":{\"id\":\"66de20f7-6cbd-4e4e-97d5-41fced1a3b15\",\"type\":\"LinearScale\"},\"y_range\":{\"id\":\"cdde33c7-8942-422d-b0a4-9613c4e42729\",\"type\":\"DataRange1d\"},\"y_scale\":{\"id\":\"21ccd6cf-9f8d-47de-b011-1ab23dbf6f23\",\"type\":\"LinearScale\"}},\"id\":\"ded18290-7731-4350-9227-e8b3267f6e57\",\"subtype\":\"Figure\",\"type\":\"Plot\"},{\"attributes\":{\"source\":{\"id\":\"21717f3b-8835-4472-ac30-192ed6e04ad5\",\"type\":\"ColumnDataSource\"}},\"id\":\"a7355885-fe75-4115-8b1a-973bbb235f08\",\"type\":\"CDSView\"},{\"attributes\":{\"dimension\":1,\"plot\":{\"id\":\"ded18290-7731-4350-9227-e8b3267f6e57\",\"subtype\":\"Figure\",\"type\":\"Plot\"},\"ticker\":{\"id\":\"39719550-2095-4924-b223-a56eaf95ee8f\",\"type\":\"BasicTicker\"}},\"id\":\"edcaf6ef-419a-4672-a51d-b8a70ea9a2b9\",\"type\":\"Grid\"},{\"attributes\":{\"fill_alpha\":{\"value\":0.1},\"fill_color\":{\"value\":\"#1f77b4\"},\"line_alpha\":{\"value\":0.1},\"line_color\":{\"value\":\"#1f77b4\"},\"size\":{\"units\":\"screen\",\"value\":15},\"x\":{\"field\":\"x\"},\"y\":{\"field\":\"y\"}},\"id\":\"f69493ad-d47b-456e-b052-ae0e44abffe9\",\"type\":\"Circle\"},{\"attributes\":{\"data_source\":{\"id\":\"6369d32e-97cb-45a6-b9ed-a8ba67fc5070\",\"type\":\"ColumnDataSource\"},\"glyph\":{\"id\":\"973a851a-196c-4bb8-ad1e-4101c5949e77\",\"type\":\"Circle\"},\"hover_glyph\":null,\"muted_glyph\":null,\"nonselection_glyph\":{\"id\":\"f69493ad-d47b-456e-b052-ae0e44abffe9\",\"type\":\"Circle\"},\"selection_glyph\":null,\"view\":{\"id\":\"78420ee6-6251-4951-9497-e7ecf310e1b2\",\"type\":\"CDSView\"}},\"id\":\"9016e085-5d2b-4fa0-85ab-7f12f324ac65\",\"type\":\"GlyphRenderer\"},{\"attributes\":{},\"id\":\"c04b44e3-16e1-4158-aa3d-551f7df701b1\",\"type\":\"HelpTool\"},{\"attributes\":{},\"id\":\"e1ed672a-ba1f-4626-bc03-fcb72462e7aa\",\"type\":\"PanTool\"},{\"attributes\":{\"fill_alpha\":{\"value\":0.5},\"fill_color\":{\"value\":\"blue\"},\"line_color\":{\"value\":\"blue\"},\"size\":{\"units\":\"screen\",\"value\":15},\"x\":{\"field\":\"x\"},\"y\":{\"field\":\"y\"}},\"id\":\"973a851a-196c-4bb8-ad1e-4101c5949e77\",\"type\":\"Circle\"},{\"attributes\":{\"callback\":null,\"column_names\":[\"x\",\"y\"],\"data\":{\"x\":[0.01,0.02,0.03,0.04,0.05,0.06,0.07,0.08,0.09,0.1,0.11,0.12,0.13,0.14,0.15,0.16,0.17,0.18,0.19,0.2,0.21,0.22,0.23,0.24,0.25,0.26,0.27,0.28,0.29],\"y\":[0.10000000062083333,0.10000000422083334,0.10000001562083334,0.10000004202083333,0.10000009302083333,0.10000018062083334,0.10000031922083334,0.10000052562083334,0.10000081902083334,0.10000122102083334,0.10000175562083334,0.10000244922083334,0.10000333062083334,0.10000443102083334,0.10000578402083334,0.10000742562083334,0.10000939422083334,0.10001173062083334,0.10001447802083334,0.10001768202083335,0.10002139062083334,0.10002565422083334,0.10003052562083334,0.10003606002083335,0.10004231502083334,0.10004935062083334,0.10005722922083334,0.10006601562083334,0.10007577702083334]}},\"id\":\"6369d32e-97cb-45a6-b9ed-a8ba67fc5070\",\"type\":\"ColumnDataSource\"},{\"attributes\":{\"bottom_units\":\"screen\",\"fill_alpha\":{\"value\":0.5},\"fill_color\":{\"value\":\"lightgrey\"},\"left_units\":\"screen\",\"level\":\"overlay\",\"line_alpha\":{\"value\":1.0},\"line_color\":{\"value\":\"black\"},\"line_dash\":[4,4],\"line_width\":{\"value\":2},\"plot\":null,\"render_mode\":\"css\",\"right_units\":\"screen\",\"top_units\":\"screen\"},\"id\":\"047badc2-17c6-4229-b823-96fefeddacfa\",\"type\":\"BoxAnnotation\"},{\"attributes\":{\"formatter\":{\"id\":\"0b5feece-7fd9-4dd7-a37b-fbbce43e21b9\",\"type\":\"BasicTickFormatter\"},\"plot\":{\"id\":\"ded18290-7731-4350-9227-e8b3267f6e57\",\"subtype\":\"Figure\",\"type\":\"Plot\"},\"ticker\":{\"id\":\"39719550-2095-4924-b223-a56eaf95ee8f\",\"type\":\"BasicTicker\"}},\"id\":\"8b1e5f43-8840-4246-8eb1-a48a72eee8f7\",\"type\":\"LinearAxis\"},{\"attributes\":{},\"id\":\"66de20f7-6cbd-4e4e-97d5-41fced1a3b15\",\"type\":\"LinearScale\"},{\"attributes\":{\"plot\":{\"id\":\"ded18290-7731-4350-9227-e8b3267f6e57\",\"subtype\":\"Figure\",\"type\":\"Plot\"},\"ticker\":{\"id\":\"c0d97126-d973-46de-b5c8-f9f942169481\",\"type\":\"BasicTicker\"}},\"id\":\"8b747d39-8bbd-4447-90ea-e599e34e1ad6\",\"type\":\"Grid\"},{\"attributes\":{\"callback\":null,\"column_names\":[\"x\",\"y\"],\"data\":{\"x\":[0.01,0.02,0.03,0.04,0.05,0.06,0.07,0.08,0.09,0.1,0.11,0.12,0.13,0.14,0.15,0.16,0.17,0.18,0.19,0.2,0.21,0.22,0.23,0.24,0.25,0.26,0.27,0.28,0.29],\"y\":[0.10000000002000001,0.10000000064,0.10000000486,0.10000002048000001,0.1000000625,0.10000015552000001,0.10000033614,0.10000065536000001,0.10000118098,0.10000200000000001,0.10000322102,0.10000497664,0.10000742586,0.10001075648,0.1000151875,0.10002097152,0.10002839714,0.10003779136,0.10004952198,0.100064,0.10008168202,0.10010307264,0.10012872686,0.10015925248,0.10019531250000001,0.10023762752000001,0.10028697814000001,0.10034420736,0.10041022298]}},\"id\":\"21717f3b-8835-4472-ac30-192ed6e04ad5\",\"type\":\"ColumnDataSource\"},{\"attributes\":{},\"id\":\"39719550-2095-4924-b223-a56eaf95ee8f\",\"type\":\"BasicTicker\"},{\"attributes\":{},\"id\":\"80450b19-bed9-4732-8a6a-deb3871d36bf\",\"type\":\"WheelZoomTool\"},{\"attributes\":{},\"id\":\"c0d97126-d973-46de-b5c8-f9f942169481\",\"type\":\"BasicTicker\"},{\"attributes\":{\"fill_alpha\":{\"value\":0.5},\"fill_color\":{\"value\":\"green\"},\"line_color\":{\"value\":\"green\"},\"size\":{\"units\":\"screen\",\"value\":15},\"x\":{\"field\":\"x\"},\"y\":{\"field\":\"y\"}},\"id\":\"ef41f3ed-665d-45c3-814e-655378d6fed6\",\"type\":\"Circle\"},{\"attributes\":{\"formatter\":{\"id\":\"4e227431-dd37-4a0a-9ab8-2c1c82246b8f\",\"type\":\"BasicTickFormatter\"},\"plot\":{\"id\":\"ded18290-7731-4350-9227-e8b3267f6e57\",\"subtype\":\"Figure\",\"type\":\"Plot\"},\"ticker\":{\"id\":\"c0d97126-d973-46de-b5c8-f9f942169481\",\"type\":\"BasicTicker\"}},\"id\":\"37c71fe9-aa3c-49cb-bed2-287f3991c829\",\"type\":\"LinearAxis\"},{\"attributes\":{},\"id\":\"993cbc0d-20bb-4966-9f34-27d956349384\",\"type\":\"ResetTool\"}],\"root_ids\":[\"ded18290-7731-4350-9227-e8b3267f6e57\"]},\"title\":\"Bokeh Application\",\"version\":\"0.12.13\"}};\n",
       "  var render_items = [{\"docid\":\"87360cdf-2427-4737-97e3-72265e1e248b\",\"elementid\":\"fff2e2b0-821d-4f87-adb8-5628917ffbf8\",\"modelid\":\"ded18290-7731-4350-9227-e8b3267f6e57\"}];\n",
       "  root.Bokeh.embed.embed_items_notebook(docs_json, render_items);\n",
       "\n",
       "  }\n",
       "  if (root.Bokeh !== undefined) {\n",
       "    embed_document(root);\n",
       "  } else {\n",
       "    var attempts = 0;\n",
       "    var timer = setInterval(function(root) {\n",
       "      if (root.Bokeh !== undefined) {\n",
       "        embed_document(root);\n",
       "        clearInterval(timer);\n",
       "      }\n",
       "      attempts++;\n",
       "      if (attempts > 100) {\n",
       "        console.log(\"Bokeh: ERROR: Unable to run BokehJS code because BokehJS library is missing\")\n",
       "        clearInterval(timer);\n",
       "      }\n",
       "    }, 10, root)\n",
       "  }\n",
       "})(window);"
      ],
      "application/vnd.bokehjs_exec.v0+json": ""
     },
     "metadata": {
      "application/vnd.bokehjs_exec.v0+json": {
       "id": "ded18290-7731-4350-9227-e8b3267f6e57"
      }
     },
     "output_type": "display_data"
    }
   ],
   "source": [
    "from bokeh.io import output_notebook, show\n",
    "from bokeh.plotting import figure\n",
    "output_notebook()\n",
    "# create a new plot with default tools, using figure\n",
    "p = figure(plot_width=400, plot_height=400)\n",
    "\n",
    "# add a circle renderer with x and y coordinates, size, color, and alpha\n",
    "p.circle(tvals,integralvals, size=15, line_color=\"blue\", fill_color=\"blue\", fill_alpha=0.5)\n",
    "p.circle(tvals,solnanalytic, size=15, line_color=\"green\",fill_color=\"green\", fill_alpha=0.5)\n",
    "#p.circle(tvals,np.array(solnanalytic)-np.array(integralvals),size=15, line_color=\"red\", fill_color=\"red\", fill_alpha=0.5)\n",
    "\n",
    "show(p) # show the results"
   ]
  },
  {
   "cell_type": "markdown",
   "metadata": {},
   "source": [
    "The truncation error is on the order of the fifth order analytic solution, not the fourth order polynomial right hand side of the Ordinary Differential Equation."
   ]
  },
  {
   "cell_type": "code",
   "execution_count": 131,
   "metadata": {},
   "outputs": [
    {
     "name": "stdout",
     "output_type": "stream",
     "text": [
      "(0.01, 0.10000000002083334)\n",
      "2.0833335057091062e-10\n"
     ]
    }
   ],
   "source": [
    "print(rk4polyout) \n",
    "#There are multiple items in the y output, which is confusing. trace this over time and plot an evolution and compare to exact solution, which I have analytically written down. steve points out truncation error\n",
    "print(((rk4polyout[1]-x-outp)/x))\n",
    "#order4 polynomial error (comparable in size to polyfn itself, relative error with it is one)"
   ]
  },
  {
   "cell_type": "markdown",
   "metadata": {},
   "source": [
    "# Try using euler funciton to compare"
   ]
  },
  {
   "cell_type": "code",
   "execution_count": 132,
   "metadata": {},
   "outputs": [
    {
     "name": "stdout",
     "output_type": "stream",
     "text": [
      "0.01 0.01 0.1\n",
      "step1 1e-08\n",
      "step2 1.6e-07\n",
      "rise 1.5e-07\n",
      "run 0.02\n",
      "slope 7.499999999999999e-06\n",
      "7.499999999999999e-06\n",
      "[7.5e-06]\n",
      "[0.01]\n"
     ]
    }
   ],
   "source": [
    "dt=0.01\n",
    "numsteps=2\n",
    "eintegralvals=[]\n",
    "tvals=[]\n",
    "for i in np.arange(1,numsteps):\n",
    "    t=0.+i*dt\n",
    "    valueofintegral=euler(dt,t,x,y,z,polyfn,True)\n",
    "    #print(valueofintegral)\n",
    "    eintegralvals.append(valueofintegral)\n",
    "    tvals.append(t)\n",
    "print(np.array(eintegralvals))\n",
    "print(tvals)"
   ]
  },
  {
   "cell_type": "markdown",
   "metadata": {},
   "source": [
    "Find slope. First find rise. Then divide by run (2h). \n",
    "\n",
    "step2-step1 \n",
    "\n",
    "f(t+h,x+h)-f(t,x)"
   ]
  },
  {
   "cell_type": "code",
   "execution_count": 133,
   "metadata": {},
   "outputs": [
    {
     "data": {
      "text/plain": [
       "1.5e-07"
      ]
     },
     "execution_count": 133,
     "metadata": {},
     "output_type": "execute_result"
    }
   ],
   "source": [
    "1.6e-07-1e-08"
   ]
  },
  {
   "cell_type": "code",
   "execution_count": 134,
   "metadata": {},
   "outputs": [
    {
     "data": {
      "text/plain": [
       "7.499999999999999e-06"
      ]
     },
     "execution_count": 134,
     "metadata": {},
     "output_type": "execute_result"
    }
   ],
   "source": [
    "1.5e-07/2/0.01"
   ]
  },
  {
   "cell_type": "code",
   "execution_count": 135,
   "metadata": {},
   "outputs": [
    {
     "name": "stdout",
     "output_type": "stream",
     "text": [
      "[7.50000e-06 3.25000e-05 8.75000e-05 1.84500e-04 3.35500e-04 5.52500e-04\n",
      " 8.47500e-04 1.23250e-03 1.71950e-03 2.32050e-03 3.04750e-03 3.91250e-03\n",
      " 4.92750e-03 6.10450e-03 7.45550e-03 8.99250e-03 1.07275e-02 1.26725e-02\n",
      " 1.48395e-02 1.72405e-02 1.98875e-02 2.27925e-02 2.59675e-02 2.94245e-02\n",
      " 3.31755e-02 3.72325e-02 4.16075e-02 4.63125e-02 5.13595e-02]\n",
      "[0.01, 0.02, 0.03, 0.04, 0.05, 0.06, 0.07, 0.08, 0.09, 0.1, 0.11, 0.12, 0.13, 0.14, 0.15, 0.16, 0.17, 0.18, 0.19, 0.2, 0.21, 0.22, 0.23, 0.24, 0.25, 0.26, 0.27, 0.28, 0.29]\n",
      "29 29\n"
     ]
    }
   ],
   "source": [
    "dt=0.01\n",
    "numsteps=30\n",
    "eintegralvals=[]\n",
    "tvals=[]\n",
    "for i in np.arange(1,numsteps):\n",
    "    t=0.+i*dt\n",
    "    valueofintegral=eulernodebug(dt,t,x,y,z,polyfn)\n",
    "    #print(valueofintegral)\n",
    "    eintegralvals.append(valueofintegral)\n",
    "    tvals.append(t)\n",
    "print(np.array(eintegralvals))\n",
    "print(tvals)\n",
    "print(len(eintegralvals),len(tvals))"
   ]
  },
  {
   "cell_type": "code",
   "execution_count": 140,
   "metadata": {},
   "outputs": [
    {
     "data": {
      "text/html": [
       "\n",
       "    <div class=\"bk-root\">\n",
       "        <a href=\"https://bokeh.pydata.org\" target=\"_blank\" class=\"bk-logo bk-logo-small bk-logo-notebook\"></a>\n",
       "        <span id=\"7d1fcfb1-7214-4b18-a91d-dc2aeeabc6e9\">Loading BokehJS ...</span>\n",
       "    </div>"
      ]
     },
     "metadata": {},
     "output_type": "display_data"
    },
    {
     "data": {
      "application/javascript": [
       "\n",
       "(function(root) {\n",
       "  function now() {\n",
       "    return new Date();\n",
       "  }\n",
       "\n",
       "  var force = true;\n",
       "\n",
       "  if (typeof (root._bokeh_onload_callbacks) === \"undefined\" || force === true) {\n",
       "    root._bokeh_onload_callbacks = [];\n",
       "    root._bokeh_is_loading = undefined;\n",
       "  }\n",
       "\n",
       "  var JS_MIME_TYPE = 'application/javascript';\n",
       "  var HTML_MIME_TYPE = 'text/html';\n",
       "  var EXEC_MIME_TYPE = 'application/vnd.bokehjs_exec.v0+json';\n",
       "  var CLASS_NAME = 'output_bokeh rendered_html';\n",
       "\n",
       "  /**\n",
       "   * Render data to the DOM node\n",
       "   */\n",
       "  function render(props, node) {\n",
       "    var script = document.createElement(\"script\");\n",
       "    node.appendChild(script);\n",
       "  }\n",
       "\n",
       "  /**\n",
       "   * Handle when an output is cleared or removed\n",
       "   */\n",
       "  function handleClearOutput(event, handle) {\n",
       "    var cell = handle.cell;\n",
       "\n",
       "    var id = cell.output_area._bokeh_element_id;\n",
       "    var server_id = cell.output_area._bokeh_server_id;\n",
       "    // Clean up Bokeh references\n",
       "    if (id !== undefined) {\n",
       "      Bokeh.index[id].model.document.clear();\n",
       "      delete Bokeh.index[id];\n",
       "    }\n",
       "\n",
       "    if (server_id !== undefined) {\n",
       "      // Clean up Bokeh references\n",
       "      var cmd = \"from bokeh.io.state import curstate; print(curstate().uuid_to_server['\" + server_id + \"'].get_sessions()[0].document.roots[0]._id)\";\n",
       "      cell.notebook.kernel.execute(cmd, {\n",
       "        iopub: {\n",
       "          output: function(msg) {\n",
       "            var element_id = msg.content.text.trim();\n",
       "            Bokeh.index[element_id].model.document.clear();\n",
       "            delete Bokeh.index[element_id];\n",
       "          }\n",
       "        }\n",
       "      });\n",
       "      // Destroy server and session\n",
       "      var cmd = \"import bokeh.io.notebook as ion; ion.destroy_server('\" + server_id + \"')\";\n",
       "      cell.notebook.kernel.execute(cmd);\n",
       "    }\n",
       "  }\n",
       "\n",
       "  /**\n",
       "   * Handle when a new output is added\n",
       "   */\n",
       "  function handleAddOutput(event, handle) {\n",
       "    var output_area = handle.output_area;\n",
       "    var output = handle.output;\n",
       "\n",
       "    // limit handleAddOutput to display_data with EXEC_MIME_TYPE content only\n",
       "    if ((output.output_type != \"display_data\") || (!output.data.hasOwnProperty(EXEC_MIME_TYPE))) {\n",
       "      return\n",
       "    }\n",
       "\n",
       "    var toinsert = output_area.element.find(\".\" + CLASS_NAME.split(' ')[0]);\n",
       "\n",
       "    if (output.metadata[EXEC_MIME_TYPE][\"id\"] !== undefined) {\n",
       "      toinsert[0].firstChild.textContent = output.data[JS_MIME_TYPE];\n",
       "      // store reference to embed id on output_area\n",
       "      output_area._bokeh_element_id = output.metadata[EXEC_MIME_TYPE][\"id\"];\n",
       "    }\n",
       "    if (output.metadata[EXEC_MIME_TYPE][\"server_id\"] !== undefined) {\n",
       "      var bk_div = document.createElement(\"div\");\n",
       "      bk_div.innerHTML = output.data[HTML_MIME_TYPE];\n",
       "      var script_attrs = bk_div.children[0].attributes;\n",
       "      for (var i = 0; i < script_attrs.length; i++) {\n",
       "        toinsert[0].firstChild.setAttribute(script_attrs[i].name, script_attrs[i].value);\n",
       "      }\n",
       "      // store reference to server id on output_area\n",
       "      output_area._bokeh_server_id = output.metadata[EXEC_MIME_TYPE][\"server_id\"];\n",
       "    }\n",
       "  }\n",
       "\n",
       "  function register_renderer(events, OutputArea) {\n",
       "\n",
       "    function append_mime(data, metadata, element) {\n",
       "      // create a DOM node to render to\n",
       "      var toinsert = this.create_output_subarea(\n",
       "        metadata,\n",
       "        CLASS_NAME,\n",
       "        EXEC_MIME_TYPE\n",
       "      );\n",
       "      this.keyboard_manager.register_events(toinsert);\n",
       "      // Render to node\n",
       "      var props = {data: data, metadata: metadata[EXEC_MIME_TYPE]};\n",
       "      render(props, toinsert[0]);\n",
       "      element.append(toinsert);\n",
       "      return toinsert\n",
       "    }\n",
       "\n",
       "    /* Handle when an output is cleared or removed */\n",
       "    events.on('clear_output.CodeCell', handleClearOutput);\n",
       "    events.on('delete.Cell', handleClearOutput);\n",
       "\n",
       "    /* Handle when a new output is added */\n",
       "    events.on('output_added.OutputArea', handleAddOutput);\n",
       "\n",
       "    /**\n",
       "     * Register the mime type and append_mime function with output_area\n",
       "     */\n",
       "    OutputArea.prototype.register_mime_type(EXEC_MIME_TYPE, append_mime, {\n",
       "      /* Is output safe? */\n",
       "      safe: true,\n",
       "      /* Index of renderer in `output_area.display_order` */\n",
       "      index: 0\n",
       "    });\n",
       "  }\n",
       "\n",
       "  // register the mime type if in Jupyter Notebook environment and previously unregistered\n",
       "  if (root.Jupyter !== undefined) {\n",
       "    var events = require('base/js/events');\n",
       "    var OutputArea = require('notebook/js/outputarea').OutputArea;\n",
       "\n",
       "    if (OutputArea.prototype.mime_types().indexOf(EXEC_MIME_TYPE) == -1) {\n",
       "      register_renderer(events, OutputArea);\n",
       "    }\n",
       "  }\n",
       "\n",
       "  \n",
       "  if (typeof (root._bokeh_timeout) === \"undefined\" || force === true) {\n",
       "    root._bokeh_timeout = Date.now() + 5000;\n",
       "    root._bokeh_failed_load = false;\n",
       "  }\n",
       "\n",
       "  var NB_LOAD_WARNING = {'data': {'text/html':\n",
       "     \"<div style='background-color: #fdd'>\\n\"+\n",
       "     \"<p>\\n\"+\n",
       "     \"BokehJS does not appear to have successfully loaded. If loading BokehJS from CDN, this \\n\"+\n",
       "     \"may be due to a slow or bad network connection. Possible fixes:\\n\"+\n",
       "     \"</p>\\n\"+\n",
       "     \"<ul>\\n\"+\n",
       "     \"<li>re-rerun `output_notebook()` to attempt to load from CDN again, or</li>\\n\"+\n",
       "     \"<li>use INLINE resources instead, as so:</li>\\n\"+\n",
       "     \"</ul>\\n\"+\n",
       "     \"<code>\\n\"+\n",
       "     \"from bokeh.resources import INLINE\\n\"+\n",
       "     \"output_notebook(resources=INLINE)\\n\"+\n",
       "     \"</code>\\n\"+\n",
       "     \"</div>\"}};\n",
       "\n",
       "  function display_loaded() {\n",
       "    var el = document.getElementById(\"7d1fcfb1-7214-4b18-a91d-dc2aeeabc6e9\");\n",
       "    if (el != null) {\n",
       "      el.textContent = \"BokehJS is loading...\";\n",
       "    }\n",
       "    if (root.Bokeh !== undefined) {\n",
       "      if (el != null) {\n",
       "        el.textContent = \"BokehJS \" + root.Bokeh.version + \" successfully loaded.\";\n",
       "      }\n",
       "    } else if (Date.now() < root._bokeh_timeout) {\n",
       "      setTimeout(display_loaded, 100)\n",
       "    }\n",
       "  }\n",
       "\n",
       "\n",
       "  function run_callbacks() {\n",
       "    try {\n",
       "      root._bokeh_onload_callbacks.forEach(function(callback) { callback() });\n",
       "    }\n",
       "    finally {\n",
       "      delete root._bokeh_onload_callbacks\n",
       "    }\n",
       "    console.info(\"Bokeh: all callbacks have finished\");\n",
       "  }\n",
       "\n",
       "  function load_libs(js_urls, callback) {\n",
       "    root._bokeh_onload_callbacks.push(callback);\n",
       "    if (root._bokeh_is_loading > 0) {\n",
       "      console.log(\"Bokeh: BokehJS is being loaded, scheduling callback at\", now());\n",
       "      return null;\n",
       "    }\n",
       "    if (js_urls == null || js_urls.length === 0) {\n",
       "      run_callbacks();\n",
       "      return null;\n",
       "    }\n",
       "    console.log(\"Bokeh: BokehJS not loaded, scheduling load and callback at\", now());\n",
       "    root._bokeh_is_loading = js_urls.length;\n",
       "    for (var i = 0; i < js_urls.length; i++) {\n",
       "      var url = js_urls[i];\n",
       "      var s = document.createElement('script');\n",
       "      s.src = url;\n",
       "      s.async = false;\n",
       "      s.onreadystatechange = s.onload = function() {\n",
       "        root._bokeh_is_loading--;\n",
       "        if (root._bokeh_is_loading === 0) {\n",
       "          console.log(\"Bokeh: all BokehJS libraries loaded\");\n",
       "          run_callbacks()\n",
       "        }\n",
       "      };\n",
       "      s.onerror = function() {\n",
       "        console.warn(\"failed to load library \" + url);\n",
       "      };\n",
       "      console.log(\"Bokeh: injecting script tag for BokehJS library: \", url);\n",
       "      document.getElementsByTagName(\"head\")[0].appendChild(s);\n",
       "    }\n",
       "  };var element = document.getElementById(\"7d1fcfb1-7214-4b18-a91d-dc2aeeabc6e9\");\n",
       "  if (element == null) {\n",
       "    console.log(\"Bokeh: ERROR: autoload.js configured with elementid '7d1fcfb1-7214-4b18-a91d-dc2aeeabc6e9' but no matching script tag was found. \")\n",
       "    return false;\n",
       "  }\n",
       "\n",
       "  var js_urls = [\"https://cdn.pydata.org/bokeh/release/bokeh-0.12.13.min.js\", \"https://cdn.pydata.org/bokeh/release/bokeh-widgets-0.12.13.min.js\", \"https://cdn.pydata.org/bokeh/release/bokeh-tables-0.12.13.min.js\", \"https://cdn.pydata.org/bokeh/release/bokeh-gl-0.12.13.min.js\"];\n",
       "\n",
       "  var inline_js = [\n",
       "    function(Bokeh) {\n",
       "      Bokeh.set_log_level(\"info\");\n",
       "    },\n",
       "    \n",
       "    function(Bokeh) {\n",
       "      \n",
       "    },\n",
       "    function(Bokeh) {\n",
       "      console.log(\"Bokeh: injecting CSS: https://cdn.pydata.org/bokeh/release/bokeh-0.12.13.min.css\");\n",
       "      Bokeh.embed.inject_css(\"https://cdn.pydata.org/bokeh/release/bokeh-0.12.13.min.css\");\n",
       "      console.log(\"Bokeh: injecting CSS: https://cdn.pydata.org/bokeh/release/bokeh-widgets-0.12.13.min.css\");\n",
       "      Bokeh.embed.inject_css(\"https://cdn.pydata.org/bokeh/release/bokeh-widgets-0.12.13.min.css\");\n",
       "      console.log(\"Bokeh: injecting CSS: https://cdn.pydata.org/bokeh/release/bokeh-tables-0.12.13.min.css\");\n",
       "      Bokeh.embed.inject_css(\"https://cdn.pydata.org/bokeh/release/bokeh-tables-0.12.13.min.css\");\n",
       "    }\n",
       "  ];\n",
       "\n",
       "  function run_inline_js() {\n",
       "    \n",
       "    if ((root.Bokeh !== undefined) || (force === true)) {\n",
       "      for (var i = 0; i < inline_js.length; i++) {\n",
       "        inline_js[i].call(root, root.Bokeh);\n",
       "      }if (force === true) {\n",
       "        display_loaded();\n",
       "      }} else if (Date.now() < root._bokeh_timeout) {\n",
       "      setTimeout(run_inline_js, 100);\n",
       "    } else if (!root._bokeh_failed_load) {\n",
       "      console.log(\"Bokeh: BokehJS failed to load within specified timeout.\");\n",
       "      root._bokeh_failed_load = true;\n",
       "    } else if (force !== true) {\n",
       "      var cell = $(document.getElementById(\"7d1fcfb1-7214-4b18-a91d-dc2aeeabc6e9\")).parents('.cell').data().cell;\n",
       "      cell.output_area.append_execute_result(NB_LOAD_WARNING)\n",
       "    }\n",
       "\n",
       "  }\n",
       "\n",
       "  if (root._bokeh_is_loading === 0) {\n",
       "    console.log(\"Bokeh: BokehJS loaded, going straight to plotting\");\n",
       "    run_inline_js();\n",
       "  } else {\n",
       "    load_libs(js_urls, function() {\n",
       "      console.log(\"Bokeh: BokehJS plotting callback run at\", now());\n",
       "      run_inline_js();\n",
       "    });\n",
       "  }\n",
       "}(window));"
      ],
      "application/vnd.bokehjs_load.v0+json": "\n(function(root) {\n  function now() {\n    return new Date();\n  }\n\n  var force = true;\n\n  if (typeof (root._bokeh_onload_callbacks) === \"undefined\" || force === true) {\n    root._bokeh_onload_callbacks = [];\n    root._bokeh_is_loading = undefined;\n  }\n\n  \n\n  \n  if (typeof (root._bokeh_timeout) === \"undefined\" || force === true) {\n    root._bokeh_timeout = Date.now() + 5000;\n    root._bokeh_failed_load = false;\n  }\n\n  var NB_LOAD_WARNING = {'data': {'text/html':\n     \"<div style='background-color: #fdd'>\\n\"+\n     \"<p>\\n\"+\n     \"BokehJS does not appear to have successfully loaded. If loading BokehJS from CDN, this \\n\"+\n     \"may be due to a slow or bad network connection. Possible fixes:\\n\"+\n     \"</p>\\n\"+\n     \"<ul>\\n\"+\n     \"<li>re-rerun `output_notebook()` to attempt to load from CDN again, or</li>\\n\"+\n     \"<li>use INLINE resources instead, as so:</li>\\n\"+\n     \"</ul>\\n\"+\n     \"<code>\\n\"+\n     \"from bokeh.resources import INLINE\\n\"+\n     \"output_notebook(resources=INLINE)\\n\"+\n     \"</code>\\n\"+\n     \"</div>\"}};\n\n  function display_loaded() {\n    var el = document.getElementById(\"7d1fcfb1-7214-4b18-a91d-dc2aeeabc6e9\");\n    if (el != null) {\n      el.textContent = \"BokehJS is loading...\";\n    }\n    if (root.Bokeh !== undefined) {\n      if (el != null) {\n        el.textContent = \"BokehJS \" + root.Bokeh.version + \" successfully loaded.\";\n      }\n    } else if (Date.now() < root._bokeh_timeout) {\n      setTimeout(display_loaded, 100)\n    }\n  }\n\n\n  function run_callbacks() {\n    try {\n      root._bokeh_onload_callbacks.forEach(function(callback) { callback() });\n    }\n    finally {\n      delete root._bokeh_onload_callbacks\n    }\n    console.info(\"Bokeh: all callbacks have finished\");\n  }\n\n  function load_libs(js_urls, callback) {\n    root._bokeh_onload_callbacks.push(callback);\n    if (root._bokeh_is_loading > 0) {\n      console.log(\"Bokeh: BokehJS is being loaded, scheduling callback at\", now());\n      return null;\n    }\n    if (js_urls == null || js_urls.length === 0) {\n      run_callbacks();\n      return null;\n    }\n    console.log(\"Bokeh: BokehJS not loaded, scheduling load and callback at\", now());\n    root._bokeh_is_loading = js_urls.length;\n    for (var i = 0; i < js_urls.length; i++) {\n      var url = js_urls[i];\n      var s = document.createElement('script');\n      s.src = url;\n      s.async = false;\n      s.onreadystatechange = s.onload = function() {\n        root._bokeh_is_loading--;\n        if (root._bokeh_is_loading === 0) {\n          console.log(\"Bokeh: all BokehJS libraries loaded\");\n          run_callbacks()\n        }\n      };\n      s.onerror = function() {\n        console.warn(\"failed to load library \" + url);\n      };\n      console.log(\"Bokeh: injecting script tag for BokehJS library: \", url);\n      document.getElementsByTagName(\"head\")[0].appendChild(s);\n    }\n  };var element = document.getElementById(\"7d1fcfb1-7214-4b18-a91d-dc2aeeabc6e9\");\n  if (element == null) {\n    console.log(\"Bokeh: ERROR: autoload.js configured with elementid '7d1fcfb1-7214-4b18-a91d-dc2aeeabc6e9' but no matching script tag was found. \")\n    return false;\n  }\n\n  var js_urls = [\"https://cdn.pydata.org/bokeh/release/bokeh-0.12.13.min.js\", \"https://cdn.pydata.org/bokeh/release/bokeh-widgets-0.12.13.min.js\", \"https://cdn.pydata.org/bokeh/release/bokeh-tables-0.12.13.min.js\", \"https://cdn.pydata.org/bokeh/release/bokeh-gl-0.12.13.min.js\"];\n\n  var inline_js = [\n    function(Bokeh) {\n      Bokeh.set_log_level(\"info\");\n    },\n    \n    function(Bokeh) {\n      \n    },\n    function(Bokeh) {\n      console.log(\"Bokeh: injecting CSS: https://cdn.pydata.org/bokeh/release/bokeh-0.12.13.min.css\");\n      Bokeh.embed.inject_css(\"https://cdn.pydata.org/bokeh/release/bokeh-0.12.13.min.css\");\n      console.log(\"Bokeh: injecting CSS: https://cdn.pydata.org/bokeh/release/bokeh-widgets-0.12.13.min.css\");\n      Bokeh.embed.inject_css(\"https://cdn.pydata.org/bokeh/release/bokeh-widgets-0.12.13.min.css\");\n      console.log(\"Bokeh: injecting CSS: https://cdn.pydata.org/bokeh/release/bokeh-tables-0.12.13.min.css\");\n      Bokeh.embed.inject_css(\"https://cdn.pydata.org/bokeh/release/bokeh-tables-0.12.13.min.css\");\n    }\n  ];\n\n  function run_inline_js() {\n    \n    if ((root.Bokeh !== undefined) || (force === true)) {\n      for (var i = 0; i < inline_js.length; i++) {\n        inline_js[i].call(root, root.Bokeh);\n      }if (force === true) {\n        display_loaded();\n      }} else if (Date.now() < root._bokeh_timeout) {\n      setTimeout(run_inline_js, 100);\n    } else if (!root._bokeh_failed_load) {\n      console.log(\"Bokeh: BokehJS failed to load within specified timeout.\");\n      root._bokeh_failed_load = true;\n    } else if (force !== true) {\n      var cell = $(document.getElementById(\"7d1fcfb1-7214-4b18-a91d-dc2aeeabc6e9\")).parents('.cell').data().cell;\n      cell.output_area.append_execute_result(NB_LOAD_WARNING)\n    }\n\n  }\n\n  if (root._bokeh_is_loading === 0) {\n    console.log(\"Bokeh: BokehJS loaded, going straight to plotting\");\n    run_inline_js();\n  } else {\n    load_libs(js_urls, function() {\n      console.log(\"Bokeh: BokehJS plotting callback run at\", now());\n      run_inline_js();\n    });\n  }\n}(window));"
     },
     "metadata": {},
     "output_type": "display_data"
    },
    {
     "data": {
      "text/html": [
       "\n",
       "<div class=\"bk-root\">\n",
       "    <div class=\"bk-plotdiv\" id=\"b51b8746-c678-4255-8ad8-dae76ed4ecb8\"></div>\n",
       "</div>"
      ]
     },
     "metadata": {},
     "output_type": "display_data"
    },
    {
     "data": {
      "application/javascript": [
       "(function(root) {\n",
       "  function embed_document(root) {\n",
       "    \n",
       "  var docs_json = {\"090bd2b3-c16b-48ac-ba04-17c7079f7627\":{\"roots\":{\"references\":[{\"attributes\":{\"formatter\":{\"id\":\"301c12ad-a47a-4c4f-8530-edb65349c3ad\",\"type\":\"BasicTickFormatter\"},\"plot\":{\"id\":\"940bdec2-175e-4f36-b673-93b0eda402d4\",\"subtype\":\"Figure\",\"type\":\"Plot\"},\"ticker\":{\"id\":\"42628a2b-d062-400e-940f-f232015f54e0\",\"type\":\"BasicTicker\"}},\"id\":\"854ed734-f289-4db4-b37d-83829a259f1a\",\"type\":\"LinearAxis\"},{\"attributes\":{\"plot\":{\"id\":\"940bdec2-175e-4f36-b673-93b0eda402d4\",\"subtype\":\"Figure\",\"type\":\"Plot\"},\"ticker\":{\"id\":\"42628a2b-d062-400e-940f-f232015f54e0\",\"type\":\"BasicTicker\"}},\"id\":\"9de6466c-a909-4286-b6d9-e510b2e6971a\",\"type\":\"Grid\"},{\"attributes\":{\"fill_alpha\":{\"value\":0.5},\"fill_color\":{\"value\":\"red\"},\"line_color\":{\"value\":\"red\"},\"size\":{\"units\":\"screen\",\"value\":15},\"x\":{\"field\":\"x\"},\"y\":{\"field\":\"y\"}},\"id\":\"9df01551-ddfc-4689-a415-4923278de70c\",\"type\":\"Circle\"},{\"attributes\":{\"dimension\":1,\"plot\":{\"id\":\"940bdec2-175e-4f36-b673-93b0eda402d4\",\"subtype\":\"Figure\",\"type\":\"Plot\"},\"ticker\":{\"id\":\"333fc6eb-e13d-4f25-80b0-6e240e468d4a\",\"type\":\"LogTicker\"}},\"id\":\"154918d6-924f-4be4-9758-89dc1e8f9a3b\",\"type\":\"Grid\"},{\"attributes\":{\"formatter\":{\"id\":\"cb662bb4-d6f7-4d83-bcd2-1aa960c3da47\",\"type\":\"LogTickFormatter\"},\"plot\":{\"id\":\"940bdec2-175e-4f36-b673-93b0eda402d4\",\"subtype\":\"Figure\",\"type\":\"Plot\"},\"ticker\":{\"id\":\"333fc6eb-e13d-4f25-80b0-6e240e468d4a\",\"type\":\"LogTicker\"}},\"id\":\"a93fe4d0-fff0-4686-b6fb-dd0f77504d99\",\"type\":\"LogAxis\"},{\"attributes\":{},\"id\":\"e2b9f034-004f-49ee-97e6-ebffb6be3ccd\",\"type\":\"LogScale\"},{\"attributes\":{},\"id\":\"42628a2b-d062-400e-940f-f232015f54e0\",\"type\":\"BasicTicker\"},{\"attributes\":{\"source\":{\"id\":\"e2e6f0b3-891d-49da-8fea-3d740482bb75\",\"type\":\"ColumnDataSource\"}},\"id\":\"28a6111b-c0e7-474e-ac92-081fb77b24d0\",\"type\":\"CDSView\"},{\"attributes\":{\"fill_alpha\":{\"value\":0.5},\"fill_color\":{\"value\":\"blue\"},\"line_color\":{\"value\":\"blue\"},\"size\":{\"units\":\"screen\",\"value\":15},\"x\":{\"field\":\"x\"},\"y\":{\"field\":\"y\"}},\"id\":\"06af6213-2e2f-4e1c-8ef3-d76ede9853b5\",\"type\":\"Circle\"},{\"attributes\":{\"callback\":null,\"column_names\":[\"x\",\"y\"],\"data\":{\"x\":[0.01,0.02,0.03,0.04,0.05,0.06,0.07,0.08,0.09,0.1,0.11,0.12,0.13,0.14,0.15,0.16,0.17,0.18,0.19,0.2,0.21,0.22,0.23,0.24,0.25,0.26,0.27,0.28,0.29],\"y\":{\"__ndarray__\":\"AAAAAID9tT0AAADgf/0FPgAAAGOg3zQ+AACA4X/9VT4AALCg98ZwPgAACGOg34Q+AACwWteOlj4AAHrhf/2lPgAA/z1F0LM+AAC2oPfGwD4AAL54FgXLPgBABmOg39Q+AICj2nQl3z4AoK9a147mPgBgGRu62e8+AGB54X/99T4AYAKazMb9PgDo/j1F0AM/AFC5Rrr2CT8A7LWg98YQPwC4FGuWaRU/AAS+eBYFGz8AEsFOW98gPwA6BmOg3yQ/AJqZmZmZKT8AoKPadCUvPwD42LmxzjI/AKOvWteONj8ArX1IZuI6Pw==\",\"dtype\":\"float64\",\"shape\":[29]}}},\"id\":\"d0075c77-4de9-42f7-81bd-a520af8e2b3d\",\"type\":\"ColumnDataSource\"},{\"attributes\":{\"fill_alpha\":{\"value\":0.1},\"fill_color\":{\"value\":\"#1f77b4\"},\"line_alpha\":{\"value\":0.1},\"line_color\":{\"value\":\"#1f77b4\"},\"size\":{\"units\":\"screen\",\"value\":15},\"x\":{\"field\":\"x\"},\"y\":{\"field\":\"y\"}},\"id\":\"8d1cec55-c4ca-4ff1-a8c9-2eba660cf7e3\",\"type\":\"Circle\"},{\"attributes\":{\"bottom_units\":\"screen\",\"fill_alpha\":{\"value\":0.5},\"fill_color\":{\"value\":\"lightgrey\"},\"left_units\":\"screen\",\"level\":\"overlay\",\"line_alpha\":{\"value\":1.0},\"line_color\":{\"value\":\"black\"},\"line_dash\":[4,4],\"line_width\":{\"value\":2},\"plot\":null,\"render_mode\":\"css\",\"right_units\":\"screen\",\"top_units\":\"screen\"},\"id\":\"9079a737-ae17-4148-9341-78bb60964994\",\"type\":\"BoxAnnotation\"},{\"attributes\":{\"source\":{\"id\":\"d0075c77-4de9-42f7-81bd-a520af8e2b3d\",\"type\":\"ColumnDataSource\"}},\"id\":\"ecf29b9e-a1c1-4e8f-9511-d05f20f7328a\",\"type\":\"CDSView\"},{\"attributes\":{\"fill_alpha\":{\"value\":0.1},\"fill_color\":{\"value\":\"#1f77b4\"},\"line_alpha\":{\"value\":0.1},\"line_color\":{\"value\":\"#1f77b4\"},\"size\":{\"units\":\"screen\",\"value\":15},\"x\":{\"field\":\"x\"},\"y\":{\"field\":\"y\"}},\"id\":\"d94f7f04-c777-49e0-9f8b-adadc6385f86\",\"type\":\"Circle\"},{\"attributes\":{\"data_source\":{\"id\":\"d0075c77-4de9-42f7-81bd-a520af8e2b3d\",\"type\":\"ColumnDataSource\"},\"glyph\":{\"id\":\"0416a674-f69c-4eba-8c6a-4cbc8194a290\",\"type\":\"Circle\"},\"hover_glyph\":null,\"muted_glyph\":null,\"nonselection_glyph\":{\"id\":\"d94f7f04-c777-49e0-9f8b-adadc6385f86\",\"type\":\"Circle\"},\"selection_glyph\":null,\"view\":{\"id\":\"ecf29b9e-a1c1-4e8f-9511-d05f20f7328a\",\"type\":\"CDSView\"}},\"id\":\"f20bb713-46e9-4585-9905-bd5707c51b35\",\"type\":\"GlyphRenderer\"},{\"attributes\":{\"fill_alpha\":{\"value\":0.5},\"fill_color\":{\"value\":\"green\"},\"line_color\":{\"value\":\"green\"},\"size\":{\"units\":\"screen\",\"value\":15},\"x\":{\"field\":\"x\"},\"y\":{\"field\":\"y\"}},\"id\":\"0416a674-f69c-4eba-8c6a-4cbc8194a290\",\"type\":\"Circle\"},{\"attributes\":{\"fill_alpha\":{\"value\":0.1},\"fill_color\":{\"value\":\"#1f77b4\"},\"line_alpha\":{\"value\":0.1},\"line_color\":{\"value\":\"#1f77b4\"},\"size\":{\"units\":\"screen\",\"value\":15},\"x\":{\"field\":\"x\"},\"y\":{\"field\":\"y\"}},\"id\":\"f170f1c5-ae62-45b6-a64c-a870d927d683\",\"type\":\"Circle\"},{\"attributes\":{\"data_source\":{\"id\":\"e2e6f0b3-891d-49da-8fea-3d740482bb75\",\"type\":\"ColumnDataSource\"},\"glyph\":{\"id\":\"06af6213-2e2f-4e1c-8ef3-d76ede9853b5\",\"type\":\"Circle\"},\"hover_glyph\":null,\"muted_glyph\":null,\"nonselection_glyph\":{\"id\":\"8d1cec55-c4ca-4ff1-a8c9-2eba660cf7e3\",\"type\":\"Circle\"},\"selection_glyph\":null,\"view\":{\"id\":\"28a6111b-c0e7-474e-ac92-081fb77b24d0\",\"type\":\"CDSView\"}},\"id\":\"3652b728-badb-4d26-bb25-ed4f423430c5\",\"type\":\"GlyphRenderer\"},{\"attributes\":{},\"id\":\"301c12ad-a47a-4c4f-8530-edb65349c3ad\",\"type\":\"BasicTickFormatter\"},{\"attributes\":{},\"id\":\"f44945e2-7168-4bdd-804c-5632cb4f53fa\",\"type\":\"WheelZoomTool\"},{\"attributes\":{},\"id\":\"d509f08f-471c-466d-af3b-4e08b7428d50\",\"type\":\"HelpTool\"},{\"attributes\":{},\"id\":\"5bc2865c-181d-4329-b81d-f46135fbf5f0\",\"type\":\"ResetTool\"},{\"attributes\":{\"callback\":null,\"column_names\":[\"x\",\"y\"],\"data\":{\"x\":[0.01,0.02,0.03,0.04,0.05,0.06,0.07,0.08,0.09,0.1,0.11,0.12,0.13,0.14,0.15,0.16,0.17,0.18,0.19,0.2,0.21,0.22,0.23,0.24,0.25,0.26,0.27,0.28,0.29],\"y\":{\"__ndarray__\":\"AAAAYOhUBT4AAAD32iAyPgAAwGzSxVA+AACgokyPZj4AAFDOV/h4PgAA2KYVPog+AACEEixslT4AAKRvDKOhPgAA+ttVe6s+AACgmj58tD4AAC2FVXS9PgAAg2Spi8Q+AIC/KnTwyz4AgHe7xZXSPgDAVoqLQtg+AADIHDMl3z4A4Ejhe7PjPgCgO0DUmeg+ACAcCNRc7j4AMCQ4e4ryPgBATkUAbvY+AIC5oYDm+j4AIGlYFAEAPwAAouHk5wI/AJh8C20vBj8AwI1rut8JPwDYCQ4tAQ4/AGjiujtOET8AEBlOT90TPw==\",\"dtype\":\"float64\",\"shape\":[29]}}},\"id\":\"e2e6f0b3-891d-49da-8fea-3d740482bb75\",\"type\":\"ColumnDataSource\"},{\"attributes\":{},\"id\":\"39be74c6-8d16-4ca0-8d07-9e16a5fbb915\",\"type\":\"SaveTool\"},{\"attributes\":{\"ticker\":null},\"id\":\"cb662bb4-d6f7-4d83-bcd2-1aa960c3da47\",\"type\":\"LogTickFormatter\"},{\"attributes\":{\"overlay\":{\"id\":\"9079a737-ae17-4148-9341-78bb60964994\",\"type\":\"BoxAnnotation\"}},\"id\":\"46d937e5-949f-40fc-9198-1ccf604b1eab\",\"type\":\"BoxZoomTool\"},{\"attributes\":{\"active_drag\":\"auto\",\"active_inspect\":\"auto\",\"active_scroll\":\"auto\",\"active_tap\":\"auto\",\"tools\":[{\"id\":\"50f3743e-5bb8-4416-8b87-fa79f449e7b9\",\"type\":\"PanTool\"},{\"id\":\"f44945e2-7168-4bdd-804c-5632cb4f53fa\",\"type\":\"WheelZoomTool\"},{\"id\":\"46d937e5-949f-40fc-9198-1ccf604b1eab\",\"type\":\"BoxZoomTool\"},{\"id\":\"39be74c6-8d16-4ca0-8d07-9e16a5fbb915\",\"type\":\"SaveTool\"},{\"id\":\"5bc2865c-181d-4329-b81d-f46135fbf5f0\",\"type\":\"ResetTool\"},{\"id\":\"d509f08f-471c-466d-af3b-4e08b7428d50\",\"type\":\"HelpTool\"}]},\"id\":\"9e9b2ea5-6abd-481d-b21f-3372f00082d0\",\"type\":\"Toolbar\"},{\"attributes\":{\"data_source\":{\"id\":\"fce21bec-fa32-46f3-b694-3a01f23e35cb\",\"type\":\"ColumnDataSource\"},\"glyph\":{\"id\":\"9df01551-ddfc-4689-a415-4923278de70c\",\"type\":\"Circle\"},\"hover_glyph\":null,\"muted_glyph\":null,\"nonselection_glyph\":{\"id\":\"f170f1c5-ae62-45b6-a64c-a870d927d683\",\"type\":\"Circle\"},\"selection_glyph\":null,\"view\":{\"id\":\"244f25fc-f601-4fc2-b668-e93f27bfb438\",\"type\":\"CDSView\"}},\"id\":\"905af7dc-ae02-404a-808b-a05da2f3bc12\",\"type\":\"GlyphRenderer\"},{\"attributes\":{\"plot\":null,\"text\":\"\"},\"id\":\"14127ffe-d7ce-428f-b2be-136f1828b150\",\"type\":\"Title\"},{\"attributes\":{\"below\":[{\"id\":\"854ed734-f289-4db4-b37d-83829a259f1a\",\"type\":\"LinearAxis\"}],\"left\":[{\"id\":\"a93fe4d0-fff0-4686-b6fb-dd0f77504d99\",\"type\":\"LogAxis\"}],\"plot_height\":400,\"plot_width\":400,\"renderers\":[{\"id\":\"854ed734-f289-4db4-b37d-83829a259f1a\",\"type\":\"LinearAxis\"},{\"id\":\"9de6466c-a909-4286-b6d9-e510b2e6971a\",\"type\":\"Grid\"},{\"id\":\"a93fe4d0-fff0-4686-b6fb-dd0f77504d99\",\"type\":\"LogAxis\"},{\"id\":\"154918d6-924f-4be4-9758-89dc1e8f9a3b\",\"type\":\"Grid\"},{\"id\":\"9079a737-ae17-4148-9341-78bb60964994\",\"type\":\"BoxAnnotation\"},{\"id\":\"3652b728-badb-4d26-bb25-ed4f423430c5\",\"type\":\"GlyphRenderer\"},{\"id\":\"f20bb713-46e9-4585-9905-bd5707c51b35\",\"type\":\"GlyphRenderer\"},{\"id\":\"905af7dc-ae02-404a-808b-a05da2f3bc12\",\"type\":\"GlyphRenderer\"}],\"title\":{\"id\":\"14127ffe-d7ce-428f-b2be-136f1828b150\",\"type\":\"Title\"},\"toolbar\":{\"id\":\"9e9b2ea5-6abd-481d-b21f-3372f00082d0\",\"type\":\"Toolbar\"},\"x_range\":{\"id\":\"ded31651-6ed3-455e-b250-13e571791b73\",\"type\":\"DataRange1d\"},\"x_scale\":{\"id\":\"ff09573e-9cfb-4fda-8f33-a0a8079f9d16\",\"type\":\"LinearScale\"},\"y_range\":{\"id\":\"f0631477-1b10-43ea-8a98-0e1b1a535193\",\"type\":\"DataRange1d\"},\"y_scale\":{\"id\":\"e2b9f034-004f-49ee-97e6-ebffb6be3ccd\",\"type\":\"LogScale\"}},\"id\":\"940bdec2-175e-4f36-b673-93b0eda402d4\",\"subtype\":\"Figure\",\"type\":\"Plot\"},{\"attributes\":{},\"id\":\"50f3743e-5bb8-4416-8b87-fa79f449e7b9\",\"type\":\"PanTool\"},{\"attributes\":{\"callback\":null},\"id\":\"ded31651-6ed3-455e-b250-13e571791b73\",\"type\":\"DataRange1d\"},{\"attributes\":{\"num_minor_ticks\":10},\"id\":\"333fc6eb-e13d-4f25-80b0-6e240e468d4a\",\"type\":\"LogTicker\"},{\"attributes\":{\"source\":{\"id\":\"fce21bec-fa32-46f3-b694-3a01f23e35cb\",\"type\":\"ColumnDataSource\"}},\"id\":\"244f25fc-f601-4fc2-b668-e93f27bfb438\",\"type\":\"CDSView\"},{\"attributes\":{\"callback\":null,\"column_names\":[\"x\",\"y\"],\"data\":{\"x\":[0.01,0.02,0.03,0.04,0.05,0.06,0.07,0.08,0.09,0.1,0.11,0.12,0.13,0.14,0.15,0.16,0.17,0.18,0.19,0.2,0.21,0.22,0.23,0.24,0.25,0.26,0.27,0.28,0.29],\"y\":[7.499999999999999e-06,3.25e-05,8.750000000000001e-05,0.00018450000000000004,0.0003355000000000002,0.0005524999999999995,0.0008474999999999996,0.0012324999999999994,0.0017194999999999986,0.002320499999999999,0.003047499999999998,0.0039125000000000045,0.004927500000000005,0.0061045000000000075,0.007455500000000002,0.008992500000000014,0.01072750000000001,0.012672500000000005,0.014839500000000016,0.017240500000000027,0.019887500000000016,0.022792500000000014,0.025967500000000043,0.029424500000000027,0.03317550000000004,0.037232500000000016,0.041607500000000054,0.04631250000000004,0.05135950000000008]}},\"id\":\"fce21bec-fa32-46f3-b694-3a01f23e35cb\",\"type\":\"ColumnDataSource\"},{\"attributes\":{},\"id\":\"ff09573e-9cfb-4fda-8f33-a0a8079f9d16\",\"type\":\"LinearScale\"},{\"attributes\":{\"callback\":null},\"id\":\"f0631477-1b10-43ea-8a98-0e1b1a535193\",\"type\":\"DataRange1d\"}],\"root_ids\":[\"940bdec2-175e-4f36-b673-93b0eda402d4\"]},\"title\":\"Bokeh Application\",\"version\":\"0.12.13\"}};\n",
       "  var render_items = [{\"docid\":\"090bd2b3-c16b-48ac-ba04-17c7079f7627\",\"elementid\":\"b51b8746-c678-4255-8ad8-dae76ed4ecb8\",\"modelid\":\"940bdec2-175e-4f36-b673-93b0eda402d4\"}];\n",
       "  root.Bokeh.embed.embed_items_notebook(docs_json, render_items);\n",
       "\n",
       "  }\n",
       "  if (root.Bokeh !== undefined) {\n",
       "    embed_document(root);\n",
       "  } else {\n",
       "    var attempts = 0;\n",
       "    var timer = setInterval(function(root) {\n",
       "      if (root.Bokeh !== undefined) {\n",
       "        embed_document(root);\n",
       "        clearInterval(timer);\n",
       "      }\n",
       "      attempts++;\n",
       "      if (attempts > 100) {\n",
       "        console.log(\"Bokeh: ERROR: Unable to run BokehJS code because BokehJS library is missing\")\n",
       "        clearInterval(timer);\n",
       "      }\n",
       "    }, 10, root)\n",
       "  }\n",
       "})(window);"
      ],
      "application/vnd.bokehjs_exec.v0+json": ""
     },
     "metadata": {
      "application/vnd.bokehjs_exec.v0+json": {
       "id": "940bdec2-175e-4f36-b673-93b0eda402d4"
      }
     },
     "output_type": "display_data"
    }
   ],
   "source": [
    "from bokeh.io import output_notebook, show\n",
    "from bokeh.plotting import figure\n",
    "output_notebook()\n",
    "# create a new plot with default tools, using figure\n",
    "p = figure(plot_width=400, plot_height=400, y_axis_type=\"log\")\n",
    "\n",
    "# add a circle renderer with x and y coordinates, size, color, and alpha\n",
    "p.circle(tvals,np.array(integralvals)-0.1, size=15, line_color=\"blue\", fill_color=\"blue\", fill_alpha=0.5)\n",
    "p.circle(tvals,np.array(solnanalytic)-0.1, size=15, line_color=\"green\",fill_color=\"green\", fill_alpha=0.5)\n",
    "#p.circle(tvals,np.array(solnanalytic)-np.array(integralvals),size=15, line_color=\"red\", fill_color=\"red\", fill_alpha=0.5)\n",
    "p.circle(tvals,eintegralvals, size=15, line_color=\"red\", fill_color=\"red\", fill_alpha=0.5)\n",
    "show(p) # show the results"
   ]
  },
  {
   "cell_type": "markdown",
   "metadata": {},
   "source": [
    "# Two Body, Earth and Sun"
   ]
  },
  {
   "cell_type": "markdown",
   "metadata": {},
   "source": [
    "Generate iniitial data for two body problem, Sun and Earth, using reduced mass framework."
   ]
  },
  {
   "cell_type": "code",
   "execution_count": 10,
   "metadata": {},
   "outputs": [],
   "source": [
    "import math\n",
    "def InitialData():\n",
    "    random.seed(a=9001)\n",
    "    \n",
    "    #initially use an in plane orbit with random starting locations relative to the x axis\n",
    "    phi=np.array([0,math.pi])\n",
    "    orbitangle=np.zeros(2)\n",
    "    #orbitalradius=np.random.uniform(.1,50,2)\n",
    "    orbitalradius=np.ones(2)\n",
    "    #start with circular orbits\n",
    "    #eccentricity=np.random.uniform(0.,.1,2)\n",
    "    eccentricity=np.zeros(2)\n",
    "    #magnitude=np.random.uniform(-20,-30,2) #absolute not apparent maginutde\n",
    "    #magsun=-26.832\n",
    "    masssun=1.989*10**30\n",
    "    lsun=3.828*10**26\n",
    "    massearth=5.9722*10**24\n",
    "    #luminosity=lsun*10**(0.4*(magnitude-magsun))\n",
    "    #masses= invertIMF(luminosity,lsun,masssun) #Initial mass function for Main Sequence\n",
    "    #masses=np.random.uniform(.7,5.) #replace with IMF\n",
    "    masses=np.array([masssun,massearth])\n",
    "\n",
    "    return phi,orbitangle,orbitalradius,eccentricity, masses\n",
    "\n"
   ]
  },
  {
   "cell_type": "code",
   "execution_count": 11,
   "metadata": {},
   "outputs": [],
   "source": [
    "import random,numpy as np\n",
    "initdat=InitialData()"
   ]
  },
  {
   "cell_type": "code",
   "execution_count": 12,
   "metadata": {},
   "outputs": [
    {
     "name": "stdout",
     "output_type": "stream",
     "text": [
      "(array([0.        , 3.14159265]), array([0., 0.]), array([1., 1.]), array([0., 0.]), array([1.9890e+30, 5.9722e+24]))\n"
     ]
    }
   ],
   "source": [
    "print(initdat)"
   ]
  },
  {
   "cell_type": "markdown",
   "metadata": {},
   "source": [
    "Transform cylindrical initial data to x,y,z, velocity, acceleration initial data"
   ]
  },
  {
   "cell_type": "code",
   "execution_count": 13,
   "metadata": {},
   "outputs": [],
   "source": [
    "def getxyuv(initdat):\n",
    "    phi,orbitangle,orbitalradius,eccentricity, masses=initdat\n",
    "    #print(orbitalradius, phi, np.cos(phi), np.sin(phi))\n",
    "    metersperAU=149597870700\n",
    "    Gconstant=6.408*10**-11\n",
    "    x0=orbitalradius*np.cos(phi)*metersperAU\n",
    "    y0=orbitalradius*np.sin(phi)*metersperAU\n",
    "    z0=np.zeros(2)\n",
    "    \n",
    "\n",
    "    \n",
    "    #start at perihelion for both (eliptical, doesn't generalize to three body)\n",
    "    #actually start with circular orbit\n",
    "    ux0=np.zeros(2)*149597870700\n",
    "    #centrepital force balances gravitational force\n",
    "    reducedmass=np.zeros(2)\n",
    "    print(masses)\n",
    "    for i in np.arange(2):\n",
    "        j=(i+1)%2 #reverse masses\n",
    "        reducedmass[i]=masses[i]*masses[j]/np.sum(masses)\n",
    "    print(reducedmass)\n",
    "    rphys=np.zeros(len(masses))\n",
    "    for i in np.arange(2):\n",
    "        rphys[i]=orbitalradius[i]*metersperAU*reducedmass[i]/masses[i]\n",
    "    x0=rphys*np.cos(phi)\n",
    "    y0=rphys*np.sin(phi)\n",
    "    z0=np.zeros(2)\n",
    "    print(rphys)\n",
    "    F=(Gconstant*reducedmass**2/rphys**2)\n",
    "    print(F)\n",
    "    #centF=reducedmass*v**2/rphys\n",
    "    #centF=accel\n",
    "    v=np.sqrt(Gconstant*reducedmass/rphys)\n",
    "    print(v)\n",
    "    ux0=v*np.sin(phi)\n",
    "    uy0=v*np.cos(phi) #initial data in y only\n",
    "    #evolve in plane only\n",
    "    #there is a units problem that needs to be fixed\n",
    "    #velocity initial conditions are not trivial. \n",
    "    uz0=np.zeros(2)\n",
    "    \n",
    "    #circular orbit   #a=omega^2 * r #v=omega*r #omega=v/r\n",
    "    omega=v/rphys\n",
    "    print(omega)\n",
    "    omegatrue=np.mean(omega) #shouldaccount for numerical effects\n",
    "    print(omegatrue)\n",
    "    a=omegatrue**2*rphys\n",
    "    print(\"a\",a)\n",
    "    print(phi)\n",
    "    ax0=-a*np.cos(phi)\n",
    "    ay0=-a*np.sin(phi)\n",
    "    az0=np.zeros(2)\n",
    "    \n",
    "    \n",
    "    return reducedmass,x0,y0,z0, ux0, uy0,uz0, ax0, ay0,az0"
   ]
  },
  {
   "cell_type": "code",
   "execution_count": 14,
   "metadata": {},
   "outputs": [
    {
     "name": "stdout",
     "output_type": "stream",
     "text": [
      "[1.9890e+30 5.9722e+24]\n",
      "[5.97218207e+24 5.97218207e+24]\n",
      "[4.49183369e+05 1.49597422e+11]\n",
      "[1.13276871e+28 1.02126951e+17]\n",
      "[29188.7795877     50.57847341]\n",
      "[6.49818796e-02 3.38097227e-10]\n",
      "0.032490939958166556\n",
      "a [4.74185445e+02 1.57924190e+08]\n",
      "[0.         3.14159265]\n",
      "(array([5.97218207e+24, 5.97218207e+24]), array([ 4.49183369e+05, -1.49597422e+11]), array([0.00000000e+00, 1.83204003e-05]), array([0., 0.]), array([0.00000000e+00, 6.19407656e-15]), array([29188.7795877 ,   -50.57847341]), array([0., 0.]), array([-4.74185445e+02,  1.57924190e+08]), array([-0.00000000e+00, -1.93401354e-08]), array([0., 0.]))\n",
      "449183.36891987134\n",
      "1.0\n",
      "(array([5.97218207e+24, 5.97218207e+24]), array([ 4.49183369e+05, -1.49597422e+11]), array([0.00000000e+00, 1.83204003e-05]), array([0., 0.]), array([0.00000000e+00, 6.19407656e-15]), array([29188.7795877 ,   -50.57847341]), array([0., 0.]), array([-4.74185445e+02,  1.57924190e+08]), array([-0.00000000e+00, -1.93401354e-08]), array([0., 0.]))\n"
     ]
    }
   ],
   "source": [
    "xyuva=getxyuv(initdat)\n",
    "print(xyuva)#In SI units\n",
    "print(xyuva[1][0])\n",
    "print(xyuva[0][0]/xyuva[0][1])\n",
    "print(xyuva)"
   ]
  },
  {
   "cell_type": "markdown",
   "metadata": {},
   "source": [
    "Time stepping routine using Euler method and Newtonian differential equation for two body system"
   ]
  },
  {
   "cell_type": "code",
   "execution_count": 15,
   "metadata": {},
   "outputs": [],
   "source": [
    "def timestep(step,t,dt,reducedmass,xi,yi,zi, vxi, vyi, vzi, axi, ayi, azi):\n",
    "    xii=np.zeros(np.size(xi))\n",
    "    vxii=np.zeros(np.size(vx))\n",
    "    yii=np.zeros(np.size(yi))\n",
    "    vyii=np.zeros(np.size(vy))\n",
    "    zii=np.zeros(np.size(vzi))\n",
    "    vzii=np.zeros(np.size(vzi))\n",
    "    rii=np.zeros(np.size(xi))\n",
    "    axii=axi\n",
    "    ayii=ayi\n",
    "    azii=azi\n",
    "    \n",
    "    for m in np.arange(len(x)):\n",
    "        #m represents choices of mass\n",
    "        i=step\n",
    "        \n",
    "        xii[m] = xi[m] + dt*vxi[m]\n",
    "        #print(xii)\n",
    "        vxii[m] = vxi[m] + dt*axi[m]\n",
    "        #print(vxii)\n",
    "        yii[m]= yi[m] + dt*vyi[m]\n",
    "        vyii[m] = vyi[m] + dt*ayi[m]\n",
    "        zii[m]= zi[m] + dt*vzi[m]\n",
    "        vzii[m] = vzi[m] + dt*azi[m]\n",
    "        rii[m]=np.sqrt(xi[m]**2+yi[m]**2+zi[m]**2)\n",
    "    \n",
    "    \n",
    "    Gconstant=6.408*10**-11\n",
    "    for k in np.arange(len(rii)):\n",
    "        for j in np.arange(len(rii)):\n",
    "            if j!=k:\n",
    "                rreljk=np.abs((xi[j] - xi[k])**2+(yi[j]-yi[k])**2+(zi[j]-zi[k])**2)**(1./2.)\n",
    "                axii[j]+=Gconstant*reducedmass[k]*(xi[j]  - xi[k])/rreljk**3\n",
    "                ayii[j]+=Gconstant*reducedmass[k]*(yi[j]  - yi[k])/rreljk**3\n",
    "                azii[j]+=Gconstant*reducedmass[k]*(zi[j]  - zi[k])/rreljk**3\n",
    "    #print(xii)\n",
    "    return reducedmass, xii,yii,zii,vxii,vyii,vzii,axii,ayii,azii\n",
    "                    "
   ]
  },
  {
   "cell_type": "markdown",
   "metadata": {},
   "source": [
    "Run over several time steps and print"
   ]
  },
  {
   "cell_type": "code",
   "execution_count": 16,
   "metadata": {},
   "outputs": [
    {
     "name": "stdout",
     "output_type": "stream",
     "text": [
      "[ 4.49183369e+05 -1.49597422e+11] [ 9.21108157e+09 -1.59610114e+07] [-1.49638350e+08  4.98360199e+13] [29188.7795877    -50.58457657] [-4.74185445e+02  1.57924190e+08] [-2.09418125e-24 -1.93401354e-08]\n",
      "[-4.72212629e+13  1.57267158e+19] [ 1.84221631e+10 -3.19239488e+07] [-2.99276700e+08  9.96720398e+13] [29188.7795877    -50.59067972] [-4.74185445e+02  1.57924190e+08] [ 1.04874102e-09 -2.03888765e-08]\n",
      "[-1.41663790e+14  4.71801476e+19] [ 2.76332447e+10 -4.78888122e+07] [-4.4891505e+08  1.4950806e+14] [29188.77991865   -50.59711382] [-4.74185445e+02  1.57924190e+08] [ 1.04874102e-09 -2.03888765e-08]\n",
      "[-2.83327580e+14  9.43602954e+19] [ 3.68443264e+10 -6.38557059e+07] [-5.9855340e+08  1.9934408e+14] [29188.7802496    -50.60354792] [-4.74185445e+02  1.57924190e+08] [ 1.04874102e-09 -2.03888765e-08]\n"
     ]
    }
   ],
   "source": [
    "dt=0.01*31556926 #seconds per year\n",
    "numsteps=5\n",
    "mass,x,y,z,vx,vy,vz,ax,ay,az=xyuva\n",
    "for i in np.arange(1,numsteps):\n",
    "    t=0.+i*numsteps*dt\n",
    "    mass, x,y,z,vx,vy,vz,ax,ay,az=timestep(i,t,dt,mass,x,y,z,vx,vy,vz,ax,ay,az)\n",
    "    print(x,y,vx,vy,ax,ay)\n",
    "    #print(ay) #forces should be equal and opposite, but in reduced mass framework accelerations are also equal and opposite\n",
    "    #accelerations should evolve from y to x with time in a sinusoidal manner even in reduced mass framework\n",
    "    #print(ax)\n",
    "#mass, x,y,z,vx,vy,vz,ax,ay,az=timestep(2,0,dt,mass,x,y,z,vx,vy,vz,ax,ay,az)\n",
    "#print(x,y,vx,vy,ax,ay) \n",
    "#mass, x,y,z,vx,vy,vz,ax,ay,az=timestep(3,0,dt,mass,x,y,z,vx,vy,vz,ax,ay,az)\n",
    "#print(x,y,vx,vy,ax,ay) \n",
    "#mass, x,y,z,vx,vy,vz,ax,ay,az=timestep(4,0,dt,mass,x,y,z,vx,vy,vz,ax,ay,az)\n",
    "#print(x,y,vx,vy,ax,ay) "
   ]
  },
  {
   "cell_type": "markdown",
   "metadata": {},
   "source": [
    "Object for storing the orbital differential equation and evolving using implicit RK4 using Newtonian differential equation for two body system"
   ]
  },
  {
   "cell_type": "code",
   "execution_count": 17,
   "metadata": {},
   "outputs": [],
   "source": [
    "class OrbitDiffEq:\n",
    "    def __init__(self,reducedmass,x0,y0,z0, ux0, uy0,uz0, ax0, ay0,az0):\n",
    "        self.reducedmass=reducedmass\n",
    "        self.xi=x0\n",
    "        self.yi=y0\n",
    "        self.zi=z0\n",
    "        self.vxi=ux0\n",
    "        self.vyi=uy0\n",
    "        self.vzi=uz0\n",
    "        self.axi=ax0\n",
    "        self.ayi=ay0\n",
    "        self.azi=az0\n",
    "    def dxidt(self,t):\n",
    "        return self.vxi\n",
    "    def dyidt(self,t):\n",
    "        return self.vyi\n",
    "    def dzidt(self,t):\n",
    "        return self.vzi\n",
    "    def dvxidt(self,t):\n",
    "        #return axi[m]\n",
    "        axii=self.axi\n",
    "        rii=np.sqrt(self.xi**2+self.yi**2+self.zi**2)\n",
    "        Gconstant=6.408*10**-11\n",
    "        for k in np.arange(len(rii)):\n",
    "            for j in np.arange(len(rii)):\n",
    "                if j!=k:\n",
    "                    rreljk=np.abs((self.xi[j] - self.xi[k])**2+(self.yi[j]-self.yi[k])**2+(self.zi[j]-self.zi[k])**2)**(1./2.)\n",
    "                    axii[j]+=Gconstant*self.reducedmass[k]*(self.xi[j]  - self.xi[k])/rreljk**3\n",
    "        self.axi=axii\n",
    "        return axii\n",
    "    def dvyidt(self,t):\n",
    "        #return axi[m]\n",
    "        ayii=self.ayi\n",
    "        rii=np.sqrt(self.xi**2+self.yi**2+self.zi**2)\n",
    "        Gconstant=6.408*10**-11\n",
    "        for k in np.arange(len(rii)):\n",
    "            for j in np.arange(len(rii)):\n",
    "                if j!=k:\n",
    "                    rreljk=np.abs((self.xi[j] - self.xi[k])**2+(self.yi[j]-self.yi[k])**2+(self.zi[j]-self.zi[k])**2)**(1./2.)\n",
    "                    ayii[j]+=Gconstant*self.reducedmass[k]*(self.yi[j]  - self.yi[k])/rreljk**3\n",
    "        self.ayi=ayii\n",
    "        return ayii\n",
    "    def dvzidt(self,t):\n",
    "        #return axi[m]\n",
    "        azii=self.azi\n",
    "        rii=np.sqrt(self.xi**2+self.yi**2+self.zi**2)\n",
    "        Gconstant=6.408*10**-11\n",
    "        for k in np.arange(len(rii)):\n",
    "            for j in np.arange(len(rii)):\n",
    "                if j!=k:\n",
    "                    rreljk=np.abs((self.xi[j] - self.xi[k])**2+(self.yi[j]-self.yi[k])**2+(self.zi[j]-self.zi[k])**2)**(1./2.)\n",
    "                    azii[j]+=Gconstant*self.reducedmass[k]*(self.zi[j]  - self.zi[k])/rreljk**3\n",
    "        self.azi=azii\n",
    "        return azii\n",
    "    def updateINTERNAL(self,xii,yii,zii,vxii,vyii,vzii):\n",
    "        self.xi=xii\n",
    "        self.yi=yii\n",
    "        self.zi=zii\n",
    "        self.vxi=vxii\n",
    "        self.vyi=vyii\n",
    "        self.vzi=vzii\n",
    "        return self\n",
    "    def update(self,xii,yii,zii,vxii,vyii,vzii,axii,ayii,azii):\n",
    "        self.xi=xii\n",
    "        self.yi=yii\n",
    "        self.zi=zii\n",
    "        self.vxi=vxii\n",
    "        self.vyi=vyii\n",
    "        self.vzi=vzii\n",
    "        self.axi=axii\n",
    "        self.ayi=ayii\n",
    "        self.azi=azii\n",
    "    def print2D(self):\n",
    "        print(self.xi,self.yi,self.vxi,self.vyi,self.axi,self.ayi)\n",
    "        return self\n",
    "    def list2D(self):\n",
    "        return self.xi,self.yi,self.vxi,self.vyi,self.axi,self.ayi\n",
    "    def timestepRK4ODE(self,step,t,dt):\n",
    "\n",
    "    \n",
    "        h=dt\n",
    "        #tnew,ynew, intval=RK4(h,t,y,f)\n",
    "        #m represents choices of mass\n",
    "        i=step\n",
    "        \n",
    "        tnew,intvalx=RK4implicit(h,t,self.dxidt)\n",
    "        xii = intvalx\n",
    "        tnew,intvalvx=RK4implicit(h,t,self.dvxidt)\n",
    "        vxii=intvalvx\n",
    "        tnew,intvaly=RK4implicit(h,t,self.dyidt)\n",
    "        yii = intvaly\n",
    "        tnew,intvalvy=RK4implicit(h,t,self.dvyidt)\n",
    "        vyii=intvalvy\n",
    "        tnew,intvalz=RK4implicit(h,t,self.dzidt)\n",
    "        zii = intvalz\n",
    "        tnew,intvalvz=RK4implicit(h,t,self.dvzidt)\n",
    "        vzii=intvalvz\n",
    " \n",
    "        #print(xii)\n",
    "        self.updateINTERNAL(xii,yii,zii,vxii,vyii,vzii)\n",
    "        return reducedmass, xii,yii,zii,vxii,vyii,vzii,self.axi,self.ayi,self.azi"
   ]
  },
  {
   "cell_type": "markdown",
   "metadata": {},
   "source": [
    "Implicit RK4"
   ]
  },
  {
   "cell_type": "code",
   "execution_count": 18,
   "metadata": {},
   "outputs": [],
   "source": [
    "def RK4implicit(h,t,f): #not a finite difference so no step in y\n",
    "    k1= h*f(t)\n",
    "    k2=h*f(t+h/2.)\n",
    "    k3=h*f(t+h/2.)\n",
    "    k4=h*f(t+h)\n",
    "    return t+h, f(t)+1/6.*(k1+2.*k2+2.*k3+k4)\n",
    "\n",
    "\n"
   ]
  },
  {
   "cell_type": "markdown",
   "metadata": {},
   "source": [
    "Initialize iniitial conditions "
   ]
  },
  {
   "cell_type": "code",
   "execution_count": 19,
   "metadata": {},
   "outputs": [
    {
     "name": "stdout",
     "output_type": "stream",
     "text": [
      "[ 4.49183369e+05 -1.49597422e+11] [0.00000000e+00 1.83204003e-05] [0.00000000e+00 6.19407656e-15] [29188.7795877    -50.57847341] [-4.74185445e+02  1.57924190e+08] [ 1.04874102e-09 -2.03888765e-08]\n"
     ]
    },
    {
     "data": {
      "text/plain": [
       "<__main__.OrbitDiffEq at 0x10cd3ab00>"
      ]
     },
     "execution_count": 19,
     "metadata": {},
     "output_type": "execute_result"
    }
   ],
   "source": [
    "reducedmass,x0,y0,z0, ux0, uy0,uz0, ax0, ay0,az0=xyuva\n",
    "ODE= OrbitDiffEq(reducedmass,x0,y0,z0, ux0, uy0,uz0, ax0, ay0,az0)\n",
    "ODE.print2D()"
   ]
  },
  {
   "cell_type": "markdown",
   "metadata": {},
   "source": [
    "Extract coordinates"
   ]
  },
  {
   "cell_type": "code",
   "execution_count": 20,
   "metadata": {},
   "outputs": [
    {
     "name": "stdout",
     "output_type": "stream",
     "text": [
      "[ 4.49183369e+05 -1.49597422e+11] [0.00000000e+00 1.83204003e-05] [0.00000000e+00 6.19407656e-15] [29188.7795877    -50.57847341] [-4.74185445e+02  1.57924190e+08] [ 1.04874102e-09 -2.03888765e-08]\n",
      "(array([5.97218207e+24, 5.97218207e+24]), array([ 4.49183369e+05, -1.49597422e+11]), array([0.00000000e+00, 1.83204003e-05]), array([0., 0.]), array([0.00000000e+00, 6.19407656e-15]), array([29188.7795877 ,   -50.57847341]), array([0., 0.]), array([-4.74185445e+02,  1.57924190e+08]), array([ 1.04874102e-09, -2.03888765e-08]), array([0., 0.]))\n"
     ]
    }
   ],
   "source": [
    "mass,x,y,z,vx,vy,vz,ax,ay,az=xyuva\n",
    "print(x,y,vx,vy,ax,ay)\n",
    "print(xyuva)"
   ]
  },
  {
   "cell_type": "markdown",
   "metadata": {},
   "source": [
    "Evolve the differential equation and print"
   ]
  },
  {
   "cell_type": "code",
   "execution_count": 21,
   "metadata": {},
   "outputs": [
    {
     "name": "stdout",
     "output_type": "stream",
     "text": [
      "[ 4.49183369e+05 -1.49597422e+11] [0.00000000e+00 1.83204003e-05] [0.00000000e+00 6.19407656e-15] [29188.7795877    -50.57847341] [-4.74185445e+02  1.57924190e+08] [ 1.04874102e-09 -2.03888765e-08]\n",
      "[0.0000000e+00 1.9547221e-10] [ 9.21137346e+08 -1.59615172e+06] [-1.49643092e+07  4.98375992e+12] [ 3.30960916e-05 -6.43430654e-04] [-4.74185445e+02  1.57924190e+08] [ 1.04874102e-09 -2.03888765e-08]\n",
      "[-4.72242562e+11  1.57277127e+17] [  1.04444401 -20.30533698] [-1.49643092e+07  4.98375992e+12] [ 35.46219366 -35.46280399] [-4.74185445e+02  1.57924190e+08] [ 0.00224736 -0.00224738]\n",
      "[-4.72242562e+11  1.57277127e+17] [ 1119113.28317089 -1119132.54406386] [-1.49643092e+07  4.98375992e+12] [ 70.92210685 -70.92271719] [-4.74185445e+02  1.57924190e+08] [ 0.00224736 -0.00224738]\n",
      "[-4.72242562e+11  1.57277127e+17] [ 2238154.59982401 -2238173.86071698] [-1.49643092e+07  4.98375992e+12] [ 70.92210685 -70.92271719] [-4.74185445e+02  1.57924190e+08] [ 0.00224736 -0.00224738]\n"
     ]
    }
   ],
   "source": [
    "dt=0.001*31556926 #seconds per year\n",
    "numsteps=5\n",
    "reducedmass,x,y,z,vx,vy,vz,ax,ay,az=xyuva\n",
    "ODE.print2D()\n",
    "for i in np.arange(1,numsteps):\n",
    "    t=0.+i*numsteps*dt\n",
    "    reducedmass, x,y,z,vx,vy,vz,ax,ay,az=ODE.timestepRK4ODE(i,t,dt)\n",
    "    ODE.print2D()\n",
    "    ODE.update(x,y,z,vx,vy,vz,ax,ay,az)\n",
    "\n"
   ]
  },
  {
   "cell_type": "code",
   "execution_count": 22,
   "metadata": {},
   "outputs": [],
   "source": [
    "secperyr=31556926"
   ]
  },
  {
   "cell_type": "markdown",
   "metadata": {},
   "source": [
    "Evolve the differential equation and store in a pandas data frame for later plotting"
   ]
  },
  {
   "cell_type": "code",
   "execution_count": 23,
   "metadata": {},
   "outputs": [],
   "source": [
    "ODE2= OrbitDiffEq(reducedmass,x0,y0,z0, ux0, uy0,uz0, ax0, ay0,az0)\n",
    "\n"
   ]
  },
  {
   "cell_type": "code",
   "execution_count": 24,
   "metadata": {},
   "outputs": [],
   "source": [
    "dt=0.01*31556926 #seconds per year\n",
    "numsteps=5\n",
    "reducedmass,x,y,z,vx,vy,vz,ax,ay,az=xyuva\n",
    "datainit=[[0,0.0,x,y,z,vx,vy,vz,ax,ay,az]]\n",
    "import pandas as pd\n",
    "columns =['step','time','x' ,'y','z','vx','vy','vz','ax','ay','az']\n",
    "df = pd.DataFrame(data=datainit, columns=columns)\n",
    "\n",
    "\n"
   ]
  },
  {
   "cell_type": "code",
   "execution_count": null,
   "metadata": {},
   "outputs": [],
   "source": []
  },
  {
   "cell_type": "code",
   "execution_count": 25,
   "metadata": {},
   "outputs": [
    {
     "data": {
      "text/html": [
       "<div>\n",
       "<style scoped>\n",
       "    .dataframe tbody tr th:only-of-type {\n",
       "        vertical-align: middle;\n",
       "    }\n",
       "\n",
       "    .dataframe tbody tr th {\n",
       "        vertical-align: top;\n",
       "    }\n",
       "\n",
       "    .dataframe thead th {\n",
       "        text-align: right;\n",
       "    }\n",
       "</style>\n",
       "<table border=\"1\" class=\"dataframe\">\n",
       "  <thead>\n",
       "    <tr style=\"text-align: right;\">\n",
       "      <th></th>\n",
       "      <th>step</th>\n",
       "      <th>time</th>\n",
       "      <th>x</th>\n",
       "      <th>y</th>\n",
       "      <th>z</th>\n",
       "      <th>vx</th>\n",
       "      <th>vy</th>\n",
       "      <th>vz</th>\n",
       "      <th>ax</th>\n",
       "      <th>ay</th>\n",
       "      <th>az</th>\n",
       "    </tr>\n",
       "  </thead>\n",
       "  <tbody>\n",
       "    <tr>\n",
       "      <th>0</th>\n",
       "      <td>0</td>\n",
       "      <td>0.0</td>\n",
       "      <td>[449183.36891987134, -149597421516.63107]</td>\n",
       "      <td>[0.0, 1.8320400342103965e-05]</td>\n",
       "      <td>[0.0, 0.0]</td>\n",
       "      <td>[0.0, 6.194076557160162e-15]</td>\n",
       "      <td>[29188.779587697383, -50.57847341349946]</td>\n",
       "      <td>[0.0, 0.0]</td>\n",
       "      <td>[-474.1854448655729, 157924190.42823714]</td>\n",
       "      <td>[0.002247362733938104, -0.0022473820740735355]</td>\n",
       "      <td>[0.0, 0.0]</td>\n",
       "    </tr>\n",
       "  </tbody>\n",
       "</table>\n",
       "</div>"
      ],
      "text/plain": [
       "   step  time                                          x  \\\n",
       "0     0   0.0  [449183.36891987134, -149597421516.63107]   \n",
       "\n",
       "                               y           z                            vx  \\\n",
       "0  [0.0, 1.8320400342103965e-05]  [0.0, 0.0]  [0.0, 6.194076557160162e-15]   \n",
       "\n",
       "                                         vy          vz  \\\n",
       "0  [29188.779587697383, -50.57847341349946]  [0.0, 0.0]   \n",
       "\n",
       "                                         ax  \\\n",
       "0  [-474.1854448655729, 157924190.42823714]   \n",
       "\n",
       "                                               ay          az  \n",
       "0  [0.002247362733938104, -0.0022473820740735355]  [0.0, 0.0]  "
      ]
     },
     "metadata": {},
     "output_type": "display_data"
    }
   ],
   "source": [
    "display(df)"
   ]
  },
  {
   "cell_type": "code",
   "execution_count": 26,
   "metadata": {},
   "outputs": [],
   "source": [
    "for i in np.arange(1,numsteps):\n",
    "    t=0.+i*numsteps*dt\n",
    "    reducedmass, x,y,z,vx,vy,vz,ax,ay,az=ODE2.timestepRK4ODE(i,t,dt)\n",
    "    df.loc[i]=i,t,x,y,z,vx,vy,vz,ax,ay,az\n",
    "    ODE2.update(x,y,z,vx,vy,vz,ax,ay,az)\n"
   ]
  },
  {
   "cell_type": "code",
   "execution_count": 27,
   "metadata": {},
   "outputs": [
    {
     "data": {
      "text/html": [
       "<div>\n",
       "<style scoped>\n",
       "    .dataframe tbody tr th:only-of-type {\n",
       "        vertical-align: middle;\n",
       "    }\n",
       "\n",
       "    .dataframe tbody tr th {\n",
       "        vertical-align: top;\n",
       "    }\n",
       "\n",
       "    .dataframe thead th {\n",
       "        text-align: right;\n",
       "    }\n",
       "</style>\n",
       "<table border=\"1\" class=\"dataframe\">\n",
       "  <thead>\n",
       "    <tr style=\"text-align: right;\">\n",
       "      <th></th>\n",
       "      <th>step</th>\n",
       "      <th>time</th>\n",
       "      <th>x</th>\n",
       "      <th>y</th>\n",
       "      <th>z</th>\n",
       "      <th>vx</th>\n",
       "      <th>vy</th>\n",
       "      <th>vz</th>\n",
       "      <th>ax</th>\n",
       "      <th>ay</th>\n",
       "      <th>az</th>\n",
       "    </tr>\n",
       "  </thead>\n",
       "  <tbody>\n",
       "    <tr>\n",
       "      <th>0</th>\n",
       "      <td>0</td>\n",
       "      <td>0.0</td>\n",
       "      <td>[449183.36891987134, -149597421516.63107]</td>\n",
       "      <td>[0.0, 1.8320400342103965e-05]</td>\n",
       "      <td>[0.0, 0.0]</td>\n",
       "      <td>[0.0, 6.194076557160162e-15]</td>\n",
       "      <td>[29188.779587697383, -50.57847341349946]</td>\n",
       "      <td>[0.0, 0.0]</td>\n",
       "      <td>[-474.1854447800713, 157924190.428237]</td>\n",
       "      <td>[0.0022698376326943694, -0.002269856972829801]</td>\n",
       "      <td>[0.0, 0.0]</td>\n",
       "    </tr>\n",
       "    <tr>\n",
       "      <th>1</th>\n",
       "      <td>1</td>\n",
       "      <td>1577846.3</td>\n",
       "      <td>[0.0, 1.9546663496029367e-09]</td>\n",
       "      <td>[9211110763.572353, -15961062.00550111]</td>\n",
       "      <td>[0.0, 0.0]</td>\n",
       "      <td>[-149638824.11095357, 49836177833728.28]</td>\n",
       "      <td>[709.2008422631583, -709.2069454347248]</td>\n",
       "      <td>[0.0, 0.0]</td>\n",
       "      <td>[-474.1854447800713, 157924190.428237]</td>\n",
       "      <td>[0.0022698376326943694, -0.002269856972829801]</td>\n",
       "      <td>[0.0, 0.0]</td>\n",
       "    </tr>\n",
       "    <tr>\n",
       "      <th>2</th>\n",
       "      <td>2</td>\n",
       "      <td>3155692.6</td>\n",
       "      <td>[-47221562630787.875, 1.5726815596395868e+19]</td>\n",
       "      <td>[223802694.18520382, -223804620.16464195]</td>\n",
       "      <td>[0.0, 0.0]</td>\n",
       "      <td>[-149638824.0974627, 49836177833728.26]</td>\n",
       "      <td>[712.7470583226017, -712.7531614941684]</td>\n",
       "      <td>[0.0, 0.0]</td>\n",
       "      <td>[-474.1854447800713, 157924190.428237]</td>\n",
       "      <td>[0.0022698376326943694, -0.002269856972829801]</td>\n",
       "      <td>[0.0, 0.0]</td>\n",
       "    </tr>\n",
       "    <tr>\n",
       "      <th>3</th>\n",
       "      <td>3</td>\n",
       "      <td>4733538.9</td>\n",
       "      <td>[-47221562626530.57, 1.5726815596395866e+19]</td>\n",
       "      <td>[224921774.50909853, -224923700.4885367]</td>\n",
       "      <td>[0.0, 0.0]</td>\n",
       "      <td>[-149638824.0974627, 49836177833728.26]</td>\n",
       "      <td>[716.2932519071464, -716.2993550787132]</td>\n",
       "      <td>[0.0, 0.0]</td>\n",
       "      <td>[-474.1854447800713, 157924190.428237]</td>\n",
       "      <td>[0.0022698376326943694, -0.002269856972829801]</td>\n",
       "      <td>[0.0, 0.0]</td>\n",
       "    </tr>\n",
       "    <tr>\n",
       "      <th>4</th>\n",
       "      <td>4</td>\n",
       "      <td>6311385.2</td>\n",
       "      <td>[-47221562626530.57, 1.5726815596395866e+19]</td>\n",
       "      <td>[226040847.74058372, -226042773.72002184]</td>\n",
       "      <td>[0.0, 0.0]</td>\n",
       "      <td>[-149638824.0974627, 49836177833728.26]</td>\n",
       "      <td>[716.2932519071464, -716.2993550787132]</td>\n",
       "      <td>[0.0, 0.0]</td>\n",
       "      <td>[-474.1854447800713, 157924190.428237]</td>\n",
       "      <td>[0.0022698376326943694, -0.002269856972829801]</td>\n",
       "      <td>[0.0, 0.0]</td>\n",
       "    </tr>\n",
       "  </tbody>\n",
       "</table>\n",
       "</div>"
      ],
      "text/plain": [
       "   step       time                                              x  \\\n",
       "0     0        0.0      [449183.36891987134, -149597421516.63107]   \n",
       "1     1  1577846.3                  [0.0, 1.9546663496029367e-09]   \n",
       "2     2  3155692.6  [-47221562630787.875, 1.5726815596395868e+19]   \n",
       "3     3  4733538.9   [-47221562626530.57, 1.5726815596395866e+19]   \n",
       "4     4  6311385.2   [-47221562626530.57, 1.5726815596395866e+19]   \n",
       "\n",
       "                                           y           z  \\\n",
       "0              [0.0, 1.8320400342103965e-05]  [0.0, 0.0]   \n",
       "1    [9211110763.572353, -15961062.00550111]  [0.0, 0.0]   \n",
       "2  [223802694.18520382, -223804620.16464195]  [0.0, 0.0]   \n",
       "3   [224921774.50909853, -224923700.4885367]  [0.0, 0.0]   \n",
       "4  [226040847.74058372, -226042773.72002184]  [0.0, 0.0]   \n",
       "\n",
       "                                         vx  \\\n",
       "0              [0.0, 6.194076557160162e-15]   \n",
       "1  [-149638824.11095357, 49836177833728.28]   \n",
       "2   [-149638824.0974627, 49836177833728.26]   \n",
       "3   [-149638824.0974627, 49836177833728.26]   \n",
       "4   [-149638824.0974627, 49836177833728.26]   \n",
       "\n",
       "                                         vy          vz  \\\n",
       "0  [29188.779587697383, -50.57847341349946]  [0.0, 0.0]   \n",
       "1   [709.2008422631583, -709.2069454347248]  [0.0, 0.0]   \n",
       "2   [712.7470583226017, -712.7531614941684]  [0.0, 0.0]   \n",
       "3   [716.2932519071464, -716.2993550787132]  [0.0, 0.0]   \n",
       "4   [716.2932519071464, -716.2993550787132]  [0.0, 0.0]   \n",
       "\n",
       "                                       ax  \\\n",
       "0  [-474.1854447800713, 157924190.428237]   \n",
       "1  [-474.1854447800713, 157924190.428237]   \n",
       "2  [-474.1854447800713, 157924190.428237]   \n",
       "3  [-474.1854447800713, 157924190.428237]   \n",
       "4  [-474.1854447800713, 157924190.428237]   \n",
       "\n",
       "                                               ay          az  \n",
       "0  [0.0022698376326943694, -0.002269856972829801]  [0.0, 0.0]  \n",
       "1  [0.0022698376326943694, -0.002269856972829801]  [0.0, 0.0]  \n",
       "2  [0.0022698376326943694, -0.002269856972829801]  [0.0, 0.0]  \n",
       "3  [0.0022698376326943694, -0.002269856972829801]  [0.0, 0.0]  \n",
       "4  [0.0022698376326943694, -0.002269856972829801]  [0.0, 0.0]  "
      ]
     },
     "metadata": {},
     "output_type": "display_data"
    }
   ],
   "source": [
    "display(df)"
   ]
  },
  {
   "cell_type": "code",
   "execution_count": 28,
   "metadata": {},
   "outputs": [
    {
     "data": {
      "text/plain": [
       "0.0"
      ]
     },
     "execution_count": 28,
     "metadata": {},
     "output_type": "execute_result"
    }
   ],
   "source": [
    "xser=df['x']\n",
    "xser\n",
    "xser[1][0]"
   ]
  },
  {
   "cell_type": "markdown",
   "metadata": {},
   "source": [
    "Each pandas column has two entries because there are two bodies, the sun and the earth. These need to be split into columns one and two in a new table for each pandas column in the original table. The following routine automates extraction of these entries for each column. "
   ]
  },
  {
   "cell_type": "code",
   "execution_count": 29,
   "metadata": {},
   "outputs": [],
   "source": [
    "def mergeStarDataIntoDataFrame(col):\n",
    "    rawdataser=df[col]\n",
    "    numstars=len(rawdataser[0])\n",
    "    columns=np.arange(numstars)\n",
    "    numentries=len(rawdataser)\n",
    "    index=np.arange(numentries)\n",
    "    dfnew=pd.DataFrame(columns=columns,index=index)\n",
    "    for coln in np.arange(numstars):\n",
    "        datacollist=[]\n",
    "        for row in np.arange(numentries):\n",
    "            datacollist.append(rawdataser[row][coln])\n",
    "        dfnew[coln]=datacollist\n",
    "    return dfnew"
   ]
  },
  {
   "cell_type": "code",
   "execution_count": 30,
   "metadata": {},
   "outputs": [],
   "source": [
    "dfx=mergeStarDataIntoDataFrame('x')"
   ]
  },
  {
   "cell_type": "code",
   "execution_count": 31,
   "metadata": {},
   "outputs": [
    {
     "data": {
      "text/html": [
       "<div>\n",
       "<style scoped>\n",
       "    .dataframe tbody tr th:only-of-type {\n",
       "        vertical-align: middle;\n",
       "    }\n",
       "\n",
       "    .dataframe tbody tr th {\n",
       "        vertical-align: top;\n",
       "    }\n",
       "\n",
       "    .dataframe thead th {\n",
       "        text-align: right;\n",
       "    }\n",
       "</style>\n",
       "<table border=\"1\" class=\"dataframe\">\n",
       "  <thead>\n",
       "    <tr style=\"text-align: right;\">\n",
       "      <th></th>\n",
       "      <th>0</th>\n",
       "      <th>1</th>\n",
       "    </tr>\n",
       "  </thead>\n",
       "  <tbody>\n",
       "    <tr>\n",
       "      <th>0</th>\n",
       "      <td>4.491834e+05</td>\n",
       "      <td>-1.495974e+11</td>\n",
       "    </tr>\n",
       "    <tr>\n",
       "      <th>1</th>\n",
       "      <td>0.000000e+00</td>\n",
       "      <td>1.954666e-09</td>\n",
       "    </tr>\n",
       "    <tr>\n",
       "      <th>2</th>\n",
       "      <td>-4.722156e+13</td>\n",
       "      <td>1.572682e+19</td>\n",
       "    </tr>\n",
       "    <tr>\n",
       "      <th>3</th>\n",
       "      <td>-4.722156e+13</td>\n",
       "      <td>1.572682e+19</td>\n",
       "    </tr>\n",
       "    <tr>\n",
       "      <th>4</th>\n",
       "      <td>-4.722156e+13</td>\n",
       "      <td>1.572682e+19</td>\n",
       "    </tr>\n",
       "  </tbody>\n",
       "</table>\n",
       "</div>"
      ],
      "text/plain": [
       "              0             1\n",
       "0  4.491834e+05 -1.495974e+11\n",
       "1  0.000000e+00  1.954666e-09\n",
       "2 -4.722156e+13  1.572682e+19\n",
       "3 -4.722156e+13  1.572682e+19\n",
       "4 -4.722156e+13  1.572682e+19"
      ]
     },
     "metadata": {},
     "output_type": "display_data"
    }
   ],
   "source": [
    "display(dfx)"
   ]
  },
  {
   "cell_type": "code",
   "execution_count": 32,
   "metadata": {},
   "outputs": [],
   "source": [
    "dfy=mergeStarDataIntoDataFrame('y')"
   ]
  },
  {
   "cell_type": "code",
   "execution_count": 33,
   "metadata": {},
   "outputs": [
    {
     "data": {
      "text/html": [
       "<div>\n",
       "<style scoped>\n",
       "    .dataframe tbody tr th:only-of-type {\n",
       "        vertical-align: middle;\n",
       "    }\n",
       "\n",
       "    .dataframe tbody tr th {\n",
       "        vertical-align: top;\n",
       "    }\n",
       "\n",
       "    .dataframe thead th {\n",
       "        text-align: right;\n",
       "    }\n",
       "</style>\n",
       "<table border=\"1\" class=\"dataframe\">\n",
       "  <thead>\n",
       "    <tr style=\"text-align: right;\">\n",
       "      <th></th>\n",
       "      <th>0</th>\n",
       "      <th>1</th>\n",
       "    </tr>\n",
       "  </thead>\n",
       "  <tbody>\n",
       "    <tr>\n",
       "      <th>0</th>\n",
       "      <td>0.000000e+00</td>\n",
       "      <td>1.832040e-05</td>\n",
       "    </tr>\n",
       "    <tr>\n",
       "      <th>1</th>\n",
       "      <td>9.211111e+09</td>\n",
       "      <td>-1.596106e+07</td>\n",
       "    </tr>\n",
       "    <tr>\n",
       "      <th>2</th>\n",
       "      <td>2.238027e+08</td>\n",
       "      <td>-2.238046e+08</td>\n",
       "    </tr>\n",
       "    <tr>\n",
       "      <th>3</th>\n",
       "      <td>2.249218e+08</td>\n",
       "      <td>-2.249237e+08</td>\n",
       "    </tr>\n",
       "    <tr>\n",
       "      <th>4</th>\n",
       "      <td>2.260408e+08</td>\n",
       "      <td>-2.260428e+08</td>\n",
       "    </tr>\n",
       "  </tbody>\n",
       "</table>\n",
       "</div>"
      ],
      "text/plain": [
       "              0             1\n",
       "0  0.000000e+00  1.832040e-05\n",
       "1  9.211111e+09 -1.596106e+07\n",
       "2  2.238027e+08 -2.238046e+08\n",
       "3  2.249218e+08 -2.249237e+08\n",
       "4  2.260408e+08 -2.260428e+08"
      ]
     },
     "metadata": {},
     "output_type": "display_data"
    }
   ],
   "source": [
    "display(dfy)"
   ]
  },
  {
   "cell_type": "code",
   "execution_count": 34,
   "metadata": {},
   "outputs": [],
   "source": [
    "dfvx=mergeStarDataIntoDataFrame('vx')"
   ]
  },
  {
   "cell_type": "code",
   "execution_count": 35,
   "metadata": {},
   "outputs": [
    {
     "data": {
      "text/html": [
       "<div>\n",
       "<style scoped>\n",
       "    .dataframe tbody tr th:only-of-type {\n",
       "        vertical-align: middle;\n",
       "    }\n",
       "\n",
       "    .dataframe tbody tr th {\n",
       "        vertical-align: top;\n",
       "    }\n",
       "\n",
       "    .dataframe thead th {\n",
       "        text-align: right;\n",
       "    }\n",
       "</style>\n",
       "<table border=\"1\" class=\"dataframe\">\n",
       "  <thead>\n",
       "    <tr style=\"text-align: right;\">\n",
       "      <th></th>\n",
       "      <th>0</th>\n",
       "      <th>1</th>\n",
       "    </tr>\n",
       "  </thead>\n",
       "  <tbody>\n",
       "    <tr>\n",
       "      <th>0</th>\n",
       "      <td>0.000000e+00</td>\n",
       "      <td>6.194077e-15</td>\n",
       "    </tr>\n",
       "    <tr>\n",
       "      <th>1</th>\n",
       "      <td>-1.496388e+08</td>\n",
       "      <td>4.983618e+13</td>\n",
       "    </tr>\n",
       "    <tr>\n",
       "      <th>2</th>\n",
       "      <td>-1.496388e+08</td>\n",
       "      <td>4.983618e+13</td>\n",
       "    </tr>\n",
       "    <tr>\n",
       "      <th>3</th>\n",
       "      <td>-1.496388e+08</td>\n",
       "      <td>4.983618e+13</td>\n",
       "    </tr>\n",
       "    <tr>\n",
       "      <th>4</th>\n",
       "      <td>-1.496388e+08</td>\n",
       "      <td>4.983618e+13</td>\n",
       "    </tr>\n",
       "  </tbody>\n",
       "</table>\n",
       "</div>"
      ],
      "text/plain": [
       "              0             1\n",
       "0  0.000000e+00  6.194077e-15\n",
       "1 -1.496388e+08  4.983618e+13\n",
       "2 -1.496388e+08  4.983618e+13\n",
       "3 -1.496388e+08  4.983618e+13\n",
       "4 -1.496388e+08  4.983618e+13"
      ]
     },
     "metadata": {},
     "output_type": "display_data"
    }
   ],
   "source": [
    "display(dfvx)"
   ]
  },
  {
   "cell_type": "code",
   "execution_count": 36,
   "metadata": {},
   "outputs": [],
   "source": [
    "dfvy=mergeStarDataIntoDataFrame('vy')"
   ]
  },
  {
   "cell_type": "code",
   "execution_count": 37,
   "metadata": {},
   "outputs": [
    {
     "data": {
      "text/html": [
       "<div>\n",
       "<style scoped>\n",
       "    .dataframe tbody tr th:only-of-type {\n",
       "        vertical-align: middle;\n",
       "    }\n",
       "\n",
       "    .dataframe tbody tr th {\n",
       "        vertical-align: top;\n",
       "    }\n",
       "\n",
       "    .dataframe thead th {\n",
       "        text-align: right;\n",
       "    }\n",
       "</style>\n",
       "<table border=\"1\" class=\"dataframe\">\n",
       "  <thead>\n",
       "    <tr style=\"text-align: right;\">\n",
       "      <th></th>\n",
       "      <th>0</th>\n",
       "      <th>1</th>\n",
       "    </tr>\n",
       "  </thead>\n",
       "  <tbody>\n",
       "    <tr>\n",
       "      <th>0</th>\n",
       "      <td>29188.779588</td>\n",
       "      <td>-50.578473</td>\n",
       "    </tr>\n",
       "    <tr>\n",
       "      <th>1</th>\n",
       "      <td>709.200842</td>\n",
       "      <td>-709.206945</td>\n",
       "    </tr>\n",
       "    <tr>\n",
       "      <th>2</th>\n",
       "      <td>712.747058</td>\n",
       "      <td>-712.753161</td>\n",
       "    </tr>\n",
       "    <tr>\n",
       "      <th>3</th>\n",
       "      <td>716.293252</td>\n",
       "      <td>-716.299355</td>\n",
       "    </tr>\n",
       "    <tr>\n",
       "      <th>4</th>\n",
       "      <td>716.293252</td>\n",
       "      <td>-716.299355</td>\n",
       "    </tr>\n",
       "  </tbody>\n",
       "</table>\n",
       "</div>"
      ],
      "text/plain": [
       "              0           1\n",
       "0  29188.779588  -50.578473\n",
       "1    709.200842 -709.206945\n",
       "2    712.747058 -712.753161\n",
       "3    716.293252 -716.299355\n",
       "4    716.293252 -716.299355"
      ]
     },
     "metadata": {},
     "output_type": "display_data"
    }
   ],
   "source": [
    "display(dfvy)"
   ]
  },
  {
   "cell_type": "code",
   "execution_count": 38,
   "metadata": {},
   "outputs": [],
   "source": [
    "dfax=mergeStarDataIntoDataFrame('ax')"
   ]
  },
  {
   "cell_type": "code",
   "execution_count": 39,
   "metadata": {},
   "outputs": [
    {
     "data": {
      "text/html": [
       "<div>\n",
       "<style scoped>\n",
       "    .dataframe tbody tr th:only-of-type {\n",
       "        vertical-align: middle;\n",
       "    }\n",
       "\n",
       "    .dataframe tbody tr th {\n",
       "        vertical-align: top;\n",
       "    }\n",
       "\n",
       "    .dataframe thead th {\n",
       "        text-align: right;\n",
       "    }\n",
       "</style>\n",
       "<table border=\"1\" class=\"dataframe\">\n",
       "  <thead>\n",
       "    <tr style=\"text-align: right;\">\n",
       "      <th></th>\n",
       "      <th>0</th>\n",
       "      <th>1</th>\n",
       "    </tr>\n",
       "  </thead>\n",
       "  <tbody>\n",
       "    <tr>\n",
       "      <th>0</th>\n",
       "      <td>-474.185445</td>\n",
       "      <td>1.579242e+08</td>\n",
       "    </tr>\n",
       "    <tr>\n",
       "      <th>1</th>\n",
       "      <td>-474.185445</td>\n",
       "      <td>1.579242e+08</td>\n",
       "    </tr>\n",
       "    <tr>\n",
       "      <th>2</th>\n",
       "      <td>-474.185445</td>\n",
       "      <td>1.579242e+08</td>\n",
       "    </tr>\n",
       "    <tr>\n",
       "      <th>3</th>\n",
       "      <td>-474.185445</td>\n",
       "      <td>1.579242e+08</td>\n",
       "    </tr>\n",
       "    <tr>\n",
       "      <th>4</th>\n",
       "      <td>-474.185445</td>\n",
       "      <td>1.579242e+08</td>\n",
       "    </tr>\n",
       "  </tbody>\n",
       "</table>\n",
       "</div>"
      ],
      "text/plain": [
       "            0             1\n",
       "0 -474.185445  1.579242e+08\n",
       "1 -474.185445  1.579242e+08\n",
       "2 -474.185445  1.579242e+08\n",
       "3 -474.185445  1.579242e+08\n",
       "4 -474.185445  1.579242e+08"
      ]
     },
     "metadata": {},
     "output_type": "display_data"
    }
   ],
   "source": [
    "display(dfax)"
   ]
  },
  {
   "cell_type": "code",
   "execution_count": 40,
   "metadata": {},
   "outputs": [],
   "source": [
    "dfay=mergeStarDataIntoDataFrame('ay')"
   ]
  },
  {
   "cell_type": "code",
   "execution_count": 41,
   "metadata": {},
   "outputs": [
    {
     "data": {
      "text/html": [
       "<div>\n",
       "<style scoped>\n",
       "    .dataframe tbody tr th:only-of-type {\n",
       "        vertical-align: middle;\n",
       "    }\n",
       "\n",
       "    .dataframe tbody tr th {\n",
       "        vertical-align: top;\n",
       "    }\n",
       "\n",
       "    .dataframe thead th {\n",
       "        text-align: right;\n",
       "    }\n",
       "</style>\n",
       "<table border=\"1\" class=\"dataframe\">\n",
       "  <thead>\n",
       "    <tr style=\"text-align: right;\">\n",
       "      <th></th>\n",
       "      <th>0</th>\n",
       "      <th>1</th>\n",
       "    </tr>\n",
       "  </thead>\n",
       "  <tbody>\n",
       "    <tr>\n",
       "      <th>0</th>\n",
       "      <td>0.00227</td>\n",
       "      <td>-0.00227</td>\n",
       "    </tr>\n",
       "    <tr>\n",
       "      <th>1</th>\n",
       "      <td>0.00227</td>\n",
       "      <td>-0.00227</td>\n",
       "    </tr>\n",
       "    <tr>\n",
       "      <th>2</th>\n",
       "      <td>0.00227</td>\n",
       "      <td>-0.00227</td>\n",
       "    </tr>\n",
       "    <tr>\n",
       "      <th>3</th>\n",
       "      <td>0.00227</td>\n",
       "      <td>-0.00227</td>\n",
       "    </tr>\n",
       "    <tr>\n",
       "      <th>4</th>\n",
       "      <td>0.00227</td>\n",
       "      <td>-0.00227</td>\n",
       "    </tr>\n",
       "  </tbody>\n",
       "</table>\n",
       "</div>"
      ],
      "text/plain": [
       "         0        1\n",
       "0  0.00227 -0.00227\n",
       "1  0.00227 -0.00227\n",
       "2  0.00227 -0.00227\n",
       "3  0.00227 -0.00227\n",
       "4  0.00227 -0.00227"
      ]
     },
     "metadata": {},
     "output_type": "display_data"
    }
   ],
   "source": [
    "display(dfay)"
   ]
  },
  {
   "cell_type": "code",
   "execution_count": 42,
   "metadata": {},
   "outputs": [
    {
     "data": {
      "text/plain": [
       "[0.0, 1577846.3, 3155692.6, 4733538.9, 6311385.2]"
      ]
     },
     "execution_count": 42,
     "metadata": {},
     "output_type": "execute_result"
    }
   ],
   "source": [
    "df['time'].tolist()"
   ]
  },
  {
   "cell_type": "markdown",
   "metadata": {},
   "source": [
    "Plots time versus position of Earth, in reduced mass coordinates"
   ]
  },
  {
   "cell_type": "code",
   "execution_count": 43,
   "metadata": {},
   "outputs": [
    {
     "name": "stderr",
     "output_type": "stream",
     "text": [
      "W-1001 (NO_DATA_RENDERERS): Plot has no data renderers: Figure(id='a57969ce-35b1-4953-bcd5-a4c19dd14dc2', ...)\n"
     ]
    },
    {
     "data": {
      "text/html": [
       "\n",
       "    <div class=\"bk-root\">\n",
       "        <a href=\"https://bokeh.pydata.org\" target=\"_blank\" class=\"bk-logo bk-logo-small bk-logo-notebook\"></a>\n",
       "        <span id=\"ad473690-b93c-4d4f-a180-6c71fb070c0b\">Loading BokehJS ...</span>\n",
       "    </div>"
      ]
     },
     "metadata": {},
     "output_type": "display_data"
    },
    {
     "data": {
      "application/javascript": [
       "\n",
       "(function(root) {\n",
       "  function now() {\n",
       "    return new Date();\n",
       "  }\n",
       "\n",
       "  var force = true;\n",
       "\n",
       "  if (typeof (root._bokeh_onload_callbacks) === \"undefined\" || force === true) {\n",
       "    root._bokeh_onload_callbacks = [];\n",
       "    root._bokeh_is_loading = undefined;\n",
       "  }\n",
       "\n",
       "  var JS_MIME_TYPE = 'application/javascript';\n",
       "  var HTML_MIME_TYPE = 'text/html';\n",
       "  var EXEC_MIME_TYPE = 'application/vnd.bokehjs_exec.v0+json';\n",
       "  var CLASS_NAME = 'output_bokeh rendered_html';\n",
       "\n",
       "  /**\n",
       "   * Render data to the DOM node\n",
       "   */\n",
       "  function render(props, node) {\n",
       "    var script = document.createElement(\"script\");\n",
       "    node.appendChild(script);\n",
       "  }\n",
       "\n",
       "  /**\n",
       "   * Handle when an output is cleared or removed\n",
       "   */\n",
       "  function handleClearOutput(event, handle) {\n",
       "    var cell = handle.cell;\n",
       "\n",
       "    var id = cell.output_area._bokeh_element_id;\n",
       "    var server_id = cell.output_area._bokeh_server_id;\n",
       "    // Clean up Bokeh references\n",
       "    if (id !== undefined) {\n",
       "      Bokeh.index[id].model.document.clear();\n",
       "      delete Bokeh.index[id];\n",
       "    }\n",
       "\n",
       "    if (server_id !== undefined) {\n",
       "      // Clean up Bokeh references\n",
       "      var cmd = \"from bokeh.io.state import curstate; print(curstate().uuid_to_server['\" + server_id + \"'].get_sessions()[0].document.roots[0]._id)\";\n",
       "      cell.notebook.kernel.execute(cmd, {\n",
       "        iopub: {\n",
       "          output: function(msg) {\n",
       "            var element_id = msg.content.text.trim();\n",
       "            Bokeh.index[element_id].model.document.clear();\n",
       "            delete Bokeh.index[element_id];\n",
       "          }\n",
       "        }\n",
       "      });\n",
       "      // Destroy server and session\n",
       "      var cmd = \"import bokeh.io.notebook as ion; ion.destroy_server('\" + server_id + \"')\";\n",
       "      cell.notebook.kernel.execute(cmd);\n",
       "    }\n",
       "  }\n",
       "\n",
       "  /**\n",
       "   * Handle when a new output is added\n",
       "   */\n",
       "  function handleAddOutput(event, handle) {\n",
       "    var output_area = handle.output_area;\n",
       "    var output = handle.output;\n",
       "\n",
       "    // limit handleAddOutput to display_data with EXEC_MIME_TYPE content only\n",
       "    if ((output.output_type != \"display_data\") || (!output.data.hasOwnProperty(EXEC_MIME_TYPE))) {\n",
       "      return\n",
       "    }\n",
       "\n",
       "    var toinsert = output_area.element.find(\".\" + CLASS_NAME.split(' ')[0]);\n",
       "\n",
       "    if (output.metadata[EXEC_MIME_TYPE][\"id\"] !== undefined) {\n",
       "      toinsert[0].firstChild.textContent = output.data[JS_MIME_TYPE];\n",
       "      // store reference to embed id on output_area\n",
       "      output_area._bokeh_element_id = output.metadata[EXEC_MIME_TYPE][\"id\"];\n",
       "    }\n",
       "    if (output.metadata[EXEC_MIME_TYPE][\"server_id\"] !== undefined) {\n",
       "      var bk_div = document.createElement(\"div\");\n",
       "      bk_div.innerHTML = output.data[HTML_MIME_TYPE];\n",
       "      var script_attrs = bk_div.children[0].attributes;\n",
       "      for (var i = 0; i < script_attrs.length; i++) {\n",
       "        toinsert[0].firstChild.setAttribute(script_attrs[i].name, script_attrs[i].value);\n",
       "      }\n",
       "      // store reference to server id on output_area\n",
       "      output_area._bokeh_server_id = output.metadata[EXEC_MIME_TYPE][\"server_id\"];\n",
       "    }\n",
       "  }\n",
       "\n",
       "  function register_renderer(events, OutputArea) {\n",
       "\n",
       "    function append_mime(data, metadata, element) {\n",
       "      // create a DOM node to render to\n",
       "      var toinsert = this.create_output_subarea(\n",
       "        metadata,\n",
       "        CLASS_NAME,\n",
       "        EXEC_MIME_TYPE\n",
       "      );\n",
       "      this.keyboard_manager.register_events(toinsert);\n",
       "      // Render to node\n",
       "      var props = {data: data, metadata: metadata[EXEC_MIME_TYPE]};\n",
       "      render(props, toinsert[0]);\n",
       "      element.append(toinsert);\n",
       "      return toinsert\n",
       "    }\n",
       "\n",
       "    /* Handle when an output is cleared or removed */\n",
       "    events.on('clear_output.CodeCell', handleClearOutput);\n",
       "    events.on('delete.Cell', handleClearOutput);\n",
       "\n",
       "    /* Handle when a new output is added */\n",
       "    events.on('output_added.OutputArea', handleAddOutput);\n",
       "\n",
       "    /**\n",
       "     * Register the mime type and append_mime function with output_area\n",
       "     */\n",
       "    OutputArea.prototype.register_mime_type(EXEC_MIME_TYPE, append_mime, {\n",
       "      /* Is output safe? */\n",
       "      safe: true,\n",
       "      /* Index of renderer in `output_area.display_order` */\n",
       "      index: 0\n",
       "    });\n",
       "  }\n",
       "\n",
       "  // register the mime type if in Jupyter Notebook environment and previously unregistered\n",
       "  if (root.Jupyter !== undefined) {\n",
       "    var events = require('base/js/events');\n",
       "    var OutputArea = require('notebook/js/outputarea').OutputArea;\n",
       "\n",
       "    if (OutputArea.prototype.mime_types().indexOf(EXEC_MIME_TYPE) == -1) {\n",
       "      register_renderer(events, OutputArea);\n",
       "    }\n",
       "  }\n",
       "\n",
       "  \n",
       "  if (typeof (root._bokeh_timeout) === \"undefined\" || force === true) {\n",
       "    root._bokeh_timeout = Date.now() + 5000;\n",
       "    root._bokeh_failed_load = false;\n",
       "  }\n",
       "\n",
       "  var NB_LOAD_WARNING = {'data': {'text/html':\n",
       "     \"<div style='background-color: #fdd'>\\n\"+\n",
       "     \"<p>\\n\"+\n",
       "     \"BokehJS does not appear to have successfully loaded. If loading BokehJS from CDN, this \\n\"+\n",
       "     \"may be due to a slow or bad network connection. Possible fixes:\\n\"+\n",
       "     \"</p>\\n\"+\n",
       "     \"<ul>\\n\"+\n",
       "     \"<li>re-rerun `output_notebook()` to attempt to load from CDN again, or</li>\\n\"+\n",
       "     \"<li>use INLINE resources instead, as so:</li>\\n\"+\n",
       "     \"</ul>\\n\"+\n",
       "     \"<code>\\n\"+\n",
       "     \"from bokeh.resources import INLINE\\n\"+\n",
       "     \"output_notebook(resources=INLINE)\\n\"+\n",
       "     \"</code>\\n\"+\n",
       "     \"</div>\"}};\n",
       "\n",
       "  function display_loaded() {\n",
       "    var el = document.getElementById(\"ad473690-b93c-4d4f-a180-6c71fb070c0b\");\n",
       "    if (el != null) {\n",
       "      el.textContent = \"BokehJS is loading...\";\n",
       "    }\n",
       "    if (root.Bokeh !== undefined) {\n",
       "      if (el != null) {\n",
       "        el.textContent = \"BokehJS \" + root.Bokeh.version + \" successfully loaded.\";\n",
       "      }\n",
       "    } else if (Date.now() < root._bokeh_timeout) {\n",
       "      setTimeout(display_loaded, 100)\n",
       "    }\n",
       "  }\n",
       "\n",
       "\n",
       "  function run_callbacks() {\n",
       "    try {\n",
       "      root._bokeh_onload_callbacks.forEach(function(callback) { callback() });\n",
       "    }\n",
       "    finally {\n",
       "      delete root._bokeh_onload_callbacks\n",
       "    }\n",
       "    console.info(\"Bokeh: all callbacks have finished\");\n",
       "  }\n",
       "\n",
       "  function load_libs(js_urls, callback) {\n",
       "    root._bokeh_onload_callbacks.push(callback);\n",
       "    if (root._bokeh_is_loading > 0) {\n",
       "      console.log(\"Bokeh: BokehJS is being loaded, scheduling callback at\", now());\n",
       "      return null;\n",
       "    }\n",
       "    if (js_urls == null || js_urls.length === 0) {\n",
       "      run_callbacks();\n",
       "      return null;\n",
       "    }\n",
       "    console.log(\"Bokeh: BokehJS not loaded, scheduling load and callback at\", now());\n",
       "    root._bokeh_is_loading = js_urls.length;\n",
       "    for (var i = 0; i < js_urls.length; i++) {\n",
       "      var url = js_urls[i];\n",
       "      var s = document.createElement('script');\n",
       "      s.src = url;\n",
       "      s.async = false;\n",
       "      s.onreadystatechange = s.onload = function() {\n",
       "        root._bokeh_is_loading--;\n",
       "        if (root._bokeh_is_loading === 0) {\n",
       "          console.log(\"Bokeh: all BokehJS libraries loaded\");\n",
       "          run_callbacks()\n",
       "        }\n",
       "      };\n",
       "      s.onerror = function() {\n",
       "        console.warn(\"failed to load library \" + url);\n",
       "      };\n",
       "      console.log(\"Bokeh: injecting script tag for BokehJS library: \", url);\n",
       "      document.getElementsByTagName(\"head\")[0].appendChild(s);\n",
       "    }\n",
       "  };var element = document.getElementById(\"ad473690-b93c-4d4f-a180-6c71fb070c0b\");\n",
       "  if (element == null) {\n",
       "    console.log(\"Bokeh: ERROR: autoload.js configured with elementid 'ad473690-b93c-4d4f-a180-6c71fb070c0b' but no matching script tag was found. \")\n",
       "    return false;\n",
       "  }\n",
       "\n",
       "  var js_urls = [\"https://cdn.pydata.org/bokeh/release/bokeh-0.12.13.min.js\", \"https://cdn.pydata.org/bokeh/release/bokeh-widgets-0.12.13.min.js\", \"https://cdn.pydata.org/bokeh/release/bokeh-tables-0.12.13.min.js\", \"https://cdn.pydata.org/bokeh/release/bokeh-gl-0.12.13.min.js\"];\n",
       "\n",
       "  var inline_js = [\n",
       "    function(Bokeh) {\n",
       "      Bokeh.set_log_level(\"info\");\n",
       "    },\n",
       "    \n",
       "    function(Bokeh) {\n",
       "      \n",
       "    },\n",
       "    function(Bokeh) {\n",
       "      console.log(\"Bokeh: injecting CSS: https://cdn.pydata.org/bokeh/release/bokeh-0.12.13.min.css\");\n",
       "      Bokeh.embed.inject_css(\"https://cdn.pydata.org/bokeh/release/bokeh-0.12.13.min.css\");\n",
       "      console.log(\"Bokeh: injecting CSS: https://cdn.pydata.org/bokeh/release/bokeh-widgets-0.12.13.min.css\");\n",
       "      Bokeh.embed.inject_css(\"https://cdn.pydata.org/bokeh/release/bokeh-widgets-0.12.13.min.css\");\n",
       "      console.log(\"Bokeh: injecting CSS: https://cdn.pydata.org/bokeh/release/bokeh-tables-0.12.13.min.css\");\n",
       "      Bokeh.embed.inject_css(\"https://cdn.pydata.org/bokeh/release/bokeh-tables-0.12.13.min.css\");\n",
       "    }\n",
       "  ];\n",
       "\n",
       "  function run_inline_js() {\n",
       "    \n",
       "    if ((root.Bokeh !== undefined) || (force === true)) {\n",
       "      for (var i = 0; i < inline_js.length; i++) {\n",
       "        inline_js[i].call(root, root.Bokeh);\n",
       "      }if (force === true) {\n",
       "        display_loaded();\n",
       "      }} else if (Date.now() < root._bokeh_timeout) {\n",
       "      setTimeout(run_inline_js, 100);\n",
       "    } else if (!root._bokeh_failed_load) {\n",
       "      console.log(\"Bokeh: BokehJS failed to load within specified timeout.\");\n",
       "      root._bokeh_failed_load = true;\n",
       "    } else if (force !== true) {\n",
       "      var cell = $(document.getElementById(\"ad473690-b93c-4d4f-a180-6c71fb070c0b\")).parents('.cell').data().cell;\n",
       "      cell.output_area.append_execute_result(NB_LOAD_WARNING)\n",
       "    }\n",
       "\n",
       "  }\n",
       "\n",
       "  if (root._bokeh_is_loading === 0) {\n",
       "    console.log(\"Bokeh: BokehJS loaded, going straight to plotting\");\n",
       "    run_inline_js();\n",
       "  } else {\n",
       "    load_libs(js_urls, function() {\n",
       "      console.log(\"Bokeh: BokehJS plotting callback run at\", now());\n",
       "      run_inline_js();\n",
       "    });\n",
       "  }\n",
       "}(window));"
      ],
      "application/vnd.bokehjs_load.v0+json": "\n(function(root) {\n  function now() {\n    return new Date();\n  }\n\n  var force = true;\n\n  if (typeof (root._bokeh_onload_callbacks) === \"undefined\" || force === true) {\n    root._bokeh_onload_callbacks = [];\n    root._bokeh_is_loading = undefined;\n  }\n\n  \n\n  \n  if (typeof (root._bokeh_timeout) === \"undefined\" || force === true) {\n    root._bokeh_timeout = Date.now() + 5000;\n    root._bokeh_failed_load = false;\n  }\n\n  var NB_LOAD_WARNING = {'data': {'text/html':\n     \"<div style='background-color: #fdd'>\\n\"+\n     \"<p>\\n\"+\n     \"BokehJS does not appear to have successfully loaded. If loading BokehJS from CDN, this \\n\"+\n     \"may be due to a slow or bad network connection. Possible fixes:\\n\"+\n     \"</p>\\n\"+\n     \"<ul>\\n\"+\n     \"<li>re-rerun `output_notebook()` to attempt to load from CDN again, or</li>\\n\"+\n     \"<li>use INLINE resources instead, as so:</li>\\n\"+\n     \"</ul>\\n\"+\n     \"<code>\\n\"+\n     \"from bokeh.resources import INLINE\\n\"+\n     \"output_notebook(resources=INLINE)\\n\"+\n     \"</code>\\n\"+\n     \"</div>\"}};\n\n  function display_loaded() {\n    var el = document.getElementById(\"ad473690-b93c-4d4f-a180-6c71fb070c0b\");\n    if (el != null) {\n      el.textContent = \"BokehJS is loading...\";\n    }\n    if (root.Bokeh !== undefined) {\n      if (el != null) {\n        el.textContent = \"BokehJS \" + root.Bokeh.version + \" successfully loaded.\";\n      }\n    } else if (Date.now() < root._bokeh_timeout) {\n      setTimeout(display_loaded, 100)\n    }\n  }\n\n\n  function run_callbacks() {\n    try {\n      root._bokeh_onload_callbacks.forEach(function(callback) { callback() });\n    }\n    finally {\n      delete root._bokeh_onload_callbacks\n    }\n    console.info(\"Bokeh: all callbacks have finished\");\n  }\n\n  function load_libs(js_urls, callback) {\n    root._bokeh_onload_callbacks.push(callback);\n    if (root._bokeh_is_loading > 0) {\n      console.log(\"Bokeh: BokehJS is being loaded, scheduling callback at\", now());\n      return null;\n    }\n    if (js_urls == null || js_urls.length === 0) {\n      run_callbacks();\n      return null;\n    }\n    console.log(\"Bokeh: BokehJS not loaded, scheduling load and callback at\", now());\n    root._bokeh_is_loading = js_urls.length;\n    for (var i = 0; i < js_urls.length; i++) {\n      var url = js_urls[i];\n      var s = document.createElement('script');\n      s.src = url;\n      s.async = false;\n      s.onreadystatechange = s.onload = function() {\n        root._bokeh_is_loading--;\n        if (root._bokeh_is_loading === 0) {\n          console.log(\"Bokeh: all BokehJS libraries loaded\");\n          run_callbacks()\n        }\n      };\n      s.onerror = function() {\n        console.warn(\"failed to load library \" + url);\n      };\n      console.log(\"Bokeh: injecting script tag for BokehJS library: \", url);\n      document.getElementsByTagName(\"head\")[0].appendChild(s);\n    }\n  };var element = document.getElementById(\"ad473690-b93c-4d4f-a180-6c71fb070c0b\");\n  if (element == null) {\n    console.log(\"Bokeh: ERROR: autoload.js configured with elementid 'ad473690-b93c-4d4f-a180-6c71fb070c0b' but no matching script tag was found. \")\n    return false;\n  }\n\n  var js_urls = [\"https://cdn.pydata.org/bokeh/release/bokeh-0.12.13.min.js\", \"https://cdn.pydata.org/bokeh/release/bokeh-widgets-0.12.13.min.js\", \"https://cdn.pydata.org/bokeh/release/bokeh-tables-0.12.13.min.js\", \"https://cdn.pydata.org/bokeh/release/bokeh-gl-0.12.13.min.js\"];\n\n  var inline_js = [\n    function(Bokeh) {\n      Bokeh.set_log_level(\"info\");\n    },\n    \n    function(Bokeh) {\n      \n    },\n    function(Bokeh) {\n      console.log(\"Bokeh: injecting CSS: https://cdn.pydata.org/bokeh/release/bokeh-0.12.13.min.css\");\n      Bokeh.embed.inject_css(\"https://cdn.pydata.org/bokeh/release/bokeh-0.12.13.min.css\");\n      console.log(\"Bokeh: injecting CSS: https://cdn.pydata.org/bokeh/release/bokeh-widgets-0.12.13.min.css\");\n      Bokeh.embed.inject_css(\"https://cdn.pydata.org/bokeh/release/bokeh-widgets-0.12.13.min.css\");\n      console.log(\"Bokeh: injecting CSS: https://cdn.pydata.org/bokeh/release/bokeh-tables-0.12.13.min.css\");\n      Bokeh.embed.inject_css(\"https://cdn.pydata.org/bokeh/release/bokeh-tables-0.12.13.min.css\");\n    }\n  ];\n\n  function run_inline_js() {\n    \n    if ((root.Bokeh !== undefined) || (force === true)) {\n      for (var i = 0; i < inline_js.length; i++) {\n        inline_js[i].call(root, root.Bokeh);\n      }if (force === true) {\n        display_loaded();\n      }} else if (Date.now() < root._bokeh_timeout) {\n      setTimeout(run_inline_js, 100);\n    } else if (!root._bokeh_failed_load) {\n      console.log(\"Bokeh: BokehJS failed to load within specified timeout.\");\n      root._bokeh_failed_load = true;\n    } else if (force !== true) {\n      var cell = $(document.getElementById(\"ad473690-b93c-4d4f-a180-6c71fb070c0b\")).parents('.cell').data().cell;\n      cell.output_area.append_execute_result(NB_LOAD_WARNING)\n    }\n\n  }\n\n  if (root._bokeh_is_loading === 0) {\n    console.log(\"Bokeh: BokehJS loaded, going straight to plotting\");\n    run_inline_js();\n  } else {\n    load_libs(js_urls, function() {\n      console.log(\"Bokeh: BokehJS plotting callback run at\", now());\n      run_inline_js();\n    });\n  }\n}(window));"
     },
     "metadata": {},
     "output_type": "display_data"
    }
   ],
   "source": [
    "from bokeh.plotting import figure, output_notebook, show\n",
    "p=figure(plot_width=300,plot_height=300,x_axis_label=\"Time (s)\",y_axis_label=\"y displacement (m), Earth\")\n",
    "show(p)\n",
    "p.circle(x=np.array(df['time'].tolist()),y=np.array(dfy[1].tolist()))\n",
    "show(p)\n",
    "output_notebook()"
   ]
  },
  {
   "cell_type": "code",
   "execution_count": null,
   "metadata": {},
   "outputs": [],
   "source": []
  }
 ],
 "metadata": {
  "kernelspec": {
   "display_name": "Python 3",
   "language": "python",
   "name": "python3"
  },
  "language_info": {
   "codemirror_mode": {
    "name": "ipython",
    "version": 3
   },
   "file_extension": ".py",
   "mimetype": "text/x-python",
   "name": "python",
   "nbconvert_exporter": "python",
   "pygments_lexer": "ipython3",
   "version": "3.6.4"
  }
 },
 "nbformat": 4,
 "nbformat_minor": 2
}
