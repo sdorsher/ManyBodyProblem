{
 "cells": [
  {
   "cell_type": "code",
   "execution_count": 1,
   "metadata": {},
   "outputs": [],
   "source": [
    "import numpy as np\n",
    "import matplotlib.pyplot as plt\n",
    "\n",
    "def NewtonianForce(mass1,mass2, r):\n",
    "    return (6.67408*10**-11)*mass1*mass2/r/r;"
   ]
  },
  {
   "cell_type": "code",
   "execution_count": 2,
   "metadata": {},
   "outputs": [],
   "source": [
    "def euler(h,t, x,f):\n",
    "    return (f(t+h,x+h)-f(t,h)/2./h)"
   ]
  },
  {
   "cell_type": "code",
   "execution_count": 3,
   "metadata": {},
   "outputs": [],
   "source": [
    "def RK4(h,t,y,f):\n",
    "    k1= h*f(t,y)\n",
    "    k2=h*f(t+h/2.,y+h*k1/2.)\n",
    "    k3=h*f(t+h/2.,y+h*k2/2.)\n",
    "    k4=h*f(t+h,y+h*k3)\n",
    "    return t+h,y+h, y+1/6.*(k1+2.*k2+2.*k3+k4)\n",
    "\n"
   ]
  },
  {
   "cell_type": "code",
   "execution_count": 4,
   "metadata": {},
   "outputs": [],
   "source": [
    "def polynomial4(t,x,a,b,c,d,e):\n",
    "    p=[]\n",
    "    for xi in x:\n",
    "        pi=a*xi**4+b*xi**3+c*xi**2+d*xi+e\n",
    "        #print(pi)\n",
    "        p.append(pi)\n",
    "    return np.array(p)\n",
    "    \n",
    "\n",
    "def polymaker(t,x,a,b,c,d,e):\n",
    "    def poly(t,x):\n",
    "        return polynomial4(t,x,a,b,c,d,e)\n",
    "    return poly\n",
    "        \n",
    "        "
   ]
  },
  {
   "cell_type": "code",
   "execution_count": 5,
   "metadata": {},
   "outputs": [
    {
     "name": "stdout",
     "output_type": "stream",
     "text": [
      "0.0 [0.   0.01 0.02 0.03 0.04 0.05 0.06 0.07 0.08 0.09]\n"
     ]
    }
   ],
   "source": [
    "import numpy as np\n",
    "t=0.\n",
    "x=0.01*np.arange(10.)\n",
    "print(t,x)\n",
    "polyfn=polymaker(t,x,1.,0.,0.,0.,0.)"
   ]
  },
  {
   "cell_type": "code",
   "execution_count": 6,
   "metadata": {},
   "outputs": [],
   "source": [
    "#import matplotlib.pyplot as plt\n",
    "#plt.plot(t,polyfn(t,x))"
   ]
  },
  {
   "cell_type": "code",
   "execution_count": 7,
   "metadata": {},
   "outputs": [
    {
     "name": "stdout",
     "output_type": "stream",
     "text": [
      "[0.000e+00 1.000e-08 1.600e-07 8.100e-07 2.560e-06 6.250e-06 1.296e-05\n",
      " 2.401e-05 4.096e-05 6.561e-05]\n"
     ]
    }
   ],
   "source": [
    "y=polyfn(t,x) #this is correct to order of magnitude\n",
    "print(y)"
   ]
  },
  {
   "cell_type": "code",
   "execution_count": 8,
   "metadata": {},
   "outputs": [
    {
     "data": {
      "text/html": [
       "\n",
       "    <div class=\"bk-root\">\n",
       "        <a href=\"https://bokeh.pydata.org\" target=\"_blank\" class=\"bk-logo bk-logo-small bk-logo-notebook\"></a>\n",
       "        <span id=\"c0dd8df4-69b3-4c9f-9c5d-f26d1f7d5b2b\">Loading BokehJS ...</span>\n",
       "    </div>"
      ]
     },
     "metadata": {},
     "output_type": "display_data"
    },
    {
     "data": {
      "application/javascript": [
       "\n",
       "(function(root) {\n",
       "  function now() {\n",
       "    return new Date();\n",
       "  }\n",
       "\n",
       "  var force = true;\n",
       "\n",
       "  if (typeof (root._bokeh_onload_callbacks) === \"undefined\" || force === true) {\n",
       "    root._bokeh_onload_callbacks = [];\n",
       "    root._bokeh_is_loading = undefined;\n",
       "  }\n",
       "\n",
       "  var JS_MIME_TYPE = 'application/javascript';\n",
       "  var HTML_MIME_TYPE = 'text/html';\n",
       "  var EXEC_MIME_TYPE = 'application/vnd.bokehjs_exec.v0+json';\n",
       "  var CLASS_NAME = 'output_bokeh rendered_html';\n",
       "\n",
       "  /**\n",
       "   * Render data to the DOM node\n",
       "   */\n",
       "  function render(props, node) {\n",
       "    var script = document.createElement(\"script\");\n",
       "    node.appendChild(script);\n",
       "  }\n",
       "\n",
       "  /**\n",
       "   * Handle when an output is cleared or removed\n",
       "   */\n",
       "  function handleClearOutput(event, handle) {\n",
       "    var cell = handle.cell;\n",
       "\n",
       "    var id = cell.output_area._bokeh_element_id;\n",
       "    var server_id = cell.output_area._bokeh_server_id;\n",
       "    // Clean up Bokeh references\n",
       "    if (id !== undefined) {\n",
       "      Bokeh.index[id].model.document.clear();\n",
       "      delete Bokeh.index[id];\n",
       "    }\n",
       "\n",
       "    if (server_id !== undefined) {\n",
       "      // Clean up Bokeh references\n",
       "      var cmd = \"from bokeh.io.state import curstate; print(curstate().uuid_to_server['\" + server_id + \"'].get_sessions()[0].document.roots[0]._id)\";\n",
       "      cell.notebook.kernel.execute(cmd, {\n",
       "        iopub: {\n",
       "          output: function(msg) {\n",
       "            var element_id = msg.content.text.trim();\n",
       "            Bokeh.index[element_id].model.document.clear();\n",
       "            delete Bokeh.index[element_id];\n",
       "          }\n",
       "        }\n",
       "      });\n",
       "      // Destroy server and session\n",
       "      var cmd = \"import bokeh.io.notebook as ion; ion.destroy_server('\" + server_id + \"')\";\n",
       "      cell.notebook.kernel.execute(cmd);\n",
       "    }\n",
       "  }\n",
       "\n",
       "  /**\n",
       "   * Handle when a new output is added\n",
       "   */\n",
       "  function handleAddOutput(event, handle) {\n",
       "    var output_area = handle.output_area;\n",
       "    var output = handle.output;\n",
       "\n",
       "    // limit handleAddOutput to display_data with EXEC_MIME_TYPE content only\n",
       "    if ((output.output_type != \"display_data\") || (!output.data.hasOwnProperty(EXEC_MIME_TYPE))) {\n",
       "      return\n",
       "    }\n",
       "\n",
       "    var toinsert = output_area.element.find(\".\" + CLASS_NAME.split(' ')[0]);\n",
       "\n",
       "    if (output.metadata[EXEC_MIME_TYPE][\"id\"] !== undefined) {\n",
       "      toinsert[0].firstChild.textContent = output.data[JS_MIME_TYPE];\n",
       "      // store reference to embed id on output_area\n",
       "      output_area._bokeh_element_id = output.metadata[EXEC_MIME_TYPE][\"id\"];\n",
       "    }\n",
       "    if (output.metadata[EXEC_MIME_TYPE][\"server_id\"] !== undefined) {\n",
       "      var bk_div = document.createElement(\"div\");\n",
       "      bk_div.innerHTML = output.data[HTML_MIME_TYPE];\n",
       "      var script_attrs = bk_div.children[0].attributes;\n",
       "      for (var i = 0; i < script_attrs.length; i++) {\n",
       "        toinsert[0].firstChild.setAttribute(script_attrs[i].name, script_attrs[i].value);\n",
       "      }\n",
       "      // store reference to server id on output_area\n",
       "      output_area._bokeh_server_id = output.metadata[EXEC_MIME_TYPE][\"server_id\"];\n",
       "    }\n",
       "  }\n",
       "\n",
       "  function register_renderer(events, OutputArea) {\n",
       "\n",
       "    function append_mime(data, metadata, element) {\n",
       "      // create a DOM node to render to\n",
       "      var toinsert = this.create_output_subarea(\n",
       "        metadata,\n",
       "        CLASS_NAME,\n",
       "        EXEC_MIME_TYPE\n",
       "      );\n",
       "      this.keyboard_manager.register_events(toinsert);\n",
       "      // Render to node\n",
       "      var props = {data: data, metadata: metadata[EXEC_MIME_TYPE]};\n",
       "      render(props, toinsert[0]);\n",
       "      element.append(toinsert);\n",
       "      return toinsert\n",
       "    }\n",
       "\n",
       "    /* Handle when an output is cleared or removed */\n",
       "    events.on('clear_output.CodeCell', handleClearOutput);\n",
       "    events.on('delete.Cell', handleClearOutput);\n",
       "\n",
       "    /* Handle when a new output is added */\n",
       "    events.on('output_added.OutputArea', handleAddOutput);\n",
       "\n",
       "    /**\n",
       "     * Register the mime type and append_mime function with output_area\n",
       "     */\n",
       "    OutputArea.prototype.register_mime_type(EXEC_MIME_TYPE, append_mime, {\n",
       "      /* Is output safe? */\n",
       "      safe: true,\n",
       "      /* Index of renderer in `output_area.display_order` */\n",
       "      index: 0\n",
       "    });\n",
       "  }\n",
       "\n",
       "  // register the mime type if in Jupyter Notebook environment and previously unregistered\n",
       "  if (root.Jupyter !== undefined) {\n",
       "    var events = require('base/js/events');\n",
       "    var OutputArea = require('notebook/js/outputarea').OutputArea;\n",
       "\n",
       "    if (OutputArea.prototype.mime_types().indexOf(EXEC_MIME_TYPE) == -1) {\n",
       "      register_renderer(events, OutputArea);\n",
       "    }\n",
       "  }\n",
       "\n",
       "  \n",
       "  if (typeof (root._bokeh_timeout) === \"undefined\" || force === true) {\n",
       "    root._bokeh_timeout = Date.now() + 5000;\n",
       "    root._bokeh_failed_load = false;\n",
       "  }\n",
       "\n",
       "  var NB_LOAD_WARNING = {'data': {'text/html':\n",
       "     \"<div style='background-color: #fdd'>\\n\"+\n",
       "     \"<p>\\n\"+\n",
       "     \"BokehJS does not appear to have successfully loaded. If loading BokehJS from CDN, this \\n\"+\n",
       "     \"may be due to a slow or bad network connection. Possible fixes:\\n\"+\n",
       "     \"</p>\\n\"+\n",
       "     \"<ul>\\n\"+\n",
       "     \"<li>re-rerun `output_notebook()` to attempt to load from CDN again, or</li>\\n\"+\n",
       "     \"<li>use INLINE resources instead, as so:</li>\\n\"+\n",
       "     \"</ul>\\n\"+\n",
       "     \"<code>\\n\"+\n",
       "     \"from bokeh.resources import INLINE\\n\"+\n",
       "     \"output_notebook(resources=INLINE)\\n\"+\n",
       "     \"</code>\\n\"+\n",
       "     \"</div>\"}};\n",
       "\n",
       "  function display_loaded() {\n",
       "    var el = document.getElementById(\"c0dd8df4-69b3-4c9f-9c5d-f26d1f7d5b2b\");\n",
       "    if (el != null) {\n",
       "      el.textContent = \"BokehJS is loading...\";\n",
       "    }\n",
       "    if (root.Bokeh !== undefined) {\n",
       "      if (el != null) {\n",
       "        el.textContent = \"BokehJS \" + root.Bokeh.version + \" successfully loaded.\";\n",
       "      }\n",
       "    } else if (Date.now() < root._bokeh_timeout) {\n",
       "      setTimeout(display_loaded, 100)\n",
       "    }\n",
       "  }\n",
       "\n",
       "\n",
       "  function run_callbacks() {\n",
       "    try {\n",
       "      root._bokeh_onload_callbacks.forEach(function(callback) { callback() });\n",
       "    }\n",
       "    finally {\n",
       "      delete root._bokeh_onload_callbacks\n",
       "    }\n",
       "    console.info(\"Bokeh: all callbacks have finished\");\n",
       "  }\n",
       "\n",
       "  function load_libs(js_urls, callback) {\n",
       "    root._bokeh_onload_callbacks.push(callback);\n",
       "    if (root._bokeh_is_loading > 0) {\n",
       "      console.log(\"Bokeh: BokehJS is being loaded, scheduling callback at\", now());\n",
       "      return null;\n",
       "    }\n",
       "    if (js_urls == null || js_urls.length === 0) {\n",
       "      run_callbacks();\n",
       "      return null;\n",
       "    }\n",
       "    console.log(\"Bokeh: BokehJS not loaded, scheduling load and callback at\", now());\n",
       "    root._bokeh_is_loading = js_urls.length;\n",
       "    for (var i = 0; i < js_urls.length; i++) {\n",
       "      var url = js_urls[i];\n",
       "      var s = document.createElement('script');\n",
       "      s.src = url;\n",
       "      s.async = false;\n",
       "      s.onreadystatechange = s.onload = function() {\n",
       "        root._bokeh_is_loading--;\n",
       "        if (root._bokeh_is_loading === 0) {\n",
       "          console.log(\"Bokeh: all BokehJS libraries loaded\");\n",
       "          run_callbacks()\n",
       "        }\n",
       "      };\n",
       "      s.onerror = function() {\n",
       "        console.warn(\"failed to load library \" + url);\n",
       "      };\n",
       "      console.log(\"Bokeh: injecting script tag for BokehJS library: \", url);\n",
       "      document.getElementsByTagName(\"head\")[0].appendChild(s);\n",
       "    }\n",
       "  };var element = document.getElementById(\"c0dd8df4-69b3-4c9f-9c5d-f26d1f7d5b2b\");\n",
       "  if (element == null) {\n",
       "    console.log(\"Bokeh: ERROR: autoload.js configured with elementid 'c0dd8df4-69b3-4c9f-9c5d-f26d1f7d5b2b' but no matching script tag was found. \")\n",
       "    return false;\n",
       "  }\n",
       "\n",
       "  var js_urls = [\"https://cdn.pydata.org/bokeh/release/bokeh-0.12.13.min.js\", \"https://cdn.pydata.org/bokeh/release/bokeh-widgets-0.12.13.min.js\", \"https://cdn.pydata.org/bokeh/release/bokeh-tables-0.12.13.min.js\", \"https://cdn.pydata.org/bokeh/release/bokeh-gl-0.12.13.min.js\"];\n",
       "\n",
       "  var inline_js = [\n",
       "    function(Bokeh) {\n",
       "      Bokeh.set_log_level(\"info\");\n",
       "    },\n",
       "    \n",
       "    function(Bokeh) {\n",
       "      \n",
       "    },\n",
       "    function(Bokeh) {\n",
       "      console.log(\"Bokeh: injecting CSS: https://cdn.pydata.org/bokeh/release/bokeh-0.12.13.min.css\");\n",
       "      Bokeh.embed.inject_css(\"https://cdn.pydata.org/bokeh/release/bokeh-0.12.13.min.css\");\n",
       "      console.log(\"Bokeh: injecting CSS: https://cdn.pydata.org/bokeh/release/bokeh-widgets-0.12.13.min.css\");\n",
       "      Bokeh.embed.inject_css(\"https://cdn.pydata.org/bokeh/release/bokeh-widgets-0.12.13.min.css\");\n",
       "      console.log(\"Bokeh: injecting CSS: https://cdn.pydata.org/bokeh/release/bokeh-tables-0.12.13.min.css\");\n",
       "      Bokeh.embed.inject_css(\"https://cdn.pydata.org/bokeh/release/bokeh-tables-0.12.13.min.css\");\n",
       "    }\n",
       "  ];\n",
       "\n",
       "  function run_inline_js() {\n",
       "    \n",
       "    if ((root.Bokeh !== undefined) || (force === true)) {\n",
       "      for (var i = 0; i < inline_js.length; i++) {\n",
       "        inline_js[i].call(root, root.Bokeh);\n",
       "      }if (force === true) {\n",
       "        display_loaded();\n",
       "      }} else if (Date.now() < root._bokeh_timeout) {\n",
       "      setTimeout(run_inline_js, 100);\n",
       "    } else if (!root._bokeh_failed_load) {\n",
       "      console.log(\"Bokeh: BokehJS failed to load within specified timeout.\");\n",
       "      root._bokeh_failed_load = true;\n",
       "    } else if (force !== true) {\n",
       "      var cell = $(document.getElementById(\"c0dd8df4-69b3-4c9f-9c5d-f26d1f7d5b2b\")).parents('.cell').data().cell;\n",
       "      cell.output_area.append_execute_result(NB_LOAD_WARNING)\n",
       "    }\n",
       "\n",
       "  }\n",
       "\n",
       "  if (root._bokeh_is_loading === 0) {\n",
       "    console.log(\"Bokeh: BokehJS loaded, going straight to plotting\");\n",
       "    run_inline_js();\n",
       "  } else {\n",
       "    load_libs(js_urls, function() {\n",
       "      console.log(\"Bokeh: BokehJS plotting callback run at\", now());\n",
       "      run_inline_js();\n",
       "    });\n",
       "  }\n",
       "}(window));"
      ],
      "application/vnd.bokehjs_load.v0+json": "\n(function(root) {\n  function now() {\n    return new Date();\n  }\n\n  var force = true;\n\n  if (typeof (root._bokeh_onload_callbacks) === \"undefined\" || force === true) {\n    root._bokeh_onload_callbacks = [];\n    root._bokeh_is_loading = undefined;\n  }\n\n  \n\n  \n  if (typeof (root._bokeh_timeout) === \"undefined\" || force === true) {\n    root._bokeh_timeout = Date.now() + 5000;\n    root._bokeh_failed_load = false;\n  }\n\n  var NB_LOAD_WARNING = {'data': {'text/html':\n     \"<div style='background-color: #fdd'>\\n\"+\n     \"<p>\\n\"+\n     \"BokehJS does not appear to have successfully loaded. If loading BokehJS from CDN, this \\n\"+\n     \"may be due to a slow or bad network connection. Possible fixes:\\n\"+\n     \"</p>\\n\"+\n     \"<ul>\\n\"+\n     \"<li>re-rerun `output_notebook()` to attempt to load from CDN again, or</li>\\n\"+\n     \"<li>use INLINE resources instead, as so:</li>\\n\"+\n     \"</ul>\\n\"+\n     \"<code>\\n\"+\n     \"from bokeh.resources import INLINE\\n\"+\n     \"output_notebook(resources=INLINE)\\n\"+\n     \"</code>\\n\"+\n     \"</div>\"}};\n\n  function display_loaded() {\n    var el = document.getElementById(\"c0dd8df4-69b3-4c9f-9c5d-f26d1f7d5b2b\");\n    if (el != null) {\n      el.textContent = \"BokehJS is loading...\";\n    }\n    if (root.Bokeh !== undefined) {\n      if (el != null) {\n        el.textContent = \"BokehJS \" + root.Bokeh.version + \" successfully loaded.\";\n      }\n    } else if (Date.now() < root._bokeh_timeout) {\n      setTimeout(display_loaded, 100)\n    }\n  }\n\n\n  function run_callbacks() {\n    try {\n      root._bokeh_onload_callbacks.forEach(function(callback) { callback() });\n    }\n    finally {\n      delete root._bokeh_onload_callbacks\n    }\n    console.info(\"Bokeh: all callbacks have finished\");\n  }\n\n  function load_libs(js_urls, callback) {\n    root._bokeh_onload_callbacks.push(callback);\n    if (root._bokeh_is_loading > 0) {\n      console.log(\"Bokeh: BokehJS is being loaded, scheduling callback at\", now());\n      return null;\n    }\n    if (js_urls == null || js_urls.length === 0) {\n      run_callbacks();\n      return null;\n    }\n    console.log(\"Bokeh: BokehJS not loaded, scheduling load and callback at\", now());\n    root._bokeh_is_loading = js_urls.length;\n    for (var i = 0; i < js_urls.length; i++) {\n      var url = js_urls[i];\n      var s = document.createElement('script');\n      s.src = url;\n      s.async = false;\n      s.onreadystatechange = s.onload = function() {\n        root._bokeh_is_loading--;\n        if (root._bokeh_is_loading === 0) {\n          console.log(\"Bokeh: all BokehJS libraries loaded\");\n          run_callbacks()\n        }\n      };\n      s.onerror = function() {\n        console.warn(\"failed to load library \" + url);\n      };\n      console.log(\"Bokeh: injecting script tag for BokehJS library: \", url);\n      document.getElementsByTagName(\"head\")[0].appendChild(s);\n    }\n  };var element = document.getElementById(\"c0dd8df4-69b3-4c9f-9c5d-f26d1f7d5b2b\");\n  if (element == null) {\n    console.log(\"Bokeh: ERROR: autoload.js configured with elementid 'c0dd8df4-69b3-4c9f-9c5d-f26d1f7d5b2b' but no matching script tag was found. \")\n    return false;\n  }\n\n  var js_urls = [\"https://cdn.pydata.org/bokeh/release/bokeh-0.12.13.min.js\", \"https://cdn.pydata.org/bokeh/release/bokeh-widgets-0.12.13.min.js\", \"https://cdn.pydata.org/bokeh/release/bokeh-tables-0.12.13.min.js\", \"https://cdn.pydata.org/bokeh/release/bokeh-gl-0.12.13.min.js\"];\n\n  var inline_js = [\n    function(Bokeh) {\n      Bokeh.set_log_level(\"info\");\n    },\n    \n    function(Bokeh) {\n      \n    },\n    function(Bokeh) {\n      console.log(\"Bokeh: injecting CSS: https://cdn.pydata.org/bokeh/release/bokeh-0.12.13.min.css\");\n      Bokeh.embed.inject_css(\"https://cdn.pydata.org/bokeh/release/bokeh-0.12.13.min.css\");\n      console.log(\"Bokeh: injecting CSS: https://cdn.pydata.org/bokeh/release/bokeh-widgets-0.12.13.min.css\");\n      Bokeh.embed.inject_css(\"https://cdn.pydata.org/bokeh/release/bokeh-widgets-0.12.13.min.css\");\n      console.log(\"Bokeh: injecting CSS: https://cdn.pydata.org/bokeh/release/bokeh-tables-0.12.13.min.css\");\n      Bokeh.embed.inject_css(\"https://cdn.pydata.org/bokeh/release/bokeh-tables-0.12.13.min.css\");\n    }\n  ];\n\n  function run_inline_js() {\n    \n    if ((root.Bokeh !== undefined) || (force === true)) {\n      for (var i = 0; i < inline_js.length; i++) {\n        inline_js[i].call(root, root.Bokeh);\n      }if (force === true) {\n        display_loaded();\n      }} else if (Date.now() < root._bokeh_timeout) {\n      setTimeout(run_inline_js, 100);\n    } else if (!root._bokeh_failed_load) {\n      console.log(\"Bokeh: BokehJS failed to load within specified timeout.\");\n      root._bokeh_failed_load = true;\n    } else if (force !== true) {\n      var cell = $(document.getElementById(\"c0dd8df4-69b3-4c9f-9c5d-f26d1f7d5b2b\")).parents('.cell').data().cell;\n      cell.output_area.append_execute_result(NB_LOAD_WARNING)\n    }\n\n  }\n\n  if (root._bokeh_is_loading === 0) {\n    console.log(\"Bokeh: BokehJS loaded, going straight to plotting\");\n    run_inline_js();\n  } else {\n    load_libs(js_urls, function() {\n      console.log(\"Bokeh: BokehJS plotting callback run at\", now());\n      run_inline_js();\n    });\n  }\n}(window));"
     },
     "metadata": {},
     "output_type": "display_data"
    },
    {
     "data": {
      "text/html": [
       "\n",
       "<div class=\"bk-root\">\n",
       "    <div class=\"bk-plotdiv\" id=\"706ba053-78d8-4993-8932-7d867b20f177\"></div>\n",
       "</div>"
      ]
     },
     "metadata": {},
     "output_type": "display_data"
    },
    {
     "data": {
      "application/javascript": [
       "(function(root) {\n",
       "  function embed_document(root) {\n",
       "    \n",
       "  var docs_json = {\"45004668-48b4-4edf-8805-d202558927e9\":{\"roots\":{\"references\":[{\"attributes\":{\"dimension\":1,\"plot\":{\"id\":\"6d07c447-f6b4-4b5c-9e60-5a6a15332812\",\"subtype\":\"Figure\",\"type\":\"Plot\"},\"ticker\":{\"id\":\"626dc7cd-1665-4a9a-a2dc-99d4ba6245b0\",\"type\":\"BasicTicker\"}},\"id\":\"279921f6-b6cc-4f44-a75f-e8be9742d772\",\"type\":\"Grid\"},{\"attributes\":{\"bottom_units\":\"screen\",\"fill_alpha\":{\"value\":0.5},\"fill_color\":{\"value\":\"lightgrey\"},\"left_units\":\"screen\",\"level\":\"overlay\",\"line_alpha\":{\"value\":1.0},\"line_color\":{\"value\":\"black\"},\"line_dash\":[4,4],\"line_width\":{\"value\":2},\"plot\":null,\"render_mode\":\"css\",\"right_units\":\"screen\",\"top_units\":\"screen\"},\"id\":\"b92f7c66-cd78-4df9-8b80-52e57fc82e0c\",\"type\":\"BoxAnnotation\"},{\"attributes\":{\"plot\":null,\"text\":\"Polynomial function (x^4)\"},\"id\":\"af3c5e01-1108-4c20-a7f6-400a3ff7ca42\",\"type\":\"Title\"},{\"attributes\":{\"callback\":null,\"column_names\":[\"x\",\"y\"],\"data\":{\"x\":{\"__ndarray__\":\"AAAAAAAAAAB7FK5H4XqEP3sUrkfhepQ/uB6F61G4nj97FK5H4XqkP5qZmZmZmak/uB6F61G4rj/sUbgeheuxP3sUrkfherQ/CtejcD0Ktz8=\",\"dtype\":\"float64\",\"shape\":[10]},\"y\":{\"__ndarray__\":\"AAAAAAAAAAA6jDDijnlFPjqMMOKOeYU+eHFF1tgtqz46jDDijnnFPi5DHOviNto+eHFF1tgt6z5oKu2iIi35PjqMMOKOeQU/zvGXNwMzET8=\",\"dtype\":\"float64\",\"shape\":[10]}}},\"id\":\"7729d710-5a4c-40f1-8f52-dc4c3e1b7f8e\",\"type\":\"ColumnDataSource\"},{\"attributes\":{\"source\":{\"id\":\"7729d710-5a4c-40f1-8f52-dc4c3e1b7f8e\",\"type\":\"ColumnDataSource\"}},\"id\":\"58421098-866a-479b-8729-e92bf9df8a8e\",\"type\":\"CDSView\"},{\"attributes\":{\"data_source\":{\"id\":\"7729d710-5a4c-40f1-8f52-dc4c3e1b7f8e\",\"type\":\"ColumnDataSource\"},\"glyph\":{\"id\":\"279d79f2-7328-49dd-aeb9-2e212a6e743e\",\"type\":\"Line\"},\"hover_glyph\":null,\"muted_glyph\":null,\"nonselection_glyph\":{\"id\":\"ec0698b5-0135-4fd2-bb9b-726809012820\",\"type\":\"Line\"},\"selection_glyph\":null,\"view\":{\"id\":\"58421098-866a-479b-8729-e92bf9df8a8e\",\"type\":\"CDSView\"}},\"id\":\"9ebc352c-c948-498a-8109-34090abbf959\",\"type\":\"GlyphRenderer\"},{\"attributes\":{},\"id\":\"0eb32336-392f-465a-9ab6-46b191ab3652\",\"type\":\"BasicTickFormatter\"},{\"attributes\":{},\"id\":\"56daadfa-6c8c-447a-9e7e-ca3b795c7151\",\"type\":\"BasicTickFormatter\"},{\"attributes\":{},\"id\":\"28a3c1ff-bff9-48c1-bce3-9ea52fe0d529\",\"type\":\"PanTool\"},{\"attributes\":{},\"id\":\"340de84b-2851-4146-b050-cb6a7b726e80\",\"type\":\"SaveTool\"},{\"attributes\":{},\"id\":\"3ad3cfef-c6d3-4d7d-9442-a240426ccb55\",\"type\":\"WheelZoomTool\"},{\"attributes\":{},\"id\":\"a6ce5207-0b5a-4595-9364-1545c42c1182\",\"type\":\"ResetTool\"},{\"attributes\":{\"overlay\":{\"id\":\"b92f7c66-cd78-4df9-8b80-52e57fc82e0c\",\"type\":\"BoxAnnotation\"}},\"id\":\"893b1069-f948-4d26-aee6-267bed10f090\",\"type\":\"BoxZoomTool\"},{\"attributes\":{\"active_drag\":\"auto\",\"active_inspect\":\"auto\",\"active_scroll\":\"auto\",\"active_tap\":\"auto\",\"tools\":[{\"id\":\"28a3c1ff-bff9-48c1-bce3-9ea52fe0d529\",\"type\":\"PanTool\"},{\"id\":\"3ad3cfef-c6d3-4d7d-9442-a240426ccb55\",\"type\":\"WheelZoomTool\"},{\"id\":\"893b1069-f948-4d26-aee6-267bed10f090\",\"type\":\"BoxZoomTool\"},{\"id\":\"340de84b-2851-4146-b050-cb6a7b726e80\",\"type\":\"SaveTool\"},{\"id\":\"a6ce5207-0b5a-4595-9364-1545c42c1182\",\"type\":\"ResetTool\"},{\"id\":\"9a87351b-8db6-4417-a0c5-9465226450cc\",\"type\":\"HelpTool\"}]},\"id\":\"6a4c174a-a4e5-4db9-8ddb-9c0d18f0d60c\",\"type\":\"Toolbar\"},{\"attributes\":{},\"id\":\"9a87351b-8db6-4417-a0c5-9465226450cc\",\"type\":\"HelpTool\"},{\"attributes\":{},\"id\":\"905051b0-0820-4602-b1ac-335d3f74afde\",\"type\":\"LinearScale\"},{\"attributes\":{\"line_alpha\":0.1,\"line_color\":\"#1f77b4\",\"line_width\":2,\"x\":{\"field\":\"x\"},\"y\":{\"field\":\"y\"}},\"id\":\"ec0698b5-0135-4fd2-bb9b-726809012820\",\"type\":\"Line\"},{\"attributes\":{\"callback\":null},\"id\":\"42ca77d2-1203-442f-96ca-a3ef48568c05\",\"type\":\"DataRange1d\"},{\"attributes\":{},\"id\":\"51a0c7e7-8db6-4c5e-b38b-4347d7d4c20d\",\"type\":\"LinearScale\"},{\"attributes\":{\"axis_label\":\"x\",\"formatter\":{\"id\":\"56daadfa-6c8c-447a-9e7e-ca3b795c7151\",\"type\":\"BasicTickFormatter\"},\"plot\":{\"id\":\"6d07c447-f6b4-4b5c-9e60-5a6a15332812\",\"subtype\":\"Figure\",\"type\":\"Plot\"},\"ticker\":{\"id\":\"86c6668a-9b78-42d8-affc-489860057a95\",\"type\":\"BasicTicker\"}},\"id\":\"593e6bff-492c-4f5b-bd19-f5dad2186d24\",\"type\":\"LinearAxis\"},{\"attributes\":{\"items\":[{\"id\":\"6aef05e0-0aca-4bb3-86a1-e7cbe0cb298c\",\"type\":\"LegendItem\"}],\"plot\":{\"id\":\"6d07c447-f6b4-4b5c-9e60-5a6a15332812\",\"subtype\":\"Figure\",\"type\":\"Plot\"}},\"id\":\"8629c1aa-930a-4639-b4bd-2935e6c886d8\",\"type\":\"Legend\"},{\"attributes\":{},\"id\":\"86c6668a-9b78-42d8-affc-489860057a95\",\"type\":\"BasicTicker\"},{\"attributes\":{\"callback\":null},\"id\":\"fdca4bd8-93c0-46ad-b3de-dccbbcba8d70\",\"type\":\"DataRange1d\"},{\"attributes\":{\"below\":[{\"id\":\"593e6bff-492c-4f5b-bd19-f5dad2186d24\",\"type\":\"LinearAxis\"}],\"left\":[{\"id\":\"aa4ea109-7107-433e-bbb2-3bb95a78a70c\",\"type\":\"LinearAxis\"}],\"renderers\":[{\"id\":\"593e6bff-492c-4f5b-bd19-f5dad2186d24\",\"type\":\"LinearAxis\"},{\"id\":\"89c3950e-0114-480e-8ae2-f456bb714804\",\"type\":\"Grid\"},{\"id\":\"aa4ea109-7107-433e-bbb2-3bb95a78a70c\",\"type\":\"LinearAxis\"},{\"id\":\"279921f6-b6cc-4f44-a75f-e8be9742d772\",\"type\":\"Grid\"},{\"id\":\"b92f7c66-cd78-4df9-8b80-52e57fc82e0c\",\"type\":\"BoxAnnotation\"},{\"id\":\"8629c1aa-930a-4639-b4bd-2935e6c886d8\",\"type\":\"Legend\"},{\"id\":\"9ebc352c-c948-498a-8109-34090abbf959\",\"type\":\"GlyphRenderer\"}],\"title\":{\"id\":\"af3c5e01-1108-4c20-a7f6-400a3ff7ca42\",\"type\":\"Title\"},\"toolbar\":{\"id\":\"6a4c174a-a4e5-4db9-8ddb-9c0d18f0d60c\",\"type\":\"Toolbar\"},\"x_range\":{\"id\":\"fdca4bd8-93c0-46ad-b3de-dccbbcba8d70\",\"type\":\"DataRange1d\"},\"x_scale\":{\"id\":\"905051b0-0820-4602-b1ac-335d3f74afde\",\"type\":\"LinearScale\"},\"y_range\":{\"id\":\"42ca77d2-1203-442f-96ca-a3ef48568c05\",\"type\":\"DataRange1d\"},\"y_scale\":{\"id\":\"51a0c7e7-8db6-4c5e-b38b-4347d7d4c20d\",\"type\":\"LinearScale\"}},\"id\":\"6d07c447-f6b4-4b5c-9e60-5a6a15332812\",\"subtype\":\"Figure\",\"type\":\"Plot\"},{\"attributes\":{\"line_color\":\"#1f77b4\",\"line_width\":2,\"x\":{\"field\":\"x\"},\"y\":{\"field\":\"y\"}},\"id\":\"279d79f2-7328-49dd-aeb9-2e212a6e743e\",\"type\":\"Line\"},{\"attributes\":{\"plot\":{\"id\":\"6d07c447-f6b4-4b5c-9e60-5a6a15332812\",\"subtype\":\"Figure\",\"type\":\"Plot\"},\"ticker\":{\"id\":\"86c6668a-9b78-42d8-affc-489860057a95\",\"type\":\"BasicTicker\"}},\"id\":\"89c3950e-0114-480e-8ae2-f456bb714804\",\"type\":\"Grid\"},{\"attributes\":{\"label\":{\"value\":\"Quartic polynomial\"},\"renderers\":[{\"id\":\"9ebc352c-c948-498a-8109-34090abbf959\",\"type\":\"GlyphRenderer\"}]},\"id\":\"6aef05e0-0aca-4bb3-86a1-e7cbe0cb298c\",\"type\":\"LegendItem\"},{\"attributes\":{\"axis_label\":\"y\",\"formatter\":{\"id\":\"0eb32336-392f-465a-9ab6-46b191ab3652\",\"type\":\"BasicTickFormatter\"},\"plot\":{\"id\":\"6d07c447-f6b4-4b5c-9e60-5a6a15332812\",\"subtype\":\"Figure\",\"type\":\"Plot\"},\"ticker\":{\"id\":\"626dc7cd-1665-4a9a-a2dc-99d4ba6245b0\",\"type\":\"BasicTicker\"}},\"id\":\"aa4ea109-7107-433e-bbb2-3bb95a78a70c\",\"type\":\"LinearAxis\"},{\"attributes\":{},\"id\":\"626dc7cd-1665-4a9a-a2dc-99d4ba6245b0\",\"type\":\"BasicTicker\"}],\"root_ids\":[\"6d07c447-f6b4-4b5c-9e60-5a6a15332812\"]},\"title\":\"Bokeh Application\",\"version\":\"0.12.13\"}};\n",
       "  var render_items = [{\"docid\":\"45004668-48b4-4edf-8805-d202558927e9\",\"elementid\":\"706ba053-78d8-4993-8932-7d867b20f177\",\"modelid\":\"6d07c447-f6b4-4b5c-9e60-5a6a15332812\"}];\n",
       "  root.Bokeh.embed.embed_items_notebook(docs_json, render_items);\n",
       "\n",
       "  }\n",
       "  if (root.Bokeh !== undefined) {\n",
       "    embed_document(root);\n",
       "  } else {\n",
       "    var attempts = 0;\n",
       "    var timer = setInterval(function(root) {\n",
       "      if (root.Bokeh !== undefined) {\n",
       "        embed_document(root);\n",
       "        clearInterval(timer);\n",
       "      }\n",
       "      attempts++;\n",
       "      if (attempts > 100) {\n",
       "        console.log(\"Bokeh: ERROR: Unable to run BokehJS code because BokehJS library is missing\")\n",
       "        clearInterval(timer);\n",
       "      }\n",
       "    }, 10, root)\n",
       "  }\n",
       "})(window);"
      ],
      "application/vnd.bokehjs_exec.v0+json": ""
     },
     "metadata": {
      "application/vnd.bokehjs_exec.v0+json": {
       "id": "6d07c447-f6b4-4b5c-9e60-5a6a15332812"
      }
     },
     "output_type": "display_data"
    }
   ],
   "source": [
    "from bokeh.plotting import figure, output_notebook, show\n",
    "# create a new plot with a title and axis labels\n",
    "\n",
    "output_notebook()\n",
    "p = figure(title=\"Polynomial function (x^4)\", x_axis_label='x', y_axis_label='y')\n",
    "\n",
    "# add a line renderer with legend and line thickness\n",
    "p.line(x, y, legend=\"Quartic polynomial\", line_width=2)\n",
    "\n",
    "# show the results\n",
    "show(p)"
   ]
  },
  {
   "cell_type": "code",
   "execution_count": 9,
   "metadata": {},
   "outputs": [
    {
     "name": "stdout",
     "output_type": "stream",
     "text": [
      "[0.         0.01000001 0.02000016 0.03000081 0.04000256 0.05000625\n",
      " 0.06001296 0.07002401 0.08004096 0.09006561]\n"
     ]
    }
   ],
   "source": [
    "rk4polyout=RK4(.01,t,x,polyfn)\n",
    "print(y+x)"
   ]
  },
  {
   "cell_type": "code",
   "execution_count": 10,
   "metadata": {},
   "outputs": [
    {
     "name": "stdout",
     "output_type": "stream",
     "text": [
      "(0.01, array([0.01, 0.02, 0.03, 0.04, 0.05, 0.06, 0.07, 0.08, 0.09, 0.1 ]), array([0.        , 0.01      , 0.02      , 0.03000001, 0.04000003,\n",
      "       0.05000006, 0.06000013, 0.07000024, 0.08000041, 0.09000066]))\n",
      "[  nan -0.99 -0.99 -0.99 -0.99 -0.99 -0.99 -0.99 -0.99 -0.99]\n"
     ]
    },
    {
     "name": "stderr",
     "output_type": "stream",
     "text": [
      "/Users/sdorsher/anaconda3/lib/python3.6/site-packages/ipykernel_launcher.py:3: RuntimeWarning: invalid value encountered in true_divide\n",
      "  This is separate from the ipykernel package so we can avoid doing imports until\n"
     ]
    }
   ],
   "source": [
    "print(rk4polyout) \n",
    "#There are multiple items in the y output, which is confusing. trace this over time and plot an evolution and compare to exact solution, which I have analytically written down. steve points out truncation error\n",
    "print((rk4polyout[2]-y-x)/y)\n",
    "#order4 polynomial error (comparable in size to polyfn itself, relative error with it is one)"
   ]
  },
  {
   "cell_type": "code",
   "execution_count": 11,
   "metadata": {},
   "outputs": [],
   "source": [
    "def invpolyint(t,x):\n",
    "    p=[]\n",
    "    for ti in t:\n",
    "        xi=-3*t**(-1./3.)\n",
    "        p.append(xi)\n",
    "    return np.array(p)\n",
    "    \n",
    "\n"
   ]
  },
  {
   "cell_type": "code",
   "execution_count": 12,
   "metadata": {},
   "outputs": [],
   "source": [
    "#print(invpolyint(t,x)) #need an entire run to invert this because you need a history of a timeseries accumulated"
   ]
  },
  {
   "cell_type": "code",
   "execution_count": 13,
   "metadata": {},
   "outputs": [],
   "source": [
    "def analyticalpolyint(t,x):\n",
    "    p=[]\n",
    "    for xi in x:\n",
    "        ti = -1./3.*xi**(-3.)\n",
    "        p.append(ti)\n",
    "    return np.array(p)"
   ]
  },
  {
   "cell_type": "code",
   "execution_count": 14,
   "metadata": {},
   "outputs": [
    {
     "name": "stdout",
     "output_type": "stream",
     "text": [
      "[0.   0.01 0.02 0.03 0.04 0.05 0.06 0.07 0.08 0.09]\n"
     ]
    }
   ],
   "source": [
    "print(x)"
   ]
  },
  {
   "cell_type": "code",
   "execution_count": 15,
   "metadata": {},
   "outputs": [],
   "source": [
    "#print(analyticalpolyint(t,x))"
   ]
  },
  {
   "cell_type": "code",
   "execution_count": null,
   "metadata": {},
   "outputs": [],
   "source": []
  },
  {
   "cell_type": "code",
   "execution_count": 16,
   "metadata": {},
   "outputs": [],
   "source": [
    "def invertIMF(luminosity,lsun,masssun):\n",
    "    M=[]\n",
    "    for L in luminosity: \n",
    "        if (L<(.43)**4)*lsun:\n",
    "            x=((L/lsun/0.23)**(1./2.3))*masssun\n",
    "            #print(x,1)\n",
    "            M.append(x)\n",
    "        elif (L<16*lsun):\n",
    "            x=(((L/lsun)**(0.25))*masssun)\n",
    "            #print(L,lsun,masssun,x,2)\n",
    "            M.append(x)\n",
    "        elif (L<(((20**(3.5))*1.4)*masssun)):\n",
    "            x=(((L/lsun/1.4)**(1./3.5))*masssun)\n",
    "            #print(x,3)\n",
    "            M.append(x)\n",
    "        else:\n",
    "            x=((L/lsun/32000.)*masssun)\n",
    "            #print(x,4)\n",
    "            M.append(x)\n",
    "    return np.array(M)\n",
    "    "
   ]
  },
  {
   "cell_type": "code",
   "execution_count": null,
   "metadata": {},
   "outputs": [],
   "source": []
  },
  {
   "cell_type": "code",
   "execution_count": 55,
   "metadata": {},
   "outputs": [],
   "source": [
    "def InitialData():\n",
    "    random.seed(a=9001)\n",
    "    \n",
    "    #initially use an in plane orbit with random starting locations relative to the x axis\n",
    "    phi=np.random.uniform(0,1,2)\n",
    "    orbitangle=np.zeros(2)\n",
    "    #orbitalradius=np.random.uniform(.1,50,2)\n",
    "    orbitalradius=np.ones(2)\n",
    "    #start with circular orbits\n",
    "    #eccentricity=np.random.uniform(0.,.1,2)\n",
    "    eccentricity=np.zeros(2)\n",
    "    #magnitude=np.random.uniform(-20,-30,2) #absolute not apparent maginutde\n",
    "    #magsun=-26.832\n",
    "    masssun=1.989*10**30\n",
    "    lsun=3.828*10**26\n",
    "    massearth=5.9722*10**24\n",
    "    #luminosity=lsun*10**(0.4*(magnitude-magsun))\n",
    "    #masses= invertIMF(luminosity,lsun,masssun) #Initial mass function for Main Sequence\n",
    "    #masses=np.random.uniform(.7,5.) #replace with IMF\n",
    "    masses=np.array([masssun,massearth])\n",
    "\n",
    "    return phi,orbitangle,orbitalradius,eccentricity, masses\n",
    "\n"
   ]
  },
  {
   "cell_type": "code",
   "execution_count": 56,
   "metadata": {},
   "outputs": [],
   "source": [
    "import random\n",
    "initdat=InitialData()"
   ]
  },
  {
   "cell_type": "code",
   "execution_count": 57,
   "metadata": {},
   "outputs": [
    {
     "name": "stdout",
     "output_type": "stream",
     "text": [
      "(array([0.33216121, 0.15390364]), array([0., 0.]), array([1., 1.]), array([0., 0.]), array([1.9890e+30, 5.9722e+24]))\n"
     ]
    }
   ],
   "source": [
    "print(initdat)"
   ]
  },
  {
   "cell_type": "code",
   "execution_count": 100,
   "metadata": {},
   "outputs": [],
   "source": [
    "def getxyuv(initdat):\n",
    "    phi,orbitangle,orbitalradius,eccentricity, masses=initdat\n",
    "    #print(orbitalradius, phi, np.cos(phi), np.sin(phi))\n",
    "    metersperAU=149597870700\n",
    "    Gconstant=6.408*10**-11\n",
    "    x0=orbitalradius*np.cos(phi)*metersperAU\n",
    "    y0=orbitalradius*np.sin(phi)*metersperAU\n",
    "    z0=np.zeros(2)\n",
    "    \n",
    "\n",
    "    \n",
    "    #start at perihelion for both (eliptical, doesn't generalize to three body)\n",
    "    #actually start with circular orbit\n",
    "    ux0=np.zeros(2)*149597870700\n",
    "    #centrepital force balances gravitational force\n",
    "    reducedmass=np.zeros(2)\n",
    "    print(masses)\n",
    "    for i in np.arange(2):\n",
    "        j=(i+1)%2 #reverse masses\n",
    "        reducedmass[i]=masses[i]*mass[j]/np.sum(masses)\n",
    "    print(reducedmass)\n",
    "    rphys=orbitalradius*metersperAU*reducedmass/np.sum(masses)\n",
    "    print(rphys)\n",
    "    F=(Gconstant*reducedmass**2/rphys**2)\n",
    "    print(F)\n",
    "    #centF=reducedmass*v**2/rphys\n",
    "    #centF=accel\n",
    "    v=np.sqrt(Gconstant*reducedmass/rphys)\n",
    "    print(v)\n",
    "    uy0=v #initial data in y only\n",
    "    #evolve in plane only\n",
    "    #there is a units problem that needs to be fixed\n",
    "    #velocity initial conditions are not trivial. \n",
    "    uz0=np.zeros(2)\n",
    "    \n",
    "    #circular orbit\n",
    "    ax0=np.zeros(2)\n",
    "    ay0=np.zeros(2)\n",
    "    az0=np.zeros(2)\n",
    "    \n",
    "    \n",
    "    return reducedmass,x0,y0,z0, ux0, uy0,uz0, ax0, ay0,az0"
   ]
  },
  {
   "cell_type": "code",
   "execution_count": 101,
   "metadata": {},
   "outputs": [
    {
     "name": "stdout",
     "output_type": "stream",
     "text": [
      "[1.9890e+30 5.9722e+24]\n",
      "[5.97218207e+24 5.97218207e+24]\n",
      "[449182.02019948 449182.02019948]\n",
      "[1.13277552e+28 1.13277552e+28]\n",
      "[29188.82340899 29188.82340899]\n",
      "(array([5.97218207e+24, 5.97218207e+24]), array([1.41420823e+11, 1.47829653e+11]), array([4.87819006e+10, 2.29328737e+10]), array([0., 0.]), array([0., 0.]), array([29188.82340899, 29188.82340899]), array([0., 0.]), array([0., 0.]), array([0., 0.]), array([0., 0.]))\n",
      "141420822706.88956\n",
      "1.0\n"
     ]
    }
   ],
   "source": [
    "xyuva=getxyuv(initdat)\n",
    "print(xyuva)#In SI units\n",
    "print(xyuva[1][0])\n",
    "print(xyuva[0][0]/xyuva[0][1])"
   ]
  },
  {
   "cell_type": "code",
   "execution_count": 155,
   "metadata": {},
   "outputs": [],
   "source": [
    "def timestep(step,t,dt,reducedmass,xi,yi,zi, vxi, vyi, vzi, axi, ayi, azi):\n",
    "    xii=np.zeros(np.size(xi))\n",
    "    vxii=np.zeros(np.size(vx))\n",
    "    yii=np.zeros(np.size(yi))\n",
    "    vyii=np.zeros(np.size(vy))\n",
    "    zii=np.zeros(np.size(vzi))\n",
    "    vzii=np.zeros(np.size(vzi))\n",
    "    rii=np.zeros(np.size(xi))\n",
    "    axii=np.zeros(np.size(axi))\n",
    "    ayii=np.zeros(np.size(ayi))\n",
    "    azii=np.zeros(np.size(azi))\n",
    "    \n",
    "    for m in np.arange(len(x)):\n",
    "        #m represents choices of mass\n",
    "        i=step\n",
    "        \n",
    "        xii[m] = xi[m] + dt*vxi[m]\n",
    "        #print(xii)\n",
    "        vxii[m] = vxi[m] + dt*axi[m]\n",
    "        #print(vxii)\n",
    "        yii[m]= yi[m] + dt*vyi[m]\n",
    "        vyii[m] = vyi[m] + dt*ayi[m]\n",
    "        zii[m]= zi[m] + dt*vzi[m]\n",
    "        vzii[m] = vzi[m] + dt*azi[m]\n",
    "        rii[m]=np.sqrt(xi[m]**2+yi[m]**2+zi[m]**2)\n",
    "    \n",
    "    \n",
    "    Gconstant=6.408*10**-11\n",
    "    for k in np.arange(len(rii)):\n",
    "        for j in np.arange(len(rii)):\n",
    "            if j!=k:\n",
    "                axii[j]+=Gconstant*reducedmass[k]*(x[j]  - x[k])/np.abs((xii[j] - xii[k])**2+(yii[j]-yii[k])**2+(zii[j]-zii[k])**2)**(3./2.)\n",
    "                ayii[j]+=Gconstant*reducedmass[k]*(y[j]  - y[k])/np.abs((xii[j] - xii[k])**2+(yii[j]-yii[k])**2+(zii[j]-zii[k])**2)**(3./2.)\n",
    "                azii[j]+=Gconstant*reducedmass[k]*(z[j]  - z[k])/np.abs((xii[j] - xii[k])**2+(yii[j]-yii[k])**2+(zii[j]-zii[k])**2)**(3./2.)\n",
    "    #print(xii)\n",
    "    return reducedmass, xii,yii,zii,vxii,vyii,vzii,axii,ayii,azii\n",
    "                    "
   ]
  },
  {
   "cell_type": "code",
   "execution_count": 156,
   "metadata": {},
   "outputs": [
    {
     "name": "stdout",
     "output_type": "stream",
     "text": [
      "[ 5.23727101e-07 -5.23727101e-07]\n",
      "[ 5.23727101e-07 -5.23727101e-07]\n",
      "[ 5.23720761e-07 -5.23720761e-07]\n",
      "[ 5.23710194e-07 -5.23710194e-07]\n",
      "[ 5.23695401e-07 -5.23695401e-07]\n",
      "[ 5.23676383e-07 -5.23676383e-07]\n",
      "[ 5.2365314e-07 -5.2365314e-07]\n",
      "[ 5.23625673e-07 -5.23625673e-07]\n",
      "[ 5.23593984e-07 -5.23593984e-07]\n",
      "[ 5.23558074e-07 -5.23558074e-07]\n",
      "[ 5.23517945e-07 -5.23517945e-07]\n",
      "[ 5.23473598e-07 -5.23473598e-07]\n",
      "[ 5.23425035e-07 -5.23425035e-07]\n",
      "[ 5.23372259e-07 -5.23372259e-07]\n",
      "[ 5.23315271e-07 -5.23315271e-07]\n",
      "[ 5.23254075e-07 -5.23254075e-07]\n",
      "[ 5.23188672e-07 -5.23188672e-07]\n",
      "[ 5.23119066e-07 -5.23119066e-07]\n",
      "[ 5.2304526e-07 -5.2304526e-07]\n",
      "[ 5.22967258e-07 -5.22967258e-07]\n",
      "[ 5.22885061e-07 -5.22885061e-07]\n",
      "[ 5.22798675e-07 -5.22798675e-07]\n",
      "[ 5.22708103e-07 -5.22708103e-07]\n",
      "[ 5.22613349e-07 -5.22613349e-07]\n",
      "[ 5.22514417e-07 -5.22514417e-07]\n",
      "[ 5.22411312e-07 -5.22411312e-07]\n",
      "[ 5.22304037e-07 -5.22304037e-07]\n",
      "[ 5.22192598e-07 -5.22192598e-07]\n",
      "[ 5.22077e-07 -5.22077e-07]\n",
      "[ 5.21957248e-07 -5.21957248e-07]\n",
      "[ 5.21833346e-07 -5.21833346e-07]\n",
      "[ 5.21705301e-07 -5.21705301e-07]\n",
      "[ 5.21573118e-07 -5.21573118e-07]\n",
      "[ 5.21436802e-07 -5.21436802e-07]\n",
      "[ 5.21296361e-07 -5.21296361e-07]\n",
      "[ 5.21151799e-07 -5.21151799e-07]\n",
      "[ 5.21003123e-07 -5.21003123e-07]\n",
      "[ 5.2085034e-07 -5.2085034e-07]\n",
      "[ 5.20693457e-07 -5.20693457e-07]\n",
      "[ 5.2053248e-07 -5.2053248e-07]\n",
      "[ 5.20367416e-07 -5.20367416e-07]\n",
      "[ 5.20198272e-07 -5.20198272e-07]\n",
      "[ 5.20025056e-07 -5.20025056e-07]\n",
      "[ 5.19847776e-07 -5.19847776e-07]\n",
      "[ 5.19666439e-07 -5.19666439e-07]\n",
      "[ 5.19481052e-07 -5.19481052e-07]\n",
      "[ 5.19291625e-07 -5.19291625e-07]\n",
      "[ 5.19098164e-07 -5.19098164e-07]\n",
      "[ 5.1890068e-07 -5.1890068e-07]\n",
      "[ 5.18699179e-07 -5.18699179e-07]\n",
      "[ 5.18493671e-07 -5.18493671e-07]\n",
      "[ 5.18284165e-07 -5.18284165e-07]\n",
      "[ 5.1807067e-07 -5.1807067e-07]\n",
      "[ 5.17853195e-07 -5.17853195e-07]\n",
      "[ 5.17631749e-07 -5.17631749e-07]\n",
      "[ 5.17406342e-07 -5.17406342e-07]\n",
      "[ 5.17176983e-07 -5.17176983e-07]\n",
      "[ 5.16943683e-07 -5.16943683e-07]\n",
      "[ 5.16706451e-07 -5.16706451e-07]\n",
      "[ 5.16465297e-07 -5.16465297e-07]\n",
      "[ 5.16220233e-07 -5.16220233e-07]\n",
      "[ 5.15971268e-07 -5.15971268e-07]\n",
      "[ 5.15718412e-07 -5.15718412e-07]\n",
      "[ 5.15461678e-07 -5.15461678e-07]\n",
      "[ 5.15201075e-07 -5.15201075e-07]\n",
      "[ 5.14936615e-07 -5.14936615e-07]\n",
      "[ 5.14668309e-07 -5.14668309e-07]\n",
      "[ 5.14396168e-07 -5.14396168e-07]\n",
      "[ 5.14120204e-07 -5.14120204e-07]\n",
      "[ 5.13840428e-07 -5.13840428e-07]\n",
      "[ 5.13556853e-07 -5.13556853e-07]\n",
      "[ 5.1326949e-07 -5.1326949e-07]\n",
      "[ 5.12978352e-07 -5.12978352e-07]\n",
      "[ 5.1268345e-07 -5.1268345e-07]\n",
      "[ 5.12384797e-07 -5.12384797e-07]\n",
      "[ 5.12082406e-07 -5.12082406e-07]\n",
      "[ 5.11776288e-07 -5.11776288e-07]\n",
      "[ 5.11466458e-07 -5.11466458e-07]\n",
      "[ 5.11152928e-07 -5.11152928e-07]\n",
      "[ 5.10835711e-07 -5.10835711e-07]\n",
      "[ 5.10514819e-07 -5.10514819e-07]\n",
      "[ 5.10190268e-07 -5.10190268e-07]\n",
      "[ 5.09862069e-07 -5.09862069e-07]\n",
      "[ 5.09530237e-07 -5.09530237e-07]\n",
      "[ 5.09194785e-07 -5.09194785e-07]\n",
      "[ 5.08855727e-07 -5.08855727e-07]\n",
      "[ 5.08513077e-07 -5.08513077e-07]\n",
      "[ 5.08166849e-07 -5.08166849e-07]\n",
      "[ 5.07817057e-07 -5.07817057e-07]\n",
      "[ 5.07463716e-07 -5.07463716e-07]\n",
      "[ 5.07106841e-07 -5.07106841e-07]\n",
      "[ 5.06746444e-07 -5.06746444e-07]\n",
      "[ 5.06382542e-07 -5.06382542e-07]\n",
      "[ 5.0601515e-07 -5.0601515e-07]\n",
      "[ 5.05644281e-07 -5.05644281e-07]\n",
      "[ 5.05269951e-07 -5.05269951e-07]\n",
      "[ 5.04892176e-07 -5.04892176e-07]\n",
      "[ 5.04510969e-07 -5.04510969e-07]\n",
      "[ 5.04126348e-07 -5.04126348e-07]\n"
     ]
    }
   ],
   "source": [
    "dt=0.01*31556926 #seconds per year\n",
    "numsteps=100\n",
    "mass,x,y,z,vx,vy,vz,ax,ay,az=xyuva\n",
    "for i in np.arange(1,numsteps):\n",
    "    t=0.+i*numsteps*dt\n",
    "    mass, x,y,z,vx,vy,vz,ax,ay,az=timestep(i,t,dt,mass,x,y,z,vx,vy,vz,ax,ay,az)\n",
    "    #print(x,y,vx,vy,ax,ay)\n",
    "    print(ay) #forces should be equal and opposite, but in reduced mass framework accelerations are also equal and opposite\n",
    "    #accelerations should evolve from y to x with time in a sinusoidal manner even in reduced mass framework\n",
    "    print(ax)\n",
    "#mass, x,y,z,vx,vy,vz,ax,ay,az=timestep(2,0,dt,mass,x,y,z,vx,vy,vz,ax,ay,az)\n",
    "#print(x,y,vx,vy,ax,ay) \n",
    "#mass, x,y,z,vx,vy,vz,ax,ay,az=timestep(3,0,dt,mass,x,y,z,vx,vy,vz,ax,ay,az)\n",
    "#print(x,y,vx,vy,ax,ay) \n",
    "#mass, x,y,z,vx,vy,vz,ax,ay,az=timestep(4,0,dt,mass,x,y,z,vx,vy,vz,ax,ay,az)\n",
    "#print(x,y,vx,vy,ax,ay) "
   ]
  },
  {
   "cell_type": "code",
   "execution_count": null,
   "metadata": {},
   "outputs": [],
   "source": []
  }
 ],
 "metadata": {
  "kernelspec": {
   "display_name": "Python 3",
   "language": "python",
   "name": "python3"
  },
  "language_info": {
   "codemirror_mode": {
    "name": "ipython",
    "version": 3
   },
   "file_extension": ".py",
   "mimetype": "text/x-python",
   "name": "python",
   "nbconvert_exporter": "python",
   "pygments_lexer": "ipython3",
   "version": "3.6.4"
  }
 },
 "nbformat": 4,
 "nbformat_minor": 2
}
