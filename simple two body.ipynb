{
 "cells": [
  {
   "cell_type": "code",
   "execution_count": 3,
   "metadata": {},
   "outputs": [],
   "source": [
    "#from pip._internal import main as pip_main\n",
    "#except ImportError:\n",
    "#    from pip._internal import main as pip_main\n",
    "\n",
    "#package_to_install = \"numpy\"\n",
    "#try:\n",
    "#    pip_main([\"install\", \"--user\", package_to_install])\n",
    "#except SystemExit as e:\n",
    "#    print(e)"
   ]
  },
  {
   "cell_type": "markdown",
   "metadata": {},
   "source": [
    "The Newtonian Gravitational Force depends upon the masses of the two objects and the square of the distances between them. When one astronomical body acts upon another with force F12, the second body acts upon the first with equal and opposite force F21=-F12. Gravitational Force follows an inverse square law with regard to distance scaling that is exact in Newtonian gravity."
   ]
  },
  {
   "cell_type": "code",
   "execution_count": 4,
   "metadata": {},
   "outputs": [],
   "source": [
    "import numpy as np\n",
    "import matplotlib.pyplot as plt\n",
    "\n",
    "def NewtonianForce(mass1,mass2, r):\n",
    "    return (6.67408*10**-11)*mass1*mass2/r/r;"
   ]
  },
  {
   "cell_type": "markdown",
   "metadata": {},
   "source": [
    "To compute an orbit, it is necessary to solve a second order differential equation. \n",
    "\n",
    "F=ma\n",
    "\n",
    "For a two body problem:\n",
    "\n",
    "F12x=m1 d^2 x1/dt^2\n",
    "\n",
    "This can be decomposed into two coupled differential equations.\n",
    "\n",
    "F12x= m1 d v1/dt\n",
    "\n",
    "v1= d x1/dt\n",
    "\n",
    "There is also a y component and a z component. \n",
    "It is also necessary to track the position of the second particle."
   ]
  },
  {
   "cell_type": "markdown",
   "metadata": {},
   "source": [
    "Recall that once a force F12 is split into its components in the x and y direction, F12 will no longer exactly be given by the NewtonainForce equation given above but rather the magnitude of F12x, F12y, and F12z combined will equal that total. The nagnitude of a vector is found by squaring and summing the components then taking the square roots. So, sqrt(F12x^2+F12y^2+F12z^2)=FNewtonianForce"
   ]
  },
  {
   "cell_type": "markdown",
   "metadata": {},
   "source": [
    "Assume, for the purposes of a two body problem, the orbit is confined to the x-y plane. "
   ]
  },
  {
   "cell_type": "markdown",
   "metadata": {},
   "source": [
    "Define polar coordinates phi in the x-y plane beginning from the x axis and proceeding toward the y axis. Then F12x=F12 cos phi and F12y= F12 sin phi."
   ]
  },
  {
   "cell_type": "markdown",
   "metadata": {},
   "source": [
    "F12x=x/sqrt(x^2+y^2)*F12\n",
    "\n",
    "F12y = y/sqrt(x^2+y^2)*F12"
   ]
  },
  {
   "cell_type": "markdown",
   "metadata": {},
   "source": [
    "# Numerical solutions to differential equations"
   ]
  },
  {
   "cell_type": "markdown",
   "metadata": {},
   "source": [
    "To integrate a differential equation numerically, simply differentiate both of the two coupled equations, one time steop at a time, numerically. But how is this done numerically? There are a couple of ways. First consider how a derivative is defined. A derivative is a limit of a difference divided by a timestep. The euler derivative makes this definition discrete for small time steps. "
   ]
  },
  {
   "cell_type": "code",
   "execution_count": null,
   "metadata": {},
   "outputs": [],
   "source": []
  },
  {
   "cell_type": "code",
   "execution_count": 5,
   "metadata": {},
   "outputs": [],
   "source": [
    "def euler(h,t, x,y,z,f,debugprint):\n",
    "    xstep = (f(t, x, y,z)+f(t+h,x+h,y,z))/2*h\n",
    "    xnew=x+xstep\n",
    "    if(debugprint):\n",
    "        print(h,t,x,xstep,xnew)\n",
    "    return t+h,xnew"
   ]
  },
  {
   "cell_type": "markdown",
   "metadata": {},
   "source": [
    "The euler routine essentially just finds the slope in a small region of the graph. "
   ]
  },
  {
   "cell_type": "markdown",
   "metadata": {},
   "source": [
    "The Runga Kutta numerical derivative is a fourth order approximation to the derivative that accounts for the curvature and is better for something like an orbit that fundamentally has curvature to it where orvershoot near a minima may matter. "
   ]
  },
  {
   "cell_type": "markdown",
   "metadata": {},
   "source": [
    "# Verify Euler numerically"
   ]
  },
  {
   "cell_type": "code",
   "execution_count": 31,
   "metadata": {},
   "outputs": [],
   "source": [
    "def polynomial(x,power,a):\n",
    "    p=a*x**power\n",
    "    #print(pi)\n",
    "    return p\n",
    "    \n",
    "\n",
    "def polymaker1(t,x,y,z,power,a):\n",
    "    def poly(t,x,y,z):\n",
    "        return polynomial(x,power,a)\n",
    "    return poly\n",
    "\n",
    "#exact solution to pow=1 is lnx"
   ]
  },
  {
   "cell_type": "code",
   "execution_count": null,
   "metadata": {},
   "outputs": [],
   "source": []
  },
  {
   "cell_type": "code",
   "execution_count": 33,
   "metadata": {},
   "outputs": [
    {
     "name": "stdout",
     "output_type": "stream",
     "text": [
      "0.0 1.0\n"
     ]
    }
   ],
   "source": [
    "import numpy as np\n",
    "t=0.\n",
    "x=1.\n",
    "y=1.\n",
    "z=1.\n",
    "print(t,x)\n",
    "polyfn=polymaker1(t,x,y,z,1,1.0)"
   ]
  },
  {
   "cell_type": "code",
   "execution_count": 8,
   "metadata": {},
   "outputs": [
    {
     "name": "stdout",
     "output_type": "stream",
     "text": [
      "1.0\n"
     ]
    }
   ],
   "source": [
    "outp=polyfn(t,x,y,z) #this is correct: x^2\n",
    "print(outp)"
   ]
  },
  {
   "cell_type": "code",
   "execution_count": null,
   "metadata": {},
   "outputs": [],
   "source": []
  },
  {
   "cell_type": "code",
   "execution_count": 9,
   "metadata": {},
   "outputs": [
    {
     "name": "stdout",
     "output_type": "stream",
     "text": [
      "0.01 0.0 1.0 0.01005 1.01005\n",
      "(0.01, 1.01005)\n"
     ]
    }
   ],
   "source": [
    "eulerpolyout=euler(.01,t,x,y,z,polyfn,True)\n",
    "print(eulerpolyout)"
   ]
  },
  {
   "cell_type": "code",
   "execution_count": 10,
   "metadata": {},
   "outputs": [
    {
     "name": "stdout",
     "output_type": "stream",
     "text": [
      "0.01 0.0 1.0 0.01005 1.01005\n",
      "1.01005\n",
      "0.01 0.01 1.01005 0.0101505 1.0202004999999998\n",
      "1.0202004999999998\n",
      "0.01 0.02 1.0202004999999998 0.010252005 1.0304525049999997\n",
      "1.0304525049999997\n",
      "0.01 0.03 1.0304525049999997 0.010354525049999999 1.0408070300499996\n",
      "1.0408070300499996\n",
      "0.01 0.04 1.0408070300499996 0.010458070300499998 1.0512651003504996\n",
      "1.0512651003504996\n",
      "0.01 0.05 1.0512651003504996 0.010562651003504998 1.0618277513540046\n",
      "1.0618277513540046\n",
      "0.01 0.060000000000000005 1.0618277513540046 0.010668277513540048 1.0724960288675447\n",
      "1.0724960288675447\n",
      "0.01 0.07 1.0724960288675447 0.010774960288675448 1.0832709891562202\n",
      "1.0832709891562202\n",
      "0.01 0.08 1.0832709891562202 0.010882709891562202 1.0941536990477825\n",
      "1.0941536990477825\n",
      "[1.01005, 1.0202004999999998, 1.0304525049999997, 1.0408070300499996, 1.0512651003504996, 1.0618277513540046, 1.0724960288675447, 1.0832709891562202, 1.0941536990477825]\n",
      "[0.01, 0.02, 0.03, 0.04, 0.05, 0.060000000000000005, 0.07, 0.08, 0.09]\n"
     ]
    }
   ],
   "source": [
    "dt=0.01\n",
    "numsteps=10\n",
    "xvals=[]\n",
    "tvals=[]\n",
    "for i in np.arange(1,numsteps):\n",
    "    #t=0.+i*dt\n",
    "    t,x=euler(dt,t,x,y,z,polyfn,True)\n",
    "    print(x)\n",
    "    xvals.append(x)\n",
    "    tvals.append(t)\n",
    "print(xvals)\n",
    "print(tvals)"
   ]
  },
  {
   "cell_type": "code",
   "execution_count": 11,
   "metadata": {},
   "outputs": [
    {
     "name": "stdout",
     "output_type": "stream",
     "text": [
      "[1.01005017 1.02020134 1.03045453 1.04081077 1.0512711  1.06183655\n",
      " 1.07250818 1.08328707 1.09417428]\n"
     ]
    }
   ],
   "source": [
    "def analyticsoln1(array):\n",
    "        returnarray=np.exp(array)\n",
    "        return returnarray\n",
    "analyticxvals=analyticsoln1(tvals)\n",
    "print(analyticxvals)"
   ]
  },
  {
   "cell_type": "markdown",
   "metadata": {},
   "source": [
    "# Implement RK4"
   ]
  },
  {
   "cell_type": "code",
   "execution_count": 12,
   "metadata": {},
   "outputs": [],
   "source": [
    "def RK4(h,t,x,y,z,f,printdebug): #not a finite difference so no step in y\n",
    "    k1= h*f(t,x,y,z)\n",
    "    k2=h*f(t+h/2.,x+k1/2.,y,z)\n",
    "    k3=h*f(t+h/2.,x+k2/2.,y,z)\n",
    "    k4=h*f(t+h,x+k3,y,z)\n",
    "    if(printdebug):\n",
    "        print(f(t,x,y,z))\n",
    "        print(t,x,y,z,h) \n",
    "        print(\"k1\",k1)\n",
    "        print(\"k2\",k2)\n",
    "        print(\"k3\",k3)\n",
    "        print(\"k4\",k4)\n",
    "        print(1./6.*(k1+2.*k2+2.*k3+k4))\n",
    "        print(x+1/6.*(k1+2.*k2+2.*k3+k4))\n",
    "    return t+h, x+1/6.*(k1+2.*k2+2.*k3+k4)\n",
    "\n"
   ]
  },
  {
   "cell_type": "code",
   "execution_count": 13,
   "metadata": {},
   "outputs": [],
   "source": [
    "def RK4nodebug(h,t,x,y,z,f): #not a finite difference so no step in y\n",
    "    k1= h*f(t,x,y,z)\n",
    "    #print(\"k1\",k1)\n",
    "    k2=h*f(t+h/2.,x+k1/2.,y,z)\n",
    "    #print(\"k2\",k2)\n",
    "    k3=h*f(t+h/2.,x+k2/2.,y,z)\n",
    "    #print(\"k3\",k3)\n",
    "    k4=h*f(t+h,x+k3,y,z)\n",
    "    #print(\"k4\",k4)\n",
    "    return t+h, x+1/6.*(k1+2.*k2+2.*k3+k4)\n",
    "\n"
   ]
  },
  {
   "cell_type": "markdown",
   "metadata": {},
   "source": [
    "# Verifying the RK4 routine numerically"
   ]
  },
  {
   "cell_type": "markdown",
   "metadata": {},
   "source": [
    "First I verify the RK4 by examining the behavior for a differential equation where the right hand side is a fourth order polynomial. This should have a truncation error that is on the order of the fourth order polynomial itself"
   ]
  },
  {
   "cell_type": "code",
   "execution_count": 14,
   "metadata": {},
   "outputs": [],
   "source": [
    "def polynomial4(t,x,a,b,c,d,e):\n",
    "    p=a*t**4+b*t**3+c*t**2+d*t+e\n",
    "    #print(pi)\n",
    "    return p\n",
    "    \n",
    "\n",
    "def polymaker(t,x,y,z,a,b,c,d,e):\n",
    "    def poly(t,x,y,z):\n",
    "        return polynomial4(t,x,a,b,c,d,e)\n",
    "    return poly\n",
    "        \n",
    "        "
   ]
  },
  {
   "cell_type": "code",
   "execution_count": 15,
   "metadata": {},
   "outputs": [
    {
     "name": "stdout",
     "output_type": "stream",
     "text": [
      "0.0 1.0\n"
     ]
    }
   ],
   "source": [
    "import numpy as np\n",
    "t=0.\n",
    "x=1.0\n",
    "y=0.\n",
    "z=0.0\n",
    "print(t,x)\n",
    "polyfn=polymaker(t,x,y,z,1.,0.,0.,0.,0.)\n",
    "polyfn1=polymaker1(t,x,y,z,1,-1.0)"
   ]
  },
  {
   "cell_type": "code",
   "execution_count": 16,
   "metadata": {},
   "outputs": [],
   "source": [
    "#import matplotlib.pyplot as plt\n",
    "#plt.plot(t,polyfn(t,x))"
   ]
  },
  {
   "cell_type": "code",
   "execution_count": 17,
   "metadata": {},
   "outputs": [
    {
     "name": "stdout",
     "output_type": "stream",
     "text": [
      "1.0\n",
      "0.0 1.0 0.0 0.0 0.01\n",
      "k1 0.01\n",
      "k2 0.01005\n",
      "k3 0.01005025\n",
      "k4 0.010100502499999999\n",
      "0.010050167083333332\n",
      "1.0100501670833333\n",
      "1.0\n",
      "2.0\n",
      "(0.01, 1.0100501670833333)\n"
     ]
    }
   ],
   "source": [
    "rk4polyout=RK4(.01,t,x,y,z,polyfn1,True)\n",
    "print(x)\n",
    "print(outp+x)\n",
    "print(rk4polyout)"
   ]
  },
  {
   "cell_type": "code",
   "execution_count": 18,
   "metadata": {},
   "outputs": [
    {
     "name": "stdout",
     "output_type": "stream",
     "text": [
      "1.0\n",
      "0.0 1.0 0.0 0.0 0.01\n",
      "k1 0.01\n",
      "k2 0.01005\n",
      "k3 0.01005025\n",
      "k4 0.010100502499999999\n",
      "0.010050167083333332\n",
      "1.0100501670833333\n",
      "1.0100501670833333\n",
      "0.01 1.0100501670833333 0.0 0.0 0.01\n",
      "k1 0.010100501670833333\n",
      "k2 0.0101510041791875\n",
      "k3 0.010151256691729272\n",
      "k4 0.010202014237750625\n",
      "0.01015117294173625\n",
      "1.0202013400250696\n",
      "1.0202013400250696\n",
      "0.02 1.0202013400250696 0.0 0.0 0.01\n",
      "k1 0.010202013400250697\n",
      "k2 0.010253023467251949\n",
      "k3 0.010253278517586955\n",
      "k4 0.010304546185426566\n",
      "0.010253193925892513\n",
      "1.030454533950962\n",
      "1.030454533950962\n",
      "0.03 1.030454533950962 0.0 0.0 0.01\n",
      "k1 0.010304545339509622\n",
      "k2 0.01035606806620717\n",
      "k3 0.010356325679840657\n",
      "k4 0.010408108596308028\n",
      "0.01035624023798555\n",
      "1.0408107741889476\n",
      "1.0408107741889476\n",
      "0.04 1.0408107741889476 0.0 0.0 0.01\n",
      "k1 0.010408107741889477\n",
      "k2 0.010460148280598925\n",
      "k3 0.010460408483292471\n",
      "k4 0.010512711826722402\n",
      "0.010460322182732445\n",
      "1.05127109637168\n",
      "1.05127109637168\n",
      "0.05 1.05127109637168 0.0 0.0 0.01\n",
      "k1 0.0105127109637168\n",
      "k2 0.010565274518535384\n",
      "k3 0.010565537336309477\n",
      "k4 0.010618366337079894\n",
      "0.010565450168414401\n",
      "1.0618365465400945\n",
      "1.0618365465400945\n",
      "0.060000000000000005 1.0618365465400945 0.0 0.0 0.01\n",
      "k1 0.010618365465400945\n",
      "k2 0.01067145729272795\n",
      "k3 0.010671722751864586\n",
      "k4 0.010725082692919592\n",
      "0.0106716347079176\n",
      "1.0725081812480122\n",
      "1.0725081812480122\n",
      "0.07 1.0725081812480122 0.0 0.0 0.01\n",
      "k1 0.010725081812480122\n",
      "k2 0.010778707221542522\n",
      "k3 0.010778975348587834\n",
      "k4 0.010832871565966\n",
      "0.010778886419784472\n",
      "1.0832870676677966\n",
      "1.0832870676677966\n",
      "0.08 1.0832870676677966 0.0 0.0 0.01\n",
      "k1 0.010832870676677967\n",
      "k2 0.010887035030061356\n",
      "k3 0.010887305851828273\n",
      "k4 0.010941743735196248\n",
      "0.010887216029275577\n",
      "1.0941742836970723\n",
      "[1.0100501670833333, 1.0202013400250696, 1.030454533950962, 1.0408107741889476, 1.05127109637168, 1.0618365465400945, 1.0725081812480122, 1.0832870676677966, 1.0941742836970723]\n",
      "[0.01, 0.02, 0.03, 0.04, 0.05, 0.060000000000000005, 0.07, 0.08, 0.09]\n"
     ]
    }
   ],
   "source": [
    "dt=0.01\n",
    "numsteps=10\n",
    "intvals=[]\n",
    "tvals=[]\n",
    "for i in np.arange(1,numsteps):\n",
    "    t,x=RK4(dt,t,x,y,z,polyfn1,True)\n",
    "    #print(valueofintegral)\n",
    "    intvals.append(x)\n",
    "    tvals.append(t)\n",
    "print(intvals)\n",
    "print(tvals)"
   ]
  },
  {
   "cell_type": "markdown",
   "metadata": {},
   "source": [
    "RK4 is less precise than Euler for a 1st order polynomial RHS"
   ]
  },
  {
   "cell_type": "markdown",
   "metadata": {},
   "source": [
    "RK4 is precise to 1 part in 10^3 and Euler is precise to 1 part in 10^6 for this equation. "
   ]
  },
  {
   "cell_type": "markdown",
   "metadata": {},
   "source": [
    "# Check precision for a fourth order polynomial of RK4 relative to Euler. RK4 should do better "
   ]
  },
  {
   "cell_type": "code",
   "execution_count": 36,
   "metadata": {},
   "outputs": [],
   "source": [
    "polyfn4=polymaker1(t,x,y,z,4,-1.0)"
   ]
  },
  {
   "cell_type": "code",
   "execution_count": 56,
   "metadata": {},
   "outputs": [
    {
     "name": "stdout",
     "output_type": "stream",
     "text": [
      "0.6933612743506348\n",
      "-0.231120424783545\n",
      "1.0 0.6933612743506348 1.0 1.0 0.01\n",
      "k1 -0.00231120424783545\n",
      "k2 -0.0022958346968050985\n",
      "k3 -0.0022959366507114584\n",
      "k4 -0.0022807434751047346\n",
      "-0.0022959150696622165\n",
      "0.6910653592809726\n",
      "-0.22807437600030617\n",
      "1.01 0.6910653592809726 1.0 1.0 0.01\n",
      "k1 -0.002280743760003062\n",
      "k2 -0.002265726568170315\n",
      "k3 -0.002265825203258446\n",
      "k4 -0.0022509786648749128\n",
      "-0.002265804327955916\n",
      "0.6887995549530167\n",
      "-0.2250978937754673\n",
      "1.02 0.6887995549530167 1.0 1.0 0.01\n",
      "k1 -0.002250978937754673\n",
      "k2 -0.0022363026773626576\n",
      "k3 -0.0022363981327168697\n",
      "k4 -0.00222188704279087\n",
      "-0.0022363779334507662\n",
      "0.6865631770195659\n",
      "-0.22218873042700318\n",
      "1.03 0.6865631770195659 1.0 1.0 0.01\n",
      "k1 -0.002221887304270032\n",
      "k2 -0.0022075410247283976\n",
      "k3 -0.0022076334323280346\n",
      "k4 -0.002193447067092411\n",
      "-0.002207613880912551\n",
      "0.6843555631386534\n",
      "-0.2193447317751573\n",
      "1.04 0.6843555631386534 1.0 1.0 0.01\n",
      "k1 -0.0021934473177515727\n",
      "k2 -0.0021794205213487984\n",
      "k3 -0.002179510006495144\n",
      "k4 -0.0021656380836222533\n",
      "-0.0021794910761769514\n",
      "0.6821760720624764\n",
      "-0.21656383240072363\n",
      "1.05 0.6821760720624764 1.0 1.0 0.01\n",
      "k1 -0.0021656383240072365\n",
      "k2 -0.002151920943077076\n",
      "k3 -0.0021520076247908363\n",
      "k4 -0.002138440281237665\n",
      "-0.002151989290163454\n",
      "0.680024082772313\n",
      "-0.21384405118618993\n",
      "1.06 0.680024082772313 1.0 1.0 0.01\n",
      "k1 -0.0021384405118618994\n",
      "k2 -0.0021250228873041085\n",
      "k3 -0.0021251068786957627\n",
      "k4 -0.002111834649857114\n",
      "-0.0021250891156197925\n",
      "0.6778989936566931\n",
      "-0.2111834871203845\n",
      "1.07 0.6778989936566931 1.0 1.0 0.01\n",
      "k1 -0.002111834871203845\n",
      "k2 -0.0020987077322670426\n",
      "k3 -0.002098789140882134\n",
      "k4 -0.002085802940963313\n",
      "-0.002098771926410918\n",
      "0.6758002217302822\n",
      "-0.208580315348764\n",
      "1.08 0.6758002217302822 1.0 1.0 0.01\n",
      "k1 -0.00208580315348764\n",
      "k2 -0.0020729575987292253\n",
      "k3 -0.002073036526870503\n",
      "k4 -0.002060327630397652\n",
      "-0.0020730198391807914\n",
      "0.6737272018911014\n",
      "-0.2060327834528405\n",
      "1.09 0.6737272018911014 1.0 1.0 0.01\n",
      "k1 -0.002060327834528405\n",
      "k2 -0.002047755313872893\n",
      "k3 -0.0020478318589010744\n",
      "k4 -0.002035391883293476\n",
      "-0.0020478156772283027\n",
      "0.671679386213873\n",
      "-0.2035392079434957\n",
      "1.1 0.671679386213873 1.0 1.0 0.01\n",
      "k1 -0.002035392079434957\n",
      "k2 -0.0020230843772580383\n",
      "k3 -0.0020231586318727574\n",
      "k4 -0.002010979521007136\n",
      "-0.002023142936450614\n",
      "0.6696562432774225\n",
      "-0.20109797095407292\n",
      "1.11 0.6696562432774225 1.0 1.0 0.01\n",
      "k1 -0.002010979709540729\n",
      "k2 -0.00199892892871175\n",
      "k3 -0.001999000981214182\n",
      "k4 -0.001987074989916195\n",
      "-0.001998985753218131\n",
      "0.6676572575242044\n",
      "-0.19870751712018564\n",
      "1.12 0.6676572575242044 1.0 1.0 0.01\n",
      "k1 -0.0019870751712018566\n",
      "k2 -0.0019752737180224068\n",
      "k3 -0.0019753436525609125\n",
      "k4 -0.001963663331963801\n",
      "-0.0019753288740553825\n",
      "0.665681928650149\n",
      "-0.19636635063414418\n",
      "1.1300000000000001 0.665681928650149 1.0 1.0 0.01\n",
      "k1 -0.001963663506341442\n",
      "k2 -0.0019521040763222977\n",
      "k3 -0.0019521719731223173\n",
      "k4 -0.0019407301568370667\n",
      "-0.0019521576270112896\n",
      "0.6637297710231377\n",
      "-0.1940730324627834\n",
      "1.1400000000000001 0.6637297710231377 1.0 1.0 0.01\n",
      "k1 -0.001940730324627834\n",
      "k2 -0.0019294058890506843\n",
      "k3 -0.001929471824630033\n",
      "k4 -0.0019182616156754096\n",
      "-0.0019294578946107796\n",
      "0.6618003131285269\n",
      "-0.19182617771828742\n",
      "1.1500000000000001 0.6618003131285269 1.0 1.0 0.01\n",
      "k1 -0.0019182617771828741\n",
      "k2 -0.0019071655703971416\n",
      "k3 -0.001907229617767726\n",
      "k4 -0.0018962443762122676\n",
      "-0.0019072160882874795\n",
      "0.6598930970402395\n",
      "-0.18962445317235294\n",
      "1.1600000000000001 0.6598930970402395 1.0 1.0 0.01\n",
      "k1 -0.0018962445317235294\n",
      "k2 -0.0018853700391321066\n",
      "k3 -0.0018854322679890546\n",
      "k4 -0.0018746655992604897\n",
      "-0.0018854191242043902\n",
      "0.6580076779160351\n",
      "-0.18746657490472057\n",
      "1.1700000000000002 0.6580076779160351 1.0 1.0 0.01\n",
      "k1 -0.0018746657490472057\n",
      "k2 -0.001864006695738226\n",
      "k3 -0.0018640671726373014\n",
      "k4 -0.0018535129164580111\n",
      "-0.0018640544003760454\n",
      "0.656143623515659\n",
      "-0.18535130607773428\n",
      "1.1800000000000002 0.656143623515659 1.0 1.0 0.01\n",
      "k1 -0.0018535130607773428\n",
      "k2 -0.0018430634007621008\n",
      "k3 -0.0018431221892862171\n",
      "k4 -0.0018327744091962423\n",
      "-0.0018431097750117034\n",
      "0.6543005137406473\n",
      "-0.1832774548291751\n",
      "1.1900000000000002 0.6543005137406473 1.0 1.0 0.01\n",
      "k1 -0.001832774548291751\n",
      "k2 -0.0018225284543116548\n",
      "k3 -0.0018225856152272483\n",
      "k4 -0.0018124385886590269\n",
      "-0.001822573546004764\n",
      "0.6524779401946426\n",
      "-0.18124387227614958\n",
      "1.2000000000000002 0.6524779401946426 1.0 1.0 0.01\n",
      "k1 -0.0018124387227614958\n",
      "k2 -0.0018023905766295116\n",
      "k3 -0.0018024461680334722\n",
      "k4 -0.001792494376904934\n",
      "-0.0018024344314987331\n",
      "0.6506755057631438\n",
      "-0.1792494506233137\n",
      "1.2100000000000002 0.6506755057631438 1.0 1.0 0.01\n",
      "k1 -0.0017924945062331372\n",
      "k2 -0.0017826388896775333\n",
      "k3 -0.0017826929671353308\n",
      "k4 -0.0017729310889302546\n",
      "-0.0017826815514648529\n",
      "0.6488928242116789\n",
      "-0.17729312136916767\n",
      "1.2200000000000002 0.6488928242116789 1.0 1.0 0.01\n",
      "k1 -0.0017729312136916767\n",
      "k2 -0.0017632628996720684\n",
      "k3 -0.0017633155163476722\n",
      "k4 -0.0017537384156543292\n",
      "-0.0017633044102309146\n",
      "0.6471295198014481\n",
      "-0.17537385360458363\n",
      "1.2300000000000002 0.6471295198014481 1.0 1.0 0.01\n",
      "k1 -0.0017537385360458363\n",
      "k2 -0.0017442524805135538\n",
      "k3 -0.001744303687291689\n",
      "k4 -0.0017349064077727247\n",
      "-0.001744292879904841\n",
      "0.6453852269215432\n",
      "-0.17349065239811828\n",
      "1.2400000000000002 0.6453852269215432 1.0 1.0 0.01\n",
      "k1 -0.001734906523981183\n",
      "k2 -0.001725597858057847\n",
      "k3 -0.0017256477036591085\n",
      "k4 -0.0017164254604274077\n",
      "-0.0017256371846404166\n",
      "0.6436595897369027\n",
      "-0.17164255726302705\n",
      "1.2500000000000002 0.6436595897369027 1.0 1.0 0.01\n",
      "k1 -0.0017164255726302704\n",
      "k2 -0.0017072895951801923\n",
      "k3 -0.0017073381262694767\n",
      "k4 -0.0016982862986464429\n",
      "-0.0017073278856960085\n",
      "0.6419522618512067\n",
      "-0.1698286407012296\n",
      "1.2600000000000002 0.6419522618512067 1.0 1.0 0.01\n",
      "k1 -0.001698286407012296\n",
      "k2 -0.0016893185775859266\n",
      "k3 -0.00168936583887462\n",
      "k4 -0.0016804799635088319\n",
      "-0.00168935586724037\n",
      "0.6402629059839663\n",
      "-0.1680480068197902\n",
      "1.2700000000000002 0.6402629059839663 1.0 1.0 0.01\n",
      "k1 -0.001680480068197902\n",
      "k2 -0.0016716760003250277\n",
      "k3 -0.0016717220346673645\n",
      "k4 -0.0016629977989930048\n",
      "-0.0016717123228626152\n",
      "0.6385911936611037\n",
      "-0.1662997900157636\n",
      "1.2800000000000002 0.6385911936611037 1.0 1.0 0.01\n",
      "k1 -0.001662997900157636\n",
      "k2 -0.001654353354970416\n",
      "k3 -0.00165439820345437\n",
      "k4 -0.0016458314394701512\n",
      "-0.0016543887427462264\n",
      "0.6369368049183575\n",
      "[0.69106536 0.68879955 0.68656318 0.68435556 0.68217607 0.68002408\n",
      " 0.67789899 0.67580022 0.6737272  0.67167939 0.66965624 0.66765726\n",
      " 0.66568193 0.66372977 0.66180031 0.6598931  0.65800768 0.65614362\n",
      " 0.65430051 0.65247794 0.65067551 0.64889282 0.64712952 0.64538523\n",
      " 0.64365959 0.64195226 0.64026291 0.63859119 0.6369368 ]\n",
      "[1.01, 1.02, 1.03, 1.04, 1.05, 1.06, 1.07, 1.08, 1.09, 1.1, 1.11, 1.12, 1.1300000000000001, 1.1400000000000001, 1.1500000000000001, 1.1600000000000001, 1.1700000000000002, 1.1800000000000002, 1.1900000000000002, 1.2000000000000002, 1.2100000000000002, 1.2200000000000002, 1.2300000000000002, 1.2400000000000002, 1.2500000000000002, 1.2600000000000002, 1.2700000000000002, 1.2800000000000002, 1.2900000000000003]\n",
      "29 29\n"
     ]
    }
   ],
   "source": [
    "dt=0.01\n",
    "numsteps=30\n",
    "integralvals=[]\n",
    "tvals=[]\n",
    "t=1.\n",
    "x=(3.)**(-1./3.)\n",
    "print(x)\n",
    "for i in np.arange(1,numsteps):\n",
    "    t,x=RK4(dt,t,x,y,z,polyfn4,True)\n",
    "    #print(valueofintegral)\n",
    "    integralvals.append(x)\n",
    "    tvals.append(t)\n",
    "print(np.array(integralvals))\n",
    "print(tvals)\n",
    "print(len(integralvals),len(tvals))"
   ]
  },
  {
   "cell_type": "code",
   "execution_count": 57,
   "metadata": {},
   "outputs": [
    {
     "data": {
      "text/plain": [
       "0.6933612743506348"
      ]
     },
     "execution_count": 57,
     "metadata": {},
     "output_type": "execute_result"
    }
   ],
   "source": [
    "x0=(3.)**(-1./3.)\n",
    "x0"
   ]
  },
  {
   "cell_type": "markdown",
   "metadata": {},
   "source": [
    "The analyitic solution to the differential equation\n",
    "\n",
    "dx/dt = -x^4 \n",
    "\n",
    "is \n",
    "\n",
    "x= (3t)^(-1/3)\n",
    "\n",
    "Below the output is shown. The results are plotted for scaling comparison. It doesn't look like it scales correctly. '"
   ]
  },
  {
   "cell_type": "code",
   "execution_count": 58,
   "metadata": {},
   "outputs": [],
   "source": [
    "def ODEsolnanalytic(t):\n",
    "    return (3.*t)**(-1./3.)"
   ]
  },
  {
   "cell_type": "code",
   "execution_count": 59,
   "metadata": {},
   "outputs": [
    {
     "name": "stdout",
     "output_type": "stream",
     "text": [
      "[0.69106536 0.68879955 0.68656318 0.68435556 0.68217607 0.68002408\n",
      " 0.67789899 0.67580022 0.6737272  0.67167939 0.66965624 0.66765726\n",
      " 0.66568193 0.66372977 0.66180031 0.6598931  0.65800768 0.65614362\n",
      " 0.65430051 0.65247794 0.65067551 0.64889282 0.64712952 0.64538523\n",
      " 0.64365959 0.64195226 0.64026291 0.63859119 0.6369368 ]\n",
      "29\n"
     ]
    }
   ],
   "source": [
    "solnanalytic=[]\n",
    "for i in np.arange(len(tvals)):\n",
    "    solnanalytic.append(ODEsolnanalytic(tvals[i]))\n",
    "print(np.array(solnanalytic))\n",
    "print(len(solnanalytic))"
   ]
  },
  {
   "cell_type": "code",
   "execution_count": 61,
   "metadata": {},
   "outputs": [
    {
     "name": "stdout",
     "output_type": "stream",
     "text": [
      "0.01 1.3800000000000003 0.622266232609759 -0.0015487209465093541 0.6207175116632496\n",
      "0.6207175116632496\n",
      "0.01 1.3900000000000003 0.6207175116632496 -0.0015334852213442186 0.6191840264419054\n",
      "0.6191840264419054\n",
      "0.01 1.4000000000000004 0.6191840264419054 -0.001518510420680935 0.6176655160212244\n",
      "0.6176655160212244\n",
      "0.01 1.4100000000000004 0.6176655160212244 -0.0015037901981959096 0.6161617258230285\n",
      "0.6161617258230285\n",
      "0.01 1.4200000000000004 0.6161617258230285 -0.0014893184069972023 0.6146724074160314\n",
      "0.6146724074160314\n",
      "0.01 1.4300000000000004 0.6146724074160314 -0.0014750890919599331 0.6131973183240714\n",
      "0.6131973183240714\n",
      "0.01 1.4400000000000004 0.6131973183240714 -0.0014610964824092391 0.6117362218416622\n",
      "0.6117362218416622\n",
      "0.01 1.4500000000000004 0.6117362218416622 -0.0014473349851326556 0.6102888868565296\n",
      "0.6102888868565296\n",
      "0.01 1.4600000000000004 0.6102888868565296 -0.0014337991777048575 0.6088550876788248\n",
      "0.6088550876788248\n",
      "0.01 1.4700000000000004 0.6088550876788248 -0.0014204838021086947 0.6074346038767161\n",
      "0.6074346038767161\n",
      "0.01 1.4800000000000004 0.6074346038767161 -0.001407383758637391 0.6060272201180787\n",
      "0.6060272201180787\n",
      "0.01 1.4900000000000004 0.6060272201180787 -0.0013944941000636518 0.6046327260180151\n",
      "0.6046327260180151\n",
      "0.01 1.5000000000000004 0.6046327260180151 -0.001381810026062228 0.6032509159919529\n",
      "0.6032509159919529\n",
      "0.01 1.5100000000000005 0.6032509159919529 -0.0013693268778732692 0.6018815891140796\n",
      "0.6018815891140796\n",
      "0.01 1.5200000000000005 0.6018815891140796 -0.0013570401331944966 0.6005245489808851\n",
      "0.6005245489808851\n",
      "0.01 1.5300000000000005 0.6005245489808851 -0.0013449454012909084 0.5991796035795942\n",
      "0.5991796035795942\n",
      "0.01 1.5400000000000005 0.5991796035795942 -0.0013330384183113525 0.5978465651612829\n",
      "0.5978465651612829\n",
      "0.01 1.5500000000000005 0.5978465651612829 -0.001321315042801904 0.596525250118481\n",
      "0.596525250118481\n",
      "0.01 1.5600000000000005 0.596525250118481 -0.0013097712514065116 0.5952154788670745\n",
      "0.5952154788670745\n",
      "0.01 1.5700000000000005 0.5952154788670745 -0.0012984031347459417 0.5939170757323285\n",
      "0.5939170757323285\n",
      "0.01 1.5800000000000005 0.5939170757323285 -0.0012872068934664826 0.592629868838862\n",
      "0.592629868838862\n",
      "0.01 1.5900000000000005 0.592629868838862 -0.0012761788344503812 0.5913536900044116\n",
      "0.5913536900044116\n",
      "0.01 1.6000000000000005 0.5913536900044116 -0.0012653153671803746 0.5900883746372313\n",
      "0.5900883746372313\n",
      "0.01 1.6100000000000005 0.5900883746372313 -0.0012546130002511209 0.5888337616369802\n",
      "0.5888337616369802\n",
      "0.01 1.6200000000000006 0.5888337616369802 -0.0012440683380206745 0.5875896932989595\n",
      "0.5875896932989595\n",
      "0.01 1.6300000000000006 0.5875896932989595 -0.001233678077395557 0.5863560152215639\n",
      "0.5863560152215639\n",
      "0.01 1.6400000000000006 0.5863560152215639 -0.0012234390047432709 0.5851325762168206\n",
      "0.5851325762168206\n",
      "0.01 1.6500000000000006 0.5851325762168206 -0.0012133479929264436 0.5839192282238941\n",
      "0.5839192282238941\n",
      "0.01 1.6600000000000006 0.5839192282238941 -0.001203401998453087 0.582715826225441\n",
      "0.582715826225441\n",
      "[0.6207175116632496, 0.6191840264419054, 0.6176655160212244, 0.6161617258230285, 0.6146724074160314, 0.6131973183240714, 0.6117362218416622, 0.6102888868565296, 0.6088550876788248, 0.6074346038767161, 0.6060272201180787, 0.6046327260180151, 0.6032509159919529, 0.6018815891140796, 0.6005245489808851, 0.5991796035795942, 0.5978465651612829, 0.596525250118481, 0.5952154788670745, 0.5939170757323285, 0.592629868838862, 0.5913536900044116, 0.5900883746372313, 0.5888337616369802, 0.5875896932989595, 0.5863560152215639, 0.5851325762168206, 0.5839192282238941, 0.582715826225441]\n",
      "[1.3900000000000003, 1.4000000000000004, 1.4100000000000004, 1.4200000000000004, 1.4300000000000004, 1.4400000000000004, 1.4500000000000004, 1.4600000000000004, 1.4700000000000004, 1.4800000000000004, 1.4900000000000004, 1.5000000000000004, 1.5100000000000005, 1.5200000000000005, 1.5300000000000005, 1.5400000000000005, 1.5500000000000005, 1.5600000000000005, 1.5700000000000005, 1.5800000000000005, 1.5900000000000005, 1.6000000000000005, 1.6100000000000005, 1.6200000000000006, 1.6300000000000006, 1.6400000000000006, 1.6500000000000006, 1.6600000000000006, 1.6700000000000006]\n"
     ]
    }
   ],
   "source": [
    "dt=0.01\n",
    "numsteps=30\n",
    "xvals=[]\n",
    "tvals=[]\n",
    "for i in np.arange(1,numsteps):\n",
    "    #t=0.+i*dt\n",
    "    t,x=euler(dt,t,x,y,z,polyfn4,True)\n",
    "    print(x)\n",
    "    xvals.append(x)\n",
    "    tvals.append(t)\n",
    "print(xvals)\n",
    "print(tvals)"
   ]
  },
  {
   "cell_type": "code",
   "execution_count": 73,
   "metadata": {},
   "outputs": [
    {
     "data": {
      "text/html": [
       "\n",
       "    <div class=\"bk-root\">\n",
       "        <a href=\"https://bokeh.pydata.org\" target=\"_blank\" class=\"bk-logo bk-logo-small bk-logo-notebook\"></a>\n",
       "        <span id=\"3328\">Loading BokehJS ...</span>\n",
       "    </div>"
      ]
     },
     "metadata": {},
     "output_type": "display_data"
    },
    {
     "data": {
      "application/javascript": [
       "\n",
       "(function(root) {\n",
       "  function now() {\n",
       "    return new Date();\n",
       "  }\n",
       "\n",
       "  var force = true;\n",
       "\n",
       "  if (typeof root._bokeh_onload_callbacks === \"undefined\" || force === true) {\n",
       "    root._bokeh_onload_callbacks = [];\n",
       "    root._bokeh_is_loading = undefined;\n",
       "  }\n",
       "\n",
       "  var JS_MIME_TYPE = 'application/javascript';\n",
       "  var HTML_MIME_TYPE = 'text/html';\n",
       "  var EXEC_MIME_TYPE = 'application/vnd.bokehjs_exec.v0+json';\n",
       "  var CLASS_NAME = 'output_bokeh rendered_html';\n",
       "\n",
       "  /**\n",
       "   * Render data to the DOM node\n",
       "   */\n",
       "  function render(props, node) {\n",
       "    var script = document.createElement(\"script\");\n",
       "    node.appendChild(script);\n",
       "  }\n",
       "\n",
       "  /**\n",
       "   * Handle when an output is cleared or removed\n",
       "   */\n",
       "  function handleClearOutput(event, handle) {\n",
       "    var cell = handle.cell;\n",
       "\n",
       "    var id = cell.output_area._bokeh_element_id;\n",
       "    var server_id = cell.output_area._bokeh_server_id;\n",
       "    // Clean up Bokeh references\n",
       "    if (id != null && id in Bokeh.index) {\n",
       "      Bokeh.index[id].model.document.clear();\n",
       "      delete Bokeh.index[id];\n",
       "    }\n",
       "\n",
       "    if (server_id !== undefined) {\n",
       "      // Clean up Bokeh references\n",
       "      var cmd = \"from bokeh.io.state import curstate; print(curstate().uuid_to_server['\" + server_id + \"'].get_sessions()[0].document.roots[0]._id)\";\n",
       "      cell.notebook.kernel.execute(cmd, {\n",
       "        iopub: {\n",
       "          output: function(msg) {\n",
       "            var id = msg.content.text.trim();\n",
       "            if (id in Bokeh.index) {\n",
       "              Bokeh.index[id].model.document.clear();\n",
       "              delete Bokeh.index[id];\n",
       "            }\n",
       "          }\n",
       "        }\n",
       "      });\n",
       "      // Destroy server and session\n",
       "      var cmd = \"import bokeh.io.notebook as ion; ion.destroy_server('\" + server_id + \"')\";\n",
       "      cell.notebook.kernel.execute(cmd);\n",
       "    }\n",
       "  }\n",
       "\n",
       "  /**\n",
       "   * Handle when a new output is added\n",
       "   */\n",
       "  function handleAddOutput(event, handle) {\n",
       "    var output_area = handle.output_area;\n",
       "    var output = handle.output;\n",
       "\n",
       "    // limit handleAddOutput to display_data with EXEC_MIME_TYPE content only\n",
       "    if ((output.output_type != \"display_data\") || (!output.data.hasOwnProperty(EXEC_MIME_TYPE))) {\n",
       "      return\n",
       "    }\n",
       "\n",
       "    var toinsert = output_area.element.find(\".\" + CLASS_NAME.split(' ')[0]);\n",
       "\n",
       "    if (output.metadata[EXEC_MIME_TYPE][\"id\"] !== undefined) {\n",
       "      toinsert[toinsert.length - 1].firstChild.textContent = output.data[JS_MIME_TYPE];\n",
       "      // store reference to embed id on output_area\n",
       "      output_area._bokeh_element_id = output.metadata[EXEC_MIME_TYPE][\"id\"];\n",
       "    }\n",
       "    if (output.metadata[EXEC_MIME_TYPE][\"server_id\"] !== undefined) {\n",
       "      var bk_div = document.createElement(\"div\");\n",
       "      bk_div.innerHTML = output.data[HTML_MIME_TYPE];\n",
       "      var script_attrs = bk_div.children[0].attributes;\n",
       "      for (var i = 0; i < script_attrs.length; i++) {\n",
       "        toinsert[toinsert.length - 1].firstChild.setAttribute(script_attrs[i].name, script_attrs[i].value);\n",
       "      }\n",
       "      // store reference to server id on output_area\n",
       "      output_area._bokeh_server_id = output.metadata[EXEC_MIME_TYPE][\"server_id\"];\n",
       "    }\n",
       "  }\n",
       "\n",
       "  function register_renderer(events, OutputArea) {\n",
       "\n",
       "    function append_mime(data, metadata, element) {\n",
       "      // create a DOM node to render to\n",
       "      var toinsert = this.create_output_subarea(\n",
       "        metadata,\n",
       "        CLASS_NAME,\n",
       "        EXEC_MIME_TYPE\n",
       "      );\n",
       "      this.keyboard_manager.register_events(toinsert);\n",
       "      // Render to node\n",
       "      var props = {data: data, metadata: metadata[EXEC_MIME_TYPE]};\n",
       "      render(props, toinsert[toinsert.length - 1]);\n",
       "      element.append(toinsert);\n",
       "      return toinsert\n",
       "    }\n",
       "\n",
       "    /* Handle when an output is cleared or removed */\n",
       "    events.on('clear_output.CodeCell', handleClearOutput);\n",
       "    events.on('delete.Cell', handleClearOutput);\n",
       "\n",
       "    /* Handle when a new output is added */\n",
       "    events.on('output_added.OutputArea', handleAddOutput);\n",
       "\n",
       "    /**\n",
       "     * Register the mime type and append_mime function with output_area\n",
       "     */\n",
       "    OutputArea.prototype.register_mime_type(EXEC_MIME_TYPE, append_mime, {\n",
       "      /* Is output safe? */\n",
       "      safe: true,\n",
       "      /* Index of renderer in `output_area.display_order` */\n",
       "      index: 0\n",
       "    });\n",
       "  }\n",
       "\n",
       "  // register the mime type if in Jupyter Notebook environment and previously unregistered\n",
       "  if (root.Jupyter !== undefined) {\n",
       "    var events = require('base/js/events');\n",
       "    var OutputArea = require('notebook/js/outputarea').OutputArea;\n",
       "\n",
       "    if (OutputArea.prototype.mime_types().indexOf(EXEC_MIME_TYPE) == -1) {\n",
       "      register_renderer(events, OutputArea);\n",
       "    }\n",
       "  }\n",
       "\n",
       "  \n",
       "  if (typeof (root._bokeh_timeout) === \"undefined\" || force === true) {\n",
       "    root._bokeh_timeout = Date.now() + 5000;\n",
       "    root._bokeh_failed_load = false;\n",
       "  }\n",
       "\n",
       "  var NB_LOAD_WARNING = {'data': {'text/html':\n",
       "     \"<div style='background-color: #fdd'>\\n\"+\n",
       "     \"<p>\\n\"+\n",
       "     \"BokehJS does not appear to have successfully loaded. If loading BokehJS from CDN, this \\n\"+\n",
       "     \"may be due to a slow or bad network connection. Possible fixes:\\n\"+\n",
       "     \"</p>\\n\"+\n",
       "     \"<ul>\\n\"+\n",
       "     \"<li>re-rerun `output_notebook()` to attempt to load from CDN again, or</li>\\n\"+\n",
       "     \"<li>use INLINE resources instead, as so:</li>\\n\"+\n",
       "     \"</ul>\\n\"+\n",
       "     \"<code>\\n\"+\n",
       "     \"from bokeh.resources import INLINE\\n\"+\n",
       "     \"output_notebook(resources=INLINE)\\n\"+\n",
       "     \"</code>\\n\"+\n",
       "     \"</div>\"}};\n",
       "\n",
       "  function display_loaded() {\n",
       "    var el = document.getElementById(\"3328\");\n",
       "    if (el != null) {\n",
       "      el.textContent = \"BokehJS is loading...\";\n",
       "    }\n",
       "    if (root.Bokeh !== undefined) {\n",
       "      if (el != null) {\n",
       "        el.textContent = \"BokehJS \" + root.Bokeh.version + \" successfully loaded.\";\n",
       "      }\n",
       "    } else if (Date.now() < root._bokeh_timeout) {\n",
       "      setTimeout(display_loaded, 100)\n",
       "    }\n",
       "  }\n",
       "\n",
       "\n",
       "  function run_callbacks() {\n",
       "    try {\n",
       "      root._bokeh_onload_callbacks.forEach(function(callback) {\n",
       "        if (callback != null)\n",
       "          callback();\n",
       "      });\n",
       "    } finally {\n",
       "      delete root._bokeh_onload_callbacks\n",
       "    }\n",
       "    console.debug(\"Bokeh: all callbacks have finished\");\n",
       "  }\n",
       "\n",
       "  function load_libs(css_urls, js_urls, callback) {\n",
       "    if (css_urls == null) css_urls = [];\n",
       "    if (js_urls == null) js_urls = [];\n",
       "\n",
       "    root._bokeh_onload_callbacks.push(callback);\n",
       "    if (root._bokeh_is_loading > 0) {\n",
       "      console.debug(\"Bokeh: BokehJS is being loaded, scheduling callback at\", now());\n",
       "      return null;\n",
       "    }\n",
       "    if (js_urls == null || js_urls.length === 0) {\n",
       "      run_callbacks();\n",
       "      return null;\n",
       "    }\n",
       "    console.debug(\"Bokeh: BokehJS not loaded, scheduling load and callback at\", now());\n",
       "    root._bokeh_is_loading = css_urls.length + js_urls.length;\n",
       "\n",
       "    function on_load() {\n",
       "      root._bokeh_is_loading--;\n",
       "      if (root._bokeh_is_loading === 0) {\n",
       "        console.debug(\"Bokeh: all BokehJS libraries/stylesheets loaded\");\n",
       "        run_callbacks()\n",
       "      }\n",
       "    }\n",
       "\n",
       "    function on_error() {\n",
       "      console.error(\"failed to load \" + url);\n",
       "    }\n",
       "\n",
       "    for (var i = 0; i < css_urls.length; i++) {\n",
       "      var url = css_urls[i];\n",
       "      const element = document.createElement(\"link\");\n",
       "      element.onload = on_load;\n",
       "      element.onerror = on_error;\n",
       "      element.rel = \"stylesheet\";\n",
       "      element.type = \"text/css\";\n",
       "      element.href = url;\n",
       "      console.debug(\"Bokeh: injecting link tag for BokehJS stylesheet: \", url);\n",
       "      document.body.appendChild(element);\n",
       "    }\n",
       "\n",
       "    for (var i = 0; i < js_urls.length; i++) {\n",
       "      var url = js_urls[i];\n",
       "      var element = document.createElement('script');\n",
       "      element.onload = on_load;\n",
       "      element.onerror = on_error;\n",
       "      element.async = false;\n",
       "      element.src = url;\n",
       "      console.debug(\"Bokeh: injecting script tag for BokehJS library: \", url);\n",
       "      document.head.appendChild(element);\n",
       "    }\n",
       "  };var element = document.getElementById(\"3328\");\n",
       "  if (element == null) {\n",
       "    console.error(\"Bokeh: ERROR: autoload.js configured with elementid '3328' but no matching script tag was found. \")\n",
       "    return false;\n",
       "  }\n",
       "\n",
       "  function inject_raw_css(css) {\n",
       "    const element = document.createElement(\"style\");\n",
       "    element.appendChild(document.createTextNode(css));\n",
       "    document.body.appendChild(element);\n",
       "  }\n",
       "\n",
       "  var js_urls = [\"https://cdn.pydata.org/bokeh/release/bokeh-1.3.4.min.js\", \"https://cdn.pydata.org/bokeh/release/bokeh-widgets-1.3.4.min.js\", \"https://cdn.pydata.org/bokeh/release/bokeh-tables-1.3.4.min.js\", \"https://cdn.pydata.org/bokeh/release/bokeh-gl-1.3.4.min.js\"];\n",
       "  var css_urls = [];\n",
       "\n",
       "  var inline_js = [\n",
       "    function(Bokeh) {\n",
       "      Bokeh.set_log_level(\"info\");\n",
       "    },\n",
       "    \n",
       "    function(Bokeh) {\n",
       "      \n",
       "    },\n",
       "    function(Bokeh) {} // ensure no trailing comma for IE\n",
       "  ];\n",
       "\n",
       "  function run_inline_js() {\n",
       "    \n",
       "    if ((root.Bokeh !== undefined) || (force === true)) {\n",
       "      for (var i = 0; i < inline_js.length; i++) {\n",
       "        inline_js[i].call(root, root.Bokeh);\n",
       "      }if (force === true) {\n",
       "        display_loaded();\n",
       "      }} else if (Date.now() < root._bokeh_timeout) {\n",
       "      setTimeout(run_inline_js, 100);\n",
       "    } else if (!root._bokeh_failed_load) {\n",
       "      console.log(\"Bokeh: BokehJS failed to load within specified timeout.\");\n",
       "      root._bokeh_failed_load = true;\n",
       "    } else if (force !== true) {\n",
       "      var cell = $(document.getElementById(\"3328\")).parents('.cell').data().cell;\n",
       "      cell.output_area.append_execute_result(NB_LOAD_WARNING)\n",
       "    }\n",
       "\n",
       "  }\n",
       "\n",
       "  if (root._bokeh_is_loading === 0) {\n",
       "    console.debug(\"Bokeh: BokehJS loaded, going straight to plotting\");\n",
       "    run_inline_js();\n",
       "  } else {\n",
       "    load_libs(css_urls, js_urls, function() {\n",
       "      console.debug(\"Bokeh: BokehJS plotting callback run at\", now());\n",
       "      run_inline_js();\n",
       "    });\n",
       "  }\n",
       "}(window));"
      ],
      "application/vnd.bokehjs_load.v0+json": "\n(function(root) {\n  function now() {\n    return new Date();\n  }\n\n  var force = true;\n\n  if (typeof root._bokeh_onload_callbacks === \"undefined\" || force === true) {\n    root._bokeh_onload_callbacks = [];\n    root._bokeh_is_loading = undefined;\n  }\n\n  \n\n  \n  if (typeof (root._bokeh_timeout) === \"undefined\" || force === true) {\n    root._bokeh_timeout = Date.now() + 5000;\n    root._bokeh_failed_load = false;\n  }\n\n  var NB_LOAD_WARNING = {'data': {'text/html':\n     \"<div style='background-color: #fdd'>\\n\"+\n     \"<p>\\n\"+\n     \"BokehJS does not appear to have successfully loaded. If loading BokehJS from CDN, this \\n\"+\n     \"may be due to a slow or bad network connection. Possible fixes:\\n\"+\n     \"</p>\\n\"+\n     \"<ul>\\n\"+\n     \"<li>re-rerun `output_notebook()` to attempt to load from CDN again, or</li>\\n\"+\n     \"<li>use INLINE resources instead, as so:</li>\\n\"+\n     \"</ul>\\n\"+\n     \"<code>\\n\"+\n     \"from bokeh.resources import INLINE\\n\"+\n     \"output_notebook(resources=INLINE)\\n\"+\n     \"</code>\\n\"+\n     \"</div>\"}};\n\n  function display_loaded() {\n    var el = document.getElementById(\"3328\");\n    if (el != null) {\n      el.textContent = \"BokehJS is loading...\";\n    }\n    if (root.Bokeh !== undefined) {\n      if (el != null) {\n        el.textContent = \"BokehJS \" + root.Bokeh.version + \" successfully loaded.\";\n      }\n    } else if (Date.now() < root._bokeh_timeout) {\n      setTimeout(display_loaded, 100)\n    }\n  }\n\n\n  function run_callbacks() {\n    try {\n      root._bokeh_onload_callbacks.forEach(function(callback) {\n        if (callback != null)\n          callback();\n      });\n    } finally {\n      delete root._bokeh_onload_callbacks\n    }\n    console.debug(\"Bokeh: all callbacks have finished\");\n  }\n\n  function load_libs(css_urls, js_urls, callback) {\n    if (css_urls == null) css_urls = [];\n    if (js_urls == null) js_urls = [];\n\n    root._bokeh_onload_callbacks.push(callback);\n    if (root._bokeh_is_loading > 0) {\n      console.debug(\"Bokeh: BokehJS is being loaded, scheduling callback at\", now());\n      return null;\n    }\n    if (js_urls == null || js_urls.length === 0) {\n      run_callbacks();\n      return null;\n    }\n    console.debug(\"Bokeh: BokehJS not loaded, scheduling load and callback at\", now());\n    root._bokeh_is_loading = css_urls.length + js_urls.length;\n\n    function on_load() {\n      root._bokeh_is_loading--;\n      if (root._bokeh_is_loading === 0) {\n        console.debug(\"Bokeh: all BokehJS libraries/stylesheets loaded\");\n        run_callbacks()\n      }\n    }\n\n    function on_error() {\n      console.error(\"failed to load \" + url);\n    }\n\n    for (var i = 0; i < css_urls.length; i++) {\n      var url = css_urls[i];\n      const element = document.createElement(\"link\");\n      element.onload = on_load;\n      element.onerror = on_error;\n      element.rel = \"stylesheet\";\n      element.type = \"text/css\";\n      element.href = url;\n      console.debug(\"Bokeh: injecting link tag for BokehJS stylesheet: \", url);\n      document.body.appendChild(element);\n    }\n\n    for (var i = 0; i < js_urls.length; i++) {\n      var url = js_urls[i];\n      var element = document.createElement('script');\n      element.onload = on_load;\n      element.onerror = on_error;\n      element.async = false;\n      element.src = url;\n      console.debug(\"Bokeh: injecting script tag for BokehJS library: \", url);\n      document.head.appendChild(element);\n    }\n  };var element = document.getElementById(\"3328\");\n  if (element == null) {\n    console.error(\"Bokeh: ERROR: autoload.js configured with elementid '3328' but no matching script tag was found. \")\n    return false;\n  }\n\n  function inject_raw_css(css) {\n    const element = document.createElement(\"style\");\n    element.appendChild(document.createTextNode(css));\n    document.body.appendChild(element);\n  }\n\n  var js_urls = [\"https://cdn.pydata.org/bokeh/release/bokeh-1.3.4.min.js\", \"https://cdn.pydata.org/bokeh/release/bokeh-widgets-1.3.4.min.js\", \"https://cdn.pydata.org/bokeh/release/bokeh-tables-1.3.4.min.js\", \"https://cdn.pydata.org/bokeh/release/bokeh-gl-1.3.4.min.js\"];\n  var css_urls = [];\n\n  var inline_js = [\n    function(Bokeh) {\n      Bokeh.set_log_level(\"info\");\n    },\n    \n    function(Bokeh) {\n      \n    },\n    function(Bokeh) {} // ensure no trailing comma for IE\n  ];\n\n  function run_inline_js() {\n    \n    if ((root.Bokeh !== undefined) || (force === true)) {\n      for (var i = 0; i < inline_js.length; i++) {\n        inline_js[i].call(root, root.Bokeh);\n      }if (force === true) {\n        display_loaded();\n      }} else if (Date.now() < root._bokeh_timeout) {\n      setTimeout(run_inline_js, 100);\n    } else if (!root._bokeh_failed_load) {\n      console.log(\"Bokeh: BokehJS failed to load within specified timeout.\");\n      root._bokeh_failed_load = true;\n    } else if (force !== true) {\n      var cell = $(document.getElementById(\"3328\")).parents('.cell').data().cell;\n      cell.output_area.append_execute_result(NB_LOAD_WARNING)\n    }\n\n  }\n\n  if (root._bokeh_is_loading === 0) {\n    console.debug(\"Bokeh: BokehJS loaded, going straight to plotting\");\n    run_inline_js();\n  } else {\n    load_libs(css_urls, js_urls, function() {\n      console.debug(\"Bokeh: BokehJS plotting callback run at\", now());\n      run_inline_js();\n    });\n  }\n}(window));"
     },
     "metadata": {},
     "output_type": "display_data"
    },
    {
     "data": {
      "text/html": [
       "\n",
       "\n",
       "\n",
       "\n",
       "\n",
       "\n",
       "  <div class=\"bk-root\" id=\"6bee3790-995c-40e1-ab3a-a60230e92853\" data-root-id=\"3329\"></div>\n"
      ]
     },
     "metadata": {},
     "output_type": "display_data"
    },
    {
     "data": {
      "application/javascript": [
       "(function(root) {\n",
       "  function embed_document(root) {\n",
       "    \n",
       "  var docs_json = {\"0e8c8003-7830-4580-8989-fda33baec599\":{\"roots\":{\"references\":[{\"attributes\":{\"below\":[{\"id\":\"3338\",\"type\":\"LinearAxis\"}],\"center\":[{\"id\":\"3342\",\"type\":\"Grid\"},{\"id\":\"3347\",\"type\":\"Grid\"},{\"id\":\"3373\",\"type\":\"Legend\"}],\"left\":[{\"id\":\"3343\",\"type\":\"LinearAxis\"}],\"plot_height\":400,\"plot_width\":400,\"renderers\":[{\"id\":\"3364\",\"type\":\"GlyphRenderer\"},{\"id\":\"3378\",\"type\":\"GlyphRenderer\"},{\"id\":\"3393\",\"type\":\"GlyphRenderer\"},{\"id\":\"3410\",\"type\":\"GlyphRenderer\"},{\"id\":\"3429\",\"type\":\"GlyphRenderer\"}],\"title\":{\"id\":\"3367\",\"type\":\"Title\"},\"toolbar\":{\"id\":\"3354\",\"type\":\"Toolbar\"},\"x_range\":{\"id\":\"3330\",\"type\":\"DataRange1d\"},\"x_scale\":{\"id\":\"3334\",\"type\":\"LinearScale\"},\"y_range\":{\"id\":\"3332\",\"type\":\"DataRange1d\"},\"y_scale\":{\"id\":\"3336\",\"type\":\"LinearScale\"}},\"id\":\"3329\",\"subtype\":\"Figure\",\"type\":\"Plot\"},{\"attributes\":{\"source\":{\"id\":\"3375\",\"type\":\"ColumnDataSource\"}},\"id\":\"3379\",\"type\":\"CDSView\"},{\"attributes\":{\"source\":{\"id\":\"3407\",\"type\":\"ColumnDataSource\"}},\"id\":\"3411\",\"type\":\"CDSView\"},{\"attributes\":{\"label\":{\"value\":\"Euler\"},\"renderers\":[{\"id\":\"3364\",\"type\":\"GlyphRenderer\"}]},\"id\":\"3374\",\"type\":\"LegendItem\"},{\"attributes\":{\"bottom_units\":\"screen\",\"fill_alpha\":{\"value\":0.5},\"fill_color\":{\"value\":\"lightgrey\"},\"left_units\":\"screen\",\"level\":\"overlay\",\"line_alpha\":{\"value\":1.0},\"line_color\":{\"value\":\"black\"},\"line_dash\":[4,4],\"line_width\":{\"value\":2},\"render_mode\":\"css\",\"right_units\":\"screen\",\"top_units\":\"screen\"},\"id\":\"3372\",\"type\":\"BoxAnnotation\"},{\"attributes\":{},\"id\":\"3423\",\"type\":\"UnionRenderers\"},{\"attributes\":{\"fill_alpha\":{\"value\":0.1},\"fill_color\":{\"value\":\"#1f77b4\"},\"line_alpha\":{\"value\":0.1},\"line_color\":{\"value\":\"#1f77b4\"},\"size\":{\"units\":\"screen\",\"value\":15},\"x\":{\"field\":\"x\"},\"y\":{\"field\":\"y\"}},\"id\":\"3363\",\"type\":\"Circle\"},{\"attributes\":{\"callback\":null,\"data\":{\"x\":[1.3900000000000003,1.4000000000000004,1.4100000000000004,1.4200000000000004,1.4300000000000004,1.4400000000000004,1.4500000000000004,1.4600000000000004,1.4700000000000004,1.4800000000000004,1.4900000000000004,1.5000000000000004,1.5100000000000005,1.5200000000000005,1.5300000000000005,1.5400000000000005,1.5500000000000005,1.5600000000000005,1.5700000000000005,1.5800000000000005,1.5900000000000005,1.6000000000000005,1.6100000000000005,1.6200000000000006,1.6300000000000006,1.6400000000000006,1.6500000000000006,1.6600000000000006,1.6700000000000006],\"y\":[0.6207175116632496,0.6191840264419054,0.6176655160212244,0.6161617258230285,0.6146724074160314,0.6131973183240714,0.6117362218416622,0.6102888868565296,0.6088550876788248,0.6074346038767161,0.6060272201180787,0.6046327260180151,0.6032509159919529,0.6018815891140796,0.6005245489808851,0.5991796035795942,0.5978465651612829,0.596525250118481,0.5952154788670745,0.5939170757323285,0.592629868838862,0.5913536900044116,0.5900883746372313,0.5888337616369802,0.5875896932989595,0.5863560152215639,0.5851325762168206,0.5839192282238941,0.582715826225441]},\"selected\":{\"id\":\"3388\",\"type\":\"Selection\"},\"selection_policy\":{\"id\":\"3387\",\"type\":\"UnionRenderers\"}},\"id\":\"3361\",\"type\":\"ColumnDataSource\"},{\"attributes\":{},\"id\":\"3388\",\"type\":\"Selection\"},{\"attributes\":{\"active_drag\":\"auto\",\"active_inspect\":\"auto\",\"active_multi\":null,\"active_scroll\":\"auto\",\"active_tap\":\"auto\",\"tools\":[{\"id\":\"3348\",\"type\":\"PanTool\"},{\"id\":\"3349\",\"type\":\"WheelZoomTool\"},{\"id\":\"3350\",\"type\":\"BoxZoomTool\"},{\"id\":\"3351\",\"type\":\"SaveTool\"},{\"id\":\"3352\",\"type\":\"ResetTool\"},{\"id\":\"3353\",\"type\":\"HelpTool\"}]},\"id\":\"3354\",\"type\":\"Toolbar\"},{\"attributes\":{\"label\":{\"value\":\"abs diff Euler\"},\"renderers\":[{\"id\":\"3410\",\"type\":\"GlyphRenderer\"}]},\"id\":\"3425\",\"type\":\"LegendItem\"},{\"attributes\":{},\"id\":\"3387\",\"type\":\"UnionRenderers\"},{\"attributes\":{\"label\":{\"value\":\"RK4\"},\"renderers\":[{\"id\":\"3378\",\"type\":\"GlyphRenderer\"}]},\"id\":\"3389\",\"type\":\"LegendItem\"},{\"attributes\":{\"callback\":null,\"data\":{\"x\":[1.3900000000000003,1.4000000000000004,1.4100000000000004,1.4200000000000004,1.4300000000000004,1.4400000000000004,1.4500000000000004,1.4600000000000004,1.4700000000000004,1.4800000000000004,1.4900000000000004,1.5000000000000004,1.5100000000000005,1.5200000000000005,1.5300000000000005,1.5400000000000005,1.5500000000000005,1.5600000000000005,1.5700000000000005,1.5800000000000005,1.5900000000000005,1.6000000000000005,1.6100000000000005,1.6200000000000006,1.6300000000000006,1.6400000000000006,1.6500000000000006,1.6600000000000006,1.6700000000000006],\"y\":[0.6910653592809726,0.6887995549530167,0.6865631770195659,0.6843555631386534,0.6821760720624764,0.680024082772313,0.6778989936566931,0.6758002217302822,0.6737272018911014,0.671679386213873,0.6696562432774225,0.6676572575242044,0.665681928650149,0.6637297710231377,0.6618003131285269,0.6598930970402395,0.6580076779160351,0.656143623515659,0.6543005137406473,0.6524779401946426,0.6506755057631438,0.6488928242116789,0.6471295198014481,0.6453852269215432,0.6436595897369027,0.6419522618512067,0.6402629059839663,0.6385911936611037,0.6369368049183575]},\"selected\":{\"id\":\"3405\",\"type\":\"Selection\"},\"selection_policy\":{\"id\":\"3404\",\"type\":\"UnionRenderers\"}},\"id\":\"3375\",\"type\":\"ColumnDataSource\"},{\"attributes\":{\"callback\":null,\"data\":{\"x\":[1.3900000000000003,1.4000000000000004,1.4100000000000004,1.4200000000000004,1.4300000000000004,1.4400000000000004,1.4500000000000004,1.4600000000000004,1.4700000000000004,1.4800000000000004,1.4900000000000004,1.5000000000000004,1.5100000000000005,1.5200000000000005,1.5300000000000005,1.5400000000000005,1.5500000000000005,1.5600000000000005,1.5700000000000005,1.5800000000000005,1.5900000000000005,1.6000000000000005,1.6100000000000005,1.6200000000000006,1.6300000000000006,1.6400000000000006,1.6500000000000006,1.6600000000000006,1.6700000000000006],\"y\":{\"__ndarray__\":\"kLfcCFECsj84xT/CUtKxP7BKwvBGo7E/CEEPvSZ1sT+IVASQ60exP8iSzQ+PG7E/kJwoHQvwsD9o7MzQWcWwP+js9nh1m7A/CMQTl1hysD/Q24vd/UmwP1hUqi1gIrA/4FM/K/X2rz+Q7zudkKqvP/CzGnaJX68/EBiuydYVrz+A7Yv3b82uP8Dt9qdMhq4/0HLuyGRArj8AOmKLsPutP3AziGAouK0/UH5S98R1rT9w0gM6fzStP6Cx4EtQ9Kw/YNX7hjG1rD8AZhx6HHesP2CevOYKOqw/AJQfv/b9qz+Q73wk2sKrPw==\",\"dtype\":\"float64\",\"shape\":[29]}},\"selected\":{\"id\":\"3445\",\"type\":\"Selection\"},\"selection_policy\":{\"id\":\"3444\",\"type\":\"UnionRenderers\"}},\"id\":\"3407\",\"type\":\"ColumnDataSource\"},{\"attributes\":{},\"id\":\"3424\",\"type\":\"Selection\"},{\"attributes\":{\"fill_alpha\":{\"value\":0.1},\"fill_color\":{\"value\":\"#1f77b4\"},\"line_alpha\":{\"value\":0.1},\"line_color\":{\"value\":\"#1f77b4\"},\"size\":{\"units\":\"screen\",\"value\":15},\"x\":{\"field\":\"x\"},\"y\":{\"field\":\"y\"}},\"id\":\"3377\",\"type\":\"Circle\"},{\"attributes\":{},\"id\":\"3348\",\"type\":\"PanTool\"},{\"attributes\":{\"callback\":null,\"data\":{\"x\":[1.3900000000000003,1.4000000000000004,1.4100000000000004,1.4200000000000004,1.4300000000000004,1.4400000000000004,1.4500000000000004,1.4600000000000004,1.4700000000000004,1.4800000000000004,1.4900000000000004,1.5000000000000004,1.5100000000000005,1.5200000000000005,1.5300000000000005,1.5400000000000005,1.5500000000000005,1.5600000000000005,1.5700000000000005,1.5800000000000005,1.5900000000000005,1.6000000000000005,1.6100000000000005,1.6200000000000006,1.6300000000000006,1.6400000000000006,1.6500000000000006,1.6600000000000006,1.6700000000000006],\"y\":{\"__ndarray__\":\"AAAAAADgED0AAAAAAFAgPQAAAAAAsCc9AAAAAACALj0AAAAAAHgyPQAAAAAAgDU9AAAAAABIOD0AAAAAAOg6PQAAAAAAWD09AAAAAACgPz0AAAAAAOBAPQAAAAAA3EE9AAAAAADEQj0AAAAAAKBDPQAAAAAAbEQ9AAAAAAAsRT0AAAAAANxFPQAAAAAAgEY9AAAAAAAYRz0AAAAAAKRHPQAAAAAAKEg9AAAAAACkSD0AAAAAABRJPQAAAAAAfEk9AAAAAADcST0AAAAAADRKPQAAAAAAiEo9AAAAAADQSj0AAAAAABRLPQ==\",\"dtype\":\"float64\",\"shape\":[29]}},\"selected\":{\"id\":\"3589\",\"type\":\"Selection\"},\"selection_policy\":{\"id\":\"3588\",\"type\":\"UnionRenderers\"}},\"id\":\"3426\",\"type\":\"ColumnDataSource\"},{\"attributes\":{\"callback\":null},\"id\":\"3330\",\"type\":\"DataRange1d\"},{\"attributes\":{},\"id\":\"3349\",\"type\":\"WheelZoomTool\"},{\"attributes\":{\"callback\":null},\"id\":\"3332\",\"type\":\"DataRange1d\"},{\"attributes\":{\"fill_alpha\":{\"value\":0.5},\"fill_color\":{\"value\":\"yellow\"},\"line_color\":{\"value\":\"yellow\"},\"size\":{\"units\":\"screen\",\"value\":15},\"x\":{\"field\":\"x\"},\"y\":{\"field\":\"y\"}},\"id\":\"3408\",\"type\":\"Circle\"},{\"attributes\":{},\"id\":\"3589\",\"type\":\"Selection\"},{\"attributes\":{\"overlay\":{\"id\":\"3372\",\"type\":\"BoxAnnotation\"}},\"id\":\"3350\",\"type\":\"BoxZoomTool\"},{\"attributes\":{},\"id\":\"3344\",\"type\":\"BasicTicker\"},{\"attributes\":{},\"id\":\"3370\",\"type\":\"BasicTickFormatter\"},{\"attributes\":{},\"id\":\"3588\",\"type\":\"UnionRenderers\"},{\"attributes\":{\"fill_alpha\":{\"value\":0.1},\"fill_color\":{\"value\":\"#1f77b4\"},\"line_alpha\":{\"value\":0.1},\"line_color\":{\"value\":\"#1f77b4\"},\"size\":{\"units\":\"screen\",\"value\":15},\"x\":{\"field\":\"x\"},\"y\":{\"field\":\"y\"}},\"id\":\"3392\",\"type\":\"Circle\"},{\"attributes\":{\"fill_alpha\":{\"value\":0.1},\"fill_color\":{\"value\":\"#1f77b4\"},\"line_alpha\":{\"value\":0.1},\"line_color\":{\"value\":\"#1f77b4\"},\"size\":{\"units\":\"screen\",\"value\":15},\"x\":{\"field\":\"x\"},\"y\":{\"field\":\"y\"}},\"id\":\"3428\",\"type\":\"Circle\"},{\"attributes\":{},\"id\":\"3351\",\"type\":\"SaveTool\"},{\"attributes\":{\"data_source\":{\"id\":\"3375\",\"type\":\"ColumnDataSource\"},\"glyph\":{\"id\":\"3376\",\"type\":\"Circle\"},\"hover_glyph\":null,\"muted_glyph\":null,\"nonselection_glyph\":{\"id\":\"3377\",\"type\":\"Circle\"},\"selection_glyph\":null,\"view\":{\"id\":\"3379\",\"type\":\"CDSView\"}},\"id\":\"3378\",\"type\":\"GlyphRenderer\"},{\"attributes\":{\"data_source\":{\"id\":\"3390\",\"type\":\"ColumnDataSource\"},\"glyph\":{\"id\":\"3391\",\"type\":\"Circle\"},\"hover_glyph\":null,\"muted_glyph\":null,\"nonselection_glyph\":{\"id\":\"3392\",\"type\":\"Circle\"},\"selection_glyph\":null,\"view\":{\"id\":\"3394\",\"type\":\"CDSView\"}},\"id\":\"3393\",\"type\":\"GlyphRenderer\"},{\"attributes\":{\"data_source\":{\"id\":\"3426\",\"type\":\"ColumnDataSource\"},\"glyph\":{\"id\":\"3427\",\"type\":\"Circle\"},\"hover_glyph\":null,\"muted_glyph\":null,\"nonselection_glyph\":{\"id\":\"3428\",\"type\":\"Circle\"},\"selection_glyph\":null,\"view\":{\"id\":\"3430\",\"type\":\"CDSView\"}},\"id\":\"3429\",\"type\":\"GlyphRenderer\"},{\"attributes\":{},\"id\":\"3352\",\"type\":\"ResetTool\"},{\"attributes\":{},\"id\":\"3336\",\"type\":\"LinearScale\"},{\"attributes\":{\"fill_alpha\":{\"value\":0.5},\"fill_color\":{\"value\":\"blue\"},\"line_color\":{\"value\":\"blue\"},\"size\":{\"units\":\"screen\",\"value\":15},\"x\":{\"field\":\"x\"},\"y\":{\"field\":\"y\"}},\"id\":\"3376\",\"type\":\"Circle\"},{\"attributes\":{},\"id\":\"3334\",\"type\":\"LinearScale\"},{\"attributes\":{\"data_source\":{\"id\":\"3361\",\"type\":\"ColumnDataSource\"},\"glyph\":{\"id\":\"3362\",\"type\":\"Circle\"},\"hover_glyph\":null,\"muted_glyph\":null,\"nonselection_glyph\":{\"id\":\"3363\",\"type\":\"Circle\"},\"selection_glyph\":null,\"view\":{\"id\":\"3365\",\"type\":\"CDSView\"}},\"id\":\"3364\",\"type\":\"GlyphRenderer\"},{\"attributes\":{\"source\":{\"id\":\"3390\",\"type\":\"ColumnDataSource\"}},\"id\":\"3394\",\"type\":\"CDSView\"},{\"attributes\":{\"source\":{\"id\":\"3426\",\"type\":\"ColumnDataSource\"}},\"id\":\"3430\",\"type\":\"CDSView\"},{\"attributes\":{\"formatter\":{\"id\":\"3368\",\"type\":\"BasicTickFormatter\"},\"ticker\":{\"id\":\"3339\",\"type\":\"BasicTicker\"}},\"id\":\"3338\",\"type\":\"LinearAxis\"},{\"attributes\":{},\"id\":\"3353\",\"type\":\"HelpTool\"},{\"attributes\":{},\"id\":\"3404\",\"type\":\"UnionRenderers\"},{\"attributes\":{},\"id\":\"3444\",\"type\":\"UnionRenderers\"},{\"attributes\":{},\"id\":\"3339\",\"type\":\"BasicTicker\"},{\"attributes\":{\"label\":{\"value\":\"dx/dt=-x^4 exact\"},\"renderers\":[{\"id\":\"3393\",\"type\":\"GlyphRenderer\"}]},\"id\":\"3406\",\"type\":\"LegendItem\"},{\"attributes\":{\"label\":{\"value\":\"abs diff RK4\"},\"renderers\":[{\"id\":\"3429\",\"type\":\"GlyphRenderer\"}]},\"id\":\"3446\",\"type\":\"LegendItem\"},{\"attributes\":{},\"id\":\"3405\",\"type\":\"Selection\"},{\"attributes\":{},\"id\":\"3445\",\"type\":\"Selection\"},{\"attributes\":{\"fill_alpha\":{\"value\":0.5},\"fill_color\":{\"value\":\"red\"},\"line_color\":{\"value\":\"red\"},\"size\":{\"units\":\"screen\",\"value\":15},\"x\":{\"field\":\"x\"},\"y\":{\"field\":\"y\"}},\"id\":\"3427\",\"type\":\"Circle\"},{\"attributes\":{},\"id\":\"3368\",\"type\":\"BasicTickFormatter\"},{\"attributes\":{\"click_policy\":\"hide\",\"items\":[{\"id\":\"3374\",\"type\":\"LegendItem\"},{\"id\":\"3389\",\"type\":\"LegendItem\"},{\"id\":\"3406\",\"type\":\"LegendItem\"},{\"id\":\"3425\",\"type\":\"LegendItem\"},{\"id\":\"3446\",\"type\":\"LegendItem\"}],\"location\":\"bottom_left\"},\"id\":\"3373\",\"type\":\"Legend\"},{\"attributes\":{\"ticker\":{\"id\":\"3339\",\"type\":\"BasicTicker\"}},\"id\":\"3342\",\"type\":\"Grid\"},{\"attributes\":{\"source\":{\"id\":\"3361\",\"type\":\"ColumnDataSource\"}},\"id\":\"3365\",\"type\":\"CDSView\"},{\"attributes\":{\"fill_alpha\":{\"value\":0.5},\"fill_color\":{\"value\":\"green\"},\"line_color\":{\"value\":\"green\"},\"size\":{\"units\":\"screen\",\"value\":15},\"x\":{\"field\":\"x\"},\"y\":{\"field\":\"y\"}},\"id\":\"3391\",\"type\":\"Circle\"},{\"attributes\":{\"text\":\"\"},\"id\":\"3367\",\"type\":\"Title\"},{\"attributes\":{\"fill_alpha\":{\"value\":0.1},\"fill_color\":{\"value\":\"#1f77b4\"},\"line_alpha\":{\"value\":0.1},\"line_color\":{\"value\":\"#1f77b4\"},\"size\":{\"units\":\"screen\",\"value\":15},\"x\":{\"field\":\"x\"},\"y\":{\"field\":\"y\"}},\"id\":\"3409\",\"type\":\"Circle\"},{\"attributes\":{\"dimension\":1,\"ticker\":{\"id\":\"3344\",\"type\":\"BasicTicker\"}},\"id\":\"3347\",\"type\":\"Grid\"},{\"attributes\":{\"fill_alpha\":{\"value\":0.5},\"fill_color\":{\"value\":\"orange\"},\"line_color\":{\"value\":\"orange\"},\"size\":{\"units\":\"screen\",\"value\":15},\"x\":{\"field\":\"x\"},\"y\":{\"field\":\"y\"}},\"id\":\"3362\",\"type\":\"Circle\"},{\"attributes\":{\"formatter\":{\"id\":\"3370\",\"type\":\"BasicTickFormatter\"},\"ticker\":{\"id\":\"3344\",\"type\":\"BasicTicker\"}},\"id\":\"3343\",\"type\":\"LinearAxis\"},{\"attributes\":{\"data_source\":{\"id\":\"3407\",\"type\":\"ColumnDataSource\"},\"glyph\":{\"id\":\"3408\",\"type\":\"Circle\"},\"hover_glyph\":null,\"muted_glyph\":null,\"nonselection_glyph\":{\"id\":\"3409\",\"type\":\"Circle\"},\"selection_glyph\":null,\"view\":{\"id\":\"3411\",\"type\":\"CDSView\"}},\"id\":\"3410\",\"type\":\"GlyphRenderer\"},{\"attributes\":{\"callback\":null,\"data\":{\"x\":[1.3900000000000003,1.4000000000000004,1.4100000000000004,1.4200000000000004,1.4300000000000004,1.4400000000000004,1.4500000000000004,1.4600000000000004,1.4700000000000004,1.4800000000000004,1.4900000000000004,1.5000000000000004,1.5100000000000005,1.5200000000000005,1.5300000000000005,1.5400000000000005,1.5500000000000005,1.5600000000000005,1.5700000000000005,1.5800000000000005,1.5900000000000005,1.6000000000000005,1.6100000000000005,1.6200000000000006,1.6300000000000006,1.6400000000000006,1.6500000000000006,1.6600000000000006,1.6700000000000006],\"y\":[0.6910653592809876,0.6887995549530457,0.686563177019608,0.6843555631387076,0.682176072062542,0.6800240827723893,0.6778989936567794,0.6758002217303778,0.6737272018912056,0.6716793862139854,0.6696562432775424,0.6676572575243312,0.6656819286502823,0.6637297710232771,0.661800313128672,0.6598930970403899,0.6580076779161904,0.6561436235158189,0.6543005137408114,0.6524779401948105,0.6506755057633155,0.648892824211854,0.6471295198016263,0.6453852269217243,0.6436595897370865,0.6419522618513929,0.6402629059841548,0.6385911936612942,0.6369368049185499]},\"selected\":{\"id\":\"3424\",\"type\":\"Selection\"},\"selection_policy\":{\"id\":\"3423\",\"type\":\"UnionRenderers\"}},\"id\":\"3390\",\"type\":\"ColumnDataSource\"}],\"root_ids\":[\"3329\"]},\"title\":\"Bokeh Application\",\"version\":\"1.3.4\"}};\n",
       "  var render_items = [{\"docid\":\"0e8c8003-7830-4580-8989-fda33baec599\",\"roots\":{\"3329\":\"6bee3790-995c-40e1-ab3a-a60230e92853\"}}];\n",
       "  root.Bokeh.embed.embed_items_notebook(docs_json, render_items);\n",
       "\n",
       "  }\n",
       "  if (root.Bokeh !== undefined) {\n",
       "    embed_document(root);\n",
       "  } else {\n",
       "    var attempts = 0;\n",
       "    var timer = setInterval(function(root) {\n",
       "      if (root.Bokeh !== undefined) {\n",
       "        embed_document(root);\n",
       "        clearInterval(timer);\n",
       "      }\n",
       "      attempts++;\n",
       "      if (attempts > 100) {\n",
       "        console.log(\"Bokeh: ERROR: Unable to run BokehJS code because BokehJS library is missing\");\n",
       "        clearInterval(timer);\n",
       "      }\n",
       "    }, 10, root)\n",
       "  }\n",
       "})(window);"
      ],
      "application/vnd.bokehjs_exec.v0+json": ""
     },
     "metadata": {
      "application/vnd.bokehjs_exec.v0+json": {
       "id": "3329"
      }
     },
     "output_type": "display_data"
    }
   ],
   "source": [
    "from bokeh.io import output_notebook, show\n",
    "from bokeh.plotting import figure\n",
    "output_notebook()\n",
    "# create a new plot with default tools, using figure\n",
    "p = figure(plot_width=400, plot_height=400)\n",
    "\n",
    "# add a circle renderer with x and y coordinates, size, color, and alpha\n",
    "p.circle(tvals,xvals, size=15, line_color=\"orange\",fill_color=\"orange\", fill_alpha=0.5, legend=\"Euler\")\n",
    "p.circle(tvals,integralvals, size=15, line_color=\"blue\", fill_color=\"blue\", fill_alpha=0.5,legend=\"RK4\")\n",
    "p.circle(tvals,solnanalytic, size=15, line_color=\"green\",fill_color=\"green\", fill_alpha=0.5,legend=\"dx/dt=-x^4 exact\")\n",
    "\n",
    "\n",
    "p.circle(tvals,np.array(solnanalytic)-np.array(xvals),size=15, line_color=\"yellow\",fill_color=\"yellow\",fill_alpha=0.5, legend=\"abs diff Euler\")\n",
    "p.circle(tvals,np.array(solnanalytic)-np.array(integralvals),size=15, line_color=\"red\", fill_color=\"red\", fill_alpha=0.5,legend=\"abs diff RK4\")\n",
    "\n",
    "p.legend.location = \"bottom_left\"\n",
    "p.legend.click_policy=\"hide\"\n",
    "\n",
    "show(p) # show the results"
   ]
  },
  {
   "cell_type": "markdown",
   "metadata": {},
   "source": [
    "This looks good to me. RK4 performs better on the 4th order RHS ODE than Euler does, they are both converging after initial transients, they both have small truncation error relative to their absolute value which improves with choice of time step, and the truncation error is worse for higher order functions. This seems very reasonable. "
   ]
  },
  {
   "cell_type": "markdown",
   "metadata": {},
   "source": [
    "# An equal mass system will be easier to obtain the necessary numerical precision than the Earth-Sun system. "
   ]
  },
  {
   "cell_type": "markdown",
   "metadata": {},
   "source": [
    "So start with two stellar mass objects in a binary. "
   ]
  },
  {
   "cell_type": "code",
   "execution_count": 133,
   "metadata": {},
   "outputs": [],
   "source": [
    "import math\n",
    "def InitialDataEqualMass():\n",
    "    phi=np.array([0,math.pi])\n",
    "    orbitalangle=np.zeros(2)\n",
    "    orbitalradius=np.ones(2)\n",
    "    eccentricity=np.zeros(2)\n",
    "    mass=np.ones(2)\n",
    "    masssun=1.989*10**30\n",
    "    lsun=3.828*10**26\n",
    "    massearth=5.9722*10**24\n",
    "    masses=mass #*masssun (natural units)\n",
    "    return phi,orbitalangle,orbitalradius,eccentricity, masses\n",
    "    "
   ]
  },
  {
   "cell_type": "code",
   "execution_count": null,
   "metadata": {},
   "outputs": [],
   "source": []
  },
  {
   "cell_type": "code",
   "execution_count": 134,
   "metadata": {},
   "outputs": [],
   "source": [
    "import random,numpy as np\n",
    "initdateq=InitialDataEqualMass()"
   ]
  },
  {
   "cell_type": "code",
   "execution_count": 135,
   "metadata": {},
   "outputs": [
    {
     "name": "stdout",
     "output_type": "stream",
     "text": [
      "(array([0.        , 3.14159265]), array([0., 0.]), array([1., 1.]), array([0., 0.]), array([1., 1.]))\n"
     ]
    }
   ],
   "source": [
    "print(initdateq)"
   ]
  },
  {
   "cell_type": "code",
   "execution_count": 136,
   "metadata": {},
   "outputs": [],
   "source": [
    "def getxyuv(initdat):\n",
    "    phi,orbitangle,orbitalradius,eccentricity, masses=initdat\n",
    "    #print(orbitalradius, phi, np.cos(phi), np.sin(phi))\n",
    "    metersperAU=149597870700\n",
    "    Gconstant=6.408*10**-11\n",
    "    x0=orbitalradius*np.cos(phi)*metersperAU\n",
    "    y0=orbitalradius*np.sin(phi)*metersperAU\n",
    "    count=0\n",
    "    for phi0 in phi:\n",
    "        if phi0==0:\n",
    "            print(\"zero\")\n",
    "            x0[count]=orbitalradius[count]\n",
    "            y0[count]=0\n",
    "        if phi0==math.pi:\n",
    "            print(\"pi\")\n",
    "            x0[count]=-orbitalradius[count]\n",
    "            y0[count]=0\n",
    "        count+=1\n",
    "    z0=np.zeros(2)\n",
    "    print(x0)\n",
    "    print(y0)\n",
    "    \n",
    "    #start at perihelion for both (eliptical, doesn't generalize to three body)\n",
    "    #actually start with circular orbit\n",
    "    ux0=np.zeros(2) #*149597870700\n",
    "    #centrepital force balances gravitational force\n",
    "    reducedmass=np.zeros(2)\n",
    "    print(masses)\n",
    "    for i in np.arange(2):\n",
    "        j=(i+1)%2 #reverse masses\n",
    "        reducedmass[i]=masses[i]*masses[j]/np.sum(masses)\n",
    "    print(reducedmass)\n",
    "    metersperAU=1 #natural units\n",
    "    rphys=np.zeros(len(masses))\n",
    "    for i in np.arange(2):\n",
    "        rphys[i]=orbitalradius[i]*metersperAU*reducedmass[i]/masses[i]\n",
    "    x0phys=rphys*x0\n",
    "    y0phys=rphys*y0\n",
    "    z0phys=np.zeros(2)\n",
    "    print(rphys)\n",
    "    #G=1\n",
    "    Gconstant=1\n",
    "    F=(Gconstant*reducedmass**2/rphys**2)\n",
    "    print(F)\n",
    "    #centF=reducedmass*v**2/rphys\n",
    "    #centF=accel\n",
    "    v=np.sqrt(Gconstant*reducedmass/rphys)\n",
    "    print(v)\n",
    "    ux0=v*y0\n",
    "    uy0=v*x0 #initial data in y only\n",
    "    #evolve in plane only\n",
    "    #there is a units problem that needs to be fixed\n",
    "    #velocity initial conditions are not trivial. \n",
    "    uz0=np.zeros(2)\n",
    "    \n",
    "    #circular orbit   #a=omega^2 * r #v=omega*r #omega=v/r\n",
    "    omega=v/rphys\n",
    "    print(omega)\n",
    "    omegatrue=np.mean(omega) #shouldaccount for numerical effects\n",
    "    print(omegatrue)\n",
    "    a=omegatrue**2*rphys\n",
    "    print(\"a\",a)\n",
    "    print(phi)\n",
    "    ax0=-a*x0\n",
    "    ay0=-a*y0\n",
    "    az0=np.zeros(2)\n",
    "    \n",
    "    \n",
    "    return reducedmass,x0phys,y0phys,z0phys, ux0, uy0,uz0, ax0, ay0,az0"
   ]
  },
  {
   "cell_type": "code",
   "execution_count": 137,
   "metadata": {},
   "outputs": [
    {
     "name": "stdout",
     "output_type": "stream",
     "text": [
      "zero\n",
      "pi\n",
      "[ 1. -1.]\n",
      "[0. 0.]\n",
      "[1. 1.]\n",
      "[0.5 0.5]\n",
      "[0.5 0.5]\n",
      "[1. 1.]\n",
      "[1. 1.]\n",
      "[2. 2.]\n",
      "2.0\n",
      "a [2. 2.]\n",
      "[0.         3.14159265]\n",
      "(array([0.5, 0.5]), array([ 0.5, -0.5]), array([0., 0.]), array([0., 0.]), array([0., 0.]), array([ 1., -1.]), array([0., 0.]), array([-2.,  2.]), array([-0., -0.]), array([0., 0.]))\n",
      "0.5\n",
      "8.3721493136062e-26\n",
      "(array([0.5, 0.5]), array([ 0.5, -0.5]), array([0., 0.]), array([0., 0.]), array([0., 0.]), array([ 1., -1.]), array([0., 0.]), array([-2.,  2.]), array([-0., -0.]), array([0., 0.]))\n"
     ]
    }
   ],
   "source": [
    "xyuvaeq=getxyuv(initdateq)\n",
    "print(xyuvaeq)#In SI units\n",
    "print(xyuvaeq[1][0])\n",
    "print(xyuvaeq[0][0]/xyuva[0][1])\n",
    "print(xyuvaeq)"
   ]
  },
  {
   "cell_type": "markdown",
   "metadata": {},
   "source": [
    "# Two Body, Earth and Sun"
   ]
  },
  {
   "cell_type": "markdown",
   "metadata": {},
   "source": [
    "Generate iniitial data for two body problem, Sun and Earth, using reduced mass framework."
   ]
  },
  {
   "cell_type": "code",
   "execution_count": 74,
   "metadata": {},
   "outputs": [],
   "source": [
    "import math\n",
    "def InitialData():\n",
    "    random.seed(a=9001)\n",
    "    \n",
    "    #initially use an in plane orbit with random starting locations relative to the x axis\n",
    "    phi=np.array([0,math.pi])\n",
    "    orbitangle=np.zeros(2)\n",
    "    #orbitalradius=np.random.uniform(.1,50,2)\n",
    "    orbitalradius=np.ones(2)\n",
    "    #start with circular orbits\n",
    "    #eccentricity=np.random.uniform(0.,.1,2)\n",
    "    eccentricity=np.zeros(2)\n",
    "    #magnitude=np.random.uniform(-20,-30,2) #absolute not apparent maginutde\n",
    "    #magsun=-26.832\n",
    "    masssun=1.989*10**30\n",
    "    lsun=3.828*10**26\n",
    "    massearth=5.9722*10**24\n",
    "    #luminosity=lsun*10**(0.4*(magnitude-magsun))\n",
    "    #masses= invertIMF(luminosity,lsun,masssun) #Initial mass function for Main Sequence\n",
    "    #masses=np.random.uniform(.7,5.) #replace with IMF\n",
    "    masses=np.array([masssun,massearth])\n",
    "\n",
    "    return phi,orbitangle,orbitalradius,eccentricity, masses\n",
    "\n"
   ]
  },
  {
   "cell_type": "code",
   "execution_count": 75,
   "metadata": {},
   "outputs": [],
   "source": [
    "import random,numpy as np\n",
    "initdat=InitialData()"
   ]
  },
  {
   "cell_type": "code",
   "execution_count": 76,
   "metadata": {},
   "outputs": [
    {
     "name": "stdout",
     "output_type": "stream",
     "text": [
      "(array([0.        , 3.14159265]), array([0., 0.]), array([1., 1.]), array([0., 0.]), array([1.9890e+30, 5.9722e+24]))\n"
     ]
    }
   ],
   "source": [
    "print(initdat)"
   ]
  },
  {
   "cell_type": "markdown",
   "metadata": {},
   "source": [
    "Transform cylindrical initial data to x,y,z, velocity, acceleration initial data"
   ]
  },
  {
   "cell_type": "code",
   "execution_count": 77,
   "metadata": {},
   "outputs": [],
   "source": [
    "def getxyuv(initdat):\n",
    "    phi,orbitangle,orbitalradius,eccentricity, masses=initdat\n",
    "    #print(orbitalradius, phi, np.cos(phi), np.sin(phi))\n",
    "    metersperAU=149597870700\n",
    "    Gconstant=6.408*10**-11\n",
    "    x0=orbitalradius*np.cos(phi)*metersperAU\n",
    "    y0=orbitalradius*np.sin(phi)*metersperAU\n",
    "    z0=np.zeros(2)\n",
    "    \n",
    "\n",
    "    \n",
    "    #start at perihelion for both (eliptical, doesn't generalize to three body)\n",
    "    #actually start with circular orbit\n",
    "    ux0=np.zeros(2)*149597870700\n",
    "    #centrepital force balances gravitational force\n",
    "    reducedmass=np.zeros(2)\n",
    "    print(masses)\n",
    "    for i in np.arange(2):\n",
    "        j=(i+1)%2 #reverse masses\n",
    "        reducedmass[i]=masses[i]*masses[j]/np.sum(masses)\n",
    "    print(reducedmass)\n",
    "    rphys=np.zeros(len(masses))\n",
    "    for i in np.arange(2):\n",
    "        rphys[i]=orbitalradius[i]*metersperAU*reducedmass[i]/masses[i]\n",
    "    x0=rphys*np.cos(phi)\n",
    "    y0=rphys*np.sin(phi)\n",
    "    z0=np.zeros(2)\n",
    "    print(rphys)\n",
    "    F=(Gconstant*reducedmass**2/rphys**2)\n",
    "    print(F)\n",
    "    #centF=reducedmass*v**2/rphys\n",
    "    #centF=accel\n",
    "    v=np.sqrt(Gconstant*reducedmass/rphys)\n",
    "    print(v)\n",
    "    ux0=v*np.sin(phi)\n",
    "    uy0=v*np.cos(phi) #initial data in y only\n",
    "    #evolve in plane only\n",
    "    #there is a units problem that needs to be fixed\n",
    "    #velocity initial conditions are not trivial. \n",
    "    uz0=np.zeros(2)\n",
    "    \n",
    "    #circular orbit   #a=omega^2 * r #v=omega*r #omega=v/r\n",
    "    omega=v/rphys\n",
    "    print(omega)\n",
    "    omegatrue=np.mean(omega) #shouldaccount for numerical effects\n",
    "    print(omegatrue)\n",
    "    a=omegatrue**2*rphys\n",
    "    print(\"a\",a)\n",
    "    print(phi)\n",
    "    ax0=-a*np.cos(phi)\n",
    "    ay0=-a*np.sin(phi)\n",
    "    az0=np.zeros(2)\n",
    "    \n",
    "    \n",
    "    return reducedmass,x0,y0,z0, ux0, uy0,uz0, ax0, ay0,az0"
   ]
  },
  {
   "cell_type": "code",
   "execution_count": 78,
   "metadata": {},
   "outputs": [
    {
     "name": "stdout",
     "output_type": "stream",
     "text": [
      "[1.9890e+30 5.9722e+24]\n",
      "[5.97218207e+24 5.97218207e+24]\n",
      "[4.49183369e+05 1.49597422e+11]\n",
      "[1.13276871e+28 1.02126951e+17]\n",
      "[29188.7795877     50.57847341]\n",
      "[6.49818796e-02 3.38097227e-10]\n",
      "0.032490939958166556\n",
      "a [4.74185445e+02 1.57924190e+08]\n",
      "[0.         3.14159265]\n",
      "(array([5.97218207e+24, 5.97218207e+24]), array([ 4.49183369e+05, -1.49597422e+11]), array([0.00000000e+00, 1.83204003e-05]), array([0., 0.]), array([0.00000000e+00, 6.19407656e-15]), array([29188.7795877 ,   -50.57847341]), array([0., 0.]), array([-4.74185445e+02,  1.57924190e+08]), array([-0.00000000e+00, -1.93401354e-08]), array([0., 0.]))\n",
      "449183.36891987134\n",
      "1.0\n",
      "(array([5.97218207e+24, 5.97218207e+24]), array([ 4.49183369e+05, -1.49597422e+11]), array([0.00000000e+00, 1.83204003e-05]), array([0., 0.]), array([0.00000000e+00, 6.19407656e-15]), array([29188.7795877 ,   -50.57847341]), array([0., 0.]), array([-4.74185445e+02,  1.57924190e+08]), array([-0.00000000e+00, -1.93401354e-08]), array([0., 0.]))\n"
     ]
    }
   ],
   "source": [
    "xyuva=getxyuv(initdat)\n",
    "print(xyuva)#In SI units\n",
    "print(xyuva[1][0])\n",
    "print(xyuva[0][0]/xyuva[0][1])\n",
    "print(xyuva)"
   ]
  },
  {
   "cell_type": "markdown",
   "metadata": {},
   "source": [
    "Time stepping routine using Euler method and Newtonian differential equation for two body system"
   ]
  },
  {
   "cell_type": "code",
   "execution_count": null,
   "metadata": {},
   "outputs": [],
   "source": [
    "def timestep(step,t,dt,reducedmass,xi,yi,zi, vxi, vyi, vzi, axi, ayi, azi):\n",
    "    xii=np.zeros(np.size(xi))\n",
    "    vxii=np.zeros(np.size(vx))\n",
    "    yii=np.zeros(np.size(yi))\n",
    "    vyii=np.zeros(np.size(vy))\n",
    "    zii=np.zeros(np.size(vzi))\n",
    "    vzii=np.zeros(np.size(vzi))\n",
    "    rii=np.zeros(np.size(xi))\n",
    "    axii=axi\n",
    "    ayii=ayi\n",
    "    azii=azi\n",
    "    \n",
    "    for m in np.arange(len(x)):\n",
    "        #m represents choices of mass\n",
    "        i=step\n",
    "        \n",
    "        xii[m] = xi[m] + dt*vxi[m]\n",
    "        #print(xii)\n",
    "        vxii[m] = vxi[m] + dt*axi[m]\n",
    "        #print(vxii)\n",
    "        yii[m]= yi[m] + dt*vyi[m]\n",
    "        vyii[m] = vyi[m] + dt*ayi[m]\n",
    "        zii[m]= zi[m] + dt*vzi[m]\n",
    "        vzii[m] = vzi[m] + dt*azi[m]\n",
    "        rii[m]=np.sqrt(xi[m]**2+yi[m]**2+zi[m]**2)\n",
    "    \n",
    "    \n",
    "    Gconstant=6.408*10**-11\n",
    "    for k in np.arange(len(rii)):\n",
    "        for j in np.arange(len(rii)):\n",
    "            if j!=k:\n",
    "                rreljk=np.abs((xi[j] - xi[k])**2+(yi[j]-yi[k])**2+(zi[j]-zi[k])**2)**(1./2.)\n",
    "                axii[j]+=Gconstant*reducedmass[k]*(xi[j]  - xi[k])/rreljk**3\n",
    "                ayii[j]+=Gconstant*reducedmass[k]*(yi[j]  - yi[k])/rreljk**3\n",
    "                azii[j]+=Gconstant*reducedmass[k]*(zi[j]  - zi[k])/rreljk**3\n",
    "    #print(xii)\n",
    "    return reducedmass, xii,yii,zii,vxii,vyii,vzii,axii,ayii,azii\n",
    "                    "
   ]
  },
  {
   "cell_type": "markdown",
   "metadata": {},
   "source": [
    "Run over several time steps and print"
   ]
  },
  {
   "cell_type": "code",
   "execution_count": null,
   "metadata": {},
   "outputs": [],
   "source": [
    "dt=0.01*31556926 #seconds per year\n",
    "numsteps=5\n",
    "mass,x,y,z,vx,vy,vz,ax,ay,az=xyuva\n",
    "for i in np.arange(1,numsteps):\n",
    "    t=0.+i*numsteps*dt\n",
    "    mass, x,y,z,vx,vy,vz,ax,ay,az=timestep(i,t,dt,mass,x,y,z,vx,vy,vz,ax,ay,az)\n",
    "    print(x,y,vx,vy,ax,ay)\n",
    "    #print(ay) #forces should be equal and opposite, but in reduced mass framework accelerations are also equal and opposite\n",
    "    #accelerations should evolve from y to x with time in a sinusoidal manner even in reduced mass framework\n",
    "    #print(ax)\n",
    "#mass, x,y,z,vx,vy,vz,ax,ay,az=timestep(2,0,dt,mass,x,y,z,vx,vy,vz,ax,ay,az)\n",
    "#print(x,y,vx,vy,ax,ay) \n",
    "#mass, x,y,z,vx,vy,vz,ax,ay,az=timestep(3,0,dt,mass,x,y,z,vx,vy,vz,ax,ay,az)\n",
    "#print(x,y,vx,vy,ax,ay) \n",
    "#mass, x,y,z,vx,vy,vz,ax,ay,az=timestep(4,0,dt,mass,x,y,z,vx,vy,vz,ax,ay,az)\n",
    "#print(x,y,vx,vy,ax,ay) "
   ]
  },
  {
   "cell_type": "markdown",
   "metadata": {},
   "source": [
    "Object for storing the orbital differential equation and evolving using implicit RK4 using Newtonian differential equation for two body system"
   ]
  },
  {
   "cell_type": "code",
   "execution_count": null,
   "metadata": {},
   "outputs": [],
   "source": [
    "class OrbitDiffEq:\n",
    "    def __init__(self,reducedmass,x0,y0,z0, ux0, uy0,uz0, ax0, ay0,az0):\n",
    "        self.reducedmass=reducedmass\n",
    "        self.xi=x0\n",
    "        self.yi=y0\n",
    "        self.zi=z0\n",
    "        self.vxi=ux0\n",
    "        self.vyi=uy0\n",
    "        self.vzi=uz0\n",
    "        self.axi=ax0\n",
    "        self.ayi=ay0\n",
    "        self.azi=az0\n",
    "    def dxidt(self,t):\n",
    "        return self.vxi\n",
    "    def dyidt(self,t):\n",
    "        return self.vyi\n",
    "    def dzidt(self,t):\n",
    "        return self.vzi\n",
    "    def dvxidt(self,t):\n",
    "        #return axi[m]\n",
    "        axii=self.axi\n",
    "        rii=np.sqrt(self.xi**2+self.yi**2+self.zi**2)\n",
    "        Gconstant=6.408*10**-11\n",
    "        for k in np.arange(len(rii)):\n",
    "            for j in np.arange(len(rii)):\n",
    "                if j!=k:\n",
    "                    rreljk=np.abs((self.xi[j] - self.xi[k])**2+(self.yi[j]-self.yi[k])**2+(self.zi[j]-self.zi[k])**2)**(1./2.)\n",
    "                    axii[j]+=Gconstant*self.reducedmass[k]*(self.xi[j]  - self.xi[k])/rreljk**3\n",
    "        self.axi=axii\n",
    "        return axii\n",
    "    def dvyidt(self,t):\n",
    "        #return axi[m]\n",
    "        ayii=self.ayi\n",
    "        rii=np.sqrt(self.xi**2+self.yi**2+self.zi**2)\n",
    "        Gconstant=6.408*10**-11\n",
    "        for k in np.arange(len(rii)):\n",
    "            for j in np.arange(len(rii)):\n",
    "                if j!=k:\n",
    "                    rreljk=np.abs((self.xi[j] - self.xi[k])**2+(self.yi[j]-self.yi[k])**2+(self.zi[j]-self.zi[k])**2)**(1./2.)\n",
    "                    ayii[j]+=Gconstant*self.reducedmass[k]*(self.yi[j]  - self.yi[k])/rreljk**3\n",
    "        self.ayi=ayii\n",
    "        return ayii\n",
    "    def dvzidt(self,t):\n",
    "        #return axi[m]\n",
    "        azii=self.azi\n",
    "        rii=np.sqrt(self.xi**2+self.yi**2+self.zi**2)\n",
    "        Gconstant=6.408*10**-11\n",
    "        for k in np.arange(len(rii)):\n",
    "            for j in np.arange(len(rii)):\n",
    "                if j!=k:\n",
    "                    rreljk=np.abs((self.xi[j] - self.xi[k])**2+(self.yi[j]-self.yi[k])**2+(self.zi[j]-self.zi[k])**2)**(1./2.)\n",
    "                    azii[j]+=Gconstant*self.reducedmass[k]*(self.zi[j]  - self.zi[k])/rreljk**3\n",
    "        self.azi=azii\n",
    "        return azii\n",
    "    def updateINTERNAL(self,xii,yii,zii,vxii,vyii,vzii):\n",
    "        self.xi=xii\n",
    "        self.yi=yii\n",
    "        self.zi=zii\n",
    "        self.vxi=vxii\n",
    "        self.vyi=vyii\n",
    "        self.vzi=vzii\n",
    "        return self\n",
    "    def update(self,xii,yii,zii,vxii,vyii,vzii,axii,ayii,azii):\n",
    "        self.xi=xii\n",
    "        self.yi=yii\n",
    "        self.zi=zii\n",
    "        self.vxi=vxii\n",
    "        self.vyi=vyii\n",
    "        self.vzi=vzii\n",
    "        self.axi=axii\n",
    "        self.ayi=ayii\n",
    "        self.azi=azii\n",
    "    def print2D(self):\n",
    "        print(self.xi,self.yi,self.vxi,self.vyi,self.axi,self.ayi)\n",
    "        return self\n",
    "    def list2D(self):\n",
    "        return self.xi,self.yi,self.vxi,self.vyi,self.axi,self.ayi\n",
    "    def timestepRK4ODE(self,step,t,dt):\n",
    "\n",
    "    \n",
    "        h=dt\n",
    "        #tnew,ynew, intval=RK4(h,t,y,f)\n",
    "        #m represents choices of mass\n",
    "        i=step\n",
    "        \n",
    "        tnew,intvalx=RK4implicit(h,t,self.dxidt)\n",
    "        xii = intvalx\n",
    "        tnew,intvalvx=RK4implicit(h,t,self.dvxidt)\n",
    "        vxii=intvalvx\n",
    "        tnew,intvaly=RK4implicit(h,t,self.dyidt)\n",
    "        yii = intvaly\n",
    "        tnew,intvalvy=RK4implicit(h,t,self.dvyidt)\n",
    "        vyii=intvalvy\n",
    "        tnew,intvalz=RK4implicit(h,t,self.dzidt)\n",
    "        zii = intvalz\n",
    "        tnew,intvalvz=RK4implicit(h,t,self.dvzidt)\n",
    "        vzii=intvalvz\n",
    " \n",
    "        #print(xii)\n",
    "        self.updateINTERNAL(xii,yii,zii,vxii,vyii,vzii)\n",
    "        return reducedmass, xii,yii,zii,vxii,vyii,vzii,self.axi,self.ayi,self.azi"
   ]
  },
  {
   "cell_type": "markdown",
   "metadata": {},
   "source": [
    "Implicit RK4"
   ]
  },
  {
   "cell_type": "code",
   "execution_count": null,
   "metadata": {},
   "outputs": [],
   "source": [
    "def RK4implicit(h,t,f): #not a finite difference so no step in y\n",
    "    k1= h*f(t)\n",
    "    k2=h*f(t+h/2.)\n",
    "    k3=h*f(t+h/2.)\n",
    "    k4=h*f(t+h)\n",
    "    return t+h, f(t)+1/6.*(k1+2.*k2+2.*k3+k4)\n",
    "\n",
    "\n"
   ]
  },
  {
   "cell_type": "markdown",
   "metadata": {},
   "source": [
    "Initialize iniitial conditions "
   ]
  },
  {
   "cell_type": "code",
   "execution_count": null,
   "metadata": {},
   "outputs": [],
   "source": [
    "reducedmass,x0,y0,z0, ux0, uy0,uz0, ax0, ay0,az0=xyuva\n",
    "ODE= OrbitDiffEq(reducedmass,x0,y0,z0, ux0, uy0,uz0, ax0, ay0,az0)\n",
    "ODE.print2D()"
   ]
  },
  {
   "cell_type": "markdown",
   "metadata": {},
   "source": [
    "Extract coordinates"
   ]
  },
  {
   "cell_type": "code",
   "execution_count": null,
   "metadata": {},
   "outputs": [],
   "source": [
    "mass,x,y,z,vx,vy,vz,ax,ay,az=xyuva\n",
    "print(x,y,vx,vy,ax,ay)\n",
    "print(xyuva)"
   ]
  },
  {
   "cell_type": "markdown",
   "metadata": {},
   "source": [
    "Evolve the differential equation and print"
   ]
  },
  {
   "cell_type": "code",
   "execution_count": null,
   "metadata": {},
   "outputs": [],
   "source": [
    "dt=0.001*31556926 #seconds per year\n",
    "numsteps=5\n",
    "reducedmass,x,y,z,vx,vy,vz,ax,ay,az=xyuva\n",
    "ODE.print2D()\n",
    "for i in np.arange(1,numsteps):\n",
    "    t=0.+i*numsteps*dt\n",
    "    reducedmass, x,y,z,vx,vy,vz,ax,ay,az=ODE.timestepRK4ODE(i,t,dt)\n",
    "    ODE.print2D()\n",
    "    ODE.update(x,y,z,vx,vy,vz,ax,ay,az)\n",
    "\n"
   ]
  },
  {
   "cell_type": "code",
   "execution_count": null,
   "metadata": {},
   "outputs": [],
   "source": [
    "secperyr=31556926"
   ]
  },
  {
   "cell_type": "markdown",
   "metadata": {},
   "source": [
    "Evolve the differential equation and store in a pandas data frame for later plotting"
   ]
  },
  {
   "cell_type": "code",
   "execution_count": null,
   "metadata": {},
   "outputs": [],
   "source": [
    "ODE2= OrbitDiffEq(reducedmass,x0,y0,z0, ux0, uy0,uz0, ax0, ay0,az0)\n",
    "\n"
   ]
  },
  {
   "cell_type": "code",
   "execution_count": null,
   "metadata": {},
   "outputs": [],
   "source": [
    "dt=0.01*31556926 #seconds per year\n",
    "numsteps=5\n",
    "reducedmass,x,y,z,vx,vy,vz,ax,ay,az=xyuva\n",
    "datainit=[[0,0.0,x,y,z,vx,vy,vz,ax,ay,az]]\n",
    "import pandas as pd\n",
    "columns =['step','time','x' ,'y','z','vx','vy','vz','ax','ay','az']\n",
    "df = pd.DataFrame(data=datainit, columns=columns)\n",
    "\n",
    "\n"
   ]
  },
  {
   "cell_type": "code",
   "execution_count": null,
   "metadata": {},
   "outputs": [],
   "source": []
  },
  {
   "cell_type": "code",
   "execution_count": null,
   "metadata": {},
   "outputs": [],
   "source": [
    "display(df)"
   ]
  },
  {
   "cell_type": "code",
   "execution_count": null,
   "metadata": {},
   "outputs": [],
   "source": [
    "for i in np.arange(1,numsteps):\n",
    "    t=0.+i*numsteps*dt\n",
    "    reducedmass, x,y,z,vx,vy,vz,ax,ay,az=ODE2.timestepRK4ODE(i,t,dt)\n",
    "    df.loc[i]=i,t,x,y,z,vx,vy,vz,ax,ay,az\n",
    "    ODE2.update(x,y,z,vx,vy,vz,ax,ay,az)\n"
   ]
  },
  {
   "cell_type": "code",
   "execution_count": null,
   "metadata": {},
   "outputs": [],
   "source": [
    "display(df)"
   ]
  },
  {
   "cell_type": "code",
   "execution_count": null,
   "metadata": {},
   "outputs": [],
   "source": [
    "xser=df['x']\n",
    "xser\n",
    "xser[1][0]"
   ]
  },
  {
   "cell_type": "markdown",
   "metadata": {},
   "source": [
    "Each pandas column has two entries because there are two bodies, the sun and the earth. These need to be split into columns one and two in a new table for each pandas column in the original table. The following routine automates extraction of these entries for each column. "
   ]
  },
  {
   "cell_type": "code",
   "execution_count": null,
   "metadata": {},
   "outputs": [],
   "source": [
    "def mergeStarDataIntoDataFrame(col):\n",
    "    rawdataser=df[col]\n",
    "    numstars=len(rawdataser[0])\n",
    "    columns=np.arange(numstars)\n",
    "    numentries=len(rawdataser)\n",
    "    index=np.arange(numentries)\n",
    "    dfnew=pd.DataFrame(columns=columns,index=index)\n",
    "    for coln in np.arange(numstars):\n",
    "        datacollist=[]\n",
    "        for row in np.arange(numentries):\n",
    "            datacollist.append(rawdataser[row][coln])\n",
    "        dfnew[coln]=datacollist\n",
    "    return dfnew"
   ]
  },
  {
   "cell_type": "code",
   "execution_count": null,
   "metadata": {},
   "outputs": [],
   "source": [
    "dfx=mergeStarDataIntoDataFrame('x')"
   ]
  },
  {
   "cell_type": "code",
   "execution_count": null,
   "metadata": {},
   "outputs": [],
   "source": [
    "display(dfx)"
   ]
  },
  {
   "cell_type": "code",
   "execution_count": null,
   "metadata": {},
   "outputs": [],
   "source": [
    "dfy=mergeStarDataIntoDataFrame('y')"
   ]
  },
  {
   "cell_type": "code",
   "execution_count": null,
   "metadata": {},
   "outputs": [],
   "source": [
    "display(dfy)"
   ]
  },
  {
   "cell_type": "code",
   "execution_count": null,
   "metadata": {},
   "outputs": [],
   "source": [
    "dfvx=mergeStarDataIntoDataFrame('vx')"
   ]
  },
  {
   "cell_type": "code",
   "execution_count": null,
   "metadata": {},
   "outputs": [],
   "source": [
    "display(dfvx)"
   ]
  },
  {
   "cell_type": "code",
   "execution_count": null,
   "metadata": {},
   "outputs": [],
   "source": [
    "dfvy=mergeStarDataIntoDataFrame('vy')"
   ]
  },
  {
   "cell_type": "code",
   "execution_count": null,
   "metadata": {},
   "outputs": [],
   "source": [
    "display(dfvy)"
   ]
  },
  {
   "cell_type": "code",
   "execution_count": null,
   "metadata": {},
   "outputs": [],
   "source": [
    "dfax=mergeStarDataIntoDataFrame('ax')"
   ]
  },
  {
   "cell_type": "code",
   "execution_count": null,
   "metadata": {},
   "outputs": [],
   "source": [
    "display(dfax)"
   ]
  },
  {
   "cell_type": "code",
   "execution_count": null,
   "metadata": {},
   "outputs": [],
   "source": [
    "dfay=mergeStarDataIntoDataFrame('ay')"
   ]
  },
  {
   "cell_type": "code",
   "execution_count": null,
   "metadata": {},
   "outputs": [],
   "source": [
    "display(dfay)"
   ]
  },
  {
   "cell_type": "code",
   "execution_count": null,
   "metadata": {},
   "outputs": [],
   "source": [
    "df['time'].tolist()"
   ]
  },
  {
   "cell_type": "markdown",
   "metadata": {},
   "source": [
    "Plots time versus position of Earth, in reduced mass coordinates"
   ]
  },
  {
   "cell_type": "code",
   "execution_count": null,
   "metadata": {},
   "outputs": [],
   "source": [
    "from bokeh.plotting import figure, output_notebook, show\n",
    "p=figure(plot_width=300,plot_height=300,x_axis_label=\"Time (s)\",y_axis_label=\"y displacement (m), Earth\")\n",
    "show(p)\n",
    "p.circle(x=np.array(df['time'].tolist()),y=np.array(dfy[1].tolist()))\n",
    "show(p)\n",
    "output_notebook()"
   ]
  },
  {
   "cell_type": "code",
   "execution_count": null,
   "metadata": {},
   "outputs": [],
   "source": []
  }
 ],
 "metadata": {
  "kernelspec": {
   "display_name": "Python 3",
   "language": "python",
   "name": "python3"
  },
  "language_info": {
   "codemirror_mode": {
    "name": "ipython",
    "version": 3
   },
   "file_extension": ".py",
   "mimetype": "text/x-python",
   "name": "python",
   "nbconvert_exporter": "python",
   "pygments_lexer": "ipython3",
   "version": "3.7.4"
  }
 },
 "nbformat": 4,
 "nbformat_minor": 2
}
