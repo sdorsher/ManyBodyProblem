{
 "cells": [
  {
   "cell_type": "code",
   "execution_count": 1,
   "metadata": {},
   "outputs": [],
   "source": [
    "import numpy as np\n",
    "import matplotlib.pyplot as plt\n",
    "\n",
    "def NewtonianForce(mass1,mass2, r):\n",
    "    return (6.67408*10**-11)*mass1*mass2/r/r;"
   ]
  },
  {
   "cell_type": "code",
   "execution_count": 2,
   "metadata": {},
   "outputs": [],
   "source": [
    "def euler(h,t, x,f):\n",
    "    return (f(t+h,x+h)-f(t,h)/2./h)"
   ]
  },
  {
   "cell_type": "code",
   "execution_count": 3,
   "metadata": {},
   "outputs": [],
   "source": [
    "def RK4(h,t,x,y,z,f): #not a finite difference so no step in y\n",
    "    k1= h*f(t,x,y,z)\n",
    "    k2=h*f(t+h/2.,x,y,z)\n",
    "    k3=h*f(t+h/2.,x,y,z)\n",
    "    k4=h*f(t+h,x,y,z)\n",
    "    return t+h, f(t,x,y,z)+1/6.*(k1+2.*k2+2.*k3+k4)\n",
    "\n"
   ]
  },
  {
   "cell_type": "code",
   "execution_count": null,
   "metadata": {},
   "outputs": [],
   "source": []
  },
  {
   "cell_type": "code",
   "execution_count": 4,
   "metadata": {},
   "outputs": [],
   "source": [
    "def polynomial4(t,x,a,b,c,d,e):\n",
    "    p=[]\n",
    "    for xi in x:\n",
    "        pi=a*xi**4+b*xi**3+c*xi**2+d*xi+e\n",
    "        #print(pi)\n",
    "        p.append(pi)\n",
    "    return np.array(p)\n",
    "    \n",
    "\n",
    "def polymaker(t,x,y,z,a,b,c,d,e):\n",
    "    def poly(t,x,y,z):\n",
    "        return polynomial4(t,x,a,b,c,d,e)\n",
    "    return poly\n",
    "        \n",
    "        "
   ]
  },
  {
   "cell_type": "code",
   "execution_count": 5,
   "metadata": {},
   "outputs": [
    {
     "name": "stdout",
     "output_type": "stream",
     "text": [
      "0.0 [0.   0.01 0.02 0.03 0.04 0.05 0.06 0.07 0.08 0.09]\n"
     ]
    }
   ],
   "source": [
    "import numpy as np\n",
    "t=0.\n",
    "x=0.01*np.arange(10.)\n",
    "y=0.01*np.arange(10.)\n",
    "z=0.01*np.arange(10.)\n",
    "print(t,x)\n",
    "polyfn=polymaker(t,x,y,z,1.,0.,0.,0.,0.)"
   ]
  },
  {
   "cell_type": "code",
   "execution_count": 6,
   "metadata": {},
   "outputs": [],
   "source": [
    "#import matplotlib.pyplot as plt\n",
    "#plt.plot(t,polyfn(t,x))"
   ]
  },
  {
   "cell_type": "code",
   "execution_count": 7,
   "metadata": {},
   "outputs": [
    {
     "name": "stdout",
     "output_type": "stream",
     "text": [
      "[0.000e+00 1.000e-08 1.600e-07 8.100e-07 2.560e-06 6.250e-06 1.296e-05\n",
      " 2.401e-05 4.096e-05 6.561e-05]\n"
     ]
    }
   ],
   "source": [
    "outp=polyfn(t,x,y,z) #this is correct to order of magnitude\n",
    "print(outp)"
   ]
  },
  {
   "cell_type": "code",
   "execution_count": 8,
   "metadata": {},
   "outputs": [
    {
     "data": {
      "text/html": [
       "\n",
       "    <div class=\"bk-root\">\n",
       "        <a href=\"https://bokeh.pydata.org\" target=\"_blank\" class=\"bk-logo bk-logo-small bk-logo-notebook\"></a>\n",
       "        <span id=\"d3117064-da94-4f01-9259-cfefe100d1eb\">Loading BokehJS ...</span>\n",
       "    </div>"
      ]
     },
     "metadata": {},
     "output_type": "display_data"
    },
    {
     "data": {
      "application/javascript": [
       "\n",
       "(function(root) {\n",
       "  function now() {\n",
       "    return new Date();\n",
       "  }\n",
       "\n",
       "  var force = true;\n",
       "\n",
       "  if (typeof (root._bokeh_onload_callbacks) === \"undefined\" || force === true) {\n",
       "    root._bokeh_onload_callbacks = [];\n",
       "    root._bokeh_is_loading = undefined;\n",
       "  }\n",
       "\n",
       "  var JS_MIME_TYPE = 'application/javascript';\n",
       "  var HTML_MIME_TYPE = 'text/html';\n",
       "  var EXEC_MIME_TYPE = 'application/vnd.bokehjs_exec.v0+json';\n",
       "  var CLASS_NAME = 'output_bokeh rendered_html';\n",
       "\n",
       "  /**\n",
       "   * Render data to the DOM node\n",
       "   */\n",
       "  function render(props, node) {\n",
       "    var script = document.createElement(\"script\");\n",
       "    node.appendChild(script);\n",
       "  }\n",
       "\n",
       "  /**\n",
       "   * Handle when an output is cleared or removed\n",
       "   */\n",
       "  function handleClearOutput(event, handle) {\n",
       "    var cell = handle.cell;\n",
       "\n",
       "    var id = cell.output_area._bokeh_element_id;\n",
       "    var server_id = cell.output_area._bokeh_server_id;\n",
       "    // Clean up Bokeh references\n",
       "    if (id !== undefined) {\n",
       "      Bokeh.index[id].model.document.clear();\n",
       "      delete Bokeh.index[id];\n",
       "    }\n",
       "\n",
       "    if (server_id !== undefined) {\n",
       "      // Clean up Bokeh references\n",
       "      var cmd = \"from bokeh.io.state import curstate; print(curstate().uuid_to_server['\" + server_id + \"'].get_sessions()[0].document.roots[0]._id)\";\n",
       "      cell.notebook.kernel.execute(cmd, {\n",
       "        iopub: {\n",
       "          output: function(msg) {\n",
       "            var element_id = msg.content.text.trim();\n",
       "            Bokeh.index[element_id].model.document.clear();\n",
       "            delete Bokeh.index[element_id];\n",
       "          }\n",
       "        }\n",
       "      });\n",
       "      // Destroy server and session\n",
       "      var cmd = \"import bokeh.io.notebook as ion; ion.destroy_server('\" + server_id + \"')\";\n",
       "      cell.notebook.kernel.execute(cmd);\n",
       "    }\n",
       "  }\n",
       "\n",
       "  /**\n",
       "   * Handle when a new output is added\n",
       "   */\n",
       "  function handleAddOutput(event, handle) {\n",
       "    var output_area = handle.output_area;\n",
       "    var output = handle.output;\n",
       "\n",
       "    // limit handleAddOutput to display_data with EXEC_MIME_TYPE content only\n",
       "    if ((output.output_type != \"display_data\") || (!output.data.hasOwnProperty(EXEC_MIME_TYPE))) {\n",
       "      return\n",
       "    }\n",
       "\n",
       "    var toinsert = output_area.element.find(\".\" + CLASS_NAME.split(' ')[0]);\n",
       "\n",
       "    if (output.metadata[EXEC_MIME_TYPE][\"id\"] !== undefined) {\n",
       "      toinsert[0].firstChild.textContent = output.data[JS_MIME_TYPE];\n",
       "      // store reference to embed id on output_area\n",
       "      output_area._bokeh_element_id = output.metadata[EXEC_MIME_TYPE][\"id\"];\n",
       "    }\n",
       "    if (output.metadata[EXEC_MIME_TYPE][\"server_id\"] !== undefined) {\n",
       "      var bk_div = document.createElement(\"div\");\n",
       "      bk_div.innerHTML = output.data[HTML_MIME_TYPE];\n",
       "      var script_attrs = bk_div.children[0].attributes;\n",
       "      for (var i = 0; i < script_attrs.length; i++) {\n",
       "        toinsert[0].firstChild.setAttribute(script_attrs[i].name, script_attrs[i].value);\n",
       "      }\n",
       "      // store reference to server id on output_area\n",
       "      output_area._bokeh_server_id = output.metadata[EXEC_MIME_TYPE][\"server_id\"];\n",
       "    }\n",
       "  }\n",
       "\n",
       "  function register_renderer(events, OutputArea) {\n",
       "\n",
       "    function append_mime(data, metadata, element) {\n",
       "      // create a DOM node to render to\n",
       "      var toinsert = this.create_output_subarea(\n",
       "        metadata,\n",
       "        CLASS_NAME,\n",
       "        EXEC_MIME_TYPE\n",
       "      );\n",
       "      this.keyboard_manager.register_events(toinsert);\n",
       "      // Render to node\n",
       "      var props = {data: data, metadata: metadata[EXEC_MIME_TYPE]};\n",
       "      render(props, toinsert[0]);\n",
       "      element.append(toinsert);\n",
       "      return toinsert\n",
       "    }\n",
       "\n",
       "    /* Handle when an output is cleared or removed */\n",
       "    events.on('clear_output.CodeCell', handleClearOutput);\n",
       "    events.on('delete.Cell', handleClearOutput);\n",
       "\n",
       "    /* Handle when a new output is added */\n",
       "    events.on('output_added.OutputArea', handleAddOutput);\n",
       "\n",
       "    /**\n",
       "     * Register the mime type and append_mime function with output_area\n",
       "     */\n",
       "    OutputArea.prototype.register_mime_type(EXEC_MIME_TYPE, append_mime, {\n",
       "      /* Is output safe? */\n",
       "      safe: true,\n",
       "      /* Index of renderer in `output_area.display_order` */\n",
       "      index: 0\n",
       "    });\n",
       "  }\n",
       "\n",
       "  // register the mime type if in Jupyter Notebook environment and previously unregistered\n",
       "  if (root.Jupyter !== undefined) {\n",
       "    var events = require('base/js/events');\n",
       "    var OutputArea = require('notebook/js/outputarea').OutputArea;\n",
       "\n",
       "    if (OutputArea.prototype.mime_types().indexOf(EXEC_MIME_TYPE) == -1) {\n",
       "      register_renderer(events, OutputArea);\n",
       "    }\n",
       "  }\n",
       "\n",
       "  \n",
       "  if (typeof (root._bokeh_timeout) === \"undefined\" || force === true) {\n",
       "    root._bokeh_timeout = Date.now() + 5000;\n",
       "    root._bokeh_failed_load = false;\n",
       "  }\n",
       "\n",
       "  var NB_LOAD_WARNING = {'data': {'text/html':\n",
       "     \"<div style='background-color: #fdd'>\\n\"+\n",
       "     \"<p>\\n\"+\n",
       "     \"BokehJS does not appear to have successfully loaded. If loading BokehJS from CDN, this \\n\"+\n",
       "     \"may be due to a slow or bad network connection. Possible fixes:\\n\"+\n",
       "     \"</p>\\n\"+\n",
       "     \"<ul>\\n\"+\n",
       "     \"<li>re-rerun `output_notebook()` to attempt to load from CDN again, or</li>\\n\"+\n",
       "     \"<li>use INLINE resources instead, as so:</li>\\n\"+\n",
       "     \"</ul>\\n\"+\n",
       "     \"<code>\\n\"+\n",
       "     \"from bokeh.resources import INLINE\\n\"+\n",
       "     \"output_notebook(resources=INLINE)\\n\"+\n",
       "     \"</code>\\n\"+\n",
       "     \"</div>\"}};\n",
       "\n",
       "  function display_loaded() {\n",
       "    var el = document.getElementById(\"d3117064-da94-4f01-9259-cfefe100d1eb\");\n",
       "    if (el != null) {\n",
       "      el.textContent = \"BokehJS is loading...\";\n",
       "    }\n",
       "    if (root.Bokeh !== undefined) {\n",
       "      if (el != null) {\n",
       "        el.textContent = \"BokehJS \" + root.Bokeh.version + \" successfully loaded.\";\n",
       "      }\n",
       "    } else if (Date.now() < root._bokeh_timeout) {\n",
       "      setTimeout(display_loaded, 100)\n",
       "    }\n",
       "  }\n",
       "\n",
       "\n",
       "  function run_callbacks() {\n",
       "    try {\n",
       "      root._bokeh_onload_callbacks.forEach(function(callback) { callback() });\n",
       "    }\n",
       "    finally {\n",
       "      delete root._bokeh_onload_callbacks\n",
       "    }\n",
       "    console.info(\"Bokeh: all callbacks have finished\");\n",
       "  }\n",
       "\n",
       "  function load_libs(js_urls, callback) {\n",
       "    root._bokeh_onload_callbacks.push(callback);\n",
       "    if (root._bokeh_is_loading > 0) {\n",
       "      console.log(\"Bokeh: BokehJS is being loaded, scheduling callback at\", now());\n",
       "      return null;\n",
       "    }\n",
       "    if (js_urls == null || js_urls.length === 0) {\n",
       "      run_callbacks();\n",
       "      return null;\n",
       "    }\n",
       "    console.log(\"Bokeh: BokehJS not loaded, scheduling load and callback at\", now());\n",
       "    root._bokeh_is_loading = js_urls.length;\n",
       "    for (var i = 0; i < js_urls.length; i++) {\n",
       "      var url = js_urls[i];\n",
       "      var s = document.createElement('script');\n",
       "      s.src = url;\n",
       "      s.async = false;\n",
       "      s.onreadystatechange = s.onload = function() {\n",
       "        root._bokeh_is_loading--;\n",
       "        if (root._bokeh_is_loading === 0) {\n",
       "          console.log(\"Bokeh: all BokehJS libraries loaded\");\n",
       "          run_callbacks()\n",
       "        }\n",
       "      };\n",
       "      s.onerror = function() {\n",
       "        console.warn(\"failed to load library \" + url);\n",
       "      };\n",
       "      console.log(\"Bokeh: injecting script tag for BokehJS library: \", url);\n",
       "      document.getElementsByTagName(\"head\")[0].appendChild(s);\n",
       "    }\n",
       "  };var element = document.getElementById(\"d3117064-da94-4f01-9259-cfefe100d1eb\");\n",
       "  if (element == null) {\n",
       "    console.log(\"Bokeh: ERROR: autoload.js configured with elementid 'd3117064-da94-4f01-9259-cfefe100d1eb' but no matching script tag was found. \")\n",
       "    return false;\n",
       "  }\n",
       "\n",
       "  var js_urls = [\"https://cdn.pydata.org/bokeh/release/bokeh-0.12.13.min.js\", \"https://cdn.pydata.org/bokeh/release/bokeh-widgets-0.12.13.min.js\", \"https://cdn.pydata.org/bokeh/release/bokeh-tables-0.12.13.min.js\", \"https://cdn.pydata.org/bokeh/release/bokeh-gl-0.12.13.min.js\"];\n",
       "\n",
       "  var inline_js = [\n",
       "    function(Bokeh) {\n",
       "      Bokeh.set_log_level(\"info\");\n",
       "    },\n",
       "    \n",
       "    function(Bokeh) {\n",
       "      \n",
       "    },\n",
       "    function(Bokeh) {\n",
       "      console.log(\"Bokeh: injecting CSS: https://cdn.pydata.org/bokeh/release/bokeh-0.12.13.min.css\");\n",
       "      Bokeh.embed.inject_css(\"https://cdn.pydata.org/bokeh/release/bokeh-0.12.13.min.css\");\n",
       "      console.log(\"Bokeh: injecting CSS: https://cdn.pydata.org/bokeh/release/bokeh-widgets-0.12.13.min.css\");\n",
       "      Bokeh.embed.inject_css(\"https://cdn.pydata.org/bokeh/release/bokeh-widgets-0.12.13.min.css\");\n",
       "      console.log(\"Bokeh: injecting CSS: https://cdn.pydata.org/bokeh/release/bokeh-tables-0.12.13.min.css\");\n",
       "      Bokeh.embed.inject_css(\"https://cdn.pydata.org/bokeh/release/bokeh-tables-0.12.13.min.css\");\n",
       "    }\n",
       "  ];\n",
       "\n",
       "  function run_inline_js() {\n",
       "    \n",
       "    if ((root.Bokeh !== undefined) || (force === true)) {\n",
       "      for (var i = 0; i < inline_js.length; i++) {\n",
       "        inline_js[i].call(root, root.Bokeh);\n",
       "      }if (force === true) {\n",
       "        display_loaded();\n",
       "      }} else if (Date.now() < root._bokeh_timeout) {\n",
       "      setTimeout(run_inline_js, 100);\n",
       "    } else if (!root._bokeh_failed_load) {\n",
       "      console.log(\"Bokeh: BokehJS failed to load within specified timeout.\");\n",
       "      root._bokeh_failed_load = true;\n",
       "    } else if (force !== true) {\n",
       "      var cell = $(document.getElementById(\"d3117064-da94-4f01-9259-cfefe100d1eb\")).parents('.cell').data().cell;\n",
       "      cell.output_area.append_execute_result(NB_LOAD_WARNING)\n",
       "    }\n",
       "\n",
       "  }\n",
       "\n",
       "  if (root._bokeh_is_loading === 0) {\n",
       "    console.log(\"Bokeh: BokehJS loaded, going straight to plotting\");\n",
       "    run_inline_js();\n",
       "  } else {\n",
       "    load_libs(js_urls, function() {\n",
       "      console.log(\"Bokeh: BokehJS plotting callback run at\", now());\n",
       "      run_inline_js();\n",
       "    });\n",
       "  }\n",
       "}(window));"
      ],
      "application/vnd.bokehjs_load.v0+json": "\n(function(root) {\n  function now() {\n    return new Date();\n  }\n\n  var force = true;\n\n  if (typeof (root._bokeh_onload_callbacks) === \"undefined\" || force === true) {\n    root._bokeh_onload_callbacks = [];\n    root._bokeh_is_loading = undefined;\n  }\n\n  \n\n  \n  if (typeof (root._bokeh_timeout) === \"undefined\" || force === true) {\n    root._bokeh_timeout = Date.now() + 5000;\n    root._bokeh_failed_load = false;\n  }\n\n  var NB_LOAD_WARNING = {'data': {'text/html':\n     \"<div style='background-color: #fdd'>\\n\"+\n     \"<p>\\n\"+\n     \"BokehJS does not appear to have successfully loaded. If loading BokehJS from CDN, this \\n\"+\n     \"may be due to a slow or bad network connection. Possible fixes:\\n\"+\n     \"</p>\\n\"+\n     \"<ul>\\n\"+\n     \"<li>re-rerun `output_notebook()` to attempt to load from CDN again, or</li>\\n\"+\n     \"<li>use INLINE resources instead, as so:</li>\\n\"+\n     \"</ul>\\n\"+\n     \"<code>\\n\"+\n     \"from bokeh.resources import INLINE\\n\"+\n     \"output_notebook(resources=INLINE)\\n\"+\n     \"</code>\\n\"+\n     \"</div>\"}};\n\n  function display_loaded() {\n    var el = document.getElementById(\"d3117064-da94-4f01-9259-cfefe100d1eb\");\n    if (el != null) {\n      el.textContent = \"BokehJS is loading...\";\n    }\n    if (root.Bokeh !== undefined) {\n      if (el != null) {\n        el.textContent = \"BokehJS \" + root.Bokeh.version + \" successfully loaded.\";\n      }\n    } else if (Date.now() < root._bokeh_timeout) {\n      setTimeout(display_loaded, 100)\n    }\n  }\n\n\n  function run_callbacks() {\n    try {\n      root._bokeh_onload_callbacks.forEach(function(callback) { callback() });\n    }\n    finally {\n      delete root._bokeh_onload_callbacks\n    }\n    console.info(\"Bokeh: all callbacks have finished\");\n  }\n\n  function load_libs(js_urls, callback) {\n    root._bokeh_onload_callbacks.push(callback);\n    if (root._bokeh_is_loading > 0) {\n      console.log(\"Bokeh: BokehJS is being loaded, scheduling callback at\", now());\n      return null;\n    }\n    if (js_urls == null || js_urls.length === 0) {\n      run_callbacks();\n      return null;\n    }\n    console.log(\"Bokeh: BokehJS not loaded, scheduling load and callback at\", now());\n    root._bokeh_is_loading = js_urls.length;\n    for (var i = 0; i < js_urls.length; i++) {\n      var url = js_urls[i];\n      var s = document.createElement('script');\n      s.src = url;\n      s.async = false;\n      s.onreadystatechange = s.onload = function() {\n        root._bokeh_is_loading--;\n        if (root._bokeh_is_loading === 0) {\n          console.log(\"Bokeh: all BokehJS libraries loaded\");\n          run_callbacks()\n        }\n      };\n      s.onerror = function() {\n        console.warn(\"failed to load library \" + url);\n      };\n      console.log(\"Bokeh: injecting script tag for BokehJS library: \", url);\n      document.getElementsByTagName(\"head\")[0].appendChild(s);\n    }\n  };var element = document.getElementById(\"d3117064-da94-4f01-9259-cfefe100d1eb\");\n  if (element == null) {\n    console.log(\"Bokeh: ERROR: autoload.js configured with elementid 'd3117064-da94-4f01-9259-cfefe100d1eb' but no matching script tag was found. \")\n    return false;\n  }\n\n  var js_urls = [\"https://cdn.pydata.org/bokeh/release/bokeh-0.12.13.min.js\", \"https://cdn.pydata.org/bokeh/release/bokeh-widgets-0.12.13.min.js\", \"https://cdn.pydata.org/bokeh/release/bokeh-tables-0.12.13.min.js\", \"https://cdn.pydata.org/bokeh/release/bokeh-gl-0.12.13.min.js\"];\n\n  var inline_js = [\n    function(Bokeh) {\n      Bokeh.set_log_level(\"info\");\n    },\n    \n    function(Bokeh) {\n      \n    },\n    function(Bokeh) {\n      console.log(\"Bokeh: injecting CSS: https://cdn.pydata.org/bokeh/release/bokeh-0.12.13.min.css\");\n      Bokeh.embed.inject_css(\"https://cdn.pydata.org/bokeh/release/bokeh-0.12.13.min.css\");\n      console.log(\"Bokeh: injecting CSS: https://cdn.pydata.org/bokeh/release/bokeh-widgets-0.12.13.min.css\");\n      Bokeh.embed.inject_css(\"https://cdn.pydata.org/bokeh/release/bokeh-widgets-0.12.13.min.css\");\n      console.log(\"Bokeh: injecting CSS: https://cdn.pydata.org/bokeh/release/bokeh-tables-0.12.13.min.css\");\n      Bokeh.embed.inject_css(\"https://cdn.pydata.org/bokeh/release/bokeh-tables-0.12.13.min.css\");\n    }\n  ];\n\n  function run_inline_js() {\n    \n    if ((root.Bokeh !== undefined) || (force === true)) {\n      for (var i = 0; i < inline_js.length; i++) {\n        inline_js[i].call(root, root.Bokeh);\n      }if (force === true) {\n        display_loaded();\n      }} else if (Date.now() < root._bokeh_timeout) {\n      setTimeout(run_inline_js, 100);\n    } else if (!root._bokeh_failed_load) {\n      console.log(\"Bokeh: BokehJS failed to load within specified timeout.\");\n      root._bokeh_failed_load = true;\n    } else if (force !== true) {\n      var cell = $(document.getElementById(\"d3117064-da94-4f01-9259-cfefe100d1eb\")).parents('.cell').data().cell;\n      cell.output_area.append_execute_result(NB_LOAD_WARNING)\n    }\n\n  }\n\n  if (root._bokeh_is_loading === 0) {\n    console.log(\"Bokeh: BokehJS loaded, going straight to plotting\");\n    run_inline_js();\n  } else {\n    load_libs(js_urls, function() {\n      console.log(\"Bokeh: BokehJS plotting callback run at\", now());\n      run_inline_js();\n    });\n  }\n}(window));"
     },
     "metadata": {},
     "output_type": "display_data"
    },
    {
     "data": {
      "text/html": [
       "\n",
       "<div class=\"bk-root\">\n",
       "    <div class=\"bk-plotdiv\" id=\"e2db4b12-70ec-4437-9130-5d325eef8275\"></div>\n",
       "</div>"
      ]
     },
     "metadata": {},
     "output_type": "display_data"
    },
    {
     "data": {
      "application/javascript": [
       "(function(root) {\n",
       "  function embed_document(root) {\n",
       "    \n",
       "  var docs_json = {\"3aa244c1-4e5e-4e30-9e04-41827a5e55ac\":{\"roots\":{\"references\":[{\"attributes\":{\"bottom_units\":\"screen\",\"fill_alpha\":{\"value\":0.5},\"fill_color\":{\"value\":\"lightgrey\"},\"left_units\":\"screen\",\"level\":\"overlay\",\"line_alpha\":{\"value\":1.0},\"line_color\":{\"value\":\"black\"},\"line_dash\":[4,4],\"line_width\":{\"value\":2},\"plot\":null,\"render_mode\":\"css\",\"right_units\":\"screen\",\"top_units\":\"screen\"},\"id\":\"21fd1396-e4f1-4c54-a217-50bf82dcfe0a\",\"type\":\"BoxAnnotation\"},{\"attributes\":{\"plot\":null,\"text\":\"Polynomial function (x^4)\"},\"id\":\"bf81326f-2ae6-4e10-bc52-2b8d2fbd0a77\",\"type\":\"Title\"},{\"attributes\":{\"data_source\":{\"id\":\"8734585c-399c-436f-baf4-90f9048760fc\",\"type\":\"ColumnDataSource\"},\"glyph\":{\"id\":\"2ee43a05-b091-4ff1-b627-3c6769fbfde4\",\"type\":\"Line\"},\"hover_glyph\":null,\"muted_glyph\":null,\"nonselection_glyph\":{\"id\":\"8abdc3f8-5ad1-4203-b3c7-c99935eb67a2\",\"type\":\"Line\"},\"selection_glyph\":null,\"view\":{\"id\":\"91755b2f-e17a-4446-9fec-8e30bf620394\",\"type\":\"CDSView\"}},\"id\":\"201112db-c09c-4945-ba96-5a46dab2175c\",\"type\":\"GlyphRenderer\"},{\"attributes\":{\"callback\":null,\"column_names\":[\"x\",\"y\"],\"data\":{\"x\":{\"__ndarray__\":\"AAAAAAAAAAB7FK5H4XqEP3sUrkfhepQ/uB6F61G4nj97FK5H4XqkP5qZmZmZmak/uB6F61G4rj/sUbgeheuxP3sUrkfherQ/CtejcD0Ktz8=\",\"dtype\":\"float64\",\"shape\":[10]},\"y\":{\"__ndarray__\":\"AAAAAAAAAAB7FK5H4XqEP3sUrkfhepQ/uB6F61G4nj97FK5H4XqkP5qZmZmZmak/uB6F61G4rj/sUbgeheuxP3sUrkfherQ/CtejcD0Ktz8=\",\"dtype\":\"float64\",\"shape\":[10]}}},\"id\":\"8734585c-399c-436f-baf4-90f9048760fc\",\"type\":\"ColumnDataSource\"},{\"attributes\":{\"items\":[{\"id\":\"88e52952-36e0-43c4-8044-d152309f74cd\",\"type\":\"LegendItem\"}],\"plot\":{\"id\":\"114509af-1bb1-4fa4-b11b-3469f224be0c\",\"subtype\":\"Figure\",\"type\":\"Plot\"}},\"id\":\"5678c5b6-25cf-4d3e-b4e0-b37b7a06541b\",\"type\":\"Legend\"},{\"attributes\":{\"source\":{\"id\":\"8734585c-399c-436f-baf4-90f9048760fc\",\"type\":\"ColumnDataSource\"}},\"id\":\"91755b2f-e17a-4446-9fec-8e30bf620394\",\"type\":\"CDSView\"},{\"attributes\":{},\"id\":\"89b61112-2a4a-4574-aea8-3ba9d9a65d85\",\"type\":\"BasicTickFormatter\"},{\"attributes\":{},\"id\":\"27f93905-2ac0-4a3f-ba4b-ec39ff1621e7\",\"type\":\"PanTool\"},{\"attributes\":{},\"id\":\"797e75f7-6b71-496e-ac95-615b1fb93466\",\"type\":\"WheelZoomTool\"},{\"attributes\":{\"overlay\":{\"id\":\"21fd1396-e4f1-4c54-a217-50bf82dcfe0a\",\"type\":\"BoxAnnotation\"}},\"id\":\"80464735-2e64-4312-a413-de802f56cd81\",\"type\":\"BoxZoomTool\"},{\"attributes\":{\"active_drag\":\"auto\",\"active_inspect\":\"auto\",\"active_scroll\":\"auto\",\"active_tap\":\"auto\",\"tools\":[{\"id\":\"27f93905-2ac0-4a3f-ba4b-ec39ff1621e7\",\"type\":\"PanTool\"},{\"id\":\"797e75f7-6b71-496e-ac95-615b1fb93466\",\"type\":\"WheelZoomTool\"},{\"id\":\"80464735-2e64-4312-a413-de802f56cd81\",\"type\":\"BoxZoomTool\"},{\"id\":\"d84cce28-1094-4d1d-8d4d-113f46bbeb54\",\"type\":\"SaveTool\"},{\"id\":\"066b7db1-196a-45f8-8061-3172e3b60bea\",\"type\":\"ResetTool\"},{\"id\":\"bf1f4e30-36a9-49f7-9fd2-465a4d2cfa9b\",\"type\":\"HelpTool\"}]},\"id\":\"5c03d499-a058-4555-bbd3-42d78d80a292\",\"type\":\"Toolbar\"},{\"attributes\":{},\"id\":\"d84cce28-1094-4d1d-8d4d-113f46bbeb54\",\"type\":\"SaveTool\"},{\"attributes\":{},\"id\":\"37ea5ebe-6b6f-4d45-8202-e06115230ad9\",\"type\":\"LinearScale\"},{\"attributes\":{\"line_alpha\":0.1,\"line_color\":\"#1f77b4\",\"line_width\":2,\"x\":{\"field\":\"x\"},\"y\":{\"field\":\"y\"}},\"id\":\"8abdc3f8-5ad1-4203-b3c7-c99935eb67a2\",\"type\":\"Line\"},{\"attributes\":{\"callback\":null},\"id\":\"a61e8933-87ec-457d-b918-4c090b678d3e\",\"type\":\"DataRange1d\"},{\"attributes\":{},\"id\":\"066b7db1-196a-45f8-8061-3172e3b60bea\",\"type\":\"ResetTool\"},{\"attributes\":{},\"id\":\"bf1f4e30-36a9-49f7-9fd2-465a4d2cfa9b\",\"type\":\"HelpTool\"},{\"attributes\":{},\"id\":\"a3920323-3e6b-4512-8b12-ec5a93093712\",\"type\":\"LinearScale\"},{\"attributes\":{},\"id\":\"8825e9ca-1916-4742-bf06-6008fe5bcce8\",\"type\":\"BasicTickFormatter\"},{\"attributes\":{\"axis_label\":\"x\",\"formatter\":{\"id\":\"89b61112-2a4a-4574-aea8-3ba9d9a65d85\",\"type\":\"BasicTickFormatter\"},\"plot\":{\"id\":\"114509af-1bb1-4fa4-b11b-3469f224be0c\",\"subtype\":\"Figure\",\"type\":\"Plot\"},\"ticker\":{\"id\":\"031ca5bc-b21b-48fd-911e-a4302db64dee\",\"type\":\"BasicTicker\"}},\"id\":\"aacb9dde-3411-4336-a4f4-a7d1d26d10d4\",\"type\":\"LinearAxis\"},{\"attributes\":{},\"id\":\"031ca5bc-b21b-48fd-911e-a4302db64dee\",\"type\":\"BasicTicker\"},{\"attributes\":{\"callback\":null},\"id\":\"6c8939a1-463b-486a-a756-b09cdec410e7\",\"type\":\"DataRange1d\"},{\"attributes\":{\"line_color\":\"#1f77b4\",\"line_width\":2,\"x\":{\"field\":\"x\"},\"y\":{\"field\":\"y\"}},\"id\":\"2ee43a05-b091-4ff1-b627-3c6769fbfde4\",\"type\":\"Line\"},{\"attributes\":{\"plot\":{\"id\":\"114509af-1bb1-4fa4-b11b-3469f224be0c\",\"subtype\":\"Figure\",\"type\":\"Plot\"},\"ticker\":{\"id\":\"031ca5bc-b21b-48fd-911e-a4302db64dee\",\"type\":\"BasicTicker\"}},\"id\":\"68510e8d-b784-42df-a487-6918d3c4953f\",\"type\":\"Grid\"},{\"attributes\":{\"below\":[{\"id\":\"aacb9dde-3411-4336-a4f4-a7d1d26d10d4\",\"type\":\"LinearAxis\"}],\"left\":[{\"id\":\"075bcd1d-ed6e-4576-9117-7e5fd4d9459c\",\"type\":\"LinearAxis\"}],\"renderers\":[{\"id\":\"aacb9dde-3411-4336-a4f4-a7d1d26d10d4\",\"type\":\"LinearAxis\"},{\"id\":\"68510e8d-b784-42df-a487-6918d3c4953f\",\"type\":\"Grid\"},{\"id\":\"075bcd1d-ed6e-4576-9117-7e5fd4d9459c\",\"type\":\"LinearAxis\"},{\"id\":\"21053126-ac1e-40bc-b2d9-d0488798ab6e\",\"type\":\"Grid\"},{\"id\":\"21fd1396-e4f1-4c54-a217-50bf82dcfe0a\",\"type\":\"BoxAnnotation\"},{\"id\":\"5678c5b6-25cf-4d3e-b4e0-b37b7a06541b\",\"type\":\"Legend\"},{\"id\":\"201112db-c09c-4945-ba96-5a46dab2175c\",\"type\":\"GlyphRenderer\"}],\"title\":{\"id\":\"bf81326f-2ae6-4e10-bc52-2b8d2fbd0a77\",\"type\":\"Title\"},\"toolbar\":{\"id\":\"5c03d499-a058-4555-bbd3-42d78d80a292\",\"type\":\"Toolbar\"},\"x_range\":{\"id\":\"6c8939a1-463b-486a-a756-b09cdec410e7\",\"type\":\"DataRange1d\"},\"x_scale\":{\"id\":\"37ea5ebe-6b6f-4d45-8202-e06115230ad9\",\"type\":\"LinearScale\"},\"y_range\":{\"id\":\"a61e8933-87ec-457d-b918-4c090b678d3e\",\"type\":\"DataRange1d\"},\"y_scale\":{\"id\":\"a3920323-3e6b-4512-8b12-ec5a93093712\",\"type\":\"LinearScale\"}},\"id\":\"114509af-1bb1-4fa4-b11b-3469f224be0c\",\"subtype\":\"Figure\",\"type\":\"Plot\"},{\"attributes\":{\"label\":{\"value\":\"Quartic polynomial\"},\"renderers\":[{\"id\":\"201112db-c09c-4945-ba96-5a46dab2175c\",\"type\":\"GlyphRenderer\"}]},\"id\":\"88e52952-36e0-43c4-8044-d152309f74cd\",\"type\":\"LegendItem\"},{\"attributes\":{\"axis_label\":\"y\",\"formatter\":{\"id\":\"8825e9ca-1916-4742-bf06-6008fe5bcce8\",\"type\":\"BasicTickFormatter\"},\"plot\":{\"id\":\"114509af-1bb1-4fa4-b11b-3469f224be0c\",\"subtype\":\"Figure\",\"type\":\"Plot\"},\"ticker\":{\"id\":\"0862f555-774c-4c5d-a679-1ca9e864491c\",\"type\":\"BasicTicker\"}},\"id\":\"075bcd1d-ed6e-4576-9117-7e5fd4d9459c\",\"type\":\"LinearAxis\"},{\"attributes\":{},\"id\":\"0862f555-774c-4c5d-a679-1ca9e864491c\",\"type\":\"BasicTicker\"},{\"attributes\":{\"dimension\":1,\"plot\":{\"id\":\"114509af-1bb1-4fa4-b11b-3469f224be0c\",\"subtype\":\"Figure\",\"type\":\"Plot\"},\"ticker\":{\"id\":\"0862f555-774c-4c5d-a679-1ca9e864491c\",\"type\":\"BasicTicker\"}},\"id\":\"21053126-ac1e-40bc-b2d9-d0488798ab6e\",\"type\":\"Grid\"}],\"root_ids\":[\"114509af-1bb1-4fa4-b11b-3469f224be0c\"]},\"title\":\"Bokeh Application\",\"version\":\"0.12.13\"}};\n",
       "  var render_items = [{\"docid\":\"3aa244c1-4e5e-4e30-9e04-41827a5e55ac\",\"elementid\":\"e2db4b12-70ec-4437-9130-5d325eef8275\",\"modelid\":\"114509af-1bb1-4fa4-b11b-3469f224be0c\"}];\n",
       "  root.Bokeh.embed.embed_items_notebook(docs_json, render_items);\n",
       "\n",
       "  }\n",
       "  if (root.Bokeh !== undefined) {\n",
       "    embed_document(root);\n",
       "  } else {\n",
       "    var attempts = 0;\n",
       "    var timer = setInterval(function(root) {\n",
       "      if (root.Bokeh !== undefined) {\n",
       "        embed_document(root);\n",
       "        clearInterval(timer);\n",
       "      }\n",
       "      attempts++;\n",
       "      if (attempts > 100) {\n",
       "        console.log(\"Bokeh: ERROR: Unable to run BokehJS code because BokehJS library is missing\")\n",
       "        clearInterval(timer);\n",
       "      }\n",
       "    }, 10, root)\n",
       "  }\n",
       "})(window);"
      ],
      "application/vnd.bokehjs_exec.v0+json": ""
     },
     "metadata": {
      "application/vnd.bokehjs_exec.v0+json": {
       "id": "114509af-1bb1-4fa4-b11b-3469f224be0c"
      }
     },
     "output_type": "display_data"
    }
   ],
   "source": [
    "from bokeh.plotting import figure, output_notebook, show\n",
    "# create a new plot with a title and axis labels\n",
    "\n",
    "output_notebook()\n",
    "p = figure(title=\"Polynomial function (x^4)\", x_axis_label='x', y_axis_label='y')\n",
    "\n",
    "# add a line renderer with legend and line thickness\n",
    "p.line(x, y, legend=\"Quartic polynomial\", line_width=2)\n",
    "\n",
    "# show the results\n",
    "show(p)"
   ]
  },
  {
   "cell_type": "code",
   "execution_count": 9,
   "metadata": {},
   "outputs": [
    {
     "name": "stdout",
     "output_type": "stream",
     "text": [
      "[0.         0.01000001 0.02000016 0.03000081 0.04000256 0.05000625\n",
      " 0.06001296 0.07002401 0.08004096 0.09006561]\n"
     ]
    }
   ],
   "source": [
    "rk4polyout=RK4(.01,t,x,y,z,polyfn)\n",
    "print(outp+x)"
   ]
  },
  {
   "cell_type": "code",
   "execution_count": 10,
   "metadata": {},
   "outputs": [
    {
     "name": "stdout",
     "output_type": "stream",
     "text": [
      "(0.01, array([0.00000e+00, 1.01000e-08, 1.61600e-07, 8.18100e-07, 2.58560e-06,\n",
      "       6.31250e-06, 1.30896e-05, 2.42501e-05, 4.13696e-05, 6.62661e-05]))\n",
      "[        nan -0.99999999 -0.99999992 -0.99999973 -0.99999936 -0.99999875\n",
      " -0.99999784 -0.99999657 -0.99999488 -0.99999271]\n"
     ]
    },
    {
     "name": "stderr",
     "output_type": "stream",
     "text": [
      "/Users/sdorsher/anaconda3/lib/python3.6/site-packages/ipykernel_launcher.py:3: RuntimeWarning: invalid value encountered in true_divide\n",
      "  This is separate from the ipykernel package so we can avoid doing imports until\n"
     ]
    }
   ],
   "source": [
    "print(rk4polyout) \n",
    "#There are multiple items in the y output, which is confusing. trace this over time and plot an evolution and compare to exact solution, which I have analytically written down. steve points out truncation error\n",
    "print(((rk4polyout[1]-x-outp)/x))\n",
    "#order4 polynomial error (comparable in size to polyfn itself, relative error with it is one)"
   ]
  },
  {
   "cell_type": "code",
   "execution_count": 11,
   "metadata": {},
   "outputs": [],
   "source": [
    "def invpolyint(t,x):\n",
    "    p=[]\n",
    "    for ti in t:\n",
    "        xi=-3*t**(-1./3.)\n",
    "        p.append(xi)\n",
    "    return np.array(p)\n",
    "    \n",
    "\n"
   ]
  },
  {
   "cell_type": "code",
   "execution_count": 12,
   "metadata": {},
   "outputs": [],
   "source": [
    "#print(invpolyint(t,x)) #need an entire run to invert this because you need a history of a timeseries accumulated"
   ]
  },
  {
   "cell_type": "code",
   "execution_count": 13,
   "metadata": {},
   "outputs": [],
   "source": [
    "def analyticalpolyint(t,x):\n",
    "    p=[]\n",
    "    for xi in x:\n",
    "        ti = -1./3.*xi**(-3.)\n",
    "        p.append(ti)\n",
    "    return np.array(p)"
   ]
  },
  {
   "cell_type": "code",
   "execution_count": 14,
   "metadata": {},
   "outputs": [
    {
     "name": "stdout",
     "output_type": "stream",
     "text": [
      "[0.   0.01 0.02 0.03 0.04 0.05 0.06 0.07 0.08 0.09]\n"
     ]
    }
   ],
   "source": [
    "print(x)"
   ]
  },
  {
   "cell_type": "code",
   "execution_count": 15,
   "metadata": {},
   "outputs": [],
   "source": [
    "#print(analyticalpolyint(t,x))"
   ]
  },
  {
   "cell_type": "code",
   "execution_count": null,
   "metadata": {},
   "outputs": [],
   "source": []
  },
  {
   "cell_type": "code",
   "execution_count": 16,
   "metadata": {},
   "outputs": [],
   "source": [
    "def invertIMF(luminosity,lsun,masssun):\n",
    "    M=[]\n",
    "    for L in luminosity: \n",
    "        if (L<(.43)**4)*lsun:\n",
    "            x=((L/lsun/0.23)**(1./2.3))*masssun\n",
    "            #print(x,1)\n",
    "            M.append(x)\n",
    "        elif (L<16*lsun):\n",
    "            x=(((L/lsun)**(0.25))*masssun)\n",
    "            #print(L,lsun,masssun,x,2)\n",
    "            M.append(x)\n",
    "        elif (L<(((20**(3.5))*1.4)*masssun)):\n",
    "            x=(((L/lsun/1.4)**(1./3.5))*masssun)\n",
    "            #print(x,3)\n",
    "            M.append(x)\n",
    "        else:\n",
    "            x=((L/lsun/32000.)*masssun)\n",
    "            #print(x,4)\n",
    "            M.append(x)\n",
    "    return np.array(M)\n",
    "    "
   ]
  },
  {
   "cell_type": "code",
   "execution_count": null,
   "metadata": {},
   "outputs": [],
   "source": []
  },
  {
   "cell_type": "code",
   "execution_count": 17,
   "metadata": {},
   "outputs": [],
   "source": [
    "def InitialData():\n",
    "    random.seed(a=9001)\n",
    "    \n",
    "    #initially use an in plane orbit with random starting locations relative to the x axis\n",
    "    phi=np.random.uniform(0,1,2)\n",
    "    orbitangle=np.zeros(2)\n",
    "    #orbitalradius=np.random.uniform(.1,50,2)\n",
    "    orbitalradius=np.ones(2)\n",
    "    #start with circular orbits\n",
    "    #eccentricity=np.random.uniform(0.,.1,2)\n",
    "    eccentricity=np.zeros(2)\n",
    "    #magnitude=np.random.uniform(-20,-30,2) #absolute not apparent maginutde\n",
    "    #magsun=-26.832\n",
    "    masssun=1.989*10**30\n",
    "    lsun=3.828*10**26\n",
    "    massearth=5.9722*10**24\n",
    "    #luminosity=lsun*10**(0.4*(magnitude-magsun))\n",
    "    #masses= invertIMF(luminosity,lsun,masssun) #Initial mass function for Main Sequence\n",
    "    #masses=np.random.uniform(.7,5.) #replace with IMF\n",
    "    masses=np.array([masssun,massearth])\n",
    "\n",
    "    return phi,orbitangle,orbitalradius,eccentricity, masses\n",
    "\n"
   ]
  },
  {
   "cell_type": "code",
   "execution_count": 18,
   "metadata": {},
   "outputs": [],
   "source": [
    "import random\n",
    "initdat=InitialData()"
   ]
  },
  {
   "cell_type": "code",
   "execution_count": 19,
   "metadata": {},
   "outputs": [
    {
     "name": "stdout",
     "output_type": "stream",
     "text": [
      "(array([0.67210558, 0.19821147]), array([0., 0.]), array([1., 1.]), array([0., 0.]), array([1.9890e+30, 5.9722e+24]))\n"
     ]
    }
   ],
   "source": [
    "print(initdat)"
   ]
  },
  {
   "cell_type": "code",
   "execution_count": 20,
   "metadata": {},
   "outputs": [],
   "source": [
    "def getxyuv(initdat):\n",
    "    phi,orbitangle,orbitalradius,eccentricity, masses=initdat\n",
    "    #print(orbitalradius, phi, np.cos(phi), np.sin(phi))\n",
    "    metersperAU=149597870700\n",
    "    Gconstant=6.408*10**-11\n",
    "    x0=orbitalradius*np.cos(phi)*metersperAU\n",
    "    y0=orbitalradius*np.sin(phi)*metersperAU\n",
    "    z0=np.zeros(2)\n",
    "    \n",
    "\n",
    "    \n",
    "    #start at perihelion for both (eliptical, doesn't generalize to three body)\n",
    "    #actually start with circular orbit\n",
    "    ux0=np.zeros(2)*149597870700\n",
    "    #centrepital force balances gravitational force\n",
    "    reducedmass=np.zeros(2)\n",
    "    print(masses)\n",
    "    for i in np.arange(2):\n",
    "        j=(i+1)%2 #reverse masses\n",
    "        reducedmass[i]=masses[i]*masses[j]/np.sum(masses)\n",
    "    print(reducedmass)\n",
    "    rphys=orbitalradius*metersperAU*reducedmass/np.sum(masses)\n",
    "    print(rphys)\n",
    "    F=(Gconstant*reducedmass**2/rphys**2)\n",
    "    print(F)\n",
    "    #centF=reducedmass*v**2/rphys\n",
    "    #centF=accel\n",
    "    v=np.sqrt(Gconstant*reducedmass/rphys)\n",
    "    print(v)\n",
    "    uy0=v #initial data in y only\n",
    "    #evolve in plane only\n",
    "    #there is a units problem that needs to be fixed\n",
    "    #velocity initial conditions are not trivial. \n",
    "    uz0=np.zeros(2)\n",
    "    \n",
    "    #circular orbit   #a=omega^2 * r #v=omega*r #omega=v/r\n",
    "    omega=v/rphys\n",
    "    print(omega)\n",
    "    omegatrue=np.mean(omega) #shouldaccount for numerical effects\n",
    "    print(omegatrue)\n",
    "    a=omegatrue**2*rphys\n",
    "    ax0=a*np.cos(phi)\n",
    "    ay0=a*np.sin(phi)\n",
    "    az0=np.zeros(2)\n",
    "    \n",
    "    \n",
    "    return reducedmass,x0,y0,z0, ux0, uy0,uz0, ax0, ay0,az0"
   ]
  },
  {
   "cell_type": "code",
   "execution_count": 21,
   "metadata": {},
   "outputs": [
    {
     "name": "stdout",
     "output_type": "stream",
     "text": [
      "[1.9890e+30 5.9722e+24]\n",
      "[5.97218207e+24 5.97218207e+24]\n",
      "[449182.02019948 449182.02019948]\n",
      "[1.13277552e+28 1.13277552e+28]\n",
      "[29188.82340899 29188.82340899]\n",
      "[0.06498217 0.06498217]\n",
      "0.06498217225174459\n",
      "(array([5.97218207e+24, 5.97218207e+24]), array([1.17062188e+11, 1.46668795e+11]), array([9.31448713e+10, 2.94582341e+10]), array([0., 0.]), array([0., 0.]), array([29188.82340899, 29188.82340899]), array([0., 0.]), array([1484.2328502 , 1859.61536263]), array([1180.98491128,  373.50129495]), array([0., 0.]))\n",
      "117062188057.17654\n",
      "1.0\n"
     ]
    }
   ],
   "source": [
    "xyuva=getxyuv(initdat)\n",
    "print(xyuva)#In SI units\n",
    "print(xyuva[1][0])\n",
    "print(xyuva[0][0]/xyuva[0][1])"
   ]
  },
  {
   "cell_type": "code",
   "execution_count": 22,
   "metadata": {},
   "outputs": [],
   "source": [
    "def timestep(step,t,dt,reducedmass,xi,yi,zi, vxi, vyi, vzi, axi, ayi, azi):\n",
    "    xii=np.zeros(np.size(xi))\n",
    "    vxii=np.zeros(np.size(vx))\n",
    "    yii=np.zeros(np.size(yi))\n",
    "    vyii=np.zeros(np.size(vy))\n",
    "    zii=np.zeros(np.size(vzi))\n",
    "    vzii=np.zeros(np.size(vzi))\n",
    "    rii=np.zeros(np.size(xi))\n",
    "    axii=axi\n",
    "    ayii=ayi\n",
    "    azii=azi\n",
    "    \n",
    "    for m in np.arange(len(x)):\n",
    "        #m represents choices of mass\n",
    "        i=step\n",
    "        \n",
    "        xii[m] = xi[m] + dt*vxi[m]\n",
    "        #print(xii)\n",
    "        vxii[m] = vxi[m] + dt*axi[m]\n",
    "        #print(vxii)\n",
    "        yii[m]= yi[m] + dt*vyi[m]\n",
    "        vyii[m] = vyi[m] + dt*ayi[m]\n",
    "        zii[m]= zi[m] + dt*vzi[m]\n",
    "        vzii[m] = vzi[m] + dt*azi[m]\n",
    "        rii[m]=np.sqrt(xi[m]**2+yi[m]**2+zi[m]**2)\n",
    "    \n",
    "    \n",
    "    Gconstant=6.408*10**-11\n",
    "    for k in np.arange(len(rii)):\n",
    "        for j in np.arange(len(rii)):\n",
    "            if j!=k:\n",
    "                rreljk=np.abs((xi[j] - xi[k])**2+(yi[j]-yi[k])**2+(zi[j]-zi[k])**2)**(1./2.)\n",
    "                axii[j]+=Gconstant*reducedmass[k]*(xi[j]  - xi[k])/rreljk**3\n",
    "                ayii[j]+=Gconstant*reducedmass[k]*(yi[j]  - yi[k])/rreljk**3\n",
    "                azii[j]+=Gconstant*reducedmass[k]*(zi[j]  - zi[k])/rreljk**3\n",
    "    #print(xii)\n",
    "    return reducedmass, xii,yii,zii,vxii,vyii,vzii,axii,ayii,azii\n",
    "                    "
   ]
  },
  {
   "cell_type": "code",
   "execution_count": 23,
   "metadata": {},
   "outputs": [
    {
     "name": "stdout",
     "output_type": "stream",
     "text": [
      "[1.17062188e+11 1.46668795e+11] [1.02355967e+11 3.86693296e+10] [4.68378262e+08 5.86837444e+08] [3.72711723e+08 1.17894716e+08] [1484.23285016 1859.61536266] [1180.98491135  373.50129488]\n",
      "[1.47922844e+14 1.85334527e+14] [1.17718719e+14 3.72426176e+13] [9.36756524e+08 1.17367489e+09] [7.45394258e+08 2.35760243e+08] [1484.23285013 1859.6153627 ] [1180.98491142  373.50129481]\n",
      "[4.43534407e+14 5.55710243e+14] [3.52942233e+14 1.11641303e+14] [1.40513479e+09 1.76051233e+09] [1.11807679e+09 3.53625771e+08] [1484.23285013 1859.6153627 ] [1180.98491142  373.50129481]\n",
      "[8.86951752e+14 1.11127382e+15] [7.05772899e+14 2.23234726e+14] [1.87351305e+09 2.34734978e+09] [1.49075933e+09 4.71491298e+08] [1484.23285013 1859.6153627 ] [1180.98491142  373.50129481]\n"
     ]
    }
   ],
   "source": [
    "dt=0.01*31556926 #seconds per year\n",
    "numsteps=5\n",
    "mass,x,y,z,vx,vy,vz,ax,ay,az=xyuva\n",
    "for i in np.arange(1,numsteps):\n",
    "    t=0.+i*numsteps*dt\n",
    "    mass, x,y,z,vx,vy,vz,ax,ay,az=timestep(i,t,dt,mass,x,y,z,vx,vy,vz,ax,ay,az)\n",
    "    print(x,y,vx,vy,ax,ay)\n",
    "    #print(ay) #forces should be equal and opposite, but in reduced mass framework accelerations are also equal and opposite\n",
    "    #accelerations should evolve from y to x with time in a sinusoidal manner even in reduced mass framework\n",
    "    #print(ax)\n",
    "#mass, x,y,z,vx,vy,vz,ax,ay,az=timestep(2,0,dt,mass,x,y,z,vx,vy,vz,ax,ay,az)\n",
    "#print(x,y,vx,vy,ax,ay) \n",
    "#mass, x,y,z,vx,vy,vz,ax,ay,az=timestep(3,0,dt,mass,x,y,z,vx,vy,vz,ax,ay,az)\n",
    "#print(x,y,vx,vy,ax,ay) \n",
    "#mass, x,y,z,vx,vy,vz,ax,ay,az=timestep(4,0,dt,mass,x,y,z,vx,vy,vz,ax,ay,az)\n",
    "#print(x,y,vx,vy,ax,ay) "
   ]
  },
  {
   "cell_type": "code",
   "execution_count": 43,
   "metadata": {},
   "outputs": [],
   "source": [
    "class OrbitDiffEq:\n",
    "    def __init__(self,reducedmass,x0,y0,z0, ux0, uy0,uz0, ax0, ay0,az0):\n",
    "        self.reducedmass=reducedmass\n",
    "        self.xi=x0\n",
    "        self.yi=y0\n",
    "        self.zi=z0\n",
    "        self.vxi=ux0\n",
    "        self.vyi=uy0\n",
    "        self.vzi=uz0\n",
    "        self.axi=ax0\n",
    "        self.ayi=ay0\n",
    "        self.azi=az0\n",
    "    def dxidt(self,t):\n",
    "        return self.vxi\n",
    "    def dyidt(self,t):\n",
    "        return self.vyi\n",
    "    def dzidt(self,t):\n",
    "        return self.vzi\n",
    "    def dvxidt(self,t):\n",
    "        #return axi[m]\n",
    "        axii=self.axi\n",
    "        rii=np.sqrt(self.xi**2+self.yi**2+self.zi**2)\n",
    "        Gconstant=6.408*10**-11\n",
    "        for k in np.arange(len(rii)):\n",
    "            for j in np.arange(len(rii)):\n",
    "                if j!=k:\n",
    "                    rreljk=np.abs((self.xi[j] - self.xi[k])**2+(self.yi[j]-self.yi[k])**2+(self.zi[j]-self.zi[k])**2)**(1./2.)\n",
    "                    axii[j]+=Gconstant*self.reducedmass[k]*(self.xi[j]  - self.xi[k])/rreljk**3\n",
    "        self.axi=axii\n",
    "        return axii\n",
    "    def dvyidt(self,t):\n",
    "        #return axi[m]\n",
    "        ayii=self.ayi\n",
    "        rii=np.sqrt(self.xi**2+self.yi**2+self.zi**2)\n",
    "        Gconstant=6.408*10**-11\n",
    "        for k in np.arange(len(rii)):\n",
    "            for j in np.arange(len(rii)):\n",
    "                if j!=k:\n",
    "                    rreljk=np.abs((self.xi[j] - self.xi[k])**2+(self.yi[j]-self.yi[k])**2+(self.zi[j]-self.zi[k])**2)**(1./2.)\n",
    "                    ayii[j]+=Gconstant*self.reducedmass[k]*(self.xi[j]  - self.xi[k])/rreljk**3\n",
    "        self.ayi=ayii\n",
    "        return ayii\n",
    "    def dvzidt(self,t):\n",
    "        #return axi[m]\n",
    "        azii=self.azi\n",
    "        rii=np.sqrt(self.xi**2+self.yi**2+self.zi**2)\n",
    "        Gconstant=6.408*10**-11\n",
    "        for k in np.arange(len(rii)):\n",
    "            for j in np.arange(len(rii)):\n",
    "                if j!=k:\n",
    "                    rreljk=np.abs((self.xi[j] - self.xi[k])**2+(self.yi[j]-self.yi[k])**2+(self.zi[j]-self.zi[k])**2)**(1./2.)\n",
    "                    azii[j]+=Gconstant*self.reducedmass[k]*(self.xi[j]  - self.xi[k])/rreljk**3\n",
    "        self.azi=azii\n",
    "        return azii\n",
    "    def update(self,reducedmass, xii,yii,zii,vxii,vyii,vzii):\n",
    "        self.xi=xii\n",
    "        self.yi=yii\n",
    "        self.zi=zii\n",
    "        self.vxi=vxii\n",
    "        self.vyi=vyii\n",
    "        self.vzi=vzii\n",
    "    def timestepRK4ODE(self,step,t,dt):\n",
    "\n",
    "    \n",
    "        h=dt\n",
    "        #tnew,ynew, intval=RK4(h,t,y,f)\n",
    "        #m represents choices of mass\n",
    "        i=step\n",
    "        \n",
    "        tnew,intvalx=RK4implicit(h,t,self.dxidt)\n",
    "        xii = intvalx\n",
    "        tnew,intvalvx=RK4implicit(h,t,self.dvxidt)\n",
    "        vxii=intvalvx\n",
    "        tnew,intvaly=RK4implicit(h,t,self.dyidt)\n",
    "        yii = intvaly\n",
    "        tnew,intvalvy=RK4implicit(h,t,self.dvyidt)\n",
    "        vyii=intvalvy\n",
    "        tnew,intvalz=RK4implicit(h,t,self.dzidt)\n",
    "        zii = intvalz\n",
    "        tnew,intvalvz=RK4implicit(h,t,self.dvzidt)\n",
    "        vzii=intvalvz\n",
    " \n",
    "        #print(xii)\n",
    "        self.update(reducedmass, xii,yii,zii,vxii,vyii,vzii)\n",
    "        return reducedmass, xii,yii,zii,vxii,vyii,vzii,self.axi,self.ayi,self.azi"
   ]
  },
  {
   "cell_type": "code",
   "execution_count": 44,
   "metadata": {},
   "outputs": [],
   "source": [
    "def RK4implicit(h,t,f): #not a finite difference so no step in y\n",
    "    k1= h*f(t)\n",
    "    k2=h*f(t+h/2.)\n",
    "    k3=h*f(t+h/2.)\n",
    "    k4=h*f(t+h)\n",
    "    return t+h, f(t)+1/6.*(k1+2.*k2+2.*k3+k4)\n",
    "\n",
    "\n"
   ]
  },
  {
   "cell_type": "code",
   "execution_count": 45,
   "metadata": {},
   "outputs": [],
   "source": [
    "reducedmass,x0,y0,z0, ux0, uy0,uz0, ax0, ay0,az0=xyuva\n",
    "ODE= OrbitDiffEq(reducedmass,x0,y0,z0, ux0, uy0,uz0, ax0, ay0,az0)"
   ]
  },
  {
   "cell_type": "code",
   "execution_count": 46,
   "metadata": {},
   "outputs": [
    {
     "name": "stdout",
     "output_type": "stream",
     "text": [
      "[0. 0.] [9.21112459e+09 9.21112459e+09] [4.68379746e+08 5.86839304e+08] [3.72683715e+08 1.17865901e+08] [1484.23284931 1859.61536351] [1180.98491077  373.50129547]\n",
      "[1.47806718e+14 1.85189032e+14] [1.17607897e+14 3.71949730e+13] [nan nan] [nan nan] [nan nan] [nan nan]\n",
      "[nan nan] [nan nan] [nan nan] [nan nan] [nan nan] [nan nan]\n",
      "[nan nan] [nan nan] [nan nan] [nan nan] [nan nan] [nan nan]\n"
     ]
    },
    {
     "name": "stderr",
     "output_type": "stream",
     "text": [
      "/Users/sdorsher/anaconda3/lib/python3.6/site-packages/ipykernel_launcher.py:28: RuntimeWarning: invalid value encountered in double_scalars\n",
      "/Users/sdorsher/anaconda3/lib/python3.6/site-packages/ipykernel_launcher.py:40: RuntimeWarning: invalid value encountered in double_scalars\n",
      "/Users/sdorsher/anaconda3/lib/python3.6/site-packages/ipykernel_launcher.py:52: RuntimeWarning: invalid value encountered in double_scalars\n"
     ]
    }
   ],
   "source": [
    "dt=0.01*31556926 #seconds per year\n",
    "numsteps=5\n",
    "mass,x,y,z,vx,vy,vz,ax,ay,az=xyuva\n",
    "for i in np.arange(1,numsteps):\n",
    "    t=0.+i*numsteps*dt\n",
    "    mass, x,y,z,vx,vy,vz,ax,ay,az=ODE.timestepRK4ODE(i,t,dt)\n",
    "    print(x,y,vx,vy,ax,ay)\n",
    "    #print(ay) #forces should be equal and opposite, but in reduced mass framework accelerations are also equal and opposite\n",
    "    #accelerations should evolve from y to x with time in a sinusoidal manner even in reduced mass framework\n",
    "    #print(ax)\n",
    "#mass, x,y,z,vx,vy,vz,ax,ay,az=timestep(2,0,dt,mass,x,y,z,vx,vy,vz,ax,ay,az)\n",
    "#print(x,y,vx,vy,ax,ay) \n",
    "#mass, x,y,z,vx,vy,vz,ax,ay,az=timestep(3,0,dt,mass,x,y,z,vx,vy,vz,ax,ay,az)\n",
    "#print(x,y,vx,vy,ax,ay) \n",
    "#mass, x,y,z,vx,vy,vz,ax,ay,az=timestep(4,0,dt,mass,x,y,z,vx,vy,vz,ax,ay,az)\n",
    "#print(x,y,vx,vy,ax,ay) \n"
   ]
  },
  {
   "cell_type": "code",
   "execution_count": null,
   "metadata": {},
   "outputs": [],
   "source": []
  },
  {
   "cell_type": "code",
   "execution_count": null,
   "metadata": {},
   "outputs": [],
   "source": []
  }
 ],
 "metadata": {
  "kernelspec": {
   "display_name": "Python 3",
   "language": "python",
   "name": "python3"
  },
  "language_info": {
   "codemirror_mode": {
    "name": "ipython",
    "version": 3
   },
   "file_extension": ".py",
   "mimetype": "text/x-python",
   "name": "python",
   "nbconvert_exporter": "python",
   "pygments_lexer": "ipython3",
   "version": "3.6.4"
  }
 },
 "nbformat": 4,
 "nbformat_minor": 2
}
