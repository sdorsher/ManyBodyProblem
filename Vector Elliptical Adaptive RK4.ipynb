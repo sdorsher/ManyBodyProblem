{
 "cells": [
  {
   "cell_type": "code",
   "execution_count": 1,
   "metadata": {},
   "outputs": [],
   "source": [
    "import math\n",
    "import numpy as np"
   ]
  },
  {
   "cell_type": "code",
   "execution_count": 2,
   "metadata": {},
   "outputs": [],
   "source": [
    "import ellipsefns\n",
    "#getfocus, getsemiminor, theoreticalx, theoreticaly"
   ]
  },
  {
   "cell_type": "code",
   "execution_count": 3,
   "metadata": {},
   "outputs": [],
   "source": [
    "import initdat"
   ]
  },
  {
   "cell_type": "code",
   "execution_count": 4,
   "metadata": {},
   "outputs": [
    {
     "name": "stdout",
     "output_type": "stream",
     "text": [
      "angle 0.0\n",
      "0.5\n",
      "(array([3.14159265, 0.        ]), 0.0, 50, 0.5, array([1., 1.]))\n"
     ]
    }
   ],
   "source": [
    "\n",
    "rad0=50\n",
    "ecc0=0.5\n",
    "theta0= 0. #math.pi/6. #math.pi/6.\n",
    "mass0=1.0\n",
    "initdateqellipse=initdat.InitialDataEqualMassConic(rad0,ecc0,theta0,mass0)\n",
    "print(initdateqellipse)"
   ]
  },
  {
   "cell_type": "markdown",
   "metadata": {},
   "source": []
  },
  {
   "cell_type": "code",
   "execution_count": 5,
   "metadata": {},
   "outputs": [],
   "source": [
    "import getxyuvtwoellipse_apper"
   ]
  },
  {
   "cell_type": "code",
   "execution_count": 6,
   "metadata": {},
   "outputs": [],
   "source": [
    "useperihelion=True"
   ]
  },
  {
   "cell_type": "code",
   "execution_count": 7,
   "metadata": {},
   "outputs": [
    {
     "name": "stdout",
     "output_type": "stream",
     "text": [
      "initdat 50 [3.14159265 0.        ] 0.5 [-1.  1.] [1.2246468e-16 0.0000000e+00]\n",
      "coordsep 50\n",
      "pi\n",
      "zero\n",
      "[-50.  50.]\n",
      "[0. 0.]\n",
      "(array([1., 1.]), array([[-25.        ,   0.        ,   0.        ,  -0.        ,\n",
      "         -0.12247449,   0.        ],\n",
      "       [ 25.        ,   0.        ,   0.        ,  -0.        ,\n",
      "          0.12247449,   0.        ]]), array([[ 0.0004, -0.    ,  0.    ],\n",
      "       [-0.0004, -0.    ,  0.    ]]))\n"
     ]
    }
   ],
   "source": [
    "xyuvaeqellipse=getxyuvtwoellipse_apper.getxyuveqtwoellipses(initdateqellipse,useperihelion)\n",
    "print(xyuvaeqellipse)\n",
    "masses,xvec,avec=xyuvaeqellipse"
   ]
  },
  {
   "cell_type": "code",
   "execution_count": 8,
   "metadata": {},
   "outputs": [],
   "source": [
    "import RK4implicit"
   ]
  },
  {
   "cell_type": "code",
   "execution_count": 9,
   "metadata": {},
   "outputs": [],
   "source": [
    "def RK4implicit(h,t,xvec,f): #not a finite difference so no step in y\n",
    "    k1= h*f(t,xvec)\n",
    "    k2=h*f(t+h/2, xvec+k1/2)\n",
    "    k3=h*f(t+h/2,xvec+k2/2)\n",
    "    k4=h*f(t+h,xvec+k3)\n",
    "    return t+h, xvec+1/6.*(k1+2.*k2+2.*k3+k4)"
   ]
  },
  {
   "cell_type": "code",
   "execution_count": null,
   "metadata": {},
   "outputs": [],
   "source": []
  },
  {
   "cell_type": "code",
   "execution_count": null,
   "metadata": {},
   "outputs": [],
   "source": []
  },
  {
   "cell_type": "code",
   "execution_count": 10,
   "metadata": {},
   "outputs": [],
   "source": [
    "import OrbitDiffEqAdaptive"
   ]
  },
  {
   "cell_type": "code",
   "execution_count": null,
   "metadata": {},
   "outputs": [],
   "source": []
  },
  {
   "cell_type": "code",
   "execution_count": 11,
   "metadata": {},
   "outputs": [
    {
     "name": "stdout",
     "output_type": "stream",
     "text": [
      "[1. 1.] [[-25.           0.           0.          -0.          -0.12247449\n",
      "    0.        ]\n",
      " [ 25.           0.           0.          -0.           0.12247449\n",
      "    0.        ]] 0.0\n",
      "[1. 1.] [[-25.           0.           0.          -0.          -0.12247449\n",
      "    0.        ]\n",
      " [ 25.           0.           0.          -0.           0.12247449\n",
      "    0.        ]] 0.0\n"
     ]
    },
    {
     "data": {
      "text/plain": [
       "<OrbitDiffEqAdaptive.OrbitDiffEqAdaptive at 0x7f662483b580>"
      ]
     },
     "execution_count": 11,
     "metadata": {},
     "output_type": "execute_result"
    }
   ],
   "source": [
    "masses, xvec,avec=xyuvaeqellipse\n",
    "delta=0.001\n",
    "ODEeq= OrbitDiffEqAdaptive.OrbitDiffEqAdaptive(masses,xvec,avec,0.0, delta)\n",
    "ODEeq.print2D()\n",
    "ODEeq.print2D()"
   ]
  },
  {
   "cell_type": "code",
   "execution_count": 12,
   "metadata": {},
   "outputs": [
    {
     "name": "stdout",
     "output_type": "stream",
     "text": [
      "(array([1., 1.]), array([[-25.        ,   0.        ,   0.        ,  -0.        ,\n",
      "         -0.12247449,   0.        ],\n",
      "       [ 25.        ,   0.        ,   0.        ,  -0.        ,\n",
      "          0.12247449,   0.        ]]), array([[ 0.0004, -0.    ,  0.    ],\n",
      "       [-0.0004, -0.    ,  0.    ]]))\n"
     ]
    }
   ],
   "source": [
    "print(xyuvaeqellipse)"
   ]
  },
  {
   "cell_type": "code",
   "execution_count": 13,
   "metadata": {},
   "outputs": [],
   "source": [
    "import timestepAdaptive"
   ]
  },
  {
   "cell_type": "code",
   "execution_count": null,
   "metadata": {},
   "outputs": [],
   "source": []
  },
  {
   "cell_type": "code",
   "execution_count": 81,
   "metadata": {},
   "outputs": [
    {
     "name": "stdout",
     "output_type": "stream",
     "text": [
      "0.01\n",
      "[-5.99999979e-08  1.22474487e-03  0.00000000e+00]\n",
      "[3.59999974e-15 1.49999999e-06 0.00000000e+00]\n",
      "1.4999999979999992e-06\n",
      "0.001224744870575092\n",
      "True 0.007035077828630974 0.01 0.0 0.24494897444161717 7.0350778286309746e-06\n",
      "0.007035077828630974\n",
      "[-2.96953928e-08  8.61617548e-04  0.00000000e+00]\n",
      "[8.81816354e-16 7.42384799e-07 0.00000000e+00]\n",
      "7.423848003335286e-07\n",
      "0.0008616175487613565\n",
      "True 0.004949232005072887 0.007035077828630974 0.0 0.24494897435913845 4.949232005072891e-06\n",
      "0.004949232005072887\n",
      "[-1.46969406e-08  6.06154651e-04  0.00000000e+00]\n",
      "[2.16000062e-16 3.67423461e-07 0.00000000e+00]\n",
      "3.67423461480567e-07\n",
      "0.0006061546514550284\n",
      "True 0.003481823234325749 0.004949232005072887 0.0 0.2449489743183178 3.4818232343257486e-06\n",
      "0.003481823234325749\n",
      "[-7.27385796e-09  4.26434515e-04  0.00000000e+00]\n",
      "[5.29090096e-17 1.81846395e-07 0.00000000e+00]\n",
      "1.8184639549696546e-07\n",
      "0.000426434514898789\n",
      "True 0.0024494897435429707 0.003481823234325749 0.0 0.24494897429811474 2.4494897435429724e-06\n",
      "0.0024494897435429707\n",
      "[-3.6000003e-09  3.0000000e-04  0.0000000e+00]\n",
      "[1.29600021e-17 9.00000000e-08 0.00000000e+00]\n",
      "9.000000004863311e-08\n",
      "0.0003000000000810552\n",
      "True 0.001723235098355839 0.0024494897435429707 0.0 0.2449489742881158 1.723235098355839e-06\n",
      "0.001723235098355839\n",
      "[-1.78172499e-09  2.11052335e-04  0.00000000e+00]\n",
      "[3.17454394e-18 4.45430881e-08 0.00000000e+00]\n",
      "4.454308806131824e-08\n",
      "0.00021105233488715125\n",
      "True 0.0012123093032001362 0.001723235098355839 0.0 0.24494897428316706 1.2123093032001363e-06\n",
      "0.0012123093032001362\n",
      "[-8.81819062e-10  1.48476960e-04  0.00000000e+00]\n",
      "[7.77604858e-19 2.20454077e-08 0.00000000e+00]\n",
      "2.2045407698951984e-08\n",
      "0.00014847696016201297\n",
      "0.001\n",
      "[-1.08492415e-09  1.22474487e-04  0.00000000e+00]\n",
      "[1.17706041e-18 1.50000000e-08 0.00000000e+00]\n",
      "1.4999999999391472e-08\n",
      "0.0001224744871366746\n",
      "0.001\n",
      "[-1.48492418e-09  1.22474487e-04  0.00000000e+00]\n",
      "[2.20499983e-18 1.50000000e-08 0.00000000e+00]\n",
      "1.4999999998877485e-08\n",
      "0.00012247448713457627\n",
      "0.001\n",
      "[-1.88492422e-09  1.22474487e-04  0.00000000e+00]\n",
      "[3.5529393e-18 1.5000000e-08 0.0000000e+00]\n",
      "1.4999999998203528e-08\n",
      "0.00012247448713182483\n",
      "0.001\n",
      "[-2.28492425e-09  1.22474487e-04  0.00000000e+00]\n",
      "[5.22087883e-18 1.50000000e-08 0.00000000e+00]\n",
      "1.4999999997369548e-08\n",
      "0.00012247448712842014\n",
      "0.001\n",
      "[-2.68492428e-09  1.22474487e-04  0.00000000e+00]\n",
      "[7.2088184e-18 1.5000000e-08 0.0000000e+00]\n",
      "1.499999999637562e-08\n",
      "0.00012247448712436243\n",
      "0.001\n",
      "[-3.08492432e-09  1.22474487e-04  0.00000000e+00]\n",
      "[9.51675804e-18 1.50000000e-08 0.00000000e+00]\n",
      "1.4999999995221614e-08\n",
      "0.00012247448711965122\n",
      "0.001\n",
      "[-3.48492435e-09  1.22474487e-04  0.00000000e+00]\n",
      "[1.21446977e-17 1.50000000e-08 0.00000000e+00]\n",
      "1.499999999390766e-08\n",
      "0.00012247448711428702\n",
      "0.001\n",
      "[-3.88492438e-09  1.22474487e-04  0.00000000e+00]\n",
      "[1.50926375e-17 1.50000000e-08 0.00000000e+00]\n",
      "1.4999999992433685e-08\n",
      "0.00012247448710826957\n",
      "0.001\n",
      "[-4.28492442e-09  1.22474487e-04  0.00000000e+00]\n",
      "[1.83605772e-17 1.50000000e-08 0.00000000e+00]\n",
      "1.499999999079971e-08\n",
      "0.00012247448710159888\n",
      "0.001\n",
      "[-4.68492445e-09  1.22474487e-04  0.00000000e+00]\n",
      "[2.19485171e-17 1.50000000e-08 0.00000000e+00]\n",
      "1.4999999989005733e-08\n",
      "0.000122474487094275\n",
      "0.001\n",
      "[-5.08492448e-09  1.22474487e-04  0.00000000e+00]\n",
      "[2.5856457e-17 1.5000000e-08 0.0000000e+00]\n",
      "1.4999999987051813e-08\n",
      "0.00012247448708629815\n",
      "0.001\n",
      "[-5.48492451e-09  1.22474487e-04  0.00000000e+00]\n",
      "[3.00843969e-17 1.50000000e-08 0.00000000e+00]\n",
      "1.4999999984937787e-08\n",
      "0.0001224744870776677\n",
      "0.001\n",
      "[-5.88492455e-09  1.22474487e-04  0.00000000e+00]\n",
      "[3.46323369e-17 1.49999999e-08 0.00000000e+00]\n",
      "1.4999999982663818e-08\n",
      "0.00012247448706838423\n",
      "0.001\n",
      "[-6.28492458e-09  1.22474487e-04  0.00000000e+00]\n",
      "[3.95002770e-17 1.49999999e-08 0.00000000e+00]\n",
      "1.49999999802299e-08\n",
      "0.0001224744870584478\n",
      "0.001\n",
      "[-6.68492461e-09  1.22474487e-04  0.00000000e+00]\n",
      "[4.46882171e-17 1.49999999e-08 0.00000000e+00]\n",
      "1.4999999977635933e-08\n",
      "0.00012247448704785798\n",
      "0.001\n",
      "[-7.08492109e-09  1.22474487e-04  0.00000000e+00]\n",
      "[5.01961069e-17 1.49999999e-08 0.00000000e+00]\n",
      "1.499999997488191e-08\n",
      "0.00012247448703661473\n",
      "0.001\n",
      "[-7.48492113e-09  1.22474487e-04  0.00000000e+00]\n",
      "[5.60240443e-17 1.49999999e-08 0.00000000e+00]\n",
      "1.499999997196789e-08\n",
      "0.0001224744870247183\n",
      "0.001\n",
      "[-7.88492116e-09  1.22474487e-04  0.00000000e+00]\n",
      "[6.21719817e-17 1.49999999e-08 0.00000000e+00]\n",
      "1.4999999968894027e-08\n",
      "0.0001224744870121693\n",
      "0.001\n",
      "[-8.28492119e-09  1.22474487e-04  0.00000000e+00]\n",
      "[6.86399192e-17 1.49999999e-08 0.00000000e+00]\n",
      "1.4999999965660012e-08\n",
      "0.00012247448699896648\n",
      "0.001\n",
      "[-8.68492123e-09  1.22474487e-04  0.00000000e+00]\n",
      "[7.54278567e-17 1.49999999e-08 0.00000000e+00]\n",
      "1.499999996226594e-08\n",
      "0.00012247448698511024\n",
      "0.001\n",
      "[-9.08492126e-09  1.22474487e-04  0.00000000e+00]\n",
      "[8.25357943e-17 1.49999999e-08 0.00000000e+00]\n",
      "1.499999995871203e-08\n",
      "0.00012247448697060148\n",
      "0.001\n",
      "[-9.48492129e-09  1.22474487e-04  0.00000000e+00]\n",
      "[8.99637319e-17 1.49999999e-08 0.00000000e+00]\n",
      "1.4999999954998068e-08\n",
      "0.0001224744869554393\n",
      "0.001\n",
      "[-9.88492133e-09  1.22474487e-04  0.00000000e+00]\n",
      "[9.77116696e-17 1.49999999e-08 0.00000000e+00]\n",
      "1.499999995112405e-08\n",
      "0.00012247448693962368\n",
      "0.001\n",
      "[-1.02849214e-08  1.22474486e-04  0.00000000e+00]\n",
      "[1.05779607e-16 1.49999998e-08 0.00000000e+00]\n",
      "1.4999999947090198e-08\n",
      "0.00012247448692315554\n",
      "0.001\n",
      "[-1.06849214e-08  1.22474486e-04  0.00000000e+00]\n",
      "[1.14167545e-16 1.49999998e-08 0.00000000e+00]\n",
      "1.4999999942896184e-08\n",
      "0.00012247448690603355\n",
      "0.001\n",
      "[-1.10849214e-08  1.22474486e-04  0.00000000e+00]\n",
      "[1.22875483e-16 1.49999998e-08 0.00000000e+00]\n",
      "1.499999993854212e-08\n",
      "0.00012247448688825817\n",
      "0.001\n",
      "[-1.14849215e-08  1.22474486e-04  0.00000000e+00]\n",
      "[1.31903421e-16 1.49999998e-08 0.00000000e+00]\n",
      "1.499999993402822e-08\n",
      "0.00012247448686983023\n",
      "0.001\n",
      "[-1.18849215e-08  1.22474486e-04  0.00000000e+00]\n",
      "[1.41251359e-16 1.49999998e-08 0.00000000e+00]\n",
      "1.4999999929354265e-08\n",
      "0.0001224744868507489\n",
      "0.001\n",
      "[-1.22849215e-08  1.22474486e-04  0.00000000e+00]\n",
      "[1.50919297e-16 1.49999998e-08 0.00000000e+00]\n",
      "1.4999999924520257e-08\n",
      "0.00012247448683101413\n",
      "0.001\n",
      "[-1.26849216e-08  1.22474486e-04  0.00000000e+00]\n",
      "[1.60907235e-16 1.49999998e-08 0.00000000e+00]\n",
      "1.4999999919526303e-08\n",
      "0.00012247448681062642\n",
      "0.001\n",
      "[-1.30849216e-08  1.22474486e-04  0.00000000e+00]\n",
      "[1.71215173e-16 1.49999997e-08 0.00000000e+00]\n",
      "1.4999999914372406e-08\n",
      "0.0001224744867895857\n",
      "0.001\n",
      "[-1.34849216e-08  1.22474486e-04  0.00000000e+00]\n",
      "[1.81843111e-16 1.49999997e-08 0.00000000e+00]\n",
      "1.499999990905824e-08\n",
      "0.00012247448676789072\n",
      "0.001\n",
      "[-1.38849217e-08  1.22474486e-04  0.00000000e+00]\n",
      "[1.92791049e-16 1.49999997e-08 0.00000000e+00]\n",
      "1.4999999903584343e-08\n",
      "0.00012247448674554363\n",
      "0.001\n",
      "[-1.42849217e-08  1.22474486e-04  0.00000000e+00]\n",
      "[2.04058988e-16 1.49999997e-08 0.00000000e+00]\n",
      "1.4999999897950505e-08\n",
      "0.00012247448672254358\n",
      "0.001\n",
      "[-1.46849217e-08  1.22474486e-04  0.00000000e+00]\n",
      "[2.15646926e-16 1.49999997e-08 0.00000000e+00]\n",
      "1.499999989215629e-08\n",
      "0.0001224744866988888\n",
      "0.001\n",
      "[-1.50849218e-08  1.22474486e-04  0.00000000e+00]\n",
      "[2.27554864e-16 1.49999997e-08 0.00000000e+00]\n",
      "1.4999999886202346e-08\n",
      "0.00012247448667458192\n",
      "0.001\n",
      "[-1.54849218e-08  1.22474486e-04  0.00000000e+00]\n",
      "[2.39782803e-16 1.49999996e-08 0.00000000e+00]\n",
      "1.4999999880088453e-08\n",
      "0.00012247448664962207\n",
      "0.001\n",
      "[-1.58849218e-08  1.22474486e-04  0.00000000e+00]\n",
      "[2.52330741e-16 1.49999996e-08 0.00000000e+00]\n",
      "1.499999987381462e-08\n",
      "0.00012247448662400923\n",
      "0.001\n",
      "[-1.62849254e-08  1.22474486e-04  0.00000000e+00]\n",
      "[2.65198796e-16 1.49999996e-08 0.00000000e+00]\n",
      "1.4999999867380527e-08\n",
      "0.00012247448659774218\n",
      "0.001\n",
      "[-1.66849254e-08  1.22474485e-04  0.00000000e+00]\n",
      "[2.78386737e-16 1.49999996e-08 0.00000000e+00]\n",
      "1.499999986078659e-08\n",
      "0.00012247448657082253\n",
      "0.001\n",
      "[-1.70849255e-08  1.22474485e-04  0.00000000e+00]\n",
      "[2.91894678e-16 1.49999996e-08 0.00000000e+00]\n",
      "1.4999999854032703e-08\n",
      "0.0001224744865432499\n",
      "0.001\n",
      "[-1.74849255e-08  1.22474485e-04  0.00000000e+00]\n",
      "[3.05722620e-16 1.49999995e-08 0.00000000e+00]\n",
      "1.4999999847118876e-08\n",
      "0.00012247448651502433\n",
      "0.001\n",
      "[-1.78849255e-08  1.22474485e-04  0.00000000e+00]\n",
      "[3.19870562e-16 1.49999995e-08 0.00000000e+00]\n",
      "1.4999999840044676e-08\n",
      "0.00012247448648614403\n",
      "0.001\n",
      "[-1.82849256e-08  1.22474485e-04  0.00000000e+00]\n",
      "[3.34338503e-16 1.49999995e-08 0.00000000e+00]\n",
      "1.4999999832810743e-08\n",
      "0.0001224744864566116\n",
      "0.001\n",
      "[-1.86849256e-08  1.22474485e-04  0.00000000e+00]\n",
      "[3.49126445e-16 1.49999995e-08 0.00000000e+00]\n",
      "1.4999999825416863e-08\n",
      "0.00012247448642642623\n",
      "0.001\n",
      "[-1.90849256e-08  1.22474485e-04  0.00000000e+00]\n",
      "[3.64234387e-16 1.49999995e-08 0.00000000e+00]\n",
      "1.4999999817863043e-08\n",
      "0.0001224744863955879\n",
      "0.001\n",
      "[-1.94849257e-08  1.22474485e-04  0.00000000e+00]\n",
      "[3.79662328e-16 1.49999994e-08 0.00000000e+00]\n",
      "1.499999981014906e-08\n",
      "0.0001224744863640957\n",
      "0.001\n",
      "[-1.98849257e-08  1.22474485e-04  0.00000000e+00]\n",
      "[3.95410270e-16 1.49999994e-08 0.00000000e+00]\n",
      "1.499999980227492e-08\n",
      "0.00012247448633194964\n",
      "0.001\n",
      "[-2.02849257e-08  1.22474485e-04  0.00000000e+00]\n",
      "[4.11478212e-16 1.49999994e-08 0.00000000e+00]\n",
      "1.4999999794241048e-08\n",
      "0.0001224744862991515\n",
      "0.001\n",
      "[-2.06849258e-08  1.22474485e-04  0.00000000e+00]\n",
      "[4.27866154e-16 1.49999994e-08 0.00000000e+00]\n",
      "1.4999999786047013e-08\n",
      "0.0001224744862656995\n",
      "0.001\n",
      "[-2.10849258e-08  1.22474484e-04  0.00000000e+00]\n",
      "[4.44574096e-16 1.49999993e-08 0.00000000e+00]\n",
      "1.499999977769325e-08\n",
      "0.0001224744862315954\n",
      "0.001\n",
      "[-2.14849258e-08  1.22474484e-04  0.00000000e+00]\n",
      "[4.61602038e-16 1.49999993e-08 0.00000000e+00]\n",
      "1.4999999769179117e-08\n",
      "0.00012247448619683658\n",
      "0.001\n",
      "[-2.18849259e-08  1.22474484e-04  0.00000000e+00]\n",
      "[4.78949980e-16 1.49999993e-08 0.00000000e+00]\n",
      "1.4999999760505248e-08\n",
      "0.00012247448616142567\n",
      "0.001\n",
      "[-2.22849259e-08  1.22474484e-04  0.00000000e+00]\n",
      "[4.96617923e-16 1.49999993e-08 0.00000000e+00]\n",
      "1.499999975167122e-08\n",
      "0.0001224744861253609\n",
      "0.001\n",
      "[-2.26849224e-08  1.22474484e-04  0.00000000e+00]\n",
      "[5.14605704e-16 1.49999992e-08 0.00000000e+00]\n",
      "1.499999974267709e-08\n",
      "0.00012247448608864253\n",
      "0.001\n",
      "[-2.30849224e-08  1.22474484e-04  0.00000000e+00]\n",
      "[5.32913643e-16 1.49999992e-08 0.00000000e+00]\n",
      "1.499999973352317e-08\n",
      "0.0001224744860512718\n",
      "0.001\n",
      "[-2.34849225e-08  1.22474484e-04  0.00000000e+00]\n",
      "[5.51541583e-16 1.49999992e-08 0.00000000e+00]\n",
      "1.499999972420909e-08\n",
      "0.00012247448601324722\n",
      "0.001\n",
      "[-2.38849225e-08  1.22474484e-04  0.00000000e+00]\n",
      "[5.70489522e-16 1.49999991e-08 0.00000000e+00]\n",
      "1.4999999714735277e-08\n",
      "0.00012247448597457056\n",
      "0.001\n",
      "[-2.42849225e-08  1.22474484e-04  0.00000000e+00]\n",
      "[5.89757462e-16 1.49999991e-08 0.00000000e+00]\n",
      "1.4999999705101097e-08\n",
      "0.00012247448593523917\n",
      "0.001\n",
      "[-2.46849226e-08  1.22474483e-04  0.00000000e+00]\n",
      "[6.09345401e-16 1.49999991e-08 0.00000000e+00]\n",
      "1.499999969530718e-08\n",
      "0.00012247448589525566\n",
      "0.001\n",
      "[-2.50849226e-08  1.22474483e-04  0.00000000e+00]\n",
      "[6.29253341e-16 1.49999991e-08 0.00000000e+00]\n",
      "1.499999968535332e-08\n",
      "0.00012247448585461923\n",
      "0.001\n",
      "[-2.54849226e-08  1.22474483e-04  0.00000000e+00]\n",
      "[6.49481281e-16 1.49999990e-08 0.00000000e+00]\n",
      "1.4999999675239086e-08\n",
      "0.000122474485813328\n",
      "0.001\n",
      "[-2.58849226e-08  1.22474483e-04  0.00000000e+00]\n",
      "[6.70029221e-16 1.49999990e-08 0.00000000e+00]\n",
      "1.4999999664965334e-08\n",
      "0.0001224744857713856\n",
      "0.001\n",
      "[-2.62849227e-08  1.22474483e-04  0.00000000e+00]\n",
      "[6.9089716e-16 1.4999999e-08 0.0000000e+00]\n",
      "1.4999999654531212e-08\n",
      "0.00012247448572878848\n",
      "0.001\n",
      "[-2.66849227e-08  1.22474483e-04  0.00000000e+00]\n",
      "[7.12085100e-16 1.49999989e-08 0.00000000e+00]\n",
      "1.499999964393778e-08\n",
      "0.00012247448568554099\n",
      "0.001\n",
      "[-2.70849227e-08  1.22474483e-04  0.00000000e+00]\n",
      "[7.33593040e-16 1.49999989e-08 0.00000000e+00]\n",
      "1.4999999633183345e-08\n",
      "0.00012247448564163617\n",
      "0.001\n",
      "[-2.74849228e-08  1.22474483e-04  0.00000000e+00]\n",
      "[7.55420980e-16 1.49999989e-08 0.00000000e+00]\n",
      "1.4999999622269597e-08\n",
      "0.00012247448559708099\n",
      "0.001\n",
      "[-2.78849228e-08  1.22474482e-04  0.00000000e+00]\n",
      "[7.77568920e-16 1.49999988e-08 0.00000000e+00]\n",
      "1.4999999611195266e-08\n",
      "0.00012247448555187022\n",
      "0.001\n",
      "[-2.82849228e-08  1.22474482e-04  0.00000000e+00]\n",
      "[8.00036861e-16 1.49999988e-08 0.00000000e+00]\n",
      "1.4999999599961204e-08\n",
      "0.00012247448550600735\n",
      "0.001\n",
      "[-2.86849229e-08  1.22474482e-04  0.00000000e+00]\n",
      "[8.22824801e-16 1.49999988e-08 0.00000000e+00]\n",
      "1.499999958856741e-08\n",
      "0.00012247448545949237\n",
      "0.001\n",
      "[-2.90849229e-08  1.22474482e-04  0.00000000e+00]\n",
      "[8.45932741e-16 1.49999987e-08 0.00000000e+00]\n",
      "1.4999999577013877e-08\n",
      "0.00012247448541232526\n",
      "0.001\n",
      "[-2.94849229e-08  1.22474482e-04  0.00000000e+00]\n",
      "[8.69360681e-16 1.49999987e-08 0.00000000e+00]\n",
      "1.4999999565299765e-08\n",
      "0.00012247448536450262\n",
      "0.001\n",
      "[-2.98849230e-08  1.22474482e-04  0.00000000e+00]\n",
      "[8.93108622e-16 1.49999987e-08 0.00000000e+00]\n",
      "1.4999999553425495e-08\n",
      "0.0001224744853160261\n",
      "0.001\n",
      "[-3.02849230e-08  1.22474482e-04  0.00000000e+00]\n",
      "[9.17176562e-16 1.49999986e-08 0.00000000e+00]\n",
      "1.4999999541391916e-08\n",
      "0.00012247448526689922\n",
      "0.001\n",
      "[-3.06849230e-08  1.22474481e-04  0.00000000e+00]\n",
      "[9.41564502e-16 1.49999986e-08 0.00000000e+00]\n",
      "1.4999999529197752e-08\n",
      "0.00012247448521711675\n",
      "0.001\n",
      "[-3.10849231e-08  1.22474481e-04  0.00000000e+00]\n",
      "[9.66272443e-16 1.49999986e-08 0.00000000e+00]\n",
      "1.499999951684386e-08\n",
      "0.0001224744851666822\n",
      "0.001\n",
      "[-3.14849231e-08  1.22474481e-04  0.00000000e+00]\n",
      "[9.91300383e-16 1.49999985e-08 0.00000000e+00]\n",
      "1.4999999504329808e-08\n",
      "0.0001224744851155938\n",
      "0.001\n",
      "[-3.18849231e-08  1.22474481e-04  0.00000000e+00]\n",
      "[1.01664832e-15 1.49999985e-08 0.00000000e+00]\n",
      "1.499999949165602e-08\n",
      "0.00012247448506385328\n",
      "0.001\n",
      "[-3.22849232e-08  1.22474481e-04  0.00000000e+00]\n",
      "[1.04231626e-15 1.49999984e-08 0.00000000e+00]\n",
      "1.4999999478821652e-08\n",
      "0.00012247448501145718\n",
      "0.001\n",
      "[-3.26849197e-08  1.22474481e-04  0.00000000e+00]\n",
      "[1.06830397e-15 1.49999984e-08 0.00000000e+00]\n",
      "1.4999999465827743e-08\n",
      "0.00012247448495840977\n",
      "0.001\n",
      "[-3.30849197e-08  1.22474480e-04  0.00000000e+00]\n",
      "[1.09461191e-15 1.49999984e-08 0.00000000e+00]\n",
      "1.4999999452673904e-08\n",
      "0.00012247448490470945\n",
      "0.001\n",
      "[-3.34849197e-08  1.22474480e-04  0.00000000e+00]\n",
      "[1.12123985e-15 1.49999983e-08 0.00000000e+00]\n",
      "1.4999999439359482e-08\n",
      "0.00012247448485035354\n",
      "0.001\n",
      "[-3.38849198e-08  1.22474480e-04  0.00000000e+00]\n",
      "[1.14818779e-15 1.49999983e-08 0.00000000e+00]\n",
      "1.4999999425885752e-08\n",
      "0.00012247448479534728\n",
      "0.001\n",
      "[-3.42849198e-08  1.22474480e-04  0.00000000e+00]\n",
      "[1.17545573e-15 1.49999982e-08 0.00000000e+00]\n",
      "1.4999999412251867e-08\n",
      "0.00012247448473968719\n",
      "0.001\n",
      "[-3.46849198e-08  1.22474480e-04  0.00000000e+00]\n",
      "[1.20304366e-15 1.49999982e-08 0.00000000e+00]\n",
      "1.4999999398457823e-08\n",
      "0.00012247448468337324\n",
      "0.001\n",
      "[-3.50849199e-08  1.22474480e-04  0.00000000e+00]\n",
      "[1.23095160e-15 1.49999982e-08 0.00000000e+00]\n",
      "1.499999938450404e-08\n",
      "0.00012247448462640714\n",
      "0.001\n",
      "[-3.54849199e-08  1.22474479e-04  0.00000000e+00]\n",
      "[1.25917954e-15 1.49999981e-08 0.00000000e+00]\n",
      "1.4999999370390106e-08\n",
      "0.00012247448456878724\n",
      "0.001\n",
      "[-3.58849199e-08  1.22474479e-04  0.00000000e+00]\n",
      "[1.28772748e-15 1.49999981e-08 0.00000000e+00]\n",
      "1.4999999356116012e-08\n",
      "0.00012247448451051352\n",
      "0.001\n",
      "[-3.62849200e-08  1.22474479e-04  0.00000000e+00]\n",
      "[1.31659542e-15 1.49999980e-08 0.00000000e+00]\n",
      "1.4999999341682184e-08\n",
      "0.00012247448445158764\n",
      "0.001\n",
      "[-3.66849235e-08  1.22474479e-04  0.00000000e+00]\n",
      "[1.34578362e-15 1.49999980e-08 0.00000000e+00]\n",
      "1.4999999327088458e-08\n",
      "0.000122474484392009\n",
      "0.001\n",
      "[-3.70849236e-08  1.22474479e-04  0.00000000e+00]\n",
      "[1.37529156e-15 1.49999979e-08 0.00000000e+00]\n",
      "1.499999931233432e-08\n",
      "0.00012247448433177547\n",
      "0.001\n",
      "[-3.74849236e-08  1.22474479e-04  0.00000000e+00]\n",
      "[1.40511950e-15 1.49999979e-08 0.00000000e+00]\n",
      "1.4999999297420444e-08\n",
      "0.00012247448427088985\n",
      "0.001\n",
      "[-3.78849236e-08  1.22474478e-04  0.00000000e+00]\n",
      "[1.43526744e-15 1.49999978e-08 0.00000000e+00]\n",
      "1.499999928234641e-08\n",
      "0.00012247448420935037\n",
      "0.001\n",
      "[-3.82849237e-08  1.22474478e-04  0.00000000e+00]\n",
      "[1.46573538e-15 1.49999978e-08 0.00000000e+00]\n",
      "1.499999926711265e-08\n",
      "0.0001224744841471588\n",
      "0.001\n",
      "[-3.86849237e-08  1.22474478e-04  0.00000000e+00]\n",
      "[1.49652332e-15 1.49999978e-08 0.00000000e+00]\n",
      "1.49999992517183e-08\n",
      "0.00012247448408431164\n",
      "0.001\n",
      "[-3.90849237e-08  1.22474478e-04  0.00000000e+00]\n",
      "[1.52763126e-15 1.49999977e-08 0.00000000e+00]\n",
      "1.4999999236164642e-08\n",
      "0.00012247448402081406\n",
      "0.001\n",
      "[-3.94849238e-08  1.22474478e-04  0.00000000e+00]\n",
      "[1.55905921e-15 1.49999977e-08 0.00000000e+00]\n",
      "1.499999922045083e-08\n",
      "0.00012247448395666272\n",
      "0.001\n",
      "[-3.98849203e-08  1.22474477e-04  0.00000000e+00]\n",
      "[1.59080686e-15 1.49999976e-08 0.00000000e+00]\n",
      "1.499999920457615e-08\n",
      "0.00012247448389185458\n"
     ]
    }
   ],
   "source": [
    "numsteps=100\n",
    "\n",
    "#numsteps=6000*10\n",
    "dt=.01\n",
    "dtmax=1\n",
    "dtmin = 0.001\n",
    "outputevery=1\n",
    "nptimes, npstar1x, npstar2x, npstar1a, npstar2a,nperr= timestepAdaptive.timestepAdaptive(numsteps,dt,dtmax,dtmin,xyuvaeqellipse,outputevery,delta)"
   ]
  },
  {
   "cell_type": "markdown",
   "metadata": {},
   "source": [
    "Rho is stable and therefore creates and infinite loop because at ap and periastron the orbit is parabolic to first order, so h'=h rho^1/4 and rho=30 h delta/ |x1-x2| = 30 h delta / sqrt(A(4 h^2 - h^2))=10sqrt(3)delta/sqrt(A). Computing A from the stable value of rho, I obtain A=1/200 exactly. I should prove this, for e=0.5 and a=50."
   ]
  },
  {
   "cell_type": "code",
   "execution_count": 15,
   "metadata": {},
   "outputs": [
    {
     "data": {
      "text/plain": [
       "array([[-2.50000000e+01,  0.00000000e+00,  0.00000000e+00,\n",
       "        -0.00000000e+00, -1.22474487e-01,  0.00000000e+00],\n",
       "       [-2.50000000e+01, -1.22474487e-03,  0.00000000e+00,\n",
       "         4.00000000e-06, -1.22474487e-01,  0.00000000e+00],\n",
       "       [-2.49999999e+01, -2.44948974e-03,  0.00000000e+00,\n",
       "         7.99999998e-06, -1.22474487e-01,  0.00000000e+00],\n",
       "       ...,\n",
       "       [-2.30645459e+01, -1.19310338e+01,  0.00000000e+00,\n",
       "         3.75144436e-02, -1.13346089e-01,  0.00000000e+00],\n",
       "       [-2.30641708e+01, -1.19321673e+01,  0.00000000e+00,\n",
       "         3.75177365e-02, -1.13344386e-01,  0.00000000e+00],\n",
       "       [-2.30637956e+01, -1.19333007e+01,  0.00000000e+00,\n",
       "         3.75210292e-02, -1.13342682e-01,  0.00000000e+00]])"
      ]
     },
     "execution_count": 15,
     "metadata": {},
     "output_type": "execute_result"
    }
   ],
   "source": [
    "npstar1x"
   ]
  },
  {
   "cell_type": "code",
   "execution_count": 82,
   "metadata": {},
   "outputs": [
    {
     "data": {
      "image/png": "[encoded data removed]",
      "text/plain": [
       "<Figure size 432x288 with 1 Axes>"
      ]
     },
     "metadata": {
      "needs_background": "light"
     },
     "output_type": "display_data"
    }
   ],
   "source": [
    "import matplotlib.pyplot as plt\n",
    "t = np.linspace(0, 2*math.pi, 100)\n",
    "xax=-200+np.arange(0,400)\n",
    "plt.ylim(-200,200)\n",
    "plt.xlim(-200,200)\n",
    "plt.title(\"Elliptical Orbit, Adaptive RK4, a=\"+str(rad0)+\", e=\"+ str(ecc0)+\", theta=\"+str(round(180*theta0/math.pi))+ \" degrees\")\n",
    "plt.plot(ellipsefns.getxtheory(theta0,ecc0,rad0,t,1),ellipsefns.getytheory(theta0,ecc0,rad0,t,1),'b')\n",
    "plt.plot(ellipsefns.getxtheory(theta0,ecc0,rad0,t,-1),ellipsefns.getytheory(theta0,ecc0,rad0,t,-1),'g')\n",
    "plt.plot(npstar1x[:,0],npstar1x[:,1],'y')\n",
    "plt.plot(npstar2x[:,0],npstar2x[:,1],'r')\n",
    "plt.show()"
   ]
  },
  {
   "cell_type": "markdown",
   "metadata": {},
   "source": [
    "Adaptive RK4 orbits run and superficially look correct. "
   ]
  },
  {
   "cell_type": "code",
   "execution_count": 83,
   "metadata": {},
   "outputs": [],
   "source": [
    "def getfocus(a,ecc):\n",
    "    c=a*ecc\n",
    "    return c"
   ]
  },
  {
   "cell_type": "code",
   "execution_count": 84,
   "metadata": {},
   "outputs": [],
   "source": [
    "def getsemiminor(a,ecc):\n",
    "    c=getfocus(a,ecc)\n",
    "    b=np.sqrt(a**2-c**2)\n",
    "    return b"
   ]
  },
  {
   "cell_type": "code",
   "execution_count": 85,
   "metadata": {},
   "outputs": [],
   "source": [
    "def getxtheory2(theta0,ecc0,rad0,t, sgn):\n",
    "    focus=getfocus(rad0,ecc0)\n",
    "    b=getsemiminor(rad0,ecc0)\n",
    "    xdim=rad0\n",
    "    ydim=b\n",
    "    xtheory=sgn*focus*np.cos(theta0)+xdim*np.cos(t)*np.cos(theta0)-ydim*np.sin(t)*np.sin(theta0)\n",
    "    return xtheory"
   ]
  },
  {
   "cell_type": "code",
   "execution_count": 86,
   "metadata": {},
   "outputs": [],
   "source": [
    "def getytheory2(theta0, ecc0, rad0, t, sgn):\n",
    "    focus = getfocus(rad0,ecc0)\n",
    "    b=getsemiminor(rad0,ecc0)\n",
    "    xdim=rad0\n",
    "    ydim=b\n",
    "    ytheory=sgn*focus*np.sin(theta0)+ydim*np.cos(theta0)*np.sin(t)+xdim*np.sin(theta0)*np.cos(t)\n",
    "    return ytheory\n",
    "\n"
   ]
  },
  {
   "cell_type": "code",
   "execution_count": 87,
   "metadata": {},
   "outputs": [
    {
     "data": {
      "image/png": "[encoded data removed]",
      "text/plain": [
       "<Figure size 432x288 with 1 Axes>"
      ]
     },
     "metadata": {
      "needs_background": "light"
     },
     "output_type": "display_data"
    }
   ],
   "source": [
    "import matplotlib.pyplot as plt\n",
    "t = np.linspace(0, 2*math.pi, 100)\n",
    "xax=np.arange(0,100*len(npstar2x[:,1]))\n",
    "xax=xax-len(xax)/2\n",
    "\n",
    "plt.ylim(-200,200)\n",
    "plt.xlim(-200,200)\n",
    "#plt.ylim(-1,1)\n",
    "#plt.xlim(74.999,75)\n",
    "plt.title(\"Elliptical Orbit, RK4, a=\"+str(rad0)+\", e=\"+ str(ecc0)+\", theta=\"+str(round(180*theta0/math.pi))+ \" degrees\")\n",
    "plt.plot(ellipsefns.getxtheory(theta0,ecc0,rad0,t,1),ellipsefns.getytheory(theta0,ecc0,rad0,t,1),'b')\n",
    "plt.plot(ellipsefns.getxtheory(theta0,ecc0,rad0,t,-1),ellipsefns.getytheory(theta0,ecc0,rad0,t,-1),'g')\n",
    "plt.plot(npstar1x[:,0],npstar1x[:,1],'y')\n",
    "plt.plot(npstar2x[:,0],npstar2x[:,1],'r')\n",
    "plt.plot(xax, np.tan(theta0)*xax,'c')\n",
    "plt.show()"
   ]
  },
  {
   "cell_type": "markdown",
   "metadata": {},
   "source": [
    "With adaptive step size I get inspirals!"
   ]
  },
  {
   "cell_type": "code",
   "execution_count": 88,
   "metadata": {},
   "outputs": [
    {
     "data": {
      "image/png": "[encoded data removed]",
      "text/plain": [
       "<Figure size 432x288 with 1 Axes>"
      ]
     },
     "metadata": {
      "needs_background": "light"
     },
     "output_type": "display_data"
    }
   ],
   "source": [
    "import matplotlib.pyplot as plt\n",
    "t = np.linspace(0, 2*math.pi, 100)\n",
    "xax=np.arange(0,100*len(npstar2x[:,1]))\n",
    "xax=xax-len(xax)/2\n",
    "\n",
    "#plt.ylim(-200,200)\n",
    "#plt.xlim(-200,200)\n",
    "plt.ylim(-1,1)\n",
    "plt.xlim(74.999,75)\n",
    "plt.title(\"Elliptical Orbit, RK4, a=\"+str(rad0)+\", e=\"+ str(ecc0)+\", theta=\"+str(round(180*theta0/math.pi))+ \" degrees\")\n",
    "#plt.plot(ellipsefns.getxtheory(theta0,ecc0,rad0,t,1),ellipsefns.getytheory(theta0,ecc0,rad0,t,1),'b')\n",
    "#plt.plot(ellipsefns.getxtheory(theta0,ecc0,rad0,t,-1),ellipsefns.getytheory(theta0,ecc0,rad0,t,-1),'g')\n",
    "plt.plot(npstar1x[:,0],npstar1x[:,1],'*y')\n",
    "plt.plot(npstar2x[:,0],npstar2x[:,1],'*r')\n",
    "plt.plot(xax, np.tan(theta0)*xax,'c')\n",
    "plt.show()"
   ]
  },
  {
   "cell_type": "code",
   "execution_count": 89,
   "metadata": {},
   "outputs": [
    {
     "data": {
      "image/png": "[encoded data removed]",
      "text/plain": [
       "<Figure size 432x288 with 1 Axes>"
      ]
     },
     "metadata": {
      "needs_background": "light"
     },
     "output_type": "display_data"
    }
   ],
   "source": [
    "import matplotlib.pyplot as plt\n",
    "t = np.linspace(0, 2*math.pi, 100)\n",
    "xax=np.arange(0,100*len(npstar2x[:,1]))\n",
    "xax=xax-len(xax)/2\n",
    "\n",
    "#plt.ylim(-200,200)\n",
    "#plt.xlim(-200,200)\n",
    "plt.ylim(-10,10)\n",
    "plt.xlim(-25,-20)\n",
    "plt.title(\"Elliptical Orbit, RK4, a=\"+str(rad0)+\", e=\"+ str(ecc0)+\", theta=\"+str(round(180*theta0/math.pi))+ \" degrees\")\n",
    "plt.plot(ellipsefns.getxtheory(theta0,ecc0,rad0,t,1),ellipsefns.getytheory(theta0,ecc0,rad0,t,1),'b')\n",
    "plt.plot(ellipsefns.getxtheory(theta0,ecc0,rad0,t,-1),ellipsefns.getytheory(theta0,ecc0,rad0,t,-1),'g')\n",
    "plt.plot(npstar1x[:,0],npstar1x[:,1],'*y')\n",
    "plt.plot(npstar2x[:,0],npstar2x[:,1],'*r')\n",
    "plt.plot(xax, np.tan(theta0)*xax,'c')\n",
    "plt.show()"
   ]
  },
  {
   "cell_type": "code",
   "execution_count": 90,
   "metadata": {},
   "outputs": [
    {
     "data": {
      "text/plain": [
       "array([0.00000000e+00, 1.89003838e-06, 4.08248290e-06, 4.08248290e-06,\n",
       "       4.08248290e-06, 4.08248290e-06, 4.08248290e-06, 4.08248290e-06,\n",
       "       4.08248290e-06, 4.08248290e-06, 4.08248290e-06, 4.08248290e-06,\n",
       "       4.08248290e-06, 4.08248290e-06, 4.08248290e-06, 4.08248290e-06,\n",
       "       4.08248290e-06, 4.08248290e-06, 4.08248290e-06, 4.08248290e-06,\n",
       "       4.08248290e-06, 4.08248290e-06, 4.08248290e-06, 4.08248290e-06,\n",
       "       4.08248290e-06, 4.08248290e-06, 4.08248290e-06, 4.08248290e-06,\n",
       "       4.08248290e-06, 4.08248290e-06, 4.08248289e-06, 4.08248289e-06,\n",
       "       4.08248289e-06, 4.08248289e-06, 4.08248289e-06, 4.08248289e-06,\n",
       "       4.08248289e-06, 4.08248289e-06, 4.08248289e-06, 4.08248289e-06,\n",
       "       4.08248289e-06, 4.08248289e-06, 4.08248288e-06, 4.08248288e-06,\n",
       "       4.08248288e-06, 4.08248288e-06, 4.08248288e-06, 4.08248288e-06,\n",
       "       4.08248288e-06, 4.08248288e-06, 4.08248288e-06, 4.08248288e-06,\n",
       "       4.08248287e-06, 4.08248287e-06, 4.08248287e-06, 4.08248287e-06,\n",
       "       4.08248287e-06, 4.08248287e-06, 4.08248287e-06, 4.08248287e-06,\n",
       "       4.08248286e-06, 4.08248286e-06, 4.08248286e-06, 4.08248286e-06,\n",
       "       4.08248286e-06, 4.08248286e-06, 4.08248286e-06, 4.08248285e-06,\n",
       "       4.08248285e-06, 4.08248285e-06, 4.08248285e-06, 4.08248285e-06,\n",
       "       4.08248285e-06, 4.08248285e-06, 4.08248284e-06, 4.08248284e-06,\n",
       "       4.08248284e-06, 4.08248284e-06, 4.08248284e-06, 4.08248284e-06,\n",
       "       4.08248283e-06, 4.08248283e-06, 4.08248283e-06, 4.08248283e-06,\n",
       "       4.08248283e-06, 4.08248282e-06, 4.08248282e-06, 4.08248282e-06,\n",
       "       4.08248282e-06, 4.08248282e-06, 4.08248282e-06, 4.08248281e-06,\n",
       "       4.08248281e-06, 4.08248281e-06, 4.08248281e-06, 4.08248280e-06,\n",
       "       4.08248280e-06, 4.08248280e-06, 4.08248280e-06, 4.08248280e-06])"
      ]
     },
     "execution_count": 90,
     "metadata": {},
     "output_type": "execute_result"
    }
   ],
   "source": [
    "nperr"
   ]
  },
  {
   "cell_type": "code",
   "execution_count": 102,
   "metadata": {},
   "outputs": [
    {
     "data": {
      "image/png": "[encoded data removed]",
      "text/plain": [
       "<Figure size 432x288 with 1 Axes>"
      ]
     },
     "metadata": {
      "needs_background": "light"
     },
     "output_type": "display_data"
    }
   ],
   "source": [
    "import matplotlib.pyplot as plt\n",
    "t = np.linspace(0, 2*math.pi, 100)\n",
    "xax=np.arange(0,100*len(npstar2x[:,1]))\n",
    "xax=xax-len(xax)/2\n",
    "\n",
    "plt.xlabel(\"timestep\")\n",
    "plt.ylabel(\"Rel err: 1/30 *|x2-x1|*(h'/h)^5\")\n",
    "plt.title(\"Relative error, RK4\")\n",
    "relerrplt,=plt.plot(np.arange(2,len(nperr)),nperr[2:],'b',label=\" dtmin = \"+ str(dtmin)+\" delta = \"+str(delta))\n",
    "plt.legend(handles=[relerrplt])\n",
    "plt.show()"
   ]
  },
  {
   "cell_type": "markdown",
   "metadata": {},
   "source": [
    "# Conservation of angular momentum"
   ]
  },
  {
   "cell_type": "code",
   "execution_count": 26,
   "metadata": {},
   "outputs": [],
   "source": [
    "import Lstability"
   ]
  },
  {
   "cell_type": "code",
   "execution_count": 27,
   "metadata": {},
   "outputs": [
    {
     "data": {
      "text/plain": [
       "(1.1748153215610825e-14, -2.041241452319324)"
      ]
     },
     "execution_count": 27,
     "metadata": {},
     "output_type": "execute_result"
    }
   ],
   "source": [
    "deltaL, Lavg=Lstability.Lstability(npstar1x,npstar2x,mass0)\n",
    "deltaL, Lavg"
   ]
  },
  {
   "cell_type": "code",
   "execution_count": 28,
   "metadata": {},
   "outputs": [
    {
     "data": {
      "text/plain": [
       "-2.3980817331903378e-14"
      ]
     },
     "execution_count": 28,
     "metadata": {},
     "output_type": "execute_result"
    }
   ],
   "source": [
    "deltaL*Lavg"
   ]
  },
  {
   "cell_type": "markdown",
   "metadata": {},
   "source": [
    "Orbit conserves angular momentum to a tolerance of deltaL. "
   ]
  },
  {
   "cell_type": "markdown",
   "metadata": {},
   "source": [
    "# Conservation of Energy"
   ]
  },
  {
   "cell_type": "code",
   "execution_count": 29,
   "metadata": {},
   "outputs": [],
   "source": [
    "import Estability"
   ]
  },
  {
   "cell_type": "code",
   "execution_count": 30,
   "metadata": {},
   "outputs": [
    {
     "data": {
      "text/plain": [
       "(1.5439093511667512e-14, -0.004999999999999885)"
      ]
     },
     "execution_count": 30,
     "metadata": {},
     "output_type": "execute_result"
    }
   ],
   "source": [
    "deltaE, Eavg = Estability.Estability(npstar1x, npstar2x, mass0)\n",
    "deltaE, Eavg"
   ]
  },
  {
   "cell_type": "code",
   "execution_count": 31,
   "metadata": {},
   "outputs": [
    {
     "data": {
      "text/plain": [
       "-7.719546755833579e-17"
      ]
     },
     "execution_count": 31,
     "metadata": {},
     "output_type": "execute_result"
    }
   ],
   "source": [
    "deltaE*Eavg"
   ]
  },
  {
   "cell_type": "markdown",
   "metadata": {},
   "source": [
    "Orbit conserves energy to a relative error of deltaE. "
   ]
  },
  {
   "cell_type": "markdown",
   "metadata": {},
   "source": [
    "# Symmetry of the two stars orbits with respect to eachother "
   ]
  },
  {
   "cell_type": "code",
   "execution_count": 32,
   "metadata": {},
   "outputs": [],
   "source": [
    "import orbitSymmetricTol"
   ]
  },
  {
   "cell_type": "code",
   "execution_count": 33,
   "metadata": {},
   "outputs": [],
   "source": [
    "allcancelsx, allcancelsa=orbitSymmetricTol.howSymmetric(npstar1x,npstar2x,npstar1a,npstar2a)"
   ]
  },
  {
   "cell_type": "code",
   "execution_count": 34,
   "metadata": {},
   "outputs": [
    {
     "data": {
      "text/plain": [
       "1e-14"
      ]
     },
     "execution_count": 34,
     "metadata": {},
     "output_type": "execute_result"
    }
   ],
   "source": [
    "allcancelsx"
   ]
  },
  {
   "cell_type": "markdown",
   "metadata": {},
   "source": [
    "Orbit is symmetric with respect to x and v up to a tolerance of allcancelsx"
   ]
  },
  {
   "cell_type": "code",
   "execution_count": 35,
   "metadata": {},
   "outputs": [
    {
     "data": {
      "text/plain": [
       "1e-14"
      ]
     },
     "execution_count": 35,
     "metadata": {},
     "output_type": "execute_result"
    }
   ],
   "source": [
    "allcancelsa"
   ]
  },
  {
   "cell_type": "code",
   "execution_count": 36,
   "metadata": {},
   "outputs": [
    {
     "data": {
      "text/plain": [
       "array([[-2.50000000e+01,  0.00000000e+00,  0.00000000e+00,\n",
       "        -0.00000000e+00, -1.22474487e-01,  0.00000000e+00],\n",
       "       [-2.50000000e+01, -1.22474487e-03,  0.00000000e+00,\n",
       "         4.00000000e-06, -1.22474487e-01,  0.00000000e+00],\n",
       "       [-2.49999999e+01, -2.44948974e-03,  0.00000000e+00,\n",
       "         7.99999998e-06, -1.22474487e-01,  0.00000000e+00],\n",
       "       ...,\n",
       "       [-2.30645459e+01, -1.19310338e+01,  0.00000000e+00,\n",
       "         3.75144436e-02, -1.13346089e-01,  0.00000000e+00],\n",
       "       [-2.30641708e+01, -1.19321673e+01,  0.00000000e+00,\n",
       "         3.75177365e-02, -1.13344386e-01,  0.00000000e+00],\n",
       "       [-2.30637956e+01, -1.19333007e+01,  0.00000000e+00,\n",
       "         3.75210292e-02, -1.13342682e-01,  0.00000000e+00]])"
      ]
     },
     "execution_count": 36,
     "metadata": {},
     "output_type": "execute_result"
    }
   ],
   "source": [
    "npstar1x"
   ]
  },
  {
   "cell_type": "markdown",
   "metadata": {},
   "source": [
    "Orbit is symmetric with respect to a to up to or better than a tolerance of allcancelsa"
   ]
  },
  {
   "cell_type": "markdown",
   "metadata": {},
   "source": [
    "# Testing for precision in perihelion and aphelion recovery from knowledge of the initial angle"
   ]
  },
  {
   "cell_type": "code",
   "execution_count": 37,
   "metadata": {},
   "outputs": [],
   "source": [
    "import aeTest"
   ]
  },
  {
   "cell_type": "code",
   "execution_count": 38,
   "metadata": {},
   "outputs": [
    {
     "data": {
      "text/plain": [
       "[<matplotlib.lines.Line2D at 0x7f661f7cd100>]"
      ]
     },
     "execution_count": 38,
     "metadata": {},
     "output_type": "execute_result"
    },
    {
     "data": {
      "image/png": "[encoded data removed]",
      "text/plain": [
       "<Figure size 432x288 with 1 Axes>"
      ]
     },
     "metadata": {
      "needs_background": "light"
     },
     "output_type": "display_data"
    }
   ],
   "source": [
    "from matplotlib import pyplot as plt\n",
    "plt.plot( np.abs(npstar1x[:,1]))"
   ]
  },
  {
   "cell_type": "code",
   "execution_count": 39,
   "metadata": {},
   "outputs": [],
   "source": [
    "def findPerapHelionThetaIsZero(npstar1x,ecc0,rad0,useperihelion):\n",
    "    maxindex=len(npstar1x[:,1])\n",
    "    apindex=np.argmin(np.abs(npstar1x[10:int(maxindex/2),1]))+1\n",
    "    print(apindex)\n",
    "    delta=math.floor(.2*apindex)\n",
    "    print(delta)\n",
    "    perindex=np.argmin(np.abs(npstar1x[delta:apindex-delta,1]))+delta\n",
    "    print(perindex)\n",
    "    print(apindex/perindex)\n",
    "    if np.abs(apindex/perindex-2.)>0.05: \n",
    "        perindex=np.argmin(np.abs(npstar1x[apindex+delta:2*apindex+delta,1]))+delta+apindex\n",
    "        print(perindex)\n",
    "        apindex,perindex=perindex,apindex\n",
    "        print(apindex,perindex)\n",
    "        print(apindex/perindex)\n",
    "    #apindex3=np.argmin(np.abs(npstar1x[100:apindex2-100,1]))+100\n",
    "    #apindex4=np.argmin(np.abs(npstar1x[100:apindex3-100,1]))+100\n",
    "    #perindex=np.argmin(np.abs(npstar1x[100:apindex2-100,1]))+100\n",
    "    if useperihelion:\n",
    "        apindex,perindex=perindex,apindex\n",
    "    coordap=[npstar1x[apindex,0],npstar1x[apindex,1]]\n",
    "    coordper=[npstar1x[perindex,0],npstar1x[perindex,1]]\n",
    "    ra=np.sqrt(np.sum(np.array(coordap)**2))\n",
    "    rp=np.sqrt(np.sum(np.array(coordper)**2))\n",
    "    e=(ra-rp)/(ra+rp)\n",
    "    a=1./2.*(ra+rp)\n",
    "    deltae=np.abs(e-ecc0)/ecc0\n",
    "    deltaa=np.abs(a-rad0)/rad0\n",
    "    return apindex,perindex,coordap,coordper,ra,rp,e,a,deltae,deltaa"
   ]
  },
  {
   "cell_type": "code",
   "execution_count": 40,
   "metadata": {},
   "outputs": [
    {
     "name": "stdout",
     "output_type": "stream",
     "text": [
      "1\n",
      "0\n",
      "0\n",
      "inf\n",
      "1\n",
      "1 1\n",
      "1.0\n"
     ]
    },
    {
     "name": "stderr",
     "output_type": "stream",
     "text": [
      "<ipython-input-39-b048c29b70bf>:9: RuntimeWarning: divide by zero encountered in long_scalars\n",
      "  print(apindex/perindex)\n",
      "<ipython-input-39-b048c29b70bf>:10: RuntimeWarning: divide by zero encountered in long_scalars\n",
      "  if np.abs(apindex/perindex-2.)>0.05:\n"
     ]
    }
   ],
   "source": [
    "if theta0==0:\n",
    "    apindex,perindex,coordap,coordper,ra,rp,e,a,deltae,deltaa=findPerapHelionThetaIsZero(npstar1x,ecc0,rad0,useperihelion)"
   ]
  },
  {
   "cell_type": "code",
   "execution_count": null,
   "metadata": {},
   "outputs": [],
   "source": []
  },
  {
   "cell_type": "code",
   "execution_count": 41,
   "metadata": {},
   "outputs": [],
   "source": [
    "if theta0!=0:\n",
    "    perindex,apindex,coordper,coordap,rp,ra,e,a,deltae,deltaa=aeTest.findPerApHelion(npstar1x,theta0,ecc0,rad0)"
   ]
  },
  {
   "cell_type": "markdown",
   "metadata": {},
   "source": [
    "Recovered perihelion radius given by r_per, recovered aphelion radius given by r_ap, a is semimajor axis computed from the orbit, e is eccentricty computed from the orbit, delta a is relative error on the semimajor axis, and delta e is eccenticity relative error. "
   ]
  },
  {
   "cell_type": "code",
   "execution_count": 42,
   "metadata": {},
   "outputs": [
    {
     "data": {
      "text/plain": [
       "(1,\n",
       " 1,\n",
       " [-24.99999998, -0.0012247448710649902],\n",
       " [-24.99999998, -0.0012247448710649902],\n",
       " 25.000000009999997,\n",
       " 25.000000009999997,\n",
       " 0.0,\n",
       " 25.000000009999997,\n",
       " 1.0,\n",
       " 0.49999999980000004)"
      ]
     },
     "execution_count": 42,
     "metadata": {},
     "output_type": "execute_result"
    }
   ],
   "source": [
    "apindex,perindex,coordap,coordper,ra,rp,e,a,deltae,deltaa"
   ]
  },
  {
   "cell_type": "code",
   "execution_count": 43,
   "metadata": {},
   "outputs": [
    {
     "data": {
      "text/plain": [
       "[<matplotlib.lines.Line2D at 0x7f661f7af580>]"
      ]
     },
     "execution_count": 43,
     "metadata": {},
     "output_type": "execute_result"
    },
    {
     "data": {
      "image/png": "[encoded data removed]",
      "text/plain": [
       "<Figure size 432x288 with 1 Axes>"
      ]
     },
     "metadata": {
      "needs_background": "light"
     },
     "output_type": "display_data"
    }
   ],
   "source": [
    "plt.plot(nptimes[:perindex],npstar1x[:perindex,1])"
   ]
  },
  {
   "cell_type": "markdown",
   "metadata": {},
   "source": [
    "# Testing for symmetry within a given star's orbit about the line created by the initial angle with the origin that should pass thorugh the center of the ellipse, both focuses, and perihelion and aphelion"
   ]
  },
  {
   "cell_type": "code",
   "execution_count": 44,
   "metadata": {},
   "outputs": [],
   "source": [
    "pivotindex=perindex\n",
    "endindex = apindex\n",
    "if useperihelion:\n",
    "    pivotindex=apindex\n",
    "    endindex=perindex"
   ]
  },
  {
   "cell_type": "code",
   "execution_count": 45,
   "metadata": {},
   "outputs": [],
   "source": [
    "tosum1=list(range(0,endindex+1))\n",
    "tosum2=list(range(endindex+1,pivotindex+1))"
   ]
  },
  {
   "cell_type": "code",
   "execution_count": 46,
   "metadata": {},
   "outputs": [
    {
     "data": {
      "text/plain": [
       "2"
      ]
     },
     "execution_count": 46,
     "metadata": {},
     "output_type": "execute_result"
    }
   ],
   "source": [
    "len(tosum1)"
   ]
  },
  {
   "cell_type": "code",
   "execution_count": 47,
   "metadata": {},
   "outputs": [
    {
     "data": {
      "text/plain": [
       "0"
      ]
     },
     "execution_count": 47,
     "metadata": {},
     "output_type": "execute_result"
    }
   ],
   "source": [
    "len(tosum2)"
   ]
  },
  {
   "cell_type": "code",
   "execution_count": 48,
   "metadata": {},
   "outputs": [
    {
     "data": {
      "text/plain": [
       "(1, 1)"
      ]
     },
     "execution_count": 48,
     "metadata": {},
     "output_type": "execute_result"
    }
   ],
   "source": [
    "apindex,perindex"
   ]
  },
  {
   "cell_type": "code",
   "execution_count": 49,
   "metadata": {},
   "outputs": [],
   "source": [
    "revtosum2=tosum2.reverse()"
   ]
  },
  {
   "cell_type": "code",
   "execution_count": 50,
   "metadata": {},
   "outputs": [],
   "source": [
    "xsum=np.zeros(endindex+1)\n",
    "ysum=np.zeros(endindex+1)\n",
    "for index in np.arange(0,pivotindex):\n",
    "    xsum[index]=npstar1x[index,0]+npstar1x[pivotindex+1-index,0]\n",
    "    ysum[index]=npstar1x[index,1]+npstar1x[pivotindex+1-index,1]"
   ]
  },
  {
   "cell_type": "code",
   "execution_count": 51,
   "metadata": {},
   "outputs": [],
   "source": [
    "xsum=xsum/2"
   ]
  },
  {
   "cell_type": "code",
   "execution_count": 52,
   "metadata": {},
   "outputs": [],
   "source": [
    "ysum=ysum/2"
   ]
  },
  {
   "cell_type": "code",
   "execution_count": 53,
   "metadata": {},
   "outputs": [
    {
     "data": {
      "image/png": "[encoded data removed]",
      "text/plain": [
       "<Figure size 432x288 with 1 Axes>"
      ]
     },
     "metadata": {
      "needs_background": "light"
     },
     "output_type": "display_data"
    }
   ],
   "source": [
    "import matplotlib.pyplot as plt\n",
    "b0=np.tan(theta0)\n",
    "plt.plot(xsum,ysum,label=\"Sum of data\")\n",
    "plt.plot(xsum,b0*xsum, color=\"green\", label=\"Line defining perhelion\")\n",
    "plt.xlabel(\"Symmetric X sum\")\n",
    "plt.ylabel(\"Symmetric Y sum\")\n",
    "plt.legend()\n",
    "plt.title(\"Sum of data reflection about perhelion\")\n",
    "plt.show()"
   ]
  },
  {
   "cell_type": "code",
   "execution_count": 54,
   "metadata": {},
   "outputs": [
    {
     "data": {
      "image/png": "[encoded data removed]",
      "text/plain": [
       "<Figure size 432x288 with 1 Axes>"
      ]
     },
     "metadata": {
      "needs_background": "light"
     },
     "output_type": "display_data"
    }
   ],
   "source": [
    "plt.plot(xsum,ysum-np.tan(theta0)*xsum, color=\"green\", label=\"Residual\")\n",
    "plt.xlabel(\"Symmetric X sum\")\n",
    "plt.ylabel(\"Ysum-tan(theta)*Xsum\")\n",
    "plt.title(\"Residuals of data reflected about perihelion\")\n",
    "plt.legend()\n",
    "plt.show()"
   ]
  },
  {
   "cell_type": "markdown",
   "metadata": {},
   "source": [
    "The residual improves substantially from .2 at perihelion with a timestep of dt=1 to .125 at perihelion with a timestep of dt=.3 to .02 at perihelion with a timestep of dt=.1. I think timestep makes all the difference between adjacent pairs of points in resolving perihelion. I think it is difficult to tell how symmetric the orbit is by this method when the limitation is in the resolution of the orbit with timestep. Interpolation would be necessary to get a good picture of orbital shape. "
   ]
  },
  {
   "cell_type": "markdown",
   "metadata": {},
   "source": [
    "In the interest of accomplishing further orbital evolutions, I think I'm going to let the precice numerical characterization of orbital shape question go (the predicted and actual orbits overlap quite nicely) and move on to evolving parabolic and hyperbolic orbits. "
   ]
  },
  {
   "cell_type": "markdown",
   "metadata": {},
   "source": [
    "# Fit t as a function of the eccentric anomoly (angle from the center of the elipse)"
   ]
  },
  {
   "cell_type": "code",
   "execution_count": 55,
   "metadata": {},
   "outputs": [],
   "source": [
    "def findEccentricAnomoly(coordap, coordper):\n",
    "    Ecenter=np.array(coordap)+np.array(coordper)\n",
    "    Ecenter/=2.\n",
    "    return Ecenter\n"
   ]
  },
  {
   "cell_type": "code",
   "execution_count": 56,
   "metadata": {},
   "outputs": [],
   "source": [
    "ellipsecenter=findEccentricAnomoly(coordap,coordper)"
   ]
  },
  {
   "cell_type": "code",
   "execution_count": 57,
   "metadata": {},
   "outputs": [
    {
     "data": {
      "text/plain": [
       "array([-2.50000000e+01, -1.22474487e-03])"
      ]
     },
     "execution_count": 57,
     "metadata": {},
     "output_type": "execute_result"
    }
   ],
   "source": [
    "ellipsecenter"
   ]
  },
  {
   "cell_type": "code",
   "execution_count": 58,
   "metadata": {},
   "outputs": [],
   "source": [
    "def getEllipsecenter(ecc,rad,theta, useperihelion):\n",
    "    #ind of use perihelion\n",
    "    rp=rad*(1-ecc)\n",
    "    ra=-rad*(1+ecc)\n",
    "    rcent=(rp+ra)/2\n",
    "    #print(rp,ra,rcent)\n",
    "    rcentx=rcent*np.cos(theta)\n",
    "    rcenty=rcent* np.sin(theta)\n",
    "    return [rcentx,rcenty]"
   ]
  },
  {
   "cell_type": "code",
   "execution_count": 59,
   "metadata": {},
   "outputs": [
    {
     "data": {
      "text/plain": [
       "array([-2.50000000e+01, -1.22474487e-03])"
      ]
     },
     "execution_count": 59,
     "metadata": {},
     "output_type": "execute_result"
    }
   ],
   "source": [
    "(np.array(coordap)+np.array(coordper))/2"
   ]
  },
  {
   "cell_type": "code",
   "execution_count": 60,
   "metadata": {},
   "outputs": [
    {
     "data": {
      "text/plain": [
       "[-25.0, -0.0]"
      ]
     },
     "execution_count": 60,
     "metadata": {},
     "output_type": "execute_result"
    }
   ],
   "source": [
    "getEllipsecenter(ecc0,rad0,theta0, True)"
   ]
  },
  {
   "cell_type": "code",
   "execution_count": 61,
   "metadata": {},
   "outputs": [
    {
     "data": {
      "text/plain": [
       "-90.0"
      ]
     },
     "execution_count": 61,
     "metadata": {},
     "output_type": "execute_result"
    }
   ],
   "source": [
    "np.arctan2(-1.,0)/math.pi*180"
   ]
  },
  {
   "cell_type": "code",
   "execution_count": 62,
   "metadata": {},
   "outputs": [],
   "source": [
    "def getEang(npstar2x,ecc,rad,theta, useperihelion):\n",
    "    ellipsecenter=getEllipsecenter(ecc,rad,theta, useperihelion)\n",
    "    #print(ellipsecenter)\n",
    "    #print(npstar1x)\n",
    "    #print(npstar1x[:,0])\n",
    "    xfortan=npstar2x[:,0]-ellipsecenter[0]\n",
    "    yfortan=npstar2x[:,1]-ellipsecenter[1]\n",
    "    #print(\"xy\",xfortan,yfortan)\n",
    "    Eang=np.arctan2(yfortan,xfortan)\n",
    "    Eangtheta=2*np.arctan2(np.sqrt(1-ecc)*np.sin(theta/2.),np.sqrt(1+ecc)*np.cos(theta/2.))\n",
    "    Eang-=Eangtheta\n",
    "    #if useperihelion:\n",
    "    #    Eang-=math.pi\n",
    "    print(len(Eang))\n",
    "    for i in np.arange(len(Eang)):\n",
    "        #if xfortan[i]<0:\n",
    "        #    Eang[i]+=math.pi\n",
    "        if Eang[i]<0:\n",
    "            Eang[i]+=2*math.pi\n",
    "    print(xfortan,yfortan,Eang/math.pi*180)\n",
    "    print(\"Eang\",Eang)\n",
    "    return xfortan, yfortan,Eang"
   ]
  },
  {
   "cell_type": "code",
   "execution_count": 63,
   "metadata": {},
   "outputs": [
    {
     "data": {
      "text/plain": [
       "-3.1412939168636456"
      ]
     },
     "execution_count": 63,
     "metadata": {},
     "output_type": "execute_result"
    }
   ],
   "source": [
    "np.arctan2(-6.69327422*10**-6, -0.02240526)"
   ]
  },
  {
   "cell_type": "code",
   "execution_count": 64,
   "metadata": {},
   "outputs": [],
   "source": [
    "def xofeccanom(rad,Eang,ecc):\n",
    "    return rad*(np.cos(Eang)+ecc)"
   ]
  },
  {
   "cell_type": "code",
   "execution_count": 65,
   "metadata": {},
   "outputs": [],
   "source": [
    "def yofeccanom(rad, Eang, ecc):\n",
    "    b=getsemiminor(rad,ecc)\n",
    "    return b*np.sin(Eang) "
   ]
  },
  {
   "cell_type": "code",
   "execution_count": 66,
   "metadata": {},
   "outputs": [],
   "source": [
    "def tofEccAnom(npstar2x, rad,ecc,theta,mass, useperihelion):\n",
    "    xE0,yE0,Eang=getEang(npstar2x,ecc,rad,theta, useperihelion)\n",
    "    b=getsemiminor(rad,ecc)\n",
    "    #fitval=rad*b*(Eang-ecc*np.sin(Eang))\n",
    "    sgn=-1\n",
    "    if useperihelion:\n",
    "        sgn*=-1\n",
    "    # added a factor of 2 in front of fitval\n",
    "    fitval=rad**(1.5)*mass**(-.5)*(Eang-sgn*ecc*np.sin(Eang))\n",
    "    fitval*=2\n",
    "    print(Eang, ecc,rad,mass,fitval)\n",
    "    return fitval"
   ]
  },
  {
   "cell_type": "code",
   "execution_count": 67,
   "metadata": {},
   "outputs": [],
   "source": [
    "def residualtEang(pars,nptimes,npstar2x):\n",
    "    residual=np.abs(nptimes-tofEccAnom(npstar2x,pars['rad'],pars['ecc'],pars['theta'],pars['mass'],pars['useperihelion']))\n",
    "    #print(nptimes, residual)\n",
    "    return residual"
   ]
  },
  {
   "cell_type": "code",
   "execution_count": 68,
   "metadata": {},
   "outputs": [],
   "source": [
    "endindex=apindex\n",
    "if useperihelion:\n",
    "    endindex=perindex"
   ]
  },
  {
   "cell_type": "code",
   "execution_count": 69,
   "metadata": {},
   "outputs": [
    {
     "data": {
      "text/plain": [
       "1"
      ]
     },
     "execution_count": 69,
     "metadata": {},
     "output_type": "execute_result"
    }
   ],
   "source": [
    "endindex"
   ]
  },
  {
   "cell_type": "code",
   "execution_count": 70,
   "metadata": {},
   "outputs": [
    {
     "name": "stdout",
     "output_type": "stream",
     "text": [
      "0\n",
      "[] [] []\n",
      "Eang []\n"
     ]
    }
   ],
   "source": [
    "xE0,yE0,Eang0=getEang(npstar2x[0:endindex-1,:],ecc0,rad0,theta0, useperihelion)"
   ]
  },
  {
   "cell_type": "code",
   "execution_count": 71,
   "metadata": {},
   "outputs": [],
   "source": [
    "nptimesoneorbit=nptimes[0:endindex-1]"
   ]
  },
  {
   "cell_type": "code",
   "execution_count": 72,
   "metadata": {},
   "outputs": [
    {
     "data": {
      "text/plain": [
       "[<matplotlib.lines.Line2D at 0x7f661f654eb0>]"
      ]
     },
     "execution_count": 72,
     "metadata": {},
     "output_type": "execute_result"
    },
    {
     "data": {
      "image/png": "[encoded data removed]",
      "text/plain": [
       "<Figure size 432x288 with 1 Axes>"
      ]
     },
     "metadata": {
      "needs_background": "light"
     },
     "output_type": "display_data"
    }
   ],
   "source": [
    "plt.plot(Eang0, xE0)"
   ]
  },
  {
   "cell_type": "code",
   "execution_count": 73,
   "metadata": {},
   "outputs": [
    {
     "data": {
      "text/plain": [
       "[<matplotlib.lines.Line2D at 0x7f661f61bc70>]"
      ]
     },
     "execution_count": 73,
     "metadata": {},
     "output_type": "execute_result"
    },
    {
     "data": {
      "image/png": "[encoded data removed]",
      "text/plain": [
       "<Figure size 432x288 with 1 Axes>"
      ]
     },
     "metadata": {
      "needs_background": "light"
     },
     "output_type": "display_data"
    }
   ],
   "source": [
    "plt.plot(Eang0, yE0)"
   ]
  },
  {
   "cell_type": "code",
   "execution_count": 74,
   "metadata": {},
   "outputs": [
    {
     "data": {
      "text/plain": [
       "[<matplotlib.lines.Line2D at 0x7f661f67cf10>]"
      ]
     },
     "execution_count": 74,
     "metadata": {},
     "output_type": "execute_result"
    },
    {
     "data": {
      "image/png": "[encoded data removed]",
      "text/plain": [
       "<Figure size 432x288 with 1 Axes>"
      ]
     },
     "metadata": {
      "needs_background": "light"
     },
     "output_type": "display_data"
    }
   ],
   "source": [
    "plt.plot(xE0,yE0)"
   ]
  },
  {
   "cell_type": "code",
   "execution_count": 75,
   "metadata": {},
   "outputs": [
    {
     "data": {
      "text/plain": [
       "[<matplotlib.lines.Line2D at 0x7f661f779e80>]"
      ]
     },
     "execution_count": 75,
     "metadata": {},
     "output_type": "execute_result"
    },
    {
     "data": {
      "image/png": "[encoded data removed]",
      "text/plain": [
       "<Figure size 432x288 with 1 Axes>"
      ]
     },
     "metadata": {
      "needs_background": "light"
     },
     "output_type": "display_data"
    }
   ],
   "source": [
    "plt.plot(nptimesoneorbit,xE0)"
   ]
  },
  {
   "cell_type": "code",
   "execution_count": null,
   "metadata": {},
   "outputs": [],
   "source": []
  },
  {
   "cell_type": "code",
   "execution_count": 76,
   "metadata": {},
   "outputs": [
    {
     "data": {
      "text/plain": [
       "[<matplotlib.lines.Line2D at 0x7f661f8771f0>]"
      ]
     },
     "execution_count": 76,
     "metadata": {},
     "output_type": "execute_result"
    },
    {
     "data": {
      "image/png": "[encoded data removed]",
      "text/plain": [
       "<Figure size 432x288 with 1 Axes>"
      ]
     },
     "metadata": {
      "needs_background": "light"
     },
     "output_type": "display_data"
    }
   ],
   "source": [
    "plt.plot(nptimesoneorbit,yE0)"
   ]
  },
  {
   "cell_type": "code",
   "execution_count": 77,
   "metadata": {},
   "outputs": [
    {
     "data": {
      "text/plain": [
       "[<matplotlib.lines.Line2D at 0x7f661f8955e0>]"
      ]
     },
     "execution_count": 77,
     "metadata": {},
     "output_type": "execute_result"
    },
    {
     "data": {
      "image/png": "[encoded data removed]",
      "text/plain": [
       "<Figure size 432x288 with 1 Axes>"
      ]
     },
     "metadata": {
      "needs_background": "light"
     },
     "output_type": "display_data"
    }
   ],
   "source": [
    "plt.plot(nptimesoneorbit,yE0/xE0)"
   ]
  },
  {
   "cell_type": "code",
   "execution_count": 78,
   "metadata": {},
   "outputs": [
    {
     "data": {
      "text/plain": [
       "0.0"
      ]
     },
     "execution_count": 78,
     "metadata": {},
     "output_type": "execute_result"
    }
   ],
   "source": [
    "np.arctan(0./1.)"
   ]
  },
  {
   "cell_type": "code",
   "execution_count": 79,
   "metadata": {},
   "outputs": [
    {
     "ename": "IndexError",
     "evalue": "index 0 is out of bounds for axis 0 with size 0",
     "output_type": "error",
     "traceback": [
      "\u001b[0;31m---------------------------------------------------------------------------\u001b[0m",
      "\u001b[0;31mIndexError\u001b[0m                                Traceback (most recent call last)",
      "\u001b[0;32m<ipython-input-79-efa18b32bcf1>\u001b[0m in \u001b[0;36m<module>\u001b[0;34m\u001b[0m\n\u001b[0;32m----> 1\u001b[0;31m \u001b[0myE0\u001b[0m\u001b[0;34m[\u001b[0m\u001b[0;36m0\u001b[0m\u001b[0;34m]\u001b[0m\u001b[0;34m\u001b[0m\u001b[0;34m\u001b[0m\u001b[0m\n\u001b[0m",
      "\u001b[0;31mIndexError\u001b[0m: index 0 is out of bounds for axis 0 with size 0"
     ]
    }
   ],
   "source": [
    "yE0[0]"
   ]
  },
  {
   "cell_type": "code",
   "execution_count": null,
   "metadata": {},
   "outputs": [],
   "source": [
    "xE0[0]"
   ]
  },
  {
   "cell_type": "code",
   "execution_count": null,
   "metadata": {},
   "outputs": [],
   "source": [
    "plt.plot(nptimesoneorbit,np.arctan2(yE0,xE0)*180/math.pi)"
   ]
  },
  {
   "cell_type": "code",
   "execution_count": null,
   "metadata": {},
   "outputs": [],
   "source": [
    "Eangtest=tofEccAnom(npstar2x[0:endindex-1,:],rad0,ecc0,theta0,masses[0], useperihelion)"
   ]
  },
  {
   "cell_type": "code",
   "execution_count": null,
   "metadata": {},
   "outputs": [],
   "source": [
    "np.max(Eangtest)"
   ]
  },
  {
   "cell_type": "code",
   "execution_count": null,
   "metadata": {},
   "outputs": [],
   "source": [
    "nptimes[0]"
   ]
  },
  {
   "cell_type": "code",
   "execution_count": null,
   "metadata": {},
   "outputs": [],
   "source": [
    "nptimesoneorbit=nptimes[0:endindex-1]"
   ]
  },
  {
   "cell_type": "code",
   "execution_count": null,
   "metadata": {},
   "outputs": [],
   "source": [
    "tpredoneorbit=Eangtest[0:endindex-1]"
   ]
  },
  {
   "cell_type": "code",
   "execution_count": null,
   "metadata": {},
   "outputs": [],
   "source": [
    "Eangoneorbit=Eang0[0:endindex-1]"
   ]
  },
  {
   "cell_type": "code",
   "execution_count": null,
   "metadata": {},
   "outputs": [],
   "source": [
    "plt.plot(nptimesoneorbit,npstar2x[0:endindex-1,1])"
   ]
  },
  {
   "cell_type": "code",
   "execution_count": null,
   "metadata": {},
   "outputs": [],
   "source": [
    "plt.plot(nptimesoneorbit,Eangoneorbit/math.pi*180)"
   ]
  },
  {
   "cell_type": "code",
   "execution_count": null,
   "metadata": {},
   "outputs": [],
   "source": [
    "plt.plot(nptimesoneorbit,tpredoneorbit)"
   ]
  },
  {
   "cell_type": "code",
   "execution_count": null,
   "metadata": {},
   "outputs": [],
   "source": [
    "plt.plot(nptimesoneorbit,tpredoneorbit, label='times')\n",
    "plt.xlabel(\"T timesteps\")\n",
    "plt.ylabel(\"T computed from angle\")\n",
    "plt.title(\"Times using start parameters\")\n",
    "plt.show()\n",
    "plt.plot(nptimesoneorbit,tpredoneorbit-nptimesoneorbit, label='residual')\n",
    "plt.legend()\n",
    "plt.show()\n"
   ]
  },
  {
   "cell_type": "markdown",
   "metadata": {},
   "source": [
    "# THERE IS A SECOND HARMONIC IN THIS TIMING DATA!!! I have heard of orbital resonances. Is that what I am seeing?"
   ]
  },
  {
   "cell_type": "code",
   "execution_count": null,
   "metadata": {},
   "outputs": [],
   "source": [
    "from matplotlib import pyplot as plt"
   ]
  },
  {
   "cell_type": "markdown",
   "metadata": {},
   "source": [
    "Arctan function is giving tangent output. I'm done for today. I'm asking for help on this, either Steve or on a forum. Clearly something really weird is going on. This is a distinct problem from the retrograde motion I had before I fixed the center, which you can tell from the sharply spiked top as opposed to the curved top I had before. Now the center appears to be in the correct location but there is some problem related to tangent versus arctangent. "
   ]
  },
  {
   "cell_type": "code",
   "execution_count": null,
   "metadata": {},
   "outputs": [],
   "source": [
    "plt.scatter(nptimesoneorbit,tpredoneorbit)"
   ]
  },
  {
   "cell_type": "markdown",
   "metadata": {},
   "source": [
    "Retrograde motion as seen from the center of mass. I'm not sure that makes sense. So there's a problem with the definition of the Eang. The problem might be with the ellipse center, which probably shouldn't be at x=-70, if it spans between +5 and -95. "
   ]
  },
  {
   "cell_type": "code",
   "execution_count": null,
   "metadata": {},
   "outputs": [],
   "source": [
    "from lmfit import Minimizer,Parameters\n",
    "pfittEang = Parameters()\n",
    "pfittEang.add(name='theta', value=theta0, min=theta0-math.pi, max=theta0+math.pi, vary=True)\n",
    "pfittEang.add(name='rad', value=rad0, min=0, vary=True)\n",
    "pfittEang.add(name='ecc', value=ecc0, min=0, max=1.0, vary=True)\n",
    "pfittEang.add(name='mass', value=masses[0], vary=False)\n",
    "pfittEang.add(name='useperihelion', value=True, vary=False)\n",
    "\n",
    "minit = Minimizer(residualtEang, pfittEang, fcn_args=(nptimesoneorbit,npstar2x[:endindex-1,:]))\n",
    "\n",
    "outt = minit.leastsq()"
   ]
  },
  {
   "cell_type": "code",
   "execution_count": null,
   "metadata": {},
   "outputs": [],
   "source": [
    "outt"
   ]
  },
  {
   "cell_type": "markdown",
   "metadata": {},
   "source": [
    "Eccentricity fit is still not great for eccentricity of 0.9 (0.99), but radius fit is pretty good. The chi square is enormous. Eccentricity of 0.5 looks somewhat better (ecc 0.51) but still has a large chisquared and generates a potentially helpful divide by zero warning in the fit. "
   ]
  },
  {
   "cell_type": "code",
   "execution_count": null,
   "metadata": {},
   "outputs": [],
   "source": [
    "tfinal=nptimesoneorbit[endindex-2]\n",
    "tfinal"
   ]
  },
  {
   "cell_type": "markdown",
   "metadata": {},
   "source": [
    "Updated Jupyter and python packages and angular momentum and energy conservation improved by many orders of magnitude, but the fit is about the same. deltaL and deltaE are now consistent with roundoff error. "
   ]
  },
  {
   "cell_type": "markdown",
   "metadata": {},
   "source": []
  },
  {
   "cell_type": "markdown",
   "metadata": {},
   "source": []
  },
  {
   "cell_type": "code",
   "execution_count": null,
   "metadata": {},
   "outputs": [],
   "source": [
    "from scipy.fft import fft"
   ]
  },
  {
   "cell_type": "code",
   "execution_count": null,
   "metadata": {},
   "outputs": [],
   "source": [
    "from scipy.signal import blackman\n",
    "wndow=blackman(len(nptimesoneorbit))"
   ]
  },
  {
   "cell_type": "code",
   "execution_count": null,
   "metadata": {},
   "outputs": [],
   "source": [
    "ftresiduals=fft(nptimesoneorbit-tpredoneorbit)"
   ]
  },
  {
   "cell_type": "code",
   "execution_count": null,
   "metadata": {},
   "outputs": [],
   "source": [
    "xf = np.linspace(0.0, 1.0/(2.0*dt), len(nptimesoneorbit)//2)"
   ]
  },
  {
   "cell_type": "code",
   "execution_count": null,
   "metadata": {},
   "outputs": [],
   "source": [
    "plt.semilogy(xf[1:len(nptimesoneorbit)//2], 2.0/len(nptimesoneorbit) * np.abs(ftresiduals[1:len(nptimesoneorbit)//2]), '-b')"
   ]
  },
  {
   "cell_type": "code",
   "execution_count": null,
   "metadata": {},
   "outputs": [],
   "source": [
    "ftr=fft(np.sqrt(npstar1x[:endindex-1,0]**2+npstar1x[:endindex-1,1]**2))"
   ]
  },
  {
   "cell_type": "code",
   "execution_count": null,
   "metadata": {},
   "outputs": [],
   "source": [
    "plt.xlabel(\"frequency\")\n",
    "plt.ylabel(\"Fourier transform of t(E)\")\n",
    "plt.title(\"Fourier transform of time computed from eccentric anomaly\")\n",
    "plt.semilogy(xf[1:len(nptimesoneorbit)//2], 2.0/len(nptimesoneorbit) * np.abs(ftr[1:len(nptimesoneorbit)//2]), '-b')"
   ]
  },
  {
   "cell_type": "markdown",
   "metadata": {},
   "source": [
    "This is the fourier transform of the triangle wave."
   ]
  },
  {
   "cell_type": "code",
   "execution_count": null,
   "metadata": {},
   "outputs": [],
   "source": [
    "plt.title(\"Fourier transform of residuals of times\")\n",
    "plt.xlabel(\"frequency\")\n",
    "plt.ylabel(\"FT(t(E))\")\n",
    "plt.semilogy(xf[1:50], 2.0/len(nptimesoneorbit) * np.abs(ftresiduals[1:50]), '-b')"
   ]
  },
  {
   "cell_type": "code",
   "execution_count": null,
   "metadata": {},
   "outputs": [],
   "source": [
    "plt.xlabel(\"bin number\")\n",
    "plt.ylabel(\"FT(t(E))\")\n",
    "plt.title(\"Fourier transform of residuals of times\")\n",
    "plt.semilogy(np.arange(1,30), 2.0/len(nptimesoneorbit[:29]) * np.abs(ftresiduals[1:30]), '*b')"
   ]
  },
  {
   "cell_type": "markdown",
   "metadata": {},
   "source": [
    "Peak at the second harmonic and the sixth harmonic. The second harmonic seems natural due to the symmetry of the orbit but the sixth harmonic is harder to explain. "
   ]
  },
  {
   "cell_type": "markdown",
   "metadata": {},
   "source": []
  },
  {
   "cell_type": "markdown",
   "metadata": {},
   "source": [
    "Implementing the Adaptive RK4 hasn't changed the fit, residuals, or harmonics, sadly. There is still a 2% error in the fit for an eccentricity of 0.5"
   ]
  },
  {
   "cell_type": "code",
   "execution_count": null,
   "metadata": {},
   "outputs": [],
   "source": []
  },
  {
   "cell_type": "code",
   "execution_count": null,
   "metadata": {},
   "outputs": [],
   "source": []
  },
  {
   "cell_type": "code",
   "execution_count": null,
   "metadata": {},
   "outputs": [],
   "source": []
  },
  {
   "cell_type": "code",
   "execution_count": null,
   "metadata": {},
   "outputs": [],
   "source": []
  },
  {
   "cell_type": "code",
   "execution_count": null,
   "metadata": {},
   "outputs": [],
   "source": []
  },
  {
   "cell_type": "code",
   "execution_count": null,
   "metadata": {},
   "outputs": [],
   "source": []
  }
 ],
 "metadata": {
  "kernelspec": {
   "display_name": "Python 3",
   "language": "python",
   "name": "python3"
  },
  "language_info": {
   "codemirror_mode": {
    "name": "ipython",
    "version": 3
   },
   "file_extension": ".py",
   "mimetype": "text/x-python",
   "name": "python",
   "nbconvert_exporter": "python",
   "pygments_lexer": "ipython3",
   "version": "3.8.2"
  }
 },
 "nbformat": 4,
 "nbformat_minor": 2
}
